{
  "cells": [
    {
      "cell_type": "markdown",
      "metadata": {
        "id": "MdE7M5oIV0x2"
      },
      "source": [
        "# IMPORT LIBRARIES"
      ]
    },
    {
      "cell_type": "code",
      "execution_count": 1,
      "metadata": {
        "execution": {
          "iopub.execute_input": "2023-09-19T12:38:58.766228Z",
          "iopub.status.busy": "2023-09-19T12:38:58.765825Z",
          "iopub.status.idle": "2023-09-19T12:39:04.147837Z",
          "shell.execute_reply": "2023-09-19T12:39:04.146306Z",
          "shell.execute_reply.started": "2023-09-19T12:38:58.766194Z"
        },
        "id": "tTcMnHTNUcj_",
        "trusted": true
      },
      "outputs": [],
      "source": [
        "import pandas as pd\n",
        "import numpy as np\n",
        "import matplotlib.pyplot as plt\n",
        "import seaborn as sns\n",
        "import time\n",
        "\n",
        "from sklearn.model_selection import train_test_split\n",
        "from sklearn.preprocessing import MinMaxScaler\n",
        "from sklearn.ensemble import RandomForestClassifier\n",
        "from sklearn.preprocessing import LabelEncoder\n",
        "\n",
        "from sklearn.metrics import *\n",
        "\n",
        "import keras\n",
        "from keras.layers import Conv2D, Conv1D, MaxPooling2D, MaxPooling1D, Flatten, BatchNormalization, Dense, Dropout,GlobalMaxPooling1D\n",
        "#from keras.utils.np_utils import to_categorical\n",
        "from keras.models import Sequential\n",
        "\n",
        "np.random.seed(0)\n",
        "%matplotlib inline\n",
        "pd.set_option('display.max_columns', None)"
      ]
    },
    {
      "cell_type": "code",
      "source": [
        "from google.colab import drive\n",
        "drive.mount('/content/drive')"
      ],
      "metadata": {
        "colab": {
          "base_uri": "https://localhost:8080/"
        },
        "id": "TezBSIww_tpY",
        "outputId": "e1936c73-420d-4394-dd0a-2a72477be55c"
      },
      "execution_count": 2,
      "outputs": [
        {
          "output_type": "stream",
          "name": "stdout",
          "text": [
            "Mounted at /content/drive\n"
          ]
        }
      ]
    },
    {
      "cell_type": "markdown",
      "metadata": {
        "id": "3WpViLBtWFqk"
      },
      "source": [
        "# **Preprocessing Data**"
      ]
    },
    {
      "cell_type": "code",
      "execution_count": 3,
      "metadata": {
        "colab": {
          "base_uri": "https://localhost:8080/",
          "height": 0
        },
        "execution": {
          "iopub.execute_input": "2023-09-19T12:39:04.151558Z",
          "iopub.status.busy": "2023-09-19T12:39:04.150109Z",
          "iopub.status.idle": "2023-09-19T12:39:24.976501Z",
          "shell.execute_reply": "2023-09-19T12:39:24.975230Z",
          "shell.execute_reply.started": "2023-09-19T12:39:04.151511Z"
        },
        "id": "g4q8fHxjWFDR",
        "outputId": "2d208608-4a0e-41f4-99be-17eac7546fcd",
        "trusted": true
      },
      "outputs": [
        {
          "output_type": "stream",
          "name": "stderr",
          "text": [
            "<ipython-input-3-9348c4072206>:1: DtypeWarning: Columns (8,14) have mixed types. Specify dtype option on import or set low_memory=False.\n",
            "  df1 = pd.read_csv('/content/drive/MyDrive/Colab Notebooks/data/CIDDS-001/reduced_cidds_001_normal_portscan_pingscan.csv')\n",
            "<ipython-input-3-9348c4072206>:4: DtypeWarning: Columns (8,14) have mixed types. Specify dtype option on import or set low_memory=False.\n",
            "  df2 = pd.read_csv('/content/drive/MyDrive/Colab Notebooks/data/CIDDS-002/reduced_cidds_002_normal_scan.csv')\n"
          ]
        },
        {
          "output_type": "execute_result",
          "data": {
            "text/plain": [
              "                 Date first seen  Duration  Proto     Src IP Addr  Src Pt  \\\n",
              "0        2017-03-23 13:40:24.221     0.134  TCP         10305_148     443   \n",
              "1        2017-03-22 16:15:56.404     0.000  TCP         10001_230     443   \n",
              "2        2017-04-18 10:09:51.492     0.508  TCP         16796_188     443   \n",
              "3        2017-03-15 11:23:38.445     0.095  TCP           10068_2     443   \n",
              "4        2017-03-23 16:59:50.774     0.000  TCP          15306_50      80   \n",
              "...                          ...       ...    ...             ...     ...   \n",
              "5231831  2017-08-08 19:52:49.297     0.000  TCP    192.168.210.56    5907   \n",
              "5231832  2017-08-08 19:52:49.296     0.000  TCP    192.168.210.56       3   \n",
              "5231833  2017-08-08 19:52:49.296     0.000  TCP    192.168.210.56   32778   \n",
              "5231834  2017-08-08 19:52:49.296     0.000  TCP    192.168.210.56    8800   \n",
              "5231835  2017-08-08 19:52:49.288     0.000  TCP    192.168.220.51   47529   \n",
              "\n",
              "            Dst IP Addr   Dst Pt  Packets     Bytes  Flows   Flags  Tos  \\\n",
              "0         192.168.210.5  50210.0        5       449      1  .AP.S.   32   \n",
              "1        192.168.220.15  44214.0        1       462      1  .AP...    0   \n",
              "2         192.168.200.4  42941.0        7      6203      1  .AP.S.   32   \n",
              "3         192.168.220.8  58538.0        5      1246      1  .AP...   32   \n",
              "4        192.168.220.13  41670.0        1        66      1  .A....   32   \n",
              "...                 ...      ...      ...       ...    ...     ...  ...   \n",
              "5231831  192.168.220.51  47529.0        1        54      1  .A.R..    0   \n",
              "5231832  192.168.220.51  47529.0        1        54      1  .A.R..    0   \n",
              "5231833  192.168.220.51  47529.0        1        54      1  .A.R..    0   \n",
              "5231834  192.168.220.51  47529.0        1        54      1  .A.R..    0   \n",
              "5231835  192.168.210.56   6881.0        1        58      1  ....S.    0   \n",
              "\n",
              "            label attackType attackID    attackDescription  \n",
              "0          normal        ---      ---                  ---  \n",
              "1          normal        ---      ---                  ---  \n",
              "2          normal        ---      ---                  ---  \n",
              "3          normal        ---      ---                  ---  \n",
              "4          normal        ---      ---                  ---  \n",
              "...           ...        ...      ...                  ...  \n",
              "5231831    victim       scan       20  nmap args: -sS -T 2  \n",
              "5231832    victim       scan       20  nmap args: -sS -T 2  \n",
              "5231833    victim       scan       20  nmap args: -sS -T 2  \n",
              "5231834    victim       scan       20  nmap args: -sS -T 2  \n",
              "5231835  attacker       scan       20  nmap args: -sS -T 2  \n",
              "\n",
              "[5231836 rows x 16 columns]"
            ],
            "text/html": [
              "\n",
              "  <div id=\"df-6d7127bb-425e-43c1-88a5-56a433725528\" class=\"colab-df-container\">\n",
              "    <div>\n",
              "<style scoped>\n",
              "    .dataframe tbody tr th:only-of-type {\n",
              "        vertical-align: middle;\n",
              "    }\n",
              "\n",
              "    .dataframe tbody tr th {\n",
              "        vertical-align: top;\n",
              "    }\n",
              "\n",
              "    .dataframe thead th {\n",
              "        text-align: right;\n",
              "    }\n",
              "</style>\n",
              "<table border=\"1\" class=\"dataframe\">\n",
              "  <thead>\n",
              "    <tr style=\"text-align: right;\">\n",
              "      <th></th>\n",
              "      <th>Date first seen</th>\n",
              "      <th>Duration</th>\n",
              "      <th>Proto</th>\n",
              "      <th>Src IP Addr</th>\n",
              "      <th>Src Pt</th>\n",
              "      <th>Dst IP Addr</th>\n",
              "      <th>Dst Pt</th>\n",
              "      <th>Packets</th>\n",
              "      <th>Bytes</th>\n",
              "      <th>Flows</th>\n",
              "      <th>Flags</th>\n",
              "      <th>Tos</th>\n",
              "      <th>label</th>\n",
              "      <th>attackType</th>\n",
              "      <th>attackID</th>\n",
              "      <th>attackDescription</th>\n",
              "    </tr>\n",
              "  </thead>\n",
              "  <tbody>\n",
              "    <tr>\n",
              "      <th>0</th>\n",
              "      <td>2017-03-23 13:40:24.221</td>\n",
              "      <td>0.134</td>\n",
              "      <td>TCP</td>\n",
              "      <td>10305_148</td>\n",
              "      <td>443</td>\n",
              "      <td>192.168.210.5</td>\n",
              "      <td>50210.0</td>\n",
              "      <td>5</td>\n",
              "      <td>449</td>\n",
              "      <td>1</td>\n",
              "      <td>.AP.S.</td>\n",
              "      <td>32</td>\n",
              "      <td>normal</td>\n",
              "      <td>---</td>\n",
              "      <td>---</td>\n",
              "      <td>---</td>\n",
              "    </tr>\n",
              "    <tr>\n",
              "      <th>1</th>\n",
              "      <td>2017-03-22 16:15:56.404</td>\n",
              "      <td>0.000</td>\n",
              "      <td>TCP</td>\n",
              "      <td>10001_230</td>\n",
              "      <td>443</td>\n",
              "      <td>192.168.220.15</td>\n",
              "      <td>44214.0</td>\n",
              "      <td>1</td>\n",
              "      <td>462</td>\n",
              "      <td>1</td>\n",
              "      <td>.AP...</td>\n",
              "      <td>0</td>\n",
              "      <td>normal</td>\n",
              "      <td>---</td>\n",
              "      <td>---</td>\n",
              "      <td>---</td>\n",
              "    </tr>\n",
              "    <tr>\n",
              "      <th>2</th>\n",
              "      <td>2017-04-18 10:09:51.492</td>\n",
              "      <td>0.508</td>\n",
              "      <td>TCP</td>\n",
              "      <td>16796_188</td>\n",
              "      <td>443</td>\n",
              "      <td>192.168.200.4</td>\n",
              "      <td>42941.0</td>\n",
              "      <td>7</td>\n",
              "      <td>6203</td>\n",
              "      <td>1</td>\n",
              "      <td>.AP.S.</td>\n",
              "      <td>32</td>\n",
              "      <td>normal</td>\n",
              "      <td>---</td>\n",
              "      <td>---</td>\n",
              "      <td>---</td>\n",
              "    </tr>\n",
              "    <tr>\n",
              "      <th>3</th>\n",
              "      <td>2017-03-15 11:23:38.445</td>\n",
              "      <td>0.095</td>\n",
              "      <td>TCP</td>\n",
              "      <td>10068_2</td>\n",
              "      <td>443</td>\n",
              "      <td>192.168.220.8</td>\n",
              "      <td>58538.0</td>\n",
              "      <td>5</td>\n",
              "      <td>1246</td>\n",
              "      <td>1</td>\n",
              "      <td>.AP...</td>\n",
              "      <td>32</td>\n",
              "      <td>normal</td>\n",
              "      <td>---</td>\n",
              "      <td>---</td>\n",
              "      <td>---</td>\n",
              "    </tr>\n",
              "    <tr>\n",
              "      <th>4</th>\n",
              "      <td>2017-03-23 16:59:50.774</td>\n",
              "      <td>0.000</td>\n",
              "      <td>TCP</td>\n",
              "      <td>15306_50</td>\n",
              "      <td>80</td>\n",
              "      <td>192.168.220.13</td>\n",
              "      <td>41670.0</td>\n",
              "      <td>1</td>\n",
              "      <td>66</td>\n",
              "      <td>1</td>\n",
              "      <td>.A....</td>\n",
              "      <td>32</td>\n",
              "      <td>normal</td>\n",
              "      <td>---</td>\n",
              "      <td>---</td>\n",
              "      <td>---</td>\n",
              "    </tr>\n",
              "    <tr>\n",
              "      <th>...</th>\n",
              "      <td>...</td>\n",
              "      <td>...</td>\n",
              "      <td>...</td>\n",
              "      <td>...</td>\n",
              "      <td>...</td>\n",
              "      <td>...</td>\n",
              "      <td>...</td>\n",
              "      <td>...</td>\n",
              "      <td>...</td>\n",
              "      <td>...</td>\n",
              "      <td>...</td>\n",
              "      <td>...</td>\n",
              "      <td>...</td>\n",
              "      <td>...</td>\n",
              "      <td>...</td>\n",
              "      <td>...</td>\n",
              "    </tr>\n",
              "    <tr>\n",
              "      <th>5231831</th>\n",
              "      <td>2017-08-08 19:52:49.297</td>\n",
              "      <td>0.000</td>\n",
              "      <td>TCP</td>\n",
              "      <td>192.168.210.56</td>\n",
              "      <td>5907</td>\n",
              "      <td>192.168.220.51</td>\n",
              "      <td>47529.0</td>\n",
              "      <td>1</td>\n",
              "      <td>54</td>\n",
              "      <td>1</td>\n",
              "      <td>.A.R..</td>\n",
              "      <td>0</td>\n",
              "      <td>victim</td>\n",
              "      <td>scan</td>\n",
              "      <td>20</td>\n",
              "      <td>nmap args: -sS -T 2</td>\n",
              "    </tr>\n",
              "    <tr>\n",
              "      <th>5231832</th>\n",
              "      <td>2017-08-08 19:52:49.296</td>\n",
              "      <td>0.000</td>\n",
              "      <td>TCP</td>\n",
              "      <td>192.168.210.56</td>\n",
              "      <td>3</td>\n",
              "      <td>192.168.220.51</td>\n",
              "      <td>47529.0</td>\n",
              "      <td>1</td>\n",
              "      <td>54</td>\n",
              "      <td>1</td>\n",
              "      <td>.A.R..</td>\n",
              "      <td>0</td>\n",
              "      <td>victim</td>\n",
              "      <td>scan</td>\n",
              "      <td>20</td>\n",
              "      <td>nmap args: -sS -T 2</td>\n",
              "    </tr>\n",
              "    <tr>\n",
              "      <th>5231833</th>\n",
              "      <td>2017-08-08 19:52:49.296</td>\n",
              "      <td>0.000</td>\n",
              "      <td>TCP</td>\n",
              "      <td>192.168.210.56</td>\n",
              "      <td>32778</td>\n",
              "      <td>192.168.220.51</td>\n",
              "      <td>47529.0</td>\n",
              "      <td>1</td>\n",
              "      <td>54</td>\n",
              "      <td>1</td>\n",
              "      <td>.A.R..</td>\n",
              "      <td>0</td>\n",
              "      <td>victim</td>\n",
              "      <td>scan</td>\n",
              "      <td>20</td>\n",
              "      <td>nmap args: -sS -T 2</td>\n",
              "    </tr>\n",
              "    <tr>\n",
              "      <th>5231834</th>\n",
              "      <td>2017-08-08 19:52:49.296</td>\n",
              "      <td>0.000</td>\n",
              "      <td>TCP</td>\n",
              "      <td>192.168.210.56</td>\n",
              "      <td>8800</td>\n",
              "      <td>192.168.220.51</td>\n",
              "      <td>47529.0</td>\n",
              "      <td>1</td>\n",
              "      <td>54</td>\n",
              "      <td>1</td>\n",
              "      <td>.A.R..</td>\n",
              "      <td>0</td>\n",
              "      <td>victim</td>\n",
              "      <td>scan</td>\n",
              "      <td>20</td>\n",
              "      <td>nmap args: -sS -T 2</td>\n",
              "    </tr>\n",
              "    <tr>\n",
              "      <th>5231835</th>\n",
              "      <td>2017-08-08 19:52:49.288</td>\n",
              "      <td>0.000</td>\n",
              "      <td>TCP</td>\n",
              "      <td>192.168.220.51</td>\n",
              "      <td>47529</td>\n",
              "      <td>192.168.210.56</td>\n",
              "      <td>6881.0</td>\n",
              "      <td>1</td>\n",
              "      <td>58</td>\n",
              "      <td>1</td>\n",
              "      <td>....S.</td>\n",
              "      <td>0</td>\n",
              "      <td>attacker</td>\n",
              "      <td>scan</td>\n",
              "      <td>20</td>\n",
              "      <td>nmap args: -sS -T 2</td>\n",
              "    </tr>\n",
              "  </tbody>\n",
              "</table>\n",
              "<p>5231836 rows × 16 columns</p>\n",
              "</div>\n",
              "    <div class=\"colab-df-buttons\">\n",
              "\n",
              "  <div class=\"colab-df-container\">\n",
              "    <button class=\"colab-df-convert\" onclick=\"convertToInteractive('df-6d7127bb-425e-43c1-88a5-56a433725528')\"\n",
              "            title=\"Convert this dataframe to an interactive table.\"\n",
              "            style=\"display:none;\">\n",
              "\n",
              "  <svg xmlns=\"http://www.w3.org/2000/svg\" height=\"24px\" viewBox=\"0 -960 960 960\">\n",
              "    <path d=\"M120-120v-720h720v720H120Zm60-500h600v-160H180v160Zm220 220h160v-160H400v160Zm0 220h160v-160H400v160ZM180-400h160v-160H180v160Zm440 0h160v-160H620v160ZM180-180h160v-160H180v160Zm440 0h160v-160H620v160Z\"/>\n",
              "  </svg>\n",
              "    </button>\n",
              "\n",
              "  <style>\n",
              "    .colab-df-container {\n",
              "      display:flex;\n",
              "      gap: 12px;\n",
              "    }\n",
              "\n",
              "    .colab-df-convert {\n",
              "      background-color: #E8F0FE;\n",
              "      border: none;\n",
              "      border-radius: 50%;\n",
              "      cursor: pointer;\n",
              "      display: none;\n",
              "      fill: #1967D2;\n",
              "      height: 32px;\n",
              "      padding: 0 0 0 0;\n",
              "      width: 32px;\n",
              "    }\n",
              "\n",
              "    .colab-df-convert:hover {\n",
              "      background-color: #E2EBFA;\n",
              "      box-shadow: 0px 1px 2px rgba(60, 64, 67, 0.3), 0px 1px 3px 1px rgba(60, 64, 67, 0.15);\n",
              "      fill: #174EA6;\n",
              "    }\n",
              "\n",
              "    .colab-df-buttons div {\n",
              "      margin-bottom: 4px;\n",
              "    }\n",
              "\n",
              "    [theme=dark] .colab-df-convert {\n",
              "      background-color: #3B4455;\n",
              "      fill: #D2E3FC;\n",
              "    }\n",
              "\n",
              "    [theme=dark] .colab-df-convert:hover {\n",
              "      background-color: #434B5C;\n",
              "      box-shadow: 0px 1px 3px 1px rgba(0, 0, 0, 0.15);\n",
              "      filter: drop-shadow(0px 1px 2px rgba(0, 0, 0, 0.3));\n",
              "      fill: #FFFFFF;\n",
              "    }\n",
              "  </style>\n",
              "\n",
              "    <script>\n",
              "      const buttonEl =\n",
              "        document.querySelector('#df-6d7127bb-425e-43c1-88a5-56a433725528 button.colab-df-convert');\n",
              "      buttonEl.style.display =\n",
              "        google.colab.kernel.accessAllowed ? 'block' : 'none';\n",
              "\n",
              "      async function convertToInteractive(key) {\n",
              "        const element = document.querySelector('#df-6d7127bb-425e-43c1-88a5-56a433725528');\n",
              "        const dataTable =\n",
              "          await google.colab.kernel.invokeFunction('convertToInteractive',\n",
              "                                                    [key], {});\n",
              "        if (!dataTable) return;\n",
              "\n",
              "        const docLinkHtml = 'Like what you see? Visit the ' +\n",
              "          '<a target=\"_blank\" href=https://colab.research.google.com/notebooks/data_table.ipynb>data table notebook</a>'\n",
              "          + ' to learn more about interactive tables.';\n",
              "        element.innerHTML = '';\n",
              "        dataTable['output_type'] = 'display_data';\n",
              "        await google.colab.output.renderOutput(dataTable, element);\n",
              "        const docLink = document.createElement('div');\n",
              "        docLink.innerHTML = docLinkHtml;\n",
              "        element.appendChild(docLink);\n",
              "      }\n",
              "    </script>\n",
              "  </div>\n",
              "\n",
              "\n",
              "<div id=\"df-f6632d6d-d962-4439-87c8-882b4ed9bd92\">\n",
              "  <button class=\"colab-df-quickchart\" onclick=\"quickchart('df-f6632d6d-d962-4439-87c8-882b4ed9bd92')\"\n",
              "            title=\"Suggest charts.\"\n",
              "            style=\"display:none;\">\n",
              "\n",
              "<svg xmlns=\"http://www.w3.org/2000/svg\" height=\"24px\"viewBox=\"0 0 24 24\"\n",
              "     width=\"24px\">\n",
              "    <g>\n",
              "        <path d=\"M19 3H5c-1.1 0-2 .9-2 2v14c0 1.1.9 2 2 2h14c1.1 0 2-.9 2-2V5c0-1.1-.9-2-2-2zM9 17H7v-7h2v7zm4 0h-2V7h2v10zm4 0h-2v-4h2v4z\"/>\n",
              "    </g>\n",
              "</svg>\n",
              "  </button>\n",
              "\n",
              "<style>\n",
              "  .colab-df-quickchart {\n",
              "      --bg-color: #E8F0FE;\n",
              "      --fill-color: #1967D2;\n",
              "      --hover-bg-color: #E2EBFA;\n",
              "      --hover-fill-color: #174EA6;\n",
              "      --disabled-fill-color: #AAA;\n",
              "      --disabled-bg-color: #DDD;\n",
              "  }\n",
              "\n",
              "  [theme=dark] .colab-df-quickchart {\n",
              "      --bg-color: #3B4455;\n",
              "      --fill-color: #D2E3FC;\n",
              "      --hover-bg-color: #434B5C;\n",
              "      --hover-fill-color: #FFFFFF;\n",
              "      --disabled-bg-color: #3B4455;\n",
              "      --disabled-fill-color: #666;\n",
              "  }\n",
              "\n",
              "  .colab-df-quickchart {\n",
              "    background-color: var(--bg-color);\n",
              "    border: none;\n",
              "    border-radius: 50%;\n",
              "    cursor: pointer;\n",
              "    display: none;\n",
              "    fill: var(--fill-color);\n",
              "    height: 32px;\n",
              "    padding: 0;\n",
              "    width: 32px;\n",
              "  }\n",
              "\n",
              "  .colab-df-quickchart:hover {\n",
              "    background-color: var(--hover-bg-color);\n",
              "    box-shadow: 0 1px 2px rgba(60, 64, 67, 0.3), 0 1px 3px 1px rgba(60, 64, 67, 0.15);\n",
              "    fill: var(--button-hover-fill-color);\n",
              "  }\n",
              "\n",
              "  .colab-df-quickchart-complete:disabled,\n",
              "  .colab-df-quickchart-complete:disabled:hover {\n",
              "    background-color: var(--disabled-bg-color);\n",
              "    fill: var(--disabled-fill-color);\n",
              "    box-shadow: none;\n",
              "  }\n",
              "\n",
              "  .colab-df-spinner {\n",
              "    border: 2px solid var(--fill-color);\n",
              "    border-color: transparent;\n",
              "    border-bottom-color: var(--fill-color);\n",
              "    animation:\n",
              "      spin 1s steps(1) infinite;\n",
              "  }\n",
              "\n",
              "  @keyframes spin {\n",
              "    0% {\n",
              "      border-color: transparent;\n",
              "      border-bottom-color: var(--fill-color);\n",
              "      border-left-color: var(--fill-color);\n",
              "    }\n",
              "    20% {\n",
              "      border-color: transparent;\n",
              "      border-left-color: var(--fill-color);\n",
              "      border-top-color: var(--fill-color);\n",
              "    }\n",
              "    30% {\n",
              "      border-color: transparent;\n",
              "      border-left-color: var(--fill-color);\n",
              "      border-top-color: var(--fill-color);\n",
              "      border-right-color: var(--fill-color);\n",
              "    }\n",
              "    40% {\n",
              "      border-color: transparent;\n",
              "      border-right-color: var(--fill-color);\n",
              "      border-top-color: var(--fill-color);\n",
              "    }\n",
              "    60% {\n",
              "      border-color: transparent;\n",
              "      border-right-color: var(--fill-color);\n",
              "    }\n",
              "    80% {\n",
              "      border-color: transparent;\n",
              "      border-right-color: var(--fill-color);\n",
              "      border-bottom-color: var(--fill-color);\n",
              "    }\n",
              "    90% {\n",
              "      border-color: transparent;\n",
              "      border-bottom-color: var(--fill-color);\n",
              "    }\n",
              "  }\n",
              "</style>\n",
              "\n",
              "  <script>\n",
              "    async function quickchart(key) {\n",
              "      const quickchartButtonEl =\n",
              "        document.querySelector('#' + key + ' button');\n",
              "      quickchartButtonEl.disabled = true;  // To prevent multiple clicks.\n",
              "      quickchartButtonEl.classList.add('colab-df-spinner');\n",
              "      try {\n",
              "        const charts = await google.colab.kernel.invokeFunction(\n",
              "            'suggestCharts', [key], {});\n",
              "      } catch (error) {\n",
              "        console.error('Error during call to suggestCharts:', error);\n",
              "      }\n",
              "      quickchartButtonEl.classList.remove('colab-df-spinner');\n",
              "      quickchartButtonEl.classList.add('colab-df-quickchart-complete');\n",
              "    }\n",
              "    (() => {\n",
              "      let quickchartButtonEl =\n",
              "        document.querySelector('#df-f6632d6d-d962-4439-87c8-882b4ed9bd92 button');\n",
              "      quickchartButtonEl.style.display =\n",
              "        google.colab.kernel.accessAllowed ? 'block' : 'none';\n",
              "    })();\n",
              "  </script>\n",
              "</div>\n",
              "    </div>\n",
              "  </div>\n"
            ]
          },
          "metadata": {},
          "execution_count": 3
        }
      ],
      "source": [
        "df1 = pd.read_csv('/content/drive/MyDrive/Colab Notebooks/data/CIDDS-001/reduced_cidds_001_normal_portscan_pingscan.csv')\n",
        "df1 = df1.rename(columns={'class': 'label'})\n",
        "\n",
        "df2 = pd.read_csv('/content/drive/MyDrive/Colab Notebooks/data/CIDDS-002/reduced_cidds_002_normal_scan.csv')\n",
        "\n",
        "df = pd.concat([df1, df2], ignore_index=True)\n",
        "df"
      ]
    },
    {
      "cell_type": "code",
      "execution_count": 4,
      "metadata": {
        "colab": {
          "base_uri": "https://localhost:8080/"
        },
        "execution": {
          "iopub.execute_input": "2023-09-19T12:39:24.979043Z",
          "iopub.status.busy": "2023-09-19T12:39:24.977997Z",
          "iopub.status.idle": "2023-09-19T12:39:27.965991Z",
          "shell.execute_reply": "2023-09-19T12:39:27.964594Z",
          "shell.execute_reply.started": "2023-09-19T12:39:24.979003Z"
        },
        "id": "9fZ7PHG66ERc",
        "outputId": "fc9896b3-b903-4f35-906d-ab9577baf8ba",
        "trusted": true
      },
      "outputs": [
        {
          "output_type": "execute_result",
          "data": {
            "text/plain": [
              "Index(['Date first seen', 'Proto', 'Src IP Addr', 'Dst IP Addr', 'Bytes',\n",
              "       'Flags', 'label', 'attackType', 'attackID', 'attackDescription'],\n",
              "      dtype='object')"
            ]
          },
          "metadata": {},
          "execution_count": 4
        }
      ],
      "source": [
        "df.select_dtypes(include=['object']).columns"
      ]
    },
    {
      "cell_type": "code",
      "execution_count": 5,
      "metadata": {
        "colab": {
          "base_uri": "https://localhost:8080/"
        },
        "execution": {
          "iopub.execute_input": "2023-09-19T12:39:27.969901Z",
          "iopub.status.busy": "2023-09-19T12:39:27.969491Z",
          "iopub.status.idle": "2023-09-19T12:39:33.399052Z",
          "shell.execute_reply": "2023-09-19T12:39:33.397703Z",
          "shell.execute_reply.started": "2023-09-19T12:39:27.969867Z"
        },
        "id": "Mp891AAjrNWj",
        "outputId": "6c5d3878-e33b-402e-9d1a-1f3c1ba88494",
        "trusted": true
      },
      "outputs": [
        {
          "output_type": "execute_result",
          "data": {
            "text/plain": [
              "Date first seen      0\n",
              "Duration             0\n",
              "Proto                0\n",
              "Src IP Addr          0\n",
              "Src Pt               0\n",
              "Dst IP Addr          0\n",
              "Dst Pt               0\n",
              "Packets              0\n",
              "Bytes                0\n",
              "Flows                0\n",
              "Flags                0\n",
              "Tos                  0\n",
              "label                0\n",
              "attackType           0\n",
              "attackID             0\n",
              "attackDescription    0\n",
              "dtype: int64"
            ]
          },
          "metadata": {},
          "execution_count": 5
        }
      ],
      "source": [
        "df.isna().sum()"
      ]
    },
    {
      "cell_type": "code",
      "execution_count": 6,
      "metadata": {
        "colab": {
          "base_uri": "https://localhost:8080/"
        },
        "execution": {
          "iopub.execute_input": "2023-09-19T12:39:33.400846Z",
          "iopub.status.busy": "2023-09-19T12:39:33.400464Z",
          "iopub.status.idle": "2023-09-19T12:39:48.256241Z",
          "shell.execute_reply": "2023-09-19T12:39:48.254011Z",
          "shell.execute_reply.started": "2023-09-19T12:39:33.400813Z"
        },
        "id": "lub9xJ76rUT8",
        "outputId": "d0bf0366-9fea-4084-a683-230410d0bff1",
        "trusted": true
      },
      "outputs": [
        {
          "output_type": "execute_result",
          "data": {
            "text/plain": [
              "36568"
            ]
          },
          "metadata": {},
          "execution_count": 6
        }
      ],
      "source": [
        "df.duplicated().sum()"
      ]
    },
    {
      "cell_type": "code",
      "execution_count": 7,
      "metadata": {
        "colab": {
          "base_uri": "https://localhost:8080/"
        },
        "execution": {
          "iopub.execute_input": "2023-09-19T12:39:48.258447Z",
          "iopub.status.busy": "2023-09-19T12:39:48.257725Z",
          "iopub.status.idle": "2023-09-19T12:40:04.701571Z",
          "shell.execute_reply": "2023-09-19T12:40:04.700016Z",
          "shell.execute_reply.started": "2023-09-19T12:39:48.258410Z"
        },
        "id": "3JoH7dIXtMbf",
        "outputId": "b93f2c6e-7ecc-4d2b-b973-1940624ebc26",
        "trusted": true
      },
      "outputs": [
        {
          "output_type": "execute_result",
          "data": {
            "text/plain": [
              "(5195268, 16)"
            ]
          },
          "metadata": {},
          "execution_count": 7
        }
      ],
      "source": [
        "df.drop_duplicates(inplace = True)\n",
        "df.shape"
      ]
    },
    {
      "cell_type": "code",
      "execution_count": 8,
      "metadata": {
        "colab": {
          "base_uri": "https://localhost:8080/"
        },
        "execution": {
          "iopub.execute_input": "2023-09-19T12:40:04.703711Z",
          "iopub.status.busy": "2023-09-19T12:40:04.703184Z",
          "iopub.status.idle": "2023-09-19T12:40:05.593765Z",
          "shell.execute_reply": "2023-09-19T12:40:05.592215Z",
          "shell.execute_reply.started": "2023-09-19T12:40:04.703677Z"
        },
        "id": "42xz6TqS66r1",
        "outputId": "4375185b-b36c-4b36-86d4-0143df4f9ec6",
        "trusted": true
      },
      "outputs": [
        {
          "output_type": "execute_result",
          "data": {
            "text/plain": [
              "TCP      4386603\n",
              "UDP       744306\n",
              "ICMP       64206\n",
              "IGMP         153\n",
              "Name: Proto, dtype: int64"
            ]
          },
          "metadata": {},
          "execution_count": 8
        }
      ],
      "source": [
        "df['Proto'].value_counts()"
      ]
    },
    {
      "cell_type": "code",
      "execution_count": 9,
      "metadata": {
        "colab": {
          "base_uri": "https://localhost:8080/"
        },
        "execution": {
          "iopub.execute_input": "2023-09-19T12:40:05.595977Z",
          "iopub.status.busy": "2023-09-19T12:40:05.595603Z",
          "iopub.status.idle": "2023-09-19T12:40:07.205797Z",
          "shell.execute_reply": "2023-09-19T12:40:07.204370Z",
          "shell.execute_reply.started": "2023-09-19T12:40:05.595946Z"
        },
        "id": "rUz9qXS56-kn",
        "outputId": "fd5fb518-af10-44ce-bc55-94d26e6a796a",
        "trusted": true
      },
      "outputs": [
        {
          "output_type": "execute_result",
          "data": {
            "text/plain": [
              "      66    1236773\n",
              "54           416949\n",
              "58           211005\n",
              "      54     160471\n",
              "      55     139482\n",
              "             ...   \n",
              "   54222          1\n",
              "   81674          1\n",
              "   19389          1\n",
              "   35240          1\n",
              "20573             1\n",
              "Name: Bytes, Length: 84192, dtype: int64"
            ]
          },
          "metadata": {},
          "execution_count": 9
        }
      ],
      "source": [
        "df['Bytes'].astype('str').value_counts()"
      ]
    },
    {
      "cell_type": "code",
      "execution_count": 10,
      "metadata": {
        "colab": {
          "base_uri": "https://localhost:8080/"
        },
        "execution": {
          "iopub.execute_input": "2023-09-19T12:40:07.208669Z",
          "iopub.status.busy": "2023-09-19T12:40:07.208131Z",
          "iopub.status.idle": "2023-09-19T12:40:08.104628Z",
          "shell.execute_reply": "2023-09-19T12:40:08.103136Z",
          "shell.execute_reply.started": "2023-09-19T12:40:07.208625Z"
        },
        "id": "sgyBQazm7DNM",
        "outputId": "7af44bae-f6bc-450e-b6f7-85616c93a6bf",
        "trusted": true
      },
      "outputs": [
        {
          "output_type": "execute_result",
          "data": {
            "text/plain": [
              ".A....    1570689\n",
              "......     808665\n",
              ".AP...     700075\n",
              ".AP.S.     550334\n",
              ".A...F     386492\n",
              ".A.R..     238101\n",
              "....S.     225951\n",
              ".AP..F     170048\n",
              ".A..S.     142218\n",
              ".AP.SF     136838\n",
              ".....F     112958\n",
              "...R..      58520\n",
              ".APRSF      34740\n",
              ".APR.F      32791\n",
              ".A..SF       6646\n",
              "...RS.       6176\n",
              ".A.R.F       5660\n",
              ".APRS.       4334\n",
              ".APR..       3703\n",
              ".A.RS.        230\n",
              ".A.RSF         99\n",
              "Name: Flags, dtype: int64"
            ]
          },
          "metadata": {},
          "execution_count": 10
        }
      ],
      "source": [
        "df['Flags'].value_counts()"
      ]
    },
    {
      "cell_type": "code",
      "execution_count": 11,
      "metadata": {
        "colab": {
          "base_uri": "https://localhost:8080/"
        },
        "execution": {
          "iopub.execute_input": "2023-09-19T12:40:08.106653Z",
          "iopub.status.busy": "2023-09-19T12:40:08.106233Z",
          "iopub.status.idle": "2023-09-19T12:40:09.016450Z",
          "shell.execute_reply": "2023-09-19T12:40:09.015042Z",
          "shell.execute_reply.started": "2023-09-19T12:40:08.106611Z"
        },
        "id": "d6sqj0uq7Z4F",
        "outputId": "ba68e2fb-e5fa-41c9-a1b4-a9babbfa39ab",
        "trusted": true
      },
      "outputs": [
        {
          "output_type": "execute_result",
          "data": {
            "text/plain": [
              "normal      4378392\n",
              "attacker     511295\n",
              "victim       305581\n",
              "Name: label, dtype: int64"
            ]
          },
          "metadata": {},
          "execution_count": 11
        }
      ],
      "source": [
        "df['label'].value_counts()"
      ]
    },
    {
      "cell_type": "code",
      "execution_count": 12,
      "metadata": {
        "colab": {
          "base_uri": "https://localhost:8080/"
        },
        "execution": {
          "iopub.execute_input": "2023-09-19T12:40:09.018580Z",
          "iopub.status.busy": "2023-09-19T12:40:09.018155Z",
          "iopub.status.idle": "2023-09-19T12:40:09.916045Z",
          "shell.execute_reply": "2023-09-19T12:40:09.914443Z",
          "shell.execute_reply.started": "2023-09-19T12:40:09.018540Z"
        },
        "id": "xQxaFL_p7mnX",
        "outputId": "2bda4d55-8df5-455b-e1f4-0e7599436ea0",
        "trusted": true
      },
      "outputs": [
        {
          "output_type": "execute_result",
          "data": {
            "text/plain": [
              "---         4378392\n",
              "scan         534561\n",
              "portScan     276234\n",
              "pingScan       6081\n",
              "Name: attackType, dtype: int64"
            ]
          },
          "metadata": {},
          "execution_count": 12
        }
      ],
      "source": [
        "df['attackType'].value_counts()"
      ]
    },
    {
      "cell_type": "code",
      "execution_count": 13,
      "metadata": {
        "colab": {
          "base_uri": "https://localhost:8080/"
        },
        "execution": {
          "iopub.execute_input": "2023-09-19T12:40:09.920001Z",
          "iopub.status.busy": "2023-09-19T12:40:09.919576Z",
          "iopub.status.idle": "2023-09-19T12:40:10.806463Z",
          "shell.execute_reply": "2023-09-19T12:40:10.805060Z",
          "shell.execute_reply.started": "2023-09-19T12:40:09.919967Z"
        },
        "id": "bPl-eysZwMhY",
        "outputId": "976bd65b-1a1c-4366-8374-5225c21e9baa",
        "trusted": true
      },
      "outputs": [
        {
          "output_type": "execute_result",
          "data": {
            "text/plain": [
              "---    4378392\n",
              "11       54703\n",
              "17       53283\n",
              "20       46916\n",
              "32       43312\n",
              "        ...   \n",
              "57         522\n",
              "58         509\n",
              "65         371\n",
              "66         359\n",
              "69         359\n",
              "Name: attackID, Length: 68, dtype: int64"
            ]
          },
          "metadata": {},
          "execution_count": 13
        }
      ],
      "source": [
        "df['attackID'].value_counts()"
      ]
    },
    {
      "cell_type": "code",
      "execution_count": 14,
      "metadata": {
        "colab": {
          "base_uri": "https://localhost:8080/"
        },
        "execution": {
          "iopub.execute_input": "2023-09-19T12:40:10.814290Z",
          "iopub.status.busy": "2023-09-19T12:40:10.813358Z",
          "iopub.status.idle": "2023-09-19T12:40:11.707262Z",
          "shell.execute_reply": "2023-09-19T12:40:11.705490Z",
          "shell.execute_reply.started": "2023-09-19T12:40:10.814251Z"
        },
        "id": "AUjDfuVLWXOs",
        "outputId": "b6eb0f37-ebee-4f4e-8880-ea1fd84b129a",
        "trusted": true
      },
      "outputs": [
        {
          "output_type": "execute_result",
          "data": {
            "text/plain": [
              "---                           4382402\n",
              "nmap args: -sS -T 2            185630\n",
              "nmap args: -sF -T 3            109847\n",
              "nmap args: -sS -T 1            107124\n",
              "nmap args: -sS -T 3             93085\n",
              "nmap args: -sU -T 2             86393\n",
              "nmap args: -sF -T 2             63665\n",
              "nmap args: -sA -T 3             50084\n",
              "nmap args: -sF -T 1             34707\n",
              "nmap args: -sU -T 3             27749\n",
              "nmap args: -sU -T 1             20713\n",
              "nmap args: -sA -T 1             17027\n",
              "nmap args: -sA -T 2              4436\n",
              "nmap args: -sU -T 0              4398\n",
              "nmap args: -n -sP -PE -T 2       3731\n",
              "nmap args: -n -sP -PE -T 1       3440\n",
              "nmap args: -n -sP -PE -T 3        837\n",
              "Name: attackDescription, dtype: int64"
            ]
          },
          "metadata": {},
          "execution_count": 14
        }
      ],
      "source": [
        "df['attackDescription'].value_counts()"
      ]
    },
    {
      "cell_type": "markdown",
      "metadata": {
        "id": "a_ZPBHEHW1Hs"
      },
      "source": [
        "### Rename label"
      ]
    },
    {
      "cell_type": "code",
      "execution_count": 15,
      "metadata": {
        "colab": {
          "base_uri": "https://localhost:8080/"
        },
        "execution": {
          "iopub.execute_input": "2023-09-19T12:40:11.709815Z",
          "iopub.status.busy": "2023-09-19T12:40:11.708896Z",
          "iopub.status.idle": "2023-09-19T12:40:13.741628Z",
          "shell.execute_reply": "2023-09-19T12:40:13.740016Z",
          "shell.execute_reply.started": "2023-09-19T12:40:11.709764Z"
        },
        "id": "MtJr9F389Umg",
        "outputId": "58b42b40-93d8-4d76-bf89-78851a5e8748",
        "trusted": true
      },
      "outputs": [
        {
          "output_type": "execute_result",
          "data": {
            "text/plain": [
              "0_normal    4378392\n",
              "attacker     511295\n",
              "victim       305581\n",
              "Name: label, dtype: int64"
            ]
          },
          "metadata": {},
          "execution_count": 15
        }
      ],
      "source": [
        "df['label'] = df['label'].replace(['normal'], '0_normal')\n",
        "df['label'].value_counts()"
      ]
    },
    {
      "cell_type": "code",
      "execution_count": 16,
      "metadata": {
        "colab": {
          "base_uri": "https://localhost:8080/"
        },
        "execution": {
          "iopub.execute_input": "2023-09-19T12:40:13.743795Z",
          "iopub.status.busy": "2023-09-19T12:40:13.743285Z",
          "iopub.status.idle": "2023-09-19T12:40:16.150755Z",
          "shell.execute_reply": "2023-09-19T12:40:16.149359Z",
          "shell.execute_reply.started": "2023-09-19T12:40:13.743737Z"
        },
        "id": "_HxcxCTKXVMH",
        "outputId": "6d7620ee-5fec-4644-f53a-c606069ce518",
        "trusted": true
      },
      "outputs": [
        {
          "output_type": "execute_result",
          "data": {
            "text/plain": [
              "0_normal    4378392\n",
              "attack       816876\n",
              "Name: label, dtype: int64"
            ]
          },
          "metadata": {},
          "execution_count": 16
        }
      ],
      "source": [
        "df['label'] = df['label'].replace(['attacker', 'victim'], 'attack')\n",
        "df['label'].value_counts()"
      ]
    },
    {
      "cell_type": "code",
      "execution_count": 17,
      "metadata": {
        "colab": {
          "base_uri": "https://localhost:8080/"
        },
        "execution": {
          "iopub.execute_input": "2023-09-19T12:40:16.152946Z",
          "iopub.status.busy": "2023-09-19T12:40:16.152195Z",
          "iopub.status.idle": "2023-09-19T12:40:28.788606Z",
          "shell.execute_reply": "2023-09-19T12:40:28.787268Z",
          "shell.execute_reply.started": "2023-09-19T12:40:16.152912Z"
        },
        "id": "CYPGihf3WZNP",
        "outputId": "1de0c3ef-107e-4946-ff98-41caa58db2e3",
        "trusted": true
      },
      "outputs": [
        {
          "output_type": "execute_result",
          "data": {
            "text/plain": [
              "normal       4382402\n",
              "SYN Scan      385839\n",
              "FIN Scan      208219\n",
              "UDP Scan      139253\n",
              "ACK Scan       71547\n",
              "Ping Scan       8008\n",
              "Name: attackDescription, dtype: int64"
            ]
          },
          "metadata": {},
          "execution_count": 17
        }
      ],
      "source": [
        "df['attackDescription'] = df['attackDescription'].replace(['---'], 'normal')\n",
        "df['attackDescription'] = df['attackDescription'].replace(['nmap args: -sS -T 1', 'nmap args: -sS -T 2', 'nmap args: -sS -T 3'], 'SYN Scan')\n",
        "df['attackDescription'] = df['attackDescription'].replace(['nmap args: -sF -T 1', 'nmap args: -sF -T 2', 'nmap args: -sF -T 3'], 'FIN Scan')\n",
        "df['attackDescription'] = df['attackDescription'].replace(['nmap args: -sU -T 0 ', 'nmap args: -sU -T 1', 'nmap args: -sU -T 2', 'nmap args: -sU -T 3' ], 'UDP Scan')\n",
        "df['attackDescription'] = df['attackDescription'].replace(['nmap args: -sA -T 1', 'nmap args: -sA -T 2', 'nmap args: -sA -T 3'], 'ACK Scan')\n",
        "df['attackDescription'] = df['attackDescription'].replace(['nmap args: -n -sP -PE -T 1', 'nmap args: -n -sP -PE -T 2', 'nmap args: -n -sP -PE -T 3'], 'Ping Scan')\n",
        "df['attackDescription'].value_counts()"
      ]
    },
    {
      "cell_type": "code",
      "execution_count": 18,
      "metadata": {
        "colab": {
          "base_uri": "https://localhost:8080/"
        },
        "execution": {
          "iopub.execute_input": "2023-09-19T12:40:28.791315Z",
          "iopub.status.busy": "2023-09-19T12:40:28.790483Z",
          "iopub.status.idle": "2023-09-19T12:40:33.986686Z",
          "shell.execute_reply": "2023-09-19T12:40:33.985279Z",
          "shell.execute_reply.started": "2023-09-19T12:40:28.791267Z"
        },
        "id": "HQmO_x2pWp9G",
        "outputId": "58939e51-75c0-45d7-db47-2dc2f135041c",
        "trusted": true
      },
      "outputs": [
        {
          "output_type": "execute_result",
          "data": {
            "text/plain": [
              "normal    4382402\n",
              "TCP        665605\n",
              "UDP        139253\n",
              "ICMP         8008\n",
              "Name: attackDescription, dtype: int64"
            ]
          },
          "metadata": {},
          "execution_count": 18
        }
      ],
      "source": [
        "df['attackDescription'] = df['attackDescription'].replace(['SYN Scan', 'FIN Scan', 'ACK Scan'], 'TCP')\n",
        "df['attackDescription'] = df['attackDescription'].replace(['UDP Scan'], 'UDP')\n",
        "df['attackDescription'] = df['attackDescription'].replace(['Ping Scan'], 'ICMP')\n",
        "df['attackDescription'].value_counts()"
      ]
    },
    {
      "cell_type": "markdown",
      "metadata": {
        "id": "BIeFN3_8XFjt"
      },
      "source": [
        "### Drop features"
      ]
    },
    {
      "cell_type": "code",
      "execution_count": 19,
      "metadata": {
        "colab": {
          "base_uri": "https://localhost:8080/"
        },
        "execution": {
          "iopub.execute_input": "2023-09-19T12:40:33.989272Z",
          "iopub.status.busy": "2023-09-19T12:40:33.988740Z",
          "iopub.status.idle": "2023-09-19T12:40:34.004575Z",
          "shell.execute_reply": "2023-09-19T12:40:34.002955Z",
          "shell.execute_reply.started": "2023-09-19T12:40:33.989225Z"
        },
        "id": "Qw6O-phQWvJh",
        "outputId": "f2a40116-0fe7-4174-979e-33ad2a0867be",
        "trusted": true
      },
      "outputs": [
        {
          "output_type": "stream",
          "name": "stdout",
          "text": [
            "<class 'pandas.core.frame.DataFrame'>\n",
            "Int64Index: 5195268 entries, 0 to 5231835\n",
            "Data columns (total 16 columns):\n",
            " #   Column             Dtype  \n",
            "---  ------             -----  \n",
            " 0   Date first seen    object \n",
            " 1   Duration           float64\n",
            " 2   Proto              object \n",
            " 3   Src IP Addr        object \n",
            " 4   Src Pt             int64  \n",
            " 5   Dst IP Addr        object \n",
            " 6   Dst Pt             float64\n",
            " 7   Packets            int64  \n",
            " 8   Bytes              object \n",
            " 9   Flows              int64  \n",
            " 10  Flags              object \n",
            " 11  Tos                int64  \n",
            " 12  label              object \n",
            " 13  attackType         object \n",
            " 14  attackID           object \n",
            " 15  attackDescription  object \n",
            "dtypes: float64(2), int64(4), object(10)\n",
            "memory usage: 673.8+ MB\n"
          ]
        }
      ],
      "source": [
        "df.info()"
      ]
    },
    {
      "cell_type": "code",
      "execution_count": 20,
      "metadata": {
        "colab": {
          "base_uri": "https://localhost:8080/"
        },
        "execution": {
          "iopub.execute_input": "2023-09-19T12:40:34.007190Z",
          "iopub.status.busy": "2023-09-19T12:40:34.006524Z",
          "iopub.status.idle": "2023-09-19T12:40:34.582222Z",
          "shell.execute_reply": "2023-09-19T12:40:34.580833Z",
          "shell.execute_reply.started": "2023-09-19T12:40:34.007101Z"
        },
        "id": "F_BChZCev7mU",
        "outputId": "fb474a45-282a-49b5-e94b-1571f0d5318a",
        "trusted": true
      },
      "outputs": [
        {
          "output_type": "stream",
          "name": "stdout",
          "text": [
            "<class 'pandas.core.frame.DataFrame'>\n",
            "Int64Index: 5195268 entries, 0 to 5231835\n",
            "Data columns (total 11 columns):\n",
            " #   Column             Dtype  \n",
            "---  ------             -----  \n",
            " 0   Duration           float64\n",
            " 1   Proto              object \n",
            " 2   Src Pt             int64  \n",
            " 3   Dst Pt             float64\n",
            " 4   Packets            int64  \n",
            " 5   Bytes              object \n",
            " 6   Flows              int64  \n",
            " 7   Flags              object \n",
            " 8   Tos                int64  \n",
            " 9   label              object \n",
            " 10  attackDescription  object \n",
            "dtypes: float64(2), int64(4), object(5)\n",
            "memory usage: 475.6+ MB\n"
          ]
        }
      ],
      "source": [
        "df = df.drop(columns = ['Date first seen', 'Src IP Addr', 'Dst IP Addr',  'attackType', 'attackID'])\n",
        "df.info()"
      ]
    },
    {
      "cell_type": "code",
      "execution_count": 21,
      "metadata": {
        "execution": {
          "iopub.execute_input": "2023-09-19T12:40:34.583921Z",
          "iopub.status.busy": "2023-09-19T12:40:34.583566Z",
          "iopub.status.idle": "2023-09-19T12:40:40.205655Z",
          "shell.execute_reply": "2023-09-19T12:40:40.204127Z",
          "shell.execute_reply.started": "2023-09-19T12:40:34.583892Z"
        },
        "id": "6f8AUQDeXO1L",
        "trusted": true
      },
      "outputs": [],
      "source": [
        "df = df.drop(df.loc[df['attackDescription'] == 'normal'].sample(frac = 0.8).index)"
      ]
    },
    {
      "cell_type": "code",
      "execution_count": 22,
      "metadata": {
        "colab": {
          "base_uri": "https://localhost:8080/",
          "height": 0
        },
        "execution": {
          "iopub.execute_input": "2023-09-19T12:40:40.207621Z",
          "iopub.status.busy": "2023-09-19T12:40:40.207128Z",
          "iopub.status.idle": "2023-09-19T12:40:42.331004Z",
          "shell.execute_reply": "2023-09-19T12:40:42.330113Z",
          "shell.execute_reply.started": "2023-09-19T12:40:40.207584Z"
        },
        "id": "-KQdZZZhXQfy",
        "outputId": "2463eea8-a68e-4d48-c7ce-7f1072eddf01",
        "trusted": true
      },
      "outputs": [
        {
          "output_type": "display_data",
          "data": {
            "text/plain": [
              "<Figure size 1000x700 with 1 Axes>"
            ],
            "image/png": "[encoded data removed]"
          },
          "metadata": {}
        }
      ],
      "source": [
        "sns.set(rc = {'figure.figsize' : (10, 7)})\n",
        "ax = sns.countplot(x = 'attackDescription', data = df)\n",
        "ax.set(xlabel = 'Type', ylabel = 'Number')\n",
        "plt.show()"
      ]
    },
    {
      "cell_type": "markdown",
      "metadata": {
        "id": "FRxozQVHNrDj"
      },
      "source": [
        "### Other features"
      ]
    },
    {
      "cell_type": "code",
      "execution_count": 23,
      "metadata": {
        "execution": {
          "iopub.execute_input": "2023-09-19T12:40:42.332917Z",
          "iopub.status.busy": "2023-09-19T12:40:42.332316Z",
          "iopub.status.idle": "2023-09-19T12:40:42.339329Z",
          "shell.execute_reply": "2023-09-19T12:40:42.338358Z",
          "shell.execute_reply.started": "2023-09-19T12:40:42.332883Z"
        },
        "id": "2l9BuQKaOA76",
        "trusted": true
      },
      "outputs": [],
      "source": [
        "def convert_to_int(value):\n",
        "    try:\n",
        "        if 'M' in str(value):\n",
        "            result = int(float(value[:-2])*10**6)\n",
        "        else:\n",
        "            result = int(value)\n",
        "    except (ValueError, TypeError):\n",
        "        print(value)\n",
        "        result = 0\n",
        "    return result"
      ]
    },
    {
      "cell_type": "code",
      "execution_count": 24,
      "metadata": {
        "colab": {
          "base_uri": "https://localhost:8080/"
        },
        "execution": {
          "iopub.execute_input": "2023-09-19T12:40:42.341202Z",
          "iopub.status.busy": "2023-09-19T12:40:42.340806Z",
          "iopub.status.idle": "2023-09-19T12:40:44.238474Z",
          "shell.execute_reply": "2023-09-19T12:40:44.237247Z",
          "shell.execute_reply.started": "2023-09-19T12:40:42.341141Z"
        },
        "id": "oC5WHIzYOD6l",
        "outputId": "ca980284-e336-49ac-8461-2a4397e1608c",
        "trusted": true
      },
      "outputs": [
        {
          "output_type": "execute_result",
          "data": {
            "text/plain": [
              "54       441451\n",
              "66       269637\n",
              "58       218650\n",
              "42       110075\n",
              "70        38081\n",
              "          ...  \n",
              "37744         1\n",
              "15772         1\n",
              "16351         1\n",
              "9182          1\n",
              "20573         1\n",
              "Name: Bytes, Length: 28332, dtype: int64"
            ]
          },
          "metadata": {},
          "execution_count": 24
        }
      ],
      "source": [
        "df['Bytes'] = df['Bytes'].apply(convert_to_int)\n",
        "df['Bytes'].value_counts()"
      ]
    },
    {
      "cell_type": "code",
      "execution_count": 25,
      "metadata": {
        "colab": {
          "base_uri": "https://localhost:8080/"
        },
        "execution": {
          "iopub.execute_input": "2023-09-19T12:40:44.240393Z",
          "iopub.status.busy": "2023-09-19T12:40:44.239949Z",
          "iopub.status.idle": "2023-09-19T12:40:44.774532Z",
          "shell.execute_reply": "2023-09-19T12:40:44.773428Z",
          "shell.execute_reply.started": "2023-09-19T12:40:44.240361Z"
        },
        "id": "Weca15snXXG6",
        "outputId": "7f0a297a-6599-4f81-dafb-9c048b44973b",
        "trusted": true
      },
      "outputs": [
        {
          "output_type": "execute_result",
          "data": {
            "text/plain": [
              "array(['0_normal', 'attack'], dtype=object)"
            ]
          },
          "metadata": {},
          "execution_count": 25
        }
      ],
      "source": [
        "label_encoder = LabelEncoder()\n",
        "df['label']= label_encoder.fit_transform(df['label'])\n",
        "label_encoder.classes_"
      ]
    },
    {
      "cell_type": "code",
      "execution_count": 26,
      "metadata": {
        "colab": {
          "base_uri": "https://localhost:8080/"
        },
        "execution": {
          "iopub.execute_input": "2023-09-19T12:40:44.777009Z",
          "iopub.status.busy": "2023-09-19T12:40:44.776295Z",
          "iopub.status.idle": "2023-09-19T12:40:45.319455Z",
          "shell.execute_reply": "2023-09-19T12:40:45.318258Z",
          "shell.execute_reply.started": "2023-09-19T12:40:44.776968Z"
        },
        "id": "g1momD7xXcDr",
        "outputId": "878e08a9-b29e-4e73-d70a-e789bb089810",
        "trusted": true
      },
      "outputs": [
        {
          "output_type": "stream",
          "name": "stdout",
          "text": [
            "<class 'pandas.core.frame.DataFrame'>\n",
            "Int64Index: 1689346 entries, 3 to 5231835\n",
            "Data columns (total 11 columns):\n",
            " #   Column             Non-Null Count    Dtype  \n",
            "---  ------             --------------    -----  \n",
            " 0   Duration           1689346 non-null  float64\n",
            " 1   Proto              1689346 non-null  object \n",
            " 2   Src Pt             1689346 non-null  int64  \n",
            " 3   Dst Pt             1689346 non-null  float64\n",
            " 4   Packets            1689346 non-null  int64  \n",
            " 5   Bytes              1689346 non-null  int64  \n",
            " 6   Flows              1689346 non-null  int64  \n",
            " 7   Flags              1689346 non-null  object \n",
            " 8   Tos                1689346 non-null  int64  \n",
            " 9   label              1689346 non-null  int64  \n",
            " 10  attackDescription  1689346 non-null  object \n",
            "dtypes: float64(2), int64(6), object(3)\n",
            "memory usage: 154.7+ MB\n"
          ]
        }
      ],
      "source": [
        "df.info()"
      ]
    },
    {
      "cell_type": "code",
      "execution_count": 27,
      "metadata": {
        "colab": {
          "base_uri": "https://localhost:8080/"
        },
        "execution": {
          "iopub.execute_input": "2023-09-19T12:40:45.322361Z",
          "iopub.status.busy": "2023-09-19T12:40:45.321156Z",
          "iopub.status.idle": "2023-09-19T12:40:45.476494Z",
          "shell.execute_reply": "2023-09-19T12:40:45.475675Z",
          "shell.execute_reply.started": "2023-09-19T12:40:45.322317Z"
        },
        "id": "rPy-Vfg2VeJh",
        "outputId": "2379af3a-b28a-4810-ce1c-18b609bb11e7",
        "trusted": true
      },
      "outputs": [
        {
          "output_type": "stream",
          "name": "stdout",
          "text": [
            "(1689346, 9) (1689346, 2)\n"
          ]
        }
      ],
      "source": [
        "features_to_exclude = ['label', 'Proto']\n",
        "y = df.loc[:, features_to_exclude]\n",
        "X = df.drop(features_to_exclude, axis=1)\n",
        "\n",
        "print(X.shape, y.shape)"
      ]
    },
    {
      "cell_type": "code",
      "execution_count": 28,
      "metadata": {
        "colab": {
          "base_uri": "https://localhost:8080/"
        },
        "execution": {
          "iopub.execute_input": "2023-09-19T12:40:45.478524Z",
          "iopub.status.busy": "2023-09-19T12:40:45.477910Z",
          "iopub.status.idle": "2023-09-19T12:40:45.848789Z",
          "shell.execute_reply": "2023-09-19T12:40:45.847669Z",
          "shell.execute_reply.started": "2023-09-19T12:40:45.478492Z"
        },
        "id": "TlXXZ05-WC0p",
        "outputId": "650d2232-d899-4a4c-ac96-20a5d3622f37",
        "trusted": true
      },
      "outputs": [
        {
          "output_type": "stream",
          "name": "stdout",
          "text": [
            "<class 'pandas.core.frame.DataFrame'>\n",
            "Int64Index: 1689346 entries, 3 to 5231835\n",
            "Data columns (total 9 columns):\n",
            " #   Column             Non-Null Count    Dtype  \n",
            "---  ------             --------------    -----  \n",
            " 0   Duration           1689346 non-null  float64\n",
            " 1   Src Pt             1689346 non-null  int64  \n",
            " 2   Dst Pt             1689346 non-null  float64\n",
            " 3   Packets            1689346 non-null  int64  \n",
            " 4   Bytes              1689346 non-null  int64  \n",
            " 5   Flows              1689346 non-null  int64  \n",
            " 6   Flags              1689346 non-null  object \n",
            " 7   Tos                1689346 non-null  int64  \n",
            " 8   attackDescription  1689346 non-null  object \n",
            "dtypes: float64(2), int64(5), object(2)\n",
            "memory usage: 128.9+ MB\n"
          ]
        }
      ],
      "source": [
        "X.info()"
      ]
    },
    {
      "cell_type": "code",
      "execution_count": 29,
      "metadata": {
        "colab": {
          "base_uri": "https://localhost:8080/"
        },
        "execution": {
          "iopub.execute_input": "2023-09-19T12:40:45.850228Z",
          "iopub.status.busy": "2023-09-19T12:40:45.849883Z",
          "iopub.status.idle": "2023-09-19T12:40:46.036620Z",
          "shell.execute_reply": "2023-09-19T12:40:46.035115Z",
          "shell.execute_reply.started": "2023-09-19T12:40:45.850200Z"
        },
        "id": "jbybREFvWHF8",
        "outputId": "5e7a1a0d-b75e-4f2d-ad14-3de10d641d23",
        "trusted": true
      },
      "outputs": [
        {
          "output_type": "stream",
          "name": "stdout",
          "text": [
            "<class 'pandas.core.frame.DataFrame'>\n",
            "Int64Index: 1689346 entries, 3 to 5231835\n",
            "Data columns (total 2 columns):\n",
            " #   Column  Non-Null Count    Dtype \n",
            "---  ------  --------------    ----- \n",
            " 0   label   1689346 non-null  int64 \n",
            " 1   Proto   1689346 non-null  object\n",
            "dtypes: int64(1), object(1)\n",
            "memory usage: 38.7+ MB\n"
          ]
        }
      ],
      "source": [
        "y.info()"
      ]
    },
    {
      "cell_type": "markdown",
      "metadata": {
        "id": "iAw4D3XgWRfG"
      },
      "source": [
        "### One hot encoding"
      ]
    },
    {
      "cell_type": "code",
      "execution_count": 30,
      "metadata": {
        "colab": {
          "base_uri": "https://localhost:8080/"
        },
        "execution": {
          "iopub.execute_input": "2023-09-19T12:40:46.038802Z",
          "iopub.status.busy": "2023-09-19T12:40:46.038022Z",
          "iopub.status.idle": "2023-09-19T12:40:47.032684Z",
          "shell.execute_reply": "2023-09-19T12:40:47.031351Z",
          "shell.execute_reply.started": "2023-09-19T12:40:46.038767Z"
        },
        "id": "o3ZdUcEyWXZf",
        "outputId": "c9c74f2d-02de-4930-a73f-dd5dd3f31202",
        "trusted": true
      },
      "outputs": [
        {
          "output_type": "stream",
          "name": "stdout",
          "text": [
            "<class 'pandas.core.frame.DataFrame'>\n",
            "Int64Index: 1689346 entries, 3 to 5231835\n",
            "Data columns (total 32 columns):\n",
            " #   Column                    Non-Null Count    Dtype  \n",
            "---  ------                    --------------    -----  \n",
            " 0   Duration                  1689346 non-null  float64\n",
            " 1   Src Pt                    1689346 non-null  int64  \n",
            " 2   Dst Pt                    1689346 non-null  float64\n",
            " 3   Packets                   1689346 non-null  int64  \n",
            " 4   Bytes                     1689346 non-null  int64  \n",
            " 5   Flows                     1689346 non-null  int64  \n",
            " 6   Tos                       1689346 non-null  int64  \n",
            " 7   Flags_......              1689346 non-null  uint8  \n",
            " 8   Flags_.....F              1689346 non-null  uint8  \n",
            " 9   Flags_....S.              1689346 non-null  uint8  \n",
            " 10  Flags_...R..              1689346 non-null  uint8  \n",
            " 11  Flags_...RS.              1689346 non-null  uint8  \n",
            " 12  Flags_.A....              1689346 non-null  uint8  \n",
            " 13  Flags_.A...F              1689346 non-null  uint8  \n",
            " 14  Flags_.A..S.              1689346 non-null  uint8  \n",
            " 15  Flags_.A..SF              1689346 non-null  uint8  \n",
            " 16  Flags_.A.R..              1689346 non-null  uint8  \n",
            " 17  Flags_.A.R.F              1689346 non-null  uint8  \n",
            " 18  Flags_.A.RS.              1689346 non-null  uint8  \n",
            " 19  Flags_.A.RSF              1689346 non-null  uint8  \n",
            " 20  Flags_.AP...              1689346 non-null  uint8  \n",
            " 21  Flags_.AP..F              1689346 non-null  uint8  \n",
            " 22  Flags_.AP.S.              1689346 non-null  uint8  \n",
            " 23  Flags_.AP.SF              1689346 non-null  uint8  \n",
            " 24  Flags_.APR..              1689346 non-null  uint8  \n",
            " 25  Flags_.APR.F              1689346 non-null  uint8  \n",
            " 26  Flags_.APRS.              1689346 non-null  uint8  \n",
            " 27  Flags_.APRSF              1689346 non-null  uint8  \n",
            " 28  attackDescription_ICMP    1689346 non-null  uint8  \n",
            " 29  attackDescription_TCP     1689346 non-null  uint8  \n",
            " 30  attackDescription_UDP     1689346 non-null  uint8  \n",
            " 31  attackDescription_normal  1689346 non-null  uint8  \n",
            "dtypes: float64(2), int64(5), uint8(25)\n",
            "memory usage: 143.4 MB\n"
          ]
        }
      ],
      "source": [
        "X = pd.get_dummies(X)\n",
        "X.info()"
      ]
    },
    {
      "cell_type": "code",
      "execution_count": 31,
      "metadata": {
        "colab": {
          "base_uri": "https://localhost:8080/",
          "height": 0
        },
        "execution": {
          "iopub.execute_input": "2023-09-19T12:40:47.034399Z",
          "iopub.status.busy": "2023-09-19T12:40:47.034023Z",
          "iopub.status.idle": "2023-09-19T12:40:47.120743Z",
          "shell.execute_reply": "2023-09-19T12:40:47.119611Z",
          "shell.execute_reply.started": "2023-09-19T12:40:47.034367Z"
        },
        "id": "iB1XU9n-W1Aa",
        "outputId": "813c0ac9-6dd3-40e1-9fe7-e5ec8dbfea75",
        "trusted": true
      },
      "outputs": [
        {
          "output_type": "execute_result",
          "data": {
            "text/plain": [
              "         Duration  Src Pt   Dst Pt  Packets  Bytes  Flows  Tos  Flags_......  \\\n",
              "3           0.095     443  58538.0        5   1246      1   32             0   \n",
              "15          0.000   57315    443.0        1     66      1    0             0   \n",
              "18          0.021   60025     80.0        2    108      1    0             0   \n",
              "21          0.000   63957     53.0        1     82      1    0             1   \n",
              "26          0.032   40285     80.0        3    624      1    0             0   \n",
              "...           ...     ...      ...      ...    ...    ...  ...           ...   \n",
              "5231831     0.000    5907  47529.0        1     54      1    0             0   \n",
              "5231832     0.000       3  47529.0        1     54      1    0             0   \n",
              "5231833     0.000   32778  47529.0        1     54      1    0             0   \n",
              "5231834     0.000    8800  47529.0        1     54      1    0             0   \n",
              "5231835     0.000   47529   6881.0        1     58      1    0             0   \n",
              "\n",
              "         Flags_.....F  Flags_....S.  Flags_...R..  Flags_...RS.  Flags_.A....  \\\n",
              "3                   0             0             0             0             0   \n",
              "15                  0             0             0             0             1   \n",
              "18                  0             0             0             0             0   \n",
              "21                  0             0             0             0             0   \n",
              "26                  0             0             0             0             0   \n",
              "...               ...           ...           ...           ...           ...   \n",
              "5231831             0             0             0             0             0   \n",
              "5231832             0             0             0             0             0   \n",
              "5231833             0             0             0             0             0   \n",
              "5231834             0             0             0             0             0   \n",
              "5231835             0             1             0             0             0   \n",
              "\n",
              "         Flags_.A...F  Flags_.A..S.  Flags_.A..SF  Flags_.A.R..  Flags_.A.R.F  \\\n",
              "3                   0             0             0             0             0   \n",
              "15                  0             0             0             0             0   \n",
              "18                  1             0             0             0             0   \n",
              "21                  0             0             0             0             0   \n",
              "26                  0             0             0             0             0   \n",
              "...               ...           ...           ...           ...           ...   \n",
              "5231831             0             0             0             1             0   \n",
              "5231832             0             0             0             1             0   \n",
              "5231833             0             0             0             1             0   \n",
              "5231834             0             0             0             1             0   \n",
              "5231835             0             0             0             0             0   \n",
              "\n",
              "         Flags_.A.RS.  Flags_.A.RSF  Flags_.AP...  Flags_.AP..F  Flags_.AP.S.  \\\n",
              "3                   0             0             1             0             0   \n",
              "15                  0             0             0             0             0   \n",
              "18                  0             0             0             0             0   \n",
              "21                  0             0             0             0             0   \n",
              "26                  0             0             1             0             0   \n",
              "...               ...           ...           ...           ...           ...   \n",
              "5231831             0             0             0             0             0   \n",
              "5231832             0             0             0             0             0   \n",
              "5231833             0             0             0             0             0   \n",
              "5231834             0             0             0             0             0   \n",
              "5231835             0             0             0             0             0   \n",
              "\n",
              "         Flags_.AP.SF  Flags_.APR..  Flags_.APR.F  Flags_.APRS.  Flags_.APRSF  \\\n",
              "3                   0             0             0             0             0   \n",
              "15                  0             0             0             0             0   \n",
              "18                  0             0             0             0             0   \n",
              "21                  0             0             0             0             0   \n",
              "26                  0             0             0             0             0   \n",
              "...               ...           ...           ...           ...           ...   \n",
              "5231831             0             0             0             0             0   \n",
              "5231832             0             0             0             0             0   \n",
              "5231833             0             0             0             0             0   \n",
              "5231834             0             0             0             0             0   \n",
              "5231835             0             0             0             0             0   \n",
              "\n",
              "         attackDescription_ICMP  attackDescription_TCP  attackDescription_UDP  \\\n",
              "3                             0                      0                      0   \n",
              "15                            0                      0                      0   \n",
              "18                            0                      0                      0   \n",
              "21                            0                      0                      0   \n",
              "26                            0                      0                      0   \n",
              "...                         ...                    ...                    ...   \n",
              "5231831                       0                      1                      0   \n",
              "5231832                       0                      1                      0   \n",
              "5231833                       0                      1                      0   \n",
              "5231834                       0                      1                      0   \n",
              "5231835                       0                      1                      0   \n",
              "\n",
              "         attackDescription_normal  label  Proto  \n",
              "3                               1      0  TCP    \n",
              "15                              1      0  TCP    \n",
              "18                              1      0  TCP    \n",
              "21                              1      0  UDP    \n",
              "26                              1      0  TCP    \n",
              "...                           ...    ...    ...  \n",
              "5231831                         0      1  TCP    \n",
              "5231832                         0      1  TCP    \n",
              "5231833                         0      1  TCP    \n",
              "5231834                         0      1  TCP    \n",
              "5231835                         0      1  TCP    \n",
              "\n",
              "[1689346 rows x 34 columns]"
            ],
            "text/html": [
              "\n",
              "  <div id=\"df-795c2bbc-0e4d-48dd-800f-fdc45eee1b56\" class=\"colab-df-container\">\n",
              "    <div>\n",
              "<style scoped>\n",
              "    .dataframe tbody tr th:only-of-type {\n",
              "        vertical-align: middle;\n",
              "    }\n",
              "\n",
              "    .dataframe tbody tr th {\n",
              "        vertical-align: top;\n",
              "    }\n",
              "\n",
              "    .dataframe thead th {\n",
              "        text-align: right;\n",
              "    }\n",
              "</style>\n",
              "<table border=\"1\" class=\"dataframe\">\n",
              "  <thead>\n",
              "    <tr style=\"text-align: right;\">\n",
              "      <th></th>\n",
              "      <th>Duration</th>\n",
              "      <th>Src Pt</th>\n",
              "      <th>Dst Pt</th>\n",
              "      <th>Packets</th>\n",
              "      <th>Bytes</th>\n",
              "      <th>Flows</th>\n",
              "      <th>Tos</th>\n",
              "      <th>Flags_......</th>\n",
              "      <th>Flags_.....F</th>\n",
              "      <th>Flags_....S.</th>\n",
              "      <th>Flags_...R..</th>\n",
              "      <th>Flags_...RS.</th>\n",
              "      <th>Flags_.A....</th>\n",
              "      <th>Flags_.A...F</th>\n",
              "      <th>Flags_.A..S.</th>\n",
              "      <th>Flags_.A..SF</th>\n",
              "      <th>Flags_.A.R..</th>\n",
              "      <th>Flags_.A.R.F</th>\n",
              "      <th>Flags_.A.RS.</th>\n",
              "      <th>Flags_.A.RSF</th>\n",
              "      <th>Flags_.AP...</th>\n",
              "      <th>Flags_.AP..F</th>\n",
              "      <th>Flags_.AP.S.</th>\n",
              "      <th>Flags_.AP.SF</th>\n",
              "      <th>Flags_.APR..</th>\n",
              "      <th>Flags_.APR.F</th>\n",
              "      <th>Flags_.APRS.</th>\n",
              "      <th>Flags_.APRSF</th>\n",
              "      <th>attackDescription_ICMP</th>\n",
              "      <th>attackDescription_TCP</th>\n",
              "      <th>attackDescription_UDP</th>\n",
              "      <th>attackDescription_normal</th>\n",
              "      <th>label</th>\n",
              "      <th>Proto</th>\n",
              "    </tr>\n",
              "  </thead>\n",
              "  <tbody>\n",
              "    <tr>\n",
              "      <th>3</th>\n",
              "      <td>0.095</td>\n",
              "      <td>443</td>\n",
              "      <td>58538.0</td>\n",
              "      <td>5</td>\n",
              "      <td>1246</td>\n",
              "      <td>1</td>\n",
              "      <td>32</td>\n",
              "      <td>0</td>\n",
              "      <td>0</td>\n",
              "      <td>0</td>\n",
              "      <td>0</td>\n",
              "      <td>0</td>\n",
              "      <td>0</td>\n",
              "      <td>0</td>\n",
              "      <td>0</td>\n",
              "      <td>0</td>\n",
              "      <td>0</td>\n",
              "      <td>0</td>\n",
              "      <td>0</td>\n",
              "      <td>0</td>\n",
              "      <td>1</td>\n",
              "      <td>0</td>\n",
              "      <td>0</td>\n",
              "      <td>0</td>\n",
              "      <td>0</td>\n",
              "      <td>0</td>\n",
              "      <td>0</td>\n",
              "      <td>0</td>\n",
              "      <td>0</td>\n",
              "      <td>0</td>\n",
              "      <td>0</td>\n",
              "      <td>1</td>\n",
              "      <td>0</td>\n",
              "      <td>TCP</td>\n",
              "    </tr>\n",
              "    <tr>\n",
              "      <th>15</th>\n",
              "      <td>0.000</td>\n",
              "      <td>57315</td>\n",
              "      <td>443.0</td>\n",
              "      <td>1</td>\n",
              "      <td>66</td>\n",
              "      <td>1</td>\n",
              "      <td>0</td>\n",
              "      <td>0</td>\n",
              "      <td>0</td>\n",
              "      <td>0</td>\n",
              "      <td>0</td>\n",
              "      <td>0</td>\n",
              "      <td>1</td>\n",
              "      <td>0</td>\n",
              "      <td>0</td>\n",
              "      <td>0</td>\n",
              "      <td>0</td>\n",
              "      <td>0</td>\n",
              "      <td>0</td>\n",
              "      <td>0</td>\n",
              "      <td>0</td>\n",
              "      <td>0</td>\n",
              "      <td>0</td>\n",
              "      <td>0</td>\n",
              "      <td>0</td>\n",
              "      <td>0</td>\n",
              "      <td>0</td>\n",
              "      <td>0</td>\n",
              "      <td>0</td>\n",
              "      <td>0</td>\n",
              "      <td>0</td>\n",
              "      <td>1</td>\n",
              "      <td>0</td>\n",
              "      <td>TCP</td>\n",
              "    </tr>\n",
              "    <tr>\n",
              "      <th>18</th>\n",
              "      <td>0.021</td>\n",
              "      <td>60025</td>\n",
              "      <td>80.0</td>\n",
              "      <td>2</td>\n",
              "      <td>108</td>\n",
              "      <td>1</td>\n",
              "      <td>0</td>\n",
              "      <td>0</td>\n",
              "      <td>0</td>\n",
              "      <td>0</td>\n",
              "      <td>0</td>\n",
              "      <td>0</td>\n",
              "      <td>0</td>\n",
              "      <td>1</td>\n",
              "      <td>0</td>\n",
              "      <td>0</td>\n",
              "      <td>0</td>\n",
              "      <td>0</td>\n",
              "      <td>0</td>\n",
              "      <td>0</td>\n",
              "      <td>0</td>\n",
              "      <td>0</td>\n",
              "      <td>0</td>\n",
              "      <td>0</td>\n",
              "      <td>0</td>\n",
              "      <td>0</td>\n",
              "      <td>0</td>\n",
              "      <td>0</td>\n",
              "      <td>0</td>\n",
              "      <td>0</td>\n",
              "      <td>0</td>\n",
              "      <td>1</td>\n",
              "      <td>0</td>\n",
              "      <td>TCP</td>\n",
              "    </tr>\n",
              "    <tr>\n",
              "      <th>21</th>\n",
              "      <td>0.000</td>\n",
              "      <td>63957</td>\n",
              "      <td>53.0</td>\n",
              "      <td>1</td>\n",
              "      <td>82</td>\n",
              "      <td>1</td>\n",
              "      <td>0</td>\n",
              "      <td>1</td>\n",
              "      <td>0</td>\n",
              "      <td>0</td>\n",
              "      <td>0</td>\n",
              "      <td>0</td>\n",
              "      <td>0</td>\n",
              "      <td>0</td>\n",
              "      <td>0</td>\n",
              "      <td>0</td>\n",
              "      <td>0</td>\n",
              "      <td>0</td>\n",
              "      <td>0</td>\n",
              "      <td>0</td>\n",
              "      <td>0</td>\n",
              "      <td>0</td>\n",
              "      <td>0</td>\n",
              "      <td>0</td>\n",
              "      <td>0</td>\n",
              "      <td>0</td>\n",
              "      <td>0</td>\n",
              "      <td>0</td>\n",
              "      <td>0</td>\n",
              "      <td>0</td>\n",
              "      <td>0</td>\n",
              "      <td>1</td>\n",
              "      <td>0</td>\n",
              "      <td>UDP</td>\n",
              "    </tr>\n",
              "    <tr>\n",
              "      <th>26</th>\n",
              "      <td>0.032</td>\n",
              "      <td>40285</td>\n",
              "      <td>80.0</td>\n",
              "      <td>3</td>\n",
              "      <td>624</td>\n",
              "      <td>1</td>\n",
              "      <td>0</td>\n",
              "      <td>0</td>\n",
              "      <td>0</td>\n",
              "      <td>0</td>\n",
              "      <td>0</td>\n",
              "      <td>0</td>\n",
              "      <td>0</td>\n",
              "      <td>0</td>\n",
              "      <td>0</td>\n",
              "      <td>0</td>\n",
              "      <td>0</td>\n",
              "      <td>0</td>\n",
              "      <td>0</td>\n",
              "      <td>0</td>\n",
              "      <td>1</td>\n",
              "      <td>0</td>\n",
              "      <td>0</td>\n",
              "      <td>0</td>\n",
              "      <td>0</td>\n",
              "      <td>0</td>\n",
              "      <td>0</td>\n",
              "      <td>0</td>\n",
              "      <td>0</td>\n",
              "      <td>0</td>\n",
              "      <td>0</td>\n",
              "      <td>1</td>\n",
              "      <td>0</td>\n",
              "      <td>TCP</td>\n",
              "    </tr>\n",
              "    <tr>\n",
              "      <th>...</th>\n",
              "      <td>...</td>\n",
              "      <td>...</td>\n",
              "      <td>...</td>\n",
              "      <td>...</td>\n",
              "      <td>...</td>\n",
              "      <td>...</td>\n",
              "      <td>...</td>\n",
              "      <td>...</td>\n",
              "      <td>...</td>\n",
              "      <td>...</td>\n",
              "      <td>...</td>\n",
              "      <td>...</td>\n",
              "      <td>...</td>\n",
              "      <td>...</td>\n",
              "      <td>...</td>\n",
              "      <td>...</td>\n",
              "      <td>...</td>\n",
              "      <td>...</td>\n",
              "      <td>...</td>\n",
              "      <td>...</td>\n",
              "      <td>...</td>\n",
              "      <td>...</td>\n",
              "      <td>...</td>\n",
              "      <td>...</td>\n",
              "      <td>...</td>\n",
              "      <td>...</td>\n",
              "      <td>...</td>\n",
              "      <td>...</td>\n",
              "      <td>...</td>\n",
              "      <td>...</td>\n",
              "      <td>...</td>\n",
              "      <td>...</td>\n",
              "      <td>...</td>\n",
              "      <td>...</td>\n",
              "    </tr>\n",
              "    <tr>\n",
              "      <th>5231831</th>\n",
              "      <td>0.000</td>\n",
              "      <td>5907</td>\n",
              "      <td>47529.0</td>\n",
              "      <td>1</td>\n",
              "      <td>54</td>\n",
              "      <td>1</td>\n",
              "      <td>0</td>\n",
              "      <td>0</td>\n",
              "      <td>0</td>\n",
              "      <td>0</td>\n",
              "      <td>0</td>\n",
              "      <td>0</td>\n",
              "      <td>0</td>\n",
              "      <td>0</td>\n",
              "      <td>0</td>\n",
              "      <td>0</td>\n",
              "      <td>1</td>\n",
              "      <td>0</td>\n",
              "      <td>0</td>\n",
              "      <td>0</td>\n",
              "      <td>0</td>\n",
              "      <td>0</td>\n",
              "      <td>0</td>\n",
              "      <td>0</td>\n",
              "      <td>0</td>\n",
              "      <td>0</td>\n",
              "      <td>0</td>\n",
              "      <td>0</td>\n",
              "      <td>0</td>\n",
              "      <td>1</td>\n",
              "      <td>0</td>\n",
              "      <td>0</td>\n",
              "      <td>1</td>\n",
              "      <td>TCP</td>\n",
              "    </tr>\n",
              "    <tr>\n",
              "      <th>5231832</th>\n",
              "      <td>0.000</td>\n",
              "      <td>3</td>\n",
              "      <td>47529.0</td>\n",
              "      <td>1</td>\n",
              "      <td>54</td>\n",
              "      <td>1</td>\n",
              "      <td>0</td>\n",
              "      <td>0</td>\n",
              "      <td>0</td>\n",
              "      <td>0</td>\n",
              "      <td>0</td>\n",
              "      <td>0</td>\n",
              "      <td>0</td>\n",
              "      <td>0</td>\n",
              "      <td>0</td>\n",
              "      <td>0</td>\n",
              "      <td>1</td>\n",
              "      <td>0</td>\n",
              "      <td>0</td>\n",
              "      <td>0</td>\n",
              "      <td>0</td>\n",
              "      <td>0</td>\n",
              "      <td>0</td>\n",
              "      <td>0</td>\n",
              "      <td>0</td>\n",
              "      <td>0</td>\n",
              "      <td>0</td>\n",
              "      <td>0</td>\n",
              "      <td>0</td>\n",
              "      <td>1</td>\n",
              "      <td>0</td>\n",
              "      <td>0</td>\n",
              "      <td>1</td>\n",
              "      <td>TCP</td>\n",
              "    </tr>\n",
              "    <tr>\n",
              "      <th>5231833</th>\n",
              "      <td>0.000</td>\n",
              "      <td>32778</td>\n",
              "      <td>47529.0</td>\n",
              "      <td>1</td>\n",
              "      <td>54</td>\n",
              "      <td>1</td>\n",
              "      <td>0</td>\n",
              "      <td>0</td>\n",
              "      <td>0</td>\n",
              "      <td>0</td>\n",
              "      <td>0</td>\n",
              "      <td>0</td>\n",
              "      <td>0</td>\n",
              "      <td>0</td>\n",
              "      <td>0</td>\n",
              "      <td>0</td>\n",
              "      <td>1</td>\n",
              "      <td>0</td>\n",
              "      <td>0</td>\n",
              "      <td>0</td>\n",
              "      <td>0</td>\n",
              "      <td>0</td>\n",
              "      <td>0</td>\n",
              "      <td>0</td>\n",
              "      <td>0</td>\n",
              "      <td>0</td>\n",
              "      <td>0</td>\n",
              "      <td>0</td>\n",
              "      <td>0</td>\n",
              "      <td>1</td>\n",
              "      <td>0</td>\n",
              "      <td>0</td>\n",
              "      <td>1</td>\n",
              "      <td>TCP</td>\n",
              "    </tr>\n",
              "    <tr>\n",
              "      <th>5231834</th>\n",
              "      <td>0.000</td>\n",
              "      <td>8800</td>\n",
              "      <td>47529.0</td>\n",
              "      <td>1</td>\n",
              "      <td>54</td>\n",
              "      <td>1</td>\n",
              "      <td>0</td>\n",
              "      <td>0</td>\n",
              "      <td>0</td>\n",
              "      <td>0</td>\n",
              "      <td>0</td>\n",
              "      <td>0</td>\n",
              "      <td>0</td>\n",
              "      <td>0</td>\n",
              "      <td>0</td>\n",
              "      <td>0</td>\n",
              "      <td>1</td>\n",
              "      <td>0</td>\n",
              "      <td>0</td>\n",
              "      <td>0</td>\n",
              "      <td>0</td>\n",
              "      <td>0</td>\n",
              "      <td>0</td>\n",
              "      <td>0</td>\n",
              "      <td>0</td>\n",
              "      <td>0</td>\n",
              "      <td>0</td>\n",
              "      <td>0</td>\n",
              "      <td>0</td>\n",
              "      <td>1</td>\n",
              "      <td>0</td>\n",
              "      <td>0</td>\n",
              "      <td>1</td>\n",
              "      <td>TCP</td>\n",
              "    </tr>\n",
              "    <tr>\n",
              "      <th>5231835</th>\n",
              "      <td>0.000</td>\n",
              "      <td>47529</td>\n",
              "      <td>6881.0</td>\n",
              "      <td>1</td>\n",
              "      <td>58</td>\n",
              "      <td>1</td>\n",
              "      <td>0</td>\n",
              "      <td>0</td>\n",
              "      <td>0</td>\n",
              "      <td>1</td>\n",
              "      <td>0</td>\n",
              "      <td>0</td>\n",
              "      <td>0</td>\n",
              "      <td>0</td>\n",
              "      <td>0</td>\n",
              "      <td>0</td>\n",
              "      <td>0</td>\n",
              "      <td>0</td>\n",
              "      <td>0</td>\n",
              "      <td>0</td>\n",
              "      <td>0</td>\n",
              "      <td>0</td>\n",
              "      <td>0</td>\n",
              "      <td>0</td>\n",
              "      <td>0</td>\n",
              "      <td>0</td>\n",
              "      <td>0</td>\n",
              "      <td>0</td>\n",
              "      <td>0</td>\n",
              "      <td>1</td>\n",
              "      <td>0</td>\n",
              "      <td>0</td>\n",
              "      <td>1</td>\n",
              "      <td>TCP</td>\n",
              "    </tr>\n",
              "  </tbody>\n",
              "</table>\n",
              "<p>1689346 rows × 34 columns</p>\n",
              "</div>\n",
              "    <div class=\"colab-df-buttons\">\n",
              "\n",
              "  <div class=\"colab-df-container\">\n",
              "    <button class=\"colab-df-convert\" onclick=\"convertToInteractive('df-795c2bbc-0e4d-48dd-800f-fdc45eee1b56')\"\n",
              "            title=\"Convert this dataframe to an interactive table.\"\n",
              "            style=\"display:none;\">\n",
              "\n",
              "  <svg xmlns=\"http://www.w3.org/2000/svg\" height=\"24px\" viewBox=\"0 -960 960 960\">\n",
              "    <path d=\"M120-120v-720h720v720H120Zm60-500h600v-160H180v160Zm220 220h160v-160H400v160Zm0 220h160v-160H400v160ZM180-400h160v-160H180v160Zm440 0h160v-160H620v160ZM180-180h160v-160H180v160Zm440 0h160v-160H620v160Z\"/>\n",
              "  </svg>\n",
              "    </button>\n",
              "\n",
              "  <style>\n",
              "    .colab-df-container {\n",
              "      display:flex;\n",
              "      gap: 12px;\n",
              "    }\n",
              "\n",
              "    .colab-df-convert {\n",
              "      background-color: #E8F0FE;\n",
              "      border: none;\n",
              "      border-radius: 50%;\n",
              "      cursor: pointer;\n",
              "      display: none;\n",
              "      fill: #1967D2;\n",
              "      height: 32px;\n",
              "      padding: 0 0 0 0;\n",
              "      width: 32px;\n",
              "    }\n",
              "\n",
              "    .colab-df-convert:hover {\n",
              "      background-color: #E2EBFA;\n",
              "      box-shadow: 0px 1px 2px rgba(60, 64, 67, 0.3), 0px 1px 3px 1px rgba(60, 64, 67, 0.15);\n",
              "      fill: #174EA6;\n",
              "    }\n",
              "\n",
              "    .colab-df-buttons div {\n",
              "      margin-bottom: 4px;\n",
              "    }\n",
              "\n",
              "    [theme=dark] .colab-df-convert {\n",
              "      background-color: #3B4455;\n",
              "      fill: #D2E3FC;\n",
              "    }\n",
              "\n",
              "    [theme=dark] .colab-df-convert:hover {\n",
              "      background-color: #434B5C;\n",
              "      box-shadow: 0px 1px 3px 1px rgba(0, 0, 0, 0.15);\n",
              "      filter: drop-shadow(0px 1px 2px rgba(0, 0, 0, 0.3));\n",
              "      fill: #FFFFFF;\n",
              "    }\n",
              "  </style>\n",
              "\n",
              "    <script>\n",
              "      const buttonEl =\n",
              "        document.querySelector('#df-795c2bbc-0e4d-48dd-800f-fdc45eee1b56 button.colab-df-convert');\n",
              "      buttonEl.style.display =\n",
              "        google.colab.kernel.accessAllowed ? 'block' : 'none';\n",
              "\n",
              "      async function convertToInteractive(key) {\n",
              "        const element = document.querySelector('#df-795c2bbc-0e4d-48dd-800f-fdc45eee1b56');\n",
              "        const dataTable =\n",
              "          await google.colab.kernel.invokeFunction('convertToInteractive',\n",
              "                                                    [key], {});\n",
              "        if (!dataTable) return;\n",
              "\n",
              "        const docLinkHtml = 'Like what you see? Visit the ' +\n",
              "          '<a target=\"_blank\" href=https://colab.research.google.com/notebooks/data_table.ipynb>data table notebook</a>'\n",
              "          + ' to learn more about interactive tables.';\n",
              "        element.innerHTML = '';\n",
              "        dataTable['output_type'] = 'display_data';\n",
              "        await google.colab.output.renderOutput(dataTable, element);\n",
              "        const docLink = document.createElement('div');\n",
              "        docLink.innerHTML = docLinkHtml;\n",
              "        element.appendChild(docLink);\n",
              "      }\n",
              "    </script>\n",
              "  </div>\n",
              "\n",
              "\n",
              "<div id=\"df-daf1bae9-151e-42c7-abbc-3f9a0345f0e6\">\n",
              "  <button class=\"colab-df-quickchart\" onclick=\"quickchart('df-daf1bae9-151e-42c7-abbc-3f9a0345f0e6')\"\n",
              "            title=\"Suggest charts.\"\n",
              "            style=\"display:none;\">\n",
              "\n",
              "<svg xmlns=\"http://www.w3.org/2000/svg\" height=\"24px\"viewBox=\"0 0 24 24\"\n",
              "     width=\"24px\">\n",
              "    <g>\n",
              "        <path d=\"M19 3H5c-1.1 0-2 .9-2 2v14c0 1.1.9 2 2 2h14c1.1 0 2-.9 2-2V5c0-1.1-.9-2-2-2zM9 17H7v-7h2v7zm4 0h-2V7h2v10zm4 0h-2v-4h2v4z\"/>\n",
              "    </g>\n",
              "</svg>\n",
              "  </button>\n",
              "\n",
              "<style>\n",
              "  .colab-df-quickchart {\n",
              "      --bg-color: #E8F0FE;\n",
              "      --fill-color: #1967D2;\n",
              "      --hover-bg-color: #E2EBFA;\n",
              "      --hover-fill-color: #174EA6;\n",
              "      --disabled-fill-color: #AAA;\n",
              "      --disabled-bg-color: #DDD;\n",
              "  }\n",
              "\n",
              "  [theme=dark] .colab-df-quickchart {\n",
              "      --bg-color: #3B4455;\n",
              "      --fill-color: #D2E3FC;\n",
              "      --hover-bg-color: #434B5C;\n",
              "      --hover-fill-color: #FFFFFF;\n",
              "      --disabled-bg-color: #3B4455;\n",
              "      --disabled-fill-color: #666;\n",
              "  }\n",
              "\n",
              "  .colab-df-quickchart {\n",
              "    background-color: var(--bg-color);\n",
              "    border: none;\n",
              "    border-radius: 50%;\n",
              "    cursor: pointer;\n",
              "    display: none;\n",
              "    fill: var(--fill-color);\n",
              "    height: 32px;\n",
              "    padding: 0;\n",
              "    width: 32px;\n",
              "  }\n",
              "\n",
              "  .colab-df-quickchart:hover {\n",
              "    background-color: var(--hover-bg-color);\n",
              "    box-shadow: 0 1px 2px rgba(60, 64, 67, 0.3), 0 1px 3px 1px rgba(60, 64, 67, 0.15);\n",
              "    fill: var(--button-hover-fill-color);\n",
              "  }\n",
              "\n",
              "  .colab-df-quickchart-complete:disabled,\n",
              "  .colab-df-quickchart-complete:disabled:hover {\n",
              "    background-color: var(--disabled-bg-color);\n",
              "    fill: var(--disabled-fill-color);\n",
              "    box-shadow: none;\n",
              "  }\n",
              "\n",
              "  .colab-df-spinner {\n",
              "    border: 2px solid var(--fill-color);\n",
              "    border-color: transparent;\n",
              "    border-bottom-color: var(--fill-color);\n",
              "    animation:\n",
              "      spin 1s steps(1) infinite;\n",
              "  }\n",
              "\n",
              "  @keyframes spin {\n",
              "    0% {\n",
              "      border-color: transparent;\n",
              "      border-bottom-color: var(--fill-color);\n",
              "      border-left-color: var(--fill-color);\n",
              "    }\n",
              "    20% {\n",
              "      border-color: transparent;\n",
              "      border-left-color: var(--fill-color);\n",
              "      border-top-color: var(--fill-color);\n",
              "    }\n",
              "    30% {\n",
              "      border-color: transparent;\n",
              "      border-left-color: var(--fill-color);\n",
              "      border-top-color: var(--fill-color);\n",
              "      border-right-color: var(--fill-color);\n",
              "    }\n",
              "    40% {\n",
              "      border-color: transparent;\n",
              "      border-right-color: var(--fill-color);\n",
              "      border-top-color: var(--fill-color);\n",
              "    }\n",
              "    60% {\n",
              "      border-color: transparent;\n",
              "      border-right-color: var(--fill-color);\n",
              "    }\n",
              "    80% {\n",
              "      border-color: transparent;\n",
              "      border-right-color: var(--fill-color);\n",
              "      border-bottom-color: var(--fill-color);\n",
              "    }\n",
              "    90% {\n",
              "      border-color: transparent;\n",
              "      border-bottom-color: var(--fill-color);\n",
              "    }\n",
              "  }\n",
              "</style>\n",
              "\n",
              "  <script>\n",
              "    async function quickchart(key) {\n",
              "      const quickchartButtonEl =\n",
              "        document.querySelector('#' + key + ' button');\n",
              "      quickchartButtonEl.disabled = true;  // To prevent multiple clicks.\n",
              "      quickchartButtonEl.classList.add('colab-df-spinner');\n",
              "      try {\n",
              "        const charts = await google.colab.kernel.invokeFunction(\n",
              "            'suggestCharts', [key], {});\n",
              "      } catch (error) {\n",
              "        console.error('Error during call to suggestCharts:', error);\n",
              "      }\n",
              "      quickchartButtonEl.classList.remove('colab-df-spinner');\n",
              "      quickchartButtonEl.classList.add('colab-df-quickchart-complete');\n",
              "    }\n",
              "    (() => {\n",
              "      let quickchartButtonEl =\n",
              "        document.querySelector('#df-daf1bae9-151e-42c7-abbc-3f9a0345f0e6 button');\n",
              "      quickchartButtonEl.style.display =\n",
              "        google.colab.kernel.accessAllowed ? 'block' : 'none';\n",
              "    })();\n",
              "  </script>\n",
              "</div>\n",
              "    </div>\n",
              "  </div>\n"
            ]
          },
          "metadata": {},
          "execution_count": 31
        }
      ],
      "source": [
        "final_df = pd.concat([X, y], axis=1)\n",
        "final_df"
      ]
    },
    {
      "cell_type": "markdown",
      "metadata": {
        "id": "Z7K2K3w_Xi9Y"
      },
      "source": [
        "### Train-Test split"
      ]
    },
    {
      "cell_type": "code",
      "execution_count": 32,
      "metadata": {
        "colab": {
          "base_uri": "https://localhost:8080/",
          "height": 0
        },
        "execution": {
          "iopub.execute_input": "2023-09-19T12:40:47.122782Z",
          "iopub.status.busy": "2023-09-19T12:40:47.122323Z",
          "iopub.status.idle": "2023-09-19T12:40:47.857288Z",
          "shell.execute_reply": "2023-09-19T12:40:47.856210Z",
          "shell.execute_reply.started": "2023-09-19T12:40:47.122753Z"
        },
        "id": "RErtPgnRXiai",
        "outputId": "05bd5cd7-752e-4d73-83f5-d898ec9d6bc5",
        "trusted": true
      },
      "outputs": [
        {
          "output_type": "execute_result",
          "data": {
            "text/plain": [
              "         Duration  Src Pt   Dst Pt  Packets  Bytes  Flows  Tos  Flags_......  \\\n",
              "2229571     0.000     443  60382.0        1     66      1   32             0   \n",
              "3279170     0.000      80  55252.0        1     66      1    0             0   \n",
              "2212238     0.021     443  54397.0        3    193      1    0             0   \n",
              "4756011     0.000     787  50342.0        1     54      1    0             0   \n",
              "2265158     0.045      53  36795.0        2    380      1    0             1   \n",
              "...           ...     ...      ...      ...    ...    ...  ...           ...   \n",
              "1294916     0.026   62375    443.0        4    568      1    0             0   \n",
              "4937499     6.410       0      3.3        5    350      1  192             1   \n",
              "658411      0.000      53  57615.0        1     91      1    0             1   \n",
              "2931232     0.000   46755   4129.0        1     58      1    0             0   \n",
              "608357      0.000   33411    443.0        1     66      1    0             0   \n",
              "\n",
              "         Flags_.....F  Flags_....S.  Flags_...R..  Flags_...RS.  Flags_.A....  \\\n",
              "2229571             0             0             0             0             0   \n",
              "3279170             0             0             0             0             1   \n",
              "2212238             0             0             0             0             0   \n",
              "4756011             0             0             0             0             0   \n",
              "2265158             0             0             0             0             0   \n",
              "...               ...           ...           ...           ...           ...   \n",
              "1294916             0             0             0             0             0   \n",
              "4937499             0             0             0             0             0   \n",
              "658411              0             0             0             0             0   \n",
              "2931232             0             1             0             0             0   \n",
              "608357              0             0             0             0             1   \n",
              "\n",
              "         Flags_.A...F  Flags_.A..S.  Flags_.A..SF  Flags_.A.R..  Flags_.A.R.F  \\\n",
              "2229571             1             0             0             0             0   \n",
              "3279170             0             0             0             0             0   \n",
              "2212238             0             0             0             0             0   \n",
              "4756011             0             0             0             1             0   \n",
              "2265158             0             0             0             0             0   \n",
              "...               ...           ...           ...           ...           ...   \n",
              "1294916             0             0             0             0             0   \n",
              "4937499             0             0             0             0             0   \n",
              "658411              0             0             0             0             0   \n",
              "2931232             0             0             0             0             0   \n",
              "608357              0             0             0             0             0   \n",
              "\n",
              "         Flags_.A.RS.  Flags_.A.RSF  Flags_.AP...  Flags_.AP..F  Flags_.AP.S.  \\\n",
              "2229571             0             0             0             0             0   \n",
              "3279170             0             0             0             0             0   \n",
              "2212238             0             0             0             1             0   \n",
              "4756011             0             0             0             0             0   \n",
              "2265158             0             0             0             0             0   \n",
              "...               ...           ...           ...           ...           ...   \n",
              "1294916             0             0             1             0             0   \n",
              "4937499             0             0             0             0             0   \n",
              "658411              0             0             0             0             0   \n",
              "2931232             0             0             0             0             0   \n",
              "608357              0             0             0             0             0   \n",
              "\n",
              "         Flags_.AP.SF  Flags_.APR..  Flags_.APR.F  Flags_.APRS.  Flags_.APRSF  \\\n",
              "2229571             0             0             0             0             0   \n",
              "3279170             0             0             0             0             0   \n",
              "2212238             0             0             0             0             0   \n",
              "4756011             0             0             0             0             0   \n",
              "2265158             0             0             0             0             0   \n",
              "...               ...           ...           ...           ...           ...   \n",
              "1294916             0             0             0             0             0   \n",
              "4937499             0             0             0             0             0   \n",
              "658411              0             0             0             0             0   \n",
              "2931232             0             0             0             0             0   \n",
              "608357              0             0             0             0             0   \n",
              "\n",
              "         attackDescription_ICMP  attackDescription_TCP  attackDescription_UDP  \\\n",
              "2229571                       0                      0                      0   \n",
              "3279170                       0                      0                      0   \n",
              "2212238                       0                      0                      0   \n",
              "4756011                       0                      1                      0   \n",
              "2265158                       0                      0                      0   \n",
              "...                         ...                    ...                    ...   \n",
              "1294916                       0                      0                      0   \n",
              "4937499                       0                      0                      1   \n",
              "658411                        0                      0                      0   \n",
              "2931232                       0                      1                      0   \n",
              "608357                        0                      0                      0   \n",
              "\n",
              "         attackDescription_normal  label  Proto  \n",
              "2229571                         1      0  TCP    \n",
              "3279170                         1      0  TCP    \n",
              "2212238                         1      0  TCP    \n",
              "4756011                         0      1  TCP    \n",
              "2265158                         1      0  UDP    \n",
              "...                           ...    ...    ...  \n",
              "1294916                         1      0  TCP    \n",
              "4937499                         0      1  ICMP   \n",
              "658411                          1      0  UDP    \n",
              "2931232                         0      1  TCP    \n",
              "608357                          1      0  TCP    \n",
              "\n",
              "[1182542 rows x 34 columns]"
            ],
            "text/html": [
              "\n",
              "  <div id=\"df-629911b4-b1d5-46c5-87bf-a9ef3df8d045\" class=\"colab-df-container\">\n",
              "    <div>\n",
              "<style scoped>\n",
              "    .dataframe tbody tr th:only-of-type {\n",
              "        vertical-align: middle;\n",
              "    }\n",
              "\n",
              "    .dataframe tbody tr th {\n",
              "        vertical-align: top;\n",
              "    }\n",
              "\n",
              "    .dataframe thead th {\n",
              "        text-align: right;\n",
              "    }\n",
              "</style>\n",
              "<table border=\"1\" class=\"dataframe\">\n",
              "  <thead>\n",
              "    <tr style=\"text-align: right;\">\n",
              "      <th></th>\n",
              "      <th>Duration</th>\n",
              "      <th>Src Pt</th>\n",
              "      <th>Dst Pt</th>\n",
              "      <th>Packets</th>\n",
              "      <th>Bytes</th>\n",
              "      <th>Flows</th>\n",
              "      <th>Tos</th>\n",
              "      <th>Flags_......</th>\n",
              "      <th>Flags_.....F</th>\n",
              "      <th>Flags_....S.</th>\n",
              "      <th>Flags_...R..</th>\n",
              "      <th>Flags_...RS.</th>\n",
              "      <th>Flags_.A....</th>\n",
              "      <th>Flags_.A...F</th>\n",
              "      <th>Flags_.A..S.</th>\n",
              "      <th>Flags_.A..SF</th>\n",
              "      <th>Flags_.A.R..</th>\n",
              "      <th>Flags_.A.R.F</th>\n",
              "      <th>Flags_.A.RS.</th>\n",
              "      <th>Flags_.A.RSF</th>\n",
              "      <th>Flags_.AP...</th>\n",
              "      <th>Flags_.AP..F</th>\n",
              "      <th>Flags_.AP.S.</th>\n",
              "      <th>Flags_.AP.SF</th>\n",
              "      <th>Flags_.APR..</th>\n",
              "      <th>Flags_.APR.F</th>\n",
              "      <th>Flags_.APRS.</th>\n",
              "      <th>Flags_.APRSF</th>\n",
              "      <th>attackDescription_ICMP</th>\n",
              "      <th>attackDescription_TCP</th>\n",
              "      <th>attackDescription_UDP</th>\n",
              "      <th>attackDescription_normal</th>\n",
              "      <th>label</th>\n",
              "      <th>Proto</th>\n",
              "    </tr>\n",
              "  </thead>\n",
              "  <tbody>\n",
              "    <tr>\n",
              "      <th>2229571</th>\n",
              "      <td>0.000</td>\n",
              "      <td>443</td>\n",
              "      <td>60382.0</td>\n",
              "      <td>1</td>\n",
              "      <td>66</td>\n",
              "      <td>1</td>\n",
              "      <td>32</td>\n",
              "      <td>0</td>\n",
              "      <td>0</td>\n",
              "      <td>0</td>\n",
              "      <td>0</td>\n",
              "      <td>0</td>\n",
              "      <td>0</td>\n",
              "      <td>1</td>\n",
              "      <td>0</td>\n",
              "      <td>0</td>\n",
              "      <td>0</td>\n",
              "      <td>0</td>\n",
              "      <td>0</td>\n",
              "      <td>0</td>\n",
              "      <td>0</td>\n",
              "      <td>0</td>\n",
              "      <td>0</td>\n",
              "      <td>0</td>\n",
              "      <td>0</td>\n",
              "      <td>0</td>\n",
              "      <td>0</td>\n",
              "      <td>0</td>\n",
              "      <td>0</td>\n",
              "      <td>0</td>\n",
              "      <td>0</td>\n",
              "      <td>1</td>\n",
              "      <td>0</td>\n",
              "      <td>TCP</td>\n",
              "    </tr>\n",
              "    <tr>\n",
              "      <th>3279170</th>\n",
              "      <td>0.000</td>\n",
              "      <td>80</td>\n",
              "      <td>55252.0</td>\n",
              "      <td>1</td>\n",
              "      <td>66</td>\n",
              "      <td>1</td>\n",
              "      <td>0</td>\n",
              "      <td>0</td>\n",
              "      <td>0</td>\n",
              "      <td>0</td>\n",
              "      <td>0</td>\n",
              "      <td>0</td>\n",
              "      <td>1</td>\n",
              "      <td>0</td>\n",
              "      <td>0</td>\n",
              "      <td>0</td>\n",
              "      <td>0</td>\n",
              "      <td>0</td>\n",
              "      <td>0</td>\n",
              "      <td>0</td>\n",
              "      <td>0</td>\n",
              "      <td>0</td>\n",
              "      <td>0</td>\n",
              "      <td>0</td>\n",
              "      <td>0</td>\n",
              "      <td>0</td>\n",
              "      <td>0</td>\n",
              "      <td>0</td>\n",
              "      <td>0</td>\n",
              "      <td>0</td>\n",
              "      <td>0</td>\n",
              "      <td>1</td>\n",
              "      <td>0</td>\n",
              "      <td>TCP</td>\n",
              "    </tr>\n",
              "    <tr>\n",
              "      <th>2212238</th>\n",
              "      <td>0.021</td>\n",
              "      <td>443</td>\n",
              "      <td>54397.0</td>\n",
              "      <td>3</td>\n",
              "      <td>193</td>\n",
              "      <td>1</td>\n",
              "      <td>0</td>\n",
              "      <td>0</td>\n",
              "      <td>0</td>\n",
              "      <td>0</td>\n",
              "      <td>0</td>\n",
              "      <td>0</td>\n",
              "      <td>0</td>\n",
              "      <td>0</td>\n",
              "      <td>0</td>\n",
              "      <td>0</td>\n",
              "      <td>0</td>\n",
              "      <td>0</td>\n",
              "      <td>0</td>\n",
              "      <td>0</td>\n",
              "      <td>0</td>\n",
              "      <td>1</td>\n",
              "      <td>0</td>\n",
              "      <td>0</td>\n",
              "      <td>0</td>\n",
              "      <td>0</td>\n",
              "      <td>0</td>\n",
              "      <td>0</td>\n",
              "      <td>0</td>\n",
              "      <td>0</td>\n",
              "      <td>0</td>\n",
              "      <td>1</td>\n",
              "      <td>0</td>\n",
              "      <td>TCP</td>\n",
              "    </tr>\n",
              "    <tr>\n",
              "      <th>4756011</th>\n",
              "      <td>0.000</td>\n",
              "      <td>787</td>\n",
              "      <td>50342.0</td>\n",
              "      <td>1</td>\n",
              "      <td>54</td>\n",
              "      <td>1</td>\n",
              "      <td>0</td>\n",
              "      <td>0</td>\n",
              "      <td>0</td>\n",
              "      <td>0</td>\n",
              "      <td>0</td>\n",
              "      <td>0</td>\n",
              "      <td>0</td>\n",
              "      <td>0</td>\n",
              "      <td>0</td>\n",
              "      <td>0</td>\n",
              "      <td>1</td>\n",
              "      <td>0</td>\n",
              "      <td>0</td>\n",
              "      <td>0</td>\n",
              "      <td>0</td>\n",
              "      <td>0</td>\n",
              "      <td>0</td>\n",
              "      <td>0</td>\n",
              "      <td>0</td>\n",
              "      <td>0</td>\n",
              "      <td>0</td>\n",
              "      <td>0</td>\n",
              "      <td>0</td>\n",
              "      <td>1</td>\n",
              "      <td>0</td>\n",
              "      <td>0</td>\n",
              "      <td>1</td>\n",
              "      <td>TCP</td>\n",
              "    </tr>\n",
              "    <tr>\n",
              "      <th>2265158</th>\n",
              "      <td>0.045</td>\n",
              "      <td>53</td>\n",
              "      <td>36795.0</td>\n",
              "      <td>2</td>\n",
              "      <td>380</td>\n",
              "      <td>1</td>\n",
              "      <td>0</td>\n",
              "      <td>1</td>\n",
              "      <td>0</td>\n",
              "      <td>0</td>\n",
              "      <td>0</td>\n",
              "      <td>0</td>\n",
              "      <td>0</td>\n",
              "      <td>0</td>\n",
              "      <td>0</td>\n",
              "      <td>0</td>\n",
              "      <td>0</td>\n",
              "      <td>0</td>\n",
              "      <td>0</td>\n",
              "      <td>0</td>\n",
              "      <td>0</td>\n",
              "      <td>0</td>\n",
              "      <td>0</td>\n",
              "      <td>0</td>\n",
              "      <td>0</td>\n",
              "      <td>0</td>\n",
              "      <td>0</td>\n",
              "      <td>0</td>\n",
              "      <td>0</td>\n",
              "      <td>0</td>\n",
              "      <td>0</td>\n",
              "      <td>1</td>\n",
              "      <td>0</td>\n",
              "      <td>UDP</td>\n",
              "    </tr>\n",
              "    <tr>\n",
              "      <th>...</th>\n",
              "      <td>...</td>\n",
              "      <td>...</td>\n",
              "      <td>...</td>\n",
              "      <td>...</td>\n",
              "      <td>...</td>\n",
              "      <td>...</td>\n",
              "      <td>...</td>\n",
              "      <td>...</td>\n",
              "      <td>...</td>\n",
              "      <td>...</td>\n",
              "      <td>...</td>\n",
              "      <td>...</td>\n",
              "      <td>...</td>\n",
              "      <td>...</td>\n",
              "      <td>...</td>\n",
              "      <td>...</td>\n",
              "      <td>...</td>\n",
              "      <td>...</td>\n",
              "      <td>...</td>\n",
              "      <td>...</td>\n",
              "      <td>...</td>\n",
              "      <td>...</td>\n",
              "      <td>...</td>\n",
              "      <td>...</td>\n",
              "      <td>...</td>\n",
              "      <td>...</td>\n",
              "      <td>...</td>\n",
              "      <td>...</td>\n",
              "      <td>...</td>\n",
              "      <td>...</td>\n",
              "      <td>...</td>\n",
              "      <td>...</td>\n",
              "      <td>...</td>\n",
              "      <td>...</td>\n",
              "    </tr>\n",
              "    <tr>\n",
              "      <th>1294916</th>\n",
              "      <td>0.026</td>\n",
              "      <td>62375</td>\n",
              "      <td>443.0</td>\n",
              "      <td>4</td>\n",
              "      <td>568</td>\n",
              "      <td>1</td>\n",
              "      <td>0</td>\n",
              "      <td>0</td>\n",
              "      <td>0</td>\n",
              "      <td>0</td>\n",
              "      <td>0</td>\n",
              "      <td>0</td>\n",
              "      <td>0</td>\n",
              "      <td>0</td>\n",
              "      <td>0</td>\n",
              "      <td>0</td>\n",
              "      <td>0</td>\n",
              "      <td>0</td>\n",
              "      <td>0</td>\n",
              "      <td>0</td>\n",
              "      <td>1</td>\n",
              "      <td>0</td>\n",
              "      <td>0</td>\n",
              "      <td>0</td>\n",
              "      <td>0</td>\n",
              "      <td>0</td>\n",
              "      <td>0</td>\n",
              "      <td>0</td>\n",
              "      <td>0</td>\n",
              "      <td>0</td>\n",
              "      <td>0</td>\n",
              "      <td>1</td>\n",
              "      <td>0</td>\n",
              "      <td>TCP</td>\n",
              "    </tr>\n",
              "    <tr>\n",
              "      <th>4937499</th>\n",
              "      <td>6.410</td>\n",
              "      <td>0</td>\n",
              "      <td>3.3</td>\n",
              "      <td>5</td>\n",
              "      <td>350</td>\n",
              "      <td>1</td>\n",
              "      <td>192</td>\n",
              "      <td>1</td>\n",
              "      <td>0</td>\n",
              "      <td>0</td>\n",
              "      <td>0</td>\n",
              "      <td>0</td>\n",
              "      <td>0</td>\n",
              "      <td>0</td>\n",
              "      <td>0</td>\n",
              "      <td>0</td>\n",
              "      <td>0</td>\n",
              "      <td>0</td>\n",
              "      <td>0</td>\n",
              "      <td>0</td>\n",
              "      <td>0</td>\n",
              "      <td>0</td>\n",
              "      <td>0</td>\n",
              "      <td>0</td>\n",
              "      <td>0</td>\n",
              "      <td>0</td>\n",
              "      <td>0</td>\n",
              "      <td>0</td>\n",
              "      <td>0</td>\n",
              "      <td>0</td>\n",
              "      <td>1</td>\n",
              "      <td>0</td>\n",
              "      <td>1</td>\n",
              "      <td>ICMP</td>\n",
              "    </tr>\n",
              "    <tr>\n",
              "      <th>658411</th>\n",
              "      <td>0.000</td>\n",
              "      <td>53</td>\n",
              "      <td>57615.0</td>\n",
              "      <td>1</td>\n",
              "      <td>91</td>\n",
              "      <td>1</td>\n",
              "      <td>0</td>\n",
              "      <td>1</td>\n",
              "      <td>0</td>\n",
              "      <td>0</td>\n",
              "      <td>0</td>\n",
              "      <td>0</td>\n",
              "      <td>0</td>\n",
              "      <td>0</td>\n",
              "      <td>0</td>\n",
              "      <td>0</td>\n",
              "      <td>0</td>\n",
              "      <td>0</td>\n",
              "      <td>0</td>\n",
              "      <td>0</td>\n",
              "      <td>0</td>\n",
              "      <td>0</td>\n",
              "      <td>0</td>\n",
              "      <td>0</td>\n",
              "      <td>0</td>\n",
              "      <td>0</td>\n",
              "      <td>0</td>\n",
              "      <td>0</td>\n",
              "      <td>0</td>\n",
              "      <td>0</td>\n",
              "      <td>0</td>\n",
              "      <td>1</td>\n",
              "      <td>0</td>\n",
              "      <td>UDP</td>\n",
              "    </tr>\n",
              "    <tr>\n",
              "      <th>2931232</th>\n",
              "      <td>0.000</td>\n",
              "      <td>46755</td>\n",
              "      <td>4129.0</td>\n",
              "      <td>1</td>\n",
              "      <td>58</td>\n",
              "      <td>1</td>\n",
              "      <td>0</td>\n",
              "      <td>0</td>\n",
              "      <td>0</td>\n",
              "      <td>1</td>\n",
              "      <td>0</td>\n",
              "      <td>0</td>\n",
              "      <td>0</td>\n",
              "      <td>0</td>\n",
              "      <td>0</td>\n",
              "      <td>0</td>\n",
              "      <td>0</td>\n",
              "      <td>0</td>\n",
              "      <td>0</td>\n",
              "      <td>0</td>\n",
              "      <td>0</td>\n",
              "      <td>0</td>\n",
              "      <td>0</td>\n",
              "      <td>0</td>\n",
              "      <td>0</td>\n",
              "      <td>0</td>\n",
              "      <td>0</td>\n",
              "      <td>0</td>\n",
              "      <td>0</td>\n",
              "      <td>1</td>\n",
              "      <td>0</td>\n",
              "      <td>0</td>\n",
              "      <td>1</td>\n",
              "      <td>TCP</td>\n",
              "    </tr>\n",
              "    <tr>\n",
              "      <th>608357</th>\n",
              "      <td>0.000</td>\n",
              "      <td>33411</td>\n",
              "      <td>443.0</td>\n",
              "      <td>1</td>\n",
              "      <td>66</td>\n",
              "      <td>1</td>\n",
              "      <td>0</td>\n",
              "      <td>0</td>\n",
              "      <td>0</td>\n",
              "      <td>0</td>\n",
              "      <td>0</td>\n",
              "      <td>0</td>\n",
              "      <td>1</td>\n",
              "      <td>0</td>\n",
              "      <td>0</td>\n",
              "      <td>0</td>\n",
              "      <td>0</td>\n",
              "      <td>0</td>\n",
              "      <td>0</td>\n",
              "      <td>0</td>\n",
              "      <td>0</td>\n",
              "      <td>0</td>\n",
              "      <td>0</td>\n",
              "      <td>0</td>\n",
              "      <td>0</td>\n",
              "      <td>0</td>\n",
              "      <td>0</td>\n",
              "      <td>0</td>\n",
              "      <td>0</td>\n",
              "      <td>0</td>\n",
              "      <td>0</td>\n",
              "      <td>1</td>\n",
              "      <td>0</td>\n",
              "      <td>TCP</td>\n",
              "    </tr>\n",
              "  </tbody>\n",
              "</table>\n",
              "<p>1182542 rows × 34 columns</p>\n",
              "</div>\n",
              "    <div class=\"colab-df-buttons\">\n",
              "\n",
              "  <div class=\"colab-df-container\">\n",
              "    <button class=\"colab-df-convert\" onclick=\"convertToInteractive('df-629911b4-b1d5-46c5-87bf-a9ef3df8d045')\"\n",
              "            title=\"Convert this dataframe to an interactive table.\"\n",
              "            style=\"display:none;\">\n",
              "\n",
              "  <svg xmlns=\"http://www.w3.org/2000/svg\" height=\"24px\" viewBox=\"0 -960 960 960\">\n",
              "    <path d=\"M120-120v-720h720v720H120Zm60-500h600v-160H180v160Zm220 220h160v-160H400v160Zm0 220h160v-160H400v160ZM180-400h160v-160H180v160Zm440 0h160v-160H620v160ZM180-180h160v-160H180v160Zm440 0h160v-160H620v160Z\"/>\n",
              "  </svg>\n",
              "    </button>\n",
              "\n",
              "  <style>\n",
              "    .colab-df-container {\n",
              "      display:flex;\n",
              "      gap: 12px;\n",
              "    }\n",
              "\n",
              "    .colab-df-convert {\n",
              "      background-color: #E8F0FE;\n",
              "      border: none;\n",
              "      border-radius: 50%;\n",
              "      cursor: pointer;\n",
              "      display: none;\n",
              "      fill: #1967D2;\n",
              "      height: 32px;\n",
              "      padding: 0 0 0 0;\n",
              "      width: 32px;\n",
              "    }\n",
              "\n",
              "    .colab-df-convert:hover {\n",
              "      background-color: #E2EBFA;\n",
              "      box-shadow: 0px 1px 2px rgba(60, 64, 67, 0.3), 0px 1px 3px 1px rgba(60, 64, 67, 0.15);\n",
              "      fill: #174EA6;\n",
              "    }\n",
              "\n",
              "    .colab-df-buttons div {\n",
              "      margin-bottom: 4px;\n",
              "    }\n",
              "\n",
              "    [theme=dark] .colab-df-convert {\n",
              "      background-color: #3B4455;\n",
              "      fill: #D2E3FC;\n",
              "    }\n",
              "\n",
              "    [theme=dark] .colab-df-convert:hover {\n",
              "      background-color: #434B5C;\n",
              "      box-shadow: 0px 1px 3px 1px rgba(0, 0, 0, 0.15);\n",
              "      filter: drop-shadow(0px 1px 2px rgba(0, 0, 0, 0.3));\n",
              "      fill: #FFFFFF;\n",
              "    }\n",
              "  </style>\n",
              "\n",
              "    <script>\n",
              "      const buttonEl =\n",
              "        document.querySelector('#df-629911b4-b1d5-46c5-87bf-a9ef3df8d045 button.colab-df-convert');\n",
              "      buttonEl.style.display =\n",
              "        google.colab.kernel.accessAllowed ? 'block' : 'none';\n",
              "\n",
              "      async function convertToInteractive(key) {\n",
              "        const element = document.querySelector('#df-629911b4-b1d5-46c5-87bf-a9ef3df8d045');\n",
              "        const dataTable =\n",
              "          await google.colab.kernel.invokeFunction('convertToInteractive',\n",
              "                                                    [key], {});\n",
              "        if (!dataTable) return;\n",
              "\n",
              "        const docLinkHtml = 'Like what you see? Visit the ' +\n",
              "          '<a target=\"_blank\" href=https://colab.research.google.com/notebooks/data_table.ipynb>data table notebook</a>'\n",
              "          + ' to learn more about interactive tables.';\n",
              "        element.innerHTML = '';\n",
              "        dataTable['output_type'] = 'display_data';\n",
              "        await google.colab.output.renderOutput(dataTable, element);\n",
              "        const docLink = document.createElement('div');\n",
              "        docLink.innerHTML = docLinkHtml;\n",
              "        element.appendChild(docLink);\n",
              "      }\n",
              "    </script>\n",
              "  </div>\n",
              "\n",
              "\n",
              "<div id=\"df-d842b9aa-6033-4ef6-9fe0-9e36fb47f197\">\n",
              "  <button class=\"colab-df-quickchart\" onclick=\"quickchart('df-d842b9aa-6033-4ef6-9fe0-9e36fb47f197')\"\n",
              "            title=\"Suggest charts.\"\n",
              "            style=\"display:none;\">\n",
              "\n",
              "<svg xmlns=\"http://www.w3.org/2000/svg\" height=\"24px\"viewBox=\"0 0 24 24\"\n",
              "     width=\"24px\">\n",
              "    <g>\n",
              "        <path d=\"M19 3H5c-1.1 0-2 .9-2 2v14c0 1.1.9 2 2 2h14c1.1 0 2-.9 2-2V5c0-1.1-.9-2-2-2zM9 17H7v-7h2v7zm4 0h-2V7h2v10zm4 0h-2v-4h2v4z\"/>\n",
              "    </g>\n",
              "</svg>\n",
              "  </button>\n",
              "\n",
              "<style>\n",
              "  .colab-df-quickchart {\n",
              "      --bg-color: #E8F0FE;\n",
              "      --fill-color: #1967D2;\n",
              "      --hover-bg-color: #E2EBFA;\n",
              "      --hover-fill-color: #174EA6;\n",
              "      --disabled-fill-color: #AAA;\n",
              "      --disabled-bg-color: #DDD;\n",
              "  }\n",
              "\n",
              "  [theme=dark] .colab-df-quickchart {\n",
              "      --bg-color: #3B4455;\n",
              "      --fill-color: #D2E3FC;\n",
              "      --hover-bg-color: #434B5C;\n",
              "      --hover-fill-color: #FFFFFF;\n",
              "      --disabled-bg-color: #3B4455;\n",
              "      --disabled-fill-color: #666;\n",
              "  }\n",
              "\n",
              "  .colab-df-quickchart {\n",
              "    background-color: var(--bg-color);\n",
              "    border: none;\n",
              "    border-radius: 50%;\n",
              "    cursor: pointer;\n",
              "    display: none;\n",
              "    fill: var(--fill-color);\n",
              "    height: 32px;\n",
              "    padding: 0;\n",
              "    width: 32px;\n",
              "  }\n",
              "\n",
              "  .colab-df-quickchart:hover {\n",
              "    background-color: var(--hover-bg-color);\n",
              "    box-shadow: 0 1px 2px rgba(60, 64, 67, 0.3), 0 1px 3px 1px rgba(60, 64, 67, 0.15);\n",
              "    fill: var(--button-hover-fill-color);\n",
              "  }\n",
              "\n",
              "  .colab-df-quickchart-complete:disabled,\n",
              "  .colab-df-quickchart-complete:disabled:hover {\n",
              "    background-color: var(--disabled-bg-color);\n",
              "    fill: var(--disabled-fill-color);\n",
              "    box-shadow: none;\n",
              "  }\n",
              "\n",
              "  .colab-df-spinner {\n",
              "    border: 2px solid var(--fill-color);\n",
              "    border-color: transparent;\n",
              "    border-bottom-color: var(--fill-color);\n",
              "    animation:\n",
              "      spin 1s steps(1) infinite;\n",
              "  }\n",
              "\n",
              "  @keyframes spin {\n",
              "    0% {\n",
              "      border-color: transparent;\n",
              "      border-bottom-color: var(--fill-color);\n",
              "      border-left-color: var(--fill-color);\n",
              "    }\n",
              "    20% {\n",
              "      border-color: transparent;\n",
              "      border-left-color: var(--fill-color);\n",
              "      border-top-color: var(--fill-color);\n",
              "    }\n",
              "    30% {\n",
              "      border-color: transparent;\n",
              "      border-left-color: var(--fill-color);\n",
              "      border-top-color: var(--fill-color);\n",
              "      border-right-color: var(--fill-color);\n",
              "    }\n",
              "    40% {\n",
              "      border-color: transparent;\n",
              "      border-right-color: var(--fill-color);\n",
              "      border-top-color: var(--fill-color);\n",
              "    }\n",
              "    60% {\n",
              "      border-color: transparent;\n",
              "      border-right-color: var(--fill-color);\n",
              "    }\n",
              "    80% {\n",
              "      border-color: transparent;\n",
              "      border-right-color: var(--fill-color);\n",
              "      border-bottom-color: var(--fill-color);\n",
              "    }\n",
              "    90% {\n",
              "      border-color: transparent;\n",
              "      border-bottom-color: var(--fill-color);\n",
              "    }\n",
              "  }\n",
              "</style>\n",
              "\n",
              "  <script>\n",
              "    async function quickchart(key) {\n",
              "      const quickchartButtonEl =\n",
              "        document.querySelector('#' + key + ' button');\n",
              "      quickchartButtonEl.disabled = true;  // To prevent multiple clicks.\n",
              "      quickchartButtonEl.classList.add('colab-df-spinner');\n",
              "      try {\n",
              "        const charts = await google.colab.kernel.invokeFunction(\n",
              "            'suggestCharts', [key], {});\n",
              "      } catch (error) {\n",
              "        console.error('Error during call to suggestCharts:', error);\n",
              "      }\n",
              "      quickchartButtonEl.classList.remove('colab-df-spinner');\n",
              "      quickchartButtonEl.classList.add('colab-df-quickchart-complete');\n",
              "    }\n",
              "    (() => {\n",
              "      let quickchartButtonEl =\n",
              "        document.querySelector('#df-d842b9aa-6033-4ef6-9fe0-9e36fb47f197 button');\n",
              "      quickchartButtonEl.style.display =\n",
              "        google.colab.kernel.accessAllowed ? 'block' : 'none';\n",
              "    })();\n",
              "  </script>\n",
              "</div>\n",
              "    </div>\n",
              "  </div>\n"
            ]
          },
          "metadata": {},
          "execution_count": 32
        }
      ],
      "source": [
        "train, test = train_test_split(final_df, test_size=0.3, random_state=42)\n",
        "train"
      ]
    },
    {
      "cell_type": "code",
      "execution_count": 33,
      "metadata": {
        "colab": {
          "base_uri": "https://localhost:8080/"
        },
        "execution": {
          "iopub.execute_input": "2023-09-19T12:40:47.858783Z",
          "iopub.status.busy": "2023-09-19T12:40:47.858461Z",
          "iopub.status.idle": "2023-09-19T12:40:47.976403Z",
          "shell.execute_reply": "2023-09-19T12:40:47.975221Z",
          "shell.execute_reply.started": "2023-09-19T12:40:47.858756Z"
        },
        "id": "CSRFhttRX2YB",
        "outputId": "aaaccd1b-9c96-4607-b713-7b3cc67c494e",
        "trusted": true
      },
      "outputs": [
        {
          "output_type": "execute_result",
          "data": {
            "text/plain": [
              "(1085286, 34)"
            ]
          },
          "metadata": {},
          "execution_count": 33
        }
      ],
      "source": [
        "# @title drop udp of train\n",
        "\n",
        "train = train[(train['attackDescription_UDP'] != 1)]\n",
        "train.shape"
      ]
    },
    {
      "cell_type": "code",
      "execution_count": 34,
      "metadata": {
        "colab": {
          "base_uri": "https://localhost:8080/"
        },
        "execution": {
          "iopub.execute_input": "2023-09-19T12:40:47.978509Z",
          "iopub.status.busy": "2023-09-19T12:40:47.978005Z",
          "iopub.status.idle": "2023-09-19T12:40:48.080787Z",
          "shell.execute_reply": "2023-09-19T12:40:48.079764Z",
          "shell.execute_reply.started": "2023-09-19T12:40:47.978469Z"
        },
        "id": "mkK9WWRBcJod",
        "outputId": "099419d1-770a-4d29-e2bc-3350f44babfe",
        "trusted": true
      },
      "outputs": [
        {
          "output_type": "execute_result",
          "data": {
            "text/plain": [
              "array(['TCP  ', 'UDP  ', 'ICMP ', 'IGMP '], dtype=object)"
            ]
          },
          "metadata": {},
          "execution_count": 34
        }
      ],
      "source": [
        "train[\"Proto\"].unique()"
      ]
    },
    {
      "cell_type": "code",
      "execution_count": 35,
      "metadata": {
        "colab": {
          "base_uri": "https://localhost:8080/"
        },
        "execution": {
          "iopub.execute_input": "2023-09-19T12:40:48.082957Z",
          "iopub.status.busy": "2023-09-19T12:40:48.082523Z",
          "iopub.status.idle": "2023-09-19T12:40:48.405251Z",
          "shell.execute_reply": "2023-09-19T12:40:48.404141Z",
          "shell.execute_reply.started": "2023-09-19T12:40:48.082919Z"
        },
        "id": "YNNsVrprX8ea",
        "outputId": "9dbc367b-c6b9-44df-c613-f0a273fee07d",
        "trusted": true
      },
      "outputs": [
        {
          "output_type": "execute_result",
          "data": {
            "text/plain": [
              "(1082042, 34)"
            ]
          },
          "metadata": {},
          "execution_count": 35
        }
      ],
      "source": [
        "# @title drop udp protocol\n",
        "\n",
        "train = train.loc[~((train[\"Proto\"] == 'UDP  ') & (train[\"label\"] == 1))]\n",
        "train.shape"
      ]
    },
    {
      "cell_type": "code",
      "execution_count": 36,
      "metadata": {
        "colab": {
          "base_uri": "https://localhost:8080/",
          "height": 0
        },
        "execution": {
          "iopub.execute_input": "2023-09-19T12:40:48.406924Z",
          "iopub.status.busy": "2023-09-19T12:40:48.406570Z",
          "iopub.status.idle": "2023-09-19T12:40:48.554437Z",
          "shell.execute_reply": "2023-09-19T12:40:48.553294Z",
          "shell.execute_reply.started": "2023-09-19T12:40:48.406895Z"
        },
        "id": "OI4jhcIxX_9F",
        "outputId": "7fc01cbe-170d-42a2-a77a-005a968c8bb4",
        "trusted": true
      },
      "outputs": [
        {
          "output_type": "execute_result",
          "data": {
            "text/plain": [
              "         Duration  Src Pt   Dst Pt  Packets  Bytes  Flows  Tos  Flags_......  \\\n",
              "0           0.000     443  60382.0        1     66      1   32             0   \n",
              "1           0.000      80  55252.0        1     66      1    0             0   \n",
              "2           0.021     443  54397.0        3    193      1    0             0   \n",
              "3           0.000     787  50342.0        1     54      1    0             0   \n",
              "4           0.045      53  36795.0        2    380      1    0             1   \n",
              "...           ...     ...      ...      ...    ...    ...  ...           ...   \n",
              "1082037     0.000      80  59642.0        1     66      1   32             0   \n",
              "1082038     0.026   62375    443.0        4    568      1    0             0   \n",
              "1082039     0.000      53  57615.0        1     91      1    0             1   \n",
              "1082040     0.000   46755   4129.0        1     58      1    0             0   \n",
              "1082041     0.000   33411    443.0        1     66      1    0             0   \n",
              "\n",
              "         Flags_.....F  Flags_....S.  Flags_...R..  Flags_...RS.  Flags_.A....  \\\n",
              "0                   0             0             0             0             0   \n",
              "1                   0             0             0             0             1   \n",
              "2                   0             0             0             0             0   \n",
              "3                   0             0             0             0             0   \n",
              "4                   0             0             0             0             0   \n",
              "...               ...           ...           ...           ...           ...   \n",
              "1082037             0             0             0             0             1   \n",
              "1082038             0             0             0             0             0   \n",
              "1082039             0             0             0             0             0   \n",
              "1082040             0             1             0             0             0   \n",
              "1082041             0             0             0             0             1   \n",
              "\n",
              "         Flags_.A...F  Flags_.A..S.  Flags_.A..SF  Flags_.A.R..  Flags_.A.R.F  \\\n",
              "0                   1             0             0             0             0   \n",
              "1                   0             0             0             0             0   \n",
              "2                   0             0             0             0             0   \n",
              "3                   0             0             0             1             0   \n",
              "4                   0             0             0             0             0   \n",
              "...               ...           ...           ...           ...           ...   \n",
              "1082037             0             0             0             0             0   \n",
              "1082038             0             0             0             0             0   \n",
              "1082039             0             0             0             0             0   \n",
              "1082040             0             0             0             0             0   \n",
              "1082041             0             0             0             0             0   \n",
              "\n",
              "         Flags_.A.RS.  Flags_.A.RSF  Flags_.AP...  Flags_.AP..F  Flags_.AP.S.  \\\n",
              "0                   0             0             0             0             0   \n",
              "1                   0             0             0             0             0   \n",
              "2                   0             0             0             1             0   \n",
              "3                   0             0             0             0             0   \n",
              "4                   0             0             0             0             0   \n",
              "...               ...           ...           ...           ...           ...   \n",
              "1082037             0             0             0             0             0   \n",
              "1082038             0             0             1             0             0   \n",
              "1082039             0             0             0             0             0   \n",
              "1082040             0             0             0             0             0   \n",
              "1082041             0             0             0             0             0   \n",
              "\n",
              "         Flags_.AP.SF  Flags_.APR..  Flags_.APR.F  Flags_.APRS.  Flags_.APRSF  \\\n",
              "0                   0             0             0             0             0   \n",
              "1                   0             0             0             0             0   \n",
              "2                   0             0             0             0             0   \n",
              "3                   0             0             0             0             0   \n",
              "4                   0             0             0             0             0   \n",
              "...               ...           ...           ...           ...           ...   \n",
              "1082037             0             0             0             0             0   \n",
              "1082038             0             0             0             0             0   \n",
              "1082039             0             0             0             0             0   \n",
              "1082040             0             0             0             0             0   \n",
              "1082041             0             0             0             0             0   \n",
              "\n",
              "         attackDescription_ICMP  attackDescription_TCP  attackDescription_UDP  \\\n",
              "0                             0                      0                      0   \n",
              "1                             0                      0                      0   \n",
              "2                             0                      0                      0   \n",
              "3                             0                      1                      0   \n",
              "4                             0                      0                      0   \n",
              "...                         ...                    ...                    ...   \n",
              "1082037                       0                      0                      0   \n",
              "1082038                       0                      0                      0   \n",
              "1082039                       0                      0                      0   \n",
              "1082040                       0                      1                      0   \n",
              "1082041                       0                      0                      0   \n",
              "\n",
              "         attackDescription_normal  label  Proto  \n",
              "0                               1      0  TCP    \n",
              "1                               1      0  TCP    \n",
              "2                               1      0  TCP    \n",
              "3                               0      1  TCP    \n",
              "4                               1      0  UDP    \n",
              "...                           ...    ...    ...  \n",
              "1082037                         1      0  TCP    \n",
              "1082038                         1      0  TCP    \n",
              "1082039                         1      0  UDP    \n",
              "1082040                         0      1  TCP    \n",
              "1082041                         1      0  TCP    \n",
              "\n",
              "[1082042 rows x 34 columns]"
            ],
            "text/html": [
              "\n",
              "  <div id=\"df-9e7d3d0e-acc1-4f38-8627-e3a5349859cd\" class=\"colab-df-container\">\n",
              "    <div>\n",
              "<style scoped>\n",
              "    .dataframe tbody tr th:only-of-type {\n",
              "        vertical-align: middle;\n",
              "    }\n",
              "\n",
              "    .dataframe tbody tr th {\n",
              "        vertical-align: top;\n",
              "    }\n",
              "\n",
              "    .dataframe thead th {\n",
              "        text-align: right;\n",
              "    }\n",
              "</style>\n",
              "<table border=\"1\" class=\"dataframe\">\n",
              "  <thead>\n",
              "    <tr style=\"text-align: right;\">\n",
              "      <th></th>\n",
              "      <th>Duration</th>\n",
              "      <th>Src Pt</th>\n",
              "      <th>Dst Pt</th>\n",
              "      <th>Packets</th>\n",
              "      <th>Bytes</th>\n",
              "      <th>Flows</th>\n",
              "      <th>Tos</th>\n",
              "      <th>Flags_......</th>\n",
              "      <th>Flags_.....F</th>\n",
              "      <th>Flags_....S.</th>\n",
              "      <th>Flags_...R..</th>\n",
              "      <th>Flags_...RS.</th>\n",
              "      <th>Flags_.A....</th>\n",
              "      <th>Flags_.A...F</th>\n",
              "      <th>Flags_.A..S.</th>\n",
              "      <th>Flags_.A..SF</th>\n",
              "      <th>Flags_.A.R..</th>\n",
              "      <th>Flags_.A.R.F</th>\n",
              "      <th>Flags_.A.RS.</th>\n",
              "      <th>Flags_.A.RSF</th>\n",
              "      <th>Flags_.AP...</th>\n",
              "      <th>Flags_.AP..F</th>\n",
              "      <th>Flags_.AP.S.</th>\n",
              "      <th>Flags_.AP.SF</th>\n",
              "      <th>Flags_.APR..</th>\n",
              "      <th>Flags_.APR.F</th>\n",
              "      <th>Flags_.APRS.</th>\n",
              "      <th>Flags_.APRSF</th>\n",
              "      <th>attackDescription_ICMP</th>\n",
              "      <th>attackDescription_TCP</th>\n",
              "      <th>attackDescription_UDP</th>\n",
              "      <th>attackDescription_normal</th>\n",
              "      <th>label</th>\n",
              "      <th>Proto</th>\n",
              "    </tr>\n",
              "  </thead>\n",
              "  <tbody>\n",
              "    <tr>\n",
              "      <th>0</th>\n",
              "      <td>0.000</td>\n",
              "      <td>443</td>\n",
              "      <td>60382.0</td>\n",
              "      <td>1</td>\n",
              "      <td>66</td>\n",
              "      <td>1</td>\n",
              "      <td>32</td>\n",
              "      <td>0</td>\n",
              "      <td>0</td>\n",
              "      <td>0</td>\n",
              "      <td>0</td>\n",
              "      <td>0</td>\n",
              "      <td>0</td>\n",
              "      <td>1</td>\n",
              "      <td>0</td>\n",
              "      <td>0</td>\n",
              "      <td>0</td>\n",
              "      <td>0</td>\n",
              "      <td>0</td>\n",
              "      <td>0</td>\n",
              "      <td>0</td>\n",
              "      <td>0</td>\n",
              "      <td>0</td>\n",
              "      <td>0</td>\n",
              "      <td>0</td>\n",
              "      <td>0</td>\n",
              "      <td>0</td>\n",
              "      <td>0</td>\n",
              "      <td>0</td>\n",
              "      <td>0</td>\n",
              "      <td>0</td>\n",
              "      <td>1</td>\n",
              "      <td>0</td>\n",
              "      <td>TCP</td>\n",
              "    </tr>\n",
              "    <tr>\n",
              "      <th>1</th>\n",
              "      <td>0.000</td>\n",
              "      <td>80</td>\n",
              "      <td>55252.0</td>\n",
              "      <td>1</td>\n",
              "      <td>66</td>\n",
              "      <td>1</td>\n",
              "      <td>0</td>\n",
              "      <td>0</td>\n",
              "      <td>0</td>\n",
              "      <td>0</td>\n",
              "      <td>0</td>\n",
              "      <td>0</td>\n",
              "      <td>1</td>\n",
              "      <td>0</td>\n",
              "      <td>0</td>\n",
              "      <td>0</td>\n",
              "      <td>0</td>\n",
              "      <td>0</td>\n",
              "      <td>0</td>\n",
              "      <td>0</td>\n",
              "      <td>0</td>\n",
              "      <td>0</td>\n",
              "      <td>0</td>\n",
              "      <td>0</td>\n",
              "      <td>0</td>\n",
              "      <td>0</td>\n",
              "      <td>0</td>\n",
              "      <td>0</td>\n",
              "      <td>0</td>\n",
              "      <td>0</td>\n",
              "      <td>0</td>\n",
              "      <td>1</td>\n",
              "      <td>0</td>\n",
              "      <td>TCP</td>\n",
              "    </tr>\n",
              "    <tr>\n",
              "      <th>2</th>\n",
              "      <td>0.021</td>\n",
              "      <td>443</td>\n",
              "      <td>54397.0</td>\n",
              "      <td>3</td>\n",
              "      <td>193</td>\n",
              "      <td>1</td>\n",
              "      <td>0</td>\n",
              "      <td>0</td>\n",
              "      <td>0</td>\n",
              "      <td>0</td>\n",
              "      <td>0</td>\n",
              "      <td>0</td>\n",
              "      <td>0</td>\n",
              "      <td>0</td>\n",
              "      <td>0</td>\n",
              "      <td>0</td>\n",
              "      <td>0</td>\n",
              "      <td>0</td>\n",
              "      <td>0</td>\n",
              "      <td>0</td>\n",
              "      <td>0</td>\n",
              "      <td>1</td>\n",
              "      <td>0</td>\n",
              "      <td>0</td>\n",
              "      <td>0</td>\n",
              "      <td>0</td>\n",
              "      <td>0</td>\n",
              "      <td>0</td>\n",
              "      <td>0</td>\n",
              "      <td>0</td>\n",
              "      <td>0</td>\n",
              "      <td>1</td>\n",
              "      <td>0</td>\n",
              "      <td>TCP</td>\n",
              "    </tr>\n",
              "    <tr>\n",
              "      <th>3</th>\n",
              "      <td>0.000</td>\n",
              "      <td>787</td>\n",
              "      <td>50342.0</td>\n",
              "      <td>1</td>\n",
              "      <td>54</td>\n",
              "      <td>1</td>\n",
              "      <td>0</td>\n",
              "      <td>0</td>\n",
              "      <td>0</td>\n",
              "      <td>0</td>\n",
              "      <td>0</td>\n",
              "      <td>0</td>\n",
              "      <td>0</td>\n",
              "      <td>0</td>\n",
              "      <td>0</td>\n",
              "      <td>0</td>\n",
              "      <td>1</td>\n",
              "      <td>0</td>\n",
              "      <td>0</td>\n",
              "      <td>0</td>\n",
              "      <td>0</td>\n",
              "      <td>0</td>\n",
              "      <td>0</td>\n",
              "      <td>0</td>\n",
              "      <td>0</td>\n",
              "      <td>0</td>\n",
              "      <td>0</td>\n",
              "      <td>0</td>\n",
              "      <td>0</td>\n",
              "      <td>1</td>\n",
              "      <td>0</td>\n",
              "      <td>0</td>\n",
              "      <td>1</td>\n",
              "      <td>TCP</td>\n",
              "    </tr>\n",
              "    <tr>\n",
              "      <th>4</th>\n",
              "      <td>0.045</td>\n",
              "      <td>53</td>\n",
              "      <td>36795.0</td>\n",
              "      <td>2</td>\n",
              "      <td>380</td>\n",
              "      <td>1</td>\n",
              "      <td>0</td>\n",
              "      <td>1</td>\n",
              "      <td>0</td>\n",
              "      <td>0</td>\n",
              "      <td>0</td>\n",
              "      <td>0</td>\n",
              "      <td>0</td>\n",
              "      <td>0</td>\n",
              "      <td>0</td>\n",
              "      <td>0</td>\n",
              "      <td>0</td>\n",
              "      <td>0</td>\n",
              "      <td>0</td>\n",
              "      <td>0</td>\n",
              "      <td>0</td>\n",
              "      <td>0</td>\n",
              "      <td>0</td>\n",
              "      <td>0</td>\n",
              "      <td>0</td>\n",
              "      <td>0</td>\n",
              "      <td>0</td>\n",
              "      <td>0</td>\n",
              "      <td>0</td>\n",
              "      <td>0</td>\n",
              "      <td>0</td>\n",
              "      <td>1</td>\n",
              "      <td>0</td>\n",
              "      <td>UDP</td>\n",
              "    </tr>\n",
              "    <tr>\n",
              "      <th>...</th>\n",
              "      <td>...</td>\n",
              "      <td>...</td>\n",
              "      <td>...</td>\n",
              "      <td>...</td>\n",
              "      <td>...</td>\n",
              "      <td>...</td>\n",
              "      <td>...</td>\n",
              "      <td>...</td>\n",
              "      <td>...</td>\n",
              "      <td>...</td>\n",
              "      <td>...</td>\n",
              "      <td>...</td>\n",
              "      <td>...</td>\n",
              "      <td>...</td>\n",
              "      <td>...</td>\n",
              "      <td>...</td>\n",
              "      <td>...</td>\n",
              "      <td>...</td>\n",
              "      <td>...</td>\n",
              "      <td>...</td>\n",
              "      <td>...</td>\n",
              "      <td>...</td>\n",
              "      <td>...</td>\n",
              "      <td>...</td>\n",
              "      <td>...</td>\n",
              "      <td>...</td>\n",
              "      <td>...</td>\n",
              "      <td>...</td>\n",
              "      <td>...</td>\n",
              "      <td>...</td>\n",
              "      <td>...</td>\n",
              "      <td>...</td>\n",
              "      <td>...</td>\n",
              "      <td>...</td>\n",
              "    </tr>\n",
              "    <tr>\n",
              "      <th>1082037</th>\n",
              "      <td>0.000</td>\n",
              "      <td>80</td>\n",
              "      <td>59642.0</td>\n",
              "      <td>1</td>\n",
              "      <td>66</td>\n",
              "      <td>1</td>\n",
              "      <td>32</td>\n",
              "      <td>0</td>\n",
              "      <td>0</td>\n",
              "      <td>0</td>\n",
              "      <td>0</td>\n",
              "      <td>0</td>\n",
              "      <td>1</td>\n",
              "      <td>0</td>\n",
              "      <td>0</td>\n",
              "      <td>0</td>\n",
              "      <td>0</td>\n",
              "      <td>0</td>\n",
              "      <td>0</td>\n",
              "      <td>0</td>\n",
              "      <td>0</td>\n",
              "      <td>0</td>\n",
              "      <td>0</td>\n",
              "      <td>0</td>\n",
              "      <td>0</td>\n",
              "      <td>0</td>\n",
              "      <td>0</td>\n",
              "      <td>0</td>\n",
              "      <td>0</td>\n",
              "      <td>0</td>\n",
              "      <td>0</td>\n",
              "      <td>1</td>\n",
              "      <td>0</td>\n",
              "      <td>TCP</td>\n",
              "    </tr>\n",
              "    <tr>\n",
              "      <th>1082038</th>\n",
              "      <td>0.026</td>\n",
              "      <td>62375</td>\n",
              "      <td>443.0</td>\n",
              "      <td>4</td>\n",
              "      <td>568</td>\n",
              "      <td>1</td>\n",
              "      <td>0</td>\n",
              "      <td>0</td>\n",
              "      <td>0</td>\n",
              "      <td>0</td>\n",
              "      <td>0</td>\n",
              "      <td>0</td>\n",
              "      <td>0</td>\n",
              "      <td>0</td>\n",
              "      <td>0</td>\n",
              "      <td>0</td>\n",
              "      <td>0</td>\n",
              "      <td>0</td>\n",
              "      <td>0</td>\n",
              "      <td>0</td>\n",
              "      <td>1</td>\n",
              "      <td>0</td>\n",
              "      <td>0</td>\n",
              "      <td>0</td>\n",
              "      <td>0</td>\n",
              "      <td>0</td>\n",
              "      <td>0</td>\n",
              "      <td>0</td>\n",
              "      <td>0</td>\n",
              "      <td>0</td>\n",
              "      <td>0</td>\n",
              "      <td>1</td>\n",
              "      <td>0</td>\n",
              "      <td>TCP</td>\n",
              "    </tr>\n",
              "    <tr>\n",
              "      <th>1082039</th>\n",
              "      <td>0.000</td>\n",
              "      <td>53</td>\n",
              "      <td>57615.0</td>\n",
              "      <td>1</td>\n",
              "      <td>91</td>\n",
              "      <td>1</td>\n",
              "      <td>0</td>\n",
              "      <td>1</td>\n",
              "      <td>0</td>\n",
              "      <td>0</td>\n",
              "      <td>0</td>\n",
              "      <td>0</td>\n",
              "      <td>0</td>\n",
              "      <td>0</td>\n",
              "      <td>0</td>\n",
              "      <td>0</td>\n",
              "      <td>0</td>\n",
              "      <td>0</td>\n",
              "      <td>0</td>\n",
              "      <td>0</td>\n",
              "      <td>0</td>\n",
              "      <td>0</td>\n",
              "      <td>0</td>\n",
              "      <td>0</td>\n",
              "      <td>0</td>\n",
              "      <td>0</td>\n",
              "      <td>0</td>\n",
              "      <td>0</td>\n",
              "      <td>0</td>\n",
              "      <td>0</td>\n",
              "      <td>0</td>\n",
              "      <td>1</td>\n",
              "      <td>0</td>\n",
              "      <td>UDP</td>\n",
              "    </tr>\n",
              "    <tr>\n",
              "      <th>1082040</th>\n",
              "      <td>0.000</td>\n",
              "      <td>46755</td>\n",
              "      <td>4129.0</td>\n",
              "      <td>1</td>\n",
              "      <td>58</td>\n",
              "      <td>1</td>\n",
              "      <td>0</td>\n",
              "      <td>0</td>\n",
              "      <td>0</td>\n",
              "      <td>1</td>\n",
              "      <td>0</td>\n",
              "      <td>0</td>\n",
              "      <td>0</td>\n",
              "      <td>0</td>\n",
              "      <td>0</td>\n",
              "      <td>0</td>\n",
              "      <td>0</td>\n",
              "      <td>0</td>\n",
              "      <td>0</td>\n",
              "      <td>0</td>\n",
              "      <td>0</td>\n",
              "      <td>0</td>\n",
              "      <td>0</td>\n",
              "      <td>0</td>\n",
              "      <td>0</td>\n",
              "      <td>0</td>\n",
              "      <td>0</td>\n",
              "      <td>0</td>\n",
              "      <td>0</td>\n",
              "      <td>1</td>\n",
              "      <td>0</td>\n",
              "      <td>0</td>\n",
              "      <td>1</td>\n",
              "      <td>TCP</td>\n",
              "    </tr>\n",
              "    <tr>\n",
              "      <th>1082041</th>\n",
              "      <td>0.000</td>\n",
              "      <td>33411</td>\n",
              "      <td>443.0</td>\n",
              "      <td>1</td>\n",
              "      <td>66</td>\n",
              "      <td>1</td>\n",
              "      <td>0</td>\n",
              "      <td>0</td>\n",
              "      <td>0</td>\n",
              "      <td>0</td>\n",
              "      <td>0</td>\n",
              "      <td>0</td>\n",
              "      <td>1</td>\n",
              "      <td>0</td>\n",
              "      <td>0</td>\n",
              "      <td>0</td>\n",
              "      <td>0</td>\n",
              "      <td>0</td>\n",
              "      <td>0</td>\n",
              "      <td>0</td>\n",
              "      <td>0</td>\n",
              "      <td>0</td>\n",
              "      <td>0</td>\n",
              "      <td>0</td>\n",
              "      <td>0</td>\n",
              "      <td>0</td>\n",
              "      <td>0</td>\n",
              "      <td>0</td>\n",
              "      <td>0</td>\n",
              "      <td>0</td>\n",
              "      <td>0</td>\n",
              "      <td>1</td>\n",
              "      <td>0</td>\n",
              "      <td>TCP</td>\n",
              "    </tr>\n",
              "  </tbody>\n",
              "</table>\n",
              "<p>1082042 rows × 34 columns</p>\n",
              "</div>\n",
              "    <div class=\"colab-df-buttons\">\n",
              "\n",
              "  <div class=\"colab-df-container\">\n",
              "    <button class=\"colab-df-convert\" onclick=\"convertToInteractive('df-9e7d3d0e-acc1-4f38-8627-e3a5349859cd')\"\n",
              "            title=\"Convert this dataframe to an interactive table.\"\n",
              "            style=\"display:none;\">\n",
              "\n",
              "  <svg xmlns=\"http://www.w3.org/2000/svg\" height=\"24px\" viewBox=\"0 -960 960 960\">\n",
              "    <path d=\"M120-120v-720h720v720H120Zm60-500h600v-160H180v160Zm220 220h160v-160H400v160Zm0 220h160v-160H400v160ZM180-400h160v-160H180v160Zm440 0h160v-160H620v160ZM180-180h160v-160H180v160Zm440 0h160v-160H620v160Z\"/>\n",
              "  </svg>\n",
              "    </button>\n",
              "\n",
              "  <style>\n",
              "    .colab-df-container {\n",
              "      display:flex;\n",
              "      gap: 12px;\n",
              "    }\n",
              "\n",
              "    .colab-df-convert {\n",
              "      background-color: #E8F0FE;\n",
              "      border: none;\n",
              "      border-radius: 50%;\n",
              "      cursor: pointer;\n",
              "      display: none;\n",
              "      fill: #1967D2;\n",
              "      height: 32px;\n",
              "      padding: 0 0 0 0;\n",
              "      width: 32px;\n",
              "    }\n",
              "\n",
              "    .colab-df-convert:hover {\n",
              "      background-color: #E2EBFA;\n",
              "      box-shadow: 0px 1px 2px rgba(60, 64, 67, 0.3), 0px 1px 3px 1px rgba(60, 64, 67, 0.15);\n",
              "      fill: #174EA6;\n",
              "    }\n",
              "\n",
              "    .colab-df-buttons div {\n",
              "      margin-bottom: 4px;\n",
              "    }\n",
              "\n",
              "    [theme=dark] .colab-df-convert {\n",
              "      background-color: #3B4455;\n",
              "      fill: #D2E3FC;\n",
              "    }\n",
              "\n",
              "    [theme=dark] .colab-df-convert:hover {\n",
              "      background-color: #434B5C;\n",
              "      box-shadow: 0px 1px 3px 1px rgba(0, 0, 0, 0.15);\n",
              "      filter: drop-shadow(0px 1px 2px rgba(0, 0, 0, 0.3));\n",
              "      fill: #FFFFFF;\n",
              "    }\n",
              "  </style>\n",
              "\n",
              "    <script>\n",
              "      const buttonEl =\n",
              "        document.querySelector('#df-9e7d3d0e-acc1-4f38-8627-e3a5349859cd button.colab-df-convert');\n",
              "      buttonEl.style.display =\n",
              "        google.colab.kernel.accessAllowed ? 'block' : 'none';\n",
              "\n",
              "      async function convertToInteractive(key) {\n",
              "        const element = document.querySelector('#df-9e7d3d0e-acc1-4f38-8627-e3a5349859cd');\n",
              "        const dataTable =\n",
              "          await google.colab.kernel.invokeFunction('convertToInteractive',\n",
              "                                                    [key], {});\n",
              "        if (!dataTable) return;\n",
              "\n",
              "        const docLinkHtml = 'Like what you see? Visit the ' +\n",
              "          '<a target=\"_blank\" href=https://colab.research.google.com/notebooks/data_table.ipynb>data table notebook</a>'\n",
              "          + ' to learn more about interactive tables.';\n",
              "        element.innerHTML = '';\n",
              "        dataTable['output_type'] = 'display_data';\n",
              "        await google.colab.output.renderOutput(dataTable, element);\n",
              "        const docLink = document.createElement('div');\n",
              "        docLink.innerHTML = docLinkHtml;\n",
              "        element.appendChild(docLink);\n",
              "      }\n",
              "    </script>\n",
              "  </div>\n",
              "\n",
              "\n",
              "<div id=\"df-a0aa0c90-f1f6-4034-82eb-9972df920eba\">\n",
              "  <button class=\"colab-df-quickchart\" onclick=\"quickchart('df-a0aa0c90-f1f6-4034-82eb-9972df920eba')\"\n",
              "            title=\"Suggest charts.\"\n",
              "            style=\"display:none;\">\n",
              "\n",
              "<svg xmlns=\"http://www.w3.org/2000/svg\" height=\"24px\"viewBox=\"0 0 24 24\"\n",
              "     width=\"24px\">\n",
              "    <g>\n",
              "        <path d=\"M19 3H5c-1.1 0-2 .9-2 2v14c0 1.1.9 2 2 2h14c1.1 0 2-.9 2-2V5c0-1.1-.9-2-2-2zM9 17H7v-7h2v7zm4 0h-2V7h2v10zm4 0h-2v-4h2v4z\"/>\n",
              "    </g>\n",
              "</svg>\n",
              "  </button>\n",
              "\n",
              "<style>\n",
              "  .colab-df-quickchart {\n",
              "      --bg-color: #E8F0FE;\n",
              "      --fill-color: #1967D2;\n",
              "      --hover-bg-color: #E2EBFA;\n",
              "      --hover-fill-color: #174EA6;\n",
              "      --disabled-fill-color: #AAA;\n",
              "      --disabled-bg-color: #DDD;\n",
              "  }\n",
              "\n",
              "  [theme=dark] .colab-df-quickchart {\n",
              "      --bg-color: #3B4455;\n",
              "      --fill-color: #D2E3FC;\n",
              "      --hover-bg-color: #434B5C;\n",
              "      --hover-fill-color: #FFFFFF;\n",
              "      --disabled-bg-color: #3B4455;\n",
              "      --disabled-fill-color: #666;\n",
              "  }\n",
              "\n",
              "  .colab-df-quickchart {\n",
              "    background-color: var(--bg-color);\n",
              "    border: none;\n",
              "    border-radius: 50%;\n",
              "    cursor: pointer;\n",
              "    display: none;\n",
              "    fill: var(--fill-color);\n",
              "    height: 32px;\n",
              "    padding: 0;\n",
              "    width: 32px;\n",
              "  }\n",
              "\n",
              "  .colab-df-quickchart:hover {\n",
              "    background-color: var(--hover-bg-color);\n",
              "    box-shadow: 0 1px 2px rgba(60, 64, 67, 0.3), 0 1px 3px 1px rgba(60, 64, 67, 0.15);\n",
              "    fill: var(--button-hover-fill-color);\n",
              "  }\n",
              "\n",
              "  .colab-df-quickchart-complete:disabled,\n",
              "  .colab-df-quickchart-complete:disabled:hover {\n",
              "    background-color: var(--disabled-bg-color);\n",
              "    fill: var(--disabled-fill-color);\n",
              "    box-shadow: none;\n",
              "  }\n",
              "\n",
              "  .colab-df-spinner {\n",
              "    border: 2px solid var(--fill-color);\n",
              "    border-color: transparent;\n",
              "    border-bottom-color: var(--fill-color);\n",
              "    animation:\n",
              "      spin 1s steps(1) infinite;\n",
              "  }\n",
              "\n",
              "  @keyframes spin {\n",
              "    0% {\n",
              "      border-color: transparent;\n",
              "      border-bottom-color: var(--fill-color);\n",
              "      border-left-color: var(--fill-color);\n",
              "    }\n",
              "    20% {\n",
              "      border-color: transparent;\n",
              "      border-left-color: var(--fill-color);\n",
              "      border-top-color: var(--fill-color);\n",
              "    }\n",
              "    30% {\n",
              "      border-color: transparent;\n",
              "      border-left-color: var(--fill-color);\n",
              "      border-top-color: var(--fill-color);\n",
              "      border-right-color: var(--fill-color);\n",
              "    }\n",
              "    40% {\n",
              "      border-color: transparent;\n",
              "      border-right-color: var(--fill-color);\n",
              "      border-top-color: var(--fill-color);\n",
              "    }\n",
              "    60% {\n",
              "      border-color: transparent;\n",
              "      border-right-color: var(--fill-color);\n",
              "    }\n",
              "    80% {\n",
              "      border-color: transparent;\n",
              "      border-right-color: var(--fill-color);\n",
              "      border-bottom-color: var(--fill-color);\n",
              "    }\n",
              "    90% {\n",
              "      border-color: transparent;\n",
              "      border-bottom-color: var(--fill-color);\n",
              "    }\n",
              "  }\n",
              "</style>\n",
              "\n",
              "  <script>\n",
              "    async function quickchart(key) {\n",
              "      const quickchartButtonEl =\n",
              "        document.querySelector('#' + key + ' button');\n",
              "      quickchartButtonEl.disabled = true;  // To prevent multiple clicks.\n",
              "      quickchartButtonEl.classList.add('colab-df-spinner');\n",
              "      try {\n",
              "        const charts = await google.colab.kernel.invokeFunction(\n",
              "            'suggestCharts', [key], {});\n",
              "      } catch (error) {\n",
              "        console.error('Error during call to suggestCharts:', error);\n",
              "      }\n",
              "      quickchartButtonEl.classList.remove('colab-df-spinner');\n",
              "      quickchartButtonEl.classList.add('colab-df-quickchart-complete');\n",
              "    }\n",
              "    (() => {\n",
              "      let quickchartButtonEl =\n",
              "        document.querySelector('#df-a0aa0c90-f1f6-4034-82eb-9972df920eba button');\n",
              "      quickchartButtonEl.style.display =\n",
              "        google.colab.kernel.accessAllowed ? 'block' : 'none';\n",
              "    })();\n",
              "  </script>\n",
              "</div>\n",
              "    </div>\n",
              "  </div>\n"
            ]
          },
          "metadata": {},
          "execution_count": 36
        }
      ],
      "source": [
        "train = train.reset_index(drop=True)\n",
        "train"
      ]
    },
    {
      "cell_type": "code",
      "execution_count": 37,
      "metadata": {
        "execution": {
          "iopub.execute_input": "2023-09-19T12:40:48.556150Z",
          "iopub.status.busy": "2023-09-19T12:40:48.555817Z",
          "iopub.status.idle": "2023-09-19T12:40:48.591289Z",
          "shell.execute_reply": "2023-09-19T12:40:48.590231Z",
          "shell.execute_reply.started": "2023-09-19T12:40:48.556121Z"
        },
        "id": "NB1HG443YCWi",
        "trusted": true
      },
      "outputs": [],
      "source": [
        "test = test.reset_index(drop=True)"
      ]
    },
    {
      "cell_type": "code",
      "execution_count": 38,
      "metadata": {
        "execution": {
          "iopub.execute_input": "2023-09-19T12:40:48.593837Z",
          "iopub.status.busy": "2023-09-19T12:40:48.593000Z",
          "iopub.status.idle": "2023-09-19T12:40:48.648567Z",
          "shell.execute_reply": "2023-09-19T12:40:48.647030Z",
          "shell.execute_reply.started": "2023-09-19T12:40:48.593801Z"
        },
        "id": "5lmyemlsYdn_",
        "trusted": true
      },
      "outputs": [],
      "source": [
        "train = train.drop(\"Proto\", axis=1)\n",
        "test = test.drop(\"Proto\", axis=1)"
      ]
    },
    {
      "cell_type": "markdown",
      "metadata": {
        "id": "1SgLm1FSatah"
      },
      "source": [
        "# **MODEL**"
      ]
    },
    {
      "cell_type": "markdown",
      "metadata": {
        "id": "cpTV1Q_-1SJw"
      },
      "source": [
        "## **STEP 1**"
      ]
    },
    {
      "cell_type": "code",
      "execution_count": 39,
      "metadata": {
        "colab": {
          "base_uri": "https://localhost:8080/"
        },
        "execution": {
          "iopub.execute_input": "2023-09-19T12:40:48.650444Z",
          "iopub.status.busy": "2023-09-19T12:40:48.650047Z",
          "iopub.status.idle": "2023-09-19T12:40:48.751342Z",
          "shell.execute_reply": "2023-09-19T12:40:48.750217Z",
          "shell.execute_reply.started": "2023-09-19T12:40:48.650411Z"
        },
        "id": "GZYWXF9amtq3",
        "outputId": "e020a070-3430-49db-8cb5-083af9eee174",
        "trusted": true
      },
      "outputs": [
        {
          "output_type": "stream",
          "name": "stdout",
          "text": [
            "<class 'pandas.core.frame.DataFrame'>\n",
            "RangeIndex: 1082042 entries, 0 to 1082041\n",
            "Data columns (total 28 columns):\n",
            " #   Column        Non-Null Count    Dtype  \n",
            "---  ------        --------------    -----  \n",
            " 0   Duration      1082042 non-null  float64\n",
            " 1   Src Pt        1082042 non-null  int64  \n",
            " 2   Dst Pt        1082042 non-null  float64\n",
            " 3   Packets       1082042 non-null  int64  \n",
            " 4   Bytes         1082042 non-null  int64  \n",
            " 5   Flows         1082042 non-null  int64  \n",
            " 6   Tos           1082042 non-null  int64  \n",
            " 7   Flags_......  1082042 non-null  uint8  \n",
            " 8   Flags_.....F  1082042 non-null  uint8  \n",
            " 9   Flags_....S.  1082042 non-null  uint8  \n",
            " 10  Flags_...R..  1082042 non-null  uint8  \n",
            " 11  Flags_...RS.  1082042 non-null  uint8  \n",
            " 12  Flags_.A....  1082042 non-null  uint8  \n",
            " 13  Flags_.A...F  1082042 non-null  uint8  \n",
            " 14  Flags_.A..S.  1082042 non-null  uint8  \n",
            " 15  Flags_.A..SF  1082042 non-null  uint8  \n",
            " 16  Flags_.A.R..  1082042 non-null  uint8  \n",
            " 17  Flags_.A.R.F  1082042 non-null  uint8  \n",
            " 18  Flags_.A.RS.  1082042 non-null  uint8  \n",
            " 19  Flags_.A.RSF  1082042 non-null  uint8  \n",
            " 20  Flags_.AP...  1082042 non-null  uint8  \n",
            " 21  Flags_.AP..F  1082042 non-null  uint8  \n",
            " 22  Flags_.AP.S.  1082042 non-null  uint8  \n",
            " 23  Flags_.AP.SF  1082042 non-null  uint8  \n",
            " 24  Flags_.APR..  1082042 non-null  uint8  \n",
            " 25  Flags_.APR.F  1082042 non-null  uint8  \n",
            " 26  Flags_.APRS.  1082042 non-null  uint8  \n",
            " 27  Flags_.APRSF  1082042 non-null  uint8  \n",
            "dtypes: float64(2), int64(5), uint8(21)\n",
            "memory usage: 79.5 MB\n"
          ]
        }
      ],
      "source": [
        "X_train = train.iloc[:, :-5]\n",
        "X_test = test.iloc[:, :-5]\n",
        "\n",
        "X_train.info()"
      ]
    },
    {
      "cell_type": "markdown",
      "metadata": {
        "id": "2qbZPUMK2bcp"
      },
      "source": [
        "### Round 1"
      ]
    },
    {
      "cell_type": "code",
      "execution_count": 40,
      "metadata": {
        "execution": {
          "iopub.execute_input": "2023-09-19T12:40:48.753058Z",
          "iopub.status.busy": "2023-09-19T12:40:48.752713Z",
          "iopub.status.idle": "2023-09-19T12:44:16.874638Z",
          "shell.execute_reply": "2023-09-19T12:44:16.873377Z",
          "shell.execute_reply.started": "2023-09-19T12:40:48.753028Z"
        },
        "id": "JuQU4ARrYzCI",
        "trusted": true,
        "colab": {
          "base_uri": "https://localhost:8080/"
        },
        "outputId": "6b33fac0-7714-4068-e67e-d2665e6026b5"
      },
      "outputs": [
        {
          "output_type": "stream",
          "name": "stdout",
          "text": [
            "[LightGBM] [Warning] Found whitespace in feature_names, replace with underlines\n",
            "[LightGBM] [Info] Number of positive: 462523, number of negative: 619519\n",
            "[LightGBM] [Warning] Auto-choosing row-wise multi-threading, the overhead of testing was 0.043413 seconds.\n",
            "You can set `force_row_wise=true` to remove the overhead.\n",
            "And if memory is not enough, you can set `force_col_wise=true`.\n",
            "[LightGBM] [Info] Total Bins 1321\n",
            "[LightGBM] [Info] Number of data points in the train set: 1082042, number of used features: 27\n",
            "[LightGBM] [Info] [binary:BoostFromScore]: pavg=0.427454 -> initscore=-0.292247\n",
            "[LightGBM] [Info] Start training from score -0.292247\n"
          ]
        }
      ],
      "source": [
        "#Detect tcp\n",
        "\n",
        "from lightgbm import LGBMClassifier\n",
        "\n",
        "model = LGBMClassifier()\n",
        "clf_1 = model.fit(X_train, train['attackDescription_TCP'])"
      ]
    },
    {
      "cell_type": "code",
      "execution_count": 41,
      "metadata": {
        "execution": {
          "iopub.execute_input": "2023-09-19T12:44:16.886967Z",
          "iopub.status.busy": "2023-09-19T12:44:16.886466Z",
          "iopub.status.idle": "2023-09-19T12:44:22.585767Z",
          "shell.execute_reply": "2023-09-19T12:44:22.584669Z",
          "shell.execute_reply.started": "2023-09-19T12:44:16.886934Z"
        },
        "id": "VusGiqiZrMl1",
        "trusted": true
      },
      "outputs": [],
      "source": [
        "start_time = time.time()\n",
        "y_pred_1 = clf_1.predict(X_test)\n",
        "end_time = time.time()\n",
        "execution_time_r1 = end_time - start_time"
      ]
    },
    {
      "cell_type": "code",
      "execution_count": 42,
      "metadata": {
        "colab": {
          "base_uri": "https://localhost:8080/"
        },
        "execution": {
          "iopub.execute_input": "2023-09-19T12:44:22.588598Z",
          "iopub.status.busy": "2023-09-19T12:44:22.587421Z",
          "iopub.status.idle": "2023-09-19T12:44:23.604140Z",
          "shell.execute_reply": "2023-09-19T12:44:23.603254Z",
          "shell.execute_reply.started": "2023-09-19T12:44:22.588556Z"
        },
        "id": "ZTJN97hlD-Of",
        "outputId": "55399b91-1252-4f91-ebaa-1a64ee51fc25",
        "trusted": true
      },
      "outputs": [
        {
          "output_type": "stream",
          "name": "stdout",
          "text": [
            "Scores of round 1:\n",
            "\tACC: 0.9701975517162453\n",
            "\tPPV: 0.9655055079533574\n",
            "\tTPR: 0.973786117951466\n",
            "\tF1 : 0.9690988410534362\n",
            "\tAUC: 0.9737861179514659\n",
            "\tMCC: 0.9392551250820972\n",
            "\tFPR: 0.04321361773120361\n"
          ]
        }
      ],
      "source": [
        "cm = confusion_matrix(test['attackDescription_TCP'], y_pred_1)\n",
        "\n",
        "acc = accuracy_score(test['attackDescription_TCP'], y_pred_1)\n",
        "ppv = precision_score(test['attackDescription_TCP'], y_pred_1, average='macro')\n",
        "f1 = f1_score(test['attackDescription_TCP'], y_pred_1, average='macro')\n",
        "tpr = recall_score(test['attackDescription_TCP'], y_pred_1, average='macro')\n",
        "fpr = cm[0, 1] / (cm[0, 0] + cm[0, 1])\n",
        "auc = roc_auc_score(test['attackDescription_TCP'], y_pred_1)\n",
        "mcc = matthews_corrcoef(test['attackDescription_TCP'], y_pred_1)\n",
        "# udr = sum(y_pred_1[Service_Scan_test_index] == test['attackDescription_TCP'][Service_Scan_test_index]) / len(Service_Scan_test_index)\n",
        "\n",
        "# model_pred['Tabnet'] = y_pred_1\n",
        "# model_acc['Tabnet'] = acc\n",
        "# model_ppv['Tabnet'] = ppv\n",
        "# model_f1['Tabnet'] = f1\n",
        "# model_tpr['Tabnet'] = tpr\n",
        "# model_fpr['Tabnet'] = fpr\n",
        "# model_auc['Tabnet'] = auc\n",
        "# model_mcc['Tabnet'] = mcc\n",
        "# model_udr['Tabnet'] = udr\n",
        "\n",
        "print('Scores of round 1:')\n",
        "# print(f'\\tUDR: {udr} ({sum(y_pred_1[Service_Scan_test_index] == test['attackDescription_TCP'][Service_Scan_test_index])} / {len(Service_Scan_test_index)})')\n",
        "print(f'\\tACC: {acc}')\n",
        "print(f'\\tPPV: {ppv}')\n",
        "print(f'\\tTPR: {tpr}')\n",
        "print(f'\\tF1 : {f1}')\n",
        "print(f'\\tAUC: {auc}')\n",
        "print(f'\\tMCC: {mcc}')\n",
        "print(f'\\tFPR: {fpr}')"
      ]
    },
    {
      "cell_type": "code",
      "execution_count": 43,
      "metadata": {
        "colab": {
          "base_uri": "https://localhost:8080/"
        },
        "execution": {
          "iopub.execute_input": "2023-09-19T12:44:23.606354Z",
          "iopub.status.busy": "2023-09-19T12:44:23.605250Z",
          "iopub.status.idle": "2023-09-19T12:44:23.697589Z",
          "shell.execute_reply": "2023-09-19T12:44:23.696234Z",
          "shell.execute_reply.started": "2023-09-19T12:44:23.606311Z"
        },
        "id": "cEoXDn9HFs_F",
        "outputId": "ae9d2a27-acbb-4fc5-b45f-048844199b36",
        "trusted": true
      },
      "outputs": [
        {
          "output_type": "stream",
          "name": "stdout",
          "text": [
            "[[293632  13262]\n",
            " [  1842 198068]]\n"
          ]
        }
      ],
      "source": [
        "print(confusion_matrix(test['attackDescription_TCP'], y_pred_1))"
      ]
    },
    {
      "cell_type": "code",
      "execution_count": 44,
      "metadata": {
        "colab": {
          "base_uri": "https://localhost:8080/"
        },
        "execution": {
          "iopub.execute_input": "2023-09-19T12:44:23.699478Z",
          "iopub.status.busy": "2023-09-19T12:44:23.699056Z",
          "iopub.status.idle": "2023-09-19T12:44:24.558004Z",
          "shell.execute_reply": "2023-09-19T12:44:24.556245Z",
          "shell.execute_reply.started": "2023-09-19T12:44:23.699444Z"
        },
        "id": "63VbAYWxF2do",
        "outputId": "054db16f-b0a0-4849-c70b-555ad9ecf978",
        "trusted": true
      },
      "outputs": [
        {
          "output_type": "stream",
          "name": "stdout",
          "text": [
            "              precision    recall  f1-score   support\n",
            "\n",
            "           0       0.99      0.96      0.97    306894\n",
            "           1       0.94      0.99      0.96    199910\n",
            "\n",
            "    accuracy                           0.97    506804\n",
            "   macro avg       0.97      0.97      0.97    506804\n",
            "weighted avg       0.97      0.97      0.97    506804\n",
            "\n"
          ]
        }
      ],
      "source": [
        "print(classification_report(test['attackDescription_TCP'], y_pred_1))"
      ]
    },
    {
      "cell_type": "code",
      "execution_count": 45,
      "metadata": {
        "colab": {
          "base_uri": "https://localhost:8080/"
        },
        "execution": {
          "iopub.execute_input": "2023-09-19T12:44:24.560095Z",
          "iopub.status.busy": "2023-09-19T12:44:24.559733Z",
          "iopub.status.idle": "2023-09-19T12:44:24.570921Z",
          "shell.execute_reply": "2023-09-19T12:44:24.569674Z",
          "shell.execute_reply.started": "2023-09-19T12:44:24.560064Z"
        },
        "id": "3-fUpbVogjsb",
        "outputId": "833847c1-9ccc-482b-842e-a105549417b5",
        "trusted": true
      },
      "outputs": [
        {
          "output_type": "stream",
          "name": "stdout",
          "text": [
            "Int64Index([     0,      4,      5,      6,      7,      8,      9,     10,\n",
            "                11,     12,\n",
            "            ...\n",
            "            506789, 506791, 506792, 506793, 506795, 506796, 506800, 506801,\n",
            "            506802, 506803],\n",
            "           dtype='int64', length=295474)\n"
          ]
        }
      ],
      "source": [
        "remain_indices_1 = test.index[np.where(y_pred_1 == 0)[0]]\n",
        "print(remain_indices_1)"
      ]
    },
    {
      "cell_type": "code",
      "execution_count": 46,
      "metadata": {
        "colab": {
          "base_uri": "https://localhost:8080/"
        },
        "execution": {
          "iopub.execute_input": "2023-09-19T12:44:24.573195Z",
          "iopub.status.busy": "2023-09-19T12:44:24.572716Z",
          "iopub.status.idle": "2023-09-19T12:44:24.583967Z",
          "shell.execute_reply": "2023-09-19T12:44:24.582645Z",
          "shell.execute_reply.started": "2023-09-19T12:44:24.573133Z"
        },
        "id": "N4ApsJKFj9fl",
        "outputId": "b7defcb1-3b38-434b-a141-f85f447f0520",
        "trusted": true
      },
      "outputs": [
        {
          "output_type": "stream",
          "name": "stdout",
          "text": [
            "Int64Index([     1,      2,      3,     14,     16,     17,     23,     25,\n",
            "                27,     29,\n",
            "            ...\n",
            "            506780, 506782, 506783, 506785, 506787, 506790, 506794, 506797,\n",
            "            506798, 506799],\n",
            "           dtype='int64', length=211330)\n"
          ]
        }
      ],
      "source": [
        "tcp_pred = test.index[np.where(y_pred_1 == 1)[0]]\n",
        "print(tcp_pred)"
      ]
    },
    {
      "cell_type": "markdown",
      "metadata": {
        "id": "YgODm3_P5sFX"
      },
      "source": [
        "### Round 2"
      ]
    },
    {
      "cell_type": "code",
      "execution_count": 47,
      "metadata": {
        "execution": {
          "iopub.execute_input": "2023-09-19T12:44:24.586361Z",
          "iopub.status.busy": "2023-09-19T12:44:24.585766Z",
          "iopub.status.idle": "2023-09-19T12:46:52.850562Z",
          "shell.execute_reply": "2023-09-19T12:46:52.849234Z",
          "shell.execute_reply.started": "2023-09-19T12:44:24.586327Z"
        },
        "id": "hj5Lo2qIIVub",
        "trusted": true,
        "colab": {
          "base_uri": "https://localhost:8080/"
        },
        "outputId": "4171c03a-697a-4b83-ce01-b45883d3d6a0"
      },
      "outputs": [
        {
          "output_type": "stream",
          "name": "stdout",
          "text": [
            "[LightGBM] [Warning] Found whitespace in feature_names, replace with underlines\n",
            "[LightGBM] [Info] Number of positive: 5543, number of negative: 1076499\n",
            "[LightGBM] [Warning] Auto-choosing row-wise multi-threading, the overhead of testing was 0.053887 seconds.\n",
            "You can set `force_row_wise=true` to remove the overhead.\n",
            "And if memory is not enough, you can set `force_col_wise=true`.\n",
            "[LightGBM] [Info] Total Bins 1321\n",
            "[LightGBM] [Info] Number of data points in the train set: 1082042, number of used features: 27\n",
            "[LightGBM] [Info] [binary:BoostFromScore]: pavg=0.005123 -> initscore=-5.268934\n",
            "[LightGBM] [Info] Start training from score -5.268934\n"
          ]
        }
      ],
      "source": [
        "#Detect icmp\n",
        "model = LGBMClassifier()\n",
        "clf_2 = model.fit(X_train, train['attackDescription_ICMP'])"
      ]
    },
    {
      "cell_type": "code",
      "execution_count": 48,
      "metadata": {
        "execution": {
          "iopub.execute_input": "2023-09-19T12:46:52.852775Z",
          "iopub.status.busy": "2023-09-19T12:46:52.852416Z",
          "iopub.status.idle": "2023-09-19T12:46:52.920548Z",
          "shell.execute_reply": "2023-09-19T12:46:52.919252Z",
          "shell.execute_reply.started": "2023-09-19T12:46:52.852747Z"
        },
        "id": "zOOGZSnbItOV",
        "trusted": true
      },
      "outputs": [],
      "source": [
        "X_test_2 = X_test.loc[remain_indices_1]\n",
        "test_2 = test.loc[remain_indices_1]"
      ]
    },
    {
      "cell_type": "code",
      "execution_count": 49,
      "metadata": {
        "execution": {
          "iopub.execute_input": "2023-09-19T12:46:52.922995Z",
          "iopub.status.busy": "2023-09-19T12:46:52.922375Z",
          "iopub.status.idle": "2023-09-19T12:46:55.588008Z",
          "shell.execute_reply": "2023-09-19T12:46:55.586740Z",
          "shell.execute_reply.started": "2023-09-19T12:46:52.922962Z"
        },
        "id": "N8QBxHGcIVuc",
        "trusted": true
      },
      "outputs": [],
      "source": [
        "start_time = time.time()\n",
        "y_pred_2 = clf_2.predict(X_test_2)\n",
        "end_time = time.time()\n",
        "execution_time_r2 = end_time - start_time"
      ]
    },
    {
      "cell_type": "code",
      "execution_count": 50,
      "metadata": {
        "colab": {
          "base_uri": "https://localhost:8080/"
        },
        "execution": {
          "iopub.execute_input": "2023-09-19T12:46:55.590671Z",
          "iopub.status.busy": "2023-09-19T12:46:55.590078Z",
          "iopub.status.idle": "2023-09-19T12:46:56.034930Z",
          "shell.execute_reply": "2023-09-19T12:46:56.033525Z",
          "shell.execute_reply.started": "2023-09-19T12:46:55.590639Z"
        },
        "id": "qpb_JfeIIVuc",
        "outputId": "1a29e62a-d99e-40d8-fe7e-8b86ee625e10",
        "trusted": true
      },
      "outputs": [
        {
          "output_type": "stream",
          "name": "stdout",
          "text": [
            "Scores of round 2:\n",
            "\tACC: 0.9988425377528988\n",
            "\tPPV: 0.8187538254518778\n",
            "\tTPR: 0.9099586349362643\n",
            "\tF1 : 0.8586209308357073\n",
            "\tAUC: 0.9099586349362643\n",
            "\tMCC: 0.7229823875115191\n",
            "\tFPR: 0.0008374471086036671\n"
          ]
        }
      ],
      "source": [
        "cm = confusion_matrix(test_2['attackDescription_ICMP'], y_pred_2)\n",
        "\n",
        "acc = accuracy_score(test_2['attackDescription_ICMP'], y_pred_2)\n",
        "ppv = precision_score(test_2['attackDescription_ICMP'], y_pred_2, average='macro')\n",
        "f1 = f1_score(test_2['attackDescription_ICMP'], y_pred_2, average='macro')\n",
        "tpr = recall_score(test_2['attackDescription_ICMP'], y_pred_2, average='macro')\n",
        "fpr = cm[0, 1] / (cm[0, 0] + cm[0, 1])\n",
        "auc = roc_auc_score(test_2['attackDescription_ICMP'], y_pred_2)\n",
        "mcc = matthews_corrcoef(test_2['attackDescription_ICMP'], y_pred_2)\n",
        "\n",
        "print('Scores of round 2:')\n",
        "print(f'\\tACC: {acc}')\n",
        "print(f'\\tPPV: {ppv}')\n",
        "print(f'\\tTPR: {tpr}')\n",
        "print(f'\\tF1 : {f1}')\n",
        "print(f'\\tAUC: {auc}')\n",
        "print(f'\\tMCC: {mcc}')\n",
        "print(f'\\tFPR: {fpr}')"
      ]
    },
    {
      "cell_type": "code",
      "execution_count": 51,
      "metadata": {
        "colab": {
          "base_uri": "https://localhost:8080/"
        },
        "execution": {
          "iopub.execute_input": "2023-09-19T12:46:56.036565Z",
          "iopub.status.busy": "2023-09-19T12:46:56.036233Z",
          "iopub.status.idle": "2023-09-19T12:46:56.082145Z",
          "shell.execute_reply": "2023-09-19T12:46:56.080658Z",
          "shell.execute_reply.started": "2023-09-19T12:46:56.036538Z"
        },
        "id": "cQnPIRtPIVuc",
        "outputId": "671d2102-28b9-4fac-cc54-7ce8f6f0f598",
        "trusted": true
      },
      "outputs": [
        {
          "output_type": "stream",
          "name": "stdout",
          "text": [
            "[[294697    247]\n",
            " [    95    435]]\n"
          ]
        }
      ],
      "source": [
        "print(confusion_matrix(test_2['attackDescription_ICMP'], y_pred_2))"
      ]
    },
    {
      "cell_type": "code",
      "execution_count": 52,
      "metadata": {
        "colab": {
          "base_uri": "https://localhost:8080/"
        },
        "execution": {
          "iopub.execute_input": "2023-09-19T12:46:56.084115Z",
          "iopub.status.busy": "2023-09-19T12:46:56.083659Z",
          "iopub.status.idle": "2023-09-19T12:46:56.448969Z",
          "shell.execute_reply": "2023-09-19T12:46:56.447685Z",
          "shell.execute_reply.started": "2023-09-19T12:46:56.084079Z"
        },
        "id": "3SOslY-iIVuc",
        "outputId": "56dd61dd-ea96-4000-8eb4-c11fe502cb75",
        "trusted": true
      },
      "outputs": [
        {
          "output_type": "stream",
          "name": "stdout",
          "text": [
            "              precision    recall  f1-score   support\n",
            "\n",
            "           0       1.00      1.00      1.00    294944\n",
            "           1       0.64      0.82      0.72       530\n",
            "\n",
            "    accuracy                           1.00    295474\n",
            "   macro avg       0.82      0.91      0.86    295474\n",
            "weighted avg       1.00      1.00      1.00    295474\n",
            "\n"
          ]
        }
      ],
      "source": [
        "print(classification_report(test_2['attackDescription_ICMP'], y_pred_2))"
      ]
    },
    {
      "cell_type": "code",
      "execution_count": 53,
      "metadata": {
        "colab": {
          "base_uri": "https://localhost:8080/"
        },
        "execution": {
          "iopub.execute_input": "2023-09-19T12:46:56.450733Z",
          "iopub.status.busy": "2023-09-19T12:46:56.450377Z",
          "iopub.status.idle": "2023-09-19T12:46:56.459232Z",
          "shell.execute_reply": "2023-09-19T12:46:56.457959Z",
          "shell.execute_reply.started": "2023-09-19T12:46:56.450706Z"
        },
        "id": "PctZYS7yIVuc",
        "outputId": "a2a1c4d7-b6fc-4411-ccaf-bdaace9ad419",
        "trusted": true
      },
      "outputs": [
        {
          "output_type": "stream",
          "name": "stdout",
          "text": [
            "Int64Index([     0,      4,      5,      6,      7,      8,      9,     10,\n",
            "                11,     12,\n",
            "            ...\n",
            "            506788, 506789, 506791, 506792, 506793, 506795, 506796, 506800,\n",
            "            506802, 506803],\n",
            "           dtype='int64', length=294792)\n"
          ]
        }
      ],
      "source": [
        "remain_indices_2 = test_2.index[np.where(y_pred_2 == 0)[0]]\n",
        "print(remain_indices_2)"
      ]
    },
    {
      "cell_type": "code",
      "execution_count": 54,
      "metadata": {
        "colab": {
          "base_uri": "https://localhost:8080/"
        },
        "execution": {
          "iopub.execute_input": "2023-09-19T12:46:56.461735Z",
          "iopub.status.busy": "2023-09-19T12:46:56.461371Z",
          "iopub.status.idle": "2023-09-19T12:46:56.472575Z",
          "shell.execute_reply": "2023-09-19T12:46:56.471302Z",
          "shell.execute_reply.started": "2023-09-19T12:46:56.461705Z"
        },
        "id": "0Ow-Bkg0kLH8",
        "outputId": "fd630470-0ad3-4128-fb5c-746448104e3e",
        "trusted": true
      },
      "outputs": [
        {
          "output_type": "stream",
          "name": "stdout",
          "text": [
            "Int64Index([   211,   1745,   1950,   2247,   4461,   4826,   4967,   5126,\n",
            "              5175,   5207,\n",
            "            ...\n",
            "            499588, 499686, 500453, 501840, 502537, 502810, 503390, 504611,\n",
            "            505079, 506801],\n",
            "           dtype='int64', length=682)\n"
          ]
        }
      ],
      "source": [
        "icmp_pred = test_2.index[np.where(y_pred_2 == 1)[0]]\n",
        "print(icmp_pred)"
      ]
    },
    {
      "cell_type": "markdown",
      "metadata": {
        "id": "HVFpvHYuX6IL"
      },
      "source": [
        "## **STEP 2**"
      ]
    },
    {
      "cell_type": "markdown",
      "metadata": {
        "id": "SJ3RgdABzbL2"
      },
      "source": [
        "## Outlier"
      ]
    },
    {
      "cell_type": "code",
      "execution_count": 55,
      "metadata": {
        "colab": {
          "base_uri": "https://localhost:8080/"
        },
        "execution": {
          "iopub.execute_input": "2023-09-19T12:46:56.474767Z",
          "iopub.status.busy": "2023-09-19T12:46:56.474381Z",
          "iopub.status.idle": "2023-09-19T12:47:15.889732Z",
          "shell.execute_reply": "2023-09-19T12:47:15.888280Z",
          "shell.execute_reply.started": "2023-09-19T12:46:56.474726Z"
        },
        "id": "USODERe5ThMR",
        "outputId": "2d2736cf-7721-4da9-eeb9-9653cbddf735",
        "trusted": true
      },
      "outputs": [
        {
          "output_type": "stream",
          "name": "stdout",
          "text": [
            "Collecting pyod\n",
            "  Downloading pyod-1.1.0.tar.gz (153 kB)\n",
            "\u001b[?25l     \u001b[90m━━━━━━━━━━━━━━━━━━━━━━━━━━━━━━━━━━━━━━━━\u001b[0m \u001b[32m0.0/153.4 kB\u001b[0m \u001b[31m?\u001b[0m eta \u001b[36m-:--:--\u001b[0m\r\u001b[2K     \u001b[90m━━━━━━━━━━━━━━━━━━━━━━━━━━━━━━━━━━━━━━━\u001b[0m \u001b[32m153.4/153.4 kB\u001b[0m \u001b[31m4.7 MB/s\u001b[0m eta \u001b[36m0:00:00\u001b[0m\n",
            "\u001b[?25h  Preparing metadata (setup.py) ... \u001b[?25l\u001b[?25hdone\n",
            "Requirement already satisfied: joblib in /usr/local/lib/python3.10/dist-packages (from pyod) (1.3.2)\n",
            "Requirement already satisfied: matplotlib in /usr/local/lib/python3.10/dist-packages (from pyod) (3.7.1)\n",
            "Requirement already satisfied: numpy>=1.19 in /usr/local/lib/python3.10/dist-packages (from pyod) (1.23.5)\n",
            "Requirement already satisfied: numba>=0.51 in /usr/local/lib/python3.10/dist-packages (from pyod) (0.56.4)\n",
            "Requirement already satisfied: scipy>=1.5.1 in /usr/local/lib/python3.10/dist-packages (from pyod) (1.11.2)\n",
            "Requirement already satisfied: scikit_learn>=0.20.0 in /usr/local/lib/python3.10/dist-packages (from pyod) (1.2.2)\n",
            "Requirement already satisfied: six in /usr/local/lib/python3.10/dist-packages (from pyod) (1.16.0)\n",
            "Requirement already satisfied: llvmlite<0.40,>=0.39.0dev0 in /usr/local/lib/python3.10/dist-packages (from numba>=0.51->pyod) (0.39.1)\n",
            "Requirement already satisfied: setuptools in /usr/local/lib/python3.10/dist-packages (from numba>=0.51->pyod) (67.7.2)\n",
            "Requirement already satisfied: threadpoolctl>=2.0.0 in /usr/local/lib/python3.10/dist-packages (from scikit_learn>=0.20.0->pyod) (3.2.0)\n",
            "Requirement already satisfied: contourpy>=1.0.1 in /usr/local/lib/python3.10/dist-packages (from matplotlib->pyod) (1.1.0)\n",
            "Requirement already satisfied: cycler>=0.10 in /usr/local/lib/python3.10/dist-packages (from matplotlib->pyod) (0.11.0)\n",
            "Requirement already satisfied: fonttools>=4.22.0 in /usr/local/lib/python3.10/dist-packages (from matplotlib->pyod) (4.42.1)\n",
            "Requirement already satisfied: kiwisolver>=1.0.1 in /usr/local/lib/python3.10/dist-packages (from matplotlib->pyod) (1.4.5)\n",
            "Requirement already satisfied: packaging>=20.0 in /usr/local/lib/python3.10/dist-packages (from matplotlib->pyod) (23.1)\n",
            "Requirement already satisfied: pillow>=6.2.0 in /usr/local/lib/python3.10/dist-packages (from matplotlib->pyod) (9.4.0)\n",
            "Requirement already satisfied: pyparsing>=2.3.1 in /usr/local/lib/python3.10/dist-packages (from matplotlib->pyod) (3.1.1)\n",
            "Requirement already satisfied: python-dateutil>=2.7 in /usr/local/lib/python3.10/dist-packages (from matplotlib->pyod) (2.8.2)\n",
            "Building wheels for collected packages: pyod\n",
            "  Building wheel for pyod (setup.py) ... \u001b[?25l\u001b[?25hdone\n",
            "  Created wheel for pyod: filename=pyod-1.1.0-py3-none-any.whl size=185329 sha256=3a3e21ccf9fb9b3539c058776862fe01c4ba89abb22f57b04747283bdf10ac01\n",
            "  Stored in directory: /root/.cache/pip/wheels/36/8e/e2/e932956b10b843eb6be9eefa70b5c1bee7b561be14c423b136\n",
            "Successfully built pyod\n",
            "Installing collected packages: pyod\n",
            "Successfully installed pyod-1.1.0\n"
          ]
        }
      ],
      "source": [
        "%pip install pyod"
      ]
    },
    {
      "cell_type": "markdown",
      "metadata": {
        "id": "xtOSM0ej5DuD"
      },
      "source": [
        "### LOF"
      ]
    },
    {
      "cell_type": "code",
      "execution_count": 56,
      "metadata": {
        "execution": {
          "iopub.execute_input": "2023-09-19T12:47:15.891873Z",
          "iopub.status.busy": "2023-09-19T12:47:15.891518Z",
          "iopub.status.idle": "2023-09-19T12:47:15.979762Z",
          "shell.execute_reply": "2023-09-19T12:47:15.978443Z",
          "shell.execute_reply.started": "2023-09-19T12:47:15.891845Z"
        },
        "id": "pIWik-5IkYuK",
        "trusted": true
      },
      "outputs": [],
      "source": [
        "train_lof = train[(train['label'] == 0)]\n",
        "X_train_lof = train_lof.iloc[:, :-5]"
      ]
    },
    {
      "cell_type": "code",
      "execution_count": 57,
      "metadata": {
        "execution": {
          "iopub.execute_input": "2023-09-19T12:47:15.982059Z",
          "iopub.status.busy": "2023-09-19T12:47:15.981616Z",
          "iopub.status.idle": "2023-09-19T12:47:16.072192Z",
          "shell.execute_reply": "2023-09-19T12:47:16.070846Z",
          "shell.execute_reply.started": "2023-09-19T12:47:15.982027Z"
        },
        "id": "nc58J62zkZPb",
        "trusted": true
      },
      "outputs": [],
      "source": [
        "X_test_3 = X_test.loc[remain_indices_2]\n",
        "test_3 = test.loc[remain_indices_2]"
      ]
    },
    {
      "cell_type": "code",
      "execution_count": 58,
      "metadata": {
        "execution": {
          "iopub.execute_input": "2023-09-19T12:47:16.074776Z",
          "iopub.status.busy": "2023-09-19T12:47:16.073985Z",
          "iopub.status.idle": "2023-09-19T13:12:55.720868Z",
          "shell.execute_reply": "2023-09-19T13:12:55.719671Z",
          "shell.execute_reply.started": "2023-09-19T12:47:16.074729Z"
        },
        "id": "MK1mAr6M5emo",
        "trusted": true
      },
      "outputs": [],
      "source": [
        "# # train an LOF detector\n",
        "# from pyod.models.ecod import ECOD\n",
        "# from pyod.models.abod import ABOD\n",
        "# from pyod.models.alad import ALAD\n",
        "# from pyod.models.anogan import AnoGAN\n",
        "# from pyod.models.rod import ROD\n",
        "# from pyod.models.lof import LOF\n",
        "# from pyod.models.lscp import LSCP\n",
        "# from pyod.models.ocsvm import OCSVM\n",
        "# from pyod.models.cblof import CBLOF\n",
        "# from pyod.models.knn import KNN\n",
        "# from pyod.models.inne import INNE\n",
        "# from pyod.models.auto_encoder import AutoEncoder\n",
        "# from pyod.models.iforest import IForest\n",
        "\n",
        "# # model_1 = OCSVM()\n",
        "# # model_2 = CBLOF()\n",
        "# # model_3 = KNN()\n",
        "\n",
        "# clf_lof = LOF( contamination=0.05)\n",
        "# clf_lof.fit(X_train_lof)\n",
        "\n",
        "# # get outlier scores\n",
        "# y_train_scores = clf_lof.decision_scores_  # raw outlier scores on the train data\n",
        "# y_test_scores = clf_lof.decision_function(X_test_3)  # predict raw outlier scores on test\n",
        "# print(f\"Train_score: {y_train_scores.mean()}\")\n",
        "# print(f\"Test_score: {y_test_scores.mean()}\")"
      ]
    },
    {
      "cell_type": "code",
      "source": [
        "from joblib import dump, load\n",
        "\n",
        "# save the model\n",
        "# dump(clf_lof, 'clf_lof_tcp_icmp.joblib')\n",
        "# load the model\n",
        "clf_lof = load('/content/drive/MyDrive/Colab Notebooks/data/CIDDS Data/clf_lof_tcp.joblib')"
      ],
      "metadata": {
        "id": "RQQyaevafJMO"
      },
      "execution_count": 59,
      "outputs": []
    },
    {
      "cell_type": "code",
      "execution_count": 60,
      "metadata": {
        "execution": {
          "iopub.execute_input": "2023-09-19T13:12:55.723471Z",
          "iopub.status.busy": "2023-09-19T13:12:55.722527Z",
          "iopub.status.idle": "2023-09-19T13:21:17.236531Z",
          "shell.execute_reply": "2023-09-19T13:21:17.235345Z",
          "shell.execute_reply.started": "2023-09-19T13:12:55.723435Z"
        },
        "id": "Q5Cp878b5khb",
        "trusted": true,
        "colab": {
          "base_uri": "https://localhost:8080/"
        },
        "outputId": "60d24c4a-992a-4d27-bc6c-14462cecf95d"
      },
      "outputs": [
        {
          "output_type": "execute_result",
          "data": {
            "text/plain": [
              "0    252183\n",
              "1     42609\n",
              "dtype: int64"
            ]
          },
          "metadata": {},
          "execution_count": 60
        }
      ],
      "source": [
        "start_time = time.time()\n",
        "\n",
        "y_pred_lof = clf_lof.predict(X_test_3)\n",
        "\n",
        "end_time = time.time()\n",
        "execution_time_lof = end_time - start_time\n",
        "\n",
        "pd.DataFrame(y_pred_lof).value_counts()"
      ]
    },
    {
      "cell_type": "code",
      "execution_count": 61,
      "metadata": {
        "execution": {
          "iopub.execute_input": "2023-09-19T13:21:17.239149Z",
          "iopub.status.busy": "2023-09-19T13:21:17.238381Z",
          "iopub.status.idle": "2023-09-19T13:21:17.253222Z",
          "shell.execute_reply": "2023-09-19T13:21:17.251790Z",
          "shell.execute_reply.started": "2023-09-19T13:21:17.239103Z"
        },
        "id": "eIq3hppI5ruR",
        "trusted": true,
        "colab": {
          "base_uri": "https://localhost:8080/"
        },
        "outputId": "cce4ec02-c8ef-44ff-ce83-f04ff7378c3f"
      },
      "outputs": [
        {
          "output_type": "execute_result",
          "data": {
            "text/plain": [
              "1    262117\n",
              "0     32675\n",
              "Name: attackDescription_normal, dtype: int64"
            ]
          },
          "metadata": {},
          "execution_count": 61
        }
      ],
      "source": [
        "test_3['attackDescription_normal'].value_counts()"
      ]
    },
    {
      "cell_type": "code",
      "execution_count": 62,
      "metadata": {
        "execution": {
          "iopub.execute_input": "2023-09-19T13:21:17.255121Z",
          "iopub.status.busy": "2023-09-19T13:21:17.254736Z",
          "iopub.status.idle": "2023-09-19T13:21:17.271427Z",
          "shell.execute_reply": "2023-09-19T13:21:17.270023Z",
          "shell.execute_reply.started": "2023-09-19T13:21:17.255089Z"
        },
        "id": "tdIRrEWo5vA9",
        "trusted": true,
        "colab": {
          "base_uri": "https://localhost:8080/"
        },
        "outputId": "4cd727ee-58c1-461d-cd6e-5be884569cf2"
      },
      "outputs": [
        {
          "output_type": "execute_result",
          "data": {
            "text/plain": [
              "0    262117\n",
              "1     32675\n",
              "Name: attackDescription_normal, dtype: int64"
            ]
          },
          "metadata": {},
          "execution_count": 62
        }
      ],
      "source": [
        "true_abnormal_1 = test_3['attackDescription_normal'].copy()\n",
        "true_abnormal_1 = true_abnormal_1.replace({0: 1, 1: 0})\n",
        "true_abnormal_1.value_counts()"
      ]
    },
    {
      "cell_type": "code",
      "execution_count": 63,
      "metadata": {
        "execution": {
          "iopub.execute_input": "2023-09-19T13:21:17.273666Z",
          "iopub.status.busy": "2023-09-19T13:21:17.273302Z",
          "iopub.status.idle": "2023-09-19T13:21:17.827345Z",
          "shell.execute_reply": "2023-09-19T13:21:17.826359Z",
          "shell.execute_reply.started": "2023-09-19T13:21:17.273638Z"
        },
        "id": "udBGO-6F5v83",
        "trusted": true,
        "colab": {
          "base_uri": "https://localhost:8080/"
        },
        "outputId": "e39d674a-03e7-415d-98dc-46559ede1758"
      },
      "outputs": [
        {
          "output_type": "stream",
          "name": "stdout",
          "text": [
            "Scores of outlier:\n",
            "\tACC: 0.94551412521371\n",
            "\tPPV: 0.8413985849483314\n",
            "\tTPR: 0.928319730269678\n",
            "\tF1 : 0.8777085470830976\n",
            "\tAUC: 0.928319730269678\n",
            "\tMCC: 0.7647947432338145\n",
            "\tFPR: 0.04958854252108791\n"
          ]
        }
      ],
      "source": [
        "cm = confusion_matrix(true_abnormal_1, y_pred_lof)\n",
        "\n",
        "acc = accuracy_score(true_abnormal_1, y_pred_lof)\n",
        "ppv = precision_score(true_abnormal_1, y_pred_lof, average='macro')\n",
        "f1 = f1_score(true_abnormal_1, y_pred_lof, average='macro')\n",
        "tpr = recall_score(true_abnormal_1, y_pred_lof, average='macro')\n",
        "fpr = cm[0, 1] / (cm[0, 0] + cm[0, 1])\n",
        "auc = roc_auc_score(true_abnormal_1, y_pred_lof)\n",
        "mcc = matthews_corrcoef(true_abnormal_1, y_pred_lof)\n",
        "\n",
        "print('Scores of outlier:')\n",
        "print(f'\\tACC: {acc}')\n",
        "print(f'\\tPPV: {ppv}')\n",
        "print(f'\\tTPR: {tpr}')\n",
        "print(f'\\tF1 : {f1}')\n",
        "print(f'\\tAUC: {auc}')\n",
        "print(f'\\tMCC: {mcc}')\n",
        "print(f'\\tFPR: {fpr}')"
      ]
    },
    {
      "cell_type": "code",
      "execution_count": 64,
      "metadata": {
        "execution": {
          "iopub.execute_input": "2023-09-19T13:21:17.829350Z",
          "iopub.status.busy": "2023-09-19T13:21:17.828897Z",
          "iopub.status.idle": "2023-09-19T13:21:17.882727Z",
          "shell.execute_reply": "2023-09-19T13:21:17.881429Z",
          "shell.execute_reply.started": "2023-09-19T13:21:17.829318Z"
        },
        "id": "PCvusg-150ke",
        "trusted": true,
        "colab": {
          "base_uri": "https://localhost:8080/"
        },
        "outputId": "a0d3228d-4b0a-4d26-d92f-5498fb4e3aed"
      },
      "outputs": [
        {
          "output_type": "stream",
          "name": "stdout",
          "text": [
            "[[249119  12998]\n",
            " [  3064  29611]]\n"
          ]
        }
      ],
      "source": [
        "print(confusion_matrix(true_abnormal_1, y_pred_lof))"
      ]
    },
    {
      "cell_type": "code",
      "execution_count": 65,
      "metadata": {
        "execution": {
          "iopub.execute_input": "2023-09-19T13:21:17.885125Z",
          "iopub.status.busy": "2023-09-19T13:21:17.884668Z",
          "iopub.status.idle": "2023-09-19T13:21:18.349439Z",
          "shell.execute_reply": "2023-09-19T13:21:18.347964Z",
          "shell.execute_reply.started": "2023-09-19T13:21:17.885081Z"
        },
        "id": "HZEJpuEf53Bv",
        "trusted": true,
        "colab": {
          "base_uri": "https://localhost:8080/"
        },
        "outputId": "878eab96-2054-46f0-bbee-398aaaccef85"
      },
      "outputs": [
        {
          "output_type": "stream",
          "name": "stdout",
          "text": [
            "              precision    recall  f1-score   support\n",
            "\n",
            "           0       0.99      0.95      0.97    262117\n",
            "           1       0.69      0.91      0.79     32675\n",
            "\n",
            "    accuracy                           0.95    294792\n",
            "   macro avg       0.84      0.93      0.88    294792\n",
            "weighted avg       0.96      0.95      0.95    294792\n",
            "\n"
          ]
        }
      ],
      "source": [
        "print(classification_report(true_abnormal_1, y_pred_lof))"
      ]
    },
    {
      "cell_type": "code",
      "execution_count": 66,
      "metadata": {
        "execution": {
          "iopub.execute_input": "2023-09-19T13:21:18.351849Z",
          "iopub.status.busy": "2023-09-19T13:21:18.351323Z",
          "iopub.status.idle": "2023-09-19T13:21:18.361622Z",
          "shell.execute_reply": "2023-09-19T13:21:18.360632Z",
          "shell.execute_reply.started": "2023-09-19T13:21:18.351804Z"
        },
        "id": "YDppQNWC6wYa",
        "trusted": true,
        "colab": {
          "base_uri": "https://localhost:8080/"
        },
        "outputId": "1171ee96-a53a-4de6-c870-58ecfc024e51"
      },
      "outputs": [
        {
          "output_type": "stream",
          "name": "stdout",
          "text": [
            "Int64Index([     4,      5,      6,      7,      8,     11,     12,     13,\n",
            "                18,     19,\n",
            "            ...\n",
            "            506781, 506784, 506786, 506788, 506789, 506792, 506793, 506795,\n",
            "            506796, 506800],\n",
            "           dtype='int64', length=252183)\n"
          ]
        }
      ],
      "source": [
        "remain_indices_3 = test_3.index[np.where(y_pred_lof == 0)[0]]\n",
        "print(remain_indices_3)"
      ]
    },
    {
      "cell_type": "code",
      "execution_count": 67,
      "metadata": {
        "execution": {
          "iopub.execute_input": "2023-09-19T13:21:18.363824Z",
          "iopub.status.busy": "2023-09-19T13:21:18.363327Z",
          "iopub.status.idle": "2023-09-19T13:21:18.383233Z",
          "shell.execute_reply": "2023-09-19T13:21:18.381800Z",
          "shell.execute_reply.started": "2023-09-19T13:21:18.363770Z"
        },
        "id": "zOSwxtip55N_",
        "trusted": true
      },
      "outputs": [],
      "source": [
        "udp_pred_lof = true_abnormal_1.index[np.where(y_pred_lof == 1)[0]]"
      ]
    },
    {
      "cell_type": "markdown",
      "metadata": {
        "id": "xdcYyKC-5JU7"
      },
      "source": [
        "### INNE"
      ]
    },
    {
      "cell_type": "code",
      "execution_count": 68,
      "metadata": {
        "execution": {
          "iopub.execute_input": "2023-09-19T13:21:18.385417Z",
          "iopub.status.busy": "2023-09-19T13:21:18.384780Z",
          "iopub.status.idle": "2023-09-19T13:21:18.472597Z",
          "shell.execute_reply": "2023-09-19T13:21:18.471265Z",
          "shell.execute_reply.started": "2023-09-19T13:21:18.385372Z"
        },
        "id": "3AL1uLOW6WB8",
        "trusted": true
      },
      "outputs": [],
      "source": [
        "train_inne = train[(train['label'] == 0)]\n",
        "X_train_inne = train_inne.iloc[:, :-5]"
      ]
    },
    {
      "cell_type": "code",
      "execution_count": 69,
      "metadata": {
        "execution": {
          "iopub.execute_input": "2023-09-19T13:21:18.475147Z",
          "iopub.status.busy": "2023-09-19T13:21:18.474675Z",
          "iopub.status.idle": "2023-09-19T13:21:18.550823Z",
          "shell.execute_reply": "2023-09-19T13:21:18.549740Z",
          "shell.execute_reply.started": "2023-09-19T13:21:18.475106Z"
        },
        "id": "ej8bLAOm6YaF",
        "trusted": true
      },
      "outputs": [],
      "source": [
        "X_test_4 = X_test.loc[remain_indices_3]\n",
        "test_4 = test.loc[remain_indices_3]"
      ]
    },
    {
      "cell_type": "code",
      "execution_count": 70,
      "metadata": {
        "execution": {
          "iopub.execute_input": "2023-09-19T13:21:18.552930Z",
          "iopub.status.busy": "2023-09-19T13:21:18.552558Z",
          "iopub.status.idle": "2023-09-19T13:22:57.409464Z",
          "shell.execute_reply": "2023-09-19T13:22:57.408172Z",
          "shell.execute_reply.started": "2023-09-19T13:21:18.552900Z"
        },
        "id": "fGzOicfokbBU",
        "trusted": true
      },
      "outputs": [],
      "source": [
        "# # train with INNE detector\n",
        "# from pyod.models.ecod import ECOD\n",
        "# from pyod.models.abod import ABOD\n",
        "# from pyod.models.alad import ALAD\n",
        "# from pyod.models.anogan import AnoGAN\n",
        "# from pyod.models.rod import ROD\n",
        "# from pyod.models.lof import LOF\n",
        "# from pyod.models.lscp import LSCP\n",
        "# from pyod.models.ocsvm import OCSVM\n",
        "# from pyod.models.cblof import CBLOF\n",
        "# from pyod.models.knn import KNN\n",
        "# from pyod.models.inne import INNE\n",
        "# from pyod.models.auto_encoder import AutoEncoder\n",
        "# from pyod.models.iforest import IForest\n",
        "\n",
        "# # model_1 = OCSVM()\n",
        "# # model_2 = CBLOF()\n",
        "# # model_3 = KNN()\n",
        "\n",
        "# clf_inne = INNE( contamination=0.05)\n",
        "# clf_inne.fit(X_train_inne)\n",
        "\n",
        "# # get outlier scores\n",
        "# y_train_scores = clf_inne.decision_scores_  # raw outlier scores on the train data\n",
        "# y_test_scores = clf_inne.decision_function(X_test_4)  # predict raw outlier scores on test\n",
        "# print(f\"Train_score: {y_train_scores.mean()}\")\n",
        "# print(f\"Test_score: {y_test_scores.mean()}\")"
      ]
    },
    {
      "cell_type": "code",
      "source": [
        "from joblib import dump, load\n",
        "\n",
        "# save the model\n",
        "# dump(clf_inne, 'clf_inne_tcp_icmp.joblib')\n",
        "# load the model\n",
        "clf_inne = load('/content/drive/MyDrive/Colab Notebooks/data/CIDDS Data/clf_inne_tcp.joblib')"
      ],
      "metadata": {
        "id": "Qn-V3caQfipU"
      },
      "execution_count": 71,
      "outputs": []
    },
    {
      "cell_type": "code",
      "execution_count": 72,
      "metadata": {
        "execution": {
          "iopub.execute_input": "2023-09-19T13:22:57.411306Z",
          "iopub.status.busy": "2023-09-19T13:22:57.410927Z",
          "iopub.status.idle": "2023-09-19T13:23:29.380354Z",
          "shell.execute_reply": "2023-09-19T13:23:29.379110Z",
          "shell.execute_reply.started": "2023-09-19T13:22:57.411270Z"
        },
        "id": "T1IagO16kdMT",
        "trusted": true,
        "colab": {
          "base_uri": "https://localhost:8080/"
        },
        "outputId": "746cc173-e9e5-4a5f-9124-91312979210d"
      },
      "outputs": [
        {
          "output_type": "execute_result",
          "data": {
            "text/plain": [
              "0    237663\n",
              "1     14520\n",
              "dtype: int64"
            ]
          },
          "metadata": {},
          "execution_count": 72
        }
      ],
      "source": [
        "start_time = time.time()\n",
        "\n",
        "y_pred_inne = clf_inne.predict(X_test_4)\n",
        "\n",
        "end_time = time.time()\n",
        "execution_time_inne = end_time - start_time\n",
        "\n",
        "pd.DataFrame(y_pred_inne).value_counts()"
      ]
    },
    {
      "cell_type": "code",
      "execution_count": 73,
      "metadata": {
        "execution": {
          "iopub.execute_input": "2023-09-19T13:23:29.381944Z",
          "iopub.status.busy": "2023-09-19T13:23:29.381615Z",
          "iopub.status.idle": "2023-09-19T13:23:29.394702Z",
          "shell.execute_reply": "2023-09-19T13:23:29.393505Z",
          "shell.execute_reply.started": "2023-09-19T13:23:29.381917Z"
        },
        "id": "sC1mJSOwkfZx",
        "trusted": true,
        "colab": {
          "base_uri": "https://localhost:8080/"
        },
        "outputId": "826f49d4-1109-4d67-f90c-24783c9a02e4"
      },
      "outputs": [
        {
          "output_type": "execute_result",
          "data": {
            "text/plain": [
              "1    249119\n",
              "0      3064\n",
              "Name: attackDescription_normal, dtype: int64"
            ]
          },
          "metadata": {},
          "execution_count": 73
        }
      ],
      "source": [
        "test_4['attackDescription_normal'].value_counts()"
      ]
    },
    {
      "cell_type": "code",
      "execution_count": 74,
      "metadata": {
        "execution": {
          "iopub.execute_input": "2023-09-19T13:23:29.398454Z",
          "iopub.status.busy": "2023-09-19T13:23:29.396442Z",
          "iopub.status.idle": "2023-09-19T13:23:29.412479Z",
          "shell.execute_reply": "2023-09-19T13:23:29.411236Z",
          "shell.execute_reply.started": "2023-09-19T13:23:29.398420Z"
        },
        "id": "zpXPgzhikhk9",
        "trusted": true,
        "colab": {
          "base_uri": "https://localhost:8080/"
        },
        "outputId": "10680a32-2a2a-487c-958c-58f1a02e6e92"
      },
      "outputs": [
        {
          "output_type": "execute_result",
          "data": {
            "text/plain": [
              "0    249119\n",
              "1      3064\n",
              "Name: attackDescription_normal, dtype: int64"
            ]
          },
          "metadata": {},
          "execution_count": 74
        }
      ],
      "source": [
        "true_abnormal_2 = test_4['attackDescription_normal'].copy()\n",
        "true_abnormal_2 = true_abnormal_2.replace({0: 1, 1: 0})\n",
        "true_abnormal_2.value_counts()\n"
      ]
    },
    {
      "cell_type": "code",
      "execution_count": 75,
      "metadata": {
        "execution": {
          "iopub.execute_input": "2023-09-19T13:23:29.414535Z",
          "iopub.status.busy": "2023-09-19T13:23:29.414051Z",
          "iopub.status.idle": "2023-09-19T13:23:29.867651Z",
          "shell.execute_reply": "2023-09-19T13:23:29.866784Z",
          "shell.execute_reply.started": "2023-09-19T13:23:29.414505Z"
        },
        "id": "TfxXDwvlkwd8",
        "trusted": true,
        "colab": {
          "base_uri": "https://localhost:8080/"
        },
        "outputId": "525b5d67-2c85-4aa7-a9d6-57baa9cf2041"
      },
      "outputs": [
        {
          "output_type": "stream",
          "name": "stdout",
          "text": [
            "Scores of outlier:\n",
            "\tACC: 0.9455871331533053\n",
            "\tPPV: 0.5641108631212409\n",
            "\tTPR: 0.7898439250047717\n",
            "\tF1 : 0.5957211366060808\n",
            "\tAUC: 0.7898439250047716\n",
            "\tMCC: 0.2726326774435091\n",
            "\tFPR: 0.05053408210533922\n"
          ]
        }
      ],
      "source": [
        "cm = confusion_matrix(true_abnormal_2, y_pred_inne)\n",
        "\n",
        "acc = accuracy_score(true_abnormal_2, y_pred_inne)\n",
        "ppv = precision_score(true_abnormal_2, y_pred_inne, average='macro')\n",
        "f1 = f1_score(true_abnormal_2, y_pred_inne, average='macro')\n",
        "tpr = recall_score(true_abnormal_2, y_pred_inne, average='macro')\n",
        "fpr = cm[0, 1] / (cm[0, 0] + cm[0, 1])\n",
        "auc = roc_auc_score(true_abnormal_2, y_pred_inne)\n",
        "mcc = matthews_corrcoef(true_abnormal_2, y_pred_inne)\n",
        "\n",
        "print('Scores of outlier:')\n",
        "print(f'\\tACC: {acc}')\n",
        "print(f'\\tPPV: {ppv}')\n",
        "print(f'\\tTPR: {tpr}')\n",
        "print(f'\\tF1 : {f1}')\n",
        "print(f'\\tAUC: {auc}')\n",
        "print(f'\\tMCC: {mcc}')\n",
        "print(f'\\tFPR: {fpr}')"
      ]
    },
    {
      "cell_type": "code",
      "execution_count": 76,
      "metadata": {
        "execution": {
          "iopub.execute_input": "2023-09-19T13:23:29.869579Z",
          "iopub.status.busy": "2023-09-19T13:23:29.868791Z",
          "iopub.status.idle": "2023-09-19T13:23:29.916776Z",
          "shell.execute_reply": "2023-09-19T13:23:29.915612Z",
          "shell.execute_reply.started": "2023-09-19T13:23:29.869544Z"
        },
        "id": "wyIRcfEQkxGe",
        "trusted": true,
        "colab": {
          "base_uri": "https://localhost:8080/"
        },
        "outputId": "f2fd9562-b924-49d1-ec30-b9df29ecaa66"
      },
      "outputs": [
        {
          "output_type": "stream",
          "name": "stdout",
          "text": [
            "[[236530  12589]\n",
            " [  1133   1931]]\n"
          ]
        }
      ],
      "source": [
        "print(confusion_matrix(true_abnormal_2, y_pred_inne))"
      ]
    },
    {
      "cell_type": "code",
      "execution_count": 77,
      "metadata": {
        "execution": {
          "iopub.execute_input": "2023-09-19T13:23:29.919474Z",
          "iopub.status.busy": "2023-09-19T13:23:29.918418Z",
          "iopub.status.idle": "2023-09-19T13:23:30.295132Z",
          "shell.execute_reply": "2023-09-19T13:23:30.293535Z",
          "shell.execute_reply.started": "2023-09-19T13:23:29.919440Z"
        },
        "id": "Ay4hJt8ik0Xb",
        "trusted": true,
        "colab": {
          "base_uri": "https://localhost:8080/"
        },
        "outputId": "8d23575a-219d-433f-89fd-0a4e77e7839f"
      },
      "outputs": [
        {
          "output_type": "stream",
          "name": "stdout",
          "text": [
            "              precision    recall  f1-score   support\n",
            "\n",
            "           0       1.00      0.95      0.97    249119\n",
            "           1       0.13      0.63      0.22      3064\n",
            "\n",
            "    accuracy                           0.95    252183\n",
            "   macro avg       0.56      0.79      0.60    252183\n",
            "weighted avg       0.98      0.95      0.96    252183\n",
            "\n"
          ]
        }
      ],
      "source": [
        "print(classification_report(true_abnormal_2, y_pred_inne))"
      ]
    },
    {
      "cell_type": "code",
      "execution_count": 78,
      "metadata": {
        "execution": {
          "iopub.execute_input": "2023-09-19T13:23:30.297606Z",
          "iopub.status.busy": "2023-09-19T13:23:30.296723Z",
          "iopub.status.idle": "2023-09-19T13:23:30.306599Z",
          "shell.execute_reply": "2023-09-19T13:23:30.305298Z",
          "shell.execute_reply.started": "2023-09-19T13:23:30.297570Z"
        },
        "id": "YPKCvoxek3LU",
        "trusted": true,
        "colab": {
          "base_uri": "https://localhost:8080/"
        },
        "outputId": "5fbae52f-f91a-4044-d15d-24576780a5b3"
      },
      "outputs": [
        {
          "output_type": "stream",
          "name": "stdout",
          "text": [
            "Int64Index([    26,     31,     33,     64,    257,    265,    299,    324,\n",
            "               370,    427,\n",
            "            ...\n",
            "            506358, 506410, 506571, 506580, 506674, 506684, 506724, 506730,\n",
            "            506775, 506784],\n",
            "           dtype='int64', length=14520)\n"
          ]
        }
      ],
      "source": [
        "udp_pred_inne = true_abnormal_2.index[np.where(y_pred_inne == 1)[0]]\n",
        "print(udp_pred_inne)"
      ]
    },
    {
      "cell_type": "code",
      "execution_count": 79,
      "metadata": {
        "execution": {
          "iopub.execute_input": "2023-09-19T13:23:30.308704Z",
          "iopub.status.busy": "2023-09-19T13:23:30.308340Z",
          "iopub.status.idle": "2023-09-19T13:23:30.322750Z",
          "shell.execute_reply": "2023-09-19T13:23:30.321780Z",
          "shell.execute_reply.started": "2023-09-19T13:23:30.308678Z"
        },
        "id": "m7UFjn_d_0TA",
        "trusted": true,
        "colab": {
          "base_uri": "https://localhost:8080/"
        },
        "outputId": "0eb1d8bb-fd3c-4482-f553-a1cfe1230cb3"
      },
      "outputs": [
        {
          "output_type": "execute_result",
          "data": {
            "text/plain": [
              "Int64Index([     0,      9,     10,     15,     38,     44,     48,     60,\n",
              "                77,    209,\n",
              "            ...\n",
              "            506358, 506410, 506571, 506580, 506674, 506684, 506724, 506730,\n",
              "            506775, 506784],\n",
              "           dtype='int64', length=57129)"
            ]
          },
          "metadata": {},
          "execution_count": 79
        }
      ],
      "source": [
        "udp_pred = udp_pred_lof.append(udp_pred_inne)\n",
        "udp_pred"
      ]
    },
    {
      "cell_type": "markdown",
      "metadata": {
        "id": "fG-RWKfHk5FS"
      },
      "source": [
        "# **RESULT**"
      ]
    },
    {
      "cell_type": "markdown",
      "source": [
        "### Binary"
      ],
      "metadata": {
        "id": "GslATkzapWKn"
      }
    },
    {
      "cell_type": "code",
      "execution_count": 80,
      "metadata": {
        "execution": {
          "iopub.execute_input": "2023-09-19T13:23:30.324715Z",
          "iopub.status.busy": "2023-09-19T13:23:30.323976Z",
          "iopub.status.idle": "2023-09-19T13:23:30.338356Z",
          "shell.execute_reply": "2023-09-19T13:23:30.337076Z",
          "shell.execute_reply.started": "2023-09-19T13:23:30.324680Z"
        },
        "id": "II-HYAxUk6ee",
        "trusted": true
      },
      "outputs": [],
      "source": [
        "y_pred = np.zeros_like(y_pred_1)"
      ]
    },
    {
      "cell_type": "code",
      "execution_count": 81,
      "metadata": {
        "execution": {
          "iopub.execute_input": "2023-09-19T13:23:30.340922Z",
          "iopub.status.busy": "2023-09-19T13:23:30.340035Z",
          "iopub.status.idle": "2023-09-19T13:23:30.373301Z",
          "shell.execute_reply": "2023-09-19T13:23:30.372113Z",
          "shell.execute_reply.started": "2023-09-19T13:23:30.340886Z"
        },
        "id": "AI0qbkFbk9Mo",
        "trusted": true,
        "colab": {
          "base_uri": "https://localhost:8080/"
        },
        "outputId": "be70b73d-86c4-4356-e9cf-e7955a07c5ff"
      },
      "outputs": [
        {
          "output_type": "execute_result",
          "data": {
            "text/plain": [
              "1    269141\n",
              "0    237663\n",
              "dtype: int64"
            ]
          },
          "metadata": {},
          "execution_count": 81
        }
      ],
      "source": [
        "y_pred[udp_pred]=1\n",
        "y_pred[tcp_pred]=1\n",
        "y_pred[icmp_pred]=1\n",
        "\n",
        "pd.DataFrame(y_pred).value_counts()"
      ]
    },
    {
      "cell_type": "code",
      "execution_count": 82,
      "metadata": {
        "execution": {
          "iopub.execute_input": "2023-09-19T13:23:30.374999Z",
          "iopub.status.busy": "2023-09-19T13:23:30.374643Z",
          "iopub.status.idle": "2023-09-19T13:23:30.385628Z",
          "shell.execute_reply": "2023-09-19T13:23:30.384593Z",
          "shell.execute_reply.started": "2023-09-19T13:23:30.374971Z"
        },
        "trusted": true,
        "colab": {
          "base_uri": "https://localhost:8080/"
        },
        "id": "ZRtMVyXl_oVV",
        "outputId": "9064d635-7333-434e-fe96-74b082b5c77e"
      },
      "outputs": [
        {
          "output_type": "execute_result",
          "data": {
            "text/plain": [
              "0         1\n",
              "1         0\n",
              "2         0\n",
              "3         0\n",
              "4         0\n",
              "         ..\n",
              "506799    0\n",
              "506800    0\n",
              "506801    1\n",
              "506802    1\n",
              "506803    0\n",
              "Name: attackDescription_UDP, Length: 506804, dtype: uint8"
            ]
          },
          "metadata": {},
          "execution_count": 82
        }
      ],
      "source": [
        "test_series = pd.Series(test['attackDescription_UDP'])\n",
        "test_series"
      ]
    },
    {
      "cell_type": "code",
      "execution_count": 83,
      "metadata": {
        "execution": {
          "iopub.execute_input": "2023-09-19T13:23:30.387662Z",
          "iopub.status.busy": "2023-09-19T13:23:30.387071Z",
          "iopub.status.idle": "2023-09-19T13:23:30.399716Z",
          "shell.execute_reply": "2023-09-19T13:23:30.398628Z",
          "shell.execute_reply.started": "2023-09-19T13:23:30.387629Z"
        },
        "trusted": true,
        "id": "EPXQ0s1B_oVV"
      },
      "outputs": [],
      "source": [
        "udp_indices = np.where(test_series == 1)[0]"
      ]
    },
    {
      "cell_type": "code",
      "execution_count": 84,
      "metadata": {
        "execution": {
          "iopub.execute_input": "2023-09-19T13:23:30.401709Z",
          "iopub.status.busy": "2023-09-19T13:23:30.401131Z",
          "iopub.status.idle": "2023-09-19T13:23:31.652306Z",
          "shell.execute_reply": "2023-09-19T13:23:31.651128Z",
          "shell.execute_reply.started": "2023-09-19T13:23:30.401679Z"
        },
        "id": "u29RVKEXk_dZ",
        "trusted": true,
        "colab": {
          "base_uri": "https://localhost:8080/"
        },
        "outputId": "a52ddc85-25bd-4826-c65e-0c183edd73d5"
      },
      "outputs": [
        {
          "output_type": "stream",
          "name": "stdout",
          "text": [
            "Scores of hybrid_model:\n",
            "\tUDR: 0.9850465509441151 (41369 / 41997)\n",
            "\tACC: 0.9469499056834595\n",
            "\tPPV: 0.9497712060430388\n",
            "\tTPR: 0.9485848652545348\n",
            "\tF1 : 0.9469401387601403\n",
            "\tAUC: 0.9485848652545348\n",
            "\tMCC: 0.8983552879750553\n",
            "\tFPR: 0.09816025775456122\n"
          ]
        }
      ],
      "source": [
        "cm = confusion_matrix(test['label'], y_pred)\n",
        "\n",
        "acc = accuracy_score(test['label'], y_pred)\n",
        "ppv = precision_score(test['label'], y_pred, average='macro')\n",
        "f1 = f1_score(test['label'], y_pred, average='macro')\n",
        "tpr = recall_score(test['label'], y_pred, average='macro')\n",
        "fpr = cm[0, 1] / (cm[0, 0] + cm[0, 1])\n",
        "auc = roc_auc_score(test['label'], y_pred)\n",
        "mcc = matthews_corrcoef(test['label'], y_pred)\n",
        "\n",
        "num_detec = sum(y_pred[udp_indices] == 1)\n",
        "num_UDP = sum(test['attackDescription_UDP'])\n",
        "udr = num_detec / num_UDP\n",
        "\n",
        "# model_pred['Tabnet'] = y_pred\n",
        "# model_acc['Tabnet'] = acc\n",
        "# model_ppv['Tabnet'] = ppv\n",
        "# model_f1['Tabnet'] = f1\n",
        "# model_tpr['Tabnet'] = tpr\n",
        "# model_fpr['Tabnet'] = fpr\n",
        "# model_auc['Tabnet'] = auc\n",
        "# model_mcc['Tabnet'] = mcc\n",
        "# model_udr['Tabnet'] = udr\n",
        "\n",
        "print('Scores of hybrid_model:')\n",
        "print(f'\\tUDR: {udr} ({num_detec} / {num_UDP})')\n",
        "print(f'\\tACC: {acc}')\n",
        "print(f'\\tPPV: {ppv}')\n",
        "print(f'\\tTPR: {tpr}')\n",
        "print(f'\\tF1 : {f1}')\n",
        "print(f'\\tAUC: {auc}')\n",
        "print(f'\\tMCC: {mcc}')\n",
        "print(f'\\tFPR: {fpr}')"
      ]
    },
    {
      "cell_type": "code",
      "execution_count": 85,
      "metadata": {
        "execution": {
          "iopub.execute_input": "2023-09-19T13:23:31.654267Z",
          "iopub.status.busy": "2023-09-19T13:23:31.653779Z",
          "iopub.status.idle": "2023-09-19T13:23:31.757748Z",
          "shell.execute_reply": "2023-09-19T13:23:31.756462Z",
          "shell.execute_reply.started": "2023-09-19T13:23:31.654223Z"
        },
        "id": "ZdSwK4tulNyw",
        "trusted": true,
        "colab": {
          "base_uri": "https://localhost:8080/"
        },
        "outputId": "465a4f38-97f2-4314-9e9e-0ee3b24064e4"
      },
      "outputs": [
        {
          "output_type": "stream",
          "name": "stdout",
          "text": [
            "[[236521  25744]\n",
            " [  1142 243397]]\n"
          ]
        }
      ],
      "source": [
        "print(confusion_matrix(test['label'], y_pred))"
      ]
    },
    {
      "cell_type": "code",
      "execution_count": 86,
      "metadata": {
        "execution": {
          "iopub.execute_input": "2023-09-19T13:23:31.759855Z",
          "iopub.status.busy": "2023-09-19T13:23:31.759412Z",
          "iopub.status.idle": "2023-09-19T13:23:32.743687Z",
          "shell.execute_reply": "2023-09-19T13:23:32.742415Z",
          "shell.execute_reply.started": "2023-09-19T13:23:31.759815Z"
        },
        "id": "arUu9wxWlOFo",
        "trusted": true,
        "colab": {
          "base_uri": "https://localhost:8080/"
        },
        "outputId": "34afe764-5baa-4c91-8731-7d6b5a50b0a5"
      },
      "outputs": [
        {
          "output_type": "stream",
          "name": "stdout",
          "text": [
            "              precision    recall  f1-score   support\n",
            "\n",
            "           0       1.00      0.90      0.95    262265\n",
            "           1       0.90      1.00      0.95    244539\n",
            "\n",
            "    accuracy                           0.95    506804\n",
            "   macro avg       0.95      0.95      0.95    506804\n",
            "weighted avg       0.95      0.95      0.95    506804\n",
            "\n"
          ]
        }
      ],
      "source": [
        "print(classification_report(test['label'], y_pred))"
      ]
    },
    {
      "cell_type": "markdown",
      "source": [
        "### Multiclass"
      ],
      "metadata": {
        "id": "RNAFZZCCpYYX"
      }
    },
    {
      "cell_type": "code",
      "source": [
        "y_pred_multi = np.zeros_like(y_pred_1)"
      ],
      "metadata": {
        "id": "da-GAk48pcAf"
      },
      "execution_count": 87,
      "outputs": []
    },
    {
      "cell_type": "code",
      "source": [
        "y_pred_multi[udp_pred]=1\n",
        "y_pred_multi[tcp_pred]=2\n",
        "y_pred_multi[icmp_pred]=3\n",
        "\n",
        "pd.DataFrame(y_pred_multi).value_counts()"
      ],
      "metadata": {
        "colab": {
          "base_uri": "https://localhost:8080/"
        },
        "id": "1p7Z38Ecpd49",
        "outputId": "19bb7cb4-32a0-4bc0-b8d8-a59f0a665d92"
      },
      "execution_count": 88,
      "outputs": [
        {
          "output_type": "execute_result",
          "data": {
            "text/plain": [
              "0    237663\n",
              "2    211330\n",
              "1     57129\n",
              "3       682\n",
              "dtype: int64"
            ]
          },
          "metadata": {},
          "execution_count": 88
        }
      ]
    },
    {
      "cell_type": "code",
      "source": [
        "label_multi = test['label'].copy()\n",
        "label_multi[test['attackDescription_TCP'] == 1] = 2\n",
        "label_multi[test['attackDescription_ICMP'] == 1] = 3"
      ],
      "metadata": {
        "id": "vbcwD980pg2M"
      },
      "execution_count": 89,
      "outputs": []
    },
    {
      "cell_type": "code",
      "source": [
        "print(confusion_matrix(label_multi, y_pred_multi))"
      ],
      "metadata": {
        "colab": {
          "base_uri": "https://localhost:8080/"
        },
        "id": "5FEdam88pmIU",
        "outputId": "86829b41-63de-4f78-9c91-823688f4b8cf"
      },
      "execution_count": 90,
      "outputs": [
        {
          "output_type": "stream",
          "name": "stdout",
          "text": [
            "[[236521  25367    366     11]\n",
            " [   637  30335  11033    231]\n",
            " [   459   1378 198068      5]\n",
            " [    46     49   1863    435]]\n"
          ]
        }
      ]
    },
    {
      "cell_type": "code",
      "source": [
        "print(classification_report(label_multi, y_pred_multi))"
      ],
      "metadata": {
        "colab": {
          "base_uri": "https://localhost:8080/"
        },
        "id": "3-f61eWVpm_y",
        "outputId": "caa4d849-284d-4d8c-f7a3-5f617678c176"
      },
      "execution_count": 91,
      "outputs": [
        {
          "output_type": "stream",
          "name": "stdout",
          "text": [
            "              precision    recall  f1-score   support\n",
            "\n",
            "           0       1.00      0.90      0.95    262265\n",
            "           1       0.53      0.72      0.61     42236\n",
            "           2       0.94      0.99      0.96    199910\n",
            "           3       0.64      0.18      0.28      2393\n",
            "\n",
            "    accuracy                           0.92    506804\n",
            "   macro avg       0.78      0.70      0.70    506804\n",
            "weighted avg       0.93      0.92      0.92    506804\n",
            "\n"
          ]
        }
      ]
    },
    {
      "cell_type": "markdown",
      "source": [
        "### Time"
      ],
      "metadata": {
        "id": "r361cE4MppPb"
      }
    },
    {
      "cell_type": "code",
      "source": [
        "print(f'{len(X_test)/(execution_time_r1)} ({len(X_test)} / {execution_time_r1})')"
      ],
      "metadata": {
        "colab": {
          "base_uri": "https://localhost:8080/"
        },
        "id": "qbJGk2QNprFv",
        "outputId": "083e1d8d-17af-4a69-f5e6-58b8d30a9134"
      },
      "execution_count": 92,
      "outputs": [
        {
          "output_type": "stream",
          "name": "stdout",
          "text": [
            "297049.5360287266 (506804 / 1.7061262130737305)\n"
          ]
        }
      ]
    },
    {
      "cell_type": "code",
      "source": [
        "print(f'{len(X_test_2)/(execution_time_r2)} ({len(X_test_2)} / {execution_time_r2})')"
      ],
      "metadata": {
        "colab": {
          "base_uri": "https://localhost:8080/"
        },
        "id": "zxARRF_wptM8",
        "outputId": "4b4bf2b4-45aa-447e-b9fe-f8ee243694c9"
      },
      "execution_count": 93,
      "outputs": [
        {
          "output_type": "stream",
          "name": "stdout",
          "text": [
            "336422.3057734624 (295474 / 0.8782830238342285)\n"
          ]
        }
      ]
    },
    {
      "cell_type": "code",
      "source": [
        "print(f'{len(X_test_3)/(execution_time_lof)} ({len(X_test_3)} / {execution_time_lof})')"
      ],
      "metadata": {
        "colab": {
          "base_uri": "https://localhost:8080/"
        },
        "id": "7pnTilTXpwMK",
        "outputId": "bcee0bbb-b80e-4d27-af28-bbc5a8ffaa62"
      },
      "execution_count": 94,
      "outputs": [
        {
          "output_type": "stream",
          "name": "stdout",
          "text": [
            "432.00346841221716 (294792 / 682.3834102153778)\n"
          ]
        }
      ]
    },
    {
      "cell_type": "code",
      "source": [
        "print(f'{len(X_test_4)/(execution_time_inne)} ({len(X_test_4)} / {execution_time_inne})')"
      ],
      "metadata": {
        "colab": {
          "base_uri": "https://localhost:8080/"
        },
        "id": "myygaB-5px88",
        "outputId": "43160923-7196-421d-a39c-643ad9aa1957"
      },
      "execution_count": 95,
      "outputs": [
        {
          "output_type": "stream",
          "name": "stdout",
          "text": [
            "14316.716412691076 (252183 / 17.614583730697632)\n"
          ]
        }
      ]
    },
    {
      "cell_type": "code",
      "source": [
        "total_time = execution_time_r1 + execution_time_r2 + execution_time_lof + execution_time_inne"
      ],
      "metadata": {
        "id": "1hcVUNvSp06q"
      },
      "execution_count": 96,
      "outputs": []
    },
    {
      "cell_type": "code",
      "source": [
        "#print(f'{len(test)/(total_time)} ({len(test)} / {total_time})')"
      ],
      "metadata": {
        "id": "El_CdgJip3PI"
      },
      "execution_count": 97,
      "outputs": []
    }
  ],
  "metadata": {
    "colab": {
      "collapsed_sections": [
        "3WpViLBtWFqk"
      ],
      "provenance": [],
      "toc_visible": true
    },
    "kernelspec": {
      "display_name": "Python 3",
      "language": "python",
      "name": "python3"
    },
    "language_info": {
      "codemirror_mode": {
        "name": "ipython",
        "version": 3
      },
      "file_extension": ".py",
      "mimetype": "text/x-python",
      "name": "python",
      "nbconvert_exporter": "python",
      "pygments_lexer": "ipython3",
      "version": "3.11.4"
    }
  },
  "nbformat": 4,
  "nbformat_minor": 0
}