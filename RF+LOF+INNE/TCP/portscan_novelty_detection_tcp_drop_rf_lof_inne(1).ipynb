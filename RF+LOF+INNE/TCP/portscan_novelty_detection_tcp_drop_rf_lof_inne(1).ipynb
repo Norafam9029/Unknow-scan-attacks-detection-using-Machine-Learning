{
  "cells": [
    {
      "cell_type": "markdown",
      "metadata": {
        "id": "MdE7M5oIV0x2"
      },
      "source": [
        "# IMPORT LIBRARIES"
      ]
    },
    {
      "cell_type": "code",
      "execution_count": 1,
      "metadata": {
        "execution": {
          "iopub.execute_input": "2023-09-19T10:46:45.194380Z",
          "iopub.status.busy": "2023-09-19T10:46:45.193962Z",
          "iopub.status.idle": "2023-09-19T10:46:57.183034Z",
          "shell.execute_reply": "2023-09-19T10:46:57.181789Z",
          "shell.execute_reply.started": "2023-09-19T10:46:45.194350Z"
        },
        "id": "tTcMnHTNUcj_",
        "trusted": true
      },
      "outputs": [],
      "source": [
        "import pandas as pd\n",
        "import numpy as np\n",
        "import matplotlib.pyplot as plt\n",
        "import seaborn as sns\n",
        "import time\n",
        "\n",
        "from sklearn.model_selection import train_test_split\n",
        "from sklearn.preprocessing import MinMaxScaler\n",
        "from sklearn.ensemble import RandomForestClassifier\n",
        "from sklearn.preprocessing import LabelEncoder\n",
        "\n",
        "from sklearn.metrics import *\n",
        "\n",
        "import keras\n",
        "from keras.layers import Conv2D, Conv1D, MaxPooling2D, MaxPooling1D, Flatten, BatchNormalization, Dense, Dropout,GlobalMaxPooling1D\n",
        "#from keras.utils.np_utils import to_categorical\n",
        "from keras.models import Sequential\n",
        "\n",
        "np.random.seed(0)\n",
        "%matplotlib inline\n",
        "pd.set_option('display.max_columns', None)"
      ]
    },
    {
      "cell_type": "code",
      "source": [
        "from google.colab import drive\n",
        "drive.mount('/content/drive')"
      ],
      "metadata": {
        "colab": {
          "base_uri": "https://localhost:8080/"
        },
        "id": "0hcOtWFvWD_C",
        "outputId": "493468ce-e48d-4ec1-e13b-f742b5274a51"
      },
      "execution_count": 2,
      "outputs": [
        {
          "output_type": "stream",
          "name": "stdout",
          "text": [
            "Drive already mounted at /content/drive; to attempt to forcibly remount, call drive.mount(\"/content/drive\", force_remount=True).\n"
          ]
        }
      ]
    },
    {
      "cell_type": "markdown",
      "metadata": {
        "id": "3WpViLBtWFqk"
      },
      "source": [
        "# **Preprocessing Data**"
      ]
    },
    {
      "cell_type": "code",
      "execution_count": 3,
      "metadata": {
        "colab": {
          "base_uri": "https://localhost:8080/",
          "height": 493
        },
        "execution": {
          "iopub.execute_input": "2023-09-19T10:46:57.186463Z",
          "iopub.status.busy": "2023-09-19T10:46:57.185787Z",
          "iopub.status.idle": "2023-09-19T10:47:22.037082Z",
          "shell.execute_reply": "2023-09-19T10:47:22.035788Z",
          "shell.execute_reply.started": "2023-09-19T10:46:57.186420Z"
        },
        "id": "g4q8fHxjWFDR",
        "outputId": "8949e7af-f9f3-479a-fc26-98a70be7b402",
        "trusted": true
      },
      "outputs": [
        {
          "output_type": "stream",
          "name": "stderr",
          "text": [
            "<ipython-input-3-9348c4072206>:1: DtypeWarning: Columns (8,14) have mixed types. Specify dtype option on import or set low_memory=False.\n",
            "  df1 = pd.read_csv('/content/drive/MyDrive/Colab Notebooks/data/CIDDS-001/reduced_cidds_001_normal_portscan_pingscan.csv')\n",
            "<ipython-input-3-9348c4072206>:4: DtypeWarning: Columns (8,14) have mixed types. Specify dtype option on import or set low_memory=False.\n",
            "  df2 = pd.read_csv('/content/drive/MyDrive/Colab Notebooks/data/CIDDS-002/reduced_cidds_002_normal_scan.csv')\n"
          ]
        },
        {
          "output_type": "execute_result",
          "data": {
            "text/plain": [
              "                 Date first seen  Duration  Proto     Src IP Addr  Src Pt  \\\n",
              "0        2017-03-23 13:40:24.221     0.134  TCP         10305_148     443   \n",
              "1        2017-03-22 16:15:56.404     0.000  TCP         10001_230     443   \n",
              "2        2017-04-18 10:09:51.492     0.508  TCP         16796_188     443   \n",
              "3        2017-03-15 11:23:38.445     0.095  TCP           10068_2     443   \n",
              "4        2017-03-23 16:59:50.774     0.000  TCP          15306_50      80   \n",
              "...                          ...       ...    ...             ...     ...   \n",
              "5231831  2017-08-08 19:52:49.297     0.000  TCP    192.168.210.56    5907   \n",
              "5231832  2017-08-08 19:52:49.296     0.000  TCP    192.168.210.56       3   \n",
              "5231833  2017-08-08 19:52:49.296     0.000  TCP    192.168.210.56   32778   \n",
              "5231834  2017-08-08 19:52:49.296     0.000  TCP    192.168.210.56    8800   \n",
              "5231835  2017-08-08 19:52:49.288     0.000  TCP    192.168.220.51   47529   \n",
              "\n",
              "            Dst IP Addr   Dst Pt  Packets     Bytes  Flows   Flags  Tos  \\\n",
              "0         192.168.210.5  50210.0        5       449      1  .AP.S.   32   \n",
              "1        192.168.220.15  44214.0        1       462      1  .AP...    0   \n",
              "2         192.168.200.4  42941.0        7      6203      1  .AP.S.   32   \n",
              "3         192.168.220.8  58538.0        5      1246      1  .AP...   32   \n",
              "4        192.168.220.13  41670.0        1        66      1  .A....   32   \n",
              "...                 ...      ...      ...       ...    ...     ...  ...   \n",
              "5231831  192.168.220.51  47529.0        1        54      1  .A.R..    0   \n",
              "5231832  192.168.220.51  47529.0        1        54      1  .A.R..    0   \n",
              "5231833  192.168.220.51  47529.0        1        54      1  .A.R..    0   \n",
              "5231834  192.168.220.51  47529.0        1        54      1  .A.R..    0   \n",
              "5231835  192.168.210.56   6881.0        1        58      1  ....S.    0   \n",
              "\n",
              "            label attackType attackID    attackDescription  \n",
              "0          normal        ---      ---                  ---  \n",
              "1          normal        ---      ---                  ---  \n",
              "2          normal        ---      ---                  ---  \n",
              "3          normal        ---      ---                  ---  \n",
              "4          normal        ---      ---                  ---  \n",
              "...           ...        ...      ...                  ...  \n",
              "5231831    victim       scan       20  nmap args: -sS -T 2  \n",
              "5231832    victim       scan       20  nmap args: -sS -T 2  \n",
              "5231833    victim       scan       20  nmap args: -sS -T 2  \n",
              "5231834    victim       scan       20  nmap args: -sS -T 2  \n",
              "5231835  attacker       scan       20  nmap args: -sS -T 2  \n",
              "\n",
              "[5231836 rows x 16 columns]"
            ],
            "text/html": [
              "\n",
              "  <div id=\"df-a2a26fc0-5cd6-4652-8642-57b464a86138\" class=\"colab-df-container\">\n",
              "    <div>\n",
              "<style scoped>\n",
              "    .dataframe tbody tr th:only-of-type {\n",
              "        vertical-align: middle;\n",
              "    }\n",
              "\n",
              "    .dataframe tbody tr th {\n",
              "        vertical-align: top;\n",
              "    }\n",
              "\n",
              "    .dataframe thead th {\n",
              "        text-align: right;\n",
              "    }\n",
              "</style>\n",
              "<table border=\"1\" class=\"dataframe\">\n",
              "  <thead>\n",
              "    <tr style=\"text-align: right;\">\n",
              "      <th></th>\n",
              "      <th>Date first seen</th>\n",
              "      <th>Duration</th>\n",
              "      <th>Proto</th>\n",
              "      <th>Src IP Addr</th>\n",
              "      <th>Src Pt</th>\n",
              "      <th>Dst IP Addr</th>\n",
              "      <th>Dst Pt</th>\n",
              "      <th>Packets</th>\n",
              "      <th>Bytes</th>\n",
              "      <th>Flows</th>\n",
              "      <th>Flags</th>\n",
              "      <th>Tos</th>\n",
              "      <th>label</th>\n",
              "      <th>attackType</th>\n",
              "      <th>attackID</th>\n",
              "      <th>attackDescription</th>\n",
              "    </tr>\n",
              "  </thead>\n",
              "  <tbody>\n",
              "    <tr>\n",
              "      <th>0</th>\n",
              "      <td>2017-03-23 13:40:24.221</td>\n",
              "      <td>0.134</td>\n",
              "      <td>TCP</td>\n",
              "      <td>10305_148</td>\n",
              "      <td>443</td>\n",
              "      <td>192.168.210.5</td>\n",
              "      <td>50210.0</td>\n",
              "      <td>5</td>\n",
              "      <td>449</td>\n",
              "      <td>1</td>\n",
              "      <td>.AP.S.</td>\n",
              "      <td>32</td>\n",
              "      <td>normal</td>\n",
              "      <td>---</td>\n",
              "      <td>---</td>\n",
              "      <td>---</td>\n",
              "    </tr>\n",
              "    <tr>\n",
              "      <th>1</th>\n",
              "      <td>2017-03-22 16:15:56.404</td>\n",
              "      <td>0.000</td>\n",
              "      <td>TCP</td>\n",
              "      <td>10001_230</td>\n",
              "      <td>443</td>\n",
              "      <td>192.168.220.15</td>\n",
              "      <td>44214.0</td>\n",
              "      <td>1</td>\n",
              "      <td>462</td>\n",
              "      <td>1</td>\n",
              "      <td>.AP...</td>\n",
              "      <td>0</td>\n",
              "      <td>normal</td>\n",
              "      <td>---</td>\n",
              "      <td>---</td>\n",
              "      <td>---</td>\n",
              "    </tr>\n",
              "    <tr>\n",
              "      <th>2</th>\n",
              "      <td>2017-04-18 10:09:51.492</td>\n",
              "      <td>0.508</td>\n",
              "      <td>TCP</td>\n",
              "      <td>16796_188</td>\n",
              "      <td>443</td>\n",
              "      <td>192.168.200.4</td>\n",
              "      <td>42941.0</td>\n",
              "      <td>7</td>\n",
              "      <td>6203</td>\n",
              "      <td>1</td>\n",
              "      <td>.AP.S.</td>\n",
              "      <td>32</td>\n",
              "      <td>normal</td>\n",
              "      <td>---</td>\n",
              "      <td>---</td>\n",
              "      <td>---</td>\n",
              "    </tr>\n",
              "    <tr>\n",
              "      <th>3</th>\n",
              "      <td>2017-03-15 11:23:38.445</td>\n",
              "      <td>0.095</td>\n",
              "      <td>TCP</td>\n",
              "      <td>10068_2</td>\n",
              "      <td>443</td>\n",
              "      <td>192.168.220.8</td>\n",
              "      <td>58538.0</td>\n",
              "      <td>5</td>\n",
              "      <td>1246</td>\n",
              "      <td>1</td>\n",
              "      <td>.AP...</td>\n",
              "      <td>32</td>\n",
              "      <td>normal</td>\n",
              "      <td>---</td>\n",
              "      <td>---</td>\n",
              "      <td>---</td>\n",
              "    </tr>\n",
              "    <tr>\n",
              "      <th>4</th>\n",
              "      <td>2017-03-23 16:59:50.774</td>\n",
              "      <td>0.000</td>\n",
              "      <td>TCP</td>\n",
              "      <td>15306_50</td>\n",
              "      <td>80</td>\n",
              "      <td>192.168.220.13</td>\n",
              "      <td>41670.0</td>\n",
              "      <td>1</td>\n",
              "      <td>66</td>\n",
              "      <td>1</td>\n",
              "      <td>.A....</td>\n",
              "      <td>32</td>\n",
              "      <td>normal</td>\n",
              "      <td>---</td>\n",
              "      <td>---</td>\n",
              "      <td>---</td>\n",
              "    </tr>\n",
              "    <tr>\n",
              "      <th>...</th>\n",
              "      <td>...</td>\n",
              "      <td>...</td>\n",
              "      <td>...</td>\n",
              "      <td>...</td>\n",
              "      <td>...</td>\n",
              "      <td>...</td>\n",
              "      <td>...</td>\n",
              "      <td>...</td>\n",
              "      <td>...</td>\n",
              "      <td>...</td>\n",
              "      <td>...</td>\n",
              "      <td>...</td>\n",
              "      <td>...</td>\n",
              "      <td>...</td>\n",
              "      <td>...</td>\n",
              "      <td>...</td>\n",
              "    </tr>\n",
              "    <tr>\n",
              "      <th>5231831</th>\n",
              "      <td>2017-08-08 19:52:49.297</td>\n",
              "      <td>0.000</td>\n",
              "      <td>TCP</td>\n",
              "      <td>192.168.210.56</td>\n",
              "      <td>5907</td>\n",
              "      <td>192.168.220.51</td>\n",
              "      <td>47529.0</td>\n",
              "      <td>1</td>\n",
              "      <td>54</td>\n",
              "      <td>1</td>\n",
              "      <td>.A.R..</td>\n",
              "      <td>0</td>\n",
              "      <td>victim</td>\n",
              "      <td>scan</td>\n",
              "      <td>20</td>\n",
              "      <td>nmap args: -sS -T 2</td>\n",
              "    </tr>\n",
              "    <tr>\n",
              "      <th>5231832</th>\n",
              "      <td>2017-08-08 19:52:49.296</td>\n",
              "      <td>0.000</td>\n",
              "      <td>TCP</td>\n",
              "      <td>192.168.210.56</td>\n",
              "      <td>3</td>\n",
              "      <td>192.168.220.51</td>\n",
              "      <td>47529.0</td>\n",
              "      <td>1</td>\n",
              "      <td>54</td>\n",
              "      <td>1</td>\n",
              "      <td>.A.R..</td>\n",
              "      <td>0</td>\n",
              "      <td>victim</td>\n",
              "      <td>scan</td>\n",
              "      <td>20</td>\n",
              "      <td>nmap args: -sS -T 2</td>\n",
              "    </tr>\n",
              "    <tr>\n",
              "      <th>5231833</th>\n",
              "      <td>2017-08-08 19:52:49.296</td>\n",
              "      <td>0.000</td>\n",
              "      <td>TCP</td>\n",
              "      <td>192.168.210.56</td>\n",
              "      <td>32778</td>\n",
              "      <td>192.168.220.51</td>\n",
              "      <td>47529.0</td>\n",
              "      <td>1</td>\n",
              "      <td>54</td>\n",
              "      <td>1</td>\n",
              "      <td>.A.R..</td>\n",
              "      <td>0</td>\n",
              "      <td>victim</td>\n",
              "      <td>scan</td>\n",
              "      <td>20</td>\n",
              "      <td>nmap args: -sS -T 2</td>\n",
              "    </tr>\n",
              "    <tr>\n",
              "      <th>5231834</th>\n",
              "      <td>2017-08-08 19:52:49.296</td>\n",
              "      <td>0.000</td>\n",
              "      <td>TCP</td>\n",
              "      <td>192.168.210.56</td>\n",
              "      <td>8800</td>\n",
              "      <td>192.168.220.51</td>\n",
              "      <td>47529.0</td>\n",
              "      <td>1</td>\n",
              "      <td>54</td>\n",
              "      <td>1</td>\n",
              "      <td>.A.R..</td>\n",
              "      <td>0</td>\n",
              "      <td>victim</td>\n",
              "      <td>scan</td>\n",
              "      <td>20</td>\n",
              "      <td>nmap args: -sS -T 2</td>\n",
              "    </tr>\n",
              "    <tr>\n",
              "      <th>5231835</th>\n",
              "      <td>2017-08-08 19:52:49.288</td>\n",
              "      <td>0.000</td>\n",
              "      <td>TCP</td>\n",
              "      <td>192.168.220.51</td>\n",
              "      <td>47529</td>\n",
              "      <td>192.168.210.56</td>\n",
              "      <td>6881.0</td>\n",
              "      <td>1</td>\n",
              "      <td>58</td>\n",
              "      <td>1</td>\n",
              "      <td>....S.</td>\n",
              "      <td>0</td>\n",
              "      <td>attacker</td>\n",
              "      <td>scan</td>\n",
              "      <td>20</td>\n",
              "      <td>nmap args: -sS -T 2</td>\n",
              "    </tr>\n",
              "  </tbody>\n",
              "</table>\n",
              "<p>5231836 rows × 16 columns</p>\n",
              "</div>\n",
              "    <div class=\"colab-df-buttons\">\n",
              "\n",
              "  <div class=\"colab-df-container\">\n",
              "    <button class=\"colab-df-convert\" onclick=\"convertToInteractive('df-a2a26fc0-5cd6-4652-8642-57b464a86138')\"\n",
              "            title=\"Convert this dataframe to an interactive table.\"\n",
              "            style=\"display:none;\">\n",
              "\n",
              "  <svg xmlns=\"http://www.w3.org/2000/svg\" height=\"24px\" viewBox=\"0 -960 960 960\">\n",
              "    <path d=\"M120-120v-720h720v720H120Zm60-500h600v-160H180v160Zm220 220h160v-160H400v160Zm0 220h160v-160H400v160ZM180-400h160v-160H180v160Zm440 0h160v-160H620v160ZM180-180h160v-160H180v160Zm440 0h160v-160H620v160Z\"/>\n",
              "  </svg>\n",
              "    </button>\n",
              "\n",
              "  <style>\n",
              "    .colab-df-container {\n",
              "      display:flex;\n",
              "      gap: 12px;\n",
              "    }\n",
              "\n",
              "    .colab-df-convert {\n",
              "      background-color: #E8F0FE;\n",
              "      border: none;\n",
              "      border-radius: 50%;\n",
              "      cursor: pointer;\n",
              "      display: none;\n",
              "      fill: #1967D2;\n",
              "      height: 32px;\n",
              "      padding: 0 0 0 0;\n",
              "      width: 32px;\n",
              "    }\n",
              "\n",
              "    .colab-df-convert:hover {\n",
              "      background-color: #E2EBFA;\n",
              "      box-shadow: 0px 1px 2px rgba(60, 64, 67, 0.3), 0px 1px 3px 1px rgba(60, 64, 67, 0.15);\n",
              "      fill: #174EA6;\n",
              "    }\n",
              "\n",
              "    .colab-df-buttons div {\n",
              "      margin-bottom: 4px;\n",
              "    }\n",
              "\n",
              "    [theme=dark] .colab-df-convert {\n",
              "      background-color: #3B4455;\n",
              "      fill: #D2E3FC;\n",
              "    }\n",
              "\n",
              "    [theme=dark] .colab-df-convert:hover {\n",
              "      background-color: #434B5C;\n",
              "      box-shadow: 0px 1px 3px 1px rgba(0, 0, 0, 0.15);\n",
              "      filter: drop-shadow(0px 1px 2px rgba(0, 0, 0, 0.3));\n",
              "      fill: #FFFFFF;\n",
              "    }\n",
              "  </style>\n",
              "\n",
              "    <script>\n",
              "      const buttonEl =\n",
              "        document.querySelector('#df-a2a26fc0-5cd6-4652-8642-57b464a86138 button.colab-df-convert');\n",
              "      buttonEl.style.display =\n",
              "        google.colab.kernel.accessAllowed ? 'block' : 'none';\n",
              "\n",
              "      async function convertToInteractive(key) {\n",
              "        const element = document.querySelector('#df-a2a26fc0-5cd6-4652-8642-57b464a86138');\n",
              "        const dataTable =\n",
              "          await google.colab.kernel.invokeFunction('convertToInteractive',\n",
              "                                                    [key], {});\n",
              "        if (!dataTable) return;\n",
              "\n",
              "        const docLinkHtml = 'Like what you see? Visit the ' +\n",
              "          '<a target=\"_blank\" href=https://colab.research.google.com/notebooks/data_table.ipynb>data table notebook</a>'\n",
              "          + ' to learn more about interactive tables.';\n",
              "        element.innerHTML = '';\n",
              "        dataTable['output_type'] = 'display_data';\n",
              "        await google.colab.output.renderOutput(dataTable, element);\n",
              "        const docLink = document.createElement('div');\n",
              "        docLink.innerHTML = docLinkHtml;\n",
              "        element.appendChild(docLink);\n",
              "      }\n",
              "    </script>\n",
              "  </div>\n",
              "\n",
              "\n",
              "<div id=\"df-459931fd-5bf9-488b-b5da-72971f8e8193\">\n",
              "  <button class=\"colab-df-quickchart\" onclick=\"quickchart('df-459931fd-5bf9-488b-b5da-72971f8e8193')\"\n",
              "            title=\"Suggest charts.\"\n",
              "            style=\"display:none;\">\n",
              "\n",
              "<svg xmlns=\"http://www.w3.org/2000/svg\" height=\"24px\"viewBox=\"0 0 24 24\"\n",
              "     width=\"24px\">\n",
              "    <g>\n",
              "        <path d=\"M19 3H5c-1.1 0-2 .9-2 2v14c0 1.1.9 2 2 2h14c1.1 0 2-.9 2-2V5c0-1.1-.9-2-2-2zM9 17H7v-7h2v7zm4 0h-2V7h2v10zm4 0h-2v-4h2v4z\"/>\n",
              "    </g>\n",
              "</svg>\n",
              "  </button>\n",
              "\n",
              "<style>\n",
              "  .colab-df-quickchart {\n",
              "      --bg-color: #E8F0FE;\n",
              "      --fill-color: #1967D2;\n",
              "      --hover-bg-color: #E2EBFA;\n",
              "      --hover-fill-color: #174EA6;\n",
              "      --disabled-fill-color: #AAA;\n",
              "      --disabled-bg-color: #DDD;\n",
              "  }\n",
              "\n",
              "  [theme=dark] .colab-df-quickchart {\n",
              "      --bg-color: #3B4455;\n",
              "      --fill-color: #D2E3FC;\n",
              "      --hover-bg-color: #434B5C;\n",
              "      --hover-fill-color: #FFFFFF;\n",
              "      --disabled-bg-color: #3B4455;\n",
              "      --disabled-fill-color: #666;\n",
              "  }\n",
              "\n",
              "  .colab-df-quickchart {\n",
              "    background-color: var(--bg-color);\n",
              "    border: none;\n",
              "    border-radius: 50%;\n",
              "    cursor: pointer;\n",
              "    display: none;\n",
              "    fill: var(--fill-color);\n",
              "    height: 32px;\n",
              "    padding: 0;\n",
              "    width: 32px;\n",
              "  }\n",
              "\n",
              "  .colab-df-quickchart:hover {\n",
              "    background-color: var(--hover-bg-color);\n",
              "    box-shadow: 0 1px 2px rgba(60, 64, 67, 0.3), 0 1px 3px 1px rgba(60, 64, 67, 0.15);\n",
              "    fill: var(--button-hover-fill-color);\n",
              "  }\n",
              "\n",
              "  .colab-df-quickchart-complete:disabled,\n",
              "  .colab-df-quickchart-complete:disabled:hover {\n",
              "    background-color: var(--disabled-bg-color);\n",
              "    fill: var(--disabled-fill-color);\n",
              "    box-shadow: none;\n",
              "  }\n",
              "\n",
              "  .colab-df-spinner {\n",
              "    border: 2px solid var(--fill-color);\n",
              "    border-color: transparent;\n",
              "    border-bottom-color: var(--fill-color);\n",
              "    animation:\n",
              "      spin 1s steps(1) infinite;\n",
              "  }\n",
              "\n",
              "  @keyframes spin {\n",
              "    0% {\n",
              "      border-color: transparent;\n",
              "      border-bottom-color: var(--fill-color);\n",
              "      border-left-color: var(--fill-color);\n",
              "    }\n",
              "    20% {\n",
              "      border-color: transparent;\n",
              "      border-left-color: var(--fill-color);\n",
              "      border-top-color: var(--fill-color);\n",
              "    }\n",
              "    30% {\n",
              "      border-color: transparent;\n",
              "      border-left-color: var(--fill-color);\n",
              "      border-top-color: var(--fill-color);\n",
              "      border-right-color: var(--fill-color);\n",
              "    }\n",
              "    40% {\n",
              "      border-color: transparent;\n",
              "      border-right-color: var(--fill-color);\n",
              "      border-top-color: var(--fill-color);\n",
              "    }\n",
              "    60% {\n",
              "      border-color: transparent;\n",
              "      border-right-color: var(--fill-color);\n",
              "    }\n",
              "    80% {\n",
              "      border-color: transparent;\n",
              "      border-right-color: var(--fill-color);\n",
              "      border-bottom-color: var(--fill-color);\n",
              "    }\n",
              "    90% {\n",
              "      border-color: transparent;\n",
              "      border-bottom-color: var(--fill-color);\n",
              "    }\n",
              "  }\n",
              "</style>\n",
              "\n",
              "  <script>\n",
              "    async function quickchart(key) {\n",
              "      const quickchartButtonEl =\n",
              "        document.querySelector('#' + key + ' button');\n",
              "      quickchartButtonEl.disabled = true;  // To prevent multiple clicks.\n",
              "      quickchartButtonEl.classList.add('colab-df-spinner');\n",
              "      try {\n",
              "        const charts = await google.colab.kernel.invokeFunction(\n",
              "            'suggestCharts', [key], {});\n",
              "      } catch (error) {\n",
              "        console.error('Error during call to suggestCharts:', error);\n",
              "      }\n",
              "      quickchartButtonEl.classList.remove('colab-df-spinner');\n",
              "      quickchartButtonEl.classList.add('colab-df-quickchart-complete');\n",
              "    }\n",
              "    (() => {\n",
              "      let quickchartButtonEl =\n",
              "        document.querySelector('#df-459931fd-5bf9-488b-b5da-72971f8e8193 button');\n",
              "      quickchartButtonEl.style.display =\n",
              "        google.colab.kernel.accessAllowed ? 'block' : 'none';\n",
              "    })();\n",
              "  </script>\n",
              "</div>\n",
              "    </div>\n",
              "  </div>\n"
            ]
          },
          "metadata": {},
          "execution_count": 3
        }
      ],
      "source": [
        "df1 = pd.read_csv('/content/drive/MyDrive/Colab Notebooks/data/CIDDS-001/reduced_cidds_001_normal_portscan_pingscan.csv')\n",
        "df1 = df1.rename(columns={'class': 'label'})\n",
        "\n",
        "df2 = pd.read_csv('/content/drive/MyDrive/Colab Notebooks/data/CIDDS-002/reduced_cidds_002_normal_scan.csv')\n",
        "\n",
        "df = pd.concat([df1, df2], ignore_index=True)\n",
        "df"
      ]
    },
    {
      "cell_type": "code",
      "execution_count": 4,
      "metadata": {
        "colab": {
          "base_uri": "https://localhost:8080/"
        },
        "execution": {
          "iopub.execute_input": "2023-09-19T10:47:22.039480Z",
          "iopub.status.busy": "2023-09-19T10:47:22.038967Z",
          "iopub.status.idle": "2023-09-19T10:47:25.652926Z",
          "shell.execute_reply": "2023-09-19T10:47:25.651366Z",
          "shell.execute_reply.started": "2023-09-19T10:47:22.039434Z"
        },
        "id": "9fZ7PHG66ERc",
        "outputId": "86552172-16b0-4af5-f6b1-43cc72347ec1",
        "trusted": true
      },
      "outputs": [
        {
          "output_type": "execute_result",
          "data": {
            "text/plain": [
              "Index(['Date first seen', 'Proto', 'Src IP Addr', 'Dst IP Addr', 'Bytes',\n",
              "       'Flags', 'label', 'attackType', 'attackID', 'attackDescription'],\n",
              "      dtype='object')"
            ]
          },
          "metadata": {},
          "execution_count": 4
        }
      ],
      "source": [
        "df.select_dtypes(include=['object']).columns"
      ]
    },
    {
      "cell_type": "code",
      "execution_count": 5,
      "metadata": {
        "colab": {
          "base_uri": "https://localhost:8080/"
        },
        "execution": {
          "iopub.execute_input": "2023-09-19T10:47:25.654775Z",
          "iopub.status.busy": "2023-09-19T10:47:25.654408Z",
          "iopub.status.idle": "2023-09-19T10:47:31.034616Z",
          "shell.execute_reply": "2023-09-19T10:47:31.033114Z",
          "shell.execute_reply.started": "2023-09-19T10:47:25.654745Z"
        },
        "id": "Mp891AAjrNWj",
        "outputId": "dc9c8327-531a-45f8-a229-9adeb4a9fd80",
        "trusted": true
      },
      "outputs": [
        {
          "output_type": "execute_result",
          "data": {
            "text/plain": [
              "Date first seen      0\n",
              "Duration             0\n",
              "Proto                0\n",
              "Src IP Addr          0\n",
              "Src Pt               0\n",
              "Dst IP Addr          0\n",
              "Dst Pt               0\n",
              "Packets              0\n",
              "Bytes                0\n",
              "Flows                0\n",
              "Flags                0\n",
              "Tos                  0\n",
              "label                0\n",
              "attackType           0\n",
              "attackID             0\n",
              "attackDescription    0\n",
              "dtype: int64"
            ]
          },
          "metadata": {},
          "execution_count": 5
        }
      ],
      "source": [
        "df.isna().sum()"
      ]
    },
    {
      "cell_type": "code",
      "execution_count": 6,
      "metadata": {
        "colab": {
          "base_uri": "https://localhost:8080/"
        },
        "execution": {
          "iopub.execute_input": "2023-09-19T10:47:31.039609Z",
          "iopub.status.busy": "2023-09-19T10:47:31.039242Z",
          "iopub.status.idle": "2023-09-19T10:47:47.048087Z",
          "shell.execute_reply": "2023-09-19T10:47:47.047037Z",
          "shell.execute_reply.started": "2023-09-19T10:47:31.039578Z"
        },
        "id": "lub9xJ76rUT8",
        "outputId": "f625c467-7909-4254-c8f7-d4a959c09d36",
        "trusted": true
      },
      "outputs": [
        {
          "output_type": "execute_result",
          "data": {
            "text/plain": [
              "36568"
            ]
          },
          "metadata": {},
          "execution_count": 6
        }
      ],
      "source": [
        "df.duplicated().sum()"
      ]
    },
    {
      "cell_type": "code",
      "execution_count": 7,
      "metadata": {
        "colab": {
          "base_uri": "https://localhost:8080/"
        },
        "execution": {
          "iopub.execute_input": "2023-09-19T10:47:47.050242Z",
          "iopub.status.busy": "2023-09-19T10:47:47.049924Z",
          "iopub.status.idle": "2023-09-19T10:48:04.582452Z",
          "shell.execute_reply": "2023-09-19T10:48:04.581328Z",
          "shell.execute_reply.started": "2023-09-19T10:47:47.050215Z"
        },
        "id": "3JoH7dIXtMbf",
        "outputId": "481c0305-79db-4dcf-f421-b4946be40f14",
        "trusted": true
      },
      "outputs": [
        {
          "output_type": "execute_result",
          "data": {
            "text/plain": [
              "(5195268, 16)"
            ]
          },
          "metadata": {},
          "execution_count": 7
        }
      ],
      "source": [
        "df.drop_duplicates(inplace = True)\n",
        "df.shape"
      ]
    },
    {
      "cell_type": "code",
      "execution_count": 8,
      "metadata": {
        "colab": {
          "base_uri": "https://localhost:8080/"
        },
        "execution": {
          "iopub.execute_input": "2023-09-19T10:48:04.584666Z",
          "iopub.status.busy": "2023-09-19T10:48:04.584197Z",
          "iopub.status.idle": "2023-09-19T10:48:05.486166Z",
          "shell.execute_reply": "2023-09-19T10:48:05.485355Z",
          "shell.execute_reply.started": "2023-09-19T10:48:04.584626Z"
        },
        "id": "42xz6TqS66r1",
        "outputId": "f8bd1af9-b471-410b-e45e-300320e8ef7b",
        "trusted": true
      },
      "outputs": [
        {
          "output_type": "execute_result",
          "data": {
            "text/plain": [
              "TCP      4386603\n",
              "UDP       744306\n",
              "ICMP       64206\n",
              "IGMP         153\n",
              "Name: Proto, dtype: int64"
            ]
          },
          "metadata": {},
          "execution_count": 8
        }
      ],
      "source": [
        "df['Proto'].value_counts()"
      ]
    },
    {
      "cell_type": "code",
      "execution_count": 9,
      "metadata": {
        "colab": {
          "base_uri": "https://localhost:8080/"
        },
        "execution": {
          "iopub.execute_input": "2023-09-19T10:48:05.488390Z",
          "iopub.status.busy": "2023-09-19T10:48:05.487842Z",
          "iopub.status.idle": "2023-09-19T10:48:07.054578Z",
          "shell.execute_reply": "2023-09-19T10:48:07.053188Z",
          "shell.execute_reply.started": "2023-09-19T10:48:05.488358Z"
        },
        "id": "rUz9qXS56-kn",
        "outputId": "9d0ceaa7-4fb0-4c7d-cee8-bf1d24c9b218",
        "trusted": true
      },
      "outputs": [
        {
          "output_type": "execute_result",
          "data": {
            "text/plain": [
              "      66    1236773\n",
              "54           416949\n",
              "58           211005\n",
              "      54     160471\n",
              "      55     139482\n",
              "             ...   \n",
              "   54222          1\n",
              "   81674          1\n",
              "   19389          1\n",
              "   35240          1\n",
              "20573             1\n",
              "Name: Bytes, Length: 84192, dtype: int64"
            ]
          },
          "metadata": {},
          "execution_count": 9
        }
      ],
      "source": [
        "df['Bytes'].astype('str').value_counts()"
      ]
    },
    {
      "cell_type": "code",
      "execution_count": 10,
      "metadata": {
        "colab": {
          "base_uri": "https://localhost:8080/"
        },
        "execution": {
          "iopub.execute_input": "2023-09-19T10:48:07.056381Z",
          "iopub.status.busy": "2023-09-19T10:48:07.055960Z",
          "iopub.status.idle": "2023-09-19T10:48:07.972252Z",
          "shell.execute_reply": "2023-09-19T10:48:07.970717Z",
          "shell.execute_reply.started": "2023-09-19T10:48:07.056348Z"
        },
        "id": "sgyBQazm7DNM",
        "outputId": "3e9ac8a5-0ebf-4a33-e17a-6bc5a0e7fced",
        "trusted": true
      },
      "outputs": [
        {
          "output_type": "execute_result",
          "data": {
            "text/plain": [
              ".A....    1570689\n",
              "......     808665\n",
              ".AP...     700075\n",
              ".AP.S.     550334\n",
              ".A...F     386492\n",
              ".A.R..     238101\n",
              "....S.     225951\n",
              ".AP..F     170048\n",
              ".A..S.     142218\n",
              ".AP.SF     136838\n",
              ".....F     112958\n",
              "...R..      58520\n",
              ".APRSF      34740\n",
              ".APR.F      32791\n",
              ".A..SF       6646\n",
              "...RS.       6176\n",
              ".A.R.F       5660\n",
              ".APRS.       4334\n",
              ".APR..       3703\n",
              ".A.RS.        230\n",
              ".A.RSF         99\n",
              "Name: Flags, dtype: int64"
            ]
          },
          "metadata": {},
          "execution_count": 10
        }
      ],
      "source": [
        "df['Flags'].value_counts()"
      ]
    },
    {
      "cell_type": "code",
      "execution_count": 11,
      "metadata": {
        "colab": {
          "base_uri": "https://localhost:8080/"
        },
        "execution": {
          "iopub.execute_input": "2023-09-19T10:48:07.974118Z",
          "iopub.status.busy": "2023-09-19T10:48:07.973716Z",
          "iopub.status.idle": "2023-09-19T10:48:08.879656Z",
          "shell.execute_reply": "2023-09-19T10:48:08.878664Z",
          "shell.execute_reply.started": "2023-09-19T10:48:07.974086Z"
        },
        "id": "d6sqj0uq7Z4F",
        "outputId": "1c3d5ac8-caa8-4cdf-ca09-4471ec35ce45",
        "trusted": true
      },
      "outputs": [
        {
          "output_type": "execute_result",
          "data": {
            "text/plain": [
              "normal      4378392\n",
              "attacker     511295\n",
              "victim       305581\n",
              "Name: label, dtype: int64"
            ]
          },
          "metadata": {},
          "execution_count": 11
        }
      ],
      "source": [
        "df['label'].value_counts()"
      ]
    },
    {
      "cell_type": "code",
      "execution_count": 12,
      "metadata": {
        "colab": {
          "base_uri": "https://localhost:8080/"
        },
        "execution": {
          "iopub.execute_input": "2023-09-19T10:48:08.882419Z",
          "iopub.status.busy": "2023-09-19T10:48:08.881627Z",
          "iopub.status.idle": "2023-09-19T10:48:09.778020Z",
          "shell.execute_reply": "2023-09-19T10:48:09.776362Z",
          "shell.execute_reply.started": "2023-09-19T10:48:08.882374Z"
        },
        "id": "xQxaFL_p7mnX",
        "outputId": "62162d2b-ab71-42ef-dba1-995e664ca01a",
        "trusted": true
      },
      "outputs": [
        {
          "output_type": "execute_result",
          "data": {
            "text/plain": [
              "---         4378392\n",
              "scan         534561\n",
              "portScan     276234\n",
              "pingScan       6081\n",
              "Name: attackType, dtype: int64"
            ]
          },
          "metadata": {},
          "execution_count": 12
        }
      ],
      "source": [
        "df['attackType'].value_counts()"
      ]
    },
    {
      "cell_type": "code",
      "execution_count": 13,
      "metadata": {
        "colab": {
          "base_uri": "https://localhost:8080/"
        },
        "execution": {
          "iopub.execute_input": "2023-09-19T10:48:09.780392Z",
          "iopub.status.busy": "2023-09-19T10:48:09.779781Z",
          "iopub.status.idle": "2023-09-19T10:48:10.637023Z",
          "shell.execute_reply": "2023-09-19T10:48:10.635591Z",
          "shell.execute_reply.started": "2023-09-19T10:48:09.780355Z"
        },
        "id": "bPl-eysZwMhY",
        "outputId": "40e326cd-26f1-415f-87d3-78dcbfe7d7cb",
        "trusted": true
      },
      "outputs": [
        {
          "output_type": "execute_result",
          "data": {
            "text/plain": [
              "---    4378392\n",
              "11       54703\n",
              "17       53283\n",
              "20       46916\n",
              "32       43312\n",
              "        ...   \n",
              "57         522\n",
              "58         509\n",
              "65         371\n",
              "66         359\n",
              "69         359\n",
              "Name: attackID, Length: 68, dtype: int64"
            ]
          },
          "metadata": {},
          "execution_count": 13
        }
      ],
      "source": [
        "df['attackID'].value_counts()"
      ]
    },
    {
      "cell_type": "code",
      "execution_count": 14,
      "metadata": {
        "colab": {
          "base_uri": "https://localhost:8080/"
        },
        "execution": {
          "iopub.execute_input": "2023-09-19T10:48:10.639413Z",
          "iopub.status.busy": "2023-09-19T10:48:10.638889Z",
          "iopub.status.idle": "2023-09-19T10:48:11.530319Z",
          "shell.execute_reply": "2023-09-19T10:48:11.529035Z",
          "shell.execute_reply.started": "2023-09-19T10:48:10.639369Z"
        },
        "id": "AUjDfuVLWXOs",
        "outputId": "8b92ab4f-a141-4169-e8ed-dde93d868818",
        "trusted": true
      },
      "outputs": [
        {
          "output_type": "execute_result",
          "data": {
            "text/plain": [
              "---                           4382402\n",
              "nmap args: -sS -T 2            185630\n",
              "nmap args: -sF -T 3            109847\n",
              "nmap args: -sS -T 1            107124\n",
              "nmap args: -sS -T 3             93085\n",
              "nmap args: -sU -T 2             86393\n",
              "nmap args: -sF -T 2             63665\n",
              "nmap args: -sA -T 3             50084\n",
              "nmap args: -sF -T 1             34707\n",
              "nmap args: -sU -T 3             27749\n",
              "nmap args: -sU -T 1             20713\n",
              "nmap args: -sA -T 1             17027\n",
              "nmap args: -sA -T 2              4436\n",
              "nmap args: -sU -T 0              4398\n",
              "nmap args: -n -sP -PE -T 2       3731\n",
              "nmap args: -n -sP -PE -T 1       3440\n",
              "nmap args: -n -sP -PE -T 3        837\n",
              "Name: attackDescription, dtype: int64"
            ]
          },
          "metadata": {},
          "execution_count": 14
        }
      ],
      "source": [
        "df['attackDescription'].value_counts()"
      ]
    },
    {
      "cell_type": "markdown",
      "metadata": {
        "id": "a_ZPBHEHW1Hs"
      },
      "source": [
        "### Rename label"
      ]
    },
    {
      "cell_type": "code",
      "execution_count": 15,
      "metadata": {
        "colab": {
          "base_uri": "https://localhost:8080/"
        },
        "execution": {
          "iopub.execute_input": "2023-09-19T10:48:11.538660Z",
          "iopub.status.busy": "2023-09-19T10:48:11.538296Z",
          "iopub.status.idle": "2023-09-19T10:48:13.294457Z",
          "shell.execute_reply": "2023-09-19T10:48:13.293358Z",
          "shell.execute_reply.started": "2023-09-19T10:48:11.538630Z"
        },
        "id": "MtJr9F389Umg",
        "outputId": "b7e662c2-15c9-4047-8680-2a5686f521a2",
        "trusted": true
      },
      "outputs": [
        {
          "output_type": "execute_result",
          "data": {
            "text/plain": [
              "0_normal    4378392\n",
              "attacker     511295\n",
              "victim       305581\n",
              "Name: label, dtype: int64"
            ]
          },
          "metadata": {},
          "execution_count": 15
        }
      ],
      "source": [
        "df['label'] = df['label'].replace(['normal'], '0_normal')\n",
        "df['label'].value_counts()"
      ]
    },
    {
      "cell_type": "code",
      "execution_count": 16,
      "metadata": {
        "colab": {
          "base_uri": "https://localhost:8080/"
        },
        "execution": {
          "iopub.execute_input": "2023-09-19T10:48:13.295974Z",
          "iopub.status.busy": "2023-09-19T10:48:13.295664Z",
          "iopub.status.idle": "2023-09-19T10:48:15.335048Z",
          "shell.execute_reply": "2023-09-19T10:48:15.333933Z",
          "shell.execute_reply.started": "2023-09-19T10:48:13.295948Z"
        },
        "id": "_HxcxCTKXVMH",
        "outputId": "bf003066-f0c2-4412-9c70-750d4d19e55d",
        "trusted": true
      },
      "outputs": [
        {
          "output_type": "execute_result",
          "data": {
            "text/plain": [
              "0_normal    4378392\n",
              "attack       816876\n",
              "Name: label, dtype: int64"
            ]
          },
          "metadata": {},
          "execution_count": 16
        }
      ],
      "source": [
        "df['label'] = df['label'].replace(['attacker', 'victim'], 'attack')\n",
        "df['label'].value_counts()"
      ]
    },
    {
      "cell_type": "code",
      "execution_count": 17,
      "metadata": {
        "colab": {
          "base_uri": "https://localhost:8080/"
        },
        "execution": {
          "iopub.execute_input": "2023-09-19T10:48:15.337622Z",
          "iopub.status.busy": "2023-09-19T10:48:15.336552Z",
          "iopub.status.idle": "2023-09-19T10:48:26.200940Z",
          "shell.execute_reply": "2023-09-19T10:48:26.199694Z",
          "shell.execute_reply.started": "2023-09-19T10:48:15.337588Z"
        },
        "id": "CYPGihf3WZNP",
        "outputId": "4e3a10aa-8243-4398-c2a8-5df2d79e5e18",
        "trusted": true
      },
      "outputs": [
        {
          "output_type": "execute_result",
          "data": {
            "text/plain": [
              "normal       4382402\n",
              "SYN Scan      385839\n",
              "FIN Scan      208219\n",
              "UDP Scan      139253\n",
              "ACK Scan       71547\n",
              "Ping Scan       8008\n",
              "Name: attackDescription, dtype: int64"
            ]
          },
          "metadata": {},
          "execution_count": 17
        }
      ],
      "source": [
        "df['attackDescription'] = df['attackDescription'].replace(['---'], 'normal')\n",
        "df['attackDescription'] = df['attackDescription'].replace(['nmap args: -sS -T 1', 'nmap args: -sS -T 2', 'nmap args: -sS -T 3'], 'SYN Scan')\n",
        "df['attackDescription'] = df['attackDescription'].replace(['nmap args: -sF -T 1', 'nmap args: -sF -T 2', 'nmap args: -sF -T 3'], 'FIN Scan')\n",
        "df['attackDescription'] = df['attackDescription'].replace(['nmap args: -sU -T 0 ', 'nmap args: -sU -T 1', 'nmap args: -sU -T 2', 'nmap args: -sU -T 3' ], 'UDP Scan')\n",
        "df['attackDescription'] = df['attackDescription'].replace(['nmap args: -sA -T 1', 'nmap args: -sA -T 2', 'nmap args: -sA -T 3'], 'ACK Scan')\n",
        "df['attackDescription'] = df['attackDescription'].replace(['nmap args: -n -sP -PE -T 1', 'nmap args: -n -sP -PE -T 2', 'nmap args: -n -sP -PE -T 3'], 'Ping Scan')\n",
        "df['attackDescription'].value_counts()"
      ]
    },
    {
      "cell_type": "code",
      "execution_count": 18,
      "metadata": {
        "colab": {
          "base_uri": "https://localhost:8080/"
        },
        "execution": {
          "iopub.execute_input": "2023-09-19T10:48:26.202806Z",
          "iopub.status.busy": "2023-09-19T10:48:26.202410Z",
          "iopub.status.idle": "2023-09-19T10:48:30.676928Z",
          "shell.execute_reply": "2023-09-19T10:48:30.675673Z",
          "shell.execute_reply.started": "2023-09-19T10:48:26.202774Z"
        },
        "id": "HQmO_x2pWp9G",
        "outputId": "16d6cfd7-25fd-4fde-ea7d-fbab4c4269c2",
        "trusted": true
      },
      "outputs": [
        {
          "output_type": "execute_result",
          "data": {
            "text/plain": [
              "normal    4382402\n",
              "TCP        665605\n",
              "UDP        139253\n",
              "ICMP         8008\n",
              "Name: attackDescription, dtype: int64"
            ]
          },
          "metadata": {},
          "execution_count": 18
        }
      ],
      "source": [
        "df['attackDescription'] = df['attackDescription'].replace(['SYN Scan', 'FIN Scan', 'ACK Scan'], 'TCP')\n",
        "df['attackDescription'] = df['attackDescription'].replace(['UDP Scan'], 'UDP')\n",
        "df['attackDescription'] = df['attackDescription'].replace(['Ping Scan'], 'ICMP')\n",
        "df['attackDescription'].value_counts()"
      ]
    },
    {
      "cell_type": "markdown",
      "metadata": {
        "id": "BIeFN3_8XFjt"
      },
      "source": [
        "### Drop features"
      ]
    },
    {
      "cell_type": "code",
      "execution_count": 19,
      "metadata": {
        "colab": {
          "base_uri": "https://localhost:8080/"
        },
        "execution": {
          "iopub.execute_input": "2023-09-19T10:48:30.678955Z",
          "iopub.status.busy": "2023-09-19T10:48:30.678582Z",
          "iopub.status.idle": "2023-09-19T10:48:30.698298Z",
          "shell.execute_reply": "2023-09-19T10:48:30.696856Z",
          "shell.execute_reply.started": "2023-09-19T10:48:30.678922Z"
        },
        "id": "Qw6O-phQWvJh",
        "outputId": "2ab565ff-deb3-4bda-e1d1-bd4ec9c87812",
        "trusted": true
      },
      "outputs": [
        {
          "output_type": "stream",
          "name": "stdout",
          "text": [
            "<class 'pandas.core.frame.DataFrame'>\n",
            "Int64Index: 5195268 entries, 0 to 5231835\n",
            "Data columns (total 16 columns):\n",
            " #   Column             Dtype  \n",
            "---  ------             -----  \n",
            " 0   Date first seen    object \n",
            " 1   Duration           float64\n",
            " 2   Proto              object \n",
            " 3   Src IP Addr        object \n",
            " 4   Src Pt             int64  \n",
            " 5   Dst IP Addr        object \n",
            " 6   Dst Pt             float64\n",
            " 7   Packets            int64  \n",
            " 8   Bytes              object \n",
            " 9   Flows              int64  \n",
            " 10  Flags              object \n",
            " 11  Tos                int64  \n",
            " 12  label              object \n",
            " 13  attackType         object \n",
            " 14  attackID           object \n",
            " 15  attackDescription  object \n",
            "dtypes: float64(2), int64(4), object(10)\n",
            "memory usage: 673.8+ MB\n"
          ]
        }
      ],
      "source": [
        "df.info()"
      ]
    },
    {
      "cell_type": "code",
      "execution_count": 20,
      "metadata": {
        "colab": {
          "base_uri": "https://localhost:8080/"
        },
        "execution": {
          "iopub.execute_input": "2023-09-19T10:48:30.700747Z",
          "iopub.status.busy": "2023-09-19T10:48:30.700254Z",
          "iopub.status.idle": "2023-09-19T10:48:31.257065Z",
          "shell.execute_reply": "2023-09-19T10:48:31.255758Z",
          "shell.execute_reply.started": "2023-09-19T10:48:30.700705Z"
        },
        "id": "F_BChZCev7mU",
        "outputId": "2486d61e-7d78-4679-ef30-b72ee9b6c6b2",
        "trusted": true
      },
      "outputs": [
        {
          "output_type": "stream",
          "name": "stdout",
          "text": [
            "<class 'pandas.core.frame.DataFrame'>\n",
            "Int64Index: 5195268 entries, 0 to 5231835\n",
            "Data columns (total 11 columns):\n",
            " #   Column             Dtype  \n",
            "---  ------             -----  \n",
            " 0   Duration           float64\n",
            " 1   Proto              object \n",
            " 2   Src Pt             int64  \n",
            " 3   Dst Pt             float64\n",
            " 4   Packets            int64  \n",
            " 5   Bytes              object \n",
            " 6   Flows              int64  \n",
            " 7   Flags              object \n",
            " 8   Tos                int64  \n",
            " 9   label              object \n",
            " 10  attackDescription  object \n",
            "dtypes: float64(2), int64(4), object(5)\n",
            "memory usage: 475.6+ MB\n"
          ]
        }
      ],
      "source": [
        "df = df.drop(columns = ['Date first seen', 'Src IP Addr', 'Dst IP Addr',  'attackType', 'attackID'])\n",
        "df.info()"
      ]
    },
    {
      "cell_type": "code",
      "execution_count": 21,
      "metadata": {
        "execution": {
          "iopub.execute_input": "2023-09-19T10:48:31.259336Z",
          "iopub.status.busy": "2023-09-19T10:48:31.258716Z",
          "iopub.status.idle": "2023-09-19T10:48:38.528540Z",
          "shell.execute_reply": "2023-09-19T10:48:38.527541Z",
          "shell.execute_reply.started": "2023-09-19T10:48:31.259302Z"
        },
        "id": "6f8AUQDeXO1L",
        "trusted": true
      },
      "outputs": [],
      "source": [
        "df = df.drop(df.loc[df['attackDescription'] == 'normal'].sample(frac = 0.8).index)"
      ]
    },
    {
      "cell_type": "code",
      "execution_count": 22,
      "metadata": {
        "colab": {
          "base_uri": "https://localhost:8080/",
          "height": 627
        },
        "execution": {
          "iopub.execute_input": "2023-09-19T10:48:38.529984Z",
          "iopub.status.busy": "2023-09-19T10:48:38.529688Z",
          "iopub.status.idle": "2023-09-19T10:48:40.633087Z",
          "shell.execute_reply": "2023-09-19T10:48:40.632044Z",
          "shell.execute_reply.started": "2023-09-19T10:48:38.529957Z"
        },
        "id": "-KQdZZZhXQfy",
        "outputId": "acadac41-7771-4cec-99de-195140387724",
        "trusted": true
      },
      "outputs": [
        {
          "output_type": "display_data",
          "data": {
            "text/plain": [
              "<Figure size 1000x700 with 1 Axes>"
            ],
            "image/png": "[encoded data removed]"
          },
          "metadata": {}
        }
      ],
      "source": [
        "sns.set(rc = {'figure.figsize' : (10, 7)})\n",
        "ax = sns.countplot(x = 'attackDescription', data = df)\n",
        "ax.set(xlabel = 'Type', ylabel = 'Number')\n",
        "plt.show()"
      ]
    },
    {
      "cell_type": "markdown",
      "metadata": {
        "id": "FRxozQVHNrDj"
      },
      "source": [
        "### Other features"
      ]
    },
    {
      "cell_type": "code",
      "execution_count": 23,
      "metadata": {
        "execution": {
          "iopub.execute_input": "2023-09-19T10:48:40.634772Z",
          "iopub.status.busy": "2023-09-19T10:48:40.634415Z",
          "iopub.status.idle": "2023-09-19T10:48:40.640607Z",
          "shell.execute_reply": "2023-09-19T10:48:40.639600Z",
          "shell.execute_reply.started": "2023-09-19T10:48:40.634744Z"
        },
        "id": "2l9BuQKaOA76",
        "trusted": true
      },
      "outputs": [],
      "source": [
        "def convert_to_int(value):\n",
        "    try:\n",
        "        if 'M' in str(value):\n",
        "            result = int(float(value[:-2])*10**6)\n",
        "        else:\n",
        "            result = int(value)\n",
        "    except (ValueError, TypeError):\n",
        "        print(value)\n",
        "        result = 0\n",
        "    return result"
      ]
    },
    {
      "cell_type": "code",
      "execution_count": 24,
      "metadata": {
        "colab": {
          "base_uri": "https://localhost:8080/"
        },
        "execution": {
          "iopub.execute_input": "2023-09-19T10:48:40.642539Z",
          "iopub.status.busy": "2023-09-19T10:48:40.642153Z",
          "iopub.status.idle": "2023-09-19T10:48:42.523616Z",
          "shell.execute_reply": "2023-09-19T10:48:42.522520Z",
          "shell.execute_reply.started": "2023-09-19T10:48:40.642508Z"
        },
        "id": "oC5WHIzYOD6l",
        "outputId": "3a42ba97-1bcf-4b05-821a-247e582ea301",
        "trusted": true
      },
      "outputs": [
        {
          "output_type": "execute_result",
          "data": {
            "text/plain": [
              "54       441451\n",
              "66       269637\n",
              "58       218650\n",
              "42       110075\n",
              "70        38081\n",
              "          ...  \n",
              "37744         1\n",
              "15772         1\n",
              "16351         1\n",
              "9182          1\n",
              "20573         1\n",
              "Name: Bytes, Length: 28332, dtype: int64"
            ]
          },
          "metadata": {},
          "execution_count": 24
        }
      ],
      "source": [
        "df['Bytes'] = df['Bytes'].apply(convert_to_int)\n",
        "df['Bytes'].value_counts()"
      ]
    },
    {
      "cell_type": "code",
      "execution_count": 25,
      "metadata": {
        "colab": {
          "base_uri": "https://localhost:8080/"
        },
        "execution": {
          "iopub.execute_input": "2023-09-19T10:48:42.526002Z",
          "iopub.status.busy": "2023-09-19T10:48:42.525562Z",
          "iopub.status.idle": "2023-09-19T10:48:43.056509Z",
          "shell.execute_reply": "2023-09-19T10:48:43.055167Z",
          "shell.execute_reply.started": "2023-09-19T10:48:42.525962Z"
        },
        "id": "Weca15snXXG6",
        "outputId": "def6b8ba-c0a1-4260-da99-52e2d9c593fc",
        "trusted": true
      },
      "outputs": [
        {
          "output_type": "execute_result",
          "data": {
            "text/plain": [
              "array(['0_normal', 'attack'], dtype=object)"
            ]
          },
          "metadata": {},
          "execution_count": 25
        }
      ],
      "source": [
        "label_encoder = LabelEncoder()\n",
        "df['label']= label_encoder.fit_transform(df['label'])\n",
        "label_encoder.classes_"
      ]
    },
    {
      "cell_type": "code",
      "execution_count": 26,
      "metadata": {
        "colab": {
          "base_uri": "https://localhost:8080/"
        },
        "execution": {
          "iopub.execute_input": "2023-09-19T10:48:43.058429Z",
          "iopub.status.busy": "2023-09-19T10:48:43.057984Z",
          "iopub.status.idle": "2023-09-19T10:48:43.604963Z",
          "shell.execute_reply": "2023-09-19T10:48:43.603679Z",
          "shell.execute_reply.started": "2023-09-19T10:48:43.058395Z"
        },
        "id": "g1momD7xXcDr",
        "outputId": "6859d4e2-da0d-4d58-e389-0a6d099643b6",
        "trusted": true
      },
      "outputs": [
        {
          "output_type": "stream",
          "name": "stdout",
          "text": [
            "<class 'pandas.core.frame.DataFrame'>\n",
            "Int64Index: 1689346 entries, 3 to 5231835\n",
            "Data columns (total 11 columns):\n",
            " #   Column             Non-Null Count    Dtype  \n",
            "---  ------             --------------    -----  \n",
            " 0   Duration           1689346 non-null  float64\n",
            " 1   Proto              1689346 non-null  object \n",
            " 2   Src Pt             1689346 non-null  int64  \n",
            " 3   Dst Pt             1689346 non-null  float64\n",
            " 4   Packets            1689346 non-null  int64  \n",
            " 5   Bytes              1689346 non-null  int64  \n",
            " 6   Flows              1689346 non-null  int64  \n",
            " 7   Flags              1689346 non-null  object \n",
            " 8   Tos                1689346 non-null  int64  \n",
            " 9   label              1689346 non-null  int64  \n",
            " 10  attackDescription  1689346 non-null  object \n",
            "dtypes: float64(2), int64(6), object(3)\n",
            "memory usage: 154.7+ MB\n"
          ]
        }
      ],
      "source": [
        "df.info()"
      ]
    },
    {
      "cell_type": "code",
      "execution_count": 27,
      "metadata": {
        "colab": {
          "base_uri": "https://localhost:8080/"
        },
        "execution": {
          "iopub.execute_input": "2023-09-19T10:48:43.606538Z",
          "iopub.status.busy": "2023-09-19T10:48:43.606191Z",
          "iopub.status.idle": "2023-09-19T10:48:43.754637Z",
          "shell.execute_reply": "2023-09-19T10:48:43.753353Z",
          "shell.execute_reply.started": "2023-09-19T10:48:43.606509Z"
        },
        "id": "rPy-Vfg2VeJh",
        "outputId": "634d410c-8495-4870-ff54-df9ab389e0d5",
        "trusted": true
      },
      "outputs": [
        {
          "output_type": "stream",
          "name": "stdout",
          "text": [
            "(1689346, 9) (1689346, 2)\n"
          ]
        }
      ],
      "source": [
        "features_to_exclude = ['label', 'Proto']\n",
        "y = df.loc[:, features_to_exclude]\n",
        "X = df.drop(features_to_exclude, axis=1)\n",
        "\n",
        "print(X.shape, y.shape)"
      ]
    },
    {
      "cell_type": "code",
      "execution_count": 28,
      "metadata": {
        "colab": {
          "base_uri": "https://localhost:8080/"
        },
        "execution": {
          "iopub.execute_input": "2023-09-19T10:48:43.757076Z",
          "iopub.status.busy": "2023-09-19T10:48:43.756600Z",
          "iopub.status.idle": "2023-09-19T10:48:44.145447Z",
          "shell.execute_reply": "2023-09-19T10:48:44.143988Z",
          "shell.execute_reply.started": "2023-09-19T10:48:43.757035Z"
        },
        "id": "TlXXZ05-WC0p",
        "outputId": "f59738f0-9c4e-462c-c214-9d95db11b0dd",
        "trusted": true
      },
      "outputs": [
        {
          "output_type": "stream",
          "name": "stdout",
          "text": [
            "<class 'pandas.core.frame.DataFrame'>\n",
            "Int64Index: 1689346 entries, 3 to 5231835\n",
            "Data columns (total 9 columns):\n",
            " #   Column             Non-Null Count    Dtype  \n",
            "---  ------             --------------    -----  \n",
            " 0   Duration           1689346 non-null  float64\n",
            " 1   Src Pt             1689346 non-null  int64  \n",
            " 2   Dst Pt             1689346 non-null  float64\n",
            " 3   Packets            1689346 non-null  int64  \n",
            " 4   Bytes              1689346 non-null  int64  \n",
            " 5   Flows              1689346 non-null  int64  \n",
            " 6   Flags              1689346 non-null  object \n",
            " 7   Tos                1689346 non-null  int64  \n",
            " 8   attackDescription  1689346 non-null  object \n",
            "dtypes: float64(2), int64(5), object(2)\n",
            "memory usage: 128.9+ MB\n"
          ]
        }
      ],
      "source": [
        "X.info()"
      ]
    },
    {
      "cell_type": "code",
      "execution_count": 29,
      "metadata": {
        "colab": {
          "base_uri": "https://localhost:8080/"
        },
        "execution": {
          "iopub.execute_input": "2023-09-19T10:48:44.147075Z",
          "iopub.status.busy": "2023-09-19T10:48:44.146767Z",
          "iopub.status.idle": "2023-09-19T10:48:44.349012Z",
          "shell.execute_reply": "2023-09-19T10:48:44.348229Z",
          "shell.execute_reply.started": "2023-09-19T10:48:44.147049Z"
        },
        "id": "jbybREFvWHF8",
        "outputId": "528ba11a-934e-46a9-e2a1-f8914139a4fc",
        "trusted": true
      },
      "outputs": [
        {
          "output_type": "stream",
          "name": "stdout",
          "text": [
            "<class 'pandas.core.frame.DataFrame'>\n",
            "Int64Index: 1689346 entries, 3 to 5231835\n",
            "Data columns (total 2 columns):\n",
            " #   Column  Non-Null Count    Dtype \n",
            "---  ------  --------------    ----- \n",
            " 0   label   1689346 non-null  int64 \n",
            " 1   Proto   1689346 non-null  object\n",
            "dtypes: int64(1), object(1)\n",
            "memory usage: 38.7+ MB\n"
          ]
        }
      ],
      "source": [
        "y.info()"
      ]
    },
    {
      "cell_type": "markdown",
      "metadata": {
        "id": "iAw4D3XgWRfG"
      },
      "source": [
        "### One hot encoding"
      ]
    },
    {
      "cell_type": "code",
      "execution_count": 30,
      "metadata": {
        "colab": {
          "base_uri": "https://localhost:8080/"
        },
        "execution": {
          "iopub.execute_input": "2023-09-19T10:48:44.350645Z",
          "iopub.status.busy": "2023-09-19T10:48:44.350297Z",
          "iopub.status.idle": "2023-09-19T10:48:45.390830Z",
          "shell.execute_reply": "2023-09-19T10:48:45.389707Z",
          "shell.execute_reply.started": "2023-09-19T10:48:44.350607Z"
        },
        "id": "o3ZdUcEyWXZf",
        "outputId": "87b77182-c46d-4a64-d183-6a410e2fb6d8",
        "trusted": true
      },
      "outputs": [
        {
          "output_type": "stream",
          "name": "stdout",
          "text": [
            "<class 'pandas.core.frame.DataFrame'>\n",
            "Int64Index: 1689346 entries, 3 to 5231835\n",
            "Data columns (total 32 columns):\n",
            " #   Column                    Non-Null Count    Dtype  \n",
            "---  ------                    --------------    -----  \n",
            " 0   Duration                  1689346 non-null  float64\n",
            " 1   Src Pt                    1689346 non-null  int64  \n",
            " 2   Dst Pt                    1689346 non-null  float64\n",
            " 3   Packets                   1689346 non-null  int64  \n",
            " 4   Bytes                     1689346 non-null  int64  \n",
            " 5   Flows                     1689346 non-null  int64  \n",
            " 6   Tos                       1689346 non-null  int64  \n",
            " 7   Flags_......              1689346 non-null  uint8  \n",
            " 8   Flags_.....F              1689346 non-null  uint8  \n",
            " 9   Flags_....S.              1689346 non-null  uint8  \n",
            " 10  Flags_...R..              1689346 non-null  uint8  \n",
            " 11  Flags_...RS.              1689346 non-null  uint8  \n",
            " 12  Flags_.A....              1689346 non-null  uint8  \n",
            " 13  Flags_.A...F              1689346 non-null  uint8  \n",
            " 14  Flags_.A..S.              1689346 non-null  uint8  \n",
            " 15  Flags_.A..SF              1689346 non-null  uint8  \n",
            " 16  Flags_.A.R..              1689346 non-null  uint8  \n",
            " 17  Flags_.A.R.F              1689346 non-null  uint8  \n",
            " 18  Flags_.A.RS.              1689346 non-null  uint8  \n",
            " 19  Flags_.A.RSF              1689346 non-null  uint8  \n",
            " 20  Flags_.AP...              1689346 non-null  uint8  \n",
            " 21  Flags_.AP..F              1689346 non-null  uint8  \n",
            " 22  Flags_.AP.S.              1689346 non-null  uint8  \n",
            " 23  Flags_.AP.SF              1689346 non-null  uint8  \n",
            " 24  Flags_.APR..              1689346 non-null  uint8  \n",
            " 25  Flags_.APR.F              1689346 non-null  uint8  \n",
            " 26  Flags_.APRS.              1689346 non-null  uint8  \n",
            " 27  Flags_.APRSF              1689346 non-null  uint8  \n",
            " 28  attackDescription_ICMP    1689346 non-null  uint8  \n",
            " 29  attackDescription_TCP     1689346 non-null  uint8  \n",
            " 30  attackDescription_UDP     1689346 non-null  uint8  \n",
            " 31  attackDescription_normal  1689346 non-null  uint8  \n",
            "dtypes: float64(2), int64(5), uint8(25)\n",
            "memory usage: 143.4 MB\n"
          ]
        }
      ],
      "source": [
        "X = pd.get_dummies(X)\n",
        "X.info()"
      ]
    },
    {
      "cell_type": "code",
      "execution_count": 31,
      "metadata": {
        "colab": {
          "base_uri": "https://localhost:8080/",
          "height": 461
        },
        "execution": {
          "iopub.execute_input": "2023-09-19T10:48:45.393375Z",
          "iopub.status.busy": "2023-09-19T10:48:45.392297Z",
          "iopub.status.idle": "2023-09-19T10:48:45.474920Z",
          "shell.execute_reply": "2023-09-19T10:48:45.473703Z",
          "shell.execute_reply.started": "2023-09-19T10:48:45.393333Z"
        },
        "id": "iB1XU9n-W1Aa",
        "outputId": "fedd9add-ab0c-491f-a816-3adb7df38bea",
        "trusted": true
      },
      "outputs": [
        {
          "output_type": "execute_result",
          "data": {
            "text/plain": [
              "         Duration  Src Pt   Dst Pt  Packets  Bytes  Flows  Tos  Flags_......  \\\n",
              "3           0.095     443  58538.0        5   1246      1   32             0   \n",
              "15          0.000   57315    443.0        1     66      1    0             0   \n",
              "18          0.021   60025     80.0        2    108      1    0             0   \n",
              "21          0.000   63957     53.0        1     82      1    0             1   \n",
              "26          0.032   40285     80.0        3    624      1    0             0   \n",
              "...           ...     ...      ...      ...    ...    ...  ...           ...   \n",
              "5231831     0.000    5907  47529.0        1     54      1    0             0   \n",
              "5231832     0.000       3  47529.0        1     54      1    0             0   \n",
              "5231833     0.000   32778  47529.0        1     54      1    0             0   \n",
              "5231834     0.000    8800  47529.0        1     54      1    0             0   \n",
              "5231835     0.000   47529   6881.0        1     58      1    0             0   \n",
              "\n",
              "         Flags_.....F  Flags_....S.  Flags_...R..  Flags_...RS.  Flags_.A....  \\\n",
              "3                   0             0             0             0             0   \n",
              "15                  0             0             0             0             1   \n",
              "18                  0             0             0             0             0   \n",
              "21                  0             0             0             0             0   \n",
              "26                  0             0             0             0             0   \n",
              "...               ...           ...           ...           ...           ...   \n",
              "5231831             0             0             0             0             0   \n",
              "5231832             0             0             0             0             0   \n",
              "5231833             0             0             0             0             0   \n",
              "5231834             0             0             0             0             0   \n",
              "5231835             0             1             0             0             0   \n",
              "\n",
              "         Flags_.A...F  Flags_.A..S.  Flags_.A..SF  Flags_.A.R..  Flags_.A.R.F  \\\n",
              "3                   0             0             0             0             0   \n",
              "15                  0             0             0             0             0   \n",
              "18                  1             0             0             0             0   \n",
              "21                  0             0             0             0             0   \n",
              "26                  0             0             0             0             0   \n",
              "...               ...           ...           ...           ...           ...   \n",
              "5231831             0             0             0             1             0   \n",
              "5231832             0             0             0             1             0   \n",
              "5231833             0             0             0             1             0   \n",
              "5231834             0             0             0             1             0   \n",
              "5231835             0             0             0             0             0   \n",
              "\n",
              "         Flags_.A.RS.  Flags_.A.RSF  Flags_.AP...  Flags_.AP..F  Flags_.AP.S.  \\\n",
              "3                   0             0             1             0             0   \n",
              "15                  0             0             0             0             0   \n",
              "18                  0             0             0             0             0   \n",
              "21                  0             0             0             0             0   \n",
              "26                  0             0             1             0             0   \n",
              "...               ...           ...           ...           ...           ...   \n",
              "5231831             0             0             0             0             0   \n",
              "5231832             0             0             0             0             0   \n",
              "5231833             0             0             0             0             0   \n",
              "5231834             0             0             0             0             0   \n",
              "5231835             0             0             0             0             0   \n",
              "\n",
              "         Flags_.AP.SF  Flags_.APR..  Flags_.APR.F  Flags_.APRS.  Flags_.APRSF  \\\n",
              "3                   0             0             0             0             0   \n",
              "15                  0             0             0             0             0   \n",
              "18                  0             0             0             0             0   \n",
              "21                  0             0             0             0             0   \n",
              "26                  0             0             0             0             0   \n",
              "...               ...           ...           ...           ...           ...   \n",
              "5231831             0             0             0             0             0   \n",
              "5231832             0             0             0             0             0   \n",
              "5231833             0             0             0             0             0   \n",
              "5231834             0             0             0             0             0   \n",
              "5231835             0             0             0             0             0   \n",
              "\n",
              "         attackDescription_ICMP  attackDescription_TCP  attackDescription_UDP  \\\n",
              "3                             0                      0                      0   \n",
              "15                            0                      0                      0   \n",
              "18                            0                      0                      0   \n",
              "21                            0                      0                      0   \n",
              "26                            0                      0                      0   \n",
              "...                         ...                    ...                    ...   \n",
              "5231831                       0                      1                      0   \n",
              "5231832                       0                      1                      0   \n",
              "5231833                       0                      1                      0   \n",
              "5231834                       0                      1                      0   \n",
              "5231835                       0                      1                      0   \n",
              "\n",
              "         attackDescription_normal  label  Proto  \n",
              "3                               1      0  TCP    \n",
              "15                              1      0  TCP    \n",
              "18                              1      0  TCP    \n",
              "21                              1      0  UDP    \n",
              "26                              1      0  TCP    \n",
              "...                           ...    ...    ...  \n",
              "5231831                         0      1  TCP    \n",
              "5231832                         0      1  TCP    \n",
              "5231833                         0      1  TCP    \n",
              "5231834                         0      1  TCP    \n",
              "5231835                         0      1  TCP    \n",
              "\n",
              "[1689346 rows x 34 columns]"
            ],
            "text/html": [
              "\n",
              "  <div id=\"df-027798cb-939d-4878-a884-e07c52e58e01\" class=\"colab-df-container\">\n",
              "    <div>\n",
              "<style scoped>\n",
              "    .dataframe tbody tr th:only-of-type {\n",
              "        vertical-align: middle;\n",
              "    }\n",
              "\n",
              "    .dataframe tbody tr th {\n",
              "        vertical-align: top;\n",
              "    }\n",
              "\n",
              "    .dataframe thead th {\n",
              "        text-align: right;\n",
              "    }\n",
              "</style>\n",
              "<table border=\"1\" class=\"dataframe\">\n",
              "  <thead>\n",
              "    <tr style=\"text-align: right;\">\n",
              "      <th></th>\n",
              "      <th>Duration</th>\n",
              "      <th>Src Pt</th>\n",
              "      <th>Dst Pt</th>\n",
              "      <th>Packets</th>\n",
              "      <th>Bytes</th>\n",
              "      <th>Flows</th>\n",
              "      <th>Tos</th>\n",
              "      <th>Flags_......</th>\n",
              "      <th>Flags_.....F</th>\n",
              "      <th>Flags_....S.</th>\n",
              "      <th>Flags_...R..</th>\n",
              "      <th>Flags_...RS.</th>\n",
              "      <th>Flags_.A....</th>\n",
              "      <th>Flags_.A...F</th>\n",
              "      <th>Flags_.A..S.</th>\n",
              "      <th>Flags_.A..SF</th>\n",
              "      <th>Flags_.A.R..</th>\n",
              "      <th>Flags_.A.R.F</th>\n",
              "      <th>Flags_.A.RS.</th>\n",
              "      <th>Flags_.A.RSF</th>\n",
              "      <th>Flags_.AP...</th>\n",
              "      <th>Flags_.AP..F</th>\n",
              "      <th>Flags_.AP.S.</th>\n",
              "      <th>Flags_.AP.SF</th>\n",
              "      <th>Flags_.APR..</th>\n",
              "      <th>Flags_.APR.F</th>\n",
              "      <th>Flags_.APRS.</th>\n",
              "      <th>Flags_.APRSF</th>\n",
              "      <th>attackDescription_ICMP</th>\n",
              "      <th>attackDescription_TCP</th>\n",
              "      <th>attackDescription_UDP</th>\n",
              "      <th>attackDescription_normal</th>\n",
              "      <th>label</th>\n",
              "      <th>Proto</th>\n",
              "    </tr>\n",
              "  </thead>\n",
              "  <tbody>\n",
              "    <tr>\n",
              "      <th>3</th>\n",
              "      <td>0.095</td>\n",
              "      <td>443</td>\n",
              "      <td>58538.0</td>\n",
              "      <td>5</td>\n",
              "      <td>1246</td>\n",
              "      <td>1</td>\n",
              "      <td>32</td>\n",
              "      <td>0</td>\n",
              "      <td>0</td>\n",
              "      <td>0</td>\n",
              "      <td>0</td>\n",
              "      <td>0</td>\n",
              "      <td>0</td>\n",
              "      <td>0</td>\n",
              "      <td>0</td>\n",
              "      <td>0</td>\n",
              "      <td>0</td>\n",
              "      <td>0</td>\n",
              "      <td>0</td>\n",
              "      <td>0</td>\n",
              "      <td>1</td>\n",
              "      <td>0</td>\n",
              "      <td>0</td>\n",
              "      <td>0</td>\n",
              "      <td>0</td>\n",
              "      <td>0</td>\n",
              "      <td>0</td>\n",
              "      <td>0</td>\n",
              "      <td>0</td>\n",
              "      <td>0</td>\n",
              "      <td>0</td>\n",
              "      <td>1</td>\n",
              "      <td>0</td>\n",
              "      <td>TCP</td>\n",
              "    </tr>\n",
              "    <tr>\n",
              "      <th>15</th>\n",
              "      <td>0.000</td>\n",
              "      <td>57315</td>\n",
              "      <td>443.0</td>\n",
              "      <td>1</td>\n",
              "      <td>66</td>\n",
              "      <td>1</td>\n",
              "      <td>0</td>\n",
              "      <td>0</td>\n",
              "      <td>0</td>\n",
              "      <td>0</td>\n",
              "      <td>0</td>\n",
              "      <td>0</td>\n",
              "      <td>1</td>\n",
              "      <td>0</td>\n",
              "      <td>0</td>\n",
              "      <td>0</td>\n",
              "      <td>0</td>\n",
              "      <td>0</td>\n",
              "      <td>0</td>\n",
              "      <td>0</td>\n",
              "      <td>0</td>\n",
              "      <td>0</td>\n",
              "      <td>0</td>\n",
              "      <td>0</td>\n",
              "      <td>0</td>\n",
              "      <td>0</td>\n",
              "      <td>0</td>\n",
              "      <td>0</td>\n",
              "      <td>0</td>\n",
              "      <td>0</td>\n",
              "      <td>0</td>\n",
              "      <td>1</td>\n",
              "      <td>0</td>\n",
              "      <td>TCP</td>\n",
              "    </tr>\n",
              "    <tr>\n",
              "      <th>18</th>\n",
              "      <td>0.021</td>\n",
              "      <td>60025</td>\n",
              "      <td>80.0</td>\n",
              "      <td>2</td>\n",
              "      <td>108</td>\n",
              "      <td>1</td>\n",
              "      <td>0</td>\n",
              "      <td>0</td>\n",
              "      <td>0</td>\n",
              "      <td>0</td>\n",
              "      <td>0</td>\n",
              "      <td>0</td>\n",
              "      <td>0</td>\n",
              "      <td>1</td>\n",
              "      <td>0</td>\n",
              "      <td>0</td>\n",
              "      <td>0</td>\n",
              "      <td>0</td>\n",
              "      <td>0</td>\n",
              "      <td>0</td>\n",
              "      <td>0</td>\n",
              "      <td>0</td>\n",
              "      <td>0</td>\n",
              "      <td>0</td>\n",
              "      <td>0</td>\n",
              "      <td>0</td>\n",
              "      <td>0</td>\n",
              "      <td>0</td>\n",
              "      <td>0</td>\n",
              "      <td>0</td>\n",
              "      <td>0</td>\n",
              "      <td>1</td>\n",
              "      <td>0</td>\n",
              "      <td>TCP</td>\n",
              "    </tr>\n",
              "    <tr>\n",
              "      <th>21</th>\n",
              "      <td>0.000</td>\n",
              "      <td>63957</td>\n",
              "      <td>53.0</td>\n",
              "      <td>1</td>\n",
              "      <td>82</td>\n",
              "      <td>1</td>\n",
              "      <td>0</td>\n",
              "      <td>1</td>\n",
              "      <td>0</td>\n",
              "      <td>0</td>\n",
              "      <td>0</td>\n",
              "      <td>0</td>\n",
              "      <td>0</td>\n",
              "      <td>0</td>\n",
              "      <td>0</td>\n",
              "      <td>0</td>\n",
              "      <td>0</td>\n",
              "      <td>0</td>\n",
              "      <td>0</td>\n",
              "      <td>0</td>\n",
              "      <td>0</td>\n",
              "      <td>0</td>\n",
              "      <td>0</td>\n",
              "      <td>0</td>\n",
              "      <td>0</td>\n",
              "      <td>0</td>\n",
              "      <td>0</td>\n",
              "      <td>0</td>\n",
              "      <td>0</td>\n",
              "      <td>0</td>\n",
              "      <td>0</td>\n",
              "      <td>1</td>\n",
              "      <td>0</td>\n",
              "      <td>UDP</td>\n",
              "    </tr>\n",
              "    <tr>\n",
              "      <th>26</th>\n",
              "      <td>0.032</td>\n",
              "      <td>40285</td>\n",
              "      <td>80.0</td>\n",
              "      <td>3</td>\n",
              "      <td>624</td>\n",
              "      <td>1</td>\n",
              "      <td>0</td>\n",
              "      <td>0</td>\n",
              "      <td>0</td>\n",
              "      <td>0</td>\n",
              "      <td>0</td>\n",
              "      <td>0</td>\n",
              "      <td>0</td>\n",
              "      <td>0</td>\n",
              "      <td>0</td>\n",
              "      <td>0</td>\n",
              "      <td>0</td>\n",
              "      <td>0</td>\n",
              "      <td>0</td>\n",
              "      <td>0</td>\n",
              "      <td>1</td>\n",
              "      <td>0</td>\n",
              "      <td>0</td>\n",
              "      <td>0</td>\n",
              "      <td>0</td>\n",
              "      <td>0</td>\n",
              "      <td>0</td>\n",
              "      <td>0</td>\n",
              "      <td>0</td>\n",
              "      <td>0</td>\n",
              "      <td>0</td>\n",
              "      <td>1</td>\n",
              "      <td>0</td>\n",
              "      <td>TCP</td>\n",
              "    </tr>\n",
              "    <tr>\n",
              "      <th>...</th>\n",
              "      <td>...</td>\n",
              "      <td>...</td>\n",
              "      <td>...</td>\n",
              "      <td>...</td>\n",
              "      <td>...</td>\n",
              "      <td>...</td>\n",
              "      <td>...</td>\n",
              "      <td>...</td>\n",
              "      <td>...</td>\n",
              "      <td>...</td>\n",
              "      <td>...</td>\n",
              "      <td>...</td>\n",
              "      <td>...</td>\n",
              "      <td>...</td>\n",
              "      <td>...</td>\n",
              "      <td>...</td>\n",
              "      <td>...</td>\n",
              "      <td>...</td>\n",
              "      <td>...</td>\n",
              "      <td>...</td>\n",
              "      <td>...</td>\n",
              "      <td>...</td>\n",
              "      <td>...</td>\n",
              "      <td>...</td>\n",
              "      <td>...</td>\n",
              "      <td>...</td>\n",
              "      <td>...</td>\n",
              "      <td>...</td>\n",
              "      <td>...</td>\n",
              "      <td>...</td>\n",
              "      <td>...</td>\n",
              "      <td>...</td>\n",
              "      <td>...</td>\n",
              "      <td>...</td>\n",
              "    </tr>\n",
              "    <tr>\n",
              "      <th>5231831</th>\n",
              "      <td>0.000</td>\n",
              "      <td>5907</td>\n",
              "      <td>47529.0</td>\n",
              "      <td>1</td>\n",
              "      <td>54</td>\n",
              "      <td>1</td>\n",
              "      <td>0</td>\n",
              "      <td>0</td>\n",
              "      <td>0</td>\n",
              "      <td>0</td>\n",
              "      <td>0</td>\n",
              "      <td>0</td>\n",
              "      <td>0</td>\n",
              "      <td>0</td>\n",
              "      <td>0</td>\n",
              "      <td>0</td>\n",
              "      <td>1</td>\n",
              "      <td>0</td>\n",
              "      <td>0</td>\n",
              "      <td>0</td>\n",
              "      <td>0</td>\n",
              "      <td>0</td>\n",
              "      <td>0</td>\n",
              "      <td>0</td>\n",
              "      <td>0</td>\n",
              "      <td>0</td>\n",
              "      <td>0</td>\n",
              "      <td>0</td>\n",
              "      <td>0</td>\n",
              "      <td>1</td>\n",
              "      <td>0</td>\n",
              "      <td>0</td>\n",
              "      <td>1</td>\n",
              "      <td>TCP</td>\n",
              "    </tr>\n",
              "    <tr>\n",
              "      <th>5231832</th>\n",
              "      <td>0.000</td>\n",
              "      <td>3</td>\n",
              "      <td>47529.0</td>\n",
              "      <td>1</td>\n",
              "      <td>54</td>\n",
              "      <td>1</td>\n",
              "      <td>0</td>\n",
              "      <td>0</td>\n",
              "      <td>0</td>\n",
              "      <td>0</td>\n",
              "      <td>0</td>\n",
              "      <td>0</td>\n",
              "      <td>0</td>\n",
              "      <td>0</td>\n",
              "      <td>0</td>\n",
              "      <td>0</td>\n",
              "      <td>1</td>\n",
              "      <td>0</td>\n",
              "      <td>0</td>\n",
              "      <td>0</td>\n",
              "      <td>0</td>\n",
              "      <td>0</td>\n",
              "      <td>0</td>\n",
              "      <td>0</td>\n",
              "      <td>0</td>\n",
              "      <td>0</td>\n",
              "      <td>0</td>\n",
              "      <td>0</td>\n",
              "      <td>0</td>\n",
              "      <td>1</td>\n",
              "      <td>0</td>\n",
              "      <td>0</td>\n",
              "      <td>1</td>\n",
              "      <td>TCP</td>\n",
              "    </tr>\n",
              "    <tr>\n",
              "      <th>5231833</th>\n",
              "      <td>0.000</td>\n",
              "      <td>32778</td>\n",
              "      <td>47529.0</td>\n",
              "      <td>1</td>\n",
              "      <td>54</td>\n",
              "      <td>1</td>\n",
              "      <td>0</td>\n",
              "      <td>0</td>\n",
              "      <td>0</td>\n",
              "      <td>0</td>\n",
              "      <td>0</td>\n",
              "      <td>0</td>\n",
              "      <td>0</td>\n",
              "      <td>0</td>\n",
              "      <td>0</td>\n",
              "      <td>0</td>\n",
              "      <td>1</td>\n",
              "      <td>0</td>\n",
              "      <td>0</td>\n",
              "      <td>0</td>\n",
              "      <td>0</td>\n",
              "      <td>0</td>\n",
              "      <td>0</td>\n",
              "      <td>0</td>\n",
              "      <td>0</td>\n",
              "      <td>0</td>\n",
              "      <td>0</td>\n",
              "      <td>0</td>\n",
              "      <td>0</td>\n",
              "      <td>1</td>\n",
              "      <td>0</td>\n",
              "      <td>0</td>\n",
              "      <td>1</td>\n",
              "      <td>TCP</td>\n",
              "    </tr>\n",
              "    <tr>\n",
              "      <th>5231834</th>\n",
              "      <td>0.000</td>\n",
              "      <td>8800</td>\n",
              "      <td>47529.0</td>\n",
              "      <td>1</td>\n",
              "      <td>54</td>\n",
              "      <td>1</td>\n",
              "      <td>0</td>\n",
              "      <td>0</td>\n",
              "      <td>0</td>\n",
              "      <td>0</td>\n",
              "      <td>0</td>\n",
              "      <td>0</td>\n",
              "      <td>0</td>\n",
              "      <td>0</td>\n",
              "      <td>0</td>\n",
              "      <td>0</td>\n",
              "      <td>1</td>\n",
              "      <td>0</td>\n",
              "      <td>0</td>\n",
              "      <td>0</td>\n",
              "      <td>0</td>\n",
              "      <td>0</td>\n",
              "      <td>0</td>\n",
              "      <td>0</td>\n",
              "      <td>0</td>\n",
              "      <td>0</td>\n",
              "      <td>0</td>\n",
              "      <td>0</td>\n",
              "      <td>0</td>\n",
              "      <td>1</td>\n",
              "      <td>0</td>\n",
              "      <td>0</td>\n",
              "      <td>1</td>\n",
              "      <td>TCP</td>\n",
              "    </tr>\n",
              "    <tr>\n",
              "      <th>5231835</th>\n",
              "      <td>0.000</td>\n",
              "      <td>47529</td>\n",
              "      <td>6881.0</td>\n",
              "      <td>1</td>\n",
              "      <td>58</td>\n",
              "      <td>1</td>\n",
              "      <td>0</td>\n",
              "      <td>0</td>\n",
              "      <td>0</td>\n",
              "      <td>1</td>\n",
              "      <td>0</td>\n",
              "      <td>0</td>\n",
              "      <td>0</td>\n",
              "      <td>0</td>\n",
              "      <td>0</td>\n",
              "      <td>0</td>\n",
              "      <td>0</td>\n",
              "      <td>0</td>\n",
              "      <td>0</td>\n",
              "      <td>0</td>\n",
              "      <td>0</td>\n",
              "      <td>0</td>\n",
              "      <td>0</td>\n",
              "      <td>0</td>\n",
              "      <td>0</td>\n",
              "      <td>0</td>\n",
              "      <td>0</td>\n",
              "      <td>0</td>\n",
              "      <td>0</td>\n",
              "      <td>1</td>\n",
              "      <td>0</td>\n",
              "      <td>0</td>\n",
              "      <td>1</td>\n",
              "      <td>TCP</td>\n",
              "    </tr>\n",
              "  </tbody>\n",
              "</table>\n",
              "<p>1689346 rows × 34 columns</p>\n",
              "</div>\n",
              "    <div class=\"colab-df-buttons\">\n",
              "\n",
              "  <div class=\"colab-df-container\">\n",
              "    <button class=\"colab-df-convert\" onclick=\"convertToInteractive('df-027798cb-939d-4878-a884-e07c52e58e01')\"\n",
              "            title=\"Convert this dataframe to an interactive table.\"\n",
              "            style=\"display:none;\">\n",
              "\n",
              "  <svg xmlns=\"http://www.w3.org/2000/svg\" height=\"24px\" viewBox=\"0 -960 960 960\">\n",
              "    <path d=\"M120-120v-720h720v720H120Zm60-500h600v-160H180v160Zm220 220h160v-160H400v160Zm0 220h160v-160H400v160ZM180-400h160v-160H180v160Zm440 0h160v-160H620v160ZM180-180h160v-160H180v160Zm440 0h160v-160H620v160Z\"/>\n",
              "  </svg>\n",
              "    </button>\n",
              "\n",
              "  <style>\n",
              "    .colab-df-container {\n",
              "      display:flex;\n",
              "      gap: 12px;\n",
              "    }\n",
              "\n",
              "    .colab-df-convert {\n",
              "      background-color: #E8F0FE;\n",
              "      border: none;\n",
              "      border-radius: 50%;\n",
              "      cursor: pointer;\n",
              "      display: none;\n",
              "      fill: #1967D2;\n",
              "      height: 32px;\n",
              "      padding: 0 0 0 0;\n",
              "      width: 32px;\n",
              "    }\n",
              "\n",
              "    .colab-df-convert:hover {\n",
              "      background-color: #E2EBFA;\n",
              "      box-shadow: 0px 1px 2px rgba(60, 64, 67, 0.3), 0px 1px 3px 1px rgba(60, 64, 67, 0.15);\n",
              "      fill: #174EA6;\n",
              "    }\n",
              "\n",
              "    .colab-df-buttons div {\n",
              "      margin-bottom: 4px;\n",
              "    }\n",
              "\n",
              "    [theme=dark] .colab-df-convert {\n",
              "      background-color: #3B4455;\n",
              "      fill: #D2E3FC;\n",
              "    }\n",
              "\n",
              "    [theme=dark] .colab-df-convert:hover {\n",
              "      background-color: #434B5C;\n",
              "      box-shadow: 0px 1px 3px 1px rgba(0, 0, 0, 0.15);\n",
              "      filter: drop-shadow(0px 1px 2px rgba(0, 0, 0, 0.3));\n",
              "      fill: #FFFFFF;\n",
              "    }\n",
              "  </style>\n",
              "\n",
              "    <script>\n",
              "      const buttonEl =\n",
              "        document.querySelector('#df-027798cb-939d-4878-a884-e07c52e58e01 button.colab-df-convert');\n",
              "      buttonEl.style.display =\n",
              "        google.colab.kernel.accessAllowed ? 'block' : 'none';\n",
              "\n",
              "      async function convertToInteractive(key) {\n",
              "        const element = document.querySelector('#df-027798cb-939d-4878-a884-e07c52e58e01');\n",
              "        const dataTable =\n",
              "          await google.colab.kernel.invokeFunction('convertToInteractive',\n",
              "                                                    [key], {});\n",
              "        if (!dataTable) return;\n",
              "\n",
              "        const docLinkHtml = 'Like what you see? Visit the ' +\n",
              "          '<a target=\"_blank\" href=https://colab.research.google.com/notebooks/data_table.ipynb>data table notebook</a>'\n",
              "          + ' to learn more about interactive tables.';\n",
              "        element.innerHTML = '';\n",
              "        dataTable['output_type'] = 'display_data';\n",
              "        await google.colab.output.renderOutput(dataTable, element);\n",
              "        const docLink = document.createElement('div');\n",
              "        docLink.innerHTML = docLinkHtml;\n",
              "        element.appendChild(docLink);\n",
              "      }\n",
              "    </script>\n",
              "  </div>\n",
              "\n",
              "\n",
              "<div id=\"df-b758e7ae-2765-4839-8e90-c12cf3faefbf\">\n",
              "  <button class=\"colab-df-quickchart\" onclick=\"quickchart('df-b758e7ae-2765-4839-8e90-c12cf3faefbf')\"\n",
              "            title=\"Suggest charts.\"\n",
              "            style=\"display:none;\">\n",
              "\n",
              "<svg xmlns=\"http://www.w3.org/2000/svg\" height=\"24px\"viewBox=\"0 0 24 24\"\n",
              "     width=\"24px\">\n",
              "    <g>\n",
              "        <path d=\"M19 3H5c-1.1 0-2 .9-2 2v14c0 1.1.9 2 2 2h14c1.1 0 2-.9 2-2V5c0-1.1-.9-2-2-2zM9 17H7v-7h2v7zm4 0h-2V7h2v10zm4 0h-2v-4h2v4z\"/>\n",
              "    </g>\n",
              "</svg>\n",
              "  </button>\n",
              "\n",
              "<style>\n",
              "  .colab-df-quickchart {\n",
              "      --bg-color: #E8F0FE;\n",
              "      --fill-color: #1967D2;\n",
              "      --hover-bg-color: #E2EBFA;\n",
              "      --hover-fill-color: #174EA6;\n",
              "      --disabled-fill-color: #AAA;\n",
              "      --disabled-bg-color: #DDD;\n",
              "  }\n",
              "\n",
              "  [theme=dark] .colab-df-quickchart {\n",
              "      --bg-color: #3B4455;\n",
              "      --fill-color: #D2E3FC;\n",
              "      --hover-bg-color: #434B5C;\n",
              "      --hover-fill-color: #FFFFFF;\n",
              "      --disabled-bg-color: #3B4455;\n",
              "      --disabled-fill-color: #666;\n",
              "  }\n",
              "\n",
              "  .colab-df-quickchart {\n",
              "    background-color: var(--bg-color);\n",
              "    border: none;\n",
              "    border-radius: 50%;\n",
              "    cursor: pointer;\n",
              "    display: none;\n",
              "    fill: var(--fill-color);\n",
              "    height: 32px;\n",
              "    padding: 0;\n",
              "    width: 32px;\n",
              "  }\n",
              "\n",
              "  .colab-df-quickchart:hover {\n",
              "    background-color: var(--hover-bg-color);\n",
              "    box-shadow: 0 1px 2px rgba(60, 64, 67, 0.3), 0 1px 3px 1px rgba(60, 64, 67, 0.15);\n",
              "    fill: var(--button-hover-fill-color);\n",
              "  }\n",
              "\n",
              "  .colab-df-quickchart-complete:disabled,\n",
              "  .colab-df-quickchart-complete:disabled:hover {\n",
              "    background-color: var(--disabled-bg-color);\n",
              "    fill: var(--disabled-fill-color);\n",
              "    box-shadow: none;\n",
              "  }\n",
              "\n",
              "  .colab-df-spinner {\n",
              "    border: 2px solid var(--fill-color);\n",
              "    border-color: transparent;\n",
              "    border-bottom-color: var(--fill-color);\n",
              "    animation:\n",
              "      spin 1s steps(1) infinite;\n",
              "  }\n",
              "\n",
              "  @keyframes spin {\n",
              "    0% {\n",
              "      border-color: transparent;\n",
              "      border-bottom-color: var(--fill-color);\n",
              "      border-left-color: var(--fill-color);\n",
              "    }\n",
              "    20% {\n",
              "      border-color: transparent;\n",
              "      border-left-color: var(--fill-color);\n",
              "      border-top-color: var(--fill-color);\n",
              "    }\n",
              "    30% {\n",
              "      border-color: transparent;\n",
              "      border-left-color: var(--fill-color);\n",
              "      border-top-color: var(--fill-color);\n",
              "      border-right-color: var(--fill-color);\n",
              "    }\n",
              "    40% {\n",
              "      border-color: transparent;\n",
              "      border-right-color: var(--fill-color);\n",
              "      border-top-color: var(--fill-color);\n",
              "    }\n",
              "    60% {\n",
              "      border-color: transparent;\n",
              "      border-right-color: var(--fill-color);\n",
              "    }\n",
              "    80% {\n",
              "      border-color: transparent;\n",
              "      border-right-color: var(--fill-color);\n",
              "      border-bottom-color: var(--fill-color);\n",
              "    }\n",
              "    90% {\n",
              "      border-color: transparent;\n",
              "      border-bottom-color: var(--fill-color);\n",
              "    }\n",
              "  }\n",
              "</style>\n",
              "\n",
              "  <script>\n",
              "    async function quickchart(key) {\n",
              "      const quickchartButtonEl =\n",
              "        document.querySelector('#' + key + ' button');\n",
              "      quickchartButtonEl.disabled = true;  // To prevent multiple clicks.\n",
              "      quickchartButtonEl.classList.add('colab-df-spinner');\n",
              "      try {\n",
              "        const charts = await google.colab.kernel.invokeFunction(\n",
              "            'suggestCharts', [key], {});\n",
              "      } catch (error) {\n",
              "        console.error('Error during call to suggestCharts:', error);\n",
              "      }\n",
              "      quickchartButtonEl.classList.remove('colab-df-spinner');\n",
              "      quickchartButtonEl.classList.add('colab-df-quickchart-complete');\n",
              "    }\n",
              "    (() => {\n",
              "      let quickchartButtonEl =\n",
              "        document.querySelector('#df-b758e7ae-2765-4839-8e90-c12cf3faefbf button');\n",
              "      quickchartButtonEl.style.display =\n",
              "        google.colab.kernel.accessAllowed ? 'block' : 'none';\n",
              "    })();\n",
              "  </script>\n",
              "</div>\n",
              "    </div>\n",
              "  </div>\n"
            ]
          },
          "metadata": {},
          "execution_count": 31
        }
      ],
      "source": [
        "final_df = pd.concat([X, y], axis=1)\n",
        "final_df"
      ]
    },
    {
      "cell_type": "markdown",
      "metadata": {
        "id": "Z7K2K3w_Xi9Y"
      },
      "source": [
        "### Train-Test split"
      ]
    },
    {
      "cell_type": "code",
      "execution_count": 32,
      "metadata": {
        "colab": {
          "base_uri": "https://localhost:8080/",
          "height": 461
        },
        "execution": {
          "iopub.execute_input": "2023-09-19T10:48:45.477113Z",
          "iopub.status.busy": "2023-09-19T10:48:45.476724Z",
          "iopub.status.idle": "2023-09-19T10:48:46.414081Z",
          "shell.execute_reply": "2023-09-19T10:48:46.412943Z",
          "shell.execute_reply.started": "2023-09-19T10:48:45.477080Z"
        },
        "id": "RErtPgnRXiai",
        "outputId": "d83258f6-e898-4bf5-eedf-ba0093b8d62d",
        "trusted": true
      },
      "outputs": [
        {
          "output_type": "execute_result",
          "data": {
            "text/plain": [
              "         Duration  Src Pt   Dst Pt  Packets  Bytes  Flows  Tos  Flags_......  \\\n",
              "2229571     0.000     443  60382.0        1     66      1   32             0   \n",
              "3279170     0.000      80  55252.0        1     66      1    0             0   \n",
              "2212238     0.021     443  54397.0        3    193      1    0             0   \n",
              "4756011     0.000     787  50342.0        1     54      1    0             0   \n",
              "2265158     0.045      53  36795.0        2    380      1    0             1   \n",
              "...           ...     ...      ...      ...    ...    ...  ...           ...   \n",
              "1294916     0.026   62375    443.0        4    568      1    0             0   \n",
              "4937499     6.410       0      3.3        5    350      1  192             1   \n",
              "658411      0.000      53  57615.0        1     91      1    0             1   \n",
              "2931232     0.000   46755   4129.0        1     58      1    0             0   \n",
              "608357      0.000   33411    443.0        1     66      1    0             0   \n",
              "\n",
              "         Flags_.....F  Flags_....S.  Flags_...R..  Flags_...RS.  Flags_.A....  \\\n",
              "2229571             0             0             0             0             0   \n",
              "3279170             0             0             0             0             1   \n",
              "2212238             0             0             0             0             0   \n",
              "4756011             0             0             0             0             0   \n",
              "2265158             0             0             0             0             0   \n",
              "...               ...           ...           ...           ...           ...   \n",
              "1294916             0             0             0             0             0   \n",
              "4937499             0             0             0             0             0   \n",
              "658411              0             0             0             0             0   \n",
              "2931232             0             1             0             0             0   \n",
              "608357              0             0             0             0             1   \n",
              "\n",
              "         Flags_.A...F  Flags_.A..S.  Flags_.A..SF  Flags_.A.R..  Flags_.A.R.F  \\\n",
              "2229571             1             0             0             0             0   \n",
              "3279170             0             0             0             0             0   \n",
              "2212238             0             0             0             0             0   \n",
              "4756011             0             0             0             1             0   \n",
              "2265158             0             0             0             0             0   \n",
              "...               ...           ...           ...           ...           ...   \n",
              "1294916             0             0             0             0             0   \n",
              "4937499             0             0             0             0             0   \n",
              "658411              0             0             0             0             0   \n",
              "2931232             0             0             0             0             0   \n",
              "608357              0             0             0             0             0   \n",
              "\n",
              "         Flags_.A.RS.  Flags_.A.RSF  Flags_.AP...  Flags_.AP..F  Flags_.AP.S.  \\\n",
              "2229571             0             0             0             0             0   \n",
              "3279170             0             0             0             0             0   \n",
              "2212238             0             0             0             1             0   \n",
              "4756011             0             0             0             0             0   \n",
              "2265158             0             0             0             0             0   \n",
              "...               ...           ...           ...           ...           ...   \n",
              "1294916             0             0             1             0             0   \n",
              "4937499             0             0             0             0             0   \n",
              "658411              0             0             0             0             0   \n",
              "2931232             0             0             0             0             0   \n",
              "608357              0             0             0             0             0   \n",
              "\n",
              "         Flags_.AP.SF  Flags_.APR..  Flags_.APR.F  Flags_.APRS.  Flags_.APRSF  \\\n",
              "2229571             0             0             0             0             0   \n",
              "3279170             0             0             0             0             0   \n",
              "2212238             0             0             0             0             0   \n",
              "4756011             0             0             0             0             0   \n",
              "2265158             0             0             0             0             0   \n",
              "...               ...           ...           ...           ...           ...   \n",
              "1294916             0             0             0             0             0   \n",
              "4937499             0             0             0             0             0   \n",
              "658411              0             0             0             0             0   \n",
              "2931232             0             0             0             0             0   \n",
              "608357              0             0             0             0             0   \n",
              "\n",
              "         attackDescription_ICMP  attackDescription_TCP  attackDescription_UDP  \\\n",
              "2229571                       0                      0                      0   \n",
              "3279170                       0                      0                      0   \n",
              "2212238                       0                      0                      0   \n",
              "4756011                       0                      1                      0   \n",
              "2265158                       0                      0                      0   \n",
              "...                         ...                    ...                    ...   \n",
              "1294916                       0                      0                      0   \n",
              "4937499                       0                      0                      1   \n",
              "658411                        0                      0                      0   \n",
              "2931232                       0                      1                      0   \n",
              "608357                        0                      0                      0   \n",
              "\n",
              "         attackDescription_normal  label  Proto  \n",
              "2229571                         1      0  TCP    \n",
              "3279170                         1      0  TCP    \n",
              "2212238                         1      0  TCP    \n",
              "4756011                         0      1  TCP    \n",
              "2265158                         1      0  UDP    \n",
              "...                           ...    ...    ...  \n",
              "1294916                         1      0  TCP    \n",
              "4937499                         0      1  ICMP   \n",
              "658411                          1      0  UDP    \n",
              "2931232                         0      1  TCP    \n",
              "608357                          1      0  TCP    \n",
              "\n",
              "[1182542 rows x 34 columns]"
            ],
            "text/html": [
              "\n",
              "  <div id=\"df-5d1ca73d-69ca-4745-9fcc-8aca3a1cf350\" class=\"colab-df-container\">\n",
              "    <div>\n",
              "<style scoped>\n",
              "    .dataframe tbody tr th:only-of-type {\n",
              "        vertical-align: middle;\n",
              "    }\n",
              "\n",
              "    .dataframe tbody tr th {\n",
              "        vertical-align: top;\n",
              "    }\n",
              "\n",
              "    .dataframe thead th {\n",
              "        text-align: right;\n",
              "    }\n",
              "</style>\n",
              "<table border=\"1\" class=\"dataframe\">\n",
              "  <thead>\n",
              "    <tr style=\"text-align: right;\">\n",
              "      <th></th>\n",
              "      <th>Duration</th>\n",
              "      <th>Src Pt</th>\n",
              "      <th>Dst Pt</th>\n",
              "      <th>Packets</th>\n",
              "      <th>Bytes</th>\n",
              "      <th>Flows</th>\n",
              "      <th>Tos</th>\n",
              "      <th>Flags_......</th>\n",
              "      <th>Flags_.....F</th>\n",
              "      <th>Flags_....S.</th>\n",
              "      <th>Flags_...R..</th>\n",
              "      <th>Flags_...RS.</th>\n",
              "      <th>Flags_.A....</th>\n",
              "      <th>Flags_.A...F</th>\n",
              "      <th>Flags_.A..S.</th>\n",
              "      <th>Flags_.A..SF</th>\n",
              "      <th>Flags_.A.R..</th>\n",
              "      <th>Flags_.A.R.F</th>\n",
              "      <th>Flags_.A.RS.</th>\n",
              "      <th>Flags_.A.RSF</th>\n",
              "      <th>Flags_.AP...</th>\n",
              "      <th>Flags_.AP..F</th>\n",
              "      <th>Flags_.AP.S.</th>\n",
              "      <th>Flags_.AP.SF</th>\n",
              "      <th>Flags_.APR..</th>\n",
              "      <th>Flags_.APR.F</th>\n",
              "      <th>Flags_.APRS.</th>\n",
              "      <th>Flags_.APRSF</th>\n",
              "      <th>attackDescription_ICMP</th>\n",
              "      <th>attackDescription_TCP</th>\n",
              "      <th>attackDescription_UDP</th>\n",
              "      <th>attackDescription_normal</th>\n",
              "      <th>label</th>\n",
              "      <th>Proto</th>\n",
              "    </tr>\n",
              "  </thead>\n",
              "  <tbody>\n",
              "    <tr>\n",
              "      <th>2229571</th>\n",
              "      <td>0.000</td>\n",
              "      <td>443</td>\n",
              "      <td>60382.0</td>\n",
              "      <td>1</td>\n",
              "      <td>66</td>\n",
              "      <td>1</td>\n",
              "      <td>32</td>\n",
              "      <td>0</td>\n",
              "      <td>0</td>\n",
              "      <td>0</td>\n",
              "      <td>0</td>\n",
              "      <td>0</td>\n",
              "      <td>0</td>\n",
              "      <td>1</td>\n",
              "      <td>0</td>\n",
              "      <td>0</td>\n",
              "      <td>0</td>\n",
              "      <td>0</td>\n",
              "      <td>0</td>\n",
              "      <td>0</td>\n",
              "      <td>0</td>\n",
              "      <td>0</td>\n",
              "      <td>0</td>\n",
              "      <td>0</td>\n",
              "      <td>0</td>\n",
              "      <td>0</td>\n",
              "      <td>0</td>\n",
              "      <td>0</td>\n",
              "      <td>0</td>\n",
              "      <td>0</td>\n",
              "      <td>0</td>\n",
              "      <td>1</td>\n",
              "      <td>0</td>\n",
              "      <td>TCP</td>\n",
              "    </tr>\n",
              "    <tr>\n",
              "      <th>3279170</th>\n",
              "      <td>0.000</td>\n",
              "      <td>80</td>\n",
              "      <td>55252.0</td>\n",
              "      <td>1</td>\n",
              "      <td>66</td>\n",
              "      <td>1</td>\n",
              "      <td>0</td>\n",
              "      <td>0</td>\n",
              "      <td>0</td>\n",
              "      <td>0</td>\n",
              "      <td>0</td>\n",
              "      <td>0</td>\n",
              "      <td>1</td>\n",
              "      <td>0</td>\n",
              "      <td>0</td>\n",
              "      <td>0</td>\n",
              "      <td>0</td>\n",
              "      <td>0</td>\n",
              "      <td>0</td>\n",
              "      <td>0</td>\n",
              "      <td>0</td>\n",
              "      <td>0</td>\n",
              "      <td>0</td>\n",
              "      <td>0</td>\n",
              "      <td>0</td>\n",
              "      <td>0</td>\n",
              "      <td>0</td>\n",
              "      <td>0</td>\n",
              "      <td>0</td>\n",
              "      <td>0</td>\n",
              "      <td>0</td>\n",
              "      <td>1</td>\n",
              "      <td>0</td>\n",
              "      <td>TCP</td>\n",
              "    </tr>\n",
              "    <tr>\n",
              "      <th>2212238</th>\n",
              "      <td>0.021</td>\n",
              "      <td>443</td>\n",
              "      <td>54397.0</td>\n",
              "      <td>3</td>\n",
              "      <td>193</td>\n",
              "      <td>1</td>\n",
              "      <td>0</td>\n",
              "      <td>0</td>\n",
              "      <td>0</td>\n",
              "      <td>0</td>\n",
              "      <td>0</td>\n",
              "      <td>0</td>\n",
              "      <td>0</td>\n",
              "      <td>0</td>\n",
              "      <td>0</td>\n",
              "      <td>0</td>\n",
              "      <td>0</td>\n",
              "      <td>0</td>\n",
              "      <td>0</td>\n",
              "      <td>0</td>\n",
              "      <td>0</td>\n",
              "      <td>1</td>\n",
              "      <td>0</td>\n",
              "      <td>0</td>\n",
              "      <td>0</td>\n",
              "      <td>0</td>\n",
              "      <td>0</td>\n",
              "      <td>0</td>\n",
              "      <td>0</td>\n",
              "      <td>0</td>\n",
              "      <td>0</td>\n",
              "      <td>1</td>\n",
              "      <td>0</td>\n",
              "      <td>TCP</td>\n",
              "    </tr>\n",
              "    <tr>\n",
              "      <th>4756011</th>\n",
              "      <td>0.000</td>\n",
              "      <td>787</td>\n",
              "      <td>50342.0</td>\n",
              "      <td>1</td>\n",
              "      <td>54</td>\n",
              "      <td>1</td>\n",
              "      <td>0</td>\n",
              "      <td>0</td>\n",
              "      <td>0</td>\n",
              "      <td>0</td>\n",
              "      <td>0</td>\n",
              "      <td>0</td>\n",
              "      <td>0</td>\n",
              "      <td>0</td>\n",
              "      <td>0</td>\n",
              "      <td>0</td>\n",
              "      <td>1</td>\n",
              "      <td>0</td>\n",
              "      <td>0</td>\n",
              "      <td>0</td>\n",
              "      <td>0</td>\n",
              "      <td>0</td>\n",
              "      <td>0</td>\n",
              "      <td>0</td>\n",
              "      <td>0</td>\n",
              "      <td>0</td>\n",
              "      <td>0</td>\n",
              "      <td>0</td>\n",
              "      <td>0</td>\n",
              "      <td>1</td>\n",
              "      <td>0</td>\n",
              "      <td>0</td>\n",
              "      <td>1</td>\n",
              "      <td>TCP</td>\n",
              "    </tr>\n",
              "    <tr>\n",
              "      <th>2265158</th>\n",
              "      <td>0.045</td>\n",
              "      <td>53</td>\n",
              "      <td>36795.0</td>\n",
              "      <td>2</td>\n",
              "      <td>380</td>\n",
              "      <td>1</td>\n",
              "      <td>0</td>\n",
              "      <td>1</td>\n",
              "      <td>0</td>\n",
              "      <td>0</td>\n",
              "      <td>0</td>\n",
              "      <td>0</td>\n",
              "      <td>0</td>\n",
              "      <td>0</td>\n",
              "      <td>0</td>\n",
              "      <td>0</td>\n",
              "      <td>0</td>\n",
              "      <td>0</td>\n",
              "      <td>0</td>\n",
              "      <td>0</td>\n",
              "      <td>0</td>\n",
              "      <td>0</td>\n",
              "      <td>0</td>\n",
              "      <td>0</td>\n",
              "      <td>0</td>\n",
              "      <td>0</td>\n",
              "      <td>0</td>\n",
              "      <td>0</td>\n",
              "      <td>0</td>\n",
              "      <td>0</td>\n",
              "      <td>0</td>\n",
              "      <td>1</td>\n",
              "      <td>0</td>\n",
              "      <td>UDP</td>\n",
              "    </tr>\n",
              "    <tr>\n",
              "      <th>...</th>\n",
              "      <td>...</td>\n",
              "      <td>...</td>\n",
              "      <td>...</td>\n",
              "      <td>...</td>\n",
              "      <td>...</td>\n",
              "      <td>...</td>\n",
              "      <td>...</td>\n",
              "      <td>...</td>\n",
              "      <td>...</td>\n",
              "      <td>...</td>\n",
              "      <td>...</td>\n",
              "      <td>...</td>\n",
              "      <td>...</td>\n",
              "      <td>...</td>\n",
              "      <td>...</td>\n",
              "      <td>...</td>\n",
              "      <td>...</td>\n",
              "      <td>...</td>\n",
              "      <td>...</td>\n",
              "      <td>...</td>\n",
              "      <td>...</td>\n",
              "      <td>...</td>\n",
              "      <td>...</td>\n",
              "      <td>...</td>\n",
              "      <td>...</td>\n",
              "      <td>...</td>\n",
              "      <td>...</td>\n",
              "      <td>...</td>\n",
              "      <td>...</td>\n",
              "      <td>...</td>\n",
              "      <td>...</td>\n",
              "      <td>...</td>\n",
              "      <td>...</td>\n",
              "      <td>...</td>\n",
              "    </tr>\n",
              "    <tr>\n",
              "      <th>1294916</th>\n",
              "      <td>0.026</td>\n",
              "      <td>62375</td>\n",
              "      <td>443.0</td>\n",
              "      <td>4</td>\n",
              "      <td>568</td>\n",
              "      <td>1</td>\n",
              "      <td>0</td>\n",
              "      <td>0</td>\n",
              "      <td>0</td>\n",
              "      <td>0</td>\n",
              "      <td>0</td>\n",
              "      <td>0</td>\n",
              "      <td>0</td>\n",
              "      <td>0</td>\n",
              "      <td>0</td>\n",
              "      <td>0</td>\n",
              "      <td>0</td>\n",
              "      <td>0</td>\n",
              "      <td>0</td>\n",
              "      <td>0</td>\n",
              "      <td>1</td>\n",
              "      <td>0</td>\n",
              "      <td>0</td>\n",
              "      <td>0</td>\n",
              "      <td>0</td>\n",
              "      <td>0</td>\n",
              "      <td>0</td>\n",
              "      <td>0</td>\n",
              "      <td>0</td>\n",
              "      <td>0</td>\n",
              "      <td>0</td>\n",
              "      <td>1</td>\n",
              "      <td>0</td>\n",
              "      <td>TCP</td>\n",
              "    </tr>\n",
              "    <tr>\n",
              "      <th>4937499</th>\n",
              "      <td>6.410</td>\n",
              "      <td>0</td>\n",
              "      <td>3.3</td>\n",
              "      <td>5</td>\n",
              "      <td>350</td>\n",
              "      <td>1</td>\n",
              "      <td>192</td>\n",
              "      <td>1</td>\n",
              "      <td>0</td>\n",
              "      <td>0</td>\n",
              "      <td>0</td>\n",
              "      <td>0</td>\n",
              "      <td>0</td>\n",
              "      <td>0</td>\n",
              "      <td>0</td>\n",
              "      <td>0</td>\n",
              "      <td>0</td>\n",
              "      <td>0</td>\n",
              "      <td>0</td>\n",
              "      <td>0</td>\n",
              "      <td>0</td>\n",
              "      <td>0</td>\n",
              "      <td>0</td>\n",
              "      <td>0</td>\n",
              "      <td>0</td>\n",
              "      <td>0</td>\n",
              "      <td>0</td>\n",
              "      <td>0</td>\n",
              "      <td>0</td>\n",
              "      <td>0</td>\n",
              "      <td>1</td>\n",
              "      <td>0</td>\n",
              "      <td>1</td>\n",
              "      <td>ICMP</td>\n",
              "    </tr>\n",
              "    <tr>\n",
              "      <th>658411</th>\n",
              "      <td>0.000</td>\n",
              "      <td>53</td>\n",
              "      <td>57615.0</td>\n",
              "      <td>1</td>\n",
              "      <td>91</td>\n",
              "      <td>1</td>\n",
              "      <td>0</td>\n",
              "      <td>1</td>\n",
              "      <td>0</td>\n",
              "      <td>0</td>\n",
              "      <td>0</td>\n",
              "      <td>0</td>\n",
              "      <td>0</td>\n",
              "      <td>0</td>\n",
              "      <td>0</td>\n",
              "      <td>0</td>\n",
              "      <td>0</td>\n",
              "      <td>0</td>\n",
              "      <td>0</td>\n",
              "      <td>0</td>\n",
              "      <td>0</td>\n",
              "      <td>0</td>\n",
              "      <td>0</td>\n",
              "      <td>0</td>\n",
              "      <td>0</td>\n",
              "      <td>0</td>\n",
              "      <td>0</td>\n",
              "      <td>0</td>\n",
              "      <td>0</td>\n",
              "      <td>0</td>\n",
              "      <td>0</td>\n",
              "      <td>1</td>\n",
              "      <td>0</td>\n",
              "      <td>UDP</td>\n",
              "    </tr>\n",
              "    <tr>\n",
              "      <th>2931232</th>\n",
              "      <td>0.000</td>\n",
              "      <td>46755</td>\n",
              "      <td>4129.0</td>\n",
              "      <td>1</td>\n",
              "      <td>58</td>\n",
              "      <td>1</td>\n",
              "      <td>0</td>\n",
              "      <td>0</td>\n",
              "      <td>0</td>\n",
              "      <td>1</td>\n",
              "      <td>0</td>\n",
              "      <td>0</td>\n",
              "      <td>0</td>\n",
              "      <td>0</td>\n",
              "      <td>0</td>\n",
              "      <td>0</td>\n",
              "      <td>0</td>\n",
              "      <td>0</td>\n",
              "      <td>0</td>\n",
              "      <td>0</td>\n",
              "      <td>0</td>\n",
              "      <td>0</td>\n",
              "      <td>0</td>\n",
              "      <td>0</td>\n",
              "      <td>0</td>\n",
              "      <td>0</td>\n",
              "      <td>0</td>\n",
              "      <td>0</td>\n",
              "      <td>0</td>\n",
              "      <td>1</td>\n",
              "      <td>0</td>\n",
              "      <td>0</td>\n",
              "      <td>1</td>\n",
              "      <td>TCP</td>\n",
              "    </tr>\n",
              "    <tr>\n",
              "      <th>608357</th>\n",
              "      <td>0.000</td>\n",
              "      <td>33411</td>\n",
              "      <td>443.0</td>\n",
              "      <td>1</td>\n",
              "      <td>66</td>\n",
              "      <td>1</td>\n",
              "      <td>0</td>\n",
              "      <td>0</td>\n",
              "      <td>0</td>\n",
              "      <td>0</td>\n",
              "      <td>0</td>\n",
              "      <td>0</td>\n",
              "      <td>1</td>\n",
              "      <td>0</td>\n",
              "      <td>0</td>\n",
              "      <td>0</td>\n",
              "      <td>0</td>\n",
              "      <td>0</td>\n",
              "      <td>0</td>\n",
              "      <td>0</td>\n",
              "      <td>0</td>\n",
              "      <td>0</td>\n",
              "      <td>0</td>\n",
              "      <td>0</td>\n",
              "      <td>0</td>\n",
              "      <td>0</td>\n",
              "      <td>0</td>\n",
              "      <td>0</td>\n",
              "      <td>0</td>\n",
              "      <td>0</td>\n",
              "      <td>0</td>\n",
              "      <td>1</td>\n",
              "      <td>0</td>\n",
              "      <td>TCP</td>\n",
              "    </tr>\n",
              "  </tbody>\n",
              "</table>\n",
              "<p>1182542 rows × 34 columns</p>\n",
              "</div>\n",
              "    <div class=\"colab-df-buttons\">\n",
              "\n",
              "  <div class=\"colab-df-container\">\n",
              "    <button class=\"colab-df-convert\" onclick=\"convertToInteractive('df-5d1ca73d-69ca-4745-9fcc-8aca3a1cf350')\"\n",
              "            title=\"Convert this dataframe to an interactive table.\"\n",
              "            style=\"display:none;\">\n",
              "\n",
              "  <svg xmlns=\"http://www.w3.org/2000/svg\" height=\"24px\" viewBox=\"0 -960 960 960\">\n",
              "    <path d=\"M120-120v-720h720v720H120Zm60-500h600v-160H180v160Zm220 220h160v-160H400v160Zm0 220h160v-160H400v160ZM180-400h160v-160H180v160Zm440 0h160v-160H620v160ZM180-180h160v-160H180v160Zm440 0h160v-160H620v160Z\"/>\n",
              "  </svg>\n",
              "    </button>\n",
              "\n",
              "  <style>\n",
              "    .colab-df-container {\n",
              "      display:flex;\n",
              "      gap: 12px;\n",
              "    }\n",
              "\n",
              "    .colab-df-convert {\n",
              "      background-color: #E8F0FE;\n",
              "      border: none;\n",
              "      border-radius: 50%;\n",
              "      cursor: pointer;\n",
              "      display: none;\n",
              "      fill: #1967D2;\n",
              "      height: 32px;\n",
              "      padding: 0 0 0 0;\n",
              "      width: 32px;\n",
              "    }\n",
              "\n",
              "    .colab-df-convert:hover {\n",
              "      background-color: #E2EBFA;\n",
              "      box-shadow: 0px 1px 2px rgba(60, 64, 67, 0.3), 0px 1px 3px 1px rgba(60, 64, 67, 0.15);\n",
              "      fill: #174EA6;\n",
              "    }\n",
              "\n",
              "    .colab-df-buttons div {\n",
              "      margin-bottom: 4px;\n",
              "    }\n",
              "\n",
              "    [theme=dark] .colab-df-convert {\n",
              "      background-color: #3B4455;\n",
              "      fill: #D2E3FC;\n",
              "    }\n",
              "\n",
              "    [theme=dark] .colab-df-convert:hover {\n",
              "      background-color: #434B5C;\n",
              "      box-shadow: 0px 1px 3px 1px rgba(0, 0, 0, 0.15);\n",
              "      filter: drop-shadow(0px 1px 2px rgba(0, 0, 0, 0.3));\n",
              "      fill: #FFFFFF;\n",
              "    }\n",
              "  </style>\n",
              "\n",
              "    <script>\n",
              "      const buttonEl =\n",
              "        document.querySelector('#df-5d1ca73d-69ca-4745-9fcc-8aca3a1cf350 button.colab-df-convert');\n",
              "      buttonEl.style.display =\n",
              "        google.colab.kernel.accessAllowed ? 'block' : 'none';\n",
              "\n",
              "      async function convertToInteractive(key) {\n",
              "        const element = document.querySelector('#df-5d1ca73d-69ca-4745-9fcc-8aca3a1cf350');\n",
              "        const dataTable =\n",
              "          await google.colab.kernel.invokeFunction('convertToInteractive',\n",
              "                                                    [key], {});\n",
              "        if (!dataTable) return;\n",
              "\n",
              "        const docLinkHtml = 'Like what you see? Visit the ' +\n",
              "          '<a target=\"_blank\" href=https://colab.research.google.com/notebooks/data_table.ipynb>data table notebook</a>'\n",
              "          + ' to learn more about interactive tables.';\n",
              "        element.innerHTML = '';\n",
              "        dataTable['output_type'] = 'display_data';\n",
              "        await google.colab.output.renderOutput(dataTable, element);\n",
              "        const docLink = document.createElement('div');\n",
              "        docLink.innerHTML = docLinkHtml;\n",
              "        element.appendChild(docLink);\n",
              "      }\n",
              "    </script>\n",
              "  </div>\n",
              "\n",
              "\n",
              "<div id=\"df-2c54222b-fd19-4ba4-975c-e3707e225820\">\n",
              "  <button class=\"colab-df-quickchart\" onclick=\"quickchart('df-2c54222b-fd19-4ba4-975c-e3707e225820')\"\n",
              "            title=\"Suggest charts.\"\n",
              "            style=\"display:none;\">\n",
              "\n",
              "<svg xmlns=\"http://www.w3.org/2000/svg\" height=\"24px\"viewBox=\"0 0 24 24\"\n",
              "     width=\"24px\">\n",
              "    <g>\n",
              "        <path d=\"M19 3H5c-1.1 0-2 .9-2 2v14c0 1.1.9 2 2 2h14c1.1 0 2-.9 2-2V5c0-1.1-.9-2-2-2zM9 17H7v-7h2v7zm4 0h-2V7h2v10zm4 0h-2v-4h2v4z\"/>\n",
              "    </g>\n",
              "</svg>\n",
              "  </button>\n",
              "\n",
              "<style>\n",
              "  .colab-df-quickchart {\n",
              "      --bg-color: #E8F0FE;\n",
              "      --fill-color: #1967D2;\n",
              "      --hover-bg-color: #E2EBFA;\n",
              "      --hover-fill-color: #174EA6;\n",
              "      --disabled-fill-color: #AAA;\n",
              "      --disabled-bg-color: #DDD;\n",
              "  }\n",
              "\n",
              "  [theme=dark] .colab-df-quickchart {\n",
              "      --bg-color: #3B4455;\n",
              "      --fill-color: #D2E3FC;\n",
              "      --hover-bg-color: #434B5C;\n",
              "      --hover-fill-color: #FFFFFF;\n",
              "      --disabled-bg-color: #3B4455;\n",
              "      --disabled-fill-color: #666;\n",
              "  }\n",
              "\n",
              "  .colab-df-quickchart {\n",
              "    background-color: var(--bg-color);\n",
              "    border: none;\n",
              "    border-radius: 50%;\n",
              "    cursor: pointer;\n",
              "    display: none;\n",
              "    fill: var(--fill-color);\n",
              "    height: 32px;\n",
              "    padding: 0;\n",
              "    width: 32px;\n",
              "  }\n",
              "\n",
              "  .colab-df-quickchart:hover {\n",
              "    background-color: var(--hover-bg-color);\n",
              "    box-shadow: 0 1px 2px rgba(60, 64, 67, 0.3), 0 1px 3px 1px rgba(60, 64, 67, 0.15);\n",
              "    fill: var(--button-hover-fill-color);\n",
              "  }\n",
              "\n",
              "  .colab-df-quickchart-complete:disabled,\n",
              "  .colab-df-quickchart-complete:disabled:hover {\n",
              "    background-color: var(--disabled-bg-color);\n",
              "    fill: var(--disabled-fill-color);\n",
              "    box-shadow: none;\n",
              "  }\n",
              "\n",
              "  .colab-df-spinner {\n",
              "    border: 2px solid var(--fill-color);\n",
              "    border-color: transparent;\n",
              "    border-bottom-color: var(--fill-color);\n",
              "    animation:\n",
              "      spin 1s steps(1) infinite;\n",
              "  }\n",
              "\n",
              "  @keyframes spin {\n",
              "    0% {\n",
              "      border-color: transparent;\n",
              "      border-bottom-color: var(--fill-color);\n",
              "      border-left-color: var(--fill-color);\n",
              "    }\n",
              "    20% {\n",
              "      border-color: transparent;\n",
              "      border-left-color: var(--fill-color);\n",
              "      border-top-color: var(--fill-color);\n",
              "    }\n",
              "    30% {\n",
              "      border-color: transparent;\n",
              "      border-left-color: var(--fill-color);\n",
              "      border-top-color: var(--fill-color);\n",
              "      border-right-color: var(--fill-color);\n",
              "    }\n",
              "    40% {\n",
              "      border-color: transparent;\n",
              "      border-right-color: var(--fill-color);\n",
              "      border-top-color: var(--fill-color);\n",
              "    }\n",
              "    60% {\n",
              "      border-color: transparent;\n",
              "      border-right-color: var(--fill-color);\n",
              "    }\n",
              "    80% {\n",
              "      border-color: transparent;\n",
              "      border-right-color: var(--fill-color);\n",
              "      border-bottom-color: var(--fill-color);\n",
              "    }\n",
              "    90% {\n",
              "      border-color: transparent;\n",
              "      border-bottom-color: var(--fill-color);\n",
              "    }\n",
              "  }\n",
              "</style>\n",
              "\n",
              "  <script>\n",
              "    async function quickchart(key) {\n",
              "      const quickchartButtonEl =\n",
              "        document.querySelector('#' + key + ' button');\n",
              "      quickchartButtonEl.disabled = true;  // To prevent multiple clicks.\n",
              "      quickchartButtonEl.classList.add('colab-df-spinner');\n",
              "      try {\n",
              "        const charts = await google.colab.kernel.invokeFunction(\n",
              "            'suggestCharts', [key], {});\n",
              "      } catch (error) {\n",
              "        console.error('Error during call to suggestCharts:', error);\n",
              "      }\n",
              "      quickchartButtonEl.classList.remove('colab-df-spinner');\n",
              "      quickchartButtonEl.classList.add('colab-df-quickchart-complete');\n",
              "    }\n",
              "    (() => {\n",
              "      let quickchartButtonEl =\n",
              "        document.querySelector('#df-2c54222b-fd19-4ba4-975c-e3707e225820 button');\n",
              "      quickchartButtonEl.style.display =\n",
              "        google.colab.kernel.accessAllowed ? 'block' : 'none';\n",
              "    })();\n",
              "  </script>\n",
              "</div>\n",
              "    </div>\n",
              "  </div>\n"
            ]
          },
          "metadata": {},
          "execution_count": 32
        }
      ],
      "source": [
        "train, test = train_test_split(final_df, test_size=0.3, random_state=42)\n",
        "train"
      ]
    },
    {
      "cell_type": "code",
      "execution_count": 33,
      "metadata": {
        "colab": {
          "base_uri": "https://localhost:8080/"
        },
        "execution": {
          "iopub.execute_input": "2023-09-19T10:48:46.415751Z",
          "iopub.status.busy": "2023-09-19T10:48:46.415438Z",
          "iopub.status.idle": "2023-09-19T10:48:46.507629Z",
          "shell.execute_reply": "2023-09-19T10:48:46.506346Z",
          "shell.execute_reply.started": "2023-09-19T10:48:46.415725Z"
        },
        "id": "CSRFhttRX2YB",
        "outputId": "493cd466-2636-4642-bdf2-bf51ef7ca5cd",
        "trusted": true
      },
      "outputs": [
        {
          "output_type": "execute_result",
          "data": {
            "text/plain": [
              "(716847, 34)"
            ]
          },
          "metadata": {},
          "execution_count": 33
        }
      ],
      "source": [
        "# @title drop tcp of train\n",
        "\n",
        "train = train[(train['attackDescription_TCP'] != 1)]\n",
        "train.shape"
      ]
    },
    {
      "cell_type": "code",
      "execution_count": 34,
      "metadata": {
        "colab": {
          "base_uri": "https://localhost:8080/"
        },
        "execution": {
          "iopub.execute_input": "2023-09-19T10:48:46.509488Z",
          "iopub.status.busy": "2023-09-19T10:48:46.509052Z",
          "iopub.status.idle": "2023-09-19T10:48:46.582409Z",
          "shell.execute_reply": "2023-09-19T10:48:46.581192Z",
          "shell.execute_reply.started": "2023-09-19T10:48:46.509452Z"
        },
        "id": "mkK9WWRBcJod",
        "outputId": "6fcf7b93-da68-4d22-bdd7-4a130f93a6be",
        "trusted": true
      },
      "outputs": [
        {
          "output_type": "execute_result",
          "data": {
            "text/plain": [
              "array(['TCP  ', 'UDP  ', 'ICMP ', 'IGMP '], dtype=object)"
            ]
          },
          "metadata": {},
          "execution_count": 34
        }
      ],
      "source": [
        "train[\"Proto\"].unique()"
      ]
    },
    {
      "cell_type": "code",
      "execution_count": 35,
      "metadata": {
        "colab": {
          "base_uri": "https://localhost:8080/"
        },
        "execution": {
          "iopub.execute_input": "2023-09-19T10:48:46.584152Z",
          "iopub.status.busy": "2023-09-19T10:48:46.583814Z",
          "iopub.status.idle": "2023-09-19T10:48:46.810322Z",
          "shell.execute_reply": "2023-09-19T10:48:46.809095Z",
          "shell.execute_reply.started": "2023-09-19T10:48:46.584123Z"
        },
        "id": "YNNsVrprX8ea",
        "outputId": "85bd2424-8a70-4266-a9db-f11c248f425d",
        "trusted": true
      },
      "outputs": [
        {
          "output_type": "execute_result",
          "data": {
            "text/plain": [
              "(714901, 34)"
            ]
          },
          "metadata": {},
          "execution_count": 35
        }
      ],
      "source": [
        "# @title drop tcp protocol\n",
        "\n",
        "train = train.loc[~((train[\"Proto\"] == 'TCP  ') & (train[\"label\"] == 1))]\n",
        "train.shape"
      ]
    },
    {
      "cell_type": "code",
      "execution_count": 36,
      "metadata": {
        "colab": {
          "base_uri": "https://localhost:8080/",
          "height": 461
        },
        "execution": {
          "iopub.execute_input": "2023-09-19T10:48:46.812052Z",
          "iopub.status.busy": "2023-09-19T10:48:46.811683Z",
          "iopub.status.idle": "2023-09-19T10:48:46.953053Z",
          "shell.execute_reply": "2023-09-19T10:48:46.951935Z",
          "shell.execute_reply.started": "2023-09-19T10:48:46.812022Z"
        },
        "id": "OI4jhcIxX_9F",
        "outputId": "3f678e0d-2c72-4b66-d4fe-c61fea5d9c00",
        "trusted": true
      },
      "outputs": [
        {
          "output_type": "execute_result",
          "data": {
            "text/plain": [
              "        Duration  Src Pt   Dst Pt  Packets  Bytes  Flows  Tos  Flags_......  \\\n",
              "0          0.000     443  60382.0        1     66      1   32             0   \n",
              "1          0.000      80  55252.0        1     66      1    0             0   \n",
              "2          0.021     443  54397.0        3    193      1    0             0   \n",
              "3          0.045      53  36795.0        2    380      1    0             1   \n",
              "4          0.000   52253     80.0        1     66      1    0             0   \n",
              "...          ...     ...      ...      ...    ...    ...  ...           ...   \n",
              "714896     0.000      80  59642.0        1     66      1   32             0   \n",
              "714897     0.026   62375    443.0        4    568      1    0             0   \n",
              "714898     6.410       0      3.3        5    350      1  192             1   \n",
              "714899     0.000      53  57615.0        1     91      1    0             1   \n",
              "714900     0.000   33411    443.0        1     66      1    0             0   \n",
              "\n",
              "        Flags_.....F  Flags_....S.  Flags_...R..  Flags_...RS.  Flags_.A....  \\\n",
              "0                  0             0             0             0             0   \n",
              "1                  0             0             0             0             1   \n",
              "2                  0             0             0             0             0   \n",
              "3                  0             0             0             0             0   \n",
              "4                  0             1             0             0             0   \n",
              "...              ...           ...           ...           ...           ...   \n",
              "714896             0             0             0             0             1   \n",
              "714897             0             0             0             0             0   \n",
              "714898             0             0             0             0             0   \n",
              "714899             0             0             0             0             0   \n",
              "714900             0             0             0             0             1   \n",
              "\n",
              "        Flags_.A...F  Flags_.A..S.  Flags_.A..SF  Flags_.A.R..  Flags_.A.R.F  \\\n",
              "0                  1             0             0             0             0   \n",
              "1                  0             0             0             0             0   \n",
              "2                  0             0             0             0             0   \n",
              "3                  0             0             0             0             0   \n",
              "4                  0             0             0             0             0   \n",
              "...              ...           ...           ...           ...           ...   \n",
              "714896             0             0             0             0             0   \n",
              "714897             0             0             0             0             0   \n",
              "714898             0             0             0             0             0   \n",
              "714899             0             0             0             0             0   \n",
              "714900             0             0             0             0             0   \n",
              "\n",
              "        Flags_.A.RS.  Flags_.A.RSF  Flags_.AP...  Flags_.AP..F  Flags_.AP.S.  \\\n",
              "0                  0             0             0             0             0   \n",
              "1                  0             0             0             0             0   \n",
              "2                  0             0             0             1             0   \n",
              "3                  0             0             0             0             0   \n",
              "4                  0             0             0             0             0   \n",
              "...              ...           ...           ...           ...           ...   \n",
              "714896             0             0             0             0             0   \n",
              "714897             0             0             1             0             0   \n",
              "714898             0             0             0             0             0   \n",
              "714899             0             0             0             0             0   \n",
              "714900             0             0             0             0             0   \n",
              "\n",
              "        Flags_.AP.SF  Flags_.APR..  Flags_.APR.F  Flags_.APRS.  Flags_.APRSF  \\\n",
              "0                  0             0             0             0             0   \n",
              "1                  0             0             0             0             0   \n",
              "2                  0             0             0             0             0   \n",
              "3                  0             0             0             0             0   \n",
              "4                  0             0             0             0             0   \n",
              "...              ...           ...           ...           ...           ...   \n",
              "714896             0             0             0             0             0   \n",
              "714897             0             0             0             0             0   \n",
              "714898             0             0             0             0             0   \n",
              "714899             0             0             0             0             0   \n",
              "714900             0             0             0             0             0   \n",
              "\n",
              "        attackDescription_ICMP  attackDescription_TCP  attackDescription_UDP  \\\n",
              "0                            0                      0                      0   \n",
              "1                            0                      0                      0   \n",
              "2                            0                      0                      0   \n",
              "3                            0                      0                      0   \n",
              "4                            0                      0                      0   \n",
              "...                        ...                    ...                    ...   \n",
              "714896                       0                      0                      0   \n",
              "714897                       0                      0                      0   \n",
              "714898                       0                      0                      1   \n",
              "714899                       0                      0                      0   \n",
              "714900                       0                      0                      0   \n",
              "\n",
              "        attackDescription_normal  label  Proto  \n",
              "0                              1      0  TCP    \n",
              "1                              1      0  TCP    \n",
              "2                              1      0  TCP    \n",
              "3                              1      0  UDP    \n",
              "4                              1      0  TCP    \n",
              "...                          ...    ...    ...  \n",
              "714896                         1      0  TCP    \n",
              "714897                         1      0  TCP    \n",
              "714898                         0      1  ICMP   \n",
              "714899                         1      0  UDP    \n",
              "714900                         1      0  TCP    \n",
              "\n",
              "[714901 rows x 34 columns]"
            ],
            "text/html": [
              "\n",
              "  <div id=\"df-7164dd43-d15b-46e6-a687-a4149873e3dd\" class=\"colab-df-container\">\n",
              "    <div>\n",
              "<style scoped>\n",
              "    .dataframe tbody tr th:only-of-type {\n",
              "        vertical-align: middle;\n",
              "    }\n",
              "\n",
              "    .dataframe tbody tr th {\n",
              "        vertical-align: top;\n",
              "    }\n",
              "\n",
              "    .dataframe thead th {\n",
              "        text-align: right;\n",
              "    }\n",
              "</style>\n",
              "<table border=\"1\" class=\"dataframe\">\n",
              "  <thead>\n",
              "    <tr style=\"text-align: right;\">\n",
              "      <th></th>\n",
              "      <th>Duration</th>\n",
              "      <th>Src Pt</th>\n",
              "      <th>Dst Pt</th>\n",
              "      <th>Packets</th>\n",
              "      <th>Bytes</th>\n",
              "      <th>Flows</th>\n",
              "      <th>Tos</th>\n",
              "      <th>Flags_......</th>\n",
              "      <th>Flags_.....F</th>\n",
              "      <th>Flags_....S.</th>\n",
              "      <th>Flags_...R..</th>\n",
              "      <th>Flags_...RS.</th>\n",
              "      <th>Flags_.A....</th>\n",
              "      <th>Flags_.A...F</th>\n",
              "      <th>Flags_.A..S.</th>\n",
              "      <th>Flags_.A..SF</th>\n",
              "      <th>Flags_.A.R..</th>\n",
              "      <th>Flags_.A.R.F</th>\n",
              "      <th>Flags_.A.RS.</th>\n",
              "      <th>Flags_.A.RSF</th>\n",
              "      <th>Flags_.AP...</th>\n",
              "      <th>Flags_.AP..F</th>\n",
              "      <th>Flags_.AP.S.</th>\n",
              "      <th>Flags_.AP.SF</th>\n",
              "      <th>Flags_.APR..</th>\n",
              "      <th>Flags_.APR.F</th>\n",
              "      <th>Flags_.APRS.</th>\n",
              "      <th>Flags_.APRSF</th>\n",
              "      <th>attackDescription_ICMP</th>\n",
              "      <th>attackDescription_TCP</th>\n",
              "      <th>attackDescription_UDP</th>\n",
              "      <th>attackDescription_normal</th>\n",
              "      <th>label</th>\n",
              "      <th>Proto</th>\n",
              "    </tr>\n",
              "  </thead>\n",
              "  <tbody>\n",
              "    <tr>\n",
              "      <th>0</th>\n",
              "      <td>0.000</td>\n",
              "      <td>443</td>\n",
              "      <td>60382.0</td>\n",
              "      <td>1</td>\n",
              "      <td>66</td>\n",
              "      <td>1</td>\n",
              "      <td>32</td>\n",
              "      <td>0</td>\n",
              "      <td>0</td>\n",
              "      <td>0</td>\n",
              "      <td>0</td>\n",
              "      <td>0</td>\n",
              "      <td>0</td>\n",
              "      <td>1</td>\n",
              "      <td>0</td>\n",
              "      <td>0</td>\n",
              "      <td>0</td>\n",
              "      <td>0</td>\n",
              "      <td>0</td>\n",
              "      <td>0</td>\n",
              "      <td>0</td>\n",
              "      <td>0</td>\n",
              "      <td>0</td>\n",
              "      <td>0</td>\n",
              "      <td>0</td>\n",
              "      <td>0</td>\n",
              "      <td>0</td>\n",
              "      <td>0</td>\n",
              "      <td>0</td>\n",
              "      <td>0</td>\n",
              "      <td>0</td>\n",
              "      <td>1</td>\n",
              "      <td>0</td>\n",
              "      <td>TCP</td>\n",
              "    </tr>\n",
              "    <tr>\n",
              "      <th>1</th>\n",
              "      <td>0.000</td>\n",
              "      <td>80</td>\n",
              "      <td>55252.0</td>\n",
              "      <td>1</td>\n",
              "      <td>66</td>\n",
              "      <td>1</td>\n",
              "      <td>0</td>\n",
              "      <td>0</td>\n",
              "      <td>0</td>\n",
              "      <td>0</td>\n",
              "      <td>0</td>\n",
              "      <td>0</td>\n",
              "      <td>1</td>\n",
              "      <td>0</td>\n",
              "      <td>0</td>\n",
              "      <td>0</td>\n",
              "      <td>0</td>\n",
              "      <td>0</td>\n",
              "      <td>0</td>\n",
              "      <td>0</td>\n",
              "      <td>0</td>\n",
              "      <td>0</td>\n",
              "      <td>0</td>\n",
              "      <td>0</td>\n",
              "      <td>0</td>\n",
              "      <td>0</td>\n",
              "      <td>0</td>\n",
              "      <td>0</td>\n",
              "      <td>0</td>\n",
              "      <td>0</td>\n",
              "      <td>0</td>\n",
              "      <td>1</td>\n",
              "      <td>0</td>\n",
              "      <td>TCP</td>\n",
              "    </tr>\n",
              "    <tr>\n",
              "      <th>2</th>\n",
              "      <td>0.021</td>\n",
              "      <td>443</td>\n",
              "      <td>54397.0</td>\n",
              "      <td>3</td>\n",
              "      <td>193</td>\n",
              "      <td>1</td>\n",
              "      <td>0</td>\n",
              "      <td>0</td>\n",
              "      <td>0</td>\n",
              "      <td>0</td>\n",
              "      <td>0</td>\n",
              "      <td>0</td>\n",
              "      <td>0</td>\n",
              "      <td>0</td>\n",
              "      <td>0</td>\n",
              "      <td>0</td>\n",
              "      <td>0</td>\n",
              "      <td>0</td>\n",
              "      <td>0</td>\n",
              "      <td>0</td>\n",
              "      <td>0</td>\n",
              "      <td>1</td>\n",
              "      <td>0</td>\n",
              "      <td>0</td>\n",
              "      <td>0</td>\n",
              "      <td>0</td>\n",
              "      <td>0</td>\n",
              "      <td>0</td>\n",
              "      <td>0</td>\n",
              "      <td>0</td>\n",
              "      <td>0</td>\n",
              "      <td>1</td>\n",
              "      <td>0</td>\n",
              "      <td>TCP</td>\n",
              "    </tr>\n",
              "    <tr>\n",
              "      <th>3</th>\n",
              "      <td>0.045</td>\n",
              "      <td>53</td>\n",
              "      <td>36795.0</td>\n",
              "      <td>2</td>\n",
              "      <td>380</td>\n",
              "      <td>1</td>\n",
              "      <td>0</td>\n",
              "      <td>1</td>\n",
              "      <td>0</td>\n",
              "      <td>0</td>\n",
              "      <td>0</td>\n",
              "      <td>0</td>\n",
              "      <td>0</td>\n",
              "      <td>0</td>\n",
              "      <td>0</td>\n",
              "      <td>0</td>\n",
              "      <td>0</td>\n",
              "      <td>0</td>\n",
              "      <td>0</td>\n",
              "      <td>0</td>\n",
              "      <td>0</td>\n",
              "      <td>0</td>\n",
              "      <td>0</td>\n",
              "      <td>0</td>\n",
              "      <td>0</td>\n",
              "      <td>0</td>\n",
              "      <td>0</td>\n",
              "      <td>0</td>\n",
              "      <td>0</td>\n",
              "      <td>0</td>\n",
              "      <td>0</td>\n",
              "      <td>1</td>\n",
              "      <td>0</td>\n",
              "      <td>UDP</td>\n",
              "    </tr>\n",
              "    <tr>\n",
              "      <th>4</th>\n",
              "      <td>0.000</td>\n",
              "      <td>52253</td>\n",
              "      <td>80.0</td>\n",
              "      <td>1</td>\n",
              "      <td>66</td>\n",
              "      <td>1</td>\n",
              "      <td>0</td>\n",
              "      <td>0</td>\n",
              "      <td>0</td>\n",
              "      <td>1</td>\n",
              "      <td>0</td>\n",
              "      <td>0</td>\n",
              "      <td>0</td>\n",
              "      <td>0</td>\n",
              "      <td>0</td>\n",
              "      <td>0</td>\n",
              "      <td>0</td>\n",
              "      <td>0</td>\n",
              "      <td>0</td>\n",
              "      <td>0</td>\n",
              "      <td>0</td>\n",
              "      <td>0</td>\n",
              "      <td>0</td>\n",
              "      <td>0</td>\n",
              "      <td>0</td>\n",
              "      <td>0</td>\n",
              "      <td>0</td>\n",
              "      <td>0</td>\n",
              "      <td>0</td>\n",
              "      <td>0</td>\n",
              "      <td>0</td>\n",
              "      <td>1</td>\n",
              "      <td>0</td>\n",
              "      <td>TCP</td>\n",
              "    </tr>\n",
              "    <tr>\n",
              "      <th>...</th>\n",
              "      <td>...</td>\n",
              "      <td>...</td>\n",
              "      <td>...</td>\n",
              "      <td>...</td>\n",
              "      <td>...</td>\n",
              "      <td>...</td>\n",
              "      <td>...</td>\n",
              "      <td>...</td>\n",
              "      <td>...</td>\n",
              "      <td>...</td>\n",
              "      <td>...</td>\n",
              "      <td>...</td>\n",
              "      <td>...</td>\n",
              "      <td>...</td>\n",
              "      <td>...</td>\n",
              "      <td>...</td>\n",
              "      <td>...</td>\n",
              "      <td>...</td>\n",
              "      <td>...</td>\n",
              "      <td>...</td>\n",
              "      <td>...</td>\n",
              "      <td>...</td>\n",
              "      <td>...</td>\n",
              "      <td>...</td>\n",
              "      <td>...</td>\n",
              "      <td>...</td>\n",
              "      <td>...</td>\n",
              "      <td>...</td>\n",
              "      <td>...</td>\n",
              "      <td>...</td>\n",
              "      <td>...</td>\n",
              "      <td>...</td>\n",
              "      <td>...</td>\n",
              "      <td>...</td>\n",
              "    </tr>\n",
              "    <tr>\n",
              "      <th>714896</th>\n",
              "      <td>0.000</td>\n",
              "      <td>80</td>\n",
              "      <td>59642.0</td>\n",
              "      <td>1</td>\n",
              "      <td>66</td>\n",
              "      <td>1</td>\n",
              "      <td>32</td>\n",
              "      <td>0</td>\n",
              "      <td>0</td>\n",
              "      <td>0</td>\n",
              "      <td>0</td>\n",
              "      <td>0</td>\n",
              "      <td>1</td>\n",
              "      <td>0</td>\n",
              "      <td>0</td>\n",
              "      <td>0</td>\n",
              "      <td>0</td>\n",
              "      <td>0</td>\n",
              "      <td>0</td>\n",
              "      <td>0</td>\n",
              "      <td>0</td>\n",
              "      <td>0</td>\n",
              "      <td>0</td>\n",
              "      <td>0</td>\n",
              "      <td>0</td>\n",
              "      <td>0</td>\n",
              "      <td>0</td>\n",
              "      <td>0</td>\n",
              "      <td>0</td>\n",
              "      <td>0</td>\n",
              "      <td>0</td>\n",
              "      <td>1</td>\n",
              "      <td>0</td>\n",
              "      <td>TCP</td>\n",
              "    </tr>\n",
              "    <tr>\n",
              "      <th>714897</th>\n",
              "      <td>0.026</td>\n",
              "      <td>62375</td>\n",
              "      <td>443.0</td>\n",
              "      <td>4</td>\n",
              "      <td>568</td>\n",
              "      <td>1</td>\n",
              "      <td>0</td>\n",
              "      <td>0</td>\n",
              "      <td>0</td>\n",
              "      <td>0</td>\n",
              "      <td>0</td>\n",
              "      <td>0</td>\n",
              "      <td>0</td>\n",
              "      <td>0</td>\n",
              "      <td>0</td>\n",
              "      <td>0</td>\n",
              "      <td>0</td>\n",
              "      <td>0</td>\n",
              "      <td>0</td>\n",
              "      <td>0</td>\n",
              "      <td>1</td>\n",
              "      <td>0</td>\n",
              "      <td>0</td>\n",
              "      <td>0</td>\n",
              "      <td>0</td>\n",
              "      <td>0</td>\n",
              "      <td>0</td>\n",
              "      <td>0</td>\n",
              "      <td>0</td>\n",
              "      <td>0</td>\n",
              "      <td>0</td>\n",
              "      <td>1</td>\n",
              "      <td>0</td>\n",
              "      <td>TCP</td>\n",
              "    </tr>\n",
              "    <tr>\n",
              "      <th>714898</th>\n",
              "      <td>6.410</td>\n",
              "      <td>0</td>\n",
              "      <td>3.3</td>\n",
              "      <td>5</td>\n",
              "      <td>350</td>\n",
              "      <td>1</td>\n",
              "      <td>192</td>\n",
              "      <td>1</td>\n",
              "      <td>0</td>\n",
              "      <td>0</td>\n",
              "      <td>0</td>\n",
              "      <td>0</td>\n",
              "      <td>0</td>\n",
              "      <td>0</td>\n",
              "      <td>0</td>\n",
              "      <td>0</td>\n",
              "      <td>0</td>\n",
              "      <td>0</td>\n",
              "      <td>0</td>\n",
              "      <td>0</td>\n",
              "      <td>0</td>\n",
              "      <td>0</td>\n",
              "      <td>0</td>\n",
              "      <td>0</td>\n",
              "      <td>0</td>\n",
              "      <td>0</td>\n",
              "      <td>0</td>\n",
              "      <td>0</td>\n",
              "      <td>0</td>\n",
              "      <td>0</td>\n",
              "      <td>1</td>\n",
              "      <td>0</td>\n",
              "      <td>1</td>\n",
              "      <td>ICMP</td>\n",
              "    </tr>\n",
              "    <tr>\n",
              "      <th>714899</th>\n",
              "      <td>0.000</td>\n",
              "      <td>53</td>\n",
              "      <td>57615.0</td>\n",
              "      <td>1</td>\n",
              "      <td>91</td>\n",
              "      <td>1</td>\n",
              "      <td>0</td>\n",
              "      <td>1</td>\n",
              "      <td>0</td>\n",
              "      <td>0</td>\n",
              "      <td>0</td>\n",
              "      <td>0</td>\n",
              "      <td>0</td>\n",
              "      <td>0</td>\n",
              "      <td>0</td>\n",
              "      <td>0</td>\n",
              "      <td>0</td>\n",
              "      <td>0</td>\n",
              "      <td>0</td>\n",
              "      <td>0</td>\n",
              "      <td>0</td>\n",
              "      <td>0</td>\n",
              "      <td>0</td>\n",
              "      <td>0</td>\n",
              "      <td>0</td>\n",
              "      <td>0</td>\n",
              "      <td>0</td>\n",
              "      <td>0</td>\n",
              "      <td>0</td>\n",
              "      <td>0</td>\n",
              "      <td>0</td>\n",
              "      <td>1</td>\n",
              "      <td>0</td>\n",
              "      <td>UDP</td>\n",
              "    </tr>\n",
              "    <tr>\n",
              "      <th>714900</th>\n",
              "      <td>0.000</td>\n",
              "      <td>33411</td>\n",
              "      <td>443.0</td>\n",
              "      <td>1</td>\n",
              "      <td>66</td>\n",
              "      <td>1</td>\n",
              "      <td>0</td>\n",
              "      <td>0</td>\n",
              "      <td>0</td>\n",
              "      <td>0</td>\n",
              "      <td>0</td>\n",
              "      <td>0</td>\n",
              "      <td>1</td>\n",
              "      <td>0</td>\n",
              "      <td>0</td>\n",
              "      <td>0</td>\n",
              "      <td>0</td>\n",
              "      <td>0</td>\n",
              "      <td>0</td>\n",
              "      <td>0</td>\n",
              "      <td>0</td>\n",
              "      <td>0</td>\n",
              "      <td>0</td>\n",
              "      <td>0</td>\n",
              "      <td>0</td>\n",
              "      <td>0</td>\n",
              "      <td>0</td>\n",
              "      <td>0</td>\n",
              "      <td>0</td>\n",
              "      <td>0</td>\n",
              "      <td>0</td>\n",
              "      <td>1</td>\n",
              "      <td>0</td>\n",
              "      <td>TCP</td>\n",
              "    </tr>\n",
              "  </tbody>\n",
              "</table>\n",
              "<p>714901 rows × 34 columns</p>\n",
              "</div>\n",
              "    <div class=\"colab-df-buttons\">\n",
              "\n",
              "  <div class=\"colab-df-container\">\n",
              "    <button class=\"colab-df-convert\" onclick=\"convertToInteractive('df-7164dd43-d15b-46e6-a687-a4149873e3dd')\"\n",
              "            title=\"Convert this dataframe to an interactive table.\"\n",
              "            style=\"display:none;\">\n",
              "\n",
              "  <svg xmlns=\"http://www.w3.org/2000/svg\" height=\"24px\" viewBox=\"0 -960 960 960\">\n",
              "    <path d=\"M120-120v-720h720v720H120Zm60-500h600v-160H180v160Zm220 220h160v-160H400v160Zm0 220h160v-160H400v160ZM180-400h160v-160H180v160Zm440 0h160v-160H620v160ZM180-180h160v-160H180v160Zm440 0h160v-160H620v160Z\"/>\n",
              "  </svg>\n",
              "    </button>\n",
              "\n",
              "  <style>\n",
              "    .colab-df-container {\n",
              "      display:flex;\n",
              "      gap: 12px;\n",
              "    }\n",
              "\n",
              "    .colab-df-convert {\n",
              "      background-color: #E8F0FE;\n",
              "      border: none;\n",
              "      border-radius: 50%;\n",
              "      cursor: pointer;\n",
              "      display: none;\n",
              "      fill: #1967D2;\n",
              "      height: 32px;\n",
              "      padding: 0 0 0 0;\n",
              "      width: 32px;\n",
              "    }\n",
              "\n",
              "    .colab-df-convert:hover {\n",
              "      background-color: #E2EBFA;\n",
              "      box-shadow: 0px 1px 2px rgba(60, 64, 67, 0.3), 0px 1px 3px 1px rgba(60, 64, 67, 0.15);\n",
              "      fill: #174EA6;\n",
              "    }\n",
              "\n",
              "    .colab-df-buttons div {\n",
              "      margin-bottom: 4px;\n",
              "    }\n",
              "\n",
              "    [theme=dark] .colab-df-convert {\n",
              "      background-color: #3B4455;\n",
              "      fill: #D2E3FC;\n",
              "    }\n",
              "\n",
              "    [theme=dark] .colab-df-convert:hover {\n",
              "      background-color: #434B5C;\n",
              "      box-shadow: 0px 1px 3px 1px rgba(0, 0, 0, 0.15);\n",
              "      filter: drop-shadow(0px 1px 2px rgba(0, 0, 0, 0.3));\n",
              "      fill: #FFFFFF;\n",
              "    }\n",
              "  </style>\n",
              "\n",
              "    <script>\n",
              "      const buttonEl =\n",
              "        document.querySelector('#df-7164dd43-d15b-46e6-a687-a4149873e3dd button.colab-df-convert');\n",
              "      buttonEl.style.display =\n",
              "        google.colab.kernel.accessAllowed ? 'block' : 'none';\n",
              "\n",
              "      async function convertToInteractive(key) {\n",
              "        const element = document.querySelector('#df-7164dd43-d15b-46e6-a687-a4149873e3dd');\n",
              "        const dataTable =\n",
              "          await google.colab.kernel.invokeFunction('convertToInteractive',\n",
              "                                                    [key], {});\n",
              "        if (!dataTable) return;\n",
              "\n",
              "        const docLinkHtml = 'Like what you see? Visit the ' +\n",
              "          '<a target=\"_blank\" href=https://colab.research.google.com/notebooks/data_table.ipynb>data table notebook</a>'\n",
              "          + ' to learn more about interactive tables.';\n",
              "        element.innerHTML = '';\n",
              "        dataTable['output_type'] = 'display_data';\n",
              "        await google.colab.output.renderOutput(dataTable, element);\n",
              "        const docLink = document.createElement('div');\n",
              "        docLink.innerHTML = docLinkHtml;\n",
              "        element.appendChild(docLink);\n",
              "      }\n",
              "    </script>\n",
              "  </div>\n",
              "\n",
              "\n",
              "<div id=\"df-052d25fb-3895-4c7c-aa6d-2beaf0f18f84\">\n",
              "  <button class=\"colab-df-quickchart\" onclick=\"quickchart('df-052d25fb-3895-4c7c-aa6d-2beaf0f18f84')\"\n",
              "            title=\"Suggest charts.\"\n",
              "            style=\"display:none;\">\n",
              "\n",
              "<svg xmlns=\"http://www.w3.org/2000/svg\" height=\"24px\"viewBox=\"0 0 24 24\"\n",
              "     width=\"24px\">\n",
              "    <g>\n",
              "        <path d=\"M19 3H5c-1.1 0-2 .9-2 2v14c0 1.1.9 2 2 2h14c1.1 0 2-.9 2-2V5c0-1.1-.9-2-2-2zM9 17H7v-7h2v7zm4 0h-2V7h2v10zm4 0h-2v-4h2v4z\"/>\n",
              "    </g>\n",
              "</svg>\n",
              "  </button>\n",
              "\n",
              "<style>\n",
              "  .colab-df-quickchart {\n",
              "      --bg-color: #E8F0FE;\n",
              "      --fill-color: #1967D2;\n",
              "      --hover-bg-color: #E2EBFA;\n",
              "      --hover-fill-color: #174EA6;\n",
              "      --disabled-fill-color: #AAA;\n",
              "      --disabled-bg-color: #DDD;\n",
              "  }\n",
              "\n",
              "  [theme=dark] .colab-df-quickchart {\n",
              "      --bg-color: #3B4455;\n",
              "      --fill-color: #D2E3FC;\n",
              "      --hover-bg-color: #434B5C;\n",
              "      --hover-fill-color: #FFFFFF;\n",
              "      --disabled-bg-color: #3B4455;\n",
              "      --disabled-fill-color: #666;\n",
              "  }\n",
              "\n",
              "  .colab-df-quickchart {\n",
              "    background-color: var(--bg-color);\n",
              "    border: none;\n",
              "    border-radius: 50%;\n",
              "    cursor: pointer;\n",
              "    display: none;\n",
              "    fill: var(--fill-color);\n",
              "    height: 32px;\n",
              "    padding: 0;\n",
              "    width: 32px;\n",
              "  }\n",
              "\n",
              "  .colab-df-quickchart:hover {\n",
              "    background-color: var(--hover-bg-color);\n",
              "    box-shadow: 0 1px 2px rgba(60, 64, 67, 0.3), 0 1px 3px 1px rgba(60, 64, 67, 0.15);\n",
              "    fill: var(--button-hover-fill-color);\n",
              "  }\n",
              "\n",
              "  .colab-df-quickchart-complete:disabled,\n",
              "  .colab-df-quickchart-complete:disabled:hover {\n",
              "    background-color: var(--disabled-bg-color);\n",
              "    fill: var(--disabled-fill-color);\n",
              "    box-shadow: none;\n",
              "  }\n",
              "\n",
              "  .colab-df-spinner {\n",
              "    border: 2px solid var(--fill-color);\n",
              "    border-color: transparent;\n",
              "    border-bottom-color: var(--fill-color);\n",
              "    animation:\n",
              "      spin 1s steps(1) infinite;\n",
              "  }\n",
              "\n",
              "  @keyframes spin {\n",
              "    0% {\n",
              "      border-color: transparent;\n",
              "      border-bottom-color: var(--fill-color);\n",
              "      border-left-color: var(--fill-color);\n",
              "    }\n",
              "    20% {\n",
              "      border-color: transparent;\n",
              "      border-left-color: var(--fill-color);\n",
              "      border-top-color: var(--fill-color);\n",
              "    }\n",
              "    30% {\n",
              "      border-color: transparent;\n",
              "      border-left-color: var(--fill-color);\n",
              "      border-top-color: var(--fill-color);\n",
              "      border-right-color: var(--fill-color);\n",
              "    }\n",
              "    40% {\n",
              "      border-color: transparent;\n",
              "      border-right-color: var(--fill-color);\n",
              "      border-top-color: var(--fill-color);\n",
              "    }\n",
              "    60% {\n",
              "      border-color: transparent;\n",
              "      border-right-color: var(--fill-color);\n",
              "    }\n",
              "    80% {\n",
              "      border-color: transparent;\n",
              "      border-right-color: var(--fill-color);\n",
              "      border-bottom-color: var(--fill-color);\n",
              "    }\n",
              "    90% {\n",
              "      border-color: transparent;\n",
              "      border-bottom-color: var(--fill-color);\n",
              "    }\n",
              "  }\n",
              "</style>\n",
              "\n",
              "  <script>\n",
              "    async function quickchart(key) {\n",
              "      const quickchartButtonEl =\n",
              "        document.querySelector('#' + key + ' button');\n",
              "      quickchartButtonEl.disabled = true;  // To prevent multiple clicks.\n",
              "      quickchartButtonEl.classList.add('colab-df-spinner');\n",
              "      try {\n",
              "        const charts = await google.colab.kernel.invokeFunction(\n",
              "            'suggestCharts', [key], {});\n",
              "      } catch (error) {\n",
              "        console.error('Error during call to suggestCharts:', error);\n",
              "      }\n",
              "      quickchartButtonEl.classList.remove('colab-df-spinner');\n",
              "      quickchartButtonEl.classList.add('colab-df-quickchart-complete');\n",
              "    }\n",
              "    (() => {\n",
              "      let quickchartButtonEl =\n",
              "        document.querySelector('#df-052d25fb-3895-4c7c-aa6d-2beaf0f18f84 button');\n",
              "      quickchartButtonEl.style.display =\n",
              "        google.colab.kernel.accessAllowed ? 'block' : 'none';\n",
              "    })();\n",
              "  </script>\n",
              "</div>\n",
              "    </div>\n",
              "  </div>\n"
            ]
          },
          "metadata": {},
          "execution_count": 36
        }
      ],
      "source": [
        "train = train.reset_index(drop=True)\n",
        "train"
      ]
    },
    {
      "cell_type": "code",
      "execution_count": 37,
      "metadata": {
        "execution": {
          "iopub.execute_input": "2023-09-19T10:48:46.954870Z",
          "iopub.status.busy": "2023-09-19T10:48:46.954489Z",
          "iopub.status.idle": "2023-09-19T10:48:46.998047Z",
          "shell.execute_reply": "2023-09-19T10:48:46.996718Z",
          "shell.execute_reply.started": "2023-09-19T10:48:46.954841Z"
        },
        "id": "NB1HG443YCWi",
        "trusted": true
      },
      "outputs": [],
      "source": [
        "test = test.reset_index(drop=True)"
      ]
    },
    {
      "cell_type": "code",
      "execution_count": 38,
      "metadata": {
        "execution": {
          "iopub.execute_input": "2023-09-19T10:48:46.999807Z",
          "iopub.status.busy": "2023-09-19T10:48:46.999503Z",
          "iopub.status.idle": "2023-09-19T10:48:47.045969Z",
          "shell.execute_reply": "2023-09-19T10:48:47.044760Z",
          "shell.execute_reply.started": "2023-09-19T10:48:46.999780Z"
        },
        "id": "5lmyemlsYdn_",
        "trusted": true
      },
      "outputs": [],
      "source": [
        "train = train.drop(\"Proto\", axis=1)\n",
        "test = test.drop(\"Proto\", axis=1)"
      ]
    },
    {
      "cell_type": "markdown",
      "metadata": {
        "id": "1SgLm1FSatah"
      },
      "source": [
        "# **MODEL**"
      ]
    },
    {
      "cell_type": "markdown",
      "metadata": {
        "id": "cpTV1Q_-1SJw"
      },
      "source": [
        "## **STEP 1**"
      ]
    },
    {
      "cell_type": "code",
      "execution_count": 39,
      "metadata": {
        "colab": {
          "base_uri": "https://localhost:8080/"
        },
        "execution": {
          "iopub.execute_input": "2023-09-19T10:48:47.047733Z",
          "iopub.status.busy": "2023-09-19T10:48:47.047366Z",
          "iopub.status.idle": "2023-09-19T10:48:47.140630Z",
          "shell.execute_reply": "2023-09-19T10:48:47.139348Z",
          "shell.execute_reply.started": "2023-09-19T10:48:47.047704Z"
        },
        "id": "GZYWXF9amtq3",
        "outputId": "30e021d0-06be-40c2-92bd-0d9187ed474b",
        "trusted": true
      },
      "outputs": [
        {
          "output_type": "stream",
          "name": "stdout",
          "text": [
            "<class 'pandas.core.frame.DataFrame'>\n",
            "RangeIndex: 714901 entries, 0 to 714900\n",
            "Data columns (total 28 columns):\n",
            " #   Column        Non-Null Count   Dtype  \n",
            "---  ------        --------------   -----  \n",
            " 0   Duration      714901 non-null  float64\n",
            " 1   Src Pt        714901 non-null  int64  \n",
            " 2   Dst Pt        714901 non-null  float64\n",
            " 3   Packets       714901 non-null  int64  \n",
            " 4   Bytes         714901 non-null  int64  \n",
            " 5   Flows         714901 non-null  int64  \n",
            " 6   Tos           714901 non-null  int64  \n",
            " 7   Flags_......  714901 non-null  uint8  \n",
            " 8   Flags_.....F  714901 non-null  uint8  \n",
            " 9   Flags_....S.  714901 non-null  uint8  \n",
            " 10  Flags_...R..  714901 non-null  uint8  \n",
            " 11  Flags_...RS.  714901 non-null  uint8  \n",
            " 12  Flags_.A....  714901 non-null  uint8  \n",
            " 13  Flags_.A...F  714901 non-null  uint8  \n",
            " 14  Flags_.A..S.  714901 non-null  uint8  \n",
            " 15  Flags_.A..SF  714901 non-null  uint8  \n",
            " 16  Flags_.A.R..  714901 non-null  uint8  \n",
            " 17  Flags_.A.R.F  714901 non-null  uint8  \n",
            " 18  Flags_.A.RS.  714901 non-null  uint8  \n",
            " 19  Flags_.A.RSF  714901 non-null  uint8  \n",
            " 20  Flags_.AP...  714901 non-null  uint8  \n",
            " 21  Flags_.AP..F  714901 non-null  uint8  \n",
            " 22  Flags_.AP.S.  714901 non-null  uint8  \n",
            " 23  Flags_.AP.SF  714901 non-null  uint8  \n",
            " 24  Flags_.APR..  714901 non-null  uint8  \n",
            " 25  Flags_.APR.F  714901 non-null  uint8  \n",
            " 26  Flags_.APRS.  714901 non-null  uint8  \n",
            " 27  Flags_.APRSF  714901 non-null  uint8  \n",
            "dtypes: float64(2), int64(5), uint8(21)\n",
            "memory usage: 52.5 MB\n"
          ]
        }
      ],
      "source": [
        "X_train = train.iloc[:, :-5]\n",
        "X_test = test.iloc[:, :-5]\n",
        "\n",
        "X_train.info()"
      ]
    },
    {
      "cell_type": "markdown",
      "metadata": {
        "id": "2qbZPUMK2bcp"
      },
      "source": [
        "### Round 1"
      ]
    },
    {
      "cell_type": "code",
      "execution_count": 40,
      "metadata": {
        "execution": {
          "iopub.execute_input": "2023-09-19T10:48:47.142301Z",
          "iopub.status.busy": "2023-09-19T10:48:47.141935Z",
          "iopub.status.idle": "2023-09-19T10:50:15.167019Z",
          "shell.execute_reply": "2023-09-19T10:50:15.165843Z",
          "shell.execute_reply.started": "2023-09-19T10:48:47.142258Z"
        },
        "id": "JuQU4ARrYzCI",
        "trusted": true,
        "colab": {
          "base_uri": "https://localhost:8080/"
        },
        "outputId": "636a502f-aca3-4276-d32d-bd4ca631222d"
      },
      "outputs": [
        {
          "output_type": "stream",
          "name": "stdout",
          "text": [
            "[LightGBM] [Warning] Found whitespace in feature_names, replace with underlines\n",
            "[LightGBM] [Info] Number of positive: 96087, number of negative: 618814\n",
            "[LightGBM] [Warning] Auto-choosing row-wise multi-threading, the overhead of testing was 0.045750 seconds.\n",
            "You can set `force_row_wise=true` to remove the overhead.\n",
            "And if memory is not enough, you can set `force_col_wise=true`.\n",
            "[LightGBM] [Info] Total Bins 1315\n",
            "[LightGBM] [Info] Number of data points in the train set: 714901, number of used features: 24\n",
            "[LightGBM] [Info] [binary:BoostFromScore]: pavg=0.134406 -> initscore=-1.862551\n",
            "[LightGBM] [Info] Start training from score -1.862551\n"
          ]
        }
      ],
      "source": [
        "#Detect udp\n",
        "from lightgbm import LGBMClassifier\n",
        "\n",
        "model = LGBMClassifier()\n",
        "clf_1 = model.fit(X_train, train['attackDescription_UDP'])"
      ]
    },
    {
      "cell_type": "code",
      "execution_count": 41,
      "metadata": {
        "execution": {
          "iopub.execute_input": "2023-09-19T10:50:15.168925Z",
          "iopub.status.busy": "2023-09-19T10:50:15.168613Z",
          "iopub.status.idle": "2023-09-19T10:50:18.940657Z",
          "shell.execute_reply": "2023-09-19T10:50:18.939512Z",
          "shell.execute_reply.started": "2023-09-19T10:50:15.168898Z"
        },
        "id": "VusGiqiZrMl1",
        "trusted": true
      },
      "outputs": [],
      "source": [
        "start_time = time.time()\n",
        "y_pred_1 = clf_1.predict(X_test)\n",
        "end_time = time.time()\n",
        "execution_time_r1 = end_time - start_time"
      ]
    },
    {
      "cell_type": "code",
      "execution_count": 42,
      "metadata": {
        "colab": {
          "base_uri": "https://localhost:8080/"
        },
        "execution": {
          "iopub.execute_input": "2023-09-19T10:50:18.953375Z",
          "iopub.status.busy": "2023-09-19T10:50:18.952930Z",
          "iopub.status.idle": "2023-09-19T10:50:19.794971Z",
          "shell.execute_reply": "2023-09-19T10:50:19.793678Z",
          "shell.execute_reply.started": "2023-09-19T10:50:18.953338Z"
        },
        "id": "ZTJN97hlD-Of",
        "outputId": "0e73b9e6-621b-435d-df27-34e3cee75493",
        "trusted": true
      },
      "outputs": [
        {
          "output_type": "stream",
          "name": "stdout",
          "text": [
            "Scores of round 1:\n",
            "\tACC: 0.992963749299532\n",
            "\tPPV: 0.9777926253399898\n",
            "\tTPR: 0.9758254526688617\n",
            "\tF1 : 0.9768065574687257\n",
            "\tAUC: 0.9758254526688618\n",
            "\tMCC: 0.9536160490139509\n",
            "\tFPR: 0.00363161484228938\n"
          ]
        }
      ],
      "source": [
        "cm = confusion_matrix(test['attackDescription_UDP'], y_pred_1)\n",
        "\n",
        "acc = accuracy_score(test['attackDescription_UDP'], y_pred_1)\n",
        "ppv = precision_score(test['attackDescription_UDP'], y_pred_1, average='macro')\n",
        "f1 = f1_score(test['attackDescription_UDP'], y_pred_1, average='macro')\n",
        "tpr = recall_score(test['attackDescription_UDP'], y_pred_1, average='macro')\n",
        "fpr = cm[0, 1] / (cm[0, 0] + cm[0, 1])\n",
        "auc = roc_auc_score(test['attackDescription_UDP'], y_pred_1)\n",
        "mcc = matthews_corrcoef(test['attackDescription_UDP'], y_pred_1)\n",
        "# udr = sum(y_pred_1[Service_Scan_test_index] == test['attackDescription_TCP'][Service_Scan_test_index]) / len(Service_Scan_test_index)\n",
        "\n",
        "# model_pred['Tabnet'] = y_pred_1\n",
        "# model_acc['Tabnet'] = acc\n",
        "# model_ppv['Tabnet'] = ppv\n",
        "# model_f1['Tabnet'] = f1\n",
        "# model_tpr['Tabnet'] = tpr\n",
        "# model_fpr['Tabnet'] = fpr\n",
        "# model_auc['Tabnet'] = auc\n",
        "# model_mcc['Tabnet'] = mcc\n",
        "# model_udr['Tabnet'] = udr\n",
        "\n",
        "print('Scores of round 1:')\n",
        "# print(f'\\tUDR: {udr} ({sum(y_pred_1[Service_Scan_test_index] == test['attackDescription_TCP'][Service_Scan_test_index])} / {len(Service_Scan_test_index)})')\n",
        "print(f'\\tACC: {acc}')\n",
        "print(f'\\tPPV: {ppv}')\n",
        "print(f'\\tTPR: {tpr}')\n",
        "print(f'\\tF1 : {f1}')\n",
        "print(f'\\tAUC: {auc}')\n",
        "print(f'\\tMCC: {mcc}')\n",
        "print(f'\\tFPR: {fpr}')"
      ]
    },
    {
      "cell_type": "code",
      "execution_count": 43,
      "metadata": {
        "colab": {
          "base_uri": "https://localhost:8080/"
        },
        "execution": {
          "iopub.execute_input": "2023-09-19T10:50:19.796939Z",
          "iopub.status.busy": "2023-09-19T10:50:19.796572Z",
          "iopub.status.idle": "2023-09-19T10:50:19.873845Z",
          "shell.execute_reply": "2023-09-19T10:50:19.872706Z",
          "shell.execute_reply.started": "2023-09-19T10:50:19.796907Z"
        },
        "id": "cEoXDn9HFs_F",
        "outputId": "85d5a592-8643-4528-f6ca-a5bb5d1cf8c1",
        "trusted": true
      },
      "outputs": [
        {
          "output_type": "stream",
          "name": "stdout",
          "text": [
            "[[463119   1688]\n",
            " [  1878  40119]]\n"
          ]
        }
      ],
      "source": [
        "print(confusion_matrix(test['attackDescription_UDP'], y_pred_1))"
      ]
    },
    {
      "cell_type": "code",
      "execution_count": 44,
      "metadata": {
        "colab": {
          "base_uri": "https://localhost:8080/"
        },
        "execution": {
          "iopub.execute_input": "2023-09-19T10:50:19.875505Z",
          "iopub.status.busy": "2023-09-19T10:50:19.875110Z",
          "iopub.status.idle": "2023-09-19T10:50:20.563848Z",
          "shell.execute_reply": "2023-09-19T10:50:20.562751Z",
          "shell.execute_reply.started": "2023-09-19T10:50:19.875473Z"
        },
        "id": "63VbAYWxF2do",
        "outputId": "d070d654-2177-4eb1-c71b-28d328c73062",
        "trusted": true
      },
      "outputs": [
        {
          "output_type": "stream",
          "name": "stdout",
          "text": [
            "              precision    recall  f1-score   support\n",
            "\n",
            "           0       1.00      1.00      1.00    464807\n",
            "           1       0.96      0.96      0.96     41997\n",
            "\n",
            "    accuracy                           0.99    506804\n",
            "   macro avg       0.98      0.98      0.98    506804\n",
            "weighted avg       0.99      0.99      0.99    506804\n",
            "\n"
          ]
        }
      ],
      "source": [
        "print(classification_report(test['attackDescription_UDP'], y_pred_1))"
      ]
    },
    {
      "cell_type": "code",
      "execution_count": 45,
      "metadata": {
        "colab": {
          "base_uri": "https://localhost:8080/"
        },
        "execution": {
          "iopub.execute_input": "2023-09-19T10:50:20.565931Z",
          "iopub.status.busy": "2023-09-19T10:50:20.565533Z",
          "iopub.status.idle": "2023-09-19T10:50:20.575592Z",
          "shell.execute_reply": "2023-09-19T10:50:20.574356Z",
          "shell.execute_reply.started": "2023-09-19T10:50:20.565900Z"
        },
        "id": "3-fUpbVogjsb",
        "outputId": "97e73558-52ea-40d0-f4be-27f797c475ef",
        "trusted": true
      },
      "outputs": [
        {
          "output_type": "stream",
          "name": "stdout",
          "text": [
            "Int64Index([     1,      2,      3,      4,      5,      6,      7,      8,\n",
            "                 9,     11,\n",
            "            ...\n",
            "            506790, 506792, 506793, 506794, 506795, 506796, 506798, 506799,\n",
            "            506800, 506803],\n",
            "           dtype='int64', length=464997)\n"
          ]
        }
      ],
      "source": [
        "remain_indices_1 = test.index[np.where(y_pred_1 == 0)[0]]\n",
        "print(remain_indices_1)"
      ]
    },
    {
      "cell_type": "code",
      "execution_count": 46,
      "metadata": {
        "colab": {
          "base_uri": "https://localhost:8080/"
        },
        "execution": {
          "iopub.execute_input": "2023-09-19T10:50:20.577787Z",
          "iopub.status.busy": "2023-09-19T10:50:20.577465Z",
          "iopub.status.idle": "2023-09-19T10:50:20.585391Z",
          "shell.execute_reply": "2023-09-19T10:50:20.584558Z",
          "shell.execute_reply.started": "2023-09-19T10:50:20.577759Z"
        },
        "id": "N4ApsJKFj9fl",
        "outputId": "bb68b196-660f-48d2-8209-078f6ca0c6d1",
        "trusted": true
      },
      "outputs": [
        {
          "output_type": "stream",
          "name": "stdout",
          "text": [
            "Int64Index([     0,     10,     38,     45,     48,     60,     77,    122,\n",
            "               148,    185,\n",
            "            ...\n",
            "            506691, 506707, 506710, 506766, 506770, 506777, 506791, 506797,\n",
            "            506801, 506802],\n",
            "           dtype='int64', length=41807)\n"
          ]
        }
      ],
      "source": [
        "udp_pred = test.index[np.where(y_pred_1 == 1)[0]]\n",
        "print(udp_pred)"
      ]
    },
    {
      "cell_type": "markdown",
      "metadata": {
        "id": "YgODm3_P5sFX"
      },
      "source": [
        "### Round 2"
      ]
    },
    {
      "cell_type": "code",
      "execution_count": 47,
      "metadata": {
        "execution": {
          "iopub.execute_input": "2023-09-19T10:50:20.586875Z",
          "iopub.status.busy": "2023-09-19T10:50:20.586570Z",
          "iopub.status.idle": "2023-09-19T10:51:40.075156Z",
          "shell.execute_reply": "2023-09-19T10:51:40.074094Z",
          "shell.execute_reply.started": "2023-09-19T10:50:20.586849Z"
        },
        "id": "hj5Lo2qIIVub",
        "trusted": true,
        "colab": {
          "base_uri": "https://localhost:8080/"
        },
        "outputId": "f09e9344-68b7-476e-8b90-d282fbf08881"
      },
      "outputs": [
        {
          "output_type": "stream",
          "name": "stdout",
          "text": [
            "[LightGBM] [Warning] Found whitespace in feature_names, replace with underlines\n",
            "[LightGBM] [Info] Number of positive: 5381, number of negative: 709520\n",
            "[LightGBM] [Warning] Auto-choosing row-wise multi-threading, the overhead of testing was 0.045239 seconds.\n",
            "You can set `force_row_wise=true` to remove the overhead.\n",
            "And if memory is not enough, you can set `force_col_wise=true`.\n",
            "[LightGBM] [Info] Total Bins 1315\n",
            "[LightGBM] [Info] Number of data points in the train set: 714901, number of used features: 24\n",
            "[LightGBM] [Info] [binary:BoostFromScore]: pavg=0.007527 -> initscore=-4.881714\n",
            "[LightGBM] [Info] Start training from score -4.881714\n"
          ]
        }
      ],
      "source": [
        "#Detect icmp\n",
        "model = LGBMClassifier()\n",
        "clf_2 = model.fit(X_train, train['attackDescription_ICMP'])"
      ]
    },
    {
      "cell_type": "code",
      "execution_count": 48,
      "metadata": {
        "execution": {
          "iopub.execute_input": "2023-09-19T10:51:40.076698Z",
          "iopub.status.busy": "2023-09-19T10:51:40.076366Z",
          "iopub.status.idle": "2023-09-19T10:51:40.182496Z",
          "shell.execute_reply": "2023-09-19T10:51:40.181430Z",
          "shell.execute_reply.started": "2023-09-19T10:51:40.076671Z"
        },
        "id": "zOOGZSnbItOV",
        "trusted": true
      },
      "outputs": [],
      "source": [
        "X_test_2 = X_test.loc[remain_indices_1]\n",
        "test_2 = test.loc[remain_indices_1]"
      ]
    },
    {
      "cell_type": "code",
      "execution_count": 49,
      "metadata": {
        "execution": {
          "iopub.execute_input": "2023-09-19T10:51:40.184190Z",
          "iopub.status.busy": "2023-09-19T10:51:40.183785Z",
          "iopub.status.idle": "2023-09-19T10:51:43.094098Z",
          "shell.execute_reply": "2023-09-19T10:51:43.093020Z",
          "shell.execute_reply.started": "2023-09-19T10:51:40.184152Z"
        },
        "id": "N8QBxHGcIVuc",
        "trusted": true
      },
      "outputs": [],
      "source": [
        "start_time = time.time()\n",
        "y_pred_2 = clf_2.predict(X_test_2)\n",
        "end_time = time.time()\n",
        "execution_time_r2 = end_time - start_time"
      ]
    },
    {
      "cell_type": "code",
      "execution_count": 50,
      "metadata": {
        "colab": {
          "base_uri": "https://localhost:8080/"
        },
        "execution": {
          "iopub.execute_input": "2023-09-19T10:51:43.096043Z",
          "iopub.status.busy": "2023-09-19T10:51:43.095610Z",
          "iopub.status.idle": "2023-09-19T10:51:43.778159Z",
          "shell.execute_reply": "2023-09-19T10:51:43.777004Z",
          "shell.execute_reply.started": "2023-09-19T10:51:43.096013Z"
        },
        "id": "qpb_JfeIIVuc",
        "outputId": "5fddd9ae-1469-4342-a993-58c291ebd111",
        "trusted": true
      },
      "outputs": [
        {
          "output_type": "stream",
          "name": "stdout",
          "text": [
            "Scores of round 2:\n",
            "\tACC: 0.9880966973980477\n",
            "\tPPV: 0.6468898446473489\n",
            "\tTPR: 0.9640477169081579\n",
            "\tF1 : 0.7209869528462081\n",
            "\tAUC: 0.9640477169081578\n",
            "\tMCC: 0.5221643306301044\n",
            "\tFPR: 0.011653520158579529\n"
          ]
        }
      ],
      "source": [
        "cm = confusion_matrix(test_2['attackDescription_ICMP'], y_pred_2)\n",
        "\n",
        "acc = accuracy_score(test_2['attackDescription_ICMP'], y_pred_2)\n",
        "ppv = precision_score(test_2['attackDescription_ICMP'], y_pred_2, average='macro')\n",
        "f1 = f1_score(test_2['attackDescription_ICMP'], y_pred_2, average='macro')\n",
        "tpr = recall_score(test_2['attackDescription_ICMP'], y_pred_2, average='macro')\n",
        "fpr = cm[0, 1] / (cm[0, 0] + cm[0, 1])\n",
        "auc = roc_auc_score(test_2['attackDescription_ICMP'], y_pred_2)\n",
        "mcc = matthews_corrcoef(test_2['attackDescription_ICMP'], y_pred_2)\n",
        "\n",
        "print('Scores of round 2:')\n",
        "print(f'\\tACC: {acc}')\n",
        "print(f'\\tPPV: {ppv}')\n",
        "print(f'\\tTPR: {tpr}')\n",
        "print(f'\\tF1 : {f1}')\n",
        "print(f'\\tAUC: {auc}')\n",
        "print(f'\\tMCC: {mcc}')\n",
        "print(f'\\tFPR: {fpr}')"
      ]
    },
    {
      "cell_type": "code",
      "execution_count": 51,
      "metadata": {
        "colab": {
          "base_uri": "https://localhost:8080/"
        },
        "execution": {
          "iopub.execute_input": "2023-09-19T10:51:43.780002Z",
          "iopub.status.busy": "2023-09-19T10:51:43.779590Z",
          "iopub.status.idle": "2023-09-19T10:51:43.844179Z",
          "shell.execute_reply": "2023-09-19T10:51:43.843039Z",
          "shell.execute_reply.started": "2023-09-19T10:51:43.779963Z"
        },
        "id": "cQnPIRtPIVuc",
        "outputId": "f1295256-a335-46f4-ec6e-fc7024dcc18d",
        "trusted": true
      },
      "outputs": [
        {
          "output_type": "stream",
          "name": "stdout",
          "text": [
            "[[457216   5391]\n",
            " [   144   2246]]\n"
          ]
        }
      ],
      "source": [
        "print(confusion_matrix(test_2['attackDescription_ICMP'], y_pred_2))"
      ]
    },
    {
      "cell_type": "code",
      "execution_count": 52,
      "metadata": {
        "colab": {
          "base_uri": "https://localhost:8080/"
        },
        "execution": {
          "iopub.execute_input": "2023-09-19T10:51:43.846355Z",
          "iopub.status.busy": "2023-09-19T10:51:43.845438Z",
          "iopub.status.idle": "2023-09-19T10:51:44.428822Z",
          "shell.execute_reply": "2023-09-19T10:51:44.427643Z",
          "shell.execute_reply.started": "2023-09-19T10:51:43.846322Z"
        },
        "id": "3SOslY-iIVuc",
        "outputId": "96d8ff84-3b62-48a3-a257-b882fbe759af",
        "trusted": true
      },
      "outputs": [
        {
          "output_type": "stream",
          "name": "stdout",
          "text": [
            "              precision    recall  f1-score   support\n",
            "\n",
            "           0       1.00      0.99      0.99    462607\n",
            "           1       0.29      0.94      0.45      2390\n",
            "\n",
            "    accuracy                           0.99    464997\n",
            "   macro avg       0.65      0.96      0.72    464997\n",
            "weighted avg       1.00      0.99      0.99    464997\n",
            "\n"
          ]
        }
      ],
      "source": [
        "print(classification_report(test_2['attackDescription_ICMP'], y_pred_2))"
      ]
    },
    {
      "cell_type": "code",
      "execution_count": 53,
      "metadata": {
        "colab": {
          "base_uri": "https://localhost:8080/"
        },
        "execution": {
          "iopub.execute_input": "2023-09-19T10:51:44.431143Z",
          "iopub.status.busy": "2023-09-19T10:51:44.430800Z",
          "iopub.status.idle": "2023-09-19T10:51:44.439726Z",
          "shell.execute_reply": "2023-09-19T10:51:44.438673Z",
          "shell.execute_reply.started": "2023-09-19T10:51:44.431115Z"
        },
        "id": "PctZYS7yIVuc",
        "outputId": "75091cde-cd60-45d2-a14e-f9f01578ad12",
        "trusted": true
      },
      "outputs": [
        {
          "output_type": "stream",
          "name": "stdout",
          "text": [
            "Int64Index([     1,      2,      3,      4,      5,      6,      7,      8,\n",
            "                 9,     11,\n",
            "            ...\n",
            "            506790, 506792, 506793, 506794, 506795, 506796, 506798, 506799,\n",
            "            506800, 506803],\n",
            "           dtype='int64', length=457360)\n"
          ]
        }
      ],
      "source": [
        "remain_indices_2 = test_2.index[np.where(y_pred_2 == 0)[0]]\n",
        "print(remain_indices_2)"
      ]
    },
    {
      "cell_type": "code",
      "execution_count": 54,
      "metadata": {
        "colab": {
          "base_uri": "https://localhost:8080/"
        },
        "execution": {
          "iopub.execute_input": "2023-09-19T10:51:44.441437Z",
          "iopub.status.busy": "2023-09-19T10:51:44.441022Z",
          "iopub.status.idle": "2023-09-19T10:51:44.451797Z",
          "shell.execute_reply": "2023-09-19T10:51:44.450590Z",
          "shell.execute_reply.started": "2023-09-19T10:51:44.441408Z"
        },
        "id": "0Ow-Bkg0kLH8",
        "outputId": "87a2d13d-dfb6-40ad-9cdb-0afea6e440be",
        "trusted": true
      },
      "outputs": [
        {
          "output_type": "stream",
          "name": "stdout",
          "text": [
            "Int64Index([   123,    133,    135,    158,    211,    400,    431,    444,\n",
            "               447,    530,\n",
            "            ...\n",
            "            506312, 506412, 506466, 506489, 506539, 506556, 506657, 506661,\n",
            "            506706, 506757],\n",
            "           dtype='int64', length=7637)\n"
          ]
        }
      ],
      "source": [
        "icmp_pred = test_2.index[np.where(y_pred_2 == 1)[0]]\n",
        "print(icmp_pred)"
      ]
    },
    {
      "cell_type": "markdown",
      "metadata": {
        "id": "HVFpvHYuX6IL"
      },
      "source": [
        "## **STEP 2**"
      ]
    },
    {
      "cell_type": "markdown",
      "metadata": {
        "id": "SJ3RgdABzbL2"
      },
      "source": [
        "## Outlier"
      ]
    },
    {
      "cell_type": "code",
      "execution_count": 55,
      "metadata": {
        "colab": {
          "base_uri": "https://localhost:8080/"
        },
        "execution": {
          "iopub.execute_input": "2023-09-19T10:51:44.453204Z",
          "iopub.status.busy": "2023-09-19T10:51:44.452897Z",
          "iopub.status.idle": "2023-09-19T10:52:03.505651Z",
          "shell.execute_reply": "2023-09-19T10:52:03.503979Z",
          "shell.execute_reply.started": "2023-09-19T10:51:44.453178Z"
        },
        "id": "USODERe5ThMR",
        "outputId": "b5ac2ead-52a5-4491-dba9-d73561c2eb01",
        "trusted": true
      },
      "outputs": [
        {
          "output_type": "stream",
          "name": "stdout",
          "text": [
            "Collecting pyod\n",
            "  Downloading pyod-1.1.0.tar.gz (153 kB)\n",
            "\u001b[?25l     \u001b[90m━━━━━━━━━━━━━━━━━━━━━━━━━━━━━━━━━━━━━━━━\u001b[0m \u001b[32m0.0/153.4 kB\u001b[0m \u001b[31m?\u001b[0m eta \u001b[36m-:--:--\u001b[0m\r\u001b[2K     \u001b[91m━━━━━━━━━━━━━━━━━━━━━━━━━━\u001b[0m\u001b[90m╺\u001b[0m\u001b[90m━━━━━━━━━━━━\u001b[0m \u001b[32m102.4/153.4 kB\u001b[0m \u001b[31m2.8 MB/s\u001b[0m eta \u001b[36m0:00:01\u001b[0m\r\u001b[2K     \u001b[90m━━━━━━━━━━━━━━━━━━━━━━━━━━━━━━━━━━━━━━━\u001b[0m \u001b[32m153.4/153.4 kB\u001b[0m \u001b[31m3.1 MB/s\u001b[0m eta \u001b[36m0:00:00\u001b[0m\n",
            "\u001b[?25h  Preparing metadata (setup.py) ... \u001b[?25l\u001b[?25hdone\n",
            "Requirement already satisfied: joblib in /usr/local/lib/python3.10/dist-packages (from pyod) (1.3.2)\n",
            "Requirement already satisfied: matplotlib in /usr/local/lib/python3.10/dist-packages (from pyod) (3.7.1)\n",
            "Requirement already satisfied: numpy>=1.19 in /usr/local/lib/python3.10/dist-packages (from pyod) (1.23.5)\n",
            "Requirement already satisfied: numba>=0.51 in /usr/local/lib/python3.10/dist-packages (from pyod) (0.56.4)\n",
            "Requirement already satisfied: scipy>=1.5.1 in /usr/local/lib/python3.10/dist-packages (from pyod) (1.11.2)\n",
            "Requirement already satisfied: scikit_learn>=0.20.0 in /usr/local/lib/python3.10/dist-packages (from pyod) (1.2.2)\n",
            "Requirement already satisfied: six in /usr/local/lib/python3.10/dist-packages (from pyod) (1.16.0)\n",
            "Requirement already satisfied: llvmlite<0.40,>=0.39.0dev0 in /usr/local/lib/python3.10/dist-packages (from numba>=0.51->pyod) (0.39.1)\n",
            "Requirement already satisfied: setuptools in /usr/local/lib/python3.10/dist-packages (from numba>=0.51->pyod) (67.7.2)\n",
            "Requirement already satisfied: threadpoolctl>=2.0.0 in /usr/local/lib/python3.10/dist-packages (from scikit_learn>=0.20.0->pyod) (3.2.0)\n",
            "Requirement already satisfied: contourpy>=1.0.1 in /usr/local/lib/python3.10/dist-packages (from matplotlib->pyod) (1.1.0)\n",
            "Requirement already satisfied: cycler>=0.10 in /usr/local/lib/python3.10/dist-packages (from matplotlib->pyod) (0.11.0)\n",
            "Requirement already satisfied: fonttools>=4.22.0 in /usr/local/lib/python3.10/dist-packages (from matplotlib->pyod) (4.42.1)\n",
            "Requirement already satisfied: kiwisolver>=1.0.1 in /usr/local/lib/python3.10/dist-packages (from matplotlib->pyod) (1.4.5)\n",
            "Requirement already satisfied: packaging>=20.0 in /usr/local/lib/python3.10/dist-packages (from matplotlib->pyod) (23.1)\n",
            "Requirement already satisfied: pillow>=6.2.0 in /usr/local/lib/python3.10/dist-packages (from matplotlib->pyod) (9.4.0)\n",
            "Requirement already satisfied: pyparsing>=2.3.1 in /usr/local/lib/python3.10/dist-packages (from matplotlib->pyod) (3.1.1)\n",
            "Requirement already satisfied: python-dateutil>=2.7 in /usr/local/lib/python3.10/dist-packages (from matplotlib->pyod) (2.8.2)\n",
            "Building wheels for collected packages: pyod\n",
            "  Building wheel for pyod (setup.py) ... \u001b[?25l\u001b[?25hdone\n",
            "  Created wheel for pyod: filename=pyod-1.1.0-py3-none-any.whl size=185329 sha256=aff517c7921b17e6c976773142425fdba62a823b379bcb59f6b4dbd782dc85e7\n",
            "  Stored in directory: /root/.cache/pip/wheels/36/8e/e2/e932956b10b843eb6be9eefa70b5c1bee7b561be14c423b136\n",
            "Successfully built pyod\n",
            "Installing collected packages: pyod\n",
            "Successfully installed pyod-1.1.0\n"
          ]
        }
      ],
      "source": [
        "%pip install pyod"
      ]
    },
    {
      "cell_type": "markdown",
      "metadata": {
        "id": "xtOSM0ej5DuD"
      },
      "source": [
        "### LOF"
      ]
    },
    {
      "cell_type": "code",
      "execution_count": 56,
      "metadata": {
        "execution": {
          "iopub.execute_input": "2023-09-19T10:52:03.507888Z",
          "iopub.status.busy": "2023-09-19T10:52:03.507493Z",
          "iopub.status.idle": "2023-09-19T10:52:03.600238Z",
          "shell.execute_reply": "2023-09-19T10:52:03.599007Z",
          "shell.execute_reply.started": "2023-09-19T10:52:03.507850Z"
        },
        "id": "pIWik-5IkYuK",
        "trusted": true
      },
      "outputs": [],
      "source": [
        "train_lof = train[(train['label'] == 0)]\n",
        "X_train_lof = train_lof.iloc[:, :-5]"
      ]
    },
    {
      "cell_type": "code",
      "execution_count": 57,
      "metadata": {
        "execution": {
          "iopub.execute_input": "2023-09-19T10:52:03.601969Z",
          "iopub.status.busy": "2023-09-19T10:52:03.601629Z",
          "iopub.status.idle": "2023-09-19T10:52:03.739187Z",
          "shell.execute_reply": "2023-09-19T10:52:03.737967Z",
          "shell.execute_reply.started": "2023-09-19T10:52:03.601942Z"
        },
        "id": "nc58J62zkZPb",
        "trusted": true
      },
      "outputs": [],
      "source": [
        "X_test_3 = X_test.loc[remain_indices_2]\n",
        "test_3 = test.loc[remain_indices_2]"
      ]
    },
    {
      "cell_type": "code",
      "execution_count": 58,
      "metadata": {
        "execution": {
          "iopub.execute_input": "2023-09-19T10:52:03.741553Z",
          "iopub.status.busy": "2023-09-19T10:52:03.740637Z",
          "iopub.status.idle": "2023-09-19T11:21:58.569636Z",
          "shell.execute_reply": "2023-09-19T11:21:58.568445Z",
          "shell.execute_reply.started": "2023-09-19T10:52:03.741456Z"
        },
        "id": "MK1mAr6M5emo",
        "trusted": true
      },
      "outputs": [],
      "source": [
        "# # train an LOF detector\n",
        "# from pyod.models.ecod import ECOD\n",
        "# from pyod.models.abod import ABOD\n",
        "# from pyod.models.alad import ALAD\n",
        "# from pyod.models.anogan import AnoGAN\n",
        "# from pyod.models.rod import ROD\n",
        "# from pyod.models.lof import LOF\n",
        "# from pyod.models.lscp import LSCP\n",
        "# from pyod.models.ocsvm import OCSVM\n",
        "# from pyod.models.cblof import CBLOF\n",
        "# from pyod.models.knn import KNN\n",
        "# from pyod.models.inne import INNE\n",
        "# from pyod.models.auto_encoder import AutoEncoder\n",
        "# from pyod.models.iforest import IForest\n",
        "\n",
        "# # model_1 = OCSVM()\n",
        "# # model_2 = CBLOF()\n",
        "# # model_3 = KNN()\n",
        "\n",
        "# clf_lof = LOF( contamination=0.05)\n",
        "# clf_lof.fit(X_train_lof)\n",
        "\n",
        "# # get outlier scores\n",
        "# y_train_scores = clf_lof.decision_scores_  # raw outlier scores on the train data\n",
        "# y_test_scores = clf_lof.decision_function(X_test_3)  # predict raw outlier scores on test\n",
        "# print(f\"Train_score: {y_train_scores.mean()}\")\n",
        "# print(f\"Test_score: {y_test_scores.mean()}\")"
      ]
    },
    {
      "cell_type": "code",
      "source": [
        "from joblib import dump, load\n",
        "\n",
        "# save the model\n",
        "# dump(clf_lof, 'clf_lof_tcp_icmp.joblib')\n",
        "# load the model\n",
        "clf_lof = load('/content/drive/MyDrive/Colab Notebooks/data/CIDDS Data/clf_lof_tcp.joblib')"
      ],
      "metadata": {
        "id": "c22gF9pidaQm"
      },
      "execution_count": 59,
      "outputs": []
    },
    {
      "cell_type": "code",
      "execution_count": 60,
      "metadata": {
        "execution": {
          "iopub.execute_input": "2023-09-19T11:21:58.571886Z",
          "iopub.status.busy": "2023-09-19T11:21:58.570983Z",
          "iopub.status.idle": "2023-09-19T11:34:42.886807Z",
          "shell.execute_reply": "2023-09-19T11:34:42.885546Z",
          "shell.execute_reply.started": "2023-09-19T11:21:58.571855Z"
        },
        "id": "Q5Cp878b5khb",
        "trusted": true,
        "colab": {
          "base_uri": "https://localhost:8080/"
        },
        "outputId": "3832e1c4-8410-47d8-96d6-618c792bd9f6"
      },
      "outputs": [
        {
          "output_type": "execute_result",
          "data": {
            "text/plain": [
              "0    268577\n",
              "1    188783\n",
              "dtype: int64"
            ]
          },
          "metadata": {},
          "execution_count": 60
        }
      ],
      "source": [
        "start_time = time.time()\n",
        "\n",
        "y_pred_lof = clf_lof.predict(X_test_3)\n",
        "\n",
        "end_time = time.time()\n",
        "execution_time_lof = end_time - start_time\n",
        "\n",
        "pd.DataFrame(y_pred_lof).value_counts()"
      ]
    },
    {
      "cell_type": "code",
      "execution_count": 61,
      "metadata": {
        "execution": {
          "iopub.execute_input": "2023-09-19T11:34:42.889763Z",
          "iopub.status.busy": "2023-09-19T11:34:42.888416Z",
          "iopub.status.idle": "2023-09-19T11:34:42.904246Z",
          "shell.execute_reply": "2023-09-19T11:34:42.903131Z",
          "shell.execute_reply.started": "2023-09-19T11:34:42.889722Z"
        },
        "id": "eIq3hppI5ruR",
        "trusted": true,
        "colab": {
          "base_uri": "https://localhost:8080/"
        },
        "outputId": "e14fc64e-c0f7-432d-ca19-d94c864c4e51"
      },
      "outputs": [
        {
          "output_type": "execute_result",
          "data": {
            "text/plain": [
              "1    262501\n",
              "0    194859\n",
              "Name: attackDescription_normal, dtype: int64"
            ]
          },
          "metadata": {},
          "execution_count": 61
        }
      ],
      "source": [
        "test_3['attackDescription_normal'].value_counts()"
      ]
    },
    {
      "cell_type": "code",
      "execution_count": 62,
      "metadata": {
        "execution": {
          "iopub.execute_input": "2023-09-19T11:34:42.906058Z",
          "iopub.status.busy": "2023-09-19T11:34:42.905729Z",
          "iopub.status.idle": "2023-09-19T11:34:42.924284Z",
          "shell.execute_reply": "2023-09-19T11:34:42.923291Z",
          "shell.execute_reply.started": "2023-09-19T11:34:42.906030Z"
        },
        "id": "tdIRrEWo5vA9",
        "trusted": true,
        "colab": {
          "base_uri": "https://localhost:8080/"
        },
        "outputId": "6378d9a3-1d15-4d34-986c-7129da34b721"
      },
      "outputs": [
        {
          "output_type": "execute_result",
          "data": {
            "text/plain": [
              "0    262501\n",
              "1    194859\n",
              "Name: attackDescription_normal, dtype: int64"
            ]
          },
          "metadata": {},
          "execution_count": 62
        }
      ],
      "source": [
        "true_abnormal_1 = test_3['attackDescription_normal'].copy()\n",
        "true_abnormal_1 = true_abnormal_1.replace({0: 1, 1: 0})\n",
        "true_abnormal_1.value_counts()"
      ]
    },
    {
      "cell_type": "code",
      "execution_count": 63,
      "metadata": {
        "execution": {
          "iopub.execute_input": "2023-09-19T11:34:42.927032Z",
          "iopub.status.busy": "2023-09-19T11:34:42.925727Z",
          "iopub.status.idle": "2023-09-19T11:34:43.924563Z",
          "shell.execute_reply": "2023-09-19T11:34:43.923347Z",
          "shell.execute_reply.started": "2023-09-19T11:34:42.926985Z"
        },
        "id": "udBGO-6F5v83",
        "trusted": true,
        "colab": {
          "base_uri": "https://localhost:8080/"
        },
        "outputId": "463771ab-0d1c-468b-de9c-a3e3833ebf7c"
      },
      "outputs": [
        {
          "output_type": "stream",
          "name": "stdout",
          "text": [
            "Scores of outlier:\n",
            "\tACC: 0.9295653314675529\n",
            "\tPPV: 0.9297446362758357\n",
            "\tTPR: 0.9259814965628932\n",
            "\tF1 : 0.9276866674992931\n",
            "\tAUC: 0.9259814965628932\n",
            "\tMCC: 0.855717858410485\n",
            "\tFPR: 0.04978647700389713\n"
          ]
        }
      ],
      "source": [
        "cm = confusion_matrix(true_abnormal_1, y_pred_lof)\n",
        "\n",
        "acc = accuracy_score(true_abnormal_1, y_pred_lof)\n",
        "ppv = precision_score(true_abnormal_1, y_pred_lof, average='macro')\n",
        "f1 = f1_score(true_abnormal_1, y_pred_lof, average='macro')\n",
        "tpr = recall_score(true_abnormal_1, y_pred_lof, average='macro')\n",
        "fpr = cm[0, 1] / (cm[0, 0] + cm[0, 1])\n",
        "auc = roc_auc_score(true_abnormal_1, y_pred_lof)\n",
        "mcc = matthews_corrcoef(true_abnormal_1, y_pred_lof)\n",
        "\n",
        "print('Scores of outlier:')\n",
        "print(f'\\tACC: {acc}')\n",
        "print(f'\\tPPV: {ppv}')\n",
        "print(f'\\tTPR: {tpr}')\n",
        "print(f'\\tF1 : {f1}')\n",
        "print(f'\\tAUC: {auc}')\n",
        "print(f'\\tMCC: {mcc}')\n",
        "print(f'\\tFPR: {fpr}')"
      ]
    },
    {
      "cell_type": "code",
      "execution_count": 64,
      "metadata": {
        "execution": {
          "iopub.execute_input": "2023-09-19T11:34:43.926647Z",
          "iopub.status.busy": "2023-09-19T11:34:43.926174Z",
          "iopub.status.idle": "2023-09-19T11:34:44.019252Z",
          "shell.execute_reply": "2023-09-19T11:34:44.018069Z",
          "shell.execute_reply.started": "2023-09-19T11:34:43.926608Z"
        },
        "id": "PCvusg-150ke",
        "trusted": true,
        "colab": {
          "base_uri": "https://localhost:8080/"
        },
        "outputId": "9cc81368-b5dd-4b08-c515-2bad2eedd914"
      },
      "outputs": [
        {
          "output_type": "stream",
          "name": "stdout",
          "text": [
            "[[249432  13069]\n",
            " [ 19145 175714]]\n"
          ]
        }
      ],
      "source": [
        "print(confusion_matrix(true_abnormal_1, y_pred_lof))"
      ]
    },
    {
      "cell_type": "code",
      "execution_count": 65,
      "metadata": {
        "execution": {
          "iopub.execute_input": "2023-09-19T11:34:44.022607Z",
          "iopub.status.busy": "2023-09-19T11:34:44.020509Z",
          "iopub.status.idle": "2023-09-19T11:34:44.888801Z",
          "shell.execute_reply": "2023-09-19T11:34:44.887347Z",
          "shell.execute_reply.started": "2023-09-19T11:34:44.022575Z"
        },
        "id": "HZEJpuEf53Bv",
        "trusted": true,
        "colab": {
          "base_uri": "https://localhost:8080/"
        },
        "outputId": "925e4090-8ca6-410f-bf1a-7eccf8b3a7aa"
      },
      "outputs": [
        {
          "output_type": "stream",
          "name": "stdout",
          "text": [
            "              precision    recall  f1-score   support\n",
            "\n",
            "           0       0.93      0.95      0.94    262501\n",
            "           1       0.93      0.90      0.92    194859\n",
            "\n",
            "    accuracy                           0.93    457360\n",
            "   macro avg       0.93      0.93      0.93    457360\n",
            "weighted avg       0.93      0.93      0.93    457360\n",
            "\n"
          ]
        }
      ],
      "source": [
        "print(classification_report(true_abnormal_1, y_pred_lof))"
      ]
    },
    {
      "cell_type": "code",
      "execution_count": 66,
      "metadata": {
        "execution": {
          "iopub.execute_input": "2023-09-19T11:34:44.890607Z",
          "iopub.status.busy": "2023-09-19T11:34:44.890213Z",
          "iopub.status.idle": "2023-09-19T11:34:44.900644Z",
          "shell.execute_reply": "2023-09-19T11:34:44.899782Z",
          "shell.execute_reply.started": "2023-09-19T11:34:44.890577Z"
        },
        "id": "YDppQNWC6wYa",
        "trusted": true,
        "colab": {
          "base_uri": "https://localhost:8080/"
        },
        "outputId": "17b12eee-e41c-4518-b0e7-396e06b265c2"
      },
      "outputs": [
        {
          "output_type": "stream",
          "name": "stdout",
          "text": [
            "Int64Index([     4,      5,      6,      7,      8,     11,     12,     13,\n",
            "                18,     19,\n",
            "            ...\n",
            "            506784, 506786, 506788, 506789, 506790, 506792, 506793, 506795,\n",
            "            506796, 506800],\n",
            "           dtype='int64', length=268577)\n"
          ]
        }
      ],
      "source": [
        "remain_indices_3 = test_3.index[np.where(y_pred_lof == 0)[0]]\n",
        "print(remain_indices_3)"
      ]
    },
    {
      "cell_type": "code",
      "execution_count": 67,
      "metadata": {
        "execution": {
          "iopub.execute_input": "2023-09-19T11:34:44.902736Z",
          "iopub.status.busy": "2023-09-19T11:34:44.902153Z",
          "iopub.status.idle": "2023-09-19T11:34:44.914770Z",
          "shell.execute_reply": "2023-09-19T11:34:44.913875Z",
          "shell.execute_reply.started": "2023-09-19T11:34:44.902701Z"
        },
        "id": "zOSwxtip55N_",
        "trusted": true
      },
      "outputs": [],
      "source": [
        "tcp_pred_lof = true_abnormal_1.index[np.where(y_pred_lof == 1)[0]]"
      ]
    },
    {
      "cell_type": "markdown",
      "metadata": {
        "id": "xdcYyKC-5JU7"
      },
      "source": [
        "### INNE"
      ]
    },
    {
      "cell_type": "code",
      "execution_count": 68,
      "metadata": {
        "execution": {
          "iopub.execute_input": "2023-09-19T11:34:44.916831Z",
          "iopub.status.busy": "2023-09-19T11:34:44.915900Z",
          "iopub.status.idle": "2023-09-19T11:34:45.021076Z",
          "shell.execute_reply": "2023-09-19T11:34:45.019913Z",
          "shell.execute_reply.started": "2023-09-19T11:34:44.916800Z"
        },
        "id": "3AL1uLOW6WB8",
        "trusted": true
      },
      "outputs": [],
      "source": [
        "train_inne = train[(train['label'] == 0)]\n",
        "X_train_inne = train_inne.iloc[:, :-5]"
      ]
    },
    {
      "cell_type": "code",
      "execution_count": 69,
      "metadata": {
        "execution": {
          "iopub.execute_input": "2023-09-19T11:34:45.022925Z",
          "iopub.status.busy": "2023-09-19T11:34:45.022592Z",
          "iopub.status.idle": "2023-09-19T11:34:45.176044Z",
          "shell.execute_reply": "2023-09-19T11:34:45.175002Z",
          "shell.execute_reply.started": "2023-09-19T11:34:45.022897Z"
        },
        "id": "ej8bLAOm6YaF",
        "trusted": true
      },
      "outputs": [],
      "source": [
        "X_test_4 = X_test.loc[remain_indices_3]\n",
        "test_4 = test.loc[remain_indices_3]"
      ]
    },
    {
      "cell_type": "code",
      "execution_count": 70,
      "metadata": {
        "execution": {
          "iopub.execute_input": "2023-09-19T11:34:45.179771Z",
          "iopub.status.busy": "2023-09-19T11:34:45.177459Z",
          "iopub.status.idle": "2023-09-19T11:36:22.651008Z",
          "shell.execute_reply": "2023-09-19T11:36:22.649630Z",
          "shell.execute_reply.started": "2023-09-19T11:34:45.179736Z"
        },
        "id": "fGzOicfokbBU",
        "trusted": true
      },
      "outputs": [],
      "source": [
        "# # train with INNE detector\n",
        "# from pyod.models.ecod import ECOD\n",
        "# from pyod.models.abod import ABOD\n",
        "# from pyod.models.alad import ALAD\n",
        "# from pyod.models.anogan import AnoGAN\n",
        "# from pyod.models.rod import ROD\n",
        "# from pyod.models.lof import LOF\n",
        "# from pyod.models.lscp import LSCP\n",
        "# from pyod.models.ocsvm import OCSVM\n",
        "# from pyod.models.cblof import CBLOF\n",
        "# from pyod.models.knn import KNN\n",
        "# from pyod.models.inne import INNE\n",
        "# from pyod.models.auto_encoder import AutoEncoder\n",
        "# from pyod.models.iforest import IForest\n",
        "\n",
        "# # model_1 = OCSVM()\n",
        "# # model_2 = CBLOF()\n",
        "# # model_3 = KNN()\n",
        "\n",
        "# clf_inne = INNE( contamination=0.05)\n",
        "# clf_inne.fit(X_train_inne)\n",
        "\n",
        "# # get outlier scores\n",
        "# y_train_scores = clf_inne.decision_scores_  # raw outlier scores on the train data\n",
        "# y_test_scores = clf_inne.decision_function(X_test_4)  # predict raw outlier scores on test\n",
        "# print(f\"Train_score: {y_train_scores.mean()}\")\n",
        "# print(f\"Test_score: {y_test_scores.mean()}\")"
      ]
    },
    {
      "cell_type": "code",
      "source": [
        "from joblib import dump, load\n",
        "\n",
        "# save the model\n",
        "# dump(clf_inne, 'clf_inne_tcp_icmp.joblib')\n",
        "# load the model\n",
        "clf_inne = load('/content/drive/MyDrive/Colab Notebooks/data/CIDDS Data/clf_inne_tcp.joblib')"
      ],
      "metadata": {
        "id": "LpFe905wfXCr"
      },
      "execution_count": 71,
      "outputs": []
    },
    {
      "cell_type": "code",
      "execution_count": 72,
      "metadata": {
        "execution": {
          "iopub.execute_input": "2023-09-19T11:36:22.652912Z",
          "iopub.status.busy": "2023-09-19T11:36:22.652577Z",
          "iopub.status.idle": "2023-09-19T11:36:55.656137Z",
          "shell.execute_reply": "2023-09-19T11:36:55.655263Z",
          "shell.execute_reply.started": "2023-09-19T11:36:22.652884Z"
        },
        "id": "T1IagO16kdMT",
        "trusted": true,
        "colab": {
          "base_uri": "https://localhost:8080/"
        },
        "outputId": "082c5045-616e-4783-f633-1aec9279e79a"
      },
      "outputs": [
        {
          "output_type": "execute_result",
          "data": {
            "text/plain": [
              "0    254008\n",
              "1     14569\n",
              "dtype: int64"
            ]
          },
          "metadata": {},
          "execution_count": 72
        }
      ],
      "source": [
        "start_time = time.time()\n",
        "\n",
        "y_pred_inne = clf_inne.predict(X_test_4)\n",
        "\n",
        "end_time = time.time()\n",
        "execution_time_inne = end_time - start_time\n",
        "\n",
        "pd.DataFrame(y_pred_inne).value_counts()"
      ]
    },
    {
      "cell_type": "code",
      "execution_count": 73,
      "metadata": {
        "execution": {
          "iopub.execute_input": "2023-09-19T11:36:55.658824Z",
          "iopub.status.busy": "2023-09-19T11:36:55.657676Z",
          "iopub.status.idle": "2023-09-19T11:36:55.672092Z",
          "shell.execute_reply": "2023-09-19T11:36:55.670332Z",
          "shell.execute_reply.started": "2023-09-19T11:36:55.658782Z"
        },
        "id": "sC1mJSOwkfZx",
        "trusted": true,
        "colab": {
          "base_uri": "https://localhost:8080/"
        },
        "outputId": "1cba23f7-8b57-4064-f6e4-cfa83a5632b9"
      },
      "outputs": [
        {
          "output_type": "execute_result",
          "data": {
            "text/plain": [
              "1    249432\n",
              "0     19145\n",
              "Name: attackDescription_normal, dtype: int64"
            ]
          },
          "metadata": {},
          "execution_count": 73
        }
      ],
      "source": [
        "test_4['attackDescription_normal'].value_counts()"
      ]
    },
    {
      "cell_type": "code",
      "execution_count": 74,
      "metadata": {
        "execution": {
          "iopub.execute_input": "2023-09-19T11:36:55.674520Z",
          "iopub.status.busy": "2023-09-19T11:36:55.674058Z",
          "iopub.status.idle": "2023-09-19T11:36:55.689769Z",
          "shell.execute_reply": "2023-09-19T11:36:55.688618Z",
          "shell.execute_reply.started": "2023-09-19T11:36:55.674479Z"
        },
        "id": "zpXPgzhikhk9",
        "trusted": true,
        "colab": {
          "base_uri": "https://localhost:8080/"
        },
        "outputId": "4e787a27-24c6-460e-f1bd-70916afe84be"
      },
      "outputs": [
        {
          "output_type": "execute_result",
          "data": {
            "text/plain": [
              "0    249432\n",
              "1     19145\n",
              "Name: attackDescription_normal, dtype: int64"
            ]
          },
          "metadata": {},
          "execution_count": 74
        }
      ],
      "source": [
        "true_abnormal_2 = test_4['attackDescription_normal'].copy()\n",
        "true_abnormal_2 = true_abnormal_2.replace({0: 1, 1: 0})\n",
        "true_abnormal_2.value_counts()\n"
      ]
    },
    {
      "cell_type": "code",
      "execution_count": 75,
      "metadata": {
        "execution": {
          "iopub.execute_input": "2023-09-19T11:36:55.692011Z",
          "iopub.status.busy": "2023-09-19T11:36:55.691224Z",
          "iopub.status.idle": "2023-09-19T11:36:56.178682Z",
          "shell.execute_reply": "2023-09-19T11:36:56.177423Z",
          "shell.execute_reply.started": "2023-09-19T11:36:55.691966Z"
        },
        "id": "TfxXDwvlkwd8",
        "trusted": true,
        "colab": {
          "base_uri": "https://localhost:8080/"
        },
        "outputId": "4eb1253c-ac08-422e-8b3c-25856cdc3e6c"
      },
      "outputs": [
        {
          "output_type": "stream",
          "name": "stdout",
          "text": [
            "Scores of outlier:\n",
            "\tACC: 0.8891714480391099\n",
            "\tPPV: 0.5339464686834201\n",
            "\tTPR: 0.5263065685236858\n",
            "\tF1 : 0.5289887344070835\n",
            "\tAUC: 0.5263065685236858\n",
            "\tMCC: 0.059766716642544335\n",
            "\tFPR: 0.05049472401295744\n"
          ]
        }
      ],
      "source": [
        "cm = confusion_matrix(true_abnormal_2, y_pred_inne)\n",
        "\n",
        "acc = accuracy_score(true_abnormal_2, y_pred_inne)\n",
        "ppv = precision_score(true_abnormal_2, y_pred_inne, average='macro')\n",
        "f1 = f1_score(true_abnormal_2, y_pred_inne, average='macro')\n",
        "tpr = recall_score(true_abnormal_2, y_pred_inne, average='macro')\n",
        "fpr = cm[0, 1] / (cm[0, 0] + cm[0, 1])\n",
        "auc = roc_auc_score(true_abnormal_2, y_pred_inne)\n",
        "mcc = matthews_corrcoef(true_abnormal_2, y_pred_inne)\n",
        "\n",
        "print('Scores of outlier:')\n",
        "print(f'\\tACC: {acc}')\n",
        "print(f'\\tPPV: {ppv}')\n",
        "print(f'\\tTPR: {tpr}')\n",
        "print(f'\\tF1 : {f1}')\n",
        "print(f'\\tAUC: {auc}')\n",
        "print(f'\\tMCC: {mcc}')\n",
        "print(f'\\tFPR: {fpr}')"
      ]
    },
    {
      "cell_type": "code",
      "execution_count": 76,
      "metadata": {
        "execution": {
          "iopub.execute_input": "2023-09-19T11:36:56.180067Z",
          "iopub.status.busy": "2023-09-19T11:36:56.179758Z",
          "iopub.status.idle": "2023-09-19T11:36:56.228378Z",
          "shell.execute_reply": "2023-09-19T11:36:56.227565Z",
          "shell.execute_reply.started": "2023-09-19T11:36:56.180031Z"
        },
        "id": "wyIRcfEQkxGe",
        "trusted": true,
        "colab": {
          "base_uri": "https://localhost:8080/"
        },
        "outputId": "fbcaefe8-16b1-4f1f-b7e4-148c71d4b4c4"
      },
      "outputs": [
        {
          "output_type": "stream",
          "name": "stdout",
          "text": [
            "[[236837  12595]\n",
            " [ 17171   1974]]\n"
          ]
        }
      ],
      "source": [
        "print(confusion_matrix(true_abnormal_2, y_pred_inne))"
      ]
    },
    {
      "cell_type": "code",
      "execution_count": 77,
      "metadata": {
        "execution": {
          "iopub.execute_input": "2023-09-19T11:36:56.230155Z",
          "iopub.status.busy": "2023-09-19T11:36:56.229497Z",
          "iopub.status.idle": "2023-09-19T11:36:56.623811Z",
          "shell.execute_reply": "2023-09-19T11:36:56.622421Z",
          "shell.execute_reply.started": "2023-09-19T11:36:56.230123Z"
        },
        "id": "Ay4hJt8ik0Xb",
        "trusted": true,
        "colab": {
          "base_uri": "https://localhost:8080/"
        },
        "outputId": "75ab2a69-f435-4282-eb54-a17f9d7a0f68"
      },
      "outputs": [
        {
          "output_type": "stream",
          "name": "stdout",
          "text": [
            "              precision    recall  f1-score   support\n",
            "\n",
            "           0       0.93      0.95      0.94    249432\n",
            "           1       0.14      0.10      0.12     19145\n",
            "\n",
            "    accuracy                           0.89    268577\n",
            "   macro avg       0.53      0.53      0.53    268577\n",
            "weighted avg       0.88      0.89      0.88    268577\n",
            "\n"
          ]
        }
      ],
      "source": [
        "print(classification_report(true_abnormal_2, y_pred_inne))"
      ]
    },
    {
      "cell_type": "code",
      "execution_count": 78,
      "metadata": {
        "execution": {
          "iopub.execute_input": "2023-09-19T11:36:56.627002Z",
          "iopub.status.busy": "2023-09-19T11:36:56.626098Z",
          "iopub.status.idle": "2023-09-19T11:36:56.633886Z",
          "shell.execute_reply": "2023-09-19T11:36:56.632781Z",
          "shell.execute_reply.started": "2023-09-19T11:36:56.626952Z"
        },
        "id": "YPKCvoxek3LU",
        "trusted": true,
        "colab": {
          "base_uri": "https://localhost:8080/"
        },
        "outputId": "825d4ed6-4f00-4a99-9a8d-01655085a480"
      },
      "outputs": [
        {
          "output_type": "stream",
          "name": "stdout",
          "text": [
            "Int64Index([    26,     31,     33,     64,    257,    265,    299,    324,\n",
            "               370,    427,\n",
            "            ...\n",
            "            506295, 506358, 506410, 506580, 506674, 506684, 506724, 506730,\n",
            "            506775, 506784],\n",
            "           dtype='int64', length=14569)\n"
          ]
        }
      ],
      "source": [
        "tcp_pred_inne = true_abnormal_2.index[np.where(y_pred_inne == 1)[0]]\n",
        "print(tcp_pred_inne)"
      ]
    },
    {
      "cell_type": "code",
      "execution_count": 79,
      "metadata": {
        "execution": {
          "iopub.execute_input": "2023-09-19T11:36:56.636004Z",
          "iopub.status.busy": "2023-09-19T11:36:56.635582Z",
          "iopub.status.idle": "2023-09-19T11:36:56.647488Z",
          "shell.execute_reply": "2023-09-19T11:36:56.646118Z",
          "shell.execute_reply.started": "2023-09-19T11:36:56.635956Z"
        },
        "id": "m7UFjn_d_0TA",
        "trusted": true,
        "colab": {
          "base_uri": "https://localhost:8080/"
        },
        "outputId": "a54c6adb-3d26-49d0-a246-84867dc2f977"
      },
      "outputs": [
        {
          "output_type": "execute_result",
          "data": {
            "text/plain": [
              "Int64Index([     1,      2,      3,      9,     14,     15,     16,     17,\n",
              "                23,     25,\n",
              "            ...\n",
              "            506295, 506358, 506410, 506580, 506674, 506684, 506724, 506730,\n",
              "            506775, 506784],\n",
              "           dtype='int64', length=203352)"
            ]
          },
          "metadata": {},
          "execution_count": 79
        }
      ],
      "source": [
        "tcp_pred = tcp_pred_lof.append(tcp_pred_inne)\n",
        "tcp_pred"
      ]
    },
    {
      "cell_type": "markdown",
      "metadata": {
        "id": "fG-RWKfHk5FS"
      },
      "source": [
        "# **RESULT**"
      ]
    },
    {
      "cell_type": "markdown",
      "source": [
        "### Binary"
      ],
      "metadata": {
        "id": "IFdZqFniWnmL"
      }
    },
    {
      "cell_type": "code",
      "execution_count": 80,
      "metadata": {
        "execution": {
          "iopub.execute_input": "2023-09-19T11:36:56.649601Z",
          "iopub.status.busy": "2023-09-19T11:36:56.648894Z",
          "iopub.status.idle": "2023-09-19T11:36:56.656042Z",
          "shell.execute_reply": "2023-09-19T11:36:56.655284Z",
          "shell.execute_reply.started": "2023-09-19T11:36:56.649561Z"
        },
        "id": "II-HYAxUk6ee",
        "trusted": true
      },
      "outputs": [],
      "source": [
        "y_pred = np.zeros_like(y_pred_1)"
      ]
    },
    {
      "cell_type": "code",
      "execution_count": 81,
      "metadata": {
        "execution": {
          "iopub.execute_input": "2023-09-19T11:36:56.657976Z",
          "iopub.status.busy": "2023-09-19T11:36:56.657577Z",
          "iopub.status.idle": "2023-09-19T11:36:56.684020Z",
          "shell.execute_reply": "2023-09-19T11:36:56.682860Z",
          "shell.execute_reply.started": "2023-09-19T11:36:56.657939Z"
        },
        "id": "AI0qbkFbk9Mo",
        "trusted": true,
        "colab": {
          "base_uri": "https://localhost:8080/"
        },
        "outputId": "0b1cc7b0-5c5c-4d03-de18-17ae3651227c"
      },
      "outputs": [
        {
          "output_type": "execute_result",
          "data": {
            "text/plain": [
              "0    254008\n",
              "1    252796\n",
              "dtype: int64"
            ]
          },
          "metadata": {},
          "execution_count": 81
        }
      ],
      "source": [
        "y_pred[udp_pred]=1\n",
        "y_pred[tcp_pred]=1\n",
        "y_pred[icmp_pred]=1\n",
        "\n",
        "pd.DataFrame(y_pred).value_counts()"
      ]
    },
    {
      "cell_type": "code",
      "execution_count": 82,
      "metadata": {
        "execution": {
          "iopub.execute_input": "2023-09-19T11:38:08.802117Z",
          "iopub.status.busy": "2023-09-19T11:38:08.801689Z",
          "iopub.status.idle": "2023-09-19T11:38:08.812921Z",
          "shell.execute_reply": "2023-09-19T11:38:08.811477Z",
          "shell.execute_reply.started": "2023-09-19T11:38:08.802084Z"
        },
        "trusted": true,
        "colab": {
          "base_uri": "https://localhost:8080/"
        },
        "id": "G9_j0donWB7p",
        "outputId": "832c0a09-61c6-4c67-88e6-3ad45d36ac10"
      },
      "outputs": [
        {
          "output_type": "execute_result",
          "data": {
            "text/plain": [
              "0         0\n",
              "1         1\n",
              "2         1\n",
              "3         1\n",
              "4         0\n",
              "         ..\n",
              "506799    1\n",
              "506800    0\n",
              "506801    0\n",
              "506802    0\n",
              "506803    0\n",
              "Name: attackDescription_TCP, Length: 506804, dtype: uint8"
            ]
          },
          "metadata": {},
          "execution_count": 82
        }
      ],
      "source": [
        "test_series = pd.Series(test['attackDescription_TCP'])\n",
        "test_series"
      ]
    },
    {
      "cell_type": "code",
      "execution_count": 83,
      "metadata": {
        "execution": {
          "iopub.execute_input": "2023-09-19T11:38:15.554197Z",
          "iopub.status.busy": "2023-09-19T11:38:15.553423Z",
          "iopub.status.idle": "2023-09-19T11:38:15.563330Z",
          "shell.execute_reply": "2023-09-19T11:38:15.561963Z",
          "shell.execute_reply.started": "2023-09-19T11:38:15.554141Z"
        },
        "trusted": true,
        "id": "5ReuRmTVWB7q"
      },
      "outputs": [],
      "source": [
        "tcp_indices = np.where(test_series == 1)[0]"
      ]
    },
    {
      "cell_type": "code",
      "execution_count": 84,
      "metadata": {
        "execution": {
          "iopub.execute_input": "2023-09-19T11:38:22.738085Z",
          "iopub.status.busy": "2023-09-19T11:38:22.737647Z",
          "iopub.status.idle": "2023-09-19T11:38:23.998675Z",
          "shell.execute_reply": "2023-09-19T11:38:23.997239Z",
          "shell.execute_reply.started": "2023-09-19T11:38:22.738049Z"
        },
        "id": "u29RVKEXk_dZ",
        "trusted": true,
        "colab": {
          "base_uri": "https://localhost:8080/"
        },
        "outputId": "b96b2b23-c5e7-481f-8ec7-ec72ccdb1ceb"
      },
      "outputs": [
        {
          "output_type": "stream",
          "name": "stdout",
          "text": [
            "Scores of hybrid_model:\n",
            "\tUDR: 0.9162323045370416 (183164 / 199910)\n",
            "\tACC: 0.9159102927364425\n",
            "\tPPV: 0.9158708492737273\n",
            "\tTPR: 0.9163778357933046\n",
            "\tF1 : 0.9158809282346452\n",
            "\tAUC: 0.9163778357933046\n",
            "\tMCC: 0.8322485306448263\n",
            "\tFPR: 0.09698968600461365\n"
          ]
        }
      ],
      "source": [
        "cm = confusion_matrix(test['label'], y_pred)\n",
        "\n",
        "acc = accuracy_score(test['label'], y_pred)\n",
        "ppv = precision_score(test['label'], y_pred, average='macro')\n",
        "f1 = f1_score(test['label'], y_pred, average='macro')\n",
        "tpr = recall_score(test['label'], y_pred, average='macro')\n",
        "fpr = cm[0, 1] / (cm[0, 0] + cm[0, 1])\n",
        "auc = roc_auc_score(test['label'], y_pred)\n",
        "mcc = matthews_corrcoef(test['label'], y_pred)\n",
        "\n",
        "num_detec = sum(y_pred[tcp_indices] == 1)\n",
        "num_UDP = sum(test['attackDescription_TCP'])\n",
        "udr = num_detec / num_UDP\n",
        "\n",
        "# model_pred['Tabnet'] = y_pred\n",
        "# model_acc['Tabnet'] = acc\n",
        "# model_ppv['Tabnet'] = ppv\n",
        "# model_f1['Tabnet'] = f1\n",
        "# model_tpr['Tabnet'] = tpr\n",
        "# model_fpr['Tabnet'] = fpr\n",
        "# model_auc['Tabnet'] = auc\n",
        "# model_mcc['Tabnet'] = mcc\n",
        "# model_udr['Tabnet'] = udr\n",
        "\n",
        "print('Scores of hybrid_model:')\n",
        "print(f'\\tUDR: {udr} ({num_detec} / {num_UDP})')\n",
        "print(f'\\tACC: {acc}')\n",
        "print(f'\\tPPV: {ppv}')\n",
        "print(f'\\tTPR: {tpr}')\n",
        "print(f'\\tF1 : {f1}')\n",
        "print(f'\\tAUC: {auc}')\n",
        "print(f'\\tMCC: {mcc}')\n",
        "print(f'\\tFPR: {fpr}')"
      ]
    },
    {
      "cell_type": "code",
      "execution_count": 85,
      "metadata": {
        "execution": {
          "iopub.execute_input": "2023-09-19T11:38:30.403366Z",
          "iopub.status.busy": "2023-09-19T11:38:30.402978Z",
          "iopub.status.idle": "2023-09-19T11:38:30.504677Z",
          "shell.execute_reply": "2023-09-19T11:38:30.503550Z",
          "shell.execute_reply.started": "2023-09-19T11:38:30.403336Z"
        },
        "id": "ZdSwK4tulNyw",
        "trusted": true,
        "colab": {
          "base_uri": "https://localhost:8080/"
        },
        "outputId": "36e0e45c-6a9c-4e30-fbdb-36aa7711bb47"
      },
      "outputs": [
        {
          "output_type": "stream",
          "name": "stdout",
          "text": [
            "[[236828  25437]\n",
            " [ 17180 227359]]\n"
          ]
        }
      ],
      "source": [
        "print(confusion_matrix(test['label'], y_pred))"
      ]
    },
    {
      "cell_type": "code",
      "execution_count": 86,
      "metadata": {
        "execution": {
          "iopub.execute_input": "2023-09-19T11:38:33.183333Z",
          "iopub.status.busy": "2023-09-19T11:38:33.182625Z",
          "iopub.status.idle": "2023-09-19T11:38:34.154060Z",
          "shell.execute_reply": "2023-09-19T11:38:34.152698Z",
          "shell.execute_reply.started": "2023-09-19T11:38:33.183295Z"
        },
        "id": "arUu9wxWlOFo",
        "trusted": true,
        "colab": {
          "base_uri": "https://localhost:8080/"
        },
        "outputId": "675c52e1-f351-4ac4-a9ff-f144a5ecc601"
      },
      "outputs": [
        {
          "output_type": "stream",
          "name": "stdout",
          "text": [
            "              precision    recall  f1-score   support\n",
            "\n",
            "           0       0.93      0.90      0.92    262265\n",
            "           1       0.90      0.93      0.91    244539\n",
            "\n",
            "    accuracy                           0.92    506804\n",
            "   macro avg       0.92      0.92      0.92    506804\n",
            "weighted avg       0.92      0.92      0.92    506804\n",
            "\n"
          ]
        }
      ],
      "source": [
        "print(classification_report(test['label'], y_pred))"
      ]
    },
    {
      "cell_type": "markdown",
      "source": [
        "### Multiclass"
      ],
      "metadata": {
        "id": "02SL7IAzWqEr"
      }
    },
    {
      "cell_type": "code",
      "source": [
        "y_pred_multi = np.zeros_like(y_pred_1)"
      ],
      "metadata": {
        "id": "rNCpUZS7Wss2"
      },
      "execution_count": 87,
      "outputs": []
    },
    {
      "cell_type": "code",
      "source": [
        "y_pred_multi[udp_pred]=2\n",
        "y_pred_multi[tcp_pred]=1\n",
        "y_pred_multi[icmp_pred]=3\n",
        "\n",
        "pd.DataFrame(y_pred_multi).value_counts()"
      ],
      "metadata": {
        "colab": {
          "base_uri": "https://localhost:8080/"
        },
        "id": "4g_3FkPLWv6a",
        "outputId": "d7b1de80-d26f-4e2a-e42b-849fab3a015e"
      },
      "execution_count": 88,
      "outputs": [
        {
          "output_type": "execute_result",
          "data": {
            "text/plain": [
              "0    254008\n",
              "1    203352\n",
              "2     41807\n",
              "3      7637\n",
              "dtype: int64"
            ]
          },
          "metadata": {},
          "execution_count": 88
        }
      ]
    },
    {
      "cell_type": "code",
      "source": [
        "label_multi = test['label'].copy()\n",
        "label_multi[test['attackDescription_UDP'] == 1] = 2\n",
        "label_multi[test['attackDescription_ICMP'] == 1] = 3"
      ],
      "metadata": {
        "id": "e1jSRu3RWzzh"
      },
      "execution_count": 89,
      "outputs": []
    },
    {
      "cell_type": "code",
      "source": [
        "print(confusion_matrix(label_multi, y_pred_multi))"
      ],
      "metadata": {
        "colab": {
          "base_uri": "https://localhost:8080/"
        },
        "id": "b4xvc9o6W3ML",
        "outputId": "19ee6b0c-9b7f-4e4c-aba7-e4c4e4073190"
      },
      "execution_count": 90,
      "outputs": [
        {
          "output_type": "stream",
          "name": "stdout",
          "text": [
            "[[236828  25434      3      0]\n",
            " [ 16755 177447   1682   4265]\n",
            " [   334    418  40119   1126]\n",
            " [    91     53      3   2246]]\n"
          ]
        }
      ]
    },
    {
      "cell_type": "code",
      "source": [
        "print(classification_report(label_multi, y_pred_multi))"
      ],
      "metadata": {
        "colab": {
          "base_uri": "https://localhost:8080/"
        },
        "id": "Ld6_ifKEW5iI",
        "outputId": "2fe40cb9-a832-4a56-fe7b-01b1cae10b6c"
      },
      "execution_count": 91,
      "outputs": [
        {
          "output_type": "stream",
          "name": "stdout",
          "text": [
            "              precision    recall  f1-score   support\n",
            "\n",
            "           0       0.93      0.90      0.92    262265\n",
            "           1       0.87      0.89      0.88    200149\n",
            "           2       0.96      0.96      0.96     41997\n",
            "           3       0.29      0.94      0.45      2393\n",
            "\n",
            "    accuracy                           0.90    506804\n",
            "   macro avg       0.76      0.92      0.80    506804\n",
            "weighted avg       0.91      0.90      0.90    506804\n",
            "\n"
          ]
        }
      ]
    },
    {
      "cell_type": "markdown",
      "source": [
        "### Time"
      ],
      "metadata": {
        "id": "-JTzHPDiW_OZ"
      }
    },
    {
      "cell_type": "code",
      "source": [
        "print(f'{len(X_test)/(execution_time_r1)} ({len(X_test)} / {execution_time_r1})')"
      ],
      "metadata": {
        "colab": {
          "base_uri": "https://localhost:8080/"
        },
        "id": "uS0HqtudW9aV",
        "outputId": "563c256c-9983-442b-ecc1-316e1f323234"
      },
      "execution_count": 92,
      "outputs": [
        {
          "output_type": "stream",
          "name": "stdout",
          "text": [
            "506266.6285957079 (506804 / 1.0010614395141602)\n"
          ]
        }
      ]
    },
    {
      "cell_type": "code",
      "source": [
        "print(f'{len(X_test_2)/(execution_time_r2)} ({len(X_test_2)} / {execution_time_r2})')"
      ],
      "metadata": {
        "colab": {
          "base_uri": "https://localhost:8080/"
        },
        "id": "eQP022ClXEV2",
        "outputId": "2e2fac12-eee5-4182-c47d-7a0252badd97"
      },
      "execution_count": 93,
      "outputs": [
        {
          "output_type": "stream",
          "name": "stdout",
          "text": [
            "482789.747200244 (464997 / 0.9631459712982178)\n"
          ]
        }
      ]
    },
    {
      "cell_type": "code",
      "source": [
        "print(f'{len(X_test_3)/(execution_time_lof)} ({len(X_test_3)} / {execution_time_lof})')"
      ],
      "metadata": {
        "colab": {
          "base_uri": "https://localhost:8080/"
        },
        "id": "oKQUKyiuXGsB",
        "outputId": "7c8ae133-876f-41e9-d2ee-41824dabccea"
      },
      "execution_count": 94,
      "outputs": [
        {
          "output_type": "stream",
          "name": "stdout",
          "text": [
            "247.6398534196885 (457360 / 1846.8755884170532)\n"
          ]
        }
      ]
    },
    {
      "cell_type": "code",
      "source": [
        "print(f'{len(X_test_4)/(execution_time_inne)} ({len(X_test_4)} / {execution_time_inne})')"
      ],
      "metadata": {
        "colab": {
          "base_uri": "https://localhost:8080/"
        },
        "id": "Ey2bmG2yXIc_",
        "outputId": "1a630ecf-f4c0-4e6f-e78b-89c09dbdb6c4"
      },
      "execution_count": 95,
      "outputs": [
        {
          "output_type": "stream",
          "name": "stdout",
          "text": [
            "8096.468257369282 (268577 / 33.172117948532104)\n"
          ]
        }
      ]
    },
    {
      "cell_type": "code",
      "source": [
        "total_time = execution_time_r1 + execution_time_r2 + execution_time_lof + execution_time_inne"
      ],
      "metadata": {
        "id": "dcTSfEnZXKgB"
      },
      "execution_count": 96,
      "outputs": []
    },
    {
      "cell_type": "code",
      "source": [
        "#print(f'{len(test)/(total_time)} ({len(test)} / {total_time})')"
      ],
      "metadata": {
        "id": "9SqReWEeXOR9"
      },
      "execution_count": 97,
      "outputs": []
    }
  ],
  "metadata": {
    "colab": {
      "collapsed_sections": [
        "3WpViLBtWFqk"
      ],
      "provenance": [],
      "toc_visible": true
    },
    "kernelspec": {
      "display_name": "Python 3",
      "language": "python",
      "name": "python3"
    },
    "language_info": {
      "codemirror_mode": {
        "name": "ipython",
        "version": 3
      },
      "file_extension": ".py",
      "mimetype": "text/x-python",
      "name": "python",
      "nbconvert_exporter": "python",
      "pygments_lexer": "ipython3",
      "version": "3.10.12"
    }
  },
  "nbformat": 4,
  "nbformat_minor": 0
}