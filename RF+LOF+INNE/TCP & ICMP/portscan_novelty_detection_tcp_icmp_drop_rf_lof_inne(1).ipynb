{
  "metadata": {
    "colab": {
      "provenance": [],
      "toc_visible": true,
      "collapsed_sections": [
        "MdE7M5oIV0x2",
        "3WpViLBtWFqk"
      ]
    },
    "kernelspec": {
      "name": "python3",
      "display_name": "Python 3"
    },
    "language_info": {
      "name": "python"
    }
  },
  "nbformat_minor": 0,
  "nbformat": 4,
  "cells": [
    {
      "cell_type": "markdown",
      "source": [
        "# IMPORT LIBRARIES"
      ],
      "metadata": {
        "id": "MdE7M5oIV0x2"
      }
    },
    {
      "cell_type": "code",
      "source": [
        "import pandas as pd\n",
        "import numpy as np\n",
        "import matplotlib.pyplot as plt\n",
        "import seaborn as sns\n",
        "import time\n",
        "\n",
        "from sklearn.model_selection import train_test_split\n",
        "from sklearn.preprocessing import MinMaxScaler\n",
        "from sklearn.ensemble import RandomForestClassifier\n",
        "from sklearn.preprocessing import LabelEncoder\n",
        "\n",
        "from sklearn.metrics import *\n",
        "\n",
        "import keras\n",
        "from keras.layers import Conv2D, Conv1D, MaxPooling2D, MaxPooling1D, Flatten, BatchNormalization, Dense, Dropout,GlobalMaxPooling1D\n",
        "from keras.src.utils.np_utils import to_categorical\n",
        "from keras.models import Sequential\n",
        "\n",
        "np.random.seed(0)\n",
        "%matplotlib inline\n",
        "pd.set_option('display.max_columns', None)"
      ],
      "metadata": {
        "id": "tTcMnHTNUcj_"
      },
      "execution_count": 1,
      "outputs": []
    },
    {
      "cell_type": "code",
      "source": [
        "from google.colab import drive\n",
        "drive.mount('/content/drive')"
      ],
      "metadata": {
        "colab": {
          "base_uri": "https://localhost:8080/"
        },
        "id": "QxRAC-gsWCR4",
        "outputId": "e15bae62-d2f5-4b8b-cd33-3e6d1de6cf92"
      },
      "execution_count": 2,
      "outputs": [
        {
          "output_type": "stream",
          "name": "stdout",
          "text": [
            "Drive already mounted at /content/drive; to attempt to forcibly remount, call drive.mount(\"/content/drive\", force_remount=True).\n"
          ]
        }
      ]
    },
    {
      "cell_type": "markdown",
      "source": [
        "# **Preprocessing Data**"
      ],
      "metadata": {
        "id": "3WpViLBtWFqk"
      }
    },
    {
      "cell_type": "code",
      "source": [
        "df1 = pd.read_csv(\"/content/drive/MyDrive/Colab Notebooks/data/CIDDS-001/reduced_cidds_001_normal_portscan_pingscan.csv\")\n",
        "df1 = df1.rename(columns={'class': 'label'})\n",
        "\n",
        "df2 = pd.read_csv('/content/drive/MyDrive/Colab Notebooks/data/CIDDS-002/reduced_cidds_002_normal_scan.csv')\n",
        "\n",
        "df = pd.concat([df1, df2], ignore_index=True)\n",
        "df"
      ],
      "metadata": {
        "colab": {
          "base_uri": "https://localhost:8080/",
          "height": 0
        },
        "id": "g4q8fHxjWFDR",
        "outputId": "0102686a-fd81-4f2a-e30c-d745780b7d15"
      },
      "execution_count": 3,
      "outputs": [
        {
          "output_type": "stream",
          "name": "stderr",
          "text": [
            "<ipython-input-3-b0948c52b01b>:1: DtypeWarning: Columns (8,14) have mixed types. Specify dtype option on import or set low_memory=False.\n",
            "  df1 = pd.read_csv(\"/content/drive/MyDrive/Colab Notebooks/data/CIDDS-001/reduced_cidds_001_normal_portscan_pingscan.csv\")\n",
            "<ipython-input-3-b0948c52b01b>:4: DtypeWarning: Columns (8,14) have mixed types. Specify dtype option on import or set low_memory=False.\n",
            "  df2 = pd.read_csv('/content/drive/MyDrive/Colab Notebooks/data/CIDDS-002/reduced_cidds_002_normal_scan.csv')\n"
          ]
        },
        {
          "output_type": "execute_result",
          "data": {
            "text/plain": [
              "                 Date first seen  Duration  Proto     Src IP Addr  Src Pt  \\\n",
              "0        2017-03-23 13:40:24.221     0.134  TCP         10305_148     443   \n",
              "1        2017-03-22 16:15:56.404     0.000  TCP         10001_230     443   \n",
              "2        2017-04-18 10:09:51.492     0.508  TCP         16796_188     443   \n",
              "3        2017-03-15 11:23:38.445     0.095  TCP           10068_2     443   \n",
              "4        2017-03-23 16:59:50.774     0.000  TCP          15306_50      80   \n",
              "...                          ...       ...    ...             ...     ...   \n",
              "5231831  2017-08-08 19:52:49.297     0.000  TCP    192.168.210.56    5907   \n",
              "5231832  2017-08-08 19:52:49.296     0.000  TCP    192.168.210.56       3   \n",
              "5231833  2017-08-08 19:52:49.296     0.000  TCP    192.168.210.56   32778   \n",
              "5231834  2017-08-08 19:52:49.296     0.000  TCP    192.168.210.56    8800   \n",
              "5231835  2017-08-08 19:52:49.288     0.000  TCP    192.168.220.51   47529   \n",
              "\n",
              "            Dst IP Addr   Dst Pt  Packets     Bytes  Flows   Flags  Tos  \\\n",
              "0         192.168.210.5  50210.0        5       449      1  .AP.S.   32   \n",
              "1        192.168.220.15  44214.0        1       462      1  .AP...    0   \n",
              "2         192.168.200.4  42941.0        7      6203      1  .AP.S.   32   \n",
              "3         192.168.220.8  58538.0        5      1246      1  .AP...   32   \n",
              "4        192.168.220.13  41670.0        1        66      1  .A....   32   \n",
              "...                 ...      ...      ...       ...    ...     ...  ...   \n",
              "5231831  192.168.220.51  47529.0        1        54      1  .A.R..    0   \n",
              "5231832  192.168.220.51  47529.0        1        54      1  .A.R..    0   \n",
              "5231833  192.168.220.51  47529.0        1        54      1  .A.R..    0   \n",
              "5231834  192.168.220.51  47529.0        1        54      1  .A.R..    0   \n",
              "5231835  192.168.210.56   6881.0        1        58      1  ....S.    0   \n",
              "\n",
              "            label attackType attackID    attackDescription  \n",
              "0          normal        ---      ---                  ---  \n",
              "1          normal        ---      ---                  ---  \n",
              "2          normal        ---      ---                  ---  \n",
              "3          normal        ---      ---                  ---  \n",
              "4          normal        ---      ---                  ---  \n",
              "...           ...        ...      ...                  ...  \n",
              "5231831    victim       scan       20  nmap args: -sS -T 2  \n",
              "5231832    victim       scan       20  nmap args: -sS -T 2  \n",
              "5231833    victim       scan       20  nmap args: -sS -T 2  \n",
              "5231834    victim       scan       20  nmap args: -sS -T 2  \n",
              "5231835  attacker       scan       20  nmap args: -sS -T 2  \n",
              "\n",
              "[5231836 rows x 16 columns]"
            ],
            "text/html": [
              "\n",
              "  <div id=\"df-4ed07ac6-8a6c-44a0-95a0-175b2a43f3a0\" class=\"colab-df-container\">\n",
              "    <div>\n",
              "<style scoped>\n",
              "    .dataframe tbody tr th:only-of-type {\n",
              "        vertical-align: middle;\n",
              "    }\n",
              "\n",
              "    .dataframe tbody tr th {\n",
              "        vertical-align: top;\n",
              "    }\n",
              "\n",
              "    .dataframe thead th {\n",
              "        text-align: right;\n",
              "    }\n",
              "</style>\n",
              "<table border=\"1\" class=\"dataframe\">\n",
              "  <thead>\n",
              "    <tr style=\"text-align: right;\">\n",
              "      <th></th>\n",
              "      <th>Date first seen</th>\n",
              "      <th>Duration</th>\n",
              "      <th>Proto</th>\n",
              "      <th>Src IP Addr</th>\n",
              "      <th>Src Pt</th>\n",
              "      <th>Dst IP Addr</th>\n",
              "      <th>Dst Pt</th>\n",
              "      <th>Packets</th>\n",
              "      <th>Bytes</th>\n",
              "      <th>Flows</th>\n",
              "      <th>Flags</th>\n",
              "      <th>Tos</th>\n",
              "      <th>label</th>\n",
              "      <th>attackType</th>\n",
              "      <th>attackID</th>\n",
              "      <th>attackDescription</th>\n",
              "    </tr>\n",
              "  </thead>\n",
              "  <tbody>\n",
              "    <tr>\n",
              "      <th>0</th>\n",
              "      <td>2017-03-23 13:40:24.221</td>\n",
              "      <td>0.134</td>\n",
              "      <td>TCP</td>\n",
              "      <td>10305_148</td>\n",
              "      <td>443</td>\n",
              "      <td>192.168.210.5</td>\n",
              "      <td>50210.0</td>\n",
              "      <td>5</td>\n",
              "      <td>449</td>\n",
              "      <td>1</td>\n",
              "      <td>.AP.S.</td>\n",
              "      <td>32</td>\n",
              "      <td>normal</td>\n",
              "      <td>---</td>\n",
              "      <td>---</td>\n",
              "      <td>---</td>\n",
              "    </tr>\n",
              "    <tr>\n",
              "      <th>1</th>\n",
              "      <td>2017-03-22 16:15:56.404</td>\n",
              "      <td>0.000</td>\n",
              "      <td>TCP</td>\n",
              "      <td>10001_230</td>\n",
              "      <td>443</td>\n",
              "      <td>192.168.220.15</td>\n",
              "      <td>44214.0</td>\n",
              "      <td>1</td>\n",
              "      <td>462</td>\n",
              "      <td>1</td>\n",
              "      <td>.AP...</td>\n",
              "      <td>0</td>\n",
              "      <td>normal</td>\n",
              "      <td>---</td>\n",
              "      <td>---</td>\n",
              "      <td>---</td>\n",
              "    </tr>\n",
              "    <tr>\n",
              "      <th>2</th>\n",
              "      <td>2017-04-18 10:09:51.492</td>\n",
              "      <td>0.508</td>\n",
              "      <td>TCP</td>\n",
              "      <td>16796_188</td>\n",
              "      <td>443</td>\n",
              "      <td>192.168.200.4</td>\n",
              "      <td>42941.0</td>\n",
              "      <td>7</td>\n",
              "      <td>6203</td>\n",
              "      <td>1</td>\n",
              "      <td>.AP.S.</td>\n",
              "      <td>32</td>\n",
              "      <td>normal</td>\n",
              "      <td>---</td>\n",
              "      <td>---</td>\n",
              "      <td>---</td>\n",
              "    </tr>\n",
              "    <tr>\n",
              "      <th>3</th>\n",
              "      <td>2017-03-15 11:23:38.445</td>\n",
              "      <td>0.095</td>\n",
              "      <td>TCP</td>\n",
              "      <td>10068_2</td>\n",
              "      <td>443</td>\n",
              "      <td>192.168.220.8</td>\n",
              "      <td>58538.0</td>\n",
              "      <td>5</td>\n",
              "      <td>1246</td>\n",
              "      <td>1</td>\n",
              "      <td>.AP...</td>\n",
              "      <td>32</td>\n",
              "      <td>normal</td>\n",
              "      <td>---</td>\n",
              "      <td>---</td>\n",
              "      <td>---</td>\n",
              "    </tr>\n",
              "    <tr>\n",
              "      <th>4</th>\n",
              "      <td>2017-03-23 16:59:50.774</td>\n",
              "      <td>0.000</td>\n",
              "      <td>TCP</td>\n",
              "      <td>15306_50</td>\n",
              "      <td>80</td>\n",
              "      <td>192.168.220.13</td>\n",
              "      <td>41670.0</td>\n",
              "      <td>1</td>\n",
              "      <td>66</td>\n",
              "      <td>1</td>\n",
              "      <td>.A....</td>\n",
              "      <td>32</td>\n",
              "      <td>normal</td>\n",
              "      <td>---</td>\n",
              "      <td>---</td>\n",
              "      <td>---</td>\n",
              "    </tr>\n",
              "    <tr>\n",
              "      <th>...</th>\n",
              "      <td>...</td>\n",
              "      <td>...</td>\n",
              "      <td>...</td>\n",
              "      <td>...</td>\n",
              "      <td>...</td>\n",
              "      <td>...</td>\n",
              "      <td>...</td>\n",
              "      <td>...</td>\n",
              "      <td>...</td>\n",
              "      <td>...</td>\n",
              "      <td>...</td>\n",
              "      <td>...</td>\n",
              "      <td>...</td>\n",
              "      <td>...</td>\n",
              "      <td>...</td>\n",
              "      <td>...</td>\n",
              "    </tr>\n",
              "    <tr>\n",
              "      <th>5231831</th>\n",
              "      <td>2017-08-08 19:52:49.297</td>\n",
              "      <td>0.000</td>\n",
              "      <td>TCP</td>\n",
              "      <td>192.168.210.56</td>\n",
              "      <td>5907</td>\n",
              "      <td>192.168.220.51</td>\n",
              "      <td>47529.0</td>\n",
              "      <td>1</td>\n",
              "      <td>54</td>\n",
              "      <td>1</td>\n",
              "      <td>.A.R..</td>\n",
              "      <td>0</td>\n",
              "      <td>victim</td>\n",
              "      <td>scan</td>\n",
              "      <td>20</td>\n",
              "      <td>nmap args: -sS -T 2</td>\n",
              "    </tr>\n",
              "    <tr>\n",
              "      <th>5231832</th>\n",
              "      <td>2017-08-08 19:52:49.296</td>\n",
              "      <td>0.000</td>\n",
              "      <td>TCP</td>\n",
              "      <td>192.168.210.56</td>\n",
              "      <td>3</td>\n",
              "      <td>192.168.220.51</td>\n",
              "      <td>47529.0</td>\n",
              "      <td>1</td>\n",
              "      <td>54</td>\n",
              "      <td>1</td>\n",
              "      <td>.A.R..</td>\n",
              "      <td>0</td>\n",
              "      <td>victim</td>\n",
              "      <td>scan</td>\n",
              "      <td>20</td>\n",
              "      <td>nmap args: -sS -T 2</td>\n",
              "    </tr>\n",
              "    <tr>\n",
              "      <th>5231833</th>\n",
              "      <td>2017-08-08 19:52:49.296</td>\n",
              "      <td>0.000</td>\n",
              "      <td>TCP</td>\n",
              "      <td>192.168.210.56</td>\n",
              "      <td>32778</td>\n",
              "      <td>192.168.220.51</td>\n",
              "      <td>47529.0</td>\n",
              "      <td>1</td>\n",
              "      <td>54</td>\n",
              "      <td>1</td>\n",
              "      <td>.A.R..</td>\n",
              "      <td>0</td>\n",
              "      <td>victim</td>\n",
              "      <td>scan</td>\n",
              "      <td>20</td>\n",
              "      <td>nmap args: -sS -T 2</td>\n",
              "    </tr>\n",
              "    <tr>\n",
              "      <th>5231834</th>\n",
              "      <td>2017-08-08 19:52:49.296</td>\n",
              "      <td>0.000</td>\n",
              "      <td>TCP</td>\n",
              "      <td>192.168.210.56</td>\n",
              "      <td>8800</td>\n",
              "      <td>192.168.220.51</td>\n",
              "      <td>47529.0</td>\n",
              "      <td>1</td>\n",
              "      <td>54</td>\n",
              "      <td>1</td>\n",
              "      <td>.A.R..</td>\n",
              "      <td>0</td>\n",
              "      <td>victim</td>\n",
              "      <td>scan</td>\n",
              "      <td>20</td>\n",
              "      <td>nmap args: -sS -T 2</td>\n",
              "    </tr>\n",
              "    <tr>\n",
              "      <th>5231835</th>\n",
              "      <td>2017-08-08 19:52:49.288</td>\n",
              "      <td>0.000</td>\n",
              "      <td>TCP</td>\n",
              "      <td>192.168.220.51</td>\n",
              "      <td>47529</td>\n",
              "      <td>192.168.210.56</td>\n",
              "      <td>6881.0</td>\n",
              "      <td>1</td>\n",
              "      <td>58</td>\n",
              "      <td>1</td>\n",
              "      <td>....S.</td>\n",
              "      <td>0</td>\n",
              "      <td>attacker</td>\n",
              "      <td>scan</td>\n",
              "      <td>20</td>\n",
              "      <td>nmap args: -sS -T 2</td>\n",
              "    </tr>\n",
              "  </tbody>\n",
              "</table>\n",
              "<p>5231836 rows × 16 columns</p>\n",
              "</div>\n",
              "    <div class=\"colab-df-buttons\">\n",
              "\n",
              "  <div class=\"colab-df-container\">\n",
              "    <button class=\"colab-df-convert\" onclick=\"convertToInteractive('df-4ed07ac6-8a6c-44a0-95a0-175b2a43f3a0')\"\n",
              "            title=\"Convert this dataframe to an interactive table.\"\n",
              "            style=\"display:none;\">\n",
              "\n",
              "  <svg xmlns=\"http://www.w3.org/2000/svg\" height=\"24px\" viewBox=\"0 -960 960 960\">\n",
              "    <path d=\"M120-120v-720h720v720H120Zm60-500h600v-160H180v160Zm220 220h160v-160H400v160Zm0 220h160v-160H400v160ZM180-400h160v-160H180v160Zm440 0h160v-160H620v160ZM180-180h160v-160H180v160Zm440 0h160v-160H620v160Z\"/>\n",
              "  </svg>\n",
              "    </button>\n",
              "\n",
              "  <style>\n",
              "    .colab-df-container {\n",
              "      display:flex;\n",
              "      gap: 12px;\n",
              "    }\n",
              "\n",
              "    .colab-df-convert {\n",
              "      background-color: #E8F0FE;\n",
              "      border: none;\n",
              "      border-radius: 50%;\n",
              "      cursor: pointer;\n",
              "      display: none;\n",
              "      fill: #1967D2;\n",
              "      height: 32px;\n",
              "      padding: 0 0 0 0;\n",
              "      width: 32px;\n",
              "    }\n",
              "\n",
              "    .colab-df-convert:hover {\n",
              "      background-color: #E2EBFA;\n",
              "      box-shadow: 0px 1px 2px rgba(60, 64, 67, 0.3), 0px 1px 3px 1px rgba(60, 64, 67, 0.15);\n",
              "      fill: #174EA6;\n",
              "    }\n",
              "\n",
              "    .colab-df-buttons div {\n",
              "      margin-bottom: 4px;\n",
              "    }\n",
              "\n",
              "    [theme=dark] .colab-df-convert {\n",
              "      background-color: #3B4455;\n",
              "      fill: #D2E3FC;\n",
              "    }\n",
              "\n",
              "    [theme=dark] .colab-df-convert:hover {\n",
              "      background-color: #434B5C;\n",
              "      box-shadow: 0px 1px 3px 1px rgba(0, 0, 0, 0.15);\n",
              "      filter: drop-shadow(0px 1px 2px rgba(0, 0, 0, 0.3));\n",
              "      fill: #FFFFFF;\n",
              "    }\n",
              "  </style>\n",
              "\n",
              "    <script>\n",
              "      const buttonEl =\n",
              "        document.querySelector('#df-4ed07ac6-8a6c-44a0-95a0-175b2a43f3a0 button.colab-df-convert');\n",
              "      buttonEl.style.display =\n",
              "        google.colab.kernel.accessAllowed ? 'block' : 'none';\n",
              "\n",
              "      async function convertToInteractive(key) {\n",
              "        const element = document.querySelector('#df-4ed07ac6-8a6c-44a0-95a0-175b2a43f3a0');\n",
              "        const dataTable =\n",
              "          await google.colab.kernel.invokeFunction('convertToInteractive',\n",
              "                                                    [key], {});\n",
              "        if (!dataTable) return;\n",
              "\n",
              "        const docLinkHtml = 'Like what you see? Visit the ' +\n",
              "          '<a target=\"_blank\" href=https://colab.research.google.com/notebooks/data_table.ipynb>data table notebook</a>'\n",
              "          + ' to learn more about interactive tables.';\n",
              "        element.innerHTML = '';\n",
              "        dataTable['output_type'] = 'display_data';\n",
              "        await google.colab.output.renderOutput(dataTable, element);\n",
              "        const docLink = document.createElement('div');\n",
              "        docLink.innerHTML = docLinkHtml;\n",
              "        element.appendChild(docLink);\n",
              "      }\n",
              "    </script>\n",
              "  </div>\n",
              "\n",
              "\n",
              "<div id=\"df-2e028706-59f3-4941-9aed-301597c702a8\">\n",
              "  <button class=\"colab-df-quickchart\" onclick=\"quickchart('df-2e028706-59f3-4941-9aed-301597c702a8')\"\n",
              "            title=\"Suggest charts.\"\n",
              "            style=\"display:none;\">\n",
              "\n",
              "<svg xmlns=\"http://www.w3.org/2000/svg\" height=\"24px\"viewBox=\"0 0 24 24\"\n",
              "     width=\"24px\">\n",
              "    <g>\n",
              "        <path d=\"M19 3H5c-1.1 0-2 .9-2 2v14c0 1.1.9 2 2 2h14c1.1 0 2-.9 2-2V5c0-1.1-.9-2-2-2zM9 17H7v-7h2v7zm4 0h-2V7h2v10zm4 0h-2v-4h2v4z\"/>\n",
              "    </g>\n",
              "</svg>\n",
              "  </button>\n",
              "\n",
              "<style>\n",
              "  .colab-df-quickchart {\n",
              "      --bg-color: #E8F0FE;\n",
              "      --fill-color: #1967D2;\n",
              "      --hover-bg-color: #E2EBFA;\n",
              "      --hover-fill-color: #174EA6;\n",
              "      --disabled-fill-color: #AAA;\n",
              "      --disabled-bg-color: #DDD;\n",
              "  }\n",
              "\n",
              "  [theme=dark] .colab-df-quickchart {\n",
              "      --bg-color: #3B4455;\n",
              "      --fill-color: #D2E3FC;\n",
              "      --hover-bg-color: #434B5C;\n",
              "      --hover-fill-color: #FFFFFF;\n",
              "      --disabled-bg-color: #3B4455;\n",
              "      --disabled-fill-color: #666;\n",
              "  }\n",
              "\n",
              "  .colab-df-quickchart {\n",
              "    background-color: var(--bg-color);\n",
              "    border: none;\n",
              "    border-radius: 50%;\n",
              "    cursor: pointer;\n",
              "    display: none;\n",
              "    fill: var(--fill-color);\n",
              "    height: 32px;\n",
              "    padding: 0;\n",
              "    width: 32px;\n",
              "  }\n",
              "\n",
              "  .colab-df-quickchart:hover {\n",
              "    background-color: var(--hover-bg-color);\n",
              "    box-shadow: 0 1px 2px rgba(60, 64, 67, 0.3), 0 1px 3px 1px rgba(60, 64, 67, 0.15);\n",
              "    fill: var(--button-hover-fill-color);\n",
              "  }\n",
              "\n",
              "  .colab-df-quickchart-complete:disabled,\n",
              "  .colab-df-quickchart-complete:disabled:hover {\n",
              "    background-color: var(--disabled-bg-color);\n",
              "    fill: var(--disabled-fill-color);\n",
              "    box-shadow: none;\n",
              "  }\n",
              "\n",
              "  .colab-df-spinner {\n",
              "    border: 2px solid var(--fill-color);\n",
              "    border-color: transparent;\n",
              "    border-bottom-color: var(--fill-color);\n",
              "    animation:\n",
              "      spin 1s steps(1) infinite;\n",
              "  }\n",
              "\n",
              "  @keyframes spin {\n",
              "    0% {\n",
              "      border-color: transparent;\n",
              "      border-bottom-color: var(--fill-color);\n",
              "      border-left-color: var(--fill-color);\n",
              "    }\n",
              "    20% {\n",
              "      border-color: transparent;\n",
              "      border-left-color: var(--fill-color);\n",
              "      border-top-color: var(--fill-color);\n",
              "    }\n",
              "    30% {\n",
              "      border-color: transparent;\n",
              "      border-left-color: var(--fill-color);\n",
              "      border-top-color: var(--fill-color);\n",
              "      border-right-color: var(--fill-color);\n",
              "    }\n",
              "    40% {\n",
              "      border-color: transparent;\n",
              "      border-right-color: var(--fill-color);\n",
              "      border-top-color: var(--fill-color);\n",
              "    }\n",
              "    60% {\n",
              "      border-color: transparent;\n",
              "      border-right-color: var(--fill-color);\n",
              "    }\n",
              "    80% {\n",
              "      border-color: transparent;\n",
              "      border-right-color: var(--fill-color);\n",
              "      border-bottom-color: var(--fill-color);\n",
              "    }\n",
              "    90% {\n",
              "      border-color: transparent;\n",
              "      border-bottom-color: var(--fill-color);\n",
              "    }\n",
              "  }\n",
              "</style>\n",
              "\n",
              "  <script>\n",
              "    async function quickchart(key) {\n",
              "      const quickchartButtonEl =\n",
              "        document.querySelector('#' + key + ' button');\n",
              "      quickchartButtonEl.disabled = true;  // To prevent multiple clicks.\n",
              "      quickchartButtonEl.classList.add('colab-df-spinner');\n",
              "      try {\n",
              "        const charts = await google.colab.kernel.invokeFunction(\n",
              "            'suggestCharts', [key], {});\n",
              "      } catch (error) {\n",
              "        console.error('Error during call to suggestCharts:', error);\n",
              "      }\n",
              "      quickchartButtonEl.classList.remove('colab-df-spinner');\n",
              "      quickchartButtonEl.classList.add('colab-df-quickchart-complete');\n",
              "    }\n",
              "    (() => {\n",
              "      let quickchartButtonEl =\n",
              "        document.querySelector('#df-2e028706-59f3-4941-9aed-301597c702a8 button');\n",
              "      quickchartButtonEl.style.display =\n",
              "        google.colab.kernel.accessAllowed ? 'block' : 'none';\n",
              "    })();\n",
              "  </script>\n",
              "</div>\n",
              "    </div>\n",
              "  </div>\n"
            ]
          },
          "metadata": {},
          "execution_count": 3
        }
      ]
    },
    {
      "cell_type": "code",
      "source": [
        "df.select_dtypes(include=['object']).columns"
      ],
      "metadata": {
        "colab": {
          "base_uri": "https://localhost:8080/"
        },
        "id": "9fZ7PHG66ERc",
        "outputId": "3017bb59-8993-4bea-c66a-20c543a9fc59"
      },
      "execution_count": 4,
      "outputs": [
        {
          "output_type": "execute_result",
          "data": {
            "text/plain": [
              "Index(['Date first seen', 'Proto', 'Src IP Addr', 'Dst IP Addr', 'Bytes',\n",
              "       'Flags', 'label', 'attackType', 'attackID', 'attackDescription'],\n",
              "      dtype='object')"
            ]
          },
          "metadata": {},
          "execution_count": 4
        }
      ]
    },
    {
      "cell_type": "code",
      "source": [
        "df.isna().sum()"
      ],
      "metadata": {
        "colab": {
          "base_uri": "https://localhost:8080/"
        },
        "id": "Mp891AAjrNWj",
        "outputId": "cb51034f-efcf-4271-d77e-00096dd6bfd0"
      },
      "execution_count": 5,
      "outputs": [
        {
          "output_type": "execute_result",
          "data": {
            "text/plain": [
              "Date first seen      0\n",
              "Duration             0\n",
              "Proto                0\n",
              "Src IP Addr          0\n",
              "Src Pt               0\n",
              "Dst IP Addr          0\n",
              "Dst Pt               0\n",
              "Packets              0\n",
              "Bytes                0\n",
              "Flows                0\n",
              "Flags                0\n",
              "Tos                  0\n",
              "label                0\n",
              "attackType           0\n",
              "attackID             0\n",
              "attackDescription    0\n",
              "dtype: int64"
            ]
          },
          "metadata": {},
          "execution_count": 5
        }
      ]
    },
    {
      "cell_type": "code",
      "source": [
        "df.duplicated().sum()"
      ],
      "metadata": {
        "colab": {
          "base_uri": "https://localhost:8080/"
        },
        "id": "lub9xJ76rUT8",
        "outputId": "76331dd1-7453-488c-f39d-681cbbb03874"
      },
      "execution_count": 6,
      "outputs": [
        {
          "output_type": "execute_result",
          "data": {
            "text/plain": [
              "36568"
            ]
          },
          "metadata": {},
          "execution_count": 6
        }
      ]
    },
    {
      "cell_type": "code",
      "source": [
        "df.drop_duplicates(inplace = True)\n",
        "df.shape"
      ],
      "metadata": {
        "colab": {
          "base_uri": "https://localhost:8080/"
        },
        "id": "3JoH7dIXtMbf",
        "outputId": "5032b1ca-6164-4487-feec-c1f0aef61985"
      },
      "execution_count": 7,
      "outputs": [
        {
          "output_type": "execute_result",
          "data": {
            "text/plain": [
              "(5195268, 16)"
            ]
          },
          "metadata": {},
          "execution_count": 7
        }
      ]
    },
    {
      "cell_type": "code",
      "source": [
        "df['Proto'].value_counts()"
      ],
      "metadata": {
        "colab": {
          "base_uri": "https://localhost:8080/"
        },
        "id": "42xz6TqS66r1",
        "outputId": "dc7d0dd7-3233-447d-9453-6c240998680d"
      },
      "execution_count": 8,
      "outputs": [
        {
          "output_type": "execute_result",
          "data": {
            "text/plain": [
              "TCP      4386603\n",
              "UDP       744306\n",
              "ICMP       64206\n",
              "IGMP         153\n",
              "Name: Proto, dtype: int64"
            ]
          },
          "metadata": {},
          "execution_count": 8
        }
      ]
    },
    {
      "cell_type": "code",
      "source": [
        "df['Bytes'].astype('str').value_counts()"
      ],
      "metadata": {
        "colab": {
          "base_uri": "https://localhost:8080/"
        },
        "id": "rUz9qXS56-kn",
        "outputId": "e3a327a3-9508-4bb2-9f71-b0fc74389bc7"
      },
      "execution_count": 9,
      "outputs": [
        {
          "output_type": "execute_result",
          "data": {
            "text/plain": [
              "      66    1236773\n",
              "54           416949\n",
              "58           211005\n",
              "      54     160471\n",
              "      55     139482\n",
              "             ...   \n",
              "   54222          1\n",
              "   81674          1\n",
              "   19389          1\n",
              "   35240          1\n",
              "20573             1\n",
              "Name: Bytes, Length: 84192, dtype: int64"
            ]
          },
          "metadata": {},
          "execution_count": 9
        }
      ]
    },
    {
      "cell_type": "code",
      "source": [
        "df['Flags'].value_counts()"
      ],
      "metadata": {
        "colab": {
          "base_uri": "https://localhost:8080/"
        },
        "id": "sgyBQazm7DNM",
        "outputId": "da63cf7a-a745-47cf-b887-d5e08704817e"
      },
      "execution_count": 10,
      "outputs": [
        {
          "output_type": "execute_result",
          "data": {
            "text/plain": [
              ".A....    1570689\n",
              "......     808665\n",
              ".AP...     700075\n",
              ".AP.S.     550334\n",
              ".A...F     386492\n",
              ".A.R..     238101\n",
              "....S.     225951\n",
              ".AP..F     170048\n",
              ".A..S.     142218\n",
              ".AP.SF     136838\n",
              ".....F     112958\n",
              "...R..      58520\n",
              ".APRSF      34740\n",
              ".APR.F      32791\n",
              ".A..SF       6646\n",
              "...RS.       6176\n",
              ".A.R.F       5660\n",
              ".APRS.       4334\n",
              ".APR..       3703\n",
              ".A.RS.        230\n",
              ".A.RSF         99\n",
              "Name: Flags, dtype: int64"
            ]
          },
          "metadata": {},
          "execution_count": 10
        }
      ]
    },
    {
      "cell_type": "code",
      "source": [
        "df['label'].value_counts()"
      ],
      "metadata": {
        "colab": {
          "base_uri": "https://localhost:8080/"
        },
        "id": "d6sqj0uq7Z4F",
        "outputId": "52532a41-b717-47ef-fb9a-a251c2faf318"
      },
      "execution_count": 11,
      "outputs": [
        {
          "output_type": "execute_result",
          "data": {
            "text/plain": [
              "normal      4378392\n",
              "attacker     511295\n",
              "victim       305581\n",
              "Name: label, dtype: int64"
            ]
          },
          "metadata": {},
          "execution_count": 11
        }
      ]
    },
    {
      "cell_type": "code",
      "source": [
        "df['attackType'].value_counts()"
      ],
      "metadata": {
        "id": "xQxaFL_p7mnX",
        "outputId": "a4d6603c-67b5-4641-a02e-a20e51f8f6d9",
        "colab": {
          "base_uri": "https://localhost:8080/"
        }
      },
      "execution_count": 12,
      "outputs": [
        {
          "output_type": "execute_result",
          "data": {
            "text/plain": [
              "---         4378392\n",
              "scan         534561\n",
              "portScan     276234\n",
              "pingScan       6081\n",
              "Name: attackType, dtype: int64"
            ]
          },
          "metadata": {},
          "execution_count": 12
        }
      ]
    },
    {
      "cell_type": "code",
      "source": [
        "df['attackID'].value_counts()"
      ],
      "metadata": {
        "outputId": "cf81396d-60b0-41e0-ef09-13f20d65ed43",
        "colab": {
          "base_uri": "https://localhost:8080/"
        },
        "id": "bPl-eysZwMhY"
      },
      "execution_count": 13,
      "outputs": [
        {
          "output_type": "execute_result",
          "data": {
            "text/plain": [
              "---    4378392\n",
              "11       54703\n",
              "17       53283\n",
              "20       46916\n",
              "32       43312\n",
              "        ...   \n",
              "57         522\n",
              "58         509\n",
              "65         371\n",
              "66         359\n",
              "69         359\n",
              "Name: attackID, Length: 68, dtype: int64"
            ]
          },
          "metadata": {},
          "execution_count": 13
        }
      ]
    },
    {
      "cell_type": "code",
      "source": [
        "df['attackDescription'].value_counts()"
      ],
      "metadata": {
        "colab": {
          "base_uri": "https://localhost:8080/"
        },
        "id": "AUjDfuVLWXOs",
        "outputId": "6b1d3fcd-6e62-4d84-d5f3-e49f759a5f8d"
      },
      "execution_count": 14,
      "outputs": [
        {
          "output_type": "execute_result",
          "data": {
            "text/plain": [
              "---                           4382402\n",
              "nmap args: -sS -T 2            185630\n",
              "nmap args: -sF -T 3            109847\n",
              "nmap args: -sS -T 1            107124\n",
              "nmap args: -sS -T 3             93085\n",
              "nmap args: -sU -T 2             86393\n",
              "nmap args: -sF -T 2             63665\n",
              "nmap args: -sA -T 3             50084\n",
              "nmap args: -sF -T 1             34707\n",
              "nmap args: -sU -T 3             27749\n",
              "nmap args: -sU -T 1             20713\n",
              "nmap args: -sA -T 1             17027\n",
              "nmap args: -sA -T 2              4436\n",
              "nmap args: -sU -T 0              4398\n",
              "nmap args: -n -sP -PE -T 2       3731\n",
              "nmap args: -n -sP -PE -T 1       3440\n",
              "nmap args: -n -sP -PE -T 3        837\n",
              "Name: attackDescription, dtype: int64"
            ]
          },
          "metadata": {},
          "execution_count": 14
        }
      ]
    },
    {
      "cell_type": "markdown",
      "source": [
        "### Rename label"
      ],
      "metadata": {
        "id": "a_ZPBHEHW1Hs"
      }
    },
    {
      "cell_type": "code",
      "source": [
        "df['label'] = df['label'].replace(['normal'], '0_normal')\n",
        "df['label'].value_counts()"
      ],
      "metadata": {
        "id": "MtJr9F389Umg",
        "colab": {
          "base_uri": "https://localhost:8080/"
        },
        "outputId": "09276719-04a7-47a0-cd93-6ac5dadcde6f"
      },
      "execution_count": 15,
      "outputs": [
        {
          "output_type": "execute_result",
          "data": {
            "text/plain": [
              "0_normal    4378392\n",
              "attacker     511295\n",
              "victim       305581\n",
              "Name: label, dtype: int64"
            ]
          },
          "metadata": {},
          "execution_count": 15
        }
      ]
    },
    {
      "cell_type": "code",
      "source": [
        "df['label'] = df['label'].replace(['attacker', 'victim'], 'attack')\n",
        "df['label'].value_counts()"
      ],
      "metadata": {
        "colab": {
          "base_uri": "https://localhost:8080/"
        },
        "id": "_HxcxCTKXVMH",
        "outputId": "8aec8df5-e897-4913-e675-3879ba9cfaa4"
      },
      "execution_count": 16,
      "outputs": [
        {
          "output_type": "execute_result",
          "data": {
            "text/plain": [
              "0_normal    4378392\n",
              "attack       816876\n",
              "Name: label, dtype: int64"
            ]
          },
          "metadata": {},
          "execution_count": 16
        }
      ]
    },
    {
      "cell_type": "code",
      "source": [
        "df['attackDescription'] = df['attackDescription'].replace(['---'], 'normal')\n",
        "df['attackDescription'] = df['attackDescription'].replace(['nmap args: -sS -T 1', 'nmap args: -sS -T 2', 'nmap args: -sS -T 3'], 'SYN Scan')\n",
        "df['attackDescription'] = df['attackDescription'].replace(['nmap args: -sF -T 1', 'nmap args: -sF -T 2', 'nmap args: -sF -T 3'], 'FIN Scan')\n",
        "df['attackDescription'] = df['attackDescription'].replace(['nmap args: -sU -T 0 ', 'nmap args: -sU -T 1', 'nmap args: -sU -T 2', 'nmap args: -sU -T 3' ], 'UDP Scan')\n",
        "df['attackDescription'] = df['attackDescription'].replace(['nmap args: -sA -T 1', 'nmap args: -sA -T 2', 'nmap args: -sA -T 3'], 'ACK Scan')\n",
        "df['attackDescription'] = df['attackDescription'].replace(['nmap args: -n -sP -PE -T 1', 'nmap args: -n -sP -PE -T 2', 'nmap args: -n -sP -PE -T 3'], 'Ping Scan')\n",
        "df['attackDescription'].value_counts()"
      ],
      "metadata": {
        "id": "CYPGihf3WZNP",
        "colab": {
          "base_uri": "https://localhost:8080/"
        },
        "outputId": "7f8f4f39-52ca-42cb-c114-26377fc5a51b"
      },
      "execution_count": 17,
      "outputs": [
        {
          "output_type": "execute_result",
          "data": {
            "text/plain": [
              "normal       4382402\n",
              "SYN Scan      385839\n",
              "FIN Scan      208219\n",
              "UDP Scan      139253\n",
              "ACK Scan       71547\n",
              "Ping Scan       8008\n",
              "Name: attackDescription, dtype: int64"
            ]
          },
          "metadata": {},
          "execution_count": 17
        }
      ]
    },
    {
      "cell_type": "code",
      "source": [
        "df['attackDescription'] = df['attackDescription'].replace(['SYN Scan', 'FIN Scan', 'ACK Scan'], 'TCP')\n",
        "df['attackDescription'] = df['attackDescription'].replace(['UDP Scan'], 'UDP')\n",
        "df['attackDescription'] = df['attackDescription'].replace(['Ping Scan'], 'ICMP')\n",
        "df['attackDescription'].value_counts()"
      ],
      "metadata": {
        "id": "HQmO_x2pWp9G",
        "colab": {
          "base_uri": "https://localhost:8080/"
        },
        "outputId": "e9cb90a4-1c43-47e1-f646-4381f9caf934"
      },
      "execution_count": 18,
      "outputs": [
        {
          "output_type": "execute_result",
          "data": {
            "text/plain": [
              "normal    4382402\n",
              "TCP        665605\n",
              "UDP        139253\n",
              "ICMP         8008\n",
              "Name: attackDescription, dtype: int64"
            ]
          },
          "metadata": {},
          "execution_count": 18
        }
      ]
    },
    {
      "cell_type": "markdown",
      "source": [
        "### Drop features"
      ],
      "metadata": {
        "id": "BIeFN3_8XFjt"
      }
    },
    {
      "cell_type": "code",
      "source": [
        "df.info()"
      ],
      "metadata": {
        "colab": {
          "base_uri": "https://localhost:8080/"
        },
        "id": "Qw6O-phQWvJh",
        "outputId": "82794483-3124-4d4d-fc16-bf63fb4960d4"
      },
      "execution_count": 19,
      "outputs": [
        {
          "output_type": "stream",
          "name": "stdout",
          "text": [
            "<class 'pandas.core.frame.DataFrame'>\n",
            "Int64Index: 5195268 entries, 0 to 5231835\n",
            "Data columns (total 16 columns):\n",
            " #   Column             Dtype  \n",
            "---  ------             -----  \n",
            " 0   Date first seen    object \n",
            " 1   Duration           float64\n",
            " 2   Proto              object \n",
            " 3   Src IP Addr        object \n",
            " 4   Src Pt             int64  \n",
            " 5   Dst IP Addr        object \n",
            " 6   Dst Pt             float64\n",
            " 7   Packets            int64  \n",
            " 8   Bytes              object \n",
            " 9   Flows              int64  \n",
            " 10  Flags              object \n",
            " 11  Tos                int64  \n",
            " 12  label              object \n",
            " 13  attackType         object \n",
            " 14  attackID           object \n",
            " 15  attackDescription  object \n",
            "dtypes: float64(2), int64(4), object(10)\n",
            "memory usage: 673.8+ MB\n"
          ]
        }
      ]
    },
    {
      "cell_type": "code",
      "source": [
        "df = df.drop(columns = ['Date first seen', 'Src IP Addr', 'Dst IP Addr',  'attackType', 'attackID'])\n",
        "df.info()"
      ],
      "metadata": {
        "colab": {
          "base_uri": "https://localhost:8080/"
        },
        "id": "F_BChZCev7mU",
        "outputId": "4f2623d7-f4d4-4568-9857-b2c8fa7cdcb1"
      },
      "execution_count": 20,
      "outputs": [
        {
          "output_type": "stream",
          "name": "stdout",
          "text": [
            "<class 'pandas.core.frame.DataFrame'>\n",
            "Int64Index: 5195268 entries, 0 to 5231835\n",
            "Data columns (total 11 columns):\n",
            " #   Column             Dtype  \n",
            "---  ------             -----  \n",
            " 0   Duration           float64\n",
            " 1   Proto              object \n",
            " 2   Src Pt             int64  \n",
            " 3   Dst Pt             float64\n",
            " 4   Packets            int64  \n",
            " 5   Bytes              object \n",
            " 6   Flows              int64  \n",
            " 7   Flags              object \n",
            " 8   Tos                int64  \n",
            " 9   label              object \n",
            " 10  attackDescription  object \n",
            "dtypes: float64(2), int64(4), object(5)\n",
            "memory usage: 475.6+ MB\n"
          ]
        }
      ]
    },
    {
      "cell_type": "code",
      "source": [
        "df = df.drop(df.loc[df['attackDescription'] == 'normal'].sample(frac = 0.8).index)"
      ],
      "metadata": {
        "id": "6f8AUQDeXO1L"
      },
      "execution_count": 21,
      "outputs": []
    },
    {
      "cell_type": "code",
      "source": [
        "sns.set(rc = {'figure.figsize' : (10, 7)})\n",
        "ax = sns.countplot(x = 'attackDescription', data = df)\n",
        "ax.set(xlabel = 'Type', ylabel = 'Number')\n",
        "plt.show()"
      ],
      "metadata": {
        "colab": {
          "base_uri": "https://localhost:8080/",
          "height": 0
        },
        "id": "-KQdZZZhXQfy",
        "outputId": "27f694cb-accc-4009-9833-e6a1aaf8780b"
      },
      "execution_count": 22,
      "outputs": [
        {
          "output_type": "display_data",
          "data": {
            "text/plain": [
              "<Figure size 1000x700 with 1 Axes>"
            ],
            "image/png": "[encoded data removed]"
          },
          "metadata": {}
        }
      ]
    },
    {
      "cell_type": "markdown",
      "source": [
        "### Other features"
      ],
      "metadata": {
        "id": "FRxozQVHNrDj"
      }
    },
    {
      "cell_type": "code",
      "source": [
        "def convert_to_int(value):\n",
        "    try:\n",
        "        if 'M' in str(value):\n",
        "            result = int(float(value[:-2])*10**6)\n",
        "        else:\n",
        "            result = int(value)\n",
        "    except (ValueError, TypeError):\n",
        "        print(value)\n",
        "        result = 0\n",
        "    return result"
      ],
      "metadata": {
        "id": "2l9BuQKaOA76"
      },
      "execution_count": 23,
      "outputs": []
    },
    {
      "cell_type": "code",
      "source": [
        "df['Bytes'] = df['Bytes'].apply(convert_to_int)\n",
        "df['Bytes'].value_counts()"
      ],
      "metadata": {
        "colab": {
          "base_uri": "https://localhost:8080/"
        },
        "id": "oC5WHIzYOD6l",
        "outputId": "1f8f3712-6a24-4219-a3a8-b8a63e97ee0c"
      },
      "execution_count": 24,
      "outputs": [
        {
          "output_type": "execute_result",
          "data": {
            "text/plain": [
              "54       441451\n",
              "66       269637\n",
              "58       218650\n",
              "42       110075\n",
              "70        38081\n",
              "          ...  \n",
              "37744         1\n",
              "15772         1\n",
              "16351         1\n",
              "9182          1\n",
              "20573         1\n",
              "Name: Bytes, Length: 28332, dtype: int64"
            ]
          },
          "metadata": {},
          "execution_count": 24
        }
      ]
    },
    {
      "cell_type": "code",
      "source": [
        "label_encoder = LabelEncoder()\n",
        "df['label']= label_encoder.fit_transform(df['label'])\n",
        "label_encoder.classes_"
      ],
      "metadata": {
        "colab": {
          "base_uri": "https://localhost:8080/"
        },
        "id": "Weca15snXXG6",
        "outputId": "9d419413-44d9-4201-c909-6adb0c967c2a"
      },
      "execution_count": 25,
      "outputs": [
        {
          "output_type": "execute_result",
          "data": {
            "text/plain": [
              "array(['0_normal', 'attack'], dtype=object)"
            ]
          },
          "metadata": {},
          "execution_count": 25
        }
      ]
    },
    {
      "cell_type": "code",
      "source": [
        "df.info()"
      ],
      "metadata": {
        "colab": {
          "base_uri": "https://localhost:8080/"
        },
        "id": "g1momD7xXcDr",
        "outputId": "6e3188b6-89d5-4fd5-949f-68b1308db2dc"
      },
      "execution_count": 26,
      "outputs": [
        {
          "output_type": "stream",
          "name": "stdout",
          "text": [
            "<class 'pandas.core.frame.DataFrame'>\n",
            "Int64Index: 1689346 entries, 3 to 5231835\n",
            "Data columns (total 11 columns):\n",
            " #   Column             Non-Null Count    Dtype  \n",
            "---  ------             --------------    -----  \n",
            " 0   Duration           1689346 non-null  float64\n",
            " 1   Proto              1689346 non-null  object \n",
            " 2   Src Pt             1689346 non-null  int64  \n",
            " 3   Dst Pt             1689346 non-null  float64\n",
            " 4   Packets            1689346 non-null  int64  \n",
            " 5   Bytes              1689346 non-null  int64  \n",
            " 6   Flows              1689346 non-null  int64  \n",
            " 7   Flags              1689346 non-null  object \n",
            " 8   Tos                1689346 non-null  int64  \n",
            " 9   label              1689346 non-null  int64  \n",
            " 10  attackDescription  1689346 non-null  object \n",
            "dtypes: float64(2), int64(6), object(3)\n",
            "memory usage: 154.7+ MB\n"
          ]
        }
      ]
    },
    {
      "cell_type": "code",
      "source": [
        "features_to_exclude = ['label', 'Proto']\n",
        "y = df.loc[:, features_to_exclude]\n",
        "X = df.drop(features_to_exclude, axis=1)\n",
        "\n",
        "print(X.shape, y.shape)"
      ],
      "metadata": {
        "colab": {
          "base_uri": "https://localhost:8080/"
        },
        "id": "rPy-Vfg2VeJh",
        "outputId": "cf46c7ae-fa52-4e74-abc6-267b2fbe5e16"
      },
      "execution_count": 27,
      "outputs": [
        {
          "output_type": "stream",
          "name": "stdout",
          "text": [
            "(1689346, 9) (1689346, 2)\n"
          ]
        }
      ]
    },
    {
      "cell_type": "code",
      "source": [
        "X.info()"
      ],
      "metadata": {
        "colab": {
          "base_uri": "https://localhost:8080/"
        },
        "id": "TlXXZ05-WC0p",
        "outputId": "4d4e7ed8-91a1-4d1e-f473-a8670dffffe5"
      },
      "execution_count": 28,
      "outputs": [
        {
          "output_type": "stream",
          "name": "stdout",
          "text": [
            "<class 'pandas.core.frame.DataFrame'>\n",
            "Int64Index: 1689346 entries, 3 to 5231835\n",
            "Data columns (total 9 columns):\n",
            " #   Column             Non-Null Count    Dtype  \n",
            "---  ------             --------------    -----  \n",
            " 0   Duration           1689346 non-null  float64\n",
            " 1   Src Pt             1689346 non-null  int64  \n",
            " 2   Dst Pt             1689346 non-null  float64\n",
            " 3   Packets            1689346 non-null  int64  \n",
            " 4   Bytes              1689346 non-null  int64  \n",
            " 5   Flows              1689346 non-null  int64  \n",
            " 6   Flags              1689346 non-null  object \n",
            " 7   Tos                1689346 non-null  int64  \n",
            " 8   attackDescription  1689346 non-null  object \n",
            "dtypes: float64(2), int64(5), object(2)\n",
            "memory usage: 128.9+ MB\n"
          ]
        }
      ]
    },
    {
      "cell_type": "code",
      "source": [
        "y.info()"
      ],
      "metadata": {
        "colab": {
          "base_uri": "https://localhost:8080/"
        },
        "id": "jbybREFvWHF8",
        "outputId": "5c0b0132-f0e8-4722-92b9-281fff5f5997"
      },
      "execution_count": 29,
      "outputs": [
        {
          "output_type": "stream",
          "name": "stdout",
          "text": [
            "<class 'pandas.core.frame.DataFrame'>\n",
            "Int64Index: 1689346 entries, 3 to 5231835\n",
            "Data columns (total 2 columns):\n",
            " #   Column  Non-Null Count    Dtype \n",
            "---  ------  --------------    ----- \n",
            " 0   label   1689346 non-null  int64 \n",
            " 1   Proto   1689346 non-null  object\n",
            "dtypes: int64(1), object(1)\n",
            "memory usage: 38.7+ MB\n"
          ]
        }
      ]
    },
    {
      "cell_type": "markdown",
      "source": [
        "### One hot encoding"
      ],
      "metadata": {
        "id": "iAw4D3XgWRfG"
      }
    },
    {
      "cell_type": "code",
      "source": [
        "X = pd.get_dummies(X)\n",
        "X.info()"
      ],
      "metadata": {
        "colab": {
          "base_uri": "https://localhost:8080/"
        },
        "id": "o3ZdUcEyWXZf",
        "outputId": "8f5e0c2f-5b59-48e3-a306-e62f8bc91928"
      },
      "execution_count": 30,
      "outputs": [
        {
          "output_type": "stream",
          "name": "stdout",
          "text": [
            "<class 'pandas.core.frame.DataFrame'>\n",
            "Int64Index: 1689346 entries, 3 to 5231835\n",
            "Data columns (total 32 columns):\n",
            " #   Column                    Non-Null Count    Dtype  \n",
            "---  ------                    --------------    -----  \n",
            " 0   Duration                  1689346 non-null  float64\n",
            " 1   Src Pt                    1689346 non-null  int64  \n",
            " 2   Dst Pt                    1689346 non-null  float64\n",
            " 3   Packets                   1689346 non-null  int64  \n",
            " 4   Bytes                     1689346 non-null  int64  \n",
            " 5   Flows                     1689346 non-null  int64  \n",
            " 6   Tos                       1689346 non-null  int64  \n",
            " 7   Flags_......              1689346 non-null  uint8  \n",
            " 8   Flags_.....F              1689346 non-null  uint8  \n",
            " 9   Flags_....S.              1689346 non-null  uint8  \n",
            " 10  Flags_...R..              1689346 non-null  uint8  \n",
            " 11  Flags_...RS.              1689346 non-null  uint8  \n",
            " 12  Flags_.A....              1689346 non-null  uint8  \n",
            " 13  Flags_.A...F              1689346 non-null  uint8  \n",
            " 14  Flags_.A..S.              1689346 non-null  uint8  \n",
            " 15  Flags_.A..SF              1689346 non-null  uint8  \n",
            " 16  Flags_.A.R..              1689346 non-null  uint8  \n",
            " 17  Flags_.A.R.F              1689346 non-null  uint8  \n",
            " 18  Flags_.A.RS.              1689346 non-null  uint8  \n",
            " 19  Flags_.A.RSF              1689346 non-null  uint8  \n",
            " 20  Flags_.AP...              1689346 non-null  uint8  \n",
            " 21  Flags_.AP..F              1689346 non-null  uint8  \n",
            " 22  Flags_.AP.S.              1689346 non-null  uint8  \n",
            " 23  Flags_.AP.SF              1689346 non-null  uint8  \n",
            " 24  Flags_.APR..              1689346 non-null  uint8  \n",
            " 25  Flags_.APR.F              1689346 non-null  uint8  \n",
            " 26  Flags_.APRS.              1689346 non-null  uint8  \n",
            " 27  Flags_.APRSF              1689346 non-null  uint8  \n",
            " 28  attackDescription_ICMP    1689346 non-null  uint8  \n",
            " 29  attackDescription_TCP     1689346 non-null  uint8  \n",
            " 30  attackDescription_UDP     1689346 non-null  uint8  \n",
            " 31  attackDescription_normal  1689346 non-null  uint8  \n",
            "dtypes: float64(2), int64(5), uint8(25)\n",
            "memory usage: 143.4 MB\n"
          ]
        }
      ]
    },
    {
      "cell_type": "code",
      "source": [
        "final_df = pd.concat([X, y], axis=1)\n",
        "final_df"
      ],
      "metadata": {
        "colab": {
          "base_uri": "https://localhost:8080/",
          "height": 0
        },
        "id": "iB1XU9n-W1Aa",
        "outputId": "e9cc9390-e2e8-4a80-d34c-bfcd7995c329"
      },
      "execution_count": 31,
      "outputs": [
        {
          "output_type": "execute_result",
          "data": {
            "text/plain": [
              "         Duration  Src Pt   Dst Pt  Packets  Bytes  Flows  Tos  Flags_......  \\\n",
              "3           0.095     443  58538.0        5   1246      1   32             0   \n",
              "15          0.000   57315    443.0        1     66      1    0             0   \n",
              "18          0.021   60025     80.0        2    108      1    0             0   \n",
              "21          0.000   63957     53.0        1     82      1    0             1   \n",
              "26          0.032   40285     80.0        3    624      1    0             0   \n",
              "...           ...     ...      ...      ...    ...    ...  ...           ...   \n",
              "5231831     0.000    5907  47529.0        1     54      1    0             0   \n",
              "5231832     0.000       3  47529.0        1     54      1    0             0   \n",
              "5231833     0.000   32778  47529.0        1     54      1    0             0   \n",
              "5231834     0.000    8800  47529.0        1     54      1    0             0   \n",
              "5231835     0.000   47529   6881.0        1     58      1    0             0   \n",
              "\n",
              "         Flags_.....F  Flags_....S.  Flags_...R..  Flags_...RS.  Flags_.A....  \\\n",
              "3                   0             0             0             0             0   \n",
              "15                  0             0             0             0             1   \n",
              "18                  0             0             0             0             0   \n",
              "21                  0             0             0             0             0   \n",
              "26                  0             0             0             0             0   \n",
              "...               ...           ...           ...           ...           ...   \n",
              "5231831             0             0             0             0             0   \n",
              "5231832             0             0             0             0             0   \n",
              "5231833             0             0             0             0             0   \n",
              "5231834             0             0             0             0             0   \n",
              "5231835             0             1             0             0             0   \n",
              "\n",
              "         Flags_.A...F  Flags_.A..S.  Flags_.A..SF  Flags_.A.R..  Flags_.A.R.F  \\\n",
              "3                   0             0             0             0             0   \n",
              "15                  0             0             0             0             0   \n",
              "18                  1             0             0             0             0   \n",
              "21                  0             0             0             0             0   \n",
              "26                  0             0             0             0             0   \n",
              "...               ...           ...           ...           ...           ...   \n",
              "5231831             0             0             0             1             0   \n",
              "5231832             0             0             0             1             0   \n",
              "5231833             0             0             0             1             0   \n",
              "5231834             0             0             0             1             0   \n",
              "5231835             0             0             0             0             0   \n",
              "\n",
              "         Flags_.A.RS.  Flags_.A.RSF  Flags_.AP...  Flags_.AP..F  Flags_.AP.S.  \\\n",
              "3                   0             0             1             0             0   \n",
              "15                  0             0             0             0             0   \n",
              "18                  0             0             0             0             0   \n",
              "21                  0             0             0             0             0   \n",
              "26                  0             0             1             0             0   \n",
              "...               ...           ...           ...           ...           ...   \n",
              "5231831             0             0             0             0             0   \n",
              "5231832             0             0             0             0             0   \n",
              "5231833             0             0             0             0             0   \n",
              "5231834             0             0             0             0             0   \n",
              "5231835             0             0             0             0             0   \n",
              "\n",
              "         Flags_.AP.SF  Flags_.APR..  Flags_.APR.F  Flags_.APRS.  Flags_.APRSF  \\\n",
              "3                   0             0             0             0             0   \n",
              "15                  0             0             0             0             0   \n",
              "18                  0             0             0             0             0   \n",
              "21                  0             0             0             0             0   \n",
              "26                  0             0             0             0             0   \n",
              "...               ...           ...           ...           ...           ...   \n",
              "5231831             0             0             0             0             0   \n",
              "5231832             0             0             0             0             0   \n",
              "5231833             0             0             0             0             0   \n",
              "5231834             0             0             0             0             0   \n",
              "5231835             0             0             0             0             0   \n",
              "\n",
              "         attackDescription_ICMP  attackDescription_TCP  attackDescription_UDP  \\\n",
              "3                             0                      0                      0   \n",
              "15                            0                      0                      0   \n",
              "18                            0                      0                      0   \n",
              "21                            0                      0                      0   \n",
              "26                            0                      0                      0   \n",
              "...                         ...                    ...                    ...   \n",
              "5231831                       0                      1                      0   \n",
              "5231832                       0                      1                      0   \n",
              "5231833                       0                      1                      0   \n",
              "5231834                       0                      1                      0   \n",
              "5231835                       0                      1                      0   \n",
              "\n",
              "         attackDescription_normal  label  Proto  \n",
              "3                               1      0  TCP    \n",
              "15                              1      0  TCP    \n",
              "18                              1      0  TCP    \n",
              "21                              1      0  UDP    \n",
              "26                              1      0  TCP    \n",
              "...                           ...    ...    ...  \n",
              "5231831                         0      1  TCP    \n",
              "5231832                         0      1  TCP    \n",
              "5231833                         0      1  TCP    \n",
              "5231834                         0      1  TCP    \n",
              "5231835                         0      1  TCP    \n",
              "\n",
              "[1689346 rows x 34 columns]"
            ],
            "text/html": [
              "\n",
              "  <div id=\"df-381f6e87-f1ef-48c9-8c38-2f4f0e0ef183\" class=\"colab-df-container\">\n",
              "    <div>\n",
              "<style scoped>\n",
              "    .dataframe tbody tr th:only-of-type {\n",
              "        vertical-align: middle;\n",
              "    }\n",
              "\n",
              "    .dataframe tbody tr th {\n",
              "        vertical-align: top;\n",
              "    }\n",
              "\n",
              "    .dataframe thead th {\n",
              "        text-align: right;\n",
              "    }\n",
              "</style>\n",
              "<table border=\"1\" class=\"dataframe\">\n",
              "  <thead>\n",
              "    <tr style=\"text-align: right;\">\n",
              "      <th></th>\n",
              "      <th>Duration</th>\n",
              "      <th>Src Pt</th>\n",
              "      <th>Dst Pt</th>\n",
              "      <th>Packets</th>\n",
              "      <th>Bytes</th>\n",
              "      <th>Flows</th>\n",
              "      <th>Tos</th>\n",
              "      <th>Flags_......</th>\n",
              "      <th>Flags_.....F</th>\n",
              "      <th>Flags_....S.</th>\n",
              "      <th>Flags_...R..</th>\n",
              "      <th>Flags_...RS.</th>\n",
              "      <th>Flags_.A....</th>\n",
              "      <th>Flags_.A...F</th>\n",
              "      <th>Flags_.A..S.</th>\n",
              "      <th>Flags_.A..SF</th>\n",
              "      <th>Flags_.A.R..</th>\n",
              "      <th>Flags_.A.R.F</th>\n",
              "      <th>Flags_.A.RS.</th>\n",
              "      <th>Flags_.A.RSF</th>\n",
              "      <th>Flags_.AP...</th>\n",
              "      <th>Flags_.AP..F</th>\n",
              "      <th>Flags_.AP.S.</th>\n",
              "      <th>Flags_.AP.SF</th>\n",
              "      <th>Flags_.APR..</th>\n",
              "      <th>Flags_.APR.F</th>\n",
              "      <th>Flags_.APRS.</th>\n",
              "      <th>Flags_.APRSF</th>\n",
              "      <th>attackDescription_ICMP</th>\n",
              "      <th>attackDescription_TCP</th>\n",
              "      <th>attackDescription_UDP</th>\n",
              "      <th>attackDescription_normal</th>\n",
              "      <th>label</th>\n",
              "      <th>Proto</th>\n",
              "    </tr>\n",
              "  </thead>\n",
              "  <tbody>\n",
              "    <tr>\n",
              "      <th>3</th>\n",
              "      <td>0.095</td>\n",
              "      <td>443</td>\n",
              "      <td>58538.0</td>\n",
              "      <td>5</td>\n",
              "      <td>1246</td>\n",
              "      <td>1</td>\n",
              "      <td>32</td>\n",
              "      <td>0</td>\n",
              "      <td>0</td>\n",
              "      <td>0</td>\n",
              "      <td>0</td>\n",
              "      <td>0</td>\n",
              "      <td>0</td>\n",
              "      <td>0</td>\n",
              "      <td>0</td>\n",
              "      <td>0</td>\n",
              "      <td>0</td>\n",
              "      <td>0</td>\n",
              "      <td>0</td>\n",
              "      <td>0</td>\n",
              "      <td>1</td>\n",
              "      <td>0</td>\n",
              "      <td>0</td>\n",
              "      <td>0</td>\n",
              "      <td>0</td>\n",
              "      <td>0</td>\n",
              "      <td>0</td>\n",
              "      <td>0</td>\n",
              "      <td>0</td>\n",
              "      <td>0</td>\n",
              "      <td>0</td>\n",
              "      <td>1</td>\n",
              "      <td>0</td>\n",
              "      <td>TCP</td>\n",
              "    </tr>\n",
              "    <tr>\n",
              "      <th>15</th>\n",
              "      <td>0.000</td>\n",
              "      <td>57315</td>\n",
              "      <td>443.0</td>\n",
              "      <td>1</td>\n",
              "      <td>66</td>\n",
              "      <td>1</td>\n",
              "      <td>0</td>\n",
              "      <td>0</td>\n",
              "      <td>0</td>\n",
              "      <td>0</td>\n",
              "      <td>0</td>\n",
              "      <td>0</td>\n",
              "      <td>1</td>\n",
              "      <td>0</td>\n",
              "      <td>0</td>\n",
              "      <td>0</td>\n",
              "      <td>0</td>\n",
              "      <td>0</td>\n",
              "      <td>0</td>\n",
              "      <td>0</td>\n",
              "      <td>0</td>\n",
              "      <td>0</td>\n",
              "      <td>0</td>\n",
              "      <td>0</td>\n",
              "      <td>0</td>\n",
              "      <td>0</td>\n",
              "      <td>0</td>\n",
              "      <td>0</td>\n",
              "      <td>0</td>\n",
              "      <td>0</td>\n",
              "      <td>0</td>\n",
              "      <td>1</td>\n",
              "      <td>0</td>\n",
              "      <td>TCP</td>\n",
              "    </tr>\n",
              "    <tr>\n",
              "      <th>18</th>\n",
              "      <td>0.021</td>\n",
              "      <td>60025</td>\n",
              "      <td>80.0</td>\n",
              "      <td>2</td>\n",
              "      <td>108</td>\n",
              "      <td>1</td>\n",
              "      <td>0</td>\n",
              "      <td>0</td>\n",
              "      <td>0</td>\n",
              "      <td>0</td>\n",
              "      <td>0</td>\n",
              "      <td>0</td>\n",
              "      <td>0</td>\n",
              "      <td>1</td>\n",
              "      <td>0</td>\n",
              "      <td>0</td>\n",
              "      <td>0</td>\n",
              "      <td>0</td>\n",
              "      <td>0</td>\n",
              "      <td>0</td>\n",
              "      <td>0</td>\n",
              "      <td>0</td>\n",
              "      <td>0</td>\n",
              "      <td>0</td>\n",
              "      <td>0</td>\n",
              "      <td>0</td>\n",
              "      <td>0</td>\n",
              "      <td>0</td>\n",
              "      <td>0</td>\n",
              "      <td>0</td>\n",
              "      <td>0</td>\n",
              "      <td>1</td>\n",
              "      <td>0</td>\n",
              "      <td>TCP</td>\n",
              "    </tr>\n",
              "    <tr>\n",
              "      <th>21</th>\n",
              "      <td>0.000</td>\n",
              "      <td>63957</td>\n",
              "      <td>53.0</td>\n",
              "      <td>1</td>\n",
              "      <td>82</td>\n",
              "      <td>1</td>\n",
              "      <td>0</td>\n",
              "      <td>1</td>\n",
              "      <td>0</td>\n",
              "      <td>0</td>\n",
              "      <td>0</td>\n",
              "      <td>0</td>\n",
              "      <td>0</td>\n",
              "      <td>0</td>\n",
              "      <td>0</td>\n",
              "      <td>0</td>\n",
              "      <td>0</td>\n",
              "      <td>0</td>\n",
              "      <td>0</td>\n",
              "      <td>0</td>\n",
              "      <td>0</td>\n",
              "      <td>0</td>\n",
              "      <td>0</td>\n",
              "      <td>0</td>\n",
              "      <td>0</td>\n",
              "      <td>0</td>\n",
              "      <td>0</td>\n",
              "      <td>0</td>\n",
              "      <td>0</td>\n",
              "      <td>0</td>\n",
              "      <td>0</td>\n",
              "      <td>1</td>\n",
              "      <td>0</td>\n",
              "      <td>UDP</td>\n",
              "    </tr>\n",
              "    <tr>\n",
              "      <th>26</th>\n",
              "      <td>0.032</td>\n",
              "      <td>40285</td>\n",
              "      <td>80.0</td>\n",
              "      <td>3</td>\n",
              "      <td>624</td>\n",
              "      <td>1</td>\n",
              "      <td>0</td>\n",
              "      <td>0</td>\n",
              "      <td>0</td>\n",
              "      <td>0</td>\n",
              "      <td>0</td>\n",
              "      <td>0</td>\n",
              "      <td>0</td>\n",
              "      <td>0</td>\n",
              "      <td>0</td>\n",
              "      <td>0</td>\n",
              "      <td>0</td>\n",
              "      <td>0</td>\n",
              "      <td>0</td>\n",
              "      <td>0</td>\n",
              "      <td>1</td>\n",
              "      <td>0</td>\n",
              "      <td>0</td>\n",
              "      <td>0</td>\n",
              "      <td>0</td>\n",
              "      <td>0</td>\n",
              "      <td>0</td>\n",
              "      <td>0</td>\n",
              "      <td>0</td>\n",
              "      <td>0</td>\n",
              "      <td>0</td>\n",
              "      <td>1</td>\n",
              "      <td>0</td>\n",
              "      <td>TCP</td>\n",
              "    </tr>\n",
              "    <tr>\n",
              "      <th>...</th>\n",
              "      <td>...</td>\n",
              "      <td>...</td>\n",
              "      <td>...</td>\n",
              "      <td>...</td>\n",
              "      <td>...</td>\n",
              "      <td>...</td>\n",
              "      <td>...</td>\n",
              "      <td>...</td>\n",
              "      <td>...</td>\n",
              "      <td>...</td>\n",
              "      <td>...</td>\n",
              "      <td>...</td>\n",
              "      <td>...</td>\n",
              "      <td>...</td>\n",
              "      <td>...</td>\n",
              "      <td>...</td>\n",
              "      <td>...</td>\n",
              "      <td>...</td>\n",
              "      <td>...</td>\n",
              "      <td>...</td>\n",
              "      <td>...</td>\n",
              "      <td>...</td>\n",
              "      <td>...</td>\n",
              "      <td>...</td>\n",
              "      <td>...</td>\n",
              "      <td>...</td>\n",
              "      <td>...</td>\n",
              "      <td>...</td>\n",
              "      <td>...</td>\n",
              "      <td>...</td>\n",
              "      <td>...</td>\n",
              "      <td>...</td>\n",
              "      <td>...</td>\n",
              "      <td>...</td>\n",
              "    </tr>\n",
              "    <tr>\n",
              "      <th>5231831</th>\n",
              "      <td>0.000</td>\n",
              "      <td>5907</td>\n",
              "      <td>47529.0</td>\n",
              "      <td>1</td>\n",
              "      <td>54</td>\n",
              "      <td>1</td>\n",
              "      <td>0</td>\n",
              "      <td>0</td>\n",
              "      <td>0</td>\n",
              "      <td>0</td>\n",
              "      <td>0</td>\n",
              "      <td>0</td>\n",
              "      <td>0</td>\n",
              "      <td>0</td>\n",
              "      <td>0</td>\n",
              "      <td>0</td>\n",
              "      <td>1</td>\n",
              "      <td>0</td>\n",
              "      <td>0</td>\n",
              "      <td>0</td>\n",
              "      <td>0</td>\n",
              "      <td>0</td>\n",
              "      <td>0</td>\n",
              "      <td>0</td>\n",
              "      <td>0</td>\n",
              "      <td>0</td>\n",
              "      <td>0</td>\n",
              "      <td>0</td>\n",
              "      <td>0</td>\n",
              "      <td>1</td>\n",
              "      <td>0</td>\n",
              "      <td>0</td>\n",
              "      <td>1</td>\n",
              "      <td>TCP</td>\n",
              "    </tr>\n",
              "    <tr>\n",
              "      <th>5231832</th>\n",
              "      <td>0.000</td>\n",
              "      <td>3</td>\n",
              "      <td>47529.0</td>\n",
              "      <td>1</td>\n",
              "      <td>54</td>\n",
              "      <td>1</td>\n",
              "      <td>0</td>\n",
              "      <td>0</td>\n",
              "      <td>0</td>\n",
              "      <td>0</td>\n",
              "      <td>0</td>\n",
              "      <td>0</td>\n",
              "      <td>0</td>\n",
              "      <td>0</td>\n",
              "      <td>0</td>\n",
              "      <td>0</td>\n",
              "      <td>1</td>\n",
              "      <td>0</td>\n",
              "      <td>0</td>\n",
              "      <td>0</td>\n",
              "      <td>0</td>\n",
              "      <td>0</td>\n",
              "      <td>0</td>\n",
              "      <td>0</td>\n",
              "      <td>0</td>\n",
              "      <td>0</td>\n",
              "      <td>0</td>\n",
              "      <td>0</td>\n",
              "      <td>0</td>\n",
              "      <td>1</td>\n",
              "      <td>0</td>\n",
              "      <td>0</td>\n",
              "      <td>1</td>\n",
              "      <td>TCP</td>\n",
              "    </tr>\n",
              "    <tr>\n",
              "      <th>5231833</th>\n",
              "      <td>0.000</td>\n",
              "      <td>32778</td>\n",
              "      <td>47529.0</td>\n",
              "      <td>1</td>\n",
              "      <td>54</td>\n",
              "      <td>1</td>\n",
              "      <td>0</td>\n",
              "      <td>0</td>\n",
              "      <td>0</td>\n",
              "      <td>0</td>\n",
              "      <td>0</td>\n",
              "      <td>0</td>\n",
              "      <td>0</td>\n",
              "      <td>0</td>\n",
              "      <td>0</td>\n",
              "      <td>0</td>\n",
              "      <td>1</td>\n",
              "      <td>0</td>\n",
              "      <td>0</td>\n",
              "      <td>0</td>\n",
              "      <td>0</td>\n",
              "      <td>0</td>\n",
              "      <td>0</td>\n",
              "      <td>0</td>\n",
              "      <td>0</td>\n",
              "      <td>0</td>\n",
              "      <td>0</td>\n",
              "      <td>0</td>\n",
              "      <td>0</td>\n",
              "      <td>1</td>\n",
              "      <td>0</td>\n",
              "      <td>0</td>\n",
              "      <td>1</td>\n",
              "      <td>TCP</td>\n",
              "    </tr>\n",
              "    <tr>\n",
              "      <th>5231834</th>\n",
              "      <td>0.000</td>\n",
              "      <td>8800</td>\n",
              "      <td>47529.0</td>\n",
              "      <td>1</td>\n",
              "      <td>54</td>\n",
              "      <td>1</td>\n",
              "      <td>0</td>\n",
              "      <td>0</td>\n",
              "      <td>0</td>\n",
              "      <td>0</td>\n",
              "      <td>0</td>\n",
              "      <td>0</td>\n",
              "      <td>0</td>\n",
              "      <td>0</td>\n",
              "      <td>0</td>\n",
              "      <td>0</td>\n",
              "      <td>1</td>\n",
              "      <td>0</td>\n",
              "      <td>0</td>\n",
              "      <td>0</td>\n",
              "      <td>0</td>\n",
              "      <td>0</td>\n",
              "      <td>0</td>\n",
              "      <td>0</td>\n",
              "      <td>0</td>\n",
              "      <td>0</td>\n",
              "      <td>0</td>\n",
              "      <td>0</td>\n",
              "      <td>0</td>\n",
              "      <td>1</td>\n",
              "      <td>0</td>\n",
              "      <td>0</td>\n",
              "      <td>1</td>\n",
              "      <td>TCP</td>\n",
              "    </tr>\n",
              "    <tr>\n",
              "      <th>5231835</th>\n",
              "      <td>0.000</td>\n",
              "      <td>47529</td>\n",
              "      <td>6881.0</td>\n",
              "      <td>1</td>\n",
              "      <td>58</td>\n",
              "      <td>1</td>\n",
              "      <td>0</td>\n",
              "      <td>0</td>\n",
              "      <td>0</td>\n",
              "      <td>1</td>\n",
              "      <td>0</td>\n",
              "      <td>0</td>\n",
              "      <td>0</td>\n",
              "      <td>0</td>\n",
              "      <td>0</td>\n",
              "      <td>0</td>\n",
              "      <td>0</td>\n",
              "      <td>0</td>\n",
              "      <td>0</td>\n",
              "      <td>0</td>\n",
              "      <td>0</td>\n",
              "      <td>0</td>\n",
              "      <td>0</td>\n",
              "      <td>0</td>\n",
              "      <td>0</td>\n",
              "      <td>0</td>\n",
              "      <td>0</td>\n",
              "      <td>0</td>\n",
              "      <td>0</td>\n",
              "      <td>1</td>\n",
              "      <td>0</td>\n",
              "      <td>0</td>\n",
              "      <td>1</td>\n",
              "      <td>TCP</td>\n",
              "    </tr>\n",
              "  </tbody>\n",
              "</table>\n",
              "<p>1689346 rows × 34 columns</p>\n",
              "</div>\n",
              "    <div class=\"colab-df-buttons\">\n",
              "\n",
              "  <div class=\"colab-df-container\">\n",
              "    <button class=\"colab-df-convert\" onclick=\"convertToInteractive('df-381f6e87-f1ef-48c9-8c38-2f4f0e0ef183')\"\n",
              "            title=\"Convert this dataframe to an interactive table.\"\n",
              "            style=\"display:none;\">\n",
              "\n",
              "  <svg xmlns=\"http://www.w3.org/2000/svg\" height=\"24px\" viewBox=\"0 -960 960 960\">\n",
              "    <path d=\"M120-120v-720h720v720H120Zm60-500h600v-160H180v160Zm220 220h160v-160H400v160Zm0 220h160v-160H400v160ZM180-400h160v-160H180v160Zm440 0h160v-160H620v160ZM180-180h160v-160H180v160Zm440 0h160v-160H620v160Z\"/>\n",
              "  </svg>\n",
              "    </button>\n",
              "\n",
              "  <style>\n",
              "    .colab-df-container {\n",
              "      display:flex;\n",
              "      gap: 12px;\n",
              "    }\n",
              "\n",
              "    .colab-df-convert {\n",
              "      background-color: #E8F0FE;\n",
              "      border: none;\n",
              "      border-radius: 50%;\n",
              "      cursor: pointer;\n",
              "      display: none;\n",
              "      fill: #1967D2;\n",
              "      height: 32px;\n",
              "      padding: 0 0 0 0;\n",
              "      width: 32px;\n",
              "    }\n",
              "\n",
              "    .colab-df-convert:hover {\n",
              "      background-color: #E2EBFA;\n",
              "      box-shadow: 0px 1px 2px rgba(60, 64, 67, 0.3), 0px 1px 3px 1px rgba(60, 64, 67, 0.15);\n",
              "      fill: #174EA6;\n",
              "    }\n",
              "\n",
              "    .colab-df-buttons div {\n",
              "      margin-bottom: 4px;\n",
              "    }\n",
              "\n",
              "    [theme=dark] .colab-df-convert {\n",
              "      background-color: #3B4455;\n",
              "      fill: #D2E3FC;\n",
              "    }\n",
              "\n",
              "    [theme=dark] .colab-df-convert:hover {\n",
              "      background-color: #434B5C;\n",
              "      box-shadow: 0px 1px 3px 1px rgba(0, 0, 0, 0.15);\n",
              "      filter: drop-shadow(0px 1px 2px rgba(0, 0, 0, 0.3));\n",
              "      fill: #FFFFFF;\n",
              "    }\n",
              "  </style>\n",
              "\n",
              "    <script>\n",
              "      const buttonEl =\n",
              "        document.querySelector('#df-381f6e87-f1ef-48c9-8c38-2f4f0e0ef183 button.colab-df-convert');\n",
              "      buttonEl.style.display =\n",
              "        google.colab.kernel.accessAllowed ? 'block' : 'none';\n",
              "\n",
              "      async function convertToInteractive(key) {\n",
              "        const element = document.querySelector('#df-381f6e87-f1ef-48c9-8c38-2f4f0e0ef183');\n",
              "        const dataTable =\n",
              "          await google.colab.kernel.invokeFunction('convertToInteractive',\n",
              "                                                    [key], {});\n",
              "        if (!dataTable) return;\n",
              "\n",
              "        const docLinkHtml = 'Like what you see? Visit the ' +\n",
              "          '<a target=\"_blank\" href=https://colab.research.google.com/notebooks/data_table.ipynb>data table notebook</a>'\n",
              "          + ' to learn more about interactive tables.';\n",
              "        element.innerHTML = '';\n",
              "        dataTable['output_type'] = 'display_data';\n",
              "        await google.colab.output.renderOutput(dataTable, element);\n",
              "        const docLink = document.createElement('div');\n",
              "        docLink.innerHTML = docLinkHtml;\n",
              "        element.appendChild(docLink);\n",
              "      }\n",
              "    </script>\n",
              "  </div>\n",
              "\n",
              "\n",
              "<div id=\"df-c807e928-6b2c-4f9e-bd2c-09b71155042f\">\n",
              "  <button class=\"colab-df-quickchart\" onclick=\"quickchart('df-c807e928-6b2c-4f9e-bd2c-09b71155042f')\"\n",
              "            title=\"Suggest charts.\"\n",
              "            style=\"display:none;\">\n",
              "\n",
              "<svg xmlns=\"http://www.w3.org/2000/svg\" height=\"24px\"viewBox=\"0 0 24 24\"\n",
              "     width=\"24px\">\n",
              "    <g>\n",
              "        <path d=\"M19 3H5c-1.1 0-2 .9-2 2v14c0 1.1.9 2 2 2h14c1.1 0 2-.9 2-2V5c0-1.1-.9-2-2-2zM9 17H7v-7h2v7zm4 0h-2V7h2v10zm4 0h-2v-4h2v4z\"/>\n",
              "    </g>\n",
              "</svg>\n",
              "  </button>\n",
              "\n",
              "<style>\n",
              "  .colab-df-quickchart {\n",
              "      --bg-color: #E8F0FE;\n",
              "      --fill-color: #1967D2;\n",
              "      --hover-bg-color: #E2EBFA;\n",
              "      --hover-fill-color: #174EA6;\n",
              "      --disabled-fill-color: #AAA;\n",
              "      --disabled-bg-color: #DDD;\n",
              "  }\n",
              "\n",
              "  [theme=dark] .colab-df-quickchart {\n",
              "      --bg-color: #3B4455;\n",
              "      --fill-color: #D2E3FC;\n",
              "      --hover-bg-color: #434B5C;\n",
              "      --hover-fill-color: #FFFFFF;\n",
              "      --disabled-bg-color: #3B4455;\n",
              "      --disabled-fill-color: #666;\n",
              "  }\n",
              "\n",
              "  .colab-df-quickchart {\n",
              "    background-color: var(--bg-color);\n",
              "    border: none;\n",
              "    border-radius: 50%;\n",
              "    cursor: pointer;\n",
              "    display: none;\n",
              "    fill: var(--fill-color);\n",
              "    height: 32px;\n",
              "    padding: 0;\n",
              "    width: 32px;\n",
              "  }\n",
              "\n",
              "  .colab-df-quickchart:hover {\n",
              "    background-color: var(--hover-bg-color);\n",
              "    box-shadow: 0 1px 2px rgba(60, 64, 67, 0.3), 0 1px 3px 1px rgba(60, 64, 67, 0.15);\n",
              "    fill: var(--button-hover-fill-color);\n",
              "  }\n",
              "\n",
              "  .colab-df-quickchart-complete:disabled,\n",
              "  .colab-df-quickchart-complete:disabled:hover {\n",
              "    background-color: var(--disabled-bg-color);\n",
              "    fill: var(--disabled-fill-color);\n",
              "    box-shadow: none;\n",
              "  }\n",
              "\n",
              "  .colab-df-spinner {\n",
              "    border: 2px solid var(--fill-color);\n",
              "    border-color: transparent;\n",
              "    border-bottom-color: var(--fill-color);\n",
              "    animation:\n",
              "      spin 1s steps(1) infinite;\n",
              "  }\n",
              "\n",
              "  @keyframes spin {\n",
              "    0% {\n",
              "      border-color: transparent;\n",
              "      border-bottom-color: var(--fill-color);\n",
              "      border-left-color: var(--fill-color);\n",
              "    }\n",
              "    20% {\n",
              "      border-color: transparent;\n",
              "      border-left-color: var(--fill-color);\n",
              "      border-top-color: var(--fill-color);\n",
              "    }\n",
              "    30% {\n",
              "      border-color: transparent;\n",
              "      border-left-color: var(--fill-color);\n",
              "      border-top-color: var(--fill-color);\n",
              "      border-right-color: var(--fill-color);\n",
              "    }\n",
              "    40% {\n",
              "      border-color: transparent;\n",
              "      border-right-color: var(--fill-color);\n",
              "      border-top-color: var(--fill-color);\n",
              "    }\n",
              "    60% {\n",
              "      border-color: transparent;\n",
              "      border-right-color: var(--fill-color);\n",
              "    }\n",
              "    80% {\n",
              "      border-color: transparent;\n",
              "      border-right-color: var(--fill-color);\n",
              "      border-bottom-color: var(--fill-color);\n",
              "    }\n",
              "    90% {\n",
              "      border-color: transparent;\n",
              "      border-bottom-color: var(--fill-color);\n",
              "    }\n",
              "  }\n",
              "</style>\n",
              "\n",
              "  <script>\n",
              "    async function quickchart(key) {\n",
              "      const quickchartButtonEl =\n",
              "        document.querySelector('#' + key + ' button');\n",
              "      quickchartButtonEl.disabled = true;  // To prevent multiple clicks.\n",
              "      quickchartButtonEl.classList.add('colab-df-spinner');\n",
              "      try {\n",
              "        const charts = await google.colab.kernel.invokeFunction(\n",
              "            'suggestCharts', [key], {});\n",
              "      } catch (error) {\n",
              "        console.error('Error during call to suggestCharts:', error);\n",
              "      }\n",
              "      quickchartButtonEl.classList.remove('colab-df-spinner');\n",
              "      quickchartButtonEl.classList.add('colab-df-quickchart-complete');\n",
              "    }\n",
              "    (() => {\n",
              "      let quickchartButtonEl =\n",
              "        document.querySelector('#df-c807e928-6b2c-4f9e-bd2c-09b71155042f button');\n",
              "      quickchartButtonEl.style.display =\n",
              "        google.colab.kernel.accessAllowed ? 'block' : 'none';\n",
              "    })();\n",
              "  </script>\n",
              "</div>\n",
              "    </div>\n",
              "  </div>\n"
            ]
          },
          "metadata": {},
          "execution_count": 31
        }
      ]
    },
    {
      "cell_type": "markdown",
      "source": [
        "### Train-Test split"
      ],
      "metadata": {
        "id": "Z7K2K3w_Xi9Y"
      }
    },
    {
      "cell_type": "code",
      "source": [
        "train, test = train_test_split(final_df, test_size=0.3, random_state=42)\n",
        "train"
      ],
      "metadata": {
        "colab": {
          "base_uri": "https://localhost:8080/",
          "height": 0
        },
        "id": "RErtPgnRXiai",
        "outputId": "62efa4b5-f025-4c05-8912-9ddbacd43514"
      },
      "execution_count": 32,
      "outputs": [
        {
          "output_type": "execute_result",
          "data": {
            "text/plain": [
              "         Duration  Src Pt   Dst Pt  Packets  Bytes  Flows  Tos  Flags_......  \\\n",
              "2229571     0.000     443  60382.0        1     66      1   32             0   \n",
              "3279170     0.000      80  55252.0        1     66      1    0             0   \n",
              "2212238     0.021     443  54397.0        3    193      1    0             0   \n",
              "4756011     0.000     787  50342.0        1     54      1    0             0   \n",
              "2265158     0.045      53  36795.0        2    380      1    0             1   \n",
              "...           ...     ...      ...      ...    ...    ...  ...           ...   \n",
              "1294916     0.026   62375    443.0        4    568      1    0             0   \n",
              "4937499     6.410       0      3.3        5    350      1  192             1   \n",
              "658411      0.000      53  57615.0        1     91      1    0             1   \n",
              "2931232     0.000   46755   4129.0        1     58      1    0             0   \n",
              "608357      0.000   33411    443.0        1     66      1    0             0   \n",
              "\n",
              "         Flags_.....F  Flags_....S.  Flags_...R..  Flags_...RS.  Flags_.A....  \\\n",
              "2229571             0             0             0             0             0   \n",
              "3279170             0             0             0             0             1   \n",
              "2212238             0             0             0             0             0   \n",
              "4756011             0             0             0             0             0   \n",
              "2265158             0             0             0             0             0   \n",
              "...               ...           ...           ...           ...           ...   \n",
              "1294916             0             0             0             0             0   \n",
              "4937499             0             0             0             0             0   \n",
              "658411              0             0             0             0             0   \n",
              "2931232             0             1             0             0             0   \n",
              "608357              0             0             0             0             1   \n",
              "\n",
              "         Flags_.A...F  Flags_.A..S.  Flags_.A..SF  Flags_.A.R..  Flags_.A.R.F  \\\n",
              "2229571             1             0             0             0             0   \n",
              "3279170             0             0             0             0             0   \n",
              "2212238             0             0             0             0             0   \n",
              "4756011             0             0             0             1             0   \n",
              "2265158             0             0             0             0             0   \n",
              "...               ...           ...           ...           ...           ...   \n",
              "1294916             0             0             0             0             0   \n",
              "4937499             0             0             0             0             0   \n",
              "658411              0             0             0             0             0   \n",
              "2931232             0             0             0             0             0   \n",
              "608357              0             0             0             0             0   \n",
              "\n",
              "         Flags_.A.RS.  Flags_.A.RSF  Flags_.AP...  Flags_.AP..F  Flags_.AP.S.  \\\n",
              "2229571             0             0             0             0             0   \n",
              "3279170             0             0             0             0             0   \n",
              "2212238             0             0             0             1             0   \n",
              "4756011             0             0             0             0             0   \n",
              "2265158             0             0             0             0             0   \n",
              "...               ...           ...           ...           ...           ...   \n",
              "1294916             0             0             1             0             0   \n",
              "4937499             0             0             0             0             0   \n",
              "658411              0             0             0             0             0   \n",
              "2931232             0             0             0             0             0   \n",
              "608357              0             0             0             0             0   \n",
              "\n",
              "         Flags_.AP.SF  Flags_.APR..  Flags_.APR.F  Flags_.APRS.  Flags_.APRSF  \\\n",
              "2229571             0             0             0             0             0   \n",
              "3279170             0             0             0             0             0   \n",
              "2212238             0             0             0             0             0   \n",
              "4756011             0             0             0             0             0   \n",
              "2265158             0             0             0             0             0   \n",
              "...               ...           ...           ...           ...           ...   \n",
              "1294916             0             0             0             0             0   \n",
              "4937499             0             0             0             0             0   \n",
              "658411              0             0             0             0             0   \n",
              "2931232             0             0             0             0             0   \n",
              "608357              0             0             0             0             0   \n",
              "\n",
              "         attackDescription_ICMP  attackDescription_TCP  attackDescription_UDP  \\\n",
              "2229571                       0                      0                      0   \n",
              "3279170                       0                      0                      0   \n",
              "2212238                       0                      0                      0   \n",
              "4756011                       0                      1                      0   \n",
              "2265158                       0                      0                      0   \n",
              "...                         ...                    ...                    ...   \n",
              "1294916                       0                      0                      0   \n",
              "4937499                       0                      0                      1   \n",
              "658411                        0                      0                      0   \n",
              "2931232                       0                      1                      0   \n",
              "608357                        0                      0                      0   \n",
              "\n",
              "         attackDescription_normal  label  Proto  \n",
              "2229571                         1      0  TCP    \n",
              "3279170                         1      0  TCP    \n",
              "2212238                         1      0  TCP    \n",
              "4756011                         0      1  TCP    \n",
              "2265158                         1      0  UDP    \n",
              "...                           ...    ...    ...  \n",
              "1294916                         1      0  TCP    \n",
              "4937499                         0      1  ICMP   \n",
              "658411                          1      0  UDP    \n",
              "2931232                         0      1  TCP    \n",
              "608357                          1      0  TCP    \n",
              "\n",
              "[1182542 rows x 34 columns]"
            ],
            "text/html": [
              "\n",
              "  <div id=\"df-9cc4cd54-c5ec-4c9e-b4b6-2ba516e78083\" class=\"colab-df-container\">\n",
              "    <div>\n",
              "<style scoped>\n",
              "    .dataframe tbody tr th:only-of-type {\n",
              "        vertical-align: middle;\n",
              "    }\n",
              "\n",
              "    .dataframe tbody tr th {\n",
              "        vertical-align: top;\n",
              "    }\n",
              "\n",
              "    .dataframe thead th {\n",
              "        text-align: right;\n",
              "    }\n",
              "</style>\n",
              "<table border=\"1\" class=\"dataframe\">\n",
              "  <thead>\n",
              "    <tr style=\"text-align: right;\">\n",
              "      <th></th>\n",
              "      <th>Duration</th>\n",
              "      <th>Src Pt</th>\n",
              "      <th>Dst Pt</th>\n",
              "      <th>Packets</th>\n",
              "      <th>Bytes</th>\n",
              "      <th>Flows</th>\n",
              "      <th>Tos</th>\n",
              "      <th>Flags_......</th>\n",
              "      <th>Flags_.....F</th>\n",
              "      <th>Flags_....S.</th>\n",
              "      <th>Flags_...R..</th>\n",
              "      <th>Flags_...RS.</th>\n",
              "      <th>Flags_.A....</th>\n",
              "      <th>Flags_.A...F</th>\n",
              "      <th>Flags_.A..S.</th>\n",
              "      <th>Flags_.A..SF</th>\n",
              "      <th>Flags_.A.R..</th>\n",
              "      <th>Flags_.A.R.F</th>\n",
              "      <th>Flags_.A.RS.</th>\n",
              "      <th>Flags_.A.RSF</th>\n",
              "      <th>Flags_.AP...</th>\n",
              "      <th>Flags_.AP..F</th>\n",
              "      <th>Flags_.AP.S.</th>\n",
              "      <th>Flags_.AP.SF</th>\n",
              "      <th>Flags_.APR..</th>\n",
              "      <th>Flags_.APR.F</th>\n",
              "      <th>Flags_.APRS.</th>\n",
              "      <th>Flags_.APRSF</th>\n",
              "      <th>attackDescription_ICMP</th>\n",
              "      <th>attackDescription_TCP</th>\n",
              "      <th>attackDescription_UDP</th>\n",
              "      <th>attackDescription_normal</th>\n",
              "      <th>label</th>\n",
              "      <th>Proto</th>\n",
              "    </tr>\n",
              "  </thead>\n",
              "  <tbody>\n",
              "    <tr>\n",
              "      <th>2229571</th>\n",
              "      <td>0.000</td>\n",
              "      <td>443</td>\n",
              "      <td>60382.0</td>\n",
              "      <td>1</td>\n",
              "      <td>66</td>\n",
              "      <td>1</td>\n",
              "      <td>32</td>\n",
              "      <td>0</td>\n",
              "      <td>0</td>\n",
              "      <td>0</td>\n",
              "      <td>0</td>\n",
              "      <td>0</td>\n",
              "      <td>0</td>\n",
              "      <td>1</td>\n",
              "      <td>0</td>\n",
              "      <td>0</td>\n",
              "      <td>0</td>\n",
              "      <td>0</td>\n",
              "      <td>0</td>\n",
              "      <td>0</td>\n",
              "      <td>0</td>\n",
              "      <td>0</td>\n",
              "      <td>0</td>\n",
              "      <td>0</td>\n",
              "      <td>0</td>\n",
              "      <td>0</td>\n",
              "      <td>0</td>\n",
              "      <td>0</td>\n",
              "      <td>0</td>\n",
              "      <td>0</td>\n",
              "      <td>0</td>\n",
              "      <td>1</td>\n",
              "      <td>0</td>\n",
              "      <td>TCP</td>\n",
              "    </tr>\n",
              "    <tr>\n",
              "      <th>3279170</th>\n",
              "      <td>0.000</td>\n",
              "      <td>80</td>\n",
              "      <td>55252.0</td>\n",
              "      <td>1</td>\n",
              "      <td>66</td>\n",
              "      <td>1</td>\n",
              "      <td>0</td>\n",
              "      <td>0</td>\n",
              "      <td>0</td>\n",
              "      <td>0</td>\n",
              "      <td>0</td>\n",
              "      <td>0</td>\n",
              "      <td>1</td>\n",
              "      <td>0</td>\n",
              "      <td>0</td>\n",
              "      <td>0</td>\n",
              "      <td>0</td>\n",
              "      <td>0</td>\n",
              "      <td>0</td>\n",
              "      <td>0</td>\n",
              "      <td>0</td>\n",
              "      <td>0</td>\n",
              "      <td>0</td>\n",
              "      <td>0</td>\n",
              "      <td>0</td>\n",
              "      <td>0</td>\n",
              "      <td>0</td>\n",
              "      <td>0</td>\n",
              "      <td>0</td>\n",
              "      <td>0</td>\n",
              "      <td>0</td>\n",
              "      <td>1</td>\n",
              "      <td>0</td>\n",
              "      <td>TCP</td>\n",
              "    </tr>\n",
              "    <tr>\n",
              "      <th>2212238</th>\n",
              "      <td>0.021</td>\n",
              "      <td>443</td>\n",
              "      <td>54397.0</td>\n",
              "      <td>3</td>\n",
              "      <td>193</td>\n",
              "      <td>1</td>\n",
              "      <td>0</td>\n",
              "      <td>0</td>\n",
              "      <td>0</td>\n",
              "      <td>0</td>\n",
              "      <td>0</td>\n",
              "      <td>0</td>\n",
              "      <td>0</td>\n",
              "      <td>0</td>\n",
              "      <td>0</td>\n",
              "      <td>0</td>\n",
              "      <td>0</td>\n",
              "      <td>0</td>\n",
              "      <td>0</td>\n",
              "      <td>0</td>\n",
              "      <td>0</td>\n",
              "      <td>1</td>\n",
              "      <td>0</td>\n",
              "      <td>0</td>\n",
              "      <td>0</td>\n",
              "      <td>0</td>\n",
              "      <td>0</td>\n",
              "      <td>0</td>\n",
              "      <td>0</td>\n",
              "      <td>0</td>\n",
              "      <td>0</td>\n",
              "      <td>1</td>\n",
              "      <td>0</td>\n",
              "      <td>TCP</td>\n",
              "    </tr>\n",
              "    <tr>\n",
              "      <th>4756011</th>\n",
              "      <td>0.000</td>\n",
              "      <td>787</td>\n",
              "      <td>50342.0</td>\n",
              "      <td>1</td>\n",
              "      <td>54</td>\n",
              "      <td>1</td>\n",
              "      <td>0</td>\n",
              "      <td>0</td>\n",
              "      <td>0</td>\n",
              "      <td>0</td>\n",
              "      <td>0</td>\n",
              "      <td>0</td>\n",
              "      <td>0</td>\n",
              "      <td>0</td>\n",
              "      <td>0</td>\n",
              "      <td>0</td>\n",
              "      <td>1</td>\n",
              "      <td>0</td>\n",
              "      <td>0</td>\n",
              "      <td>0</td>\n",
              "      <td>0</td>\n",
              "      <td>0</td>\n",
              "      <td>0</td>\n",
              "      <td>0</td>\n",
              "      <td>0</td>\n",
              "      <td>0</td>\n",
              "      <td>0</td>\n",
              "      <td>0</td>\n",
              "      <td>0</td>\n",
              "      <td>1</td>\n",
              "      <td>0</td>\n",
              "      <td>0</td>\n",
              "      <td>1</td>\n",
              "      <td>TCP</td>\n",
              "    </tr>\n",
              "    <tr>\n",
              "      <th>2265158</th>\n",
              "      <td>0.045</td>\n",
              "      <td>53</td>\n",
              "      <td>36795.0</td>\n",
              "      <td>2</td>\n",
              "      <td>380</td>\n",
              "      <td>1</td>\n",
              "      <td>0</td>\n",
              "      <td>1</td>\n",
              "      <td>0</td>\n",
              "      <td>0</td>\n",
              "      <td>0</td>\n",
              "      <td>0</td>\n",
              "      <td>0</td>\n",
              "      <td>0</td>\n",
              "      <td>0</td>\n",
              "      <td>0</td>\n",
              "      <td>0</td>\n",
              "      <td>0</td>\n",
              "      <td>0</td>\n",
              "      <td>0</td>\n",
              "      <td>0</td>\n",
              "      <td>0</td>\n",
              "      <td>0</td>\n",
              "      <td>0</td>\n",
              "      <td>0</td>\n",
              "      <td>0</td>\n",
              "      <td>0</td>\n",
              "      <td>0</td>\n",
              "      <td>0</td>\n",
              "      <td>0</td>\n",
              "      <td>0</td>\n",
              "      <td>1</td>\n",
              "      <td>0</td>\n",
              "      <td>UDP</td>\n",
              "    </tr>\n",
              "    <tr>\n",
              "      <th>...</th>\n",
              "      <td>...</td>\n",
              "      <td>...</td>\n",
              "      <td>...</td>\n",
              "      <td>...</td>\n",
              "      <td>...</td>\n",
              "      <td>...</td>\n",
              "      <td>...</td>\n",
              "      <td>...</td>\n",
              "      <td>...</td>\n",
              "      <td>...</td>\n",
              "      <td>...</td>\n",
              "      <td>...</td>\n",
              "      <td>...</td>\n",
              "      <td>...</td>\n",
              "      <td>...</td>\n",
              "      <td>...</td>\n",
              "      <td>...</td>\n",
              "      <td>...</td>\n",
              "      <td>...</td>\n",
              "      <td>...</td>\n",
              "      <td>...</td>\n",
              "      <td>...</td>\n",
              "      <td>...</td>\n",
              "      <td>...</td>\n",
              "      <td>...</td>\n",
              "      <td>...</td>\n",
              "      <td>...</td>\n",
              "      <td>...</td>\n",
              "      <td>...</td>\n",
              "      <td>...</td>\n",
              "      <td>...</td>\n",
              "      <td>...</td>\n",
              "      <td>...</td>\n",
              "      <td>...</td>\n",
              "    </tr>\n",
              "    <tr>\n",
              "      <th>1294916</th>\n",
              "      <td>0.026</td>\n",
              "      <td>62375</td>\n",
              "      <td>443.0</td>\n",
              "      <td>4</td>\n",
              "      <td>568</td>\n",
              "      <td>1</td>\n",
              "      <td>0</td>\n",
              "      <td>0</td>\n",
              "      <td>0</td>\n",
              "      <td>0</td>\n",
              "      <td>0</td>\n",
              "      <td>0</td>\n",
              "      <td>0</td>\n",
              "      <td>0</td>\n",
              "      <td>0</td>\n",
              "      <td>0</td>\n",
              "      <td>0</td>\n",
              "      <td>0</td>\n",
              "      <td>0</td>\n",
              "      <td>0</td>\n",
              "      <td>1</td>\n",
              "      <td>0</td>\n",
              "      <td>0</td>\n",
              "      <td>0</td>\n",
              "      <td>0</td>\n",
              "      <td>0</td>\n",
              "      <td>0</td>\n",
              "      <td>0</td>\n",
              "      <td>0</td>\n",
              "      <td>0</td>\n",
              "      <td>0</td>\n",
              "      <td>1</td>\n",
              "      <td>0</td>\n",
              "      <td>TCP</td>\n",
              "    </tr>\n",
              "    <tr>\n",
              "      <th>4937499</th>\n",
              "      <td>6.410</td>\n",
              "      <td>0</td>\n",
              "      <td>3.3</td>\n",
              "      <td>5</td>\n",
              "      <td>350</td>\n",
              "      <td>1</td>\n",
              "      <td>192</td>\n",
              "      <td>1</td>\n",
              "      <td>0</td>\n",
              "      <td>0</td>\n",
              "      <td>0</td>\n",
              "      <td>0</td>\n",
              "      <td>0</td>\n",
              "      <td>0</td>\n",
              "      <td>0</td>\n",
              "      <td>0</td>\n",
              "      <td>0</td>\n",
              "      <td>0</td>\n",
              "      <td>0</td>\n",
              "      <td>0</td>\n",
              "      <td>0</td>\n",
              "      <td>0</td>\n",
              "      <td>0</td>\n",
              "      <td>0</td>\n",
              "      <td>0</td>\n",
              "      <td>0</td>\n",
              "      <td>0</td>\n",
              "      <td>0</td>\n",
              "      <td>0</td>\n",
              "      <td>0</td>\n",
              "      <td>1</td>\n",
              "      <td>0</td>\n",
              "      <td>1</td>\n",
              "      <td>ICMP</td>\n",
              "    </tr>\n",
              "    <tr>\n",
              "      <th>658411</th>\n",
              "      <td>0.000</td>\n",
              "      <td>53</td>\n",
              "      <td>57615.0</td>\n",
              "      <td>1</td>\n",
              "      <td>91</td>\n",
              "      <td>1</td>\n",
              "      <td>0</td>\n",
              "      <td>1</td>\n",
              "      <td>0</td>\n",
              "      <td>0</td>\n",
              "      <td>0</td>\n",
              "      <td>0</td>\n",
              "      <td>0</td>\n",
              "      <td>0</td>\n",
              "      <td>0</td>\n",
              "      <td>0</td>\n",
              "      <td>0</td>\n",
              "      <td>0</td>\n",
              "      <td>0</td>\n",
              "      <td>0</td>\n",
              "      <td>0</td>\n",
              "      <td>0</td>\n",
              "      <td>0</td>\n",
              "      <td>0</td>\n",
              "      <td>0</td>\n",
              "      <td>0</td>\n",
              "      <td>0</td>\n",
              "      <td>0</td>\n",
              "      <td>0</td>\n",
              "      <td>0</td>\n",
              "      <td>0</td>\n",
              "      <td>1</td>\n",
              "      <td>0</td>\n",
              "      <td>UDP</td>\n",
              "    </tr>\n",
              "    <tr>\n",
              "      <th>2931232</th>\n",
              "      <td>0.000</td>\n",
              "      <td>46755</td>\n",
              "      <td>4129.0</td>\n",
              "      <td>1</td>\n",
              "      <td>58</td>\n",
              "      <td>1</td>\n",
              "      <td>0</td>\n",
              "      <td>0</td>\n",
              "      <td>0</td>\n",
              "      <td>1</td>\n",
              "      <td>0</td>\n",
              "      <td>0</td>\n",
              "      <td>0</td>\n",
              "      <td>0</td>\n",
              "      <td>0</td>\n",
              "      <td>0</td>\n",
              "      <td>0</td>\n",
              "      <td>0</td>\n",
              "      <td>0</td>\n",
              "      <td>0</td>\n",
              "      <td>0</td>\n",
              "      <td>0</td>\n",
              "      <td>0</td>\n",
              "      <td>0</td>\n",
              "      <td>0</td>\n",
              "      <td>0</td>\n",
              "      <td>0</td>\n",
              "      <td>0</td>\n",
              "      <td>0</td>\n",
              "      <td>1</td>\n",
              "      <td>0</td>\n",
              "      <td>0</td>\n",
              "      <td>1</td>\n",
              "      <td>TCP</td>\n",
              "    </tr>\n",
              "    <tr>\n",
              "      <th>608357</th>\n",
              "      <td>0.000</td>\n",
              "      <td>33411</td>\n",
              "      <td>443.0</td>\n",
              "      <td>1</td>\n",
              "      <td>66</td>\n",
              "      <td>1</td>\n",
              "      <td>0</td>\n",
              "      <td>0</td>\n",
              "      <td>0</td>\n",
              "      <td>0</td>\n",
              "      <td>0</td>\n",
              "      <td>0</td>\n",
              "      <td>1</td>\n",
              "      <td>0</td>\n",
              "      <td>0</td>\n",
              "      <td>0</td>\n",
              "      <td>0</td>\n",
              "      <td>0</td>\n",
              "      <td>0</td>\n",
              "      <td>0</td>\n",
              "      <td>0</td>\n",
              "      <td>0</td>\n",
              "      <td>0</td>\n",
              "      <td>0</td>\n",
              "      <td>0</td>\n",
              "      <td>0</td>\n",
              "      <td>0</td>\n",
              "      <td>0</td>\n",
              "      <td>0</td>\n",
              "      <td>0</td>\n",
              "      <td>0</td>\n",
              "      <td>1</td>\n",
              "      <td>0</td>\n",
              "      <td>TCP</td>\n",
              "    </tr>\n",
              "  </tbody>\n",
              "</table>\n",
              "<p>1182542 rows × 34 columns</p>\n",
              "</div>\n",
              "    <div class=\"colab-df-buttons\">\n",
              "\n",
              "  <div class=\"colab-df-container\">\n",
              "    <button class=\"colab-df-convert\" onclick=\"convertToInteractive('df-9cc4cd54-c5ec-4c9e-b4b6-2ba516e78083')\"\n",
              "            title=\"Convert this dataframe to an interactive table.\"\n",
              "            style=\"display:none;\">\n",
              "\n",
              "  <svg xmlns=\"http://www.w3.org/2000/svg\" height=\"24px\" viewBox=\"0 -960 960 960\">\n",
              "    <path d=\"M120-120v-720h720v720H120Zm60-500h600v-160H180v160Zm220 220h160v-160H400v160Zm0 220h160v-160H400v160ZM180-400h160v-160H180v160Zm440 0h160v-160H620v160ZM180-180h160v-160H180v160Zm440 0h160v-160H620v160Z\"/>\n",
              "  </svg>\n",
              "    </button>\n",
              "\n",
              "  <style>\n",
              "    .colab-df-container {\n",
              "      display:flex;\n",
              "      gap: 12px;\n",
              "    }\n",
              "\n",
              "    .colab-df-convert {\n",
              "      background-color: #E8F0FE;\n",
              "      border: none;\n",
              "      border-radius: 50%;\n",
              "      cursor: pointer;\n",
              "      display: none;\n",
              "      fill: #1967D2;\n",
              "      height: 32px;\n",
              "      padding: 0 0 0 0;\n",
              "      width: 32px;\n",
              "    }\n",
              "\n",
              "    .colab-df-convert:hover {\n",
              "      background-color: #E2EBFA;\n",
              "      box-shadow: 0px 1px 2px rgba(60, 64, 67, 0.3), 0px 1px 3px 1px rgba(60, 64, 67, 0.15);\n",
              "      fill: #174EA6;\n",
              "    }\n",
              "\n",
              "    .colab-df-buttons div {\n",
              "      margin-bottom: 4px;\n",
              "    }\n",
              "\n",
              "    [theme=dark] .colab-df-convert {\n",
              "      background-color: #3B4455;\n",
              "      fill: #D2E3FC;\n",
              "    }\n",
              "\n",
              "    [theme=dark] .colab-df-convert:hover {\n",
              "      background-color: #434B5C;\n",
              "      box-shadow: 0px 1px 3px 1px rgba(0, 0, 0, 0.15);\n",
              "      filter: drop-shadow(0px 1px 2px rgba(0, 0, 0, 0.3));\n",
              "      fill: #FFFFFF;\n",
              "    }\n",
              "  </style>\n",
              "\n",
              "    <script>\n",
              "      const buttonEl =\n",
              "        document.querySelector('#df-9cc4cd54-c5ec-4c9e-b4b6-2ba516e78083 button.colab-df-convert');\n",
              "      buttonEl.style.display =\n",
              "        google.colab.kernel.accessAllowed ? 'block' : 'none';\n",
              "\n",
              "      async function convertToInteractive(key) {\n",
              "        const element = document.querySelector('#df-9cc4cd54-c5ec-4c9e-b4b6-2ba516e78083');\n",
              "        const dataTable =\n",
              "          await google.colab.kernel.invokeFunction('convertToInteractive',\n",
              "                                                    [key], {});\n",
              "        if (!dataTable) return;\n",
              "\n",
              "        const docLinkHtml = 'Like what you see? Visit the ' +\n",
              "          '<a target=\"_blank\" href=https://colab.research.google.com/notebooks/data_table.ipynb>data table notebook</a>'\n",
              "          + ' to learn more about interactive tables.';\n",
              "        element.innerHTML = '';\n",
              "        dataTable['output_type'] = 'display_data';\n",
              "        await google.colab.output.renderOutput(dataTable, element);\n",
              "        const docLink = document.createElement('div');\n",
              "        docLink.innerHTML = docLinkHtml;\n",
              "        element.appendChild(docLink);\n",
              "      }\n",
              "    </script>\n",
              "  </div>\n",
              "\n",
              "\n",
              "<div id=\"df-bf75181e-55a0-4fe5-b4f2-8fceccb290d5\">\n",
              "  <button class=\"colab-df-quickchart\" onclick=\"quickchart('df-bf75181e-55a0-4fe5-b4f2-8fceccb290d5')\"\n",
              "            title=\"Suggest charts.\"\n",
              "            style=\"display:none;\">\n",
              "\n",
              "<svg xmlns=\"http://www.w3.org/2000/svg\" height=\"24px\"viewBox=\"0 0 24 24\"\n",
              "     width=\"24px\">\n",
              "    <g>\n",
              "        <path d=\"M19 3H5c-1.1 0-2 .9-2 2v14c0 1.1.9 2 2 2h14c1.1 0 2-.9 2-2V5c0-1.1-.9-2-2-2zM9 17H7v-7h2v7zm4 0h-2V7h2v10zm4 0h-2v-4h2v4z\"/>\n",
              "    </g>\n",
              "</svg>\n",
              "  </button>\n",
              "\n",
              "<style>\n",
              "  .colab-df-quickchart {\n",
              "      --bg-color: #E8F0FE;\n",
              "      --fill-color: #1967D2;\n",
              "      --hover-bg-color: #E2EBFA;\n",
              "      --hover-fill-color: #174EA6;\n",
              "      --disabled-fill-color: #AAA;\n",
              "      --disabled-bg-color: #DDD;\n",
              "  }\n",
              "\n",
              "  [theme=dark] .colab-df-quickchart {\n",
              "      --bg-color: #3B4455;\n",
              "      --fill-color: #D2E3FC;\n",
              "      --hover-bg-color: #434B5C;\n",
              "      --hover-fill-color: #FFFFFF;\n",
              "      --disabled-bg-color: #3B4455;\n",
              "      --disabled-fill-color: #666;\n",
              "  }\n",
              "\n",
              "  .colab-df-quickchart {\n",
              "    background-color: var(--bg-color);\n",
              "    border: none;\n",
              "    border-radius: 50%;\n",
              "    cursor: pointer;\n",
              "    display: none;\n",
              "    fill: var(--fill-color);\n",
              "    height: 32px;\n",
              "    padding: 0;\n",
              "    width: 32px;\n",
              "  }\n",
              "\n",
              "  .colab-df-quickchart:hover {\n",
              "    background-color: var(--hover-bg-color);\n",
              "    box-shadow: 0 1px 2px rgba(60, 64, 67, 0.3), 0 1px 3px 1px rgba(60, 64, 67, 0.15);\n",
              "    fill: var(--button-hover-fill-color);\n",
              "  }\n",
              "\n",
              "  .colab-df-quickchart-complete:disabled,\n",
              "  .colab-df-quickchart-complete:disabled:hover {\n",
              "    background-color: var(--disabled-bg-color);\n",
              "    fill: var(--disabled-fill-color);\n",
              "    box-shadow: none;\n",
              "  }\n",
              "\n",
              "  .colab-df-spinner {\n",
              "    border: 2px solid var(--fill-color);\n",
              "    border-color: transparent;\n",
              "    border-bottom-color: var(--fill-color);\n",
              "    animation:\n",
              "      spin 1s steps(1) infinite;\n",
              "  }\n",
              "\n",
              "  @keyframes spin {\n",
              "    0% {\n",
              "      border-color: transparent;\n",
              "      border-bottom-color: var(--fill-color);\n",
              "      border-left-color: var(--fill-color);\n",
              "    }\n",
              "    20% {\n",
              "      border-color: transparent;\n",
              "      border-left-color: var(--fill-color);\n",
              "      border-top-color: var(--fill-color);\n",
              "    }\n",
              "    30% {\n",
              "      border-color: transparent;\n",
              "      border-left-color: var(--fill-color);\n",
              "      border-top-color: var(--fill-color);\n",
              "      border-right-color: var(--fill-color);\n",
              "    }\n",
              "    40% {\n",
              "      border-color: transparent;\n",
              "      border-right-color: var(--fill-color);\n",
              "      border-top-color: var(--fill-color);\n",
              "    }\n",
              "    60% {\n",
              "      border-color: transparent;\n",
              "      border-right-color: var(--fill-color);\n",
              "    }\n",
              "    80% {\n",
              "      border-color: transparent;\n",
              "      border-right-color: var(--fill-color);\n",
              "      border-bottom-color: var(--fill-color);\n",
              "    }\n",
              "    90% {\n",
              "      border-color: transparent;\n",
              "      border-bottom-color: var(--fill-color);\n",
              "    }\n",
              "  }\n",
              "</style>\n",
              "\n",
              "  <script>\n",
              "    async function quickchart(key) {\n",
              "      const quickchartButtonEl =\n",
              "        document.querySelector('#' + key + ' button');\n",
              "      quickchartButtonEl.disabled = true;  // To prevent multiple clicks.\n",
              "      quickchartButtonEl.classList.add('colab-df-spinner');\n",
              "      try {\n",
              "        const charts = await google.colab.kernel.invokeFunction(\n",
              "            'suggestCharts', [key], {});\n",
              "      } catch (error) {\n",
              "        console.error('Error during call to suggestCharts:', error);\n",
              "      }\n",
              "      quickchartButtonEl.classList.remove('colab-df-spinner');\n",
              "      quickchartButtonEl.classList.add('colab-df-quickchart-complete');\n",
              "    }\n",
              "    (() => {\n",
              "      let quickchartButtonEl =\n",
              "        document.querySelector('#df-bf75181e-55a0-4fe5-b4f2-8fceccb290d5 button');\n",
              "      quickchartButtonEl.style.display =\n",
              "        google.colab.kernel.accessAllowed ? 'block' : 'none';\n",
              "    })();\n",
              "  </script>\n",
              "</div>\n",
              "    </div>\n",
              "  </div>\n"
            ]
          },
          "metadata": {},
          "execution_count": 32
        }
      ]
    },
    {
      "cell_type": "code",
      "source": [
        "# @title drop tcp and icmp of train\n",
        "\n",
        "train = train[(train['attackDescription_TCP'] != 1)]\n",
        "train.shape"
      ],
      "metadata": {
        "id": "CSRFhttRX2YB",
        "colab": {
          "base_uri": "https://localhost:8080/"
        },
        "outputId": "59863c72-e658-4905-a147-fa71f3f939a9"
      },
      "execution_count": 33,
      "outputs": [
        {
          "output_type": "execute_result",
          "data": {
            "text/plain": [
              "(716847, 34)"
            ]
          },
          "metadata": {},
          "execution_count": 33
        }
      ]
    },
    {
      "cell_type": "code",
      "source": [
        "train = train[(train['attackDescription_ICMP'] != 1)]\n",
        "train.shape"
      ],
      "metadata": {
        "colab": {
          "base_uri": "https://localhost:8080/"
        },
        "id": "9fgUDIZ4OUJ_",
        "outputId": "881f7cd1-2f40-4497-e764-c3744a2bec11"
      },
      "execution_count": 34,
      "outputs": [
        {
          "output_type": "execute_result",
          "data": {
            "text/plain": [
              "(711232, 34)"
            ]
          },
          "metadata": {},
          "execution_count": 34
        }
      ]
    },
    {
      "cell_type": "code",
      "source": [
        "train[\"Proto\"].unique()"
      ],
      "metadata": {
        "colab": {
          "base_uri": "https://localhost:8080/"
        },
        "id": "mkK9WWRBcJod",
        "outputId": "493f1031-3d5d-45e5-a4fb-db4744baa5b0"
      },
      "execution_count": 35,
      "outputs": [
        {
          "output_type": "execute_result",
          "data": {
            "text/plain": [
              "array(['TCP  ', 'UDP  ', 'ICMP ', 'IGMP '], dtype=object)"
            ]
          },
          "metadata": {},
          "execution_count": 35
        }
      ]
    },
    {
      "cell_type": "code",
      "source": [
        "# @title drop tcp and icmp protocol\n",
        "\n",
        "train = train.loc[~((train[\"Proto\"] == 'TCP ') & (train[\"label\"] == 1))]\n",
        "train.shape"
      ],
      "metadata": {
        "id": "YNNsVrprX8ea",
        "colab": {
          "base_uri": "https://localhost:8080/"
        },
        "outputId": "556cb025-8efe-4217-ed02-9c8ce603cf07"
      },
      "execution_count": 36,
      "outputs": [
        {
          "output_type": "execute_result",
          "data": {
            "text/plain": [
              "(711232, 34)"
            ]
          },
          "metadata": {},
          "execution_count": 36
        }
      ]
    },
    {
      "cell_type": "code",
      "source": [
        "train = train.loc[~((train[\"Proto\"] == 'ICMP ') & (train[\"label\"] == 1))]\n",
        "train.shape"
      ],
      "metadata": {
        "colab": {
          "base_uri": "https://localhost:8080/"
        },
        "id": "ATB7IjhOOabr",
        "outputId": "473d5487-7b3f-40eb-e579-4b70c5e0a08a"
      },
      "execution_count": 37,
      "outputs": [
        {
          "output_type": "execute_result",
          "data": {
            "text/plain": [
              "(685691, 34)"
            ]
          },
          "metadata": {},
          "execution_count": 37
        }
      ]
    },
    {
      "cell_type": "code",
      "source": [
        "train = train.reset_index(drop=True)\n",
        "train"
      ],
      "metadata": {
        "colab": {
          "base_uri": "https://localhost:8080/",
          "height": 0
        },
        "id": "OI4jhcIxX_9F",
        "outputId": "238fa0c7-a053-4d5b-86a1-d1c6f196fb0f"
      },
      "execution_count": 38,
      "outputs": [
        {
          "output_type": "execute_result",
          "data": {
            "text/plain": [
              "        Duration  Src Pt   Dst Pt  Packets  Bytes  Flows  Tos  Flags_......  \\\n",
              "0          0.000     443  60382.0        1     66      1   32             0   \n",
              "1          0.000      80  55252.0        1     66      1    0             0   \n",
              "2          0.021     443  54397.0        3    193      1    0             0   \n",
              "3          0.045      53  36795.0        2    380      1    0             1   \n",
              "4          0.000   52253     80.0        1     66      1    0             0   \n",
              "...          ...     ...      ...      ...    ...    ...  ...           ...   \n",
              "685686     0.000     445  59534.0        1    108      1    0             0   \n",
              "685687     0.000      80  59642.0        1     66      1   32             0   \n",
              "685688     0.026   62375    443.0        4    568      1    0             0   \n",
              "685689     0.000      53  57615.0        1     91      1    0             1   \n",
              "685690     0.000   33411    443.0        1     66      1    0             0   \n",
              "\n",
              "        Flags_.....F  Flags_....S.  Flags_...R..  Flags_...RS.  Flags_.A....  \\\n",
              "0                  0             0             0             0             0   \n",
              "1                  0             0             0             0             1   \n",
              "2                  0             0             0             0             0   \n",
              "3                  0             0             0             0             0   \n",
              "4                  0             1             0             0             0   \n",
              "...              ...           ...           ...           ...           ...   \n",
              "685686             0             0             0             0             0   \n",
              "685687             0             0             0             0             1   \n",
              "685688             0             0             0             0             0   \n",
              "685689             0             0             0             0             0   \n",
              "685690             0             0             0             0             1   \n",
              "\n",
              "        Flags_.A...F  Flags_.A..S.  Flags_.A..SF  Flags_.A.R..  Flags_.A.R.F  \\\n",
              "0                  1             0             0             0             0   \n",
              "1                  0             0             0             0             0   \n",
              "2                  0             0             0             0             0   \n",
              "3                  0             0             0             0             0   \n",
              "4                  0             0             0             0             0   \n",
              "...              ...           ...           ...           ...           ...   \n",
              "685686             0             0             0             0             0   \n",
              "685687             0             0             0             0             0   \n",
              "685688             0             0             0             0             0   \n",
              "685689             0             0             0             0             0   \n",
              "685690             0             0             0             0             0   \n",
              "\n",
              "        Flags_.A.RS.  Flags_.A.RSF  Flags_.AP...  Flags_.AP..F  Flags_.AP.S.  \\\n",
              "0                  0             0             0             0             0   \n",
              "1                  0             0             0             0             0   \n",
              "2                  0             0             0             1             0   \n",
              "3                  0             0             0             0             0   \n",
              "4                  0             0             0             0             0   \n",
              "...              ...           ...           ...           ...           ...   \n",
              "685686             0             0             1             0             0   \n",
              "685687             0             0             0             0             0   \n",
              "685688             0             0             1             0             0   \n",
              "685689             0             0             0             0             0   \n",
              "685690             0             0             0             0             0   \n",
              "\n",
              "        Flags_.AP.SF  Flags_.APR..  Flags_.APR.F  Flags_.APRS.  Flags_.APRSF  \\\n",
              "0                  0             0             0             0             0   \n",
              "1                  0             0             0             0             0   \n",
              "2                  0             0             0             0             0   \n",
              "3                  0             0             0             0             0   \n",
              "4                  0             0             0             0             0   \n",
              "...              ...           ...           ...           ...           ...   \n",
              "685686             0             0             0             0             0   \n",
              "685687             0             0             0             0             0   \n",
              "685688             0             0             0             0             0   \n",
              "685689             0             0             0             0             0   \n",
              "685690             0             0             0             0             0   \n",
              "\n",
              "        attackDescription_ICMP  attackDescription_TCP  attackDescription_UDP  \\\n",
              "0                            0                      0                      0   \n",
              "1                            0                      0                      0   \n",
              "2                            0                      0                      0   \n",
              "3                            0                      0                      0   \n",
              "4                            0                      0                      0   \n",
              "...                        ...                    ...                    ...   \n",
              "685686                       0                      0                      0   \n",
              "685687                       0                      0                      0   \n",
              "685688                       0                      0                      0   \n",
              "685689                       0                      0                      0   \n",
              "685690                       0                      0                      0   \n",
              "\n",
              "        attackDescription_normal  label  Proto  \n",
              "0                              1      0  TCP    \n",
              "1                              1      0  TCP    \n",
              "2                              1      0  TCP    \n",
              "3                              1      0  UDP    \n",
              "4                              1      0  TCP    \n",
              "...                          ...    ...    ...  \n",
              "685686                         1      0  TCP    \n",
              "685687                         1      0  TCP    \n",
              "685688                         1      0  TCP    \n",
              "685689                         1      0  UDP    \n",
              "685690                         1      0  TCP    \n",
              "\n",
              "[685691 rows x 34 columns]"
            ],
            "text/html": [
              "\n",
              "  <div id=\"df-c1e706bf-fd9e-4628-906d-3ffe6832c48f\" class=\"colab-df-container\">\n",
              "    <div>\n",
              "<style scoped>\n",
              "    .dataframe tbody tr th:only-of-type {\n",
              "        vertical-align: middle;\n",
              "    }\n",
              "\n",
              "    .dataframe tbody tr th {\n",
              "        vertical-align: top;\n",
              "    }\n",
              "\n",
              "    .dataframe thead th {\n",
              "        text-align: right;\n",
              "    }\n",
              "</style>\n",
              "<table border=\"1\" class=\"dataframe\">\n",
              "  <thead>\n",
              "    <tr style=\"text-align: right;\">\n",
              "      <th></th>\n",
              "      <th>Duration</th>\n",
              "      <th>Src Pt</th>\n",
              "      <th>Dst Pt</th>\n",
              "      <th>Packets</th>\n",
              "      <th>Bytes</th>\n",
              "      <th>Flows</th>\n",
              "      <th>Tos</th>\n",
              "      <th>Flags_......</th>\n",
              "      <th>Flags_.....F</th>\n",
              "      <th>Flags_....S.</th>\n",
              "      <th>Flags_...R..</th>\n",
              "      <th>Flags_...RS.</th>\n",
              "      <th>Flags_.A....</th>\n",
              "      <th>Flags_.A...F</th>\n",
              "      <th>Flags_.A..S.</th>\n",
              "      <th>Flags_.A..SF</th>\n",
              "      <th>Flags_.A.R..</th>\n",
              "      <th>Flags_.A.R.F</th>\n",
              "      <th>Flags_.A.RS.</th>\n",
              "      <th>Flags_.A.RSF</th>\n",
              "      <th>Flags_.AP...</th>\n",
              "      <th>Flags_.AP..F</th>\n",
              "      <th>Flags_.AP.S.</th>\n",
              "      <th>Flags_.AP.SF</th>\n",
              "      <th>Flags_.APR..</th>\n",
              "      <th>Flags_.APR.F</th>\n",
              "      <th>Flags_.APRS.</th>\n",
              "      <th>Flags_.APRSF</th>\n",
              "      <th>attackDescription_ICMP</th>\n",
              "      <th>attackDescription_TCP</th>\n",
              "      <th>attackDescription_UDP</th>\n",
              "      <th>attackDescription_normal</th>\n",
              "      <th>label</th>\n",
              "      <th>Proto</th>\n",
              "    </tr>\n",
              "  </thead>\n",
              "  <tbody>\n",
              "    <tr>\n",
              "      <th>0</th>\n",
              "      <td>0.000</td>\n",
              "      <td>443</td>\n",
              "      <td>60382.0</td>\n",
              "      <td>1</td>\n",
              "      <td>66</td>\n",
              "      <td>1</td>\n",
              "      <td>32</td>\n",
              "      <td>0</td>\n",
              "      <td>0</td>\n",
              "      <td>0</td>\n",
              "      <td>0</td>\n",
              "      <td>0</td>\n",
              "      <td>0</td>\n",
              "      <td>1</td>\n",
              "      <td>0</td>\n",
              "      <td>0</td>\n",
              "      <td>0</td>\n",
              "      <td>0</td>\n",
              "      <td>0</td>\n",
              "      <td>0</td>\n",
              "      <td>0</td>\n",
              "      <td>0</td>\n",
              "      <td>0</td>\n",
              "      <td>0</td>\n",
              "      <td>0</td>\n",
              "      <td>0</td>\n",
              "      <td>0</td>\n",
              "      <td>0</td>\n",
              "      <td>0</td>\n",
              "      <td>0</td>\n",
              "      <td>0</td>\n",
              "      <td>1</td>\n",
              "      <td>0</td>\n",
              "      <td>TCP</td>\n",
              "    </tr>\n",
              "    <tr>\n",
              "      <th>1</th>\n",
              "      <td>0.000</td>\n",
              "      <td>80</td>\n",
              "      <td>55252.0</td>\n",
              "      <td>1</td>\n",
              "      <td>66</td>\n",
              "      <td>1</td>\n",
              "      <td>0</td>\n",
              "      <td>0</td>\n",
              "      <td>0</td>\n",
              "      <td>0</td>\n",
              "      <td>0</td>\n",
              "      <td>0</td>\n",
              "      <td>1</td>\n",
              "      <td>0</td>\n",
              "      <td>0</td>\n",
              "      <td>0</td>\n",
              "      <td>0</td>\n",
              "      <td>0</td>\n",
              "      <td>0</td>\n",
              "      <td>0</td>\n",
              "      <td>0</td>\n",
              "      <td>0</td>\n",
              "      <td>0</td>\n",
              "      <td>0</td>\n",
              "      <td>0</td>\n",
              "      <td>0</td>\n",
              "      <td>0</td>\n",
              "      <td>0</td>\n",
              "      <td>0</td>\n",
              "      <td>0</td>\n",
              "      <td>0</td>\n",
              "      <td>1</td>\n",
              "      <td>0</td>\n",
              "      <td>TCP</td>\n",
              "    </tr>\n",
              "    <tr>\n",
              "      <th>2</th>\n",
              "      <td>0.021</td>\n",
              "      <td>443</td>\n",
              "      <td>54397.0</td>\n",
              "      <td>3</td>\n",
              "      <td>193</td>\n",
              "      <td>1</td>\n",
              "      <td>0</td>\n",
              "      <td>0</td>\n",
              "      <td>0</td>\n",
              "      <td>0</td>\n",
              "      <td>0</td>\n",
              "      <td>0</td>\n",
              "      <td>0</td>\n",
              "      <td>0</td>\n",
              "      <td>0</td>\n",
              "      <td>0</td>\n",
              "      <td>0</td>\n",
              "      <td>0</td>\n",
              "      <td>0</td>\n",
              "      <td>0</td>\n",
              "      <td>0</td>\n",
              "      <td>1</td>\n",
              "      <td>0</td>\n",
              "      <td>0</td>\n",
              "      <td>0</td>\n",
              "      <td>0</td>\n",
              "      <td>0</td>\n",
              "      <td>0</td>\n",
              "      <td>0</td>\n",
              "      <td>0</td>\n",
              "      <td>0</td>\n",
              "      <td>1</td>\n",
              "      <td>0</td>\n",
              "      <td>TCP</td>\n",
              "    </tr>\n",
              "    <tr>\n",
              "      <th>3</th>\n",
              "      <td>0.045</td>\n",
              "      <td>53</td>\n",
              "      <td>36795.0</td>\n",
              "      <td>2</td>\n",
              "      <td>380</td>\n",
              "      <td>1</td>\n",
              "      <td>0</td>\n",
              "      <td>1</td>\n",
              "      <td>0</td>\n",
              "      <td>0</td>\n",
              "      <td>0</td>\n",
              "      <td>0</td>\n",
              "      <td>0</td>\n",
              "      <td>0</td>\n",
              "      <td>0</td>\n",
              "      <td>0</td>\n",
              "      <td>0</td>\n",
              "      <td>0</td>\n",
              "      <td>0</td>\n",
              "      <td>0</td>\n",
              "      <td>0</td>\n",
              "      <td>0</td>\n",
              "      <td>0</td>\n",
              "      <td>0</td>\n",
              "      <td>0</td>\n",
              "      <td>0</td>\n",
              "      <td>0</td>\n",
              "      <td>0</td>\n",
              "      <td>0</td>\n",
              "      <td>0</td>\n",
              "      <td>0</td>\n",
              "      <td>1</td>\n",
              "      <td>0</td>\n",
              "      <td>UDP</td>\n",
              "    </tr>\n",
              "    <tr>\n",
              "      <th>4</th>\n",
              "      <td>0.000</td>\n",
              "      <td>52253</td>\n",
              "      <td>80.0</td>\n",
              "      <td>1</td>\n",
              "      <td>66</td>\n",
              "      <td>1</td>\n",
              "      <td>0</td>\n",
              "      <td>0</td>\n",
              "      <td>0</td>\n",
              "      <td>1</td>\n",
              "      <td>0</td>\n",
              "      <td>0</td>\n",
              "      <td>0</td>\n",
              "      <td>0</td>\n",
              "      <td>0</td>\n",
              "      <td>0</td>\n",
              "      <td>0</td>\n",
              "      <td>0</td>\n",
              "      <td>0</td>\n",
              "      <td>0</td>\n",
              "      <td>0</td>\n",
              "      <td>0</td>\n",
              "      <td>0</td>\n",
              "      <td>0</td>\n",
              "      <td>0</td>\n",
              "      <td>0</td>\n",
              "      <td>0</td>\n",
              "      <td>0</td>\n",
              "      <td>0</td>\n",
              "      <td>0</td>\n",
              "      <td>0</td>\n",
              "      <td>1</td>\n",
              "      <td>0</td>\n",
              "      <td>TCP</td>\n",
              "    </tr>\n",
              "    <tr>\n",
              "      <th>...</th>\n",
              "      <td>...</td>\n",
              "      <td>...</td>\n",
              "      <td>...</td>\n",
              "      <td>...</td>\n",
              "      <td>...</td>\n",
              "      <td>...</td>\n",
              "      <td>...</td>\n",
              "      <td>...</td>\n",
              "      <td>...</td>\n",
              "      <td>...</td>\n",
              "      <td>...</td>\n",
              "      <td>...</td>\n",
              "      <td>...</td>\n",
              "      <td>...</td>\n",
              "      <td>...</td>\n",
              "      <td>...</td>\n",
              "      <td>...</td>\n",
              "      <td>...</td>\n",
              "      <td>...</td>\n",
              "      <td>...</td>\n",
              "      <td>...</td>\n",
              "      <td>...</td>\n",
              "      <td>...</td>\n",
              "      <td>...</td>\n",
              "      <td>...</td>\n",
              "      <td>...</td>\n",
              "      <td>...</td>\n",
              "      <td>...</td>\n",
              "      <td>...</td>\n",
              "      <td>...</td>\n",
              "      <td>...</td>\n",
              "      <td>...</td>\n",
              "      <td>...</td>\n",
              "      <td>...</td>\n",
              "    </tr>\n",
              "    <tr>\n",
              "      <th>685686</th>\n",
              "      <td>0.000</td>\n",
              "      <td>445</td>\n",
              "      <td>59534.0</td>\n",
              "      <td>1</td>\n",
              "      <td>108</td>\n",
              "      <td>1</td>\n",
              "      <td>0</td>\n",
              "      <td>0</td>\n",
              "      <td>0</td>\n",
              "      <td>0</td>\n",
              "      <td>0</td>\n",
              "      <td>0</td>\n",
              "      <td>0</td>\n",
              "      <td>0</td>\n",
              "      <td>0</td>\n",
              "      <td>0</td>\n",
              "      <td>0</td>\n",
              "      <td>0</td>\n",
              "      <td>0</td>\n",
              "      <td>0</td>\n",
              "      <td>1</td>\n",
              "      <td>0</td>\n",
              "      <td>0</td>\n",
              "      <td>0</td>\n",
              "      <td>0</td>\n",
              "      <td>0</td>\n",
              "      <td>0</td>\n",
              "      <td>0</td>\n",
              "      <td>0</td>\n",
              "      <td>0</td>\n",
              "      <td>0</td>\n",
              "      <td>1</td>\n",
              "      <td>0</td>\n",
              "      <td>TCP</td>\n",
              "    </tr>\n",
              "    <tr>\n",
              "      <th>685687</th>\n",
              "      <td>0.000</td>\n",
              "      <td>80</td>\n",
              "      <td>59642.0</td>\n",
              "      <td>1</td>\n",
              "      <td>66</td>\n",
              "      <td>1</td>\n",
              "      <td>32</td>\n",
              "      <td>0</td>\n",
              "      <td>0</td>\n",
              "      <td>0</td>\n",
              "      <td>0</td>\n",
              "      <td>0</td>\n",
              "      <td>1</td>\n",
              "      <td>0</td>\n",
              "      <td>0</td>\n",
              "      <td>0</td>\n",
              "      <td>0</td>\n",
              "      <td>0</td>\n",
              "      <td>0</td>\n",
              "      <td>0</td>\n",
              "      <td>0</td>\n",
              "      <td>0</td>\n",
              "      <td>0</td>\n",
              "      <td>0</td>\n",
              "      <td>0</td>\n",
              "      <td>0</td>\n",
              "      <td>0</td>\n",
              "      <td>0</td>\n",
              "      <td>0</td>\n",
              "      <td>0</td>\n",
              "      <td>0</td>\n",
              "      <td>1</td>\n",
              "      <td>0</td>\n",
              "      <td>TCP</td>\n",
              "    </tr>\n",
              "    <tr>\n",
              "      <th>685688</th>\n",
              "      <td>0.026</td>\n",
              "      <td>62375</td>\n",
              "      <td>443.0</td>\n",
              "      <td>4</td>\n",
              "      <td>568</td>\n",
              "      <td>1</td>\n",
              "      <td>0</td>\n",
              "      <td>0</td>\n",
              "      <td>0</td>\n",
              "      <td>0</td>\n",
              "      <td>0</td>\n",
              "      <td>0</td>\n",
              "      <td>0</td>\n",
              "      <td>0</td>\n",
              "      <td>0</td>\n",
              "      <td>0</td>\n",
              "      <td>0</td>\n",
              "      <td>0</td>\n",
              "      <td>0</td>\n",
              "      <td>0</td>\n",
              "      <td>1</td>\n",
              "      <td>0</td>\n",
              "      <td>0</td>\n",
              "      <td>0</td>\n",
              "      <td>0</td>\n",
              "      <td>0</td>\n",
              "      <td>0</td>\n",
              "      <td>0</td>\n",
              "      <td>0</td>\n",
              "      <td>0</td>\n",
              "      <td>0</td>\n",
              "      <td>1</td>\n",
              "      <td>0</td>\n",
              "      <td>TCP</td>\n",
              "    </tr>\n",
              "    <tr>\n",
              "      <th>685689</th>\n",
              "      <td>0.000</td>\n",
              "      <td>53</td>\n",
              "      <td>57615.0</td>\n",
              "      <td>1</td>\n",
              "      <td>91</td>\n",
              "      <td>1</td>\n",
              "      <td>0</td>\n",
              "      <td>1</td>\n",
              "      <td>0</td>\n",
              "      <td>0</td>\n",
              "      <td>0</td>\n",
              "      <td>0</td>\n",
              "      <td>0</td>\n",
              "      <td>0</td>\n",
              "      <td>0</td>\n",
              "      <td>0</td>\n",
              "      <td>0</td>\n",
              "      <td>0</td>\n",
              "      <td>0</td>\n",
              "      <td>0</td>\n",
              "      <td>0</td>\n",
              "      <td>0</td>\n",
              "      <td>0</td>\n",
              "      <td>0</td>\n",
              "      <td>0</td>\n",
              "      <td>0</td>\n",
              "      <td>0</td>\n",
              "      <td>0</td>\n",
              "      <td>0</td>\n",
              "      <td>0</td>\n",
              "      <td>0</td>\n",
              "      <td>1</td>\n",
              "      <td>0</td>\n",
              "      <td>UDP</td>\n",
              "    </tr>\n",
              "    <tr>\n",
              "      <th>685690</th>\n",
              "      <td>0.000</td>\n",
              "      <td>33411</td>\n",
              "      <td>443.0</td>\n",
              "      <td>1</td>\n",
              "      <td>66</td>\n",
              "      <td>1</td>\n",
              "      <td>0</td>\n",
              "      <td>0</td>\n",
              "      <td>0</td>\n",
              "      <td>0</td>\n",
              "      <td>0</td>\n",
              "      <td>0</td>\n",
              "      <td>1</td>\n",
              "      <td>0</td>\n",
              "      <td>0</td>\n",
              "      <td>0</td>\n",
              "      <td>0</td>\n",
              "      <td>0</td>\n",
              "      <td>0</td>\n",
              "      <td>0</td>\n",
              "      <td>0</td>\n",
              "      <td>0</td>\n",
              "      <td>0</td>\n",
              "      <td>0</td>\n",
              "      <td>0</td>\n",
              "      <td>0</td>\n",
              "      <td>0</td>\n",
              "      <td>0</td>\n",
              "      <td>0</td>\n",
              "      <td>0</td>\n",
              "      <td>0</td>\n",
              "      <td>1</td>\n",
              "      <td>0</td>\n",
              "      <td>TCP</td>\n",
              "    </tr>\n",
              "  </tbody>\n",
              "</table>\n",
              "<p>685691 rows × 34 columns</p>\n",
              "</div>\n",
              "    <div class=\"colab-df-buttons\">\n",
              "\n",
              "  <div class=\"colab-df-container\">\n",
              "    <button class=\"colab-df-convert\" onclick=\"convertToInteractive('df-c1e706bf-fd9e-4628-906d-3ffe6832c48f')\"\n",
              "            title=\"Convert this dataframe to an interactive table.\"\n",
              "            style=\"display:none;\">\n",
              "\n",
              "  <svg xmlns=\"http://www.w3.org/2000/svg\" height=\"24px\" viewBox=\"0 -960 960 960\">\n",
              "    <path d=\"M120-120v-720h720v720H120Zm60-500h600v-160H180v160Zm220 220h160v-160H400v160Zm0 220h160v-160H400v160ZM180-400h160v-160H180v160Zm440 0h160v-160H620v160ZM180-180h160v-160H180v160Zm440 0h160v-160H620v160Z\"/>\n",
              "  </svg>\n",
              "    </button>\n",
              "\n",
              "  <style>\n",
              "    .colab-df-container {\n",
              "      display:flex;\n",
              "      gap: 12px;\n",
              "    }\n",
              "\n",
              "    .colab-df-convert {\n",
              "      background-color: #E8F0FE;\n",
              "      border: none;\n",
              "      border-radius: 50%;\n",
              "      cursor: pointer;\n",
              "      display: none;\n",
              "      fill: #1967D2;\n",
              "      height: 32px;\n",
              "      padding: 0 0 0 0;\n",
              "      width: 32px;\n",
              "    }\n",
              "\n",
              "    .colab-df-convert:hover {\n",
              "      background-color: #E2EBFA;\n",
              "      box-shadow: 0px 1px 2px rgba(60, 64, 67, 0.3), 0px 1px 3px 1px rgba(60, 64, 67, 0.15);\n",
              "      fill: #174EA6;\n",
              "    }\n",
              "\n",
              "    .colab-df-buttons div {\n",
              "      margin-bottom: 4px;\n",
              "    }\n",
              "\n",
              "    [theme=dark] .colab-df-convert {\n",
              "      background-color: #3B4455;\n",
              "      fill: #D2E3FC;\n",
              "    }\n",
              "\n",
              "    [theme=dark] .colab-df-convert:hover {\n",
              "      background-color: #434B5C;\n",
              "      box-shadow: 0px 1px 3px 1px rgba(0, 0, 0, 0.15);\n",
              "      filter: drop-shadow(0px 1px 2px rgba(0, 0, 0, 0.3));\n",
              "      fill: #FFFFFF;\n",
              "    }\n",
              "  </style>\n",
              "\n",
              "    <script>\n",
              "      const buttonEl =\n",
              "        document.querySelector('#df-c1e706bf-fd9e-4628-906d-3ffe6832c48f button.colab-df-convert');\n",
              "      buttonEl.style.display =\n",
              "        google.colab.kernel.accessAllowed ? 'block' : 'none';\n",
              "\n",
              "      async function convertToInteractive(key) {\n",
              "        const element = document.querySelector('#df-c1e706bf-fd9e-4628-906d-3ffe6832c48f');\n",
              "        const dataTable =\n",
              "          await google.colab.kernel.invokeFunction('convertToInteractive',\n",
              "                                                    [key], {});\n",
              "        if (!dataTable) return;\n",
              "\n",
              "        const docLinkHtml = 'Like what you see? Visit the ' +\n",
              "          '<a target=\"_blank\" href=https://colab.research.google.com/notebooks/data_table.ipynb>data table notebook</a>'\n",
              "          + ' to learn more about interactive tables.';\n",
              "        element.innerHTML = '';\n",
              "        dataTable['output_type'] = 'display_data';\n",
              "        await google.colab.output.renderOutput(dataTable, element);\n",
              "        const docLink = document.createElement('div');\n",
              "        docLink.innerHTML = docLinkHtml;\n",
              "        element.appendChild(docLink);\n",
              "      }\n",
              "    </script>\n",
              "  </div>\n",
              "\n",
              "\n",
              "<div id=\"df-f7a4d009-a7f3-4547-8c24-1142ab65259d\">\n",
              "  <button class=\"colab-df-quickchart\" onclick=\"quickchart('df-f7a4d009-a7f3-4547-8c24-1142ab65259d')\"\n",
              "            title=\"Suggest charts.\"\n",
              "            style=\"display:none;\">\n",
              "\n",
              "<svg xmlns=\"http://www.w3.org/2000/svg\" height=\"24px\"viewBox=\"0 0 24 24\"\n",
              "     width=\"24px\">\n",
              "    <g>\n",
              "        <path d=\"M19 3H5c-1.1 0-2 .9-2 2v14c0 1.1.9 2 2 2h14c1.1 0 2-.9 2-2V5c0-1.1-.9-2-2-2zM9 17H7v-7h2v7zm4 0h-2V7h2v10zm4 0h-2v-4h2v4z\"/>\n",
              "    </g>\n",
              "</svg>\n",
              "  </button>\n",
              "\n",
              "<style>\n",
              "  .colab-df-quickchart {\n",
              "      --bg-color: #E8F0FE;\n",
              "      --fill-color: #1967D2;\n",
              "      --hover-bg-color: #E2EBFA;\n",
              "      --hover-fill-color: #174EA6;\n",
              "      --disabled-fill-color: #AAA;\n",
              "      --disabled-bg-color: #DDD;\n",
              "  }\n",
              "\n",
              "  [theme=dark] .colab-df-quickchart {\n",
              "      --bg-color: #3B4455;\n",
              "      --fill-color: #D2E3FC;\n",
              "      --hover-bg-color: #434B5C;\n",
              "      --hover-fill-color: #FFFFFF;\n",
              "      --disabled-bg-color: #3B4455;\n",
              "      --disabled-fill-color: #666;\n",
              "  }\n",
              "\n",
              "  .colab-df-quickchart {\n",
              "    background-color: var(--bg-color);\n",
              "    border: none;\n",
              "    border-radius: 50%;\n",
              "    cursor: pointer;\n",
              "    display: none;\n",
              "    fill: var(--fill-color);\n",
              "    height: 32px;\n",
              "    padding: 0;\n",
              "    width: 32px;\n",
              "  }\n",
              "\n",
              "  .colab-df-quickchart:hover {\n",
              "    background-color: var(--hover-bg-color);\n",
              "    box-shadow: 0 1px 2px rgba(60, 64, 67, 0.3), 0 1px 3px 1px rgba(60, 64, 67, 0.15);\n",
              "    fill: var(--button-hover-fill-color);\n",
              "  }\n",
              "\n",
              "  .colab-df-quickchart-complete:disabled,\n",
              "  .colab-df-quickchart-complete:disabled:hover {\n",
              "    background-color: var(--disabled-bg-color);\n",
              "    fill: var(--disabled-fill-color);\n",
              "    box-shadow: none;\n",
              "  }\n",
              "\n",
              "  .colab-df-spinner {\n",
              "    border: 2px solid var(--fill-color);\n",
              "    border-color: transparent;\n",
              "    border-bottom-color: var(--fill-color);\n",
              "    animation:\n",
              "      spin 1s steps(1) infinite;\n",
              "  }\n",
              "\n",
              "  @keyframes spin {\n",
              "    0% {\n",
              "      border-color: transparent;\n",
              "      border-bottom-color: var(--fill-color);\n",
              "      border-left-color: var(--fill-color);\n",
              "    }\n",
              "    20% {\n",
              "      border-color: transparent;\n",
              "      border-left-color: var(--fill-color);\n",
              "      border-top-color: var(--fill-color);\n",
              "    }\n",
              "    30% {\n",
              "      border-color: transparent;\n",
              "      border-left-color: var(--fill-color);\n",
              "      border-top-color: var(--fill-color);\n",
              "      border-right-color: var(--fill-color);\n",
              "    }\n",
              "    40% {\n",
              "      border-color: transparent;\n",
              "      border-right-color: var(--fill-color);\n",
              "      border-top-color: var(--fill-color);\n",
              "    }\n",
              "    60% {\n",
              "      border-color: transparent;\n",
              "      border-right-color: var(--fill-color);\n",
              "    }\n",
              "    80% {\n",
              "      border-color: transparent;\n",
              "      border-right-color: var(--fill-color);\n",
              "      border-bottom-color: var(--fill-color);\n",
              "    }\n",
              "    90% {\n",
              "      border-color: transparent;\n",
              "      border-bottom-color: var(--fill-color);\n",
              "    }\n",
              "  }\n",
              "</style>\n",
              "\n",
              "  <script>\n",
              "    async function quickchart(key) {\n",
              "      const quickchartButtonEl =\n",
              "        document.querySelector('#' + key + ' button');\n",
              "      quickchartButtonEl.disabled = true;  // To prevent multiple clicks.\n",
              "      quickchartButtonEl.classList.add('colab-df-spinner');\n",
              "      try {\n",
              "        const charts = await google.colab.kernel.invokeFunction(\n",
              "            'suggestCharts', [key], {});\n",
              "      } catch (error) {\n",
              "        console.error('Error during call to suggestCharts:', error);\n",
              "      }\n",
              "      quickchartButtonEl.classList.remove('colab-df-spinner');\n",
              "      quickchartButtonEl.classList.add('colab-df-quickchart-complete');\n",
              "    }\n",
              "    (() => {\n",
              "      let quickchartButtonEl =\n",
              "        document.querySelector('#df-f7a4d009-a7f3-4547-8c24-1142ab65259d button');\n",
              "      quickchartButtonEl.style.display =\n",
              "        google.colab.kernel.accessAllowed ? 'block' : 'none';\n",
              "    })();\n",
              "  </script>\n",
              "</div>\n",
              "    </div>\n",
              "  </div>\n"
            ]
          },
          "metadata": {},
          "execution_count": 38
        }
      ]
    },
    {
      "cell_type": "code",
      "source": [
        "test = test.reset_index(drop=True)"
      ],
      "metadata": {
        "id": "NB1HG443YCWi"
      },
      "execution_count": 39,
      "outputs": []
    },
    {
      "cell_type": "code",
      "source": [
        "train = train.drop(\"Proto\", axis=1)\n",
        "test = test.drop(\"Proto\", axis=1)"
      ],
      "metadata": {
        "id": "5lmyemlsYdn_"
      },
      "execution_count": 40,
      "outputs": []
    },
    {
      "cell_type": "markdown",
      "source": [
        "# **MODEL**"
      ],
      "metadata": {
        "id": "1SgLm1FSatah"
      }
    },
    {
      "cell_type": "markdown",
      "source": [
        "## **STEP 1**"
      ],
      "metadata": {
        "id": "cpTV1Q_-1SJw"
      }
    },
    {
      "cell_type": "code",
      "source": [
        "X_train = train.iloc[:, :-5]\n",
        "X_test = test.iloc[:, :-5]\n",
        "\n",
        "X_train.info()"
      ],
      "metadata": {
        "colab": {
          "base_uri": "https://localhost:8080/"
        },
        "id": "GZYWXF9amtq3",
        "outputId": "50475118-e53a-45d2-a5af-d5fa69c851bb"
      },
      "execution_count": 41,
      "outputs": [
        {
          "output_type": "stream",
          "name": "stdout",
          "text": [
            "<class 'pandas.core.frame.DataFrame'>\n",
            "RangeIndex: 685691 entries, 0 to 685690\n",
            "Data columns (total 28 columns):\n",
            " #   Column        Non-Null Count   Dtype  \n",
            "---  ------        --------------   -----  \n",
            " 0   Duration      685691 non-null  float64\n",
            " 1   Src Pt        685691 non-null  int64  \n",
            " 2   Dst Pt        685691 non-null  float64\n",
            " 3   Packets       685691 non-null  int64  \n",
            " 4   Bytes         685691 non-null  int64  \n",
            " 5   Flows         685691 non-null  int64  \n",
            " 6   Tos           685691 non-null  int64  \n",
            " 7   Flags_......  685691 non-null  uint8  \n",
            " 8   Flags_.....F  685691 non-null  uint8  \n",
            " 9   Flags_....S.  685691 non-null  uint8  \n",
            " 10  Flags_...R..  685691 non-null  uint8  \n",
            " 11  Flags_...RS.  685691 non-null  uint8  \n",
            " 12  Flags_.A....  685691 non-null  uint8  \n",
            " 13  Flags_.A...F  685691 non-null  uint8  \n",
            " 14  Flags_.A..S.  685691 non-null  uint8  \n",
            " 15  Flags_.A..SF  685691 non-null  uint8  \n",
            " 16  Flags_.A.R..  685691 non-null  uint8  \n",
            " 17  Flags_.A.R.F  685691 non-null  uint8  \n",
            " 18  Flags_.A.RS.  685691 non-null  uint8  \n",
            " 19  Flags_.A.RSF  685691 non-null  uint8  \n",
            " 20  Flags_.AP...  685691 non-null  uint8  \n",
            " 21  Flags_.AP..F  685691 non-null  uint8  \n",
            " 22  Flags_.AP.S.  685691 non-null  uint8  \n",
            " 23  Flags_.AP.SF  685691 non-null  uint8  \n",
            " 24  Flags_.APR..  685691 non-null  uint8  \n",
            " 25  Flags_.APR.F  685691 non-null  uint8  \n",
            " 26  Flags_.APRS.  685691 non-null  uint8  \n",
            " 27  Flags_.APRSF  685691 non-null  uint8  \n",
            "dtypes: float64(2), int64(5), uint8(21)\n",
            "memory usage: 50.4 MB\n"
          ]
        }
      ]
    },
    {
      "cell_type": "markdown",
      "source": [
        "### Round 1"
      ],
      "metadata": {
        "id": "2qbZPUMK2bcp"
      }
    },
    {
      "cell_type": "code",
      "source": [
        "#Detect udp\n",
        "\n",
        "rf = RandomForestClassifier()\n",
        "clf_1 = rf.fit(X_train, train['attackDescription_UDP'])"
      ],
      "metadata": {
        "id": "JuQU4ARrYzCI"
      },
      "execution_count": 42,
      "outputs": []
    },
    {
      "cell_type": "code",
      "source": [
        "start_time = time.time()\n",
        "y_pred_1 = clf_1.predict(X_test)\n",
        "end_time = time.time()\n",
        "execution_time_r1 = end_time - start_time"
      ],
      "metadata": {
        "id": "VusGiqiZrMl1"
      },
      "execution_count": 43,
      "outputs": []
    },
    {
      "cell_type": "code",
      "source": [
        "cm = confusion_matrix(test['attackDescription_UDP'], y_pred_1)\n",
        "\n",
        "acc = accuracy_score(test['attackDescription_UDP'], y_pred_1)\n",
        "ppv = precision_score(test['attackDescription_UDP'], y_pred_1, average='macro')\n",
        "f1 = f1_score(test['attackDescription_UDP'], y_pred_1, average='macro')\n",
        "tpr = recall_score(test['attackDescription_UDP'], y_pred_1, average='macro')\n",
        "fpr = cm[0, 1] / (cm[0, 0] + cm[0, 1])\n",
        "auc = roc_auc_score(test['attackDescription_UDP'], y_pred_1)\n",
        "mcc = matthews_corrcoef(test['attackDescription_UDP'], y_pred_1)\n",
        "# udr = sum(y_pred_1[Service_Scan_test_index] == test['attackDescription_TCP'][Service_Scan_test_index]) / len(Service_Scan_test_index)\n",
        "\n",
        "# model_pred['Tabnet'] = y_pred_1\n",
        "# model_acc['Tabnet'] = acc\n",
        "# model_ppv['Tabnet'] = ppv\n",
        "# model_f1['Tabnet'] = f1\n",
        "# model_tpr['Tabnet'] = tpr\n",
        "# model_fpr['Tabnet'] = fpr\n",
        "# model_auc['Tabnet'] = auc\n",
        "# model_mcc['Tabnet'] = mcc\n",
        "# model_udr['Tabnet'] = udr\n",
        "\n",
        "print('Scores of round 1:')\n",
        "# print(f'\\tUDR: {udr} ({sum(y_pred_1[Service_Scan_test_index] == test['attackDescription_TCP'][Service_Scan_test_index])} / {len(Service_Scan_test_index)})')\n",
        "print(f'\\tACC: {acc}')\n",
        "print(f'\\tPPV: {ppv}')\n",
        "print(f'\\tTPR: {tpr}')\n",
        "print(f'\\tF1 : {f1}')\n",
        "print(f'\\tAUC: {auc}')\n",
        "print(f'\\tMCC: {mcc}')\n",
        "print(f'\\tFPR: {fpr}')"
      ],
      "metadata": {
        "colab": {
          "base_uri": "https://localhost:8080/"
        },
        "id": "ZTJN97hlD-Of",
        "outputId": "dd549cd7-53fe-42c7-c501-d0b88aa6fc6a"
      },
      "execution_count": 44,
      "outputs": [
        {
          "output_type": "stream",
          "name": "stdout",
          "text": [
            "Scores of round 1:\n",
            "\tACC: 0.9350399760065035\n",
            "\tPPV: 0.7804639382700792\n",
            "\tTPR: 0.851315408181337\n",
            "\tF1 : 0.8105886839698215\n",
            "\tAUC: 0.8513154081813369\n",
            "\tMCC: 0.6277939246392821\n",
            "\tFPR: 0.0483275854279303\n"
          ]
        }
      ]
    },
    {
      "cell_type": "code",
      "source": [
        "print(confusion_matrix(test['attackDescription_UDP'], y_pred_1))"
      ],
      "metadata": {
        "colab": {
          "base_uri": "https://localhost:8080/"
        },
        "id": "cEoXDn9HFs_F",
        "outputId": "2c9b6e81-4893-44f2-8e25-f51d4a7feac9"
      },
      "execution_count": 45,
      "outputs": [
        {
          "output_type": "stream",
          "name": "stdout",
          "text": [
            "[[442344  22463]\n",
            " [ 10459  31538]]\n"
          ]
        }
      ]
    },
    {
      "cell_type": "code",
      "source": [
        "print(classification_report(test['attackDescription_UDP'], y_pred_1))"
      ],
      "metadata": {
        "colab": {
          "base_uri": "https://localhost:8080/"
        },
        "id": "63VbAYWxF2do",
        "outputId": "dcaf9873-5498-4683-a3e9-5c3aa90bc8a7"
      },
      "execution_count": 46,
      "outputs": [
        {
          "output_type": "stream",
          "name": "stdout",
          "text": [
            "              precision    recall  f1-score   support\n",
            "\n",
            "           0       0.98      0.95      0.96    464807\n",
            "           1       0.58      0.75      0.66     41997\n",
            "\n",
            "    accuracy                           0.94    506804\n",
            "   macro avg       0.78      0.85      0.81    506804\n",
            "weighted avg       0.94      0.94      0.94    506804\n",
            "\n"
          ]
        }
      ]
    },
    {
      "cell_type": "code",
      "source": [
        "remain_indices_1 = test.index[np.where(y_pred_1 == 0)[0]]\n",
        "print(remain_indices_1)"
      ],
      "metadata": {
        "colab": {
          "base_uri": "https://localhost:8080/"
        },
        "id": "3-fUpbVogjsb",
        "outputId": "4a53a184-5224-4730-da86-9f1222c897f9"
      },
      "execution_count": 47,
      "outputs": [
        {
          "output_type": "stream",
          "name": "stdout",
          "text": [
            "Int64Index([     1,      2,      3,      4,      5,      6,      7,      8,\n",
            "                 9,     11,\n",
            "            ...\n",
            "            506792, 506793, 506794, 506795, 506796, 506798, 506799, 506800,\n",
            "            506801, 506803],\n",
            "           dtype='int64', length=452803)\n"
          ]
        }
      ]
    },
    {
      "cell_type": "code",
      "source": [
        "udp_pred = test.index[np.where(y_pred_1 == 1)[0]]\n",
        "print(udp_pred)"
      ],
      "metadata": {
        "colab": {
          "base_uri": "https://localhost:8080/"
        },
        "id": "N4ApsJKFj9fl",
        "outputId": "7d138736-e7b5-44d2-8f07-07110b8c3da0"
      },
      "execution_count": 48,
      "outputs": [
        {
          "output_type": "stream",
          "name": "stdout",
          "text": [
            "Int64Index([     0,     10,     14,     29,     38,     48,     60,     63,\n",
            "                77,     88,\n",
            "            ...\n",
            "            506731, 506732, 506736, 506753, 506757, 506761, 506766, 506791,\n",
            "            506797, 506802],\n",
            "           dtype='int64', length=54001)\n"
          ]
        }
      ]
    },
    {
      "cell_type": "markdown",
      "source": [
        "## **STEP 2**"
      ],
      "metadata": {
        "id": "HVFpvHYuX6IL"
      }
    },
    {
      "cell_type": "markdown",
      "source": [
        "## Outlier"
      ],
      "metadata": {
        "id": "SJ3RgdABzbL2"
      }
    },
    {
      "cell_type": "code",
      "source": [
        "%pip install pyod"
      ],
      "metadata": {
        "colab": {
          "base_uri": "https://localhost:8080/"
        },
        "id": "USODERe5ThMR",
        "outputId": "f431549e-f2cf-4166-fb69-46d31b2a1e95"
      },
      "execution_count": 49,
      "outputs": [
        {
          "output_type": "stream",
          "name": "stdout",
          "text": [
            "Collecting pyod\n",
            "  Downloading pyod-1.1.0.tar.gz (153 kB)\n",
            "\u001b[?25l     \u001b[90m━━━━━━━━━━━━━━━━━━━━━━━━━━━━━━━━━━━━━━━━\u001b[0m \u001b[32m0.0/153.4 kB\u001b[0m \u001b[31m?\u001b[0m eta \u001b[36m-:--:--\u001b[0m\r\u001b[2K     \u001b[91m━━━━━━━━━━━━━━━━━━━━━━━━\u001b[0m\u001b[90m╺\u001b[0m\u001b[90m━━━━━━━━━━━━━━━\u001b[0m \u001b[32m92.2/153.4 kB\u001b[0m \u001b[31m2.7 MB/s\u001b[0m eta \u001b[36m0:00:01\u001b[0m\r\u001b[2K     \u001b[90m━━━━━━━━━━━━━━━━━━━━━━━━━━━━━━━━━━━━━━━\u001b[0m \u001b[32m153.4/153.4 kB\u001b[0m \u001b[31m3.0 MB/s\u001b[0m eta \u001b[36m0:00:00\u001b[0m\n",
            "\u001b[?25h  Preparing metadata (setup.py) ... \u001b[?25l\u001b[?25hdone\n",
            "Requirement already satisfied: joblib in /usr/local/lib/python3.10/dist-packages (from pyod) (1.3.2)\n",
            "Requirement already satisfied: matplotlib in /usr/local/lib/python3.10/dist-packages (from pyod) (3.7.1)\n",
            "Requirement already satisfied: numpy>=1.19 in /usr/local/lib/python3.10/dist-packages (from pyod) (1.23.5)\n",
            "Requirement already satisfied: numba>=0.51 in /usr/local/lib/python3.10/dist-packages (from pyod) (0.56.4)\n",
            "Requirement already satisfied: scipy>=1.5.1 in /usr/local/lib/python3.10/dist-packages (from pyod) (1.11.2)\n",
            "Requirement already satisfied: scikit_learn>=0.20.0 in /usr/local/lib/python3.10/dist-packages (from pyod) (1.2.2)\n",
            "Requirement already satisfied: six in /usr/local/lib/python3.10/dist-packages (from pyod) (1.16.0)\n",
            "Requirement already satisfied: llvmlite<0.40,>=0.39.0dev0 in /usr/local/lib/python3.10/dist-packages (from numba>=0.51->pyod) (0.39.1)\n",
            "Requirement already satisfied: setuptools in /usr/local/lib/python3.10/dist-packages (from numba>=0.51->pyod) (67.7.2)\n",
            "Requirement already satisfied: threadpoolctl>=2.0.0 in /usr/local/lib/python3.10/dist-packages (from scikit_learn>=0.20.0->pyod) (3.2.0)\n",
            "Requirement already satisfied: contourpy>=1.0.1 in /usr/local/lib/python3.10/dist-packages (from matplotlib->pyod) (1.1.0)\n",
            "Requirement already satisfied: cycler>=0.10 in /usr/local/lib/python3.10/dist-packages (from matplotlib->pyod) (0.11.0)\n",
            "Requirement already satisfied: fonttools>=4.22.0 in /usr/local/lib/python3.10/dist-packages (from matplotlib->pyod) (4.42.1)\n",
            "Requirement already satisfied: kiwisolver>=1.0.1 in /usr/local/lib/python3.10/dist-packages (from matplotlib->pyod) (1.4.5)\n",
            "Requirement already satisfied: packaging>=20.0 in /usr/local/lib/python3.10/dist-packages (from matplotlib->pyod) (23.1)\n",
            "Requirement already satisfied: pillow>=6.2.0 in /usr/local/lib/python3.10/dist-packages (from matplotlib->pyod) (9.4.0)\n",
            "Requirement already satisfied: pyparsing>=2.3.1 in /usr/local/lib/python3.10/dist-packages (from matplotlib->pyod) (3.1.1)\n",
            "Requirement already satisfied: python-dateutil>=2.7 in /usr/local/lib/python3.10/dist-packages (from matplotlib->pyod) (2.8.2)\n",
            "Building wheels for collected packages: pyod\n",
            "  Building wheel for pyod (setup.py) ... \u001b[?25l\u001b[?25hdone\n",
            "  Created wheel for pyod: filename=pyod-1.1.0-py3-none-any.whl size=185329 sha256=15232b148fe6b64c59bb30def45623c1959dc6dc90ff14282d9376411880de31\n",
            "  Stored in directory: /root/.cache/pip/wheels/36/8e/e2/e932956b10b843eb6be9eefa70b5c1bee7b561be14c423b136\n",
            "Successfully built pyod\n",
            "Installing collected packages: pyod\n",
            "Successfully installed pyod-1.1.0\n"
          ]
        }
      ]
    },
    {
      "cell_type": "markdown",
      "source": [
        "### LOF"
      ],
      "metadata": {
        "id": "xtOSM0ej5DuD"
      }
    },
    {
      "cell_type": "code",
      "source": [
        "train_lof = train[(train['label'] == 0)]\n",
        "X_train_lof = train_lof.iloc[:, :-5]"
      ],
      "metadata": {
        "id": "pIWik-5IkYuK"
      },
      "execution_count": 50,
      "outputs": []
    },
    {
      "cell_type": "code",
      "source": [
        "X_test_2 = X_test.loc[remain_indices_1]\n",
        "test_2 = test.loc[remain_indices_1]"
      ],
      "metadata": {
        "id": "nc58J62zkZPb"
      },
      "execution_count": 51,
      "outputs": []
    },
    {
      "cell_type": "code",
      "source": [
        "# # train an LOF detector\n",
        "# from pyod.models.ecod import ECOD\n",
        "# from pyod.models.abod import ABOD\n",
        "# from pyod.models.alad import ALAD\n",
        "# from pyod.models.anogan import AnoGAN\n",
        "# from pyod.models.rod import ROD\n",
        "# from pyod.models.lof import LOF\n",
        "# from pyod.models.lscp import LSCP\n",
        "# from pyod.models.ocsvm import OCSVM\n",
        "# from pyod.models.cblof import CBLOF\n",
        "# from pyod.models.knn import KNN\n",
        "# from pyod.models.lunar import LUNAR\n",
        "# from pyod.models.inne import INNE\n",
        "# from pyod.models.auto_encoder import AutoEncoder\n",
        "# from pyod.models.iforest import IForest\n",
        "\n",
        "# # model_1 = OCSVM()\n",
        "# # model_2 = CBLOF()\n",
        "# # model_3 = KNN()\n",
        "\n",
        "# clf = LOF( contamination=0.05)\n",
        "# clf.fit(X_train_lof)\n",
        "\n",
        "# # get outlier scores\n",
        "# y_train_scores = clf.decision_scores_  # raw outlier scores on the train data\n",
        "# y_test_scores = clf.decision_function(X_test_2)  # predict raw outlier scores on test\n",
        "# print(f\"Train_score: {y_train_scores.mean()}\")\n",
        "# print(f\"Test_score: {y_test_scores.mean()}\")"
      ],
      "metadata": {
        "id": "MK1mAr6M5emo"
      },
      "execution_count": 52,
      "outputs": []
    },
    {
      "cell_type": "code",
      "source": [
        "from joblib import dump, load\n",
        "\n",
        "# save the model\n",
        "# dump(clf_lof, 'clf_lof_tcp_icmp.joblib')\n",
        "# load the model\n",
        "clf_lof = load('/content/drive/MyDrive/Colab Notebooks/data/CIDDS Data/clf_lof_tcp.joblib')"
      ],
      "metadata": {
        "id": "IufNMDafXlBL"
      },
      "execution_count": 53,
      "outputs": []
    },
    {
      "cell_type": "code",
      "source": [
        "start_time = time.time()\n",
        "\n",
        "y_pred_lof = clf_lof.predict(X_test_2)\n",
        "\n",
        "end_time = time.time()\n",
        "execution_time_lof = end_time - start_time\n",
        "\n",
        "pd.DataFrame(y_pred_lof).value_counts()"
      ],
      "metadata": {
        "colab": {
          "base_uri": "https://localhost:8080/"
        },
        "id": "Q5Cp878b5khb",
        "outputId": "b15db129-88be-4361-c6ac-ac375c7e8be5"
      },
      "execution_count": 54,
      "outputs": [
        {
          "output_type": "execute_result",
          "data": {
            "text/plain": [
              "0    277017\n",
              "1    175786\n",
              "dtype: int64"
            ]
          },
          "metadata": {},
          "execution_count": 54
        }
      ]
    },
    {
      "cell_type": "code",
      "source": [
        "test_2['attackDescription_normal'].value_counts()"
      ],
      "metadata": {
        "colab": {
          "base_uri": "https://localhost:8080/"
        },
        "id": "eIq3hppI5ruR",
        "outputId": "0fa5af52-636c-43ba-9e57-90c4b36072c0"
      },
      "execution_count": 55,
      "outputs": [
        {
          "output_type": "execute_result",
          "data": {
            "text/plain": [
              "1    262427\n",
              "0    190376\n",
              "Name: attackDescription_normal, dtype: int64"
            ]
          },
          "metadata": {},
          "execution_count": 55
        }
      ]
    },
    {
      "cell_type": "code",
      "source": [
        "true_abnormal_1 = test_2['attackDescription_normal'].copy()\n",
        "true_abnormal_1 = true_abnormal_1.replace({0: 1, 1: 0})\n",
        "true_abnormal_1.value_counts()"
      ],
      "metadata": {
        "colab": {
          "base_uri": "https://localhost:8080/"
        },
        "id": "tdIRrEWo5vA9",
        "outputId": "30847e4c-5506-4134-91e9-e88c3f660fb4"
      },
      "execution_count": 56,
      "outputs": [
        {
          "output_type": "execute_result",
          "data": {
            "text/plain": [
              "0    262427\n",
              "1    190376\n",
              "Name: attackDescription_normal, dtype: int64"
            ]
          },
          "metadata": {},
          "execution_count": 56
        }
      ]
    },
    {
      "cell_type": "code",
      "source": [
        "cm = confusion_matrix(true_abnormal_1, y_pred_lof)\n",
        "\n",
        "acc = accuracy_score(true_abnormal_1, y_pred_lof)\n",
        "ppv = precision_score(true_abnormal_1, y_pred_lof, average='macro')\n",
        "f1 = f1_score(true_abnormal_1, y_pred_lof, average='macro')\n",
        "tpr = recall_score(true_abnormal_1, y_pred_lof, average='macro')\n",
        "fpr = cm[0, 1] / (cm[0, 0] + cm[0, 1])\n",
        "auc = roc_auc_score(true_abnormal_1, y_pred_lof)\n",
        "mcc = matthews_corrcoef(true_abnormal_1, y_pred_lof)\n",
        "\n",
        "print('Scores of outlier:')\n",
        "print(f'\\tACC: {acc}')\n",
        "print(f'\\tPPV: {ppv}')\n",
        "print(f'\\tTPR: {tpr}')\n",
        "print(f'\\tF1 : {f1}')\n",
        "print(f'\\tAUC: {auc}')\n",
        "print(f'\\tMCC: {mcc}')\n",
        "print(f'\\tFPR: {fpr}')"
      ],
      "metadata": {
        "colab": {
          "base_uri": "https://localhost:8080/"
        },
        "id": "udBGO-6F5v83",
        "outputId": "a6bf1580-5fa1-47e3-f2d4-03856cf1b0d0"
      },
      "execution_count": 57,
      "outputs": [
        {
          "output_type": "stream",
          "name": "stdout",
          "text": [
            "Scores of outlier:\n",
            "\tACC: 0.9100756841275345\n",
            "\tPPV: 0.9129272776907931\n",
            "\tTPR: 0.9024793151268178\n",
            "\tF1 : 0.9066582164448389\n",
            "\tAUC: 0.9024793151268178\n",
            "\tMCC: 0.8153396541863315\n",
            "\tFPR: 0.04978146303543462\n"
          ]
        }
      ]
    },
    {
      "cell_type": "code",
      "source": [
        "print(confusion_matrix(true_abnormal_1, y_pred_lof))"
      ],
      "metadata": {
        "colab": {
          "base_uri": "https://localhost:8080/"
        },
        "id": "PCvusg-150ke",
        "outputId": "9d64ee51-944a-47db-a87e-e8ebf48930c2"
      },
      "execution_count": 58,
      "outputs": [
        {
          "output_type": "stream",
          "name": "stdout",
          "text": [
            "[[249363  13064]\n",
            " [ 27654 162722]]\n"
          ]
        }
      ]
    },
    {
      "cell_type": "code",
      "source": [
        "print(classification_report(true_abnormal_1, y_pred_lof))"
      ],
      "metadata": {
        "colab": {
          "base_uri": "https://localhost:8080/"
        },
        "id": "HZEJpuEf53Bv",
        "outputId": "07be8f01-dd2b-41ac-f70e-e41b1277f6cb"
      },
      "execution_count": 59,
      "outputs": [
        {
          "output_type": "stream",
          "name": "stdout",
          "text": [
            "              precision    recall  f1-score   support\n",
            "\n",
            "           0       0.90      0.95      0.92    262427\n",
            "           1       0.93      0.85      0.89    190376\n",
            "\n",
            "    accuracy                           0.91    452803\n",
            "   macro avg       0.91      0.90      0.91    452803\n",
            "weighted avg       0.91      0.91      0.91    452803\n",
            "\n"
          ]
        }
      ]
    },
    {
      "cell_type": "code",
      "source": [
        "remain_indices_2 = test_2.index[np.where(y_pred_lof == 0)[0]]\n",
        "print(remain_indices_2)"
      ],
      "metadata": {
        "colab": {
          "base_uri": "https://localhost:8080/"
        },
        "id": "YDppQNWC6wYa",
        "outputId": "83fd9a0e-f8b1-4ce3-ad4e-fdc037ebc51c"
      },
      "execution_count": 60,
      "outputs": [
        {
          "output_type": "stream",
          "name": "stdout",
          "text": [
            "Int64Index([     4,      5,      6,      7,      8,     11,     12,     13,\n",
            "                18,     19,\n",
            "            ...\n",
            "            506784, 506786, 506788, 506789, 506790, 506792, 506793, 506795,\n",
            "            506796, 506800],\n",
            "           dtype='int64', length=277017)\n"
          ]
        }
      ]
    },
    {
      "cell_type": "code",
      "source": [
        "novelty_pred_lof = true_abnormal_1.index[np.where(y_pred_lof == 1)[0]]"
      ],
      "metadata": {
        "id": "zOSwxtip55N_"
      },
      "execution_count": 61,
      "outputs": []
    },
    {
      "cell_type": "code",
      "source": [
        "print(novelty_pred_lof)"
      ],
      "metadata": {
        "colab": {
          "base_uri": "https://localhost:8080/"
        },
        "id": "udtJCN4xillj",
        "outputId": "77d4fe82-8137-404a-a277-89a143b3190c"
      },
      "execution_count": 62,
      "outputs": [
        {
          "output_type": "stream",
          "name": "stdout",
          "text": [
            "Int64Index([     1,      2,      3,      9,     15,     16,     17,     23,\n",
            "                25,     27,\n",
            "            ...\n",
            "            506780, 506782, 506783, 506785, 506787, 506794, 506798, 506799,\n",
            "            506801, 506803],\n",
            "           dtype='int64', length=175786)\n"
          ]
        }
      ]
    },
    {
      "cell_type": "markdown",
      "source": [
        "### INNE"
      ],
      "metadata": {
        "id": "xdcYyKC-5JU7"
      }
    },
    {
      "cell_type": "code",
      "source": [
        "train_inne = train[(train['label'] == 0)]\n",
        "X_train_inne = train_inne.iloc[:, :-5]"
      ],
      "metadata": {
        "id": "3AL1uLOW6WB8"
      },
      "execution_count": 63,
      "outputs": []
    },
    {
      "cell_type": "code",
      "source": [
        "X_test_3 = X_test.loc[remain_indices_2]\n",
        "test_3 = test.loc[remain_indices_2]"
      ],
      "metadata": {
        "id": "ej8bLAOm6YaF"
      },
      "execution_count": 64,
      "outputs": []
    },
    {
      "cell_type": "code",
      "source": [
        "# # train with INNE detector\n",
        "# from pyod.models.ecod import ECOD\n",
        "# from pyod.models.abod import ABOD\n",
        "# from pyod.models.alad import ALAD\n",
        "# from pyod.models.anogan import AnoGAN\n",
        "# from pyod.models.rod import ROD\n",
        "# from pyod.models.lof import LOF\n",
        "# from pyod.models.lscp import LSCP\n",
        "# from pyod.models.ocsvm import OCSVM\n",
        "# from pyod.models.cblof import CBLOF\n",
        "# from pyod.models.knn import KNN\n",
        "# from pyod.models.lunar import LUNAR\n",
        "# from pyod.models.inne import INNE\n",
        "# from pyod.models.auto_encoder import AutoEncoder\n",
        "# from pyod.models.iforest import IForest\n",
        "\n",
        "# # model_1 = OCSVM()\n",
        "# # model_2 = CBLOF()\n",
        "# # model_3 = KNN()\n",
        "\n",
        "# clf = INNE( contamination=0.05)\n",
        "# clf.fit(X_train_inne)\n",
        "\n",
        "# # get outlier scores\n",
        "# y_train_scores = clf.decision_scores_  # raw outlier scores on the train data\n",
        "# y_test_scores = clf.decision_function(X_test_3)  # predict raw outlier scores on test\n",
        "# print(f\"Train_score: {y_train_scores.mean()}\")\n",
        "# print(f\"Test_score: {y_test_scores.mean()}\")"
      ],
      "metadata": {
        "id": "fGzOicfokbBU"
      },
      "execution_count": 65,
      "outputs": []
    },
    {
      "cell_type": "code",
      "source": [
        "from joblib import dump, load\n",
        "\n",
        "# save the model\n",
        "# dump(clf_inne, 'clf_inne_tcp_icmp.joblib')\n",
        "# load the model\n",
        "clf_inne = load('/content/drive/MyDrive/Colab Notebooks/data/CIDDS Data/clf_inne_tcp.joblib')"
      ],
      "metadata": {
        "id": "MxXfqe84Xrtr"
      },
      "execution_count": 66,
      "outputs": []
    },
    {
      "cell_type": "code",
      "source": [
        "start_time = time.time()\n",
        "\n",
        "y_pred_inne = clf_inne.predict(X_test_3)\n",
        "\n",
        "end_time = time.time()\n",
        "execution_time_inne = end_time - start_time\n",
        "\n",
        "pd.DataFrame(y_pred_inne).value_counts()"
      ],
      "metadata": {
        "id": "T1IagO16kdMT",
        "colab": {
          "base_uri": "https://localhost:8080/"
        },
        "outputId": "b7f9f203-a6c8-4d5d-af3e-4084688eb701"
      },
      "execution_count": 67,
      "outputs": [
        {
          "output_type": "execute_result",
          "data": {
            "text/plain": [
              "0    251093\n",
              "1     25924\n",
              "dtype: int64"
            ]
          },
          "metadata": {},
          "execution_count": 67
        }
      ]
    },
    {
      "cell_type": "code",
      "source": [
        "test_3['attackDescription_normal'].value_counts()"
      ],
      "metadata": {
        "id": "sC1mJSOwkfZx",
        "colab": {
          "base_uri": "https://localhost:8080/"
        },
        "outputId": "560d57f0-d6d6-40ad-8cb8-6ecfaf6bf2eb"
      },
      "execution_count": 68,
      "outputs": [
        {
          "output_type": "execute_result",
          "data": {
            "text/plain": [
              "1    249363\n",
              "0     27654\n",
              "Name: attackDescription_normal, dtype: int64"
            ]
          },
          "metadata": {},
          "execution_count": 68
        }
      ]
    },
    {
      "cell_type": "code",
      "source": [
        "true_abnormal_2 = test_3['attackDescription_normal'].copy()\n",
        "true_abnormal_2 = true_abnormal_2.replace({0: 1, 1: 0})\n",
        "true_abnormal_2.value_counts()\n"
      ],
      "metadata": {
        "id": "zpXPgzhikhk9",
        "colab": {
          "base_uri": "https://localhost:8080/"
        },
        "outputId": "45a9da1f-c7a3-4d91-f231-2d1102dc39bf"
      },
      "execution_count": 69,
      "outputs": [
        {
          "output_type": "execute_result",
          "data": {
            "text/plain": [
              "0    249363\n",
              "1     27654\n",
              "Name: attackDescription_normal, dtype: int64"
            ]
          },
          "metadata": {},
          "execution_count": 69
        }
      ]
    },
    {
      "cell_type": "code",
      "source": [
        "cm = confusion_matrix(true_abnormal_2, y_pred_inne)\n",
        "\n",
        "acc = accuracy_score(true_abnormal_2, y_pred_inne)\n",
        "ppv = precision_score(true_abnormal_2, y_pred_inne, average='macro')\n",
        "f1 = f1_score(true_abnormal_2, y_pred_inne, average='macro')\n",
        "tpr = recall_score(true_abnormal_2, y_pred_inne, average='macro')\n",
        "fpr = cm[0, 1] / (cm[0, 0] + cm[0, 1])\n",
        "auc = roc_auc_score(true_abnormal_2, y_pred_inne)\n",
        "mcc = matthews_corrcoef(true_abnormal_2, y_pred_inne)\n",
        "\n",
        "print('Scores of outlier:')\n",
        "print(f'\\tACC: {acc}')\n",
        "print(f'\\tPPV: {ppv}')\n",
        "print(f'\\tTPR: {tpr}')\n",
        "print(f'\\tF1 : {f1}')\n",
        "print(f'\\tAUC: {auc}')\n",
        "print(f'\\tMCC: {mcc}')\n",
        "print(f'\\tFPR: {fpr}')"
      ],
      "metadata": {
        "id": "TfxXDwvlkwd8",
        "colab": {
          "base_uri": "https://localhost:8080/"
        },
        "outputId": "e6c684dd-6cb8-474b-94c2-1d4a2c2baf8e"
      },
      "execution_count": 70,
      "outputs": [
        {
          "output_type": "stream",
          "name": "stdout",
          "text": [
            "Scores of outlier:\n",
            "\tACC: 0.9028146287050975\n",
            "\tPPV: 0.7285318170811863\n",
            "\tTPR: 0.7157214438757931\n",
            "\tF1 : 0.7218613494104038\n",
            "\tAUC: 0.7157214438757931\n",
            "\tMCC: 0.4440685242271158\n",
            "\tFPR: 0.05051270637584566\n"
          ]
        }
      ]
    },
    {
      "cell_type": "code",
      "source": [
        "print(confusion_matrix(true_abnormal_2, y_pred_inne))"
      ],
      "metadata": {
        "id": "wyIRcfEQkxGe",
        "colab": {
          "base_uri": "https://localhost:8080/"
        },
        "outputId": "991cee05-5f6f-48fb-80d5-32ba9684b62e"
      },
      "execution_count": 71,
      "outputs": [
        {
          "output_type": "stream",
          "name": "stdout",
          "text": [
            "[[236767  12596]\n",
            " [ 14326  13328]]\n"
          ]
        }
      ]
    },
    {
      "cell_type": "code",
      "source": [
        "print(classification_report(true_abnormal_2, y_pred_inne))"
      ],
      "metadata": {
        "id": "Ay4hJt8ik0Xb",
        "colab": {
          "base_uri": "https://localhost:8080/"
        },
        "outputId": "c9ac565b-6697-4768-fe52-a1d2afab6db2"
      },
      "execution_count": 72,
      "outputs": [
        {
          "output_type": "stream",
          "name": "stdout",
          "text": [
            "              precision    recall  f1-score   support\n",
            "\n",
            "           0       0.94      0.95      0.95    249363\n",
            "           1       0.51      0.48      0.50     27654\n",
            "\n",
            "    accuracy                           0.90    277017\n",
            "   macro avg       0.73      0.72      0.72    277017\n",
            "weighted avg       0.90      0.90      0.90    277017\n",
            "\n"
          ]
        }
      ]
    },
    {
      "cell_type": "code",
      "source": [
        "novelty_pred_inne = true_abnormal_2.index[np.where(y_pred_inne == 1)[0]]\n",
        "print(novelty_pred_inne)"
      ],
      "metadata": {
        "id": "YPKCvoxek3LU",
        "colab": {
          "base_uri": "https://localhost:8080/"
        },
        "outputId": "43420ecf-f779-40a0-86c9-7e55f8b30f67"
      },
      "execution_count": 73,
      "outputs": [
        {
          "output_type": "stream",
          "name": "stdout",
          "text": [
            "Int64Index([    26,     31,     33,     45,     64,    122,    123,    135,\n",
            "               148,    158,\n",
            "            ...\n",
            "            506580, 506674, 506684, 506706, 506724, 506730, 506770, 506775,\n",
            "            506777, 506784],\n",
            "           dtype='int64', length=25924)\n"
          ]
        }
      ]
    },
    {
      "cell_type": "code",
      "source": [
        "novelty_pred = novelty_pred_lof.append(novelty_pred_inne)\n",
        "novelty_pred"
      ],
      "metadata": {
        "colab": {
          "base_uri": "https://localhost:8080/"
        },
        "id": "m7UFjn_d_0TA",
        "outputId": "6d00810c-03db-4e0e-ac20-1d2a25f9353d"
      },
      "execution_count": 74,
      "outputs": [
        {
          "output_type": "execute_result",
          "data": {
            "text/plain": [
              "Int64Index([     1,      2,      3,      9,     15,     16,     17,     23,\n",
              "                25,     27,\n",
              "            ...\n",
              "            506580, 506674, 506684, 506706, 506724, 506730, 506770, 506775,\n",
              "            506777, 506784],\n",
              "           dtype='int64', length=201710)"
            ]
          },
          "metadata": {},
          "execution_count": 74
        }
      ]
    },
    {
      "cell_type": "markdown",
      "source": [
        "# **RESULT**"
      ],
      "metadata": {
        "id": "fG-RWKfHk5FS"
      }
    },
    {
      "cell_type": "markdown",
      "source": [
        "### Binary"
      ],
      "metadata": {
        "id": "ynABInitXwxB"
      }
    },
    {
      "cell_type": "code",
      "source": [
        "y_pred = np.zeros_like(y_pred_1)"
      ],
      "metadata": {
        "id": "II-HYAxUk6ee"
      },
      "execution_count": 75,
      "outputs": []
    },
    {
      "cell_type": "code",
      "source": [
        "y_pred[novelty_pred]=1\n",
        "y_pred[udp_pred]=1\n",
        "\n",
        "pd.DataFrame(y_pred).value_counts()"
      ],
      "metadata": {
        "id": "AI0qbkFbk9Mo",
        "colab": {
          "base_uri": "https://localhost:8080/"
        },
        "outputId": "e5df5c4f-b71b-4a3c-fbf0-fe6977a9433f"
      },
      "execution_count": 76,
      "outputs": [
        {
          "output_type": "execute_result",
          "data": {
            "text/plain": [
              "1    255711\n",
              "0    251093\n",
              "dtype: int64"
            ]
          },
          "metadata": {},
          "execution_count": 76
        }
      ]
    },
    {
      "cell_type": "code",
      "source": [
        "test_series_1 = pd.Series(test['attackDescription_TCP'])\n",
        "test_series_1"
      ],
      "metadata": {
        "colab": {
          "base_uri": "https://localhost:8080/"
        },
        "id": "yJ5KErnG_5xY",
        "outputId": "d8832a55-d092-4984-9e0c-24eba53b9076"
      },
      "execution_count": 77,
      "outputs": [
        {
          "output_type": "execute_result",
          "data": {
            "text/plain": [
              "0         0\n",
              "1         1\n",
              "2         1\n",
              "3         1\n",
              "4         0\n",
              "         ..\n",
              "506799    1\n",
              "506800    0\n",
              "506801    0\n",
              "506802    0\n",
              "506803    0\n",
              "Name: attackDescription_TCP, Length: 506804, dtype: uint8"
            ]
          },
          "metadata": {},
          "execution_count": 77
        }
      ]
    },
    {
      "cell_type": "code",
      "source": [
        "tcp_indices = np.where(test_series_1 == 1)[0]"
      ],
      "metadata": {
        "id": "yBN8FtHi_5xY"
      },
      "execution_count": 78,
      "outputs": []
    },
    {
      "cell_type": "code",
      "source": [
        "test_series_2 = pd.Series(test['attackDescription_ICMP'])\n",
        "test_series_2"
      ],
      "metadata": {
        "colab": {
          "base_uri": "https://localhost:8080/"
        },
        "id": "X9u8pWXyP24L",
        "outputId": "e2c79eb3-3a33-42db-bba1-ad060a4836d7"
      },
      "execution_count": 79,
      "outputs": [
        {
          "output_type": "execute_result",
          "data": {
            "text/plain": [
              "0         0\n",
              "1         0\n",
              "2         0\n",
              "3         0\n",
              "4         0\n",
              "         ..\n",
              "506799    0\n",
              "506800    0\n",
              "506801    0\n",
              "506802    0\n",
              "506803    0\n",
              "Name: attackDescription_ICMP, Length: 506804, dtype: uint8"
            ]
          },
          "metadata": {},
          "execution_count": 79
        }
      ]
    },
    {
      "cell_type": "code",
      "source": [
        "icmp_indices = np.where(test_series_2 == 1)[0]"
      ],
      "metadata": {
        "id": "Oa3u0W9-P3_b"
      },
      "execution_count": 80,
      "outputs": []
    },
    {
      "cell_type": "code",
      "source": [
        "cm = confusion_matrix(test['label'], y_pred)\n",
        "\n",
        "acc = accuracy_score(test['label'], y_pred)\n",
        "ppv = precision_score(test['label'], y_pred, average='macro')\n",
        "f1 = f1_score(test['label'], y_pred, average='macro')\n",
        "tpr = recall_score(test['label'], y_pred, average='macro')\n",
        "fpr = cm[0, 1] / (cm[0, 0] + cm[0, 1])\n",
        "auc = roc_auc_score(test['label'], y_pred)\n",
        "mcc = matthews_corrcoef(test['label'], y_pred)\n",
        "\n",
        "num_detec = sum(y_pred[tcp_indices] == 1)\n",
        "num_TCP = sum(test['attackDescription_TCP'])\n",
        "udr_tcp = num_detec / num_TCP\n",
        "\n",
        "num_detec = sum(y_pred[icmp_indices] == 1)\n",
        "num_ICMP = sum(test['attackDescription_ICMP'])\n",
        "udr_icmp = num_detec / num_ICMP\n",
        "\n",
        "# model_pred['Tabnet'] = y_pred\n",
        "# model_acc['Tabnet'] = acc\n",
        "# model_ppv['Tabnet'] = ppv\n",
        "# model_f1['Tabnet'] = f1\n",
        "# model_tpr['Tabnet'] = tpr\n",
        "# model_fpr['Tabnet'] = fpr\n",
        "# model_auc['Tabnet'] = auc\n",
        "# model_mcc['Tabnet'] = mcc\n",
        "# model_udr['Tabnet'] = udr\n",
        "\n",
        "print('Scores of hybrid_model:')\n",
        "print(f'\\tUDR_TCP: {udr_tcp} ({num_detec} / {num_TCP})')\n",
        "print(f'\\tUDR_ICMP: {udr_icmp} ({num_detec} / {num_ICMP})')\n",
        "print(f'\\tACC: {acc}')\n",
        "print(f'\\tPPV: {ppv}')\n",
        "print(f'\\tTPR: {tpr}')\n",
        "print(f'\\tF1 : {f1}')\n",
        "print(f'\\tAUC: {auc}')\n",
        "print(f'\\tMCC: {mcc}')\n",
        "print(f'\\tFPR: {fpr}')"
      ],
      "metadata": {
        "id": "u29RVKEXk_dZ",
        "colab": {
          "base_uri": "https://localhost:8080/"
        },
        "outputId": "ff7975f1-36c4-4805-b602-500a8a46b804"
      },
      "execution_count": 81,
      "outputs": [
        {
          "output_type": "stream",
          "name": "stdout",
          "text": [
            "Scores of hybrid_model:\n",
            "\tUDR_TCP: 0.9290280626281827 (2317 / 199910)\n",
            "\tUDR_ICMP: 0.9682407020476389 (2317 / 2393)\n",
            "\tACC: 0.9213857822748045\n",
            "\tPPV: 0.9215801364220821\n",
            "\tTPR: 0.9220614510220735\n",
            "\tF1 : 0.9213726328565465\n",
            "\tAUC: 0.9220614510220736\n",
            "\tMCC: 0.8436414501442843\n",
            "\tFPR: 0.09725659161535088\n"
          ]
        }
      ]
    },
    {
      "cell_type": "code",
      "source": [
        "print(confusion_matrix(test['label'], y_pred))"
      ],
      "metadata": {
        "id": "ZdSwK4tulNyw",
        "colab": {
          "base_uri": "https://localhost:8080/"
        },
        "outputId": "7833d02a-41ef-44e1-840b-3fa8be1fb9aa"
      },
      "execution_count": 82,
      "outputs": [
        {
          "output_type": "stream",
          "name": "stdout",
          "text": [
            "[[236758  25507]\n",
            " [ 14335 230204]]\n"
          ]
        }
      ]
    },
    {
      "cell_type": "code",
      "source": [
        "print(classification_report(test['label'], y_pred))"
      ],
      "metadata": {
        "id": "arUu9wxWlOFo",
        "colab": {
          "base_uri": "https://localhost:8080/"
        },
        "outputId": "4b944ae9-9b54-4b05-95fd-9127a3df7c7e"
      },
      "execution_count": 83,
      "outputs": [
        {
          "output_type": "stream",
          "name": "stdout",
          "text": [
            "              precision    recall  f1-score   support\n",
            "\n",
            "           0       0.94      0.90      0.92    262265\n",
            "           1       0.90      0.94      0.92    244539\n",
            "\n",
            "    accuracy                           0.92    506804\n",
            "   macro avg       0.92      0.92      0.92    506804\n",
            "weighted avg       0.92      0.92      0.92    506804\n",
            "\n"
          ]
        }
      ]
    },
    {
      "cell_type": "markdown",
      "source": [
        "### Multiclass"
      ],
      "metadata": {
        "id": "eJmyhl97XzDm"
      }
    },
    {
      "cell_type": "code",
      "source": [
        "y_pred_multi = np.zeros_like(y_pred_1)"
      ],
      "metadata": {
        "id": "HHXbm3-yX1nv"
      },
      "execution_count": 84,
      "outputs": []
    },
    {
      "cell_type": "code",
      "source": [
        "y_pred_multi[novelty_pred]=1\n",
        "y_pred_multi[udp_pred]=2\n",
        "\n",
        "pd.DataFrame(y_pred_multi).value_counts()"
      ],
      "metadata": {
        "colab": {
          "base_uri": "https://localhost:8080/"
        },
        "id": "VhwKOUQ5X4eu",
        "outputId": "21ad5605-fb5f-4a03-c5b7-03effc0f9401"
      },
      "execution_count": 85,
      "outputs": [
        {
          "output_type": "execute_result",
          "data": {
            "text/plain": [
              "0    251093\n",
              "1    201710\n",
              "2     54001\n",
              "dtype: int64"
            ]
          },
          "metadata": {},
          "execution_count": 85
        }
      ]
    },
    {
      "cell_type": "code",
      "source": [
        "label_multi = test['label'].copy()\n",
        "label_multi[test['attackDescription_UDP'] == 1] = 2"
      ],
      "metadata": {
        "id": "_5xfuKKeX6Fs"
      },
      "execution_count": 86,
      "outputs": []
    },
    {
      "cell_type": "code",
      "source": [
        "print(confusion_matrix(label_multi, y_pred_multi))"
      ],
      "metadata": {
        "colab": {
          "base_uri": "https://localhost:8080/"
        },
        "id": "D0oKC-wAX7ok",
        "outputId": "b1c334e1-b53f-4afd-e7be-b48330134fa2"
      },
      "execution_count": 87,
      "outputs": [
        {
          "output_type": "stream",
          "name": "stdout",
          "text": [
            "[[236758  25430     77]\n",
            " [ 14273 165883  22386]\n",
            " [    62  10397  31538]]\n"
          ]
        }
      ]
    },
    {
      "cell_type": "code",
      "source": [
        "print(classification_report(label_multi, y_pred_multi))"
      ],
      "metadata": {
        "colab": {
          "base_uri": "https://localhost:8080/"
        },
        "id": "S5AwgNZjX_kZ",
        "outputId": "f20cf5ec-b104-49f1-e01d-9443dffed330"
      },
      "execution_count": 88,
      "outputs": [
        {
          "output_type": "stream",
          "name": "stdout",
          "text": [
            "              precision    recall  f1-score   support\n",
            "\n",
            "           0       0.94      0.90      0.92    262265\n",
            "           1       0.82      0.82      0.82    202542\n",
            "           2       0.58      0.75      0.66     41997\n",
            "\n",
            "    accuracy                           0.86    506804\n",
            "   macro avg       0.78      0.82      0.80    506804\n",
            "weighted avg       0.87      0.86      0.86    506804\n",
            "\n"
          ]
        }
      ]
    },
    {
      "cell_type": "markdown",
      "source": [
        "### Time"
      ],
      "metadata": {
        "id": "-V9Jai9IXy8q"
      }
    },
    {
      "cell_type": "code",
      "source": [
        "print(f'{len(X_test)/(execution_time_r1)} ({len(X_test)} / {execution_time_r1})')"
      ],
      "metadata": {
        "colab": {
          "base_uri": "https://localhost:8080/"
        },
        "id": "uOnkQBv5YCLW",
        "outputId": "3d0fab2e-d007-4ce1-cd0f-dcc0bdc47dea"
      },
      "execution_count": 89,
      "outputs": [
        {
          "output_type": "stream",
          "name": "stdout",
          "text": [
            "93544.78730886533 (506804 / 5.417768478393555)\n"
          ]
        }
      ]
    },
    {
      "cell_type": "code",
      "source": [
        "print(f'{len(X_test_2)/(execution_time_lof)} ({len(X_test_2)} / {execution_time_lof})')"
      ],
      "metadata": {
        "colab": {
          "base_uri": "https://localhost:8080/"
        },
        "id": "3B9PDJUvYMKs",
        "outputId": "603e5ecf-57fd-4c13-ede8-77e0a1521675"
      },
      "execution_count": 90,
      "outputs": [
        {
          "output_type": "stream",
          "name": "stdout",
          "text": [
            "270.7034419314607 (452803 / 1672.6902205944061)\n"
          ]
        }
      ]
    },
    {
      "cell_type": "code",
      "source": [
        "print(f'{len(X_test_3)/(execution_time_inne)} ({len(X_test_3)} / {execution_time_inne})')"
      ],
      "metadata": {
        "colab": {
          "base_uri": "https://localhost:8080/"
        },
        "id": "jSioNc9jYN6c",
        "outputId": "2d177b19-3b49-40b4-e67c-ae16e3a4e8c0"
      },
      "execution_count": 91,
      "outputs": [
        {
          "output_type": "stream",
          "name": "stdout",
          "text": [
            "7158.199993794837 (277017 / 38.69925403594971)\n"
          ]
        }
      ]
    },
    {
      "cell_type": "code",
      "source": [
        "total_time = execution_time_r1+execution_time_lof+execution_time_inne\n",
        "total_time"
      ],
      "metadata": {
        "colab": {
          "base_uri": "https://localhost:8080/"
        },
        "id": "fcIKbPisYP49",
        "outputId": "5cb1d1d9-0e71-4fc6-af42-b01af00b7b4d"
      },
      "execution_count": 92,
      "outputs": [
        {
          "output_type": "execute_result",
          "data": {
            "text/plain": [
              "1716.8072431087494"
            ]
          },
          "metadata": {},
          "execution_count": 92
        }
      ]
    },
    {
      "cell_type": "code",
      "source": [
        "# print(f'{len(test)/(total_time)} ({len(test)} / {total_time})')"
      ],
      "metadata": {
        "id": "g8Qf4g4xYUsB"
      },
      "execution_count": 93,
      "outputs": []
    }
  ]
}