{
  "cells": [
    {
      "cell_type": "markdown",
      "metadata": {
        "id": "MdE7M5oIV0x2"
      },
      "source": [
        "# IMPORT LIBRARIES"
      ]
    },
    {
      "cell_type": "code",
      "execution_count": 1,
      "metadata": {
        "id": "tTcMnHTNUcj_"
      },
      "outputs": [],
      "source": [
        "import pandas as pd\n",
        "import numpy as np\n",
        "import matplotlib.pyplot as plt\n",
        "import seaborn as sns\n",
        "import time\n",
        "\n",
        "from sklearn.model_selection import train_test_split\n",
        "from sklearn.preprocessing import MinMaxScaler\n",
        "from sklearn.ensemble import RandomForestClassifier\n",
        "from sklearn.preprocessing import LabelEncoder\n",
        "\n",
        "from sklearn.metrics import *\n",
        "\n",
        "import keras\n",
        "from keras.layers import Conv2D, Conv1D, MaxPooling2D, MaxPooling1D, Flatten, BatchNormalization, Dense, Dropout,GlobalMaxPooling1D\n",
        "from keras.src.utils.np_utils import to_categorical\n",
        "from keras.models import Sequential\n",
        "\n",
        "np.random.seed(0)\n",
        "%matplotlib inline\n",
        "pd.set_option('display.max_columns', None)"
      ]
    },
    {
      "cell_type": "code",
      "execution_count": 2,
      "metadata": {
        "colab": {
          "base_uri": "https://localhost:8080/"
        },
        "id": "QxRAC-gsWCR4",
        "outputId": "83809aca-2d7e-4096-fbc6-846ca9041733"
      },
      "outputs": [
        {
          "output_type": "stream",
          "name": "stdout",
          "text": [
            "Mounted at /content/drive\n"
          ]
        }
      ],
      "source": [
        "from google.colab import drive\n",
        "drive.mount('/content/drive')"
      ]
    },
    {
      "cell_type": "markdown",
      "metadata": {
        "id": "3WpViLBtWFqk"
      },
      "source": [
        "# **Preprocessing Data**"
      ]
    },
    {
      "cell_type": "code",
      "execution_count": 3,
      "metadata": {
        "colab": {
          "base_uri": "https://localhost:8080/",
          "height": 493
        },
        "id": "g4q8fHxjWFDR",
        "outputId": "bbd8556b-677a-461b-c274-54f01c1f975a"
      },
      "outputs": [
        {
          "output_type": "stream",
          "name": "stderr",
          "text": [
            "<ipython-input-3-b0948c52b01b>:1: DtypeWarning: Columns (8,14) have mixed types. Specify dtype option on import or set low_memory=False.\n",
            "  df1 = pd.read_csv(\"/content/drive/MyDrive/Colab Notebooks/data/CIDDS-001/reduced_cidds_001_normal_portscan_pingscan.csv\")\n",
            "<ipython-input-3-b0948c52b01b>:4: DtypeWarning: Columns (8,14) have mixed types. Specify dtype option on import or set low_memory=False.\n",
            "  df2 = pd.read_csv('/content/drive/MyDrive/Colab Notebooks/data/CIDDS-002/reduced_cidds_002_normal_scan.csv')\n"
          ]
        },
        {
          "output_type": "execute_result",
          "data": {
            "text/plain": [
              "                 Date first seen  Duration  Proto     Src IP Addr  Src Pt  \\\n",
              "0        2017-03-23 13:40:24.221     0.134  TCP         10305_148     443   \n",
              "1        2017-03-22 16:15:56.404     0.000  TCP         10001_230     443   \n",
              "2        2017-04-18 10:09:51.492     0.508  TCP         16796_188     443   \n",
              "3        2017-03-15 11:23:38.445     0.095  TCP           10068_2     443   \n",
              "4        2017-03-23 16:59:50.774     0.000  TCP          15306_50      80   \n",
              "...                          ...       ...    ...             ...     ...   \n",
              "5231831  2017-08-08 19:52:49.297     0.000  TCP    192.168.210.56    5907   \n",
              "5231832  2017-08-08 19:52:49.296     0.000  TCP    192.168.210.56       3   \n",
              "5231833  2017-08-08 19:52:49.296     0.000  TCP    192.168.210.56   32778   \n",
              "5231834  2017-08-08 19:52:49.296     0.000  TCP    192.168.210.56    8800   \n",
              "5231835  2017-08-08 19:52:49.288     0.000  TCP    192.168.220.51   47529   \n",
              "\n",
              "            Dst IP Addr   Dst Pt  Packets     Bytes  Flows   Flags  Tos  \\\n",
              "0         192.168.210.5  50210.0        5       449      1  .AP.S.   32   \n",
              "1        192.168.220.15  44214.0        1       462      1  .AP...    0   \n",
              "2         192.168.200.4  42941.0        7      6203      1  .AP.S.   32   \n",
              "3         192.168.220.8  58538.0        5      1246      1  .AP...   32   \n",
              "4        192.168.220.13  41670.0        1        66      1  .A....   32   \n",
              "...                 ...      ...      ...       ...    ...     ...  ...   \n",
              "5231831  192.168.220.51  47529.0        1        54      1  .A.R..    0   \n",
              "5231832  192.168.220.51  47529.0        1        54      1  .A.R..    0   \n",
              "5231833  192.168.220.51  47529.0        1        54      1  .A.R..    0   \n",
              "5231834  192.168.220.51  47529.0        1        54      1  .A.R..    0   \n",
              "5231835  192.168.210.56   6881.0        1        58      1  ....S.    0   \n",
              "\n",
              "            label attackType attackID    attackDescription  \n",
              "0          normal        ---      ---                  ---  \n",
              "1          normal        ---      ---                  ---  \n",
              "2          normal        ---      ---                  ---  \n",
              "3          normal        ---      ---                  ---  \n",
              "4          normal        ---      ---                  ---  \n",
              "...           ...        ...      ...                  ...  \n",
              "5231831    victim       scan       20  nmap args: -sS -T 2  \n",
              "5231832    victim       scan       20  nmap args: -sS -T 2  \n",
              "5231833    victim       scan       20  nmap args: -sS -T 2  \n",
              "5231834    victim       scan       20  nmap args: -sS -T 2  \n",
              "5231835  attacker       scan       20  nmap args: -sS -T 2  \n",
              "\n",
              "[5231836 rows x 16 columns]"
            ],
            "text/html": [
              "\n",
              "  <div id=\"df-28e4a420-5a2d-405e-94ec-48e58fec4614\" class=\"colab-df-container\">\n",
              "    <div>\n",
              "<style scoped>\n",
              "    .dataframe tbody tr th:only-of-type {\n",
              "        vertical-align: middle;\n",
              "    }\n",
              "\n",
              "    .dataframe tbody tr th {\n",
              "        vertical-align: top;\n",
              "    }\n",
              "\n",
              "    .dataframe thead th {\n",
              "        text-align: right;\n",
              "    }\n",
              "</style>\n",
              "<table border=\"1\" class=\"dataframe\">\n",
              "  <thead>\n",
              "    <tr style=\"text-align: right;\">\n",
              "      <th></th>\n",
              "      <th>Date first seen</th>\n",
              "      <th>Duration</th>\n",
              "      <th>Proto</th>\n",
              "      <th>Src IP Addr</th>\n",
              "      <th>Src Pt</th>\n",
              "      <th>Dst IP Addr</th>\n",
              "      <th>Dst Pt</th>\n",
              "      <th>Packets</th>\n",
              "      <th>Bytes</th>\n",
              "      <th>Flows</th>\n",
              "      <th>Flags</th>\n",
              "      <th>Tos</th>\n",
              "      <th>label</th>\n",
              "      <th>attackType</th>\n",
              "      <th>attackID</th>\n",
              "      <th>attackDescription</th>\n",
              "    </tr>\n",
              "  </thead>\n",
              "  <tbody>\n",
              "    <tr>\n",
              "      <th>0</th>\n",
              "      <td>2017-03-23 13:40:24.221</td>\n",
              "      <td>0.134</td>\n",
              "      <td>TCP</td>\n",
              "      <td>10305_148</td>\n",
              "      <td>443</td>\n",
              "      <td>192.168.210.5</td>\n",
              "      <td>50210.0</td>\n",
              "      <td>5</td>\n",
              "      <td>449</td>\n",
              "      <td>1</td>\n",
              "      <td>.AP.S.</td>\n",
              "      <td>32</td>\n",
              "      <td>normal</td>\n",
              "      <td>---</td>\n",
              "      <td>---</td>\n",
              "      <td>---</td>\n",
              "    </tr>\n",
              "    <tr>\n",
              "      <th>1</th>\n",
              "      <td>2017-03-22 16:15:56.404</td>\n",
              "      <td>0.000</td>\n",
              "      <td>TCP</td>\n",
              "      <td>10001_230</td>\n",
              "      <td>443</td>\n",
              "      <td>192.168.220.15</td>\n",
              "      <td>44214.0</td>\n",
              "      <td>1</td>\n",
              "      <td>462</td>\n",
              "      <td>1</td>\n",
              "      <td>.AP...</td>\n",
              "      <td>0</td>\n",
              "      <td>normal</td>\n",
              "      <td>---</td>\n",
              "      <td>---</td>\n",
              "      <td>---</td>\n",
              "    </tr>\n",
              "    <tr>\n",
              "      <th>2</th>\n",
              "      <td>2017-04-18 10:09:51.492</td>\n",
              "      <td>0.508</td>\n",
              "      <td>TCP</td>\n",
              "      <td>16796_188</td>\n",
              "      <td>443</td>\n",
              "      <td>192.168.200.4</td>\n",
              "      <td>42941.0</td>\n",
              "      <td>7</td>\n",
              "      <td>6203</td>\n",
              "      <td>1</td>\n",
              "      <td>.AP.S.</td>\n",
              "      <td>32</td>\n",
              "      <td>normal</td>\n",
              "      <td>---</td>\n",
              "      <td>---</td>\n",
              "      <td>---</td>\n",
              "    </tr>\n",
              "    <tr>\n",
              "      <th>3</th>\n",
              "      <td>2017-03-15 11:23:38.445</td>\n",
              "      <td>0.095</td>\n",
              "      <td>TCP</td>\n",
              "      <td>10068_2</td>\n",
              "      <td>443</td>\n",
              "      <td>192.168.220.8</td>\n",
              "      <td>58538.0</td>\n",
              "      <td>5</td>\n",
              "      <td>1246</td>\n",
              "      <td>1</td>\n",
              "      <td>.AP...</td>\n",
              "      <td>32</td>\n",
              "      <td>normal</td>\n",
              "      <td>---</td>\n",
              "      <td>---</td>\n",
              "      <td>---</td>\n",
              "    </tr>\n",
              "    <tr>\n",
              "      <th>4</th>\n",
              "      <td>2017-03-23 16:59:50.774</td>\n",
              "      <td>0.000</td>\n",
              "      <td>TCP</td>\n",
              "      <td>15306_50</td>\n",
              "      <td>80</td>\n",
              "      <td>192.168.220.13</td>\n",
              "      <td>41670.0</td>\n",
              "      <td>1</td>\n",
              "      <td>66</td>\n",
              "      <td>1</td>\n",
              "      <td>.A....</td>\n",
              "      <td>32</td>\n",
              "      <td>normal</td>\n",
              "      <td>---</td>\n",
              "      <td>---</td>\n",
              "      <td>---</td>\n",
              "    </tr>\n",
              "    <tr>\n",
              "      <th>...</th>\n",
              "      <td>...</td>\n",
              "      <td>...</td>\n",
              "      <td>...</td>\n",
              "      <td>...</td>\n",
              "      <td>...</td>\n",
              "      <td>...</td>\n",
              "      <td>...</td>\n",
              "      <td>...</td>\n",
              "      <td>...</td>\n",
              "      <td>...</td>\n",
              "      <td>...</td>\n",
              "      <td>...</td>\n",
              "      <td>...</td>\n",
              "      <td>...</td>\n",
              "      <td>...</td>\n",
              "      <td>...</td>\n",
              "    </tr>\n",
              "    <tr>\n",
              "      <th>5231831</th>\n",
              "      <td>2017-08-08 19:52:49.297</td>\n",
              "      <td>0.000</td>\n",
              "      <td>TCP</td>\n",
              "      <td>192.168.210.56</td>\n",
              "      <td>5907</td>\n",
              "      <td>192.168.220.51</td>\n",
              "      <td>47529.0</td>\n",
              "      <td>1</td>\n",
              "      <td>54</td>\n",
              "      <td>1</td>\n",
              "      <td>.A.R..</td>\n",
              "      <td>0</td>\n",
              "      <td>victim</td>\n",
              "      <td>scan</td>\n",
              "      <td>20</td>\n",
              "      <td>nmap args: -sS -T 2</td>\n",
              "    </tr>\n",
              "    <tr>\n",
              "      <th>5231832</th>\n",
              "      <td>2017-08-08 19:52:49.296</td>\n",
              "      <td>0.000</td>\n",
              "      <td>TCP</td>\n",
              "      <td>192.168.210.56</td>\n",
              "      <td>3</td>\n",
              "      <td>192.168.220.51</td>\n",
              "      <td>47529.0</td>\n",
              "      <td>1</td>\n",
              "      <td>54</td>\n",
              "      <td>1</td>\n",
              "      <td>.A.R..</td>\n",
              "      <td>0</td>\n",
              "      <td>victim</td>\n",
              "      <td>scan</td>\n",
              "      <td>20</td>\n",
              "      <td>nmap args: -sS -T 2</td>\n",
              "    </tr>\n",
              "    <tr>\n",
              "      <th>5231833</th>\n",
              "      <td>2017-08-08 19:52:49.296</td>\n",
              "      <td>0.000</td>\n",
              "      <td>TCP</td>\n",
              "      <td>192.168.210.56</td>\n",
              "      <td>32778</td>\n",
              "      <td>192.168.220.51</td>\n",
              "      <td>47529.0</td>\n",
              "      <td>1</td>\n",
              "      <td>54</td>\n",
              "      <td>1</td>\n",
              "      <td>.A.R..</td>\n",
              "      <td>0</td>\n",
              "      <td>victim</td>\n",
              "      <td>scan</td>\n",
              "      <td>20</td>\n",
              "      <td>nmap args: -sS -T 2</td>\n",
              "    </tr>\n",
              "    <tr>\n",
              "      <th>5231834</th>\n",
              "      <td>2017-08-08 19:52:49.296</td>\n",
              "      <td>0.000</td>\n",
              "      <td>TCP</td>\n",
              "      <td>192.168.210.56</td>\n",
              "      <td>8800</td>\n",
              "      <td>192.168.220.51</td>\n",
              "      <td>47529.0</td>\n",
              "      <td>1</td>\n",
              "      <td>54</td>\n",
              "      <td>1</td>\n",
              "      <td>.A.R..</td>\n",
              "      <td>0</td>\n",
              "      <td>victim</td>\n",
              "      <td>scan</td>\n",
              "      <td>20</td>\n",
              "      <td>nmap args: -sS -T 2</td>\n",
              "    </tr>\n",
              "    <tr>\n",
              "      <th>5231835</th>\n",
              "      <td>2017-08-08 19:52:49.288</td>\n",
              "      <td>0.000</td>\n",
              "      <td>TCP</td>\n",
              "      <td>192.168.220.51</td>\n",
              "      <td>47529</td>\n",
              "      <td>192.168.210.56</td>\n",
              "      <td>6881.0</td>\n",
              "      <td>1</td>\n",
              "      <td>58</td>\n",
              "      <td>1</td>\n",
              "      <td>....S.</td>\n",
              "      <td>0</td>\n",
              "      <td>attacker</td>\n",
              "      <td>scan</td>\n",
              "      <td>20</td>\n",
              "      <td>nmap args: -sS -T 2</td>\n",
              "    </tr>\n",
              "  </tbody>\n",
              "</table>\n",
              "<p>5231836 rows × 16 columns</p>\n",
              "</div>\n",
              "    <div class=\"colab-df-buttons\">\n",
              "\n",
              "  <div class=\"colab-df-container\">\n",
              "    <button class=\"colab-df-convert\" onclick=\"convertToInteractive('df-28e4a420-5a2d-405e-94ec-48e58fec4614')\"\n",
              "            title=\"Convert this dataframe to an interactive table.\"\n",
              "            style=\"display:none;\">\n",
              "\n",
              "  <svg xmlns=\"http://www.w3.org/2000/svg\" height=\"24px\" viewBox=\"0 -960 960 960\">\n",
              "    <path d=\"M120-120v-720h720v720H120Zm60-500h600v-160H180v160Zm220 220h160v-160H400v160Zm0 220h160v-160H400v160ZM180-400h160v-160H180v160Zm440 0h160v-160H620v160ZM180-180h160v-160H180v160Zm440 0h160v-160H620v160Z\"/>\n",
              "  </svg>\n",
              "    </button>\n",
              "\n",
              "  <style>\n",
              "    .colab-df-container {\n",
              "      display:flex;\n",
              "      gap: 12px;\n",
              "    }\n",
              "\n",
              "    .colab-df-convert {\n",
              "      background-color: #E8F0FE;\n",
              "      border: none;\n",
              "      border-radius: 50%;\n",
              "      cursor: pointer;\n",
              "      display: none;\n",
              "      fill: #1967D2;\n",
              "      height: 32px;\n",
              "      padding: 0 0 0 0;\n",
              "      width: 32px;\n",
              "    }\n",
              "\n",
              "    .colab-df-convert:hover {\n",
              "      background-color: #E2EBFA;\n",
              "      box-shadow: 0px 1px 2px rgba(60, 64, 67, 0.3), 0px 1px 3px 1px rgba(60, 64, 67, 0.15);\n",
              "      fill: #174EA6;\n",
              "    }\n",
              "\n",
              "    .colab-df-buttons div {\n",
              "      margin-bottom: 4px;\n",
              "    }\n",
              "\n",
              "    [theme=dark] .colab-df-convert {\n",
              "      background-color: #3B4455;\n",
              "      fill: #D2E3FC;\n",
              "    }\n",
              "\n",
              "    [theme=dark] .colab-df-convert:hover {\n",
              "      background-color: #434B5C;\n",
              "      box-shadow: 0px 1px 3px 1px rgba(0, 0, 0, 0.15);\n",
              "      filter: drop-shadow(0px 1px 2px rgba(0, 0, 0, 0.3));\n",
              "      fill: #FFFFFF;\n",
              "    }\n",
              "  </style>\n",
              "\n",
              "    <script>\n",
              "      const buttonEl =\n",
              "        document.querySelector('#df-28e4a420-5a2d-405e-94ec-48e58fec4614 button.colab-df-convert');\n",
              "      buttonEl.style.display =\n",
              "        google.colab.kernel.accessAllowed ? 'block' : 'none';\n",
              "\n",
              "      async function convertToInteractive(key) {\n",
              "        const element = document.querySelector('#df-28e4a420-5a2d-405e-94ec-48e58fec4614');\n",
              "        const dataTable =\n",
              "          await google.colab.kernel.invokeFunction('convertToInteractive',\n",
              "                                                    [key], {});\n",
              "        if (!dataTable) return;\n",
              "\n",
              "        const docLinkHtml = 'Like what you see? Visit the ' +\n",
              "          '<a target=\"_blank\" href=https://colab.research.google.com/notebooks/data_table.ipynb>data table notebook</a>'\n",
              "          + ' to learn more about interactive tables.';\n",
              "        element.innerHTML = '';\n",
              "        dataTable['output_type'] = 'display_data';\n",
              "        await google.colab.output.renderOutput(dataTable, element);\n",
              "        const docLink = document.createElement('div');\n",
              "        docLink.innerHTML = docLinkHtml;\n",
              "        element.appendChild(docLink);\n",
              "      }\n",
              "    </script>\n",
              "  </div>\n",
              "\n",
              "\n",
              "<div id=\"df-326c4496-f164-4331-bb60-f8d7bca8519c\">\n",
              "  <button class=\"colab-df-quickchart\" onclick=\"quickchart('df-326c4496-f164-4331-bb60-f8d7bca8519c')\"\n",
              "            title=\"Suggest charts.\"\n",
              "            style=\"display:none;\">\n",
              "\n",
              "<svg xmlns=\"http://www.w3.org/2000/svg\" height=\"24px\"viewBox=\"0 0 24 24\"\n",
              "     width=\"24px\">\n",
              "    <g>\n",
              "        <path d=\"M19 3H5c-1.1 0-2 .9-2 2v14c0 1.1.9 2 2 2h14c1.1 0 2-.9 2-2V5c0-1.1-.9-2-2-2zM9 17H7v-7h2v7zm4 0h-2V7h2v10zm4 0h-2v-4h2v4z\"/>\n",
              "    </g>\n",
              "</svg>\n",
              "  </button>\n",
              "\n",
              "<style>\n",
              "  .colab-df-quickchart {\n",
              "      --bg-color: #E8F0FE;\n",
              "      --fill-color: #1967D2;\n",
              "      --hover-bg-color: #E2EBFA;\n",
              "      --hover-fill-color: #174EA6;\n",
              "      --disabled-fill-color: #AAA;\n",
              "      --disabled-bg-color: #DDD;\n",
              "  }\n",
              "\n",
              "  [theme=dark] .colab-df-quickchart {\n",
              "      --bg-color: #3B4455;\n",
              "      --fill-color: #D2E3FC;\n",
              "      --hover-bg-color: #434B5C;\n",
              "      --hover-fill-color: #FFFFFF;\n",
              "      --disabled-bg-color: #3B4455;\n",
              "      --disabled-fill-color: #666;\n",
              "  }\n",
              "\n",
              "  .colab-df-quickchart {\n",
              "    background-color: var(--bg-color);\n",
              "    border: none;\n",
              "    border-radius: 50%;\n",
              "    cursor: pointer;\n",
              "    display: none;\n",
              "    fill: var(--fill-color);\n",
              "    height: 32px;\n",
              "    padding: 0;\n",
              "    width: 32px;\n",
              "  }\n",
              "\n",
              "  .colab-df-quickchart:hover {\n",
              "    background-color: var(--hover-bg-color);\n",
              "    box-shadow: 0 1px 2px rgba(60, 64, 67, 0.3), 0 1px 3px 1px rgba(60, 64, 67, 0.15);\n",
              "    fill: var(--button-hover-fill-color);\n",
              "  }\n",
              "\n",
              "  .colab-df-quickchart-complete:disabled,\n",
              "  .colab-df-quickchart-complete:disabled:hover {\n",
              "    background-color: var(--disabled-bg-color);\n",
              "    fill: var(--disabled-fill-color);\n",
              "    box-shadow: none;\n",
              "  }\n",
              "\n",
              "  .colab-df-spinner {\n",
              "    border: 2px solid var(--fill-color);\n",
              "    border-color: transparent;\n",
              "    border-bottom-color: var(--fill-color);\n",
              "    animation:\n",
              "      spin 1s steps(1) infinite;\n",
              "  }\n",
              "\n",
              "  @keyframes spin {\n",
              "    0% {\n",
              "      border-color: transparent;\n",
              "      border-bottom-color: var(--fill-color);\n",
              "      border-left-color: var(--fill-color);\n",
              "    }\n",
              "    20% {\n",
              "      border-color: transparent;\n",
              "      border-left-color: var(--fill-color);\n",
              "      border-top-color: var(--fill-color);\n",
              "    }\n",
              "    30% {\n",
              "      border-color: transparent;\n",
              "      border-left-color: var(--fill-color);\n",
              "      border-top-color: var(--fill-color);\n",
              "      border-right-color: var(--fill-color);\n",
              "    }\n",
              "    40% {\n",
              "      border-color: transparent;\n",
              "      border-right-color: var(--fill-color);\n",
              "      border-top-color: var(--fill-color);\n",
              "    }\n",
              "    60% {\n",
              "      border-color: transparent;\n",
              "      border-right-color: var(--fill-color);\n",
              "    }\n",
              "    80% {\n",
              "      border-color: transparent;\n",
              "      border-right-color: var(--fill-color);\n",
              "      border-bottom-color: var(--fill-color);\n",
              "    }\n",
              "    90% {\n",
              "      border-color: transparent;\n",
              "      border-bottom-color: var(--fill-color);\n",
              "    }\n",
              "  }\n",
              "</style>\n",
              "\n",
              "  <script>\n",
              "    async function quickchart(key) {\n",
              "      const quickchartButtonEl =\n",
              "        document.querySelector('#' + key + ' button');\n",
              "      quickchartButtonEl.disabled = true;  // To prevent multiple clicks.\n",
              "      quickchartButtonEl.classList.add('colab-df-spinner');\n",
              "      try {\n",
              "        const charts = await google.colab.kernel.invokeFunction(\n",
              "            'suggestCharts', [key], {});\n",
              "      } catch (error) {\n",
              "        console.error('Error during call to suggestCharts:', error);\n",
              "      }\n",
              "      quickchartButtonEl.classList.remove('colab-df-spinner');\n",
              "      quickchartButtonEl.classList.add('colab-df-quickchart-complete');\n",
              "    }\n",
              "    (() => {\n",
              "      let quickchartButtonEl =\n",
              "        document.querySelector('#df-326c4496-f164-4331-bb60-f8d7bca8519c button');\n",
              "      quickchartButtonEl.style.display =\n",
              "        google.colab.kernel.accessAllowed ? 'block' : 'none';\n",
              "    })();\n",
              "  </script>\n",
              "</div>\n",
              "    </div>\n",
              "  </div>\n"
            ]
          },
          "metadata": {},
          "execution_count": 3
        }
      ],
      "source": [
        "df1 = pd.read_csv(\"/content/drive/MyDrive/Colab Notebooks/data/CIDDS-001/reduced_cidds_001_normal_portscan_pingscan.csv\")\n",
        "df1 = df1.rename(columns={'class': 'label'})\n",
        "\n",
        "df2 = pd.read_csv('/content/drive/MyDrive/Colab Notebooks/data/CIDDS-002/reduced_cidds_002_normal_scan.csv')\n",
        "\n",
        "df = pd.concat([df1, df2], ignore_index=True)\n",
        "df"
      ]
    },
    {
      "cell_type": "code",
      "execution_count": 4,
      "metadata": {
        "colab": {
          "base_uri": "https://localhost:8080/"
        },
        "id": "9fZ7PHG66ERc",
        "outputId": "ae16bb98-0f5c-4cd4-dfe6-23b72884b6cf"
      },
      "outputs": [
        {
          "output_type": "execute_result",
          "data": {
            "text/plain": [
              "Index(['Date first seen', 'Proto', 'Src IP Addr', 'Dst IP Addr', 'Bytes',\n",
              "       'Flags', 'label', 'attackType', 'attackID', 'attackDescription'],\n",
              "      dtype='object')"
            ]
          },
          "metadata": {},
          "execution_count": 4
        }
      ],
      "source": [
        "df.select_dtypes(include=['object']).columns"
      ]
    },
    {
      "cell_type": "code",
      "execution_count": 5,
      "metadata": {
        "colab": {
          "base_uri": "https://localhost:8080/"
        },
        "id": "Mp891AAjrNWj",
        "outputId": "efe9a430-5e52-4c18-c46e-f1bbaa0b3a6e"
      },
      "outputs": [
        {
          "output_type": "execute_result",
          "data": {
            "text/plain": [
              "Date first seen      0\n",
              "Duration             0\n",
              "Proto                0\n",
              "Src IP Addr          0\n",
              "Src Pt               0\n",
              "Dst IP Addr          0\n",
              "Dst Pt               0\n",
              "Packets              0\n",
              "Bytes                0\n",
              "Flows                0\n",
              "Flags                0\n",
              "Tos                  0\n",
              "label                0\n",
              "attackType           0\n",
              "attackID             0\n",
              "attackDescription    0\n",
              "dtype: int64"
            ]
          },
          "metadata": {},
          "execution_count": 5
        }
      ],
      "source": [
        "df.isna().sum()"
      ]
    },
    {
      "cell_type": "code",
      "execution_count": 6,
      "metadata": {
        "colab": {
          "base_uri": "https://localhost:8080/"
        },
        "id": "lub9xJ76rUT8",
        "outputId": "c4c97f38-7f0e-48e8-ec05-ea07891a8b9b"
      },
      "outputs": [
        {
          "output_type": "execute_result",
          "data": {
            "text/plain": [
              "36568"
            ]
          },
          "metadata": {},
          "execution_count": 6
        }
      ],
      "source": [
        "df.duplicated().sum()"
      ]
    },
    {
      "cell_type": "code",
      "execution_count": 7,
      "metadata": {
        "colab": {
          "base_uri": "https://localhost:8080/"
        },
        "id": "3JoH7dIXtMbf",
        "outputId": "df0f697f-1baf-4b71-f244-b3f930627396"
      },
      "outputs": [
        {
          "output_type": "execute_result",
          "data": {
            "text/plain": [
              "(5195268, 16)"
            ]
          },
          "metadata": {},
          "execution_count": 7
        }
      ],
      "source": [
        "df.drop_duplicates(inplace = True)\n",
        "df.shape"
      ]
    },
    {
      "cell_type": "code",
      "execution_count": 8,
      "metadata": {
        "colab": {
          "base_uri": "https://localhost:8080/"
        },
        "id": "42xz6TqS66r1",
        "outputId": "bd08cc90-d9fd-475c-a318-fbf1e9bc5d4e"
      },
      "outputs": [
        {
          "output_type": "execute_result",
          "data": {
            "text/plain": [
              "TCP      4386603\n",
              "UDP       744306\n",
              "ICMP       64206\n",
              "IGMP         153\n",
              "Name: Proto, dtype: int64"
            ]
          },
          "metadata": {},
          "execution_count": 8
        }
      ],
      "source": [
        "df['Proto'].value_counts()"
      ]
    },
    {
      "cell_type": "code",
      "execution_count": 9,
      "metadata": {
        "colab": {
          "base_uri": "https://localhost:8080/"
        },
        "id": "rUz9qXS56-kn",
        "outputId": "34f10545-a5b2-4a86-db6c-2bae33463050"
      },
      "outputs": [
        {
          "output_type": "execute_result",
          "data": {
            "text/plain": [
              "      66    1236773\n",
              "54           416949\n",
              "58           211005\n",
              "      54     160471\n",
              "      55     139482\n",
              "             ...   \n",
              "   54222          1\n",
              "   81674          1\n",
              "   19389          1\n",
              "   35240          1\n",
              "20573             1\n",
              "Name: Bytes, Length: 84192, dtype: int64"
            ]
          },
          "metadata": {},
          "execution_count": 9
        }
      ],
      "source": [
        "df['Bytes'].astype('str').value_counts()"
      ]
    },
    {
      "cell_type": "code",
      "execution_count": 10,
      "metadata": {
        "colab": {
          "base_uri": "https://localhost:8080/"
        },
        "id": "sgyBQazm7DNM",
        "outputId": "89e76247-aa7f-4514-8c54-9a054f183f7e"
      },
      "outputs": [
        {
          "output_type": "execute_result",
          "data": {
            "text/plain": [
              ".A....    1570689\n",
              "......     808665\n",
              ".AP...     700075\n",
              ".AP.S.     550334\n",
              ".A...F     386492\n",
              ".A.R..     238101\n",
              "....S.     225951\n",
              ".AP..F     170048\n",
              ".A..S.     142218\n",
              ".AP.SF     136838\n",
              ".....F     112958\n",
              "...R..      58520\n",
              ".APRSF      34740\n",
              ".APR.F      32791\n",
              ".A..SF       6646\n",
              "...RS.       6176\n",
              ".A.R.F       5660\n",
              ".APRS.       4334\n",
              ".APR..       3703\n",
              ".A.RS.        230\n",
              ".A.RSF         99\n",
              "Name: Flags, dtype: int64"
            ]
          },
          "metadata": {},
          "execution_count": 10
        }
      ],
      "source": [
        "df['Flags'].value_counts()"
      ]
    },
    {
      "cell_type": "code",
      "execution_count": 11,
      "metadata": {
        "colab": {
          "base_uri": "https://localhost:8080/"
        },
        "id": "d6sqj0uq7Z4F",
        "outputId": "469c17ad-a0c7-4610-cd53-ca3fa7985f4d"
      },
      "outputs": [
        {
          "output_type": "execute_result",
          "data": {
            "text/plain": [
              "normal      4378392\n",
              "attacker     511295\n",
              "victim       305581\n",
              "Name: label, dtype: int64"
            ]
          },
          "metadata": {},
          "execution_count": 11
        }
      ],
      "source": [
        "df['label'].value_counts()"
      ]
    },
    {
      "cell_type": "code",
      "execution_count": 12,
      "metadata": {
        "colab": {
          "base_uri": "https://localhost:8080/"
        },
        "id": "xQxaFL_p7mnX",
        "outputId": "1d900b69-07c0-4e97-8a5f-23be87c44f99"
      },
      "outputs": [
        {
          "output_type": "execute_result",
          "data": {
            "text/plain": [
              "---         4378392\n",
              "scan         534561\n",
              "portScan     276234\n",
              "pingScan       6081\n",
              "Name: attackType, dtype: int64"
            ]
          },
          "metadata": {},
          "execution_count": 12
        }
      ],
      "source": [
        "df['attackType'].value_counts()"
      ]
    },
    {
      "cell_type": "code",
      "execution_count": 13,
      "metadata": {
        "colab": {
          "base_uri": "https://localhost:8080/"
        },
        "id": "bPl-eysZwMhY",
        "outputId": "b480b9b1-f822-4836-ef07-39fe578b9f90"
      },
      "outputs": [
        {
          "output_type": "execute_result",
          "data": {
            "text/plain": [
              "---    4378392\n",
              "11       54703\n",
              "17       53283\n",
              "20       46916\n",
              "32       43312\n",
              "        ...   \n",
              "57         522\n",
              "58         509\n",
              "65         371\n",
              "66         359\n",
              "69         359\n",
              "Name: attackID, Length: 68, dtype: int64"
            ]
          },
          "metadata": {},
          "execution_count": 13
        }
      ],
      "source": [
        "df['attackID'].value_counts()"
      ]
    },
    {
      "cell_type": "code",
      "execution_count": 14,
      "metadata": {
        "colab": {
          "base_uri": "https://localhost:8080/"
        },
        "id": "AUjDfuVLWXOs",
        "outputId": "fcd32bef-58de-4dc9-86d6-12177d09d099"
      },
      "outputs": [
        {
          "output_type": "execute_result",
          "data": {
            "text/plain": [
              "---                           4382402\n",
              "nmap args: -sS -T 2            185630\n",
              "nmap args: -sF -T 3            109847\n",
              "nmap args: -sS -T 1            107124\n",
              "nmap args: -sS -T 3             93085\n",
              "nmap args: -sU -T 2             86393\n",
              "nmap args: -sF -T 2             63665\n",
              "nmap args: -sA -T 3             50084\n",
              "nmap args: -sF -T 1             34707\n",
              "nmap args: -sU -T 3             27749\n",
              "nmap args: -sU -T 1             20713\n",
              "nmap args: -sA -T 1             17027\n",
              "nmap args: -sA -T 2              4436\n",
              "nmap args: -sU -T 0              4398\n",
              "nmap args: -n -sP -PE -T 2       3731\n",
              "nmap args: -n -sP -PE -T 1       3440\n",
              "nmap args: -n -sP -PE -T 3        837\n",
              "Name: attackDescription, dtype: int64"
            ]
          },
          "metadata": {},
          "execution_count": 14
        }
      ],
      "source": [
        "df['attackDescription'].value_counts()"
      ]
    },
    {
      "cell_type": "markdown",
      "metadata": {
        "id": "a_ZPBHEHW1Hs"
      },
      "source": [
        "### Rename label"
      ]
    },
    {
      "cell_type": "code",
      "execution_count": 15,
      "metadata": {
        "colab": {
          "base_uri": "https://localhost:8080/"
        },
        "id": "MtJr9F389Umg",
        "outputId": "8bc976bd-9268-4fdb-bb86-21437741a824"
      },
      "outputs": [
        {
          "output_type": "execute_result",
          "data": {
            "text/plain": [
              "0_normal    4378392\n",
              "attacker     511295\n",
              "victim       305581\n",
              "Name: label, dtype: int64"
            ]
          },
          "metadata": {},
          "execution_count": 15
        }
      ],
      "source": [
        "df['label'] = df['label'].replace(['normal'], '0_normal')\n",
        "df['label'].value_counts()"
      ]
    },
    {
      "cell_type": "code",
      "execution_count": 16,
      "metadata": {
        "colab": {
          "base_uri": "https://localhost:8080/"
        },
        "id": "_HxcxCTKXVMH",
        "outputId": "8befc2ca-19b8-4fde-cc58-a907a85604e1"
      },
      "outputs": [
        {
          "output_type": "execute_result",
          "data": {
            "text/plain": [
              "0_normal    4378392\n",
              "attack       816876\n",
              "Name: label, dtype: int64"
            ]
          },
          "metadata": {},
          "execution_count": 16
        }
      ],
      "source": [
        "df['label'] = df['label'].replace(['attacker', 'victim'], 'attack')\n",
        "df['label'].value_counts()"
      ]
    },
    {
      "cell_type": "code",
      "execution_count": 17,
      "metadata": {
        "colab": {
          "base_uri": "https://localhost:8080/"
        },
        "id": "CYPGihf3WZNP",
        "outputId": "e160090d-70fc-475f-e49d-4a78670d9bfc"
      },
      "outputs": [
        {
          "output_type": "execute_result",
          "data": {
            "text/plain": [
              "normal       4382402\n",
              "SYN Scan      385839\n",
              "FIN Scan      208219\n",
              "UDP Scan      139253\n",
              "ACK Scan       71547\n",
              "Ping Scan       8008\n",
              "Name: attackDescription, dtype: int64"
            ]
          },
          "metadata": {},
          "execution_count": 17
        }
      ],
      "source": [
        "df['attackDescription'] = df['attackDescription'].replace(['---'], 'normal')\n",
        "df['attackDescription'] = df['attackDescription'].replace(['nmap args: -sS -T 1', 'nmap args: -sS -T 2', 'nmap args: -sS -T 3'], 'SYN Scan')\n",
        "df['attackDescription'] = df['attackDescription'].replace(['nmap args: -sF -T 1', 'nmap args: -sF -T 2', 'nmap args: -sF -T 3'], 'FIN Scan')\n",
        "df['attackDescription'] = df['attackDescription'].replace(['nmap args: -sU -T 0 ', 'nmap args: -sU -T 1', 'nmap args: -sU -T 2', 'nmap args: -sU -T 3' ], 'UDP Scan')\n",
        "df['attackDescription'] = df['attackDescription'].replace(['nmap args: -sA -T 1', 'nmap args: -sA -T 2', 'nmap args: -sA -T 3'], 'ACK Scan')\n",
        "df['attackDescription'] = df['attackDescription'].replace(['nmap args: -n -sP -PE -T 1', 'nmap args: -n -sP -PE -T 2', 'nmap args: -n -sP -PE -T 3'], 'Ping Scan')\n",
        "df['attackDescription'].value_counts()"
      ]
    },
    {
      "cell_type": "code",
      "execution_count": 18,
      "metadata": {
        "colab": {
          "base_uri": "https://localhost:8080/"
        },
        "id": "HQmO_x2pWp9G",
        "outputId": "41ee3378-010e-4b8a-98ed-572cc329a74d"
      },
      "outputs": [
        {
          "output_type": "execute_result",
          "data": {
            "text/plain": [
              "normal    4382402\n",
              "TCP        665605\n",
              "UDP        139253\n",
              "ICMP         8008\n",
              "Name: attackDescription, dtype: int64"
            ]
          },
          "metadata": {},
          "execution_count": 18
        }
      ],
      "source": [
        "df['attackDescription'] = df['attackDescription'].replace(['SYN Scan', 'FIN Scan', 'ACK Scan'], 'TCP')\n",
        "df['attackDescription'] = df['attackDescription'].replace(['UDP Scan'], 'UDP')\n",
        "df['attackDescription'] = df['attackDescription'].replace(['Ping Scan'], 'ICMP')\n",
        "df['attackDescription'].value_counts()"
      ]
    },
    {
      "cell_type": "markdown",
      "metadata": {
        "id": "BIeFN3_8XFjt"
      },
      "source": [
        "### Drop features"
      ]
    },
    {
      "cell_type": "code",
      "execution_count": 19,
      "metadata": {
        "colab": {
          "base_uri": "https://localhost:8080/"
        },
        "id": "Qw6O-phQWvJh",
        "outputId": "7fdad88a-0e27-45a3-b760-69ccaeeaf411"
      },
      "outputs": [
        {
          "output_type": "stream",
          "name": "stdout",
          "text": [
            "<class 'pandas.core.frame.DataFrame'>\n",
            "Int64Index: 5195268 entries, 0 to 5231835\n",
            "Data columns (total 16 columns):\n",
            " #   Column             Dtype  \n",
            "---  ------             -----  \n",
            " 0   Date first seen    object \n",
            " 1   Duration           float64\n",
            " 2   Proto              object \n",
            " 3   Src IP Addr        object \n",
            " 4   Src Pt             int64  \n",
            " 5   Dst IP Addr        object \n",
            " 6   Dst Pt             float64\n",
            " 7   Packets            int64  \n",
            " 8   Bytes              object \n",
            " 9   Flows              int64  \n",
            " 10  Flags              object \n",
            " 11  Tos                int64  \n",
            " 12  label              object \n",
            " 13  attackType         object \n",
            " 14  attackID           object \n",
            " 15  attackDescription  object \n",
            "dtypes: float64(2), int64(4), object(10)\n",
            "memory usage: 673.8+ MB\n"
          ]
        }
      ],
      "source": [
        "df.info()"
      ]
    },
    {
      "cell_type": "code",
      "execution_count": 20,
      "metadata": {
        "colab": {
          "base_uri": "https://localhost:8080/"
        },
        "id": "F_BChZCev7mU",
        "outputId": "962354a8-b607-47ee-c5a3-25563f4bc231"
      },
      "outputs": [
        {
          "output_type": "stream",
          "name": "stdout",
          "text": [
            "<class 'pandas.core.frame.DataFrame'>\n",
            "Int64Index: 5195268 entries, 0 to 5231835\n",
            "Data columns (total 11 columns):\n",
            " #   Column             Dtype  \n",
            "---  ------             -----  \n",
            " 0   Duration           float64\n",
            " 1   Proto              object \n",
            " 2   Src Pt             int64  \n",
            " 3   Dst Pt             float64\n",
            " 4   Packets            int64  \n",
            " 5   Bytes              object \n",
            " 6   Flows              int64  \n",
            " 7   Flags              object \n",
            " 8   Tos                int64  \n",
            " 9   label              object \n",
            " 10  attackDescription  object \n",
            "dtypes: float64(2), int64(4), object(5)\n",
            "memory usage: 475.6+ MB\n"
          ]
        }
      ],
      "source": [
        "df = df.drop(columns = ['Date first seen', 'Src IP Addr', 'Dst IP Addr',  'attackType', 'attackID'])\n",
        "df.info()"
      ]
    },
    {
      "cell_type": "code",
      "execution_count": 21,
      "metadata": {
        "id": "6f8AUQDeXO1L"
      },
      "outputs": [],
      "source": [
        "df = df.drop(df.loc[df['attackDescription'] == 'normal'].sample(frac = 0.8).index)"
      ]
    },
    {
      "cell_type": "code",
      "execution_count": 22,
      "metadata": {
        "colab": {
          "base_uri": "https://localhost:8080/",
          "height": 627
        },
        "id": "-KQdZZZhXQfy",
        "outputId": "86e787c7-608f-4ff7-8e8f-f268743dc53b"
      },
      "outputs": [
        {
          "output_type": "display_data",
          "data": {
            "text/plain": [
              "<Figure size 1000x700 with 1 Axes>"
            ],
            "image/png": "[encoded data removed]"
          },
          "metadata": {}
        }
      ],
      "source": [
        "sns.set(rc = {'figure.figsize' : (10, 7)})\n",
        "ax = sns.countplot(x = 'attackDescription', data = df)\n",
        "ax.set(xlabel = 'Type', ylabel = 'Number')\n",
        "plt.show()"
      ]
    },
    {
      "cell_type": "markdown",
      "metadata": {
        "id": "FRxozQVHNrDj"
      },
      "source": [
        "### Other features"
      ]
    },
    {
      "cell_type": "code",
      "execution_count": 23,
      "metadata": {
        "id": "2l9BuQKaOA76"
      },
      "outputs": [],
      "source": [
        "def convert_to_int(value):\n",
        "    try:\n",
        "        if 'M' in str(value):\n",
        "            result = int(float(value[:-2])*10**6)\n",
        "        else:\n",
        "            result = int(value)\n",
        "    except (ValueError, TypeError):\n",
        "        print(value)\n",
        "        result = 0\n",
        "    return result"
      ]
    },
    {
      "cell_type": "code",
      "execution_count": 24,
      "metadata": {
        "colab": {
          "base_uri": "https://localhost:8080/"
        },
        "id": "oC5WHIzYOD6l",
        "outputId": "bbd2dc0e-457f-4047-af5c-0f0e00806485"
      },
      "outputs": [
        {
          "output_type": "execute_result",
          "data": {
            "text/plain": [
              "54       441451\n",
              "66       269637\n",
              "58       218650\n",
              "42       110075\n",
              "70        38081\n",
              "          ...  \n",
              "37744         1\n",
              "15772         1\n",
              "16351         1\n",
              "9182          1\n",
              "20573         1\n",
              "Name: Bytes, Length: 28332, dtype: int64"
            ]
          },
          "metadata": {},
          "execution_count": 24
        }
      ],
      "source": [
        "df['Bytes'] = df['Bytes'].apply(convert_to_int)\n",
        "df['Bytes'].value_counts()"
      ]
    },
    {
      "cell_type": "code",
      "execution_count": 25,
      "metadata": {
        "colab": {
          "base_uri": "https://localhost:8080/"
        },
        "id": "Weca15snXXG6",
        "outputId": "5a5f7628-41b4-4a9a-d362-8d2300faa7eb"
      },
      "outputs": [
        {
          "output_type": "execute_result",
          "data": {
            "text/plain": [
              "array(['0_normal', 'attack'], dtype=object)"
            ]
          },
          "metadata": {},
          "execution_count": 25
        }
      ],
      "source": [
        "label_encoder = LabelEncoder()\n",
        "df['label']= label_encoder.fit_transform(df['label'])\n",
        "label_encoder.classes_"
      ]
    },
    {
      "cell_type": "code",
      "execution_count": 26,
      "metadata": {
        "colab": {
          "base_uri": "https://localhost:8080/"
        },
        "id": "g1momD7xXcDr",
        "outputId": "48044332-8478-4b38-a246-fb01f8616287"
      },
      "outputs": [
        {
          "output_type": "stream",
          "name": "stdout",
          "text": [
            "<class 'pandas.core.frame.DataFrame'>\n",
            "Int64Index: 1689346 entries, 3 to 5231835\n",
            "Data columns (total 11 columns):\n",
            " #   Column             Non-Null Count    Dtype  \n",
            "---  ------             --------------    -----  \n",
            " 0   Duration           1689346 non-null  float64\n",
            " 1   Proto              1689346 non-null  object \n",
            " 2   Src Pt             1689346 non-null  int64  \n",
            " 3   Dst Pt             1689346 non-null  float64\n",
            " 4   Packets            1689346 non-null  int64  \n",
            " 5   Bytes              1689346 non-null  int64  \n",
            " 6   Flows              1689346 non-null  int64  \n",
            " 7   Flags              1689346 non-null  object \n",
            " 8   Tos                1689346 non-null  int64  \n",
            " 9   label              1689346 non-null  int64  \n",
            " 10  attackDescription  1689346 non-null  object \n",
            "dtypes: float64(2), int64(6), object(3)\n",
            "memory usage: 154.7+ MB\n"
          ]
        }
      ],
      "source": [
        "df.info()"
      ]
    },
    {
      "cell_type": "code",
      "execution_count": 27,
      "metadata": {
        "colab": {
          "base_uri": "https://localhost:8080/"
        },
        "id": "rPy-Vfg2VeJh",
        "outputId": "586915ba-4801-459b-d30e-a96fefb072f0"
      },
      "outputs": [
        {
          "output_type": "stream",
          "name": "stdout",
          "text": [
            "(1689346, 9) (1689346, 2)\n"
          ]
        }
      ],
      "source": [
        "features_to_exclude = ['label', 'Proto']\n",
        "y = df.loc[:, features_to_exclude]\n",
        "X = df.drop(features_to_exclude, axis=1)\n",
        "\n",
        "print(X.shape, y.shape)"
      ]
    },
    {
      "cell_type": "code",
      "execution_count": 28,
      "metadata": {
        "colab": {
          "base_uri": "https://localhost:8080/"
        },
        "id": "TlXXZ05-WC0p",
        "outputId": "d27b2851-674a-4032-ac07-981e1ac46f55"
      },
      "outputs": [
        {
          "output_type": "stream",
          "name": "stdout",
          "text": [
            "<class 'pandas.core.frame.DataFrame'>\n",
            "Int64Index: 1689346 entries, 3 to 5231835\n",
            "Data columns (total 9 columns):\n",
            " #   Column             Non-Null Count    Dtype  \n",
            "---  ------             --------------    -----  \n",
            " 0   Duration           1689346 non-null  float64\n",
            " 1   Src Pt             1689346 non-null  int64  \n",
            " 2   Dst Pt             1689346 non-null  float64\n",
            " 3   Packets            1689346 non-null  int64  \n",
            " 4   Bytes              1689346 non-null  int64  \n",
            " 5   Flows              1689346 non-null  int64  \n",
            " 6   Flags              1689346 non-null  object \n",
            " 7   Tos                1689346 non-null  int64  \n",
            " 8   attackDescription  1689346 non-null  object \n",
            "dtypes: float64(2), int64(5), object(2)\n",
            "memory usage: 128.9+ MB\n"
          ]
        }
      ],
      "source": [
        "X.info()"
      ]
    },
    {
      "cell_type": "code",
      "execution_count": 29,
      "metadata": {
        "colab": {
          "base_uri": "https://localhost:8080/"
        },
        "id": "jbybREFvWHF8",
        "outputId": "310d1807-dc9e-42bd-c629-40715c4914a5"
      },
      "outputs": [
        {
          "output_type": "stream",
          "name": "stdout",
          "text": [
            "<class 'pandas.core.frame.DataFrame'>\n",
            "Int64Index: 1689346 entries, 3 to 5231835\n",
            "Data columns (total 2 columns):\n",
            " #   Column  Non-Null Count    Dtype \n",
            "---  ------  --------------    ----- \n",
            " 0   label   1689346 non-null  int64 \n",
            " 1   Proto   1689346 non-null  object\n",
            "dtypes: int64(1), object(1)\n",
            "memory usage: 38.7+ MB\n"
          ]
        }
      ],
      "source": [
        "y.info()"
      ]
    },
    {
      "cell_type": "markdown",
      "metadata": {
        "id": "iAw4D3XgWRfG"
      },
      "source": [
        "### One hot encoding"
      ]
    },
    {
      "cell_type": "code",
      "execution_count": 30,
      "metadata": {
        "colab": {
          "base_uri": "https://localhost:8080/"
        },
        "id": "o3ZdUcEyWXZf",
        "outputId": "99da4b6c-0f6a-465a-aada-bb4551894f5b"
      },
      "outputs": [
        {
          "output_type": "stream",
          "name": "stdout",
          "text": [
            "<class 'pandas.core.frame.DataFrame'>\n",
            "Int64Index: 1689346 entries, 3 to 5231835\n",
            "Data columns (total 32 columns):\n",
            " #   Column                    Non-Null Count    Dtype  \n",
            "---  ------                    --------------    -----  \n",
            " 0   Duration                  1689346 non-null  float64\n",
            " 1   Src Pt                    1689346 non-null  int64  \n",
            " 2   Dst Pt                    1689346 non-null  float64\n",
            " 3   Packets                   1689346 non-null  int64  \n",
            " 4   Bytes                     1689346 non-null  int64  \n",
            " 5   Flows                     1689346 non-null  int64  \n",
            " 6   Tos                       1689346 non-null  int64  \n",
            " 7   Flags_......              1689346 non-null  uint8  \n",
            " 8   Flags_.....F              1689346 non-null  uint8  \n",
            " 9   Flags_....S.              1689346 non-null  uint8  \n",
            " 10  Flags_...R..              1689346 non-null  uint8  \n",
            " 11  Flags_...RS.              1689346 non-null  uint8  \n",
            " 12  Flags_.A....              1689346 non-null  uint8  \n",
            " 13  Flags_.A...F              1689346 non-null  uint8  \n",
            " 14  Flags_.A..S.              1689346 non-null  uint8  \n",
            " 15  Flags_.A..SF              1689346 non-null  uint8  \n",
            " 16  Flags_.A.R..              1689346 non-null  uint8  \n",
            " 17  Flags_.A.R.F              1689346 non-null  uint8  \n",
            " 18  Flags_.A.RS.              1689346 non-null  uint8  \n",
            " 19  Flags_.A.RSF              1689346 non-null  uint8  \n",
            " 20  Flags_.AP...              1689346 non-null  uint8  \n",
            " 21  Flags_.AP..F              1689346 non-null  uint8  \n",
            " 22  Flags_.AP.S.              1689346 non-null  uint8  \n",
            " 23  Flags_.AP.SF              1689346 non-null  uint8  \n",
            " 24  Flags_.APR..              1689346 non-null  uint8  \n",
            " 25  Flags_.APR.F              1689346 non-null  uint8  \n",
            " 26  Flags_.APRS.              1689346 non-null  uint8  \n",
            " 27  Flags_.APRSF              1689346 non-null  uint8  \n",
            " 28  attackDescription_ICMP    1689346 non-null  uint8  \n",
            " 29  attackDescription_TCP     1689346 non-null  uint8  \n",
            " 30  attackDescription_UDP     1689346 non-null  uint8  \n",
            " 31  attackDescription_normal  1689346 non-null  uint8  \n",
            "dtypes: float64(2), int64(5), uint8(25)\n",
            "memory usage: 143.4 MB\n"
          ]
        }
      ],
      "source": [
        "X = pd.get_dummies(X)\n",
        "X.info()"
      ]
    },
    {
      "cell_type": "code",
      "execution_count": 31,
      "metadata": {
        "colab": {
          "base_uri": "https://localhost:8080/",
          "height": 461
        },
        "id": "iB1XU9n-W1Aa",
        "outputId": "91d9c430-9fb9-4375-ac08-143cb8ad0c81"
      },
      "outputs": [
        {
          "output_type": "execute_result",
          "data": {
            "text/plain": [
              "         Duration  Src Pt   Dst Pt  Packets  Bytes  Flows  Tos  Flags_......  \\\n",
              "3           0.095     443  58538.0        5   1246      1   32             0   \n",
              "15          0.000   57315    443.0        1     66      1    0             0   \n",
              "18          0.021   60025     80.0        2    108      1    0             0   \n",
              "21          0.000   63957     53.0        1     82      1    0             1   \n",
              "26          0.032   40285     80.0        3    624      1    0             0   \n",
              "...           ...     ...      ...      ...    ...    ...  ...           ...   \n",
              "5231831     0.000    5907  47529.0        1     54      1    0             0   \n",
              "5231832     0.000       3  47529.0        1     54      1    0             0   \n",
              "5231833     0.000   32778  47529.0        1     54      1    0             0   \n",
              "5231834     0.000    8800  47529.0        1     54      1    0             0   \n",
              "5231835     0.000   47529   6881.0        1     58      1    0             0   \n",
              "\n",
              "         Flags_.....F  Flags_....S.  Flags_...R..  Flags_...RS.  Flags_.A....  \\\n",
              "3                   0             0             0             0             0   \n",
              "15                  0             0             0             0             1   \n",
              "18                  0             0             0             0             0   \n",
              "21                  0             0             0             0             0   \n",
              "26                  0             0             0             0             0   \n",
              "...               ...           ...           ...           ...           ...   \n",
              "5231831             0             0             0             0             0   \n",
              "5231832             0             0             0             0             0   \n",
              "5231833             0             0             0             0             0   \n",
              "5231834             0             0             0             0             0   \n",
              "5231835             0             1             0             0             0   \n",
              "\n",
              "         Flags_.A...F  Flags_.A..S.  Flags_.A..SF  Flags_.A.R..  Flags_.A.R.F  \\\n",
              "3                   0             0             0             0             0   \n",
              "15                  0             0             0             0             0   \n",
              "18                  1             0             0             0             0   \n",
              "21                  0             0             0             0             0   \n",
              "26                  0             0             0             0             0   \n",
              "...               ...           ...           ...           ...           ...   \n",
              "5231831             0             0             0             1             0   \n",
              "5231832             0             0             0             1             0   \n",
              "5231833             0             0             0             1             0   \n",
              "5231834             0             0             0             1             0   \n",
              "5231835             0             0             0             0             0   \n",
              "\n",
              "         Flags_.A.RS.  Flags_.A.RSF  Flags_.AP...  Flags_.AP..F  Flags_.AP.S.  \\\n",
              "3                   0             0             1             0             0   \n",
              "15                  0             0             0             0             0   \n",
              "18                  0             0             0             0             0   \n",
              "21                  0             0             0             0             0   \n",
              "26                  0             0             1             0             0   \n",
              "...               ...           ...           ...           ...           ...   \n",
              "5231831             0             0             0             0             0   \n",
              "5231832             0             0             0             0             0   \n",
              "5231833             0             0             0             0             0   \n",
              "5231834             0             0             0             0             0   \n",
              "5231835             0             0             0             0             0   \n",
              "\n",
              "         Flags_.AP.SF  Flags_.APR..  Flags_.APR.F  Flags_.APRS.  Flags_.APRSF  \\\n",
              "3                   0             0             0             0             0   \n",
              "15                  0             0             0             0             0   \n",
              "18                  0             0             0             0             0   \n",
              "21                  0             0             0             0             0   \n",
              "26                  0             0             0             0             0   \n",
              "...               ...           ...           ...           ...           ...   \n",
              "5231831             0             0             0             0             0   \n",
              "5231832             0             0             0             0             0   \n",
              "5231833             0             0             0             0             0   \n",
              "5231834             0             0             0             0             0   \n",
              "5231835             0             0             0             0             0   \n",
              "\n",
              "         attackDescription_ICMP  attackDescription_TCP  attackDescription_UDP  \\\n",
              "3                             0                      0                      0   \n",
              "15                            0                      0                      0   \n",
              "18                            0                      0                      0   \n",
              "21                            0                      0                      0   \n",
              "26                            0                      0                      0   \n",
              "...                         ...                    ...                    ...   \n",
              "5231831                       0                      1                      0   \n",
              "5231832                       0                      1                      0   \n",
              "5231833                       0                      1                      0   \n",
              "5231834                       0                      1                      0   \n",
              "5231835                       0                      1                      0   \n",
              "\n",
              "         attackDescription_normal  label  Proto  \n",
              "3                               1      0  TCP    \n",
              "15                              1      0  TCP    \n",
              "18                              1      0  TCP    \n",
              "21                              1      0  UDP    \n",
              "26                              1      0  TCP    \n",
              "...                           ...    ...    ...  \n",
              "5231831                         0      1  TCP    \n",
              "5231832                         0      1  TCP    \n",
              "5231833                         0      1  TCP    \n",
              "5231834                         0      1  TCP    \n",
              "5231835                         0      1  TCP    \n",
              "\n",
              "[1689346 rows x 34 columns]"
            ],
            "text/html": [
              "\n",
              "  <div id=\"df-32c2e946-e63f-4e69-bc43-e951fea0daca\" class=\"colab-df-container\">\n",
              "    <div>\n",
              "<style scoped>\n",
              "    .dataframe tbody tr th:only-of-type {\n",
              "        vertical-align: middle;\n",
              "    }\n",
              "\n",
              "    .dataframe tbody tr th {\n",
              "        vertical-align: top;\n",
              "    }\n",
              "\n",
              "    .dataframe thead th {\n",
              "        text-align: right;\n",
              "    }\n",
              "</style>\n",
              "<table border=\"1\" class=\"dataframe\">\n",
              "  <thead>\n",
              "    <tr style=\"text-align: right;\">\n",
              "      <th></th>\n",
              "      <th>Duration</th>\n",
              "      <th>Src Pt</th>\n",
              "      <th>Dst Pt</th>\n",
              "      <th>Packets</th>\n",
              "      <th>Bytes</th>\n",
              "      <th>Flows</th>\n",
              "      <th>Tos</th>\n",
              "      <th>Flags_......</th>\n",
              "      <th>Flags_.....F</th>\n",
              "      <th>Flags_....S.</th>\n",
              "      <th>Flags_...R..</th>\n",
              "      <th>Flags_...RS.</th>\n",
              "      <th>Flags_.A....</th>\n",
              "      <th>Flags_.A...F</th>\n",
              "      <th>Flags_.A..S.</th>\n",
              "      <th>Flags_.A..SF</th>\n",
              "      <th>Flags_.A.R..</th>\n",
              "      <th>Flags_.A.R.F</th>\n",
              "      <th>Flags_.A.RS.</th>\n",
              "      <th>Flags_.A.RSF</th>\n",
              "      <th>Flags_.AP...</th>\n",
              "      <th>Flags_.AP..F</th>\n",
              "      <th>Flags_.AP.S.</th>\n",
              "      <th>Flags_.AP.SF</th>\n",
              "      <th>Flags_.APR..</th>\n",
              "      <th>Flags_.APR.F</th>\n",
              "      <th>Flags_.APRS.</th>\n",
              "      <th>Flags_.APRSF</th>\n",
              "      <th>attackDescription_ICMP</th>\n",
              "      <th>attackDescription_TCP</th>\n",
              "      <th>attackDescription_UDP</th>\n",
              "      <th>attackDescription_normal</th>\n",
              "      <th>label</th>\n",
              "      <th>Proto</th>\n",
              "    </tr>\n",
              "  </thead>\n",
              "  <tbody>\n",
              "    <tr>\n",
              "      <th>3</th>\n",
              "      <td>0.095</td>\n",
              "      <td>443</td>\n",
              "      <td>58538.0</td>\n",
              "      <td>5</td>\n",
              "      <td>1246</td>\n",
              "      <td>1</td>\n",
              "      <td>32</td>\n",
              "      <td>0</td>\n",
              "      <td>0</td>\n",
              "      <td>0</td>\n",
              "      <td>0</td>\n",
              "      <td>0</td>\n",
              "      <td>0</td>\n",
              "      <td>0</td>\n",
              "      <td>0</td>\n",
              "      <td>0</td>\n",
              "      <td>0</td>\n",
              "      <td>0</td>\n",
              "      <td>0</td>\n",
              "      <td>0</td>\n",
              "      <td>1</td>\n",
              "      <td>0</td>\n",
              "      <td>0</td>\n",
              "      <td>0</td>\n",
              "      <td>0</td>\n",
              "      <td>0</td>\n",
              "      <td>0</td>\n",
              "      <td>0</td>\n",
              "      <td>0</td>\n",
              "      <td>0</td>\n",
              "      <td>0</td>\n",
              "      <td>1</td>\n",
              "      <td>0</td>\n",
              "      <td>TCP</td>\n",
              "    </tr>\n",
              "    <tr>\n",
              "      <th>15</th>\n",
              "      <td>0.000</td>\n",
              "      <td>57315</td>\n",
              "      <td>443.0</td>\n",
              "      <td>1</td>\n",
              "      <td>66</td>\n",
              "      <td>1</td>\n",
              "      <td>0</td>\n",
              "      <td>0</td>\n",
              "      <td>0</td>\n",
              "      <td>0</td>\n",
              "      <td>0</td>\n",
              "      <td>0</td>\n",
              "      <td>1</td>\n",
              "      <td>0</td>\n",
              "      <td>0</td>\n",
              "      <td>0</td>\n",
              "      <td>0</td>\n",
              "      <td>0</td>\n",
              "      <td>0</td>\n",
              "      <td>0</td>\n",
              "      <td>0</td>\n",
              "      <td>0</td>\n",
              "      <td>0</td>\n",
              "      <td>0</td>\n",
              "      <td>0</td>\n",
              "      <td>0</td>\n",
              "      <td>0</td>\n",
              "      <td>0</td>\n",
              "      <td>0</td>\n",
              "      <td>0</td>\n",
              "      <td>0</td>\n",
              "      <td>1</td>\n",
              "      <td>0</td>\n",
              "      <td>TCP</td>\n",
              "    </tr>\n",
              "    <tr>\n",
              "      <th>18</th>\n",
              "      <td>0.021</td>\n",
              "      <td>60025</td>\n",
              "      <td>80.0</td>\n",
              "      <td>2</td>\n",
              "      <td>108</td>\n",
              "      <td>1</td>\n",
              "      <td>0</td>\n",
              "      <td>0</td>\n",
              "      <td>0</td>\n",
              "      <td>0</td>\n",
              "      <td>0</td>\n",
              "      <td>0</td>\n",
              "      <td>0</td>\n",
              "      <td>1</td>\n",
              "      <td>0</td>\n",
              "      <td>0</td>\n",
              "      <td>0</td>\n",
              "      <td>0</td>\n",
              "      <td>0</td>\n",
              "      <td>0</td>\n",
              "      <td>0</td>\n",
              "      <td>0</td>\n",
              "      <td>0</td>\n",
              "      <td>0</td>\n",
              "      <td>0</td>\n",
              "      <td>0</td>\n",
              "      <td>0</td>\n",
              "      <td>0</td>\n",
              "      <td>0</td>\n",
              "      <td>0</td>\n",
              "      <td>0</td>\n",
              "      <td>1</td>\n",
              "      <td>0</td>\n",
              "      <td>TCP</td>\n",
              "    </tr>\n",
              "    <tr>\n",
              "      <th>21</th>\n",
              "      <td>0.000</td>\n",
              "      <td>63957</td>\n",
              "      <td>53.0</td>\n",
              "      <td>1</td>\n",
              "      <td>82</td>\n",
              "      <td>1</td>\n",
              "      <td>0</td>\n",
              "      <td>1</td>\n",
              "      <td>0</td>\n",
              "      <td>0</td>\n",
              "      <td>0</td>\n",
              "      <td>0</td>\n",
              "      <td>0</td>\n",
              "      <td>0</td>\n",
              "      <td>0</td>\n",
              "      <td>0</td>\n",
              "      <td>0</td>\n",
              "      <td>0</td>\n",
              "      <td>0</td>\n",
              "      <td>0</td>\n",
              "      <td>0</td>\n",
              "      <td>0</td>\n",
              "      <td>0</td>\n",
              "      <td>0</td>\n",
              "      <td>0</td>\n",
              "      <td>0</td>\n",
              "      <td>0</td>\n",
              "      <td>0</td>\n",
              "      <td>0</td>\n",
              "      <td>0</td>\n",
              "      <td>0</td>\n",
              "      <td>1</td>\n",
              "      <td>0</td>\n",
              "      <td>UDP</td>\n",
              "    </tr>\n",
              "    <tr>\n",
              "      <th>26</th>\n",
              "      <td>0.032</td>\n",
              "      <td>40285</td>\n",
              "      <td>80.0</td>\n",
              "      <td>3</td>\n",
              "      <td>624</td>\n",
              "      <td>1</td>\n",
              "      <td>0</td>\n",
              "      <td>0</td>\n",
              "      <td>0</td>\n",
              "      <td>0</td>\n",
              "      <td>0</td>\n",
              "      <td>0</td>\n",
              "      <td>0</td>\n",
              "      <td>0</td>\n",
              "      <td>0</td>\n",
              "      <td>0</td>\n",
              "      <td>0</td>\n",
              "      <td>0</td>\n",
              "      <td>0</td>\n",
              "      <td>0</td>\n",
              "      <td>1</td>\n",
              "      <td>0</td>\n",
              "      <td>0</td>\n",
              "      <td>0</td>\n",
              "      <td>0</td>\n",
              "      <td>0</td>\n",
              "      <td>0</td>\n",
              "      <td>0</td>\n",
              "      <td>0</td>\n",
              "      <td>0</td>\n",
              "      <td>0</td>\n",
              "      <td>1</td>\n",
              "      <td>0</td>\n",
              "      <td>TCP</td>\n",
              "    </tr>\n",
              "    <tr>\n",
              "      <th>...</th>\n",
              "      <td>...</td>\n",
              "      <td>...</td>\n",
              "      <td>...</td>\n",
              "      <td>...</td>\n",
              "      <td>...</td>\n",
              "      <td>...</td>\n",
              "      <td>...</td>\n",
              "      <td>...</td>\n",
              "      <td>...</td>\n",
              "      <td>...</td>\n",
              "      <td>...</td>\n",
              "      <td>...</td>\n",
              "      <td>...</td>\n",
              "      <td>...</td>\n",
              "      <td>...</td>\n",
              "      <td>...</td>\n",
              "      <td>...</td>\n",
              "      <td>...</td>\n",
              "      <td>...</td>\n",
              "      <td>...</td>\n",
              "      <td>...</td>\n",
              "      <td>...</td>\n",
              "      <td>...</td>\n",
              "      <td>...</td>\n",
              "      <td>...</td>\n",
              "      <td>...</td>\n",
              "      <td>...</td>\n",
              "      <td>...</td>\n",
              "      <td>...</td>\n",
              "      <td>...</td>\n",
              "      <td>...</td>\n",
              "      <td>...</td>\n",
              "      <td>...</td>\n",
              "      <td>...</td>\n",
              "    </tr>\n",
              "    <tr>\n",
              "      <th>5231831</th>\n",
              "      <td>0.000</td>\n",
              "      <td>5907</td>\n",
              "      <td>47529.0</td>\n",
              "      <td>1</td>\n",
              "      <td>54</td>\n",
              "      <td>1</td>\n",
              "      <td>0</td>\n",
              "      <td>0</td>\n",
              "      <td>0</td>\n",
              "      <td>0</td>\n",
              "      <td>0</td>\n",
              "      <td>0</td>\n",
              "      <td>0</td>\n",
              "      <td>0</td>\n",
              "      <td>0</td>\n",
              "      <td>0</td>\n",
              "      <td>1</td>\n",
              "      <td>0</td>\n",
              "      <td>0</td>\n",
              "      <td>0</td>\n",
              "      <td>0</td>\n",
              "      <td>0</td>\n",
              "      <td>0</td>\n",
              "      <td>0</td>\n",
              "      <td>0</td>\n",
              "      <td>0</td>\n",
              "      <td>0</td>\n",
              "      <td>0</td>\n",
              "      <td>0</td>\n",
              "      <td>1</td>\n",
              "      <td>0</td>\n",
              "      <td>0</td>\n",
              "      <td>1</td>\n",
              "      <td>TCP</td>\n",
              "    </tr>\n",
              "    <tr>\n",
              "      <th>5231832</th>\n",
              "      <td>0.000</td>\n",
              "      <td>3</td>\n",
              "      <td>47529.0</td>\n",
              "      <td>1</td>\n",
              "      <td>54</td>\n",
              "      <td>1</td>\n",
              "      <td>0</td>\n",
              "      <td>0</td>\n",
              "      <td>0</td>\n",
              "      <td>0</td>\n",
              "      <td>0</td>\n",
              "      <td>0</td>\n",
              "      <td>0</td>\n",
              "      <td>0</td>\n",
              "      <td>0</td>\n",
              "      <td>0</td>\n",
              "      <td>1</td>\n",
              "      <td>0</td>\n",
              "      <td>0</td>\n",
              "      <td>0</td>\n",
              "      <td>0</td>\n",
              "      <td>0</td>\n",
              "      <td>0</td>\n",
              "      <td>0</td>\n",
              "      <td>0</td>\n",
              "      <td>0</td>\n",
              "      <td>0</td>\n",
              "      <td>0</td>\n",
              "      <td>0</td>\n",
              "      <td>1</td>\n",
              "      <td>0</td>\n",
              "      <td>0</td>\n",
              "      <td>1</td>\n",
              "      <td>TCP</td>\n",
              "    </tr>\n",
              "    <tr>\n",
              "      <th>5231833</th>\n",
              "      <td>0.000</td>\n",
              "      <td>32778</td>\n",
              "      <td>47529.0</td>\n",
              "      <td>1</td>\n",
              "      <td>54</td>\n",
              "      <td>1</td>\n",
              "      <td>0</td>\n",
              "      <td>0</td>\n",
              "      <td>0</td>\n",
              "      <td>0</td>\n",
              "      <td>0</td>\n",
              "      <td>0</td>\n",
              "      <td>0</td>\n",
              "      <td>0</td>\n",
              "      <td>0</td>\n",
              "      <td>0</td>\n",
              "      <td>1</td>\n",
              "      <td>0</td>\n",
              "      <td>0</td>\n",
              "      <td>0</td>\n",
              "      <td>0</td>\n",
              "      <td>0</td>\n",
              "      <td>0</td>\n",
              "      <td>0</td>\n",
              "      <td>0</td>\n",
              "      <td>0</td>\n",
              "      <td>0</td>\n",
              "      <td>0</td>\n",
              "      <td>0</td>\n",
              "      <td>1</td>\n",
              "      <td>0</td>\n",
              "      <td>0</td>\n",
              "      <td>1</td>\n",
              "      <td>TCP</td>\n",
              "    </tr>\n",
              "    <tr>\n",
              "      <th>5231834</th>\n",
              "      <td>0.000</td>\n",
              "      <td>8800</td>\n",
              "      <td>47529.0</td>\n",
              "      <td>1</td>\n",
              "      <td>54</td>\n",
              "      <td>1</td>\n",
              "      <td>0</td>\n",
              "      <td>0</td>\n",
              "      <td>0</td>\n",
              "      <td>0</td>\n",
              "      <td>0</td>\n",
              "      <td>0</td>\n",
              "      <td>0</td>\n",
              "      <td>0</td>\n",
              "      <td>0</td>\n",
              "      <td>0</td>\n",
              "      <td>1</td>\n",
              "      <td>0</td>\n",
              "      <td>0</td>\n",
              "      <td>0</td>\n",
              "      <td>0</td>\n",
              "      <td>0</td>\n",
              "      <td>0</td>\n",
              "      <td>0</td>\n",
              "      <td>0</td>\n",
              "      <td>0</td>\n",
              "      <td>0</td>\n",
              "      <td>0</td>\n",
              "      <td>0</td>\n",
              "      <td>1</td>\n",
              "      <td>0</td>\n",
              "      <td>0</td>\n",
              "      <td>1</td>\n",
              "      <td>TCP</td>\n",
              "    </tr>\n",
              "    <tr>\n",
              "      <th>5231835</th>\n",
              "      <td>0.000</td>\n",
              "      <td>47529</td>\n",
              "      <td>6881.0</td>\n",
              "      <td>1</td>\n",
              "      <td>58</td>\n",
              "      <td>1</td>\n",
              "      <td>0</td>\n",
              "      <td>0</td>\n",
              "      <td>0</td>\n",
              "      <td>1</td>\n",
              "      <td>0</td>\n",
              "      <td>0</td>\n",
              "      <td>0</td>\n",
              "      <td>0</td>\n",
              "      <td>0</td>\n",
              "      <td>0</td>\n",
              "      <td>0</td>\n",
              "      <td>0</td>\n",
              "      <td>0</td>\n",
              "      <td>0</td>\n",
              "      <td>0</td>\n",
              "      <td>0</td>\n",
              "      <td>0</td>\n",
              "      <td>0</td>\n",
              "      <td>0</td>\n",
              "      <td>0</td>\n",
              "      <td>0</td>\n",
              "      <td>0</td>\n",
              "      <td>0</td>\n",
              "      <td>1</td>\n",
              "      <td>0</td>\n",
              "      <td>0</td>\n",
              "      <td>1</td>\n",
              "      <td>TCP</td>\n",
              "    </tr>\n",
              "  </tbody>\n",
              "</table>\n",
              "<p>1689346 rows × 34 columns</p>\n",
              "</div>\n",
              "    <div class=\"colab-df-buttons\">\n",
              "\n",
              "  <div class=\"colab-df-container\">\n",
              "    <button class=\"colab-df-convert\" onclick=\"convertToInteractive('df-32c2e946-e63f-4e69-bc43-e951fea0daca')\"\n",
              "            title=\"Convert this dataframe to an interactive table.\"\n",
              "            style=\"display:none;\">\n",
              "\n",
              "  <svg xmlns=\"http://www.w3.org/2000/svg\" height=\"24px\" viewBox=\"0 -960 960 960\">\n",
              "    <path d=\"M120-120v-720h720v720H120Zm60-500h600v-160H180v160Zm220 220h160v-160H400v160Zm0 220h160v-160H400v160ZM180-400h160v-160H180v160Zm440 0h160v-160H620v160ZM180-180h160v-160H180v160Zm440 0h160v-160H620v160Z\"/>\n",
              "  </svg>\n",
              "    </button>\n",
              "\n",
              "  <style>\n",
              "    .colab-df-container {\n",
              "      display:flex;\n",
              "      gap: 12px;\n",
              "    }\n",
              "\n",
              "    .colab-df-convert {\n",
              "      background-color: #E8F0FE;\n",
              "      border: none;\n",
              "      border-radius: 50%;\n",
              "      cursor: pointer;\n",
              "      display: none;\n",
              "      fill: #1967D2;\n",
              "      height: 32px;\n",
              "      padding: 0 0 0 0;\n",
              "      width: 32px;\n",
              "    }\n",
              "\n",
              "    .colab-df-convert:hover {\n",
              "      background-color: #E2EBFA;\n",
              "      box-shadow: 0px 1px 2px rgba(60, 64, 67, 0.3), 0px 1px 3px 1px rgba(60, 64, 67, 0.15);\n",
              "      fill: #174EA6;\n",
              "    }\n",
              "\n",
              "    .colab-df-buttons div {\n",
              "      margin-bottom: 4px;\n",
              "    }\n",
              "\n",
              "    [theme=dark] .colab-df-convert {\n",
              "      background-color: #3B4455;\n",
              "      fill: #D2E3FC;\n",
              "    }\n",
              "\n",
              "    [theme=dark] .colab-df-convert:hover {\n",
              "      background-color: #434B5C;\n",
              "      box-shadow: 0px 1px 3px 1px rgba(0, 0, 0, 0.15);\n",
              "      filter: drop-shadow(0px 1px 2px rgba(0, 0, 0, 0.3));\n",
              "      fill: #FFFFFF;\n",
              "    }\n",
              "  </style>\n",
              "\n",
              "    <script>\n",
              "      const buttonEl =\n",
              "        document.querySelector('#df-32c2e946-e63f-4e69-bc43-e951fea0daca button.colab-df-convert');\n",
              "      buttonEl.style.display =\n",
              "        google.colab.kernel.accessAllowed ? 'block' : 'none';\n",
              "\n",
              "      async function convertToInteractive(key) {\n",
              "        const element = document.querySelector('#df-32c2e946-e63f-4e69-bc43-e951fea0daca');\n",
              "        const dataTable =\n",
              "          await google.colab.kernel.invokeFunction('convertToInteractive',\n",
              "                                                    [key], {});\n",
              "        if (!dataTable) return;\n",
              "\n",
              "        const docLinkHtml = 'Like what you see? Visit the ' +\n",
              "          '<a target=\"_blank\" href=https://colab.research.google.com/notebooks/data_table.ipynb>data table notebook</a>'\n",
              "          + ' to learn more about interactive tables.';\n",
              "        element.innerHTML = '';\n",
              "        dataTable['output_type'] = 'display_data';\n",
              "        await google.colab.output.renderOutput(dataTable, element);\n",
              "        const docLink = document.createElement('div');\n",
              "        docLink.innerHTML = docLinkHtml;\n",
              "        element.appendChild(docLink);\n",
              "      }\n",
              "    </script>\n",
              "  </div>\n",
              "\n",
              "\n",
              "<div id=\"df-30f991e0-8f96-478c-a609-918251b0eb7d\">\n",
              "  <button class=\"colab-df-quickchart\" onclick=\"quickchart('df-30f991e0-8f96-478c-a609-918251b0eb7d')\"\n",
              "            title=\"Suggest charts.\"\n",
              "            style=\"display:none;\">\n",
              "\n",
              "<svg xmlns=\"http://www.w3.org/2000/svg\" height=\"24px\"viewBox=\"0 0 24 24\"\n",
              "     width=\"24px\">\n",
              "    <g>\n",
              "        <path d=\"M19 3H5c-1.1 0-2 .9-2 2v14c0 1.1.9 2 2 2h14c1.1 0 2-.9 2-2V5c0-1.1-.9-2-2-2zM9 17H7v-7h2v7zm4 0h-2V7h2v10zm4 0h-2v-4h2v4z\"/>\n",
              "    </g>\n",
              "</svg>\n",
              "  </button>\n",
              "\n",
              "<style>\n",
              "  .colab-df-quickchart {\n",
              "      --bg-color: #E8F0FE;\n",
              "      --fill-color: #1967D2;\n",
              "      --hover-bg-color: #E2EBFA;\n",
              "      --hover-fill-color: #174EA6;\n",
              "      --disabled-fill-color: #AAA;\n",
              "      --disabled-bg-color: #DDD;\n",
              "  }\n",
              "\n",
              "  [theme=dark] .colab-df-quickchart {\n",
              "      --bg-color: #3B4455;\n",
              "      --fill-color: #D2E3FC;\n",
              "      --hover-bg-color: #434B5C;\n",
              "      --hover-fill-color: #FFFFFF;\n",
              "      --disabled-bg-color: #3B4455;\n",
              "      --disabled-fill-color: #666;\n",
              "  }\n",
              "\n",
              "  .colab-df-quickchart {\n",
              "    background-color: var(--bg-color);\n",
              "    border: none;\n",
              "    border-radius: 50%;\n",
              "    cursor: pointer;\n",
              "    display: none;\n",
              "    fill: var(--fill-color);\n",
              "    height: 32px;\n",
              "    padding: 0;\n",
              "    width: 32px;\n",
              "  }\n",
              "\n",
              "  .colab-df-quickchart:hover {\n",
              "    background-color: var(--hover-bg-color);\n",
              "    box-shadow: 0 1px 2px rgba(60, 64, 67, 0.3), 0 1px 3px 1px rgba(60, 64, 67, 0.15);\n",
              "    fill: var(--button-hover-fill-color);\n",
              "  }\n",
              "\n",
              "  .colab-df-quickchart-complete:disabled,\n",
              "  .colab-df-quickchart-complete:disabled:hover {\n",
              "    background-color: var(--disabled-bg-color);\n",
              "    fill: var(--disabled-fill-color);\n",
              "    box-shadow: none;\n",
              "  }\n",
              "\n",
              "  .colab-df-spinner {\n",
              "    border: 2px solid var(--fill-color);\n",
              "    border-color: transparent;\n",
              "    border-bottom-color: var(--fill-color);\n",
              "    animation:\n",
              "      spin 1s steps(1) infinite;\n",
              "  }\n",
              "\n",
              "  @keyframes spin {\n",
              "    0% {\n",
              "      border-color: transparent;\n",
              "      border-bottom-color: var(--fill-color);\n",
              "      border-left-color: var(--fill-color);\n",
              "    }\n",
              "    20% {\n",
              "      border-color: transparent;\n",
              "      border-left-color: var(--fill-color);\n",
              "      border-top-color: var(--fill-color);\n",
              "    }\n",
              "    30% {\n",
              "      border-color: transparent;\n",
              "      border-left-color: var(--fill-color);\n",
              "      border-top-color: var(--fill-color);\n",
              "      border-right-color: var(--fill-color);\n",
              "    }\n",
              "    40% {\n",
              "      border-color: transparent;\n",
              "      border-right-color: var(--fill-color);\n",
              "      border-top-color: var(--fill-color);\n",
              "    }\n",
              "    60% {\n",
              "      border-color: transparent;\n",
              "      border-right-color: var(--fill-color);\n",
              "    }\n",
              "    80% {\n",
              "      border-color: transparent;\n",
              "      border-right-color: var(--fill-color);\n",
              "      border-bottom-color: var(--fill-color);\n",
              "    }\n",
              "    90% {\n",
              "      border-color: transparent;\n",
              "      border-bottom-color: var(--fill-color);\n",
              "    }\n",
              "  }\n",
              "</style>\n",
              "\n",
              "  <script>\n",
              "    async function quickchart(key) {\n",
              "      const quickchartButtonEl =\n",
              "        document.querySelector('#' + key + ' button');\n",
              "      quickchartButtonEl.disabled = true;  // To prevent multiple clicks.\n",
              "      quickchartButtonEl.classList.add('colab-df-spinner');\n",
              "      try {\n",
              "        const charts = await google.colab.kernel.invokeFunction(\n",
              "            'suggestCharts', [key], {});\n",
              "      } catch (error) {\n",
              "        console.error('Error during call to suggestCharts:', error);\n",
              "      }\n",
              "      quickchartButtonEl.classList.remove('colab-df-spinner');\n",
              "      quickchartButtonEl.classList.add('colab-df-quickchart-complete');\n",
              "    }\n",
              "    (() => {\n",
              "      let quickchartButtonEl =\n",
              "        document.querySelector('#df-30f991e0-8f96-478c-a609-918251b0eb7d button');\n",
              "      quickchartButtonEl.style.display =\n",
              "        google.colab.kernel.accessAllowed ? 'block' : 'none';\n",
              "    })();\n",
              "  </script>\n",
              "</div>\n",
              "    </div>\n",
              "  </div>\n"
            ]
          },
          "metadata": {},
          "execution_count": 31
        }
      ],
      "source": [
        "final_df = pd.concat([X, y], axis=1)\n",
        "final_df"
      ]
    },
    {
      "cell_type": "markdown",
      "metadata": {
        "id": "Z7K2K3w_Xi9Y"
      },
      "source": [
        "### Train-Test split"
      ]
    },
    {
      "cell_type": "code",
      "execution_count": 32,
      "metadata": {
        "colab": {
          "base_uri": "https://localhost:8080/",
          "height": 461
        },
        "id": "RErtPgnRXiai",
        "outputId": "d257e227-4268-48ba-bada-7dfad4145d83"
      },
      "outputs": [
        {
          "output_type": "execute_result",
          "data": {
            "text/plain": [
              "         Duration  Src Pt   Dst Pt  Packets  Bytes  Flows  Tos  Flags_......  \\\n",
              "2229571     0.000     443  60382.0        1     66      1   32             0   \n",
              "3279170     0.000      80  55252.0        1     66      1    0             0   \n",
              "2212238     0.021     443  54397.0        3    193      1    0             0   \n",
              "4756011     0.000     787  50342.0        1     54      1    0             0   \n",
              "2265158     0.045      53  36795.0        2    380      1    0             1   \n",
              "...           ...     ...      ...      ...    ...    ...  ...           ...   \n",
              "1294916     0.026   62375    443.0        4    568      1    0             0   \n",
              "4937499     6.410       0      3.3        5    350      1  192             1   \n",
              "658411      0.000      53  57615.0        1     91      1    0             1   \n",
              "2931232     0.000   46755   4129.0        1     58      1    0             0   \n",
              "608357      0.000   33411    443.0        1     66      1    0             0   \n",
              "\n",
              "         Flags_.....F  Flags_....S.  Flags_...R..  Flags_...RS.  Flags_.A....  \\\n",
              "2229571             0             0             0             0             0   \n",
              "3279170             0             0             0             0             1   \n",
              "2212238             0             0             0             0             0   \n",
              "4756011             0             0             0             0             0   \n",
              "2265158             0             0             0             0             0   \n",
              "...               ...           ...           ...           ...           ...   \n",
              "1294916             0             0             0             0             0   \n",
              "4937499             0             0             0             0             0   \n",
              "658411              0             0             0             0             0   \n",
              "2931232             0             1             0             0             0   \n",
              "608357              0             0             0             0             1   \n",
              "\n",
              "         Flags_.A...F  Flags_.A..S.  Flags_.A..SF  Flags_.A.R..  Flags_.A.R.F  \\\n",
              "2229571             1             0             0             0             0   \n",
              "3279170             0             0             0             0             0   \n",
              "2212238             0             0             0             0             0   \n",
              "4756011             0             0             0             1             0   \n",
              "2265158             0             0             0             0             0   \n",
              "...               ...           ...           ...           ...           ...   \n",
              "1294916             0             0             0             0             0   \n",
              "4937499             0             0             0             0             0   \n",
              "658411              0             0             0             0             0   \n",
              "2931232             0             0             0             0             0   \n",
              "608357              0             0             0             0             0   \n",
              "\n",
              "         Flags_.A.RS.  Flags_.A.RSF  Flags_.AP...  Flags_.AP..F  Flags_.AP.S.  \\\n",
              "2229571             0             0             0             0             0   \n",
              "3279170             0             0             0             0             0   \n",
              "2212238             0             0             0             1             0   \n",
              "4756011             0             0             0             0             0   \n",
              "2265158             0             0             0             0             0   \n",
              "...               ...           ...           ...           ...           ...   \n",
              "1294916             0             0             1             0             0   \n",
              "4937499             0             0             0             0             0   \n",
              "658411              0             0             0             0             0   \n",
              "2931232             0             0             0             0             0   \n",
              "608357              0             0             0             0             0   \n",
              "\n",
              "         Flags_.AP.SF  Flags_.APR..  Flags_.APR.F  Flags_.APRS.  Flags_.APRSF  \\\n",
              "2229571             0             0             0             0             0   \n",
              "3279170             0             0             0             0             0   \n",
              "2212238             0             0             0             0             0   \n",
              "4756011             0             0             0             0             0   \n",
              "2265158             0             0             0             0             0   \n",
              "...               ...           ...           ...           ...           ...   \n",
              "1294916             0             0             0             0             0   \n",
              "4937499             0             0             0             0             0   \n",
              "658411              0             0             0             0             0   \n",
              "2931232             0             0             0             0             0   \n",
              "608357              0             0             0             0             0   \n",
              "\n",
              "         attackDescription_ICMP  attackDescription_TCP  attackDescription_UDP  \\\n",
              "2229571                       0                      0                      0   \n",
              "3279170                       0                      0                      0   \n",
              "2212238                       0                      0                      0   \n",
              "4756011                       0                      1                      0   \n",
              "2265158                       0                      0                      0   \n",
              "...                         ...                    ...                    ...   \n",
              "1294916                       0                      0                      0   \n",
              "4937499                       0                      0                      1   \n",
              "658411                        0                      0                      0   \n",
              "2931232                       0                      1                      0   \n",
              "608357                        0                      0                      0   \n",
              "\n",
              "         attackDescription_normal  label  Proto  \n",
              "2229571                         1      0  TCP    \n",
              "3279170                         1      0  TCP    \n",
              "2212238                         1      0  TCP    \n",
              "4756011                         0      1  TCP    \n",
              "2265158                         1      0  UDP    \n",
              "...                           ...    ...    ...  \n",
              "1294916                         1      0  TCP    \n",
              "4937499                         0      1  ICMP   \n",
              "658411                          1      0  UDP    \n",
              "2931232                         0      1  TCP    \n",
              "608357                          1      0  TCP    \n",
              "\n",
              "[1182542 rows x 34 columns]"
            ],
            "text/html": [
              "\n",
              "  <div id=\"df-479e37b4-0986-45cb-b354-d45d343c84e4\" class=\"colab-df-container\">\n",
              "    <div>\n",
              "<style scoped>\n",
              "    .dataframe tbody tr th:only-of-type {\n",
              "        vertical-align: middle;\n",
              "    }\n",
              "\n",
              "    .dataframe tbody tr th {\n",
              "        vertical-align: top;\n",
              "    }\n",
              "\n",
              "    .dataframe thead th {\n",
              "        text-align: right;\n",
              "    }\n",
              "</style>\n",
              "<table border=\"1\" class=\"dataframe\">\n",
              "  <thead>\n",
              "    <tr style=\"text-align: right;\">\n",
              "      <th></th>\n",
              "      <th>Duration</th>\n",
              "      <th>Src Pt</th>\n",
              "      <th>Dst Pt</th>\n",
              "      <th>Packets</th>\n",
              "      <th>Bytes</th>\n",
              "      <th>Flows</th>\n",
              "      <th>Tos</th>\n",
              "      <th>Flags_......</th>\n",
              "      <th>Flags_.....F</th>\n",
              "      <th>Flags_....S.</th>\n",
              "      <th>Flags_...R..</th>\n",
              "      <th>Flags_...RS.</th>\n",
              "      <th>Flags_.A....</th>\n",
              "      <th>Flags_.A...F</th>\n",
              "      <th>Flags_.A..S.</th>\n",
              "      <th>Flags_.A..SF</th>\n",
              "      <th>Flags_.A.R..</th>\n",
              "      <th>Flags_.A.R.F</th>\n",
              "      <th>Flags_.A.RS.</th>\n",
              "      <th>Flags_.A.RSF</th>\n",
              "      <th>Flags_.AP...</th>\n",
              "      <th>Flags_.AP..F</th>\n",
              "      <th>Flags_.AP.S.</th>\n",
              "      <th>Flags_.AP.SF</th>\n",
              "      <th>Flags_.APR..</th>\n",
              "      <th>Flags_.APR.F</th>\n",
              "      <th>Flags_.APRS.</th>\n",
              "      <th>Flags_.APRSF</th>\n",
              "      <th>attackDescription_ICMP</th>\n",
              "      <th>attackDescription_TCP</th>\n",
              "      <th>attackDescription_UDP</th>\n",
              "      <th>attackDescription_normal</th>\n",
              "      <th>label</th>\n",
              "      <th>Proto</th>\n",
              "    </tr>\n",
              "  </thead>\n",
              "  <tbody>\n",
              "    <tr>\n",
              "      <th>2229571</th>\n",
              "      <td>0.000</td>\n",
              "      <td>443</td>\n",
              "      <td>60382.0</td>\n",
              "      <td>1</td>\n",
              "      <td>66</td>\n",
              "      <td>1</td>\n",
              "      <td>32</td>\n",
              "      <td>0</td>\n",
              "      <td>0</td>\n",
              "      <td>0</td>\n",
              "      <td>0</td>\n",
              "      <td>0</td>\n",
              "      <td>0</td>\n",
              "      <td>1</td>\n",
              "      <td>0</td>\n",
              "      <td>0</td>\n",
              "      <td>0</td>\n",
              "      <td>0</td>\n",
              "      <td>0</td>\n",
              "      <td>0</td>\n",
              "      <td>0</td>\n",
              "      <td>0</td>\n",
              "      <td>0</td>\n",
              "      <td>0</td>\n",
              "      <td>0</td>\n",
              "      <td>0</td>\n",
              "      <td>0</td>\n",
              "      <td>0</td>\n",
              "      <td>0</td>\n",
              "      <td>0</td>\n",
              "      <td>0</td>\n",
              "      <td>1</td>\n",
              "      <td>0</td>\n",
              "      <td>TCP</td>\n",
              "    </tr>\n",
              "    <tr>\n",
              "      <th>3279170</th>\n",
              "      <td>0.000</td>\n",
              "      <td>80</td>\n",
              "      <td>55252.0</td>\n",
              "      <td>1</td>\n",
              "      <td>66</td>\n",
              "      <td>1</td>\n",
              "      <td>0</td>\n",
              "      <td>0</td>\n",
              "      <td>0</td>\n",
              "      <td>0</td>\n",
              "      <td>0</td>\n",
              "      <td>0</td>\n",
              "      <td>1</td>\n",
              "      <td>0</td>\n",
              "      <td>0</td>\n",
              "      <td>0</td>\n",
              "      <td>0</td>\n",
              "      <td>0</td>\n",
              "      <td>0</td>\n",
              "      <td>0</td>\n",
              "      <td>0</td>\n",
              "      <td>0</td>\n",
              "      <td>0</td>\n",
              "      <td>0</td>\n",
              "      <td>0</td>\n",
              "      <td>0</td>\n",
              "      <td>0</td>\n",
              "      <td>0</td>\n",
              "      <td>0</td>\n",
              "      <td>0</td>\n",
              "      <td>0</td>\n",
              "      <td>1</td>\n",
              "      <td>0</td>\n",
              "      <td>TCP</td>\n",
              "    </tr>\n",
              "    <tr>\n",
              "      <th>2212238</th>\n",
              "      <td>0.021</td>\n",
              "      <td>443</td>\n",
              "      <td>54397.0</td>\n",
              "      <td>3</td>\n",
              "      <td>193</td>\n",
              "      <td>1</td>\n",
              "      <td>0</td>\n",
              "      <td>0</td>\n",
              "      <td>0</td>\n",
              "      <td>0</td>\n",
              "      <td>0</td>\n",
              "      <td>0</td>\n",
              "      <td>0</td>\n",
              "      <td>0</td>\n",
              "      <td>0</td>\n",
              "      <td>0</td>\n",
              "      <td>0</td>\n",
              "      <td>0</td>\n",
              "      <td>0</td>\n",
              "      <td>0</td>\n",
              "      <td>0</td>\n",
              "      <td>1</td>\n",
              "      <td>0</td>\n",
              "      <td>0</td>\n",
              "      <td>0</td>\n",
              "      <td>0</td>\n",
              "      <td>0</td>\n",
              "      <td>0</td>\n",
              "      <td>0</td>\n",
              "      <td>0</td>\n",
              "      <td>0</td>\n",
              "      <td>1</td>\n",
              "      <td>0</td>\n",
              "      <td>TCP</td>\n",
              "    </tr>\n",
              "    <tr>\n",
              "      <th>4756011</th>\n",
              "      <td>0.000</td>\n",
              "      <td>787</td>\n",
              "      <td>50342.0</td>\n",
              "      <td>1</td>\n",
              "      <td>54</td>\n",
              "      <td>1</td>\n",
              "      <td>0</td>\n",
              "      <td>0</td>\n",
              "      <td>0</td>\n",
              "      <td>0</td>\n",
              "      <td>0</td>\n",
              "      <td>0</td>\n",
              "      <td>0</td>\n",
              "      <td>0</td>\n",
              "      <td>0</td>\n",
              "      <td>0</td>\n",
              "      <td>1</td>\n",
              "      <td>0</td>\n",
              "      <td>0</td>\n",
              "      <td>0</td>\n",
              "      <td>0</td>\n",
              "      <td>0</td>\n",
              "      <td>0</td>\n",
              "      <td>0</td>\n",
              "      <td>0</td>\n",
              "      <td>0</td>\n",
              "      <td>0</td>\n",
              "      <td>0</td>\n",
              "      <td>0</td>\n",
              "      <td>1</td>\n",
              "      <td>0</td>\n",
              "      <td>0</td>\n",
              "      <td>1</td>\n",
              "      <td>TCP</td>\n",
              "    </tr>\n",
              "    <tr>\n",
              "      <th>2265158</th>\n",
              "      <td>0.045</td>\n",
              "      <td>53</td>\n",
              "      <td>36795.0</td>\n",
              "      <td>2</td>\n",
              "      <td>380</td>\n",
              "      <td>1</td>\n",
              "      <td>0</td>\n",
              "      <td>1</td>\n",
              "      <td>0</td>\n",
              "      <td>0</td>\n",
              "      <td>0</td>\n",
              "      <td>0</td>\n",
              "      <td>0</td>\n",
              "      <td>0</td>\n",
              "      <td>0</td>\n",
              "      <td>0</td>\n",
              "      <td>0</td>\n",
              "      <td>0</td>\n",
              "      <td>0</td>\n",
              "      <td>0</td>\n",
              "      <td>0</td>\n",
              "      <td>0</td>\n",
              "      <td>0</td>\n",
              "      <td>0</td>\n",
              "      <td>0</td>\n",
              "      <td>0</td>\n",
              "      <td>0</td>\n",
              "      <td>0</td>\n",
              "      <td>0</td>\n",
              "      <td>0</td>\n",
              "      <td>0</td>\n",
              "      <td>1</td>\n",
              "      <td>0</td>\n",
              "      <td>UDP</td>\n",
              "    </tr>\n",
              "    <tr>\n",
              "      <th>...</th>\n",
              "      <td>...</td>\n",
              "      <td>...</td>\n",
              "      <td>...</td>\n",
              "      <td>...</td>\n",
              "      <td>...</td>\n",
              "      <td>...</td>\n",
              "      <td>...</td>\n",
              "      <td>...</td>\n",
              "      <td>...</td>\n",
              "      <td>...</td>\n",
              "      <td>...</td>\n",
              "      <td>...</td>\n",
              "      <td>...</td>\n",
              "      <td>...</td>\n",
              "      <td>...</td>\n",
              "      <td>...</td>\n",
              "      <td>...</td>\n",
              "      <td>...</td>\n",
              "      <td>...</td>\n",
              "      <td>...</td>\n",
              "      <td>...</td>\n",
              "      <td>...</td>\n",
              "      <td>...</td>\n",
              "      <td>...</td>\n",
              "      <td>...</td>\n",
              "      <td>...</td>\n",
              "      <td>...</td>\n",
              "      <td>...</td>\n",
              "      <td>...</td>\n",
              "      <td>...</td>\n",
              "      <td>...</td>\n",
              "      <td>...</td>\n",
              "      <td>...</td>\n",
              "      <td>...</td>\n",
              "    </tr>\n",
              "    <tr>\n",
              "      <th>1294916</th>\n",
              "      <td>0.026</td>\n",
              "      <td>62375</td>\n",
              "      <td>443.0</td>\n",
              "      <td>4</td>\n",
              "      <td>568</td>\n",
              "      <td>1</td>\n",
              "      <td>0</td>\n",
              "      <td>0</td>\n",
              "      <td>0</td>\n",
              "      <td>0</td>\n",
              "      <td>0</td>\n",
              "      <td>0</td>\n",
              "      <td>0</td>\n",
              "      <td>0</td>\n",
              "      <td>0</td>\n",
              "      <td>0</td>\n",
              "      <td>0</td>\n",
              "      <td>0</td>\n",
              "      <td>0</td>\n",
              "      <td>0</td>\n",
              "      <td>1</td>\n",
              "      <td>0</td>\n",
              "      <td>0</td>\n",
              "      <td>0</td>\n",
              "      <td>0</td>\n",
              "      <td>0</td>\n",
              "      <td>0</td>\n",
              "      <td>0</td>\n",
              "      <td>0</td>\n",
              "      <td>0</td>\n",
              "      <td>0</td>\n",
              "      <td>1</td>\n",
              "      <td>0</td>\n",
              "      <td>TCP</td>\n",
              "    </tr>\n",
              "    <tr>\n",
              "      <th>4937499</th>\n",
              "      <td>6.410</td>\n",
              "      <td>0</td>\n",
              "      <td>3.3</td>\n",
              "      <td>5</td>\n",
              "      <td>350</td>\n",
              "      <td>1</td>\n",
              "      <td>192</td>\n",
              "      <td>1</td>\n",
              "      <td>0</td>\n",
              "      <td>0</td>\n",
              "      <td>0</td>\n",
              "      <td>0</td>\n",
              "      <td>0</td>\n",
              "      <td>0</td>\n",
              "      <td>0</td>\n",
              "      <td>0</td>\n",
              "      <td>0</td>\n",
              "      <td>0</td>\n",
              "      <td>0</td>\n",
              "      <td>0</td>\n",
              "      <td>0</td>\n",
              "      <td>0</td>\n",
              "      <td>0</td>\n",
              "      <td>0</td>\n",
              "      <td>0</td>\n",
              "      <td>0</td>\n",
              "      <td>0</td>\n",
              "      <td>0</td>\n",
              "      <td>0</td>\n",
              "      <td>0</td>\n",
              "      <td>1</td>\n",
              "      <td>0</td>\n",
              "      <td>1</td>\n",
              "      <td>ICMP</td>\n",
              "    </tr>\n",
              "    <tr>\n",
              "      <th>658411</th>\n",
              "      <td>0.000</td>\n",
              "      <td>53</td>\n",
              "      <td>57615.0</td>\n",
              "      <td>1</td>\n",
              "      <td>91</td>\n",
              "      <td>1</td>\n",
              "      <td>0</td>\n",
              "      <td>1</td>\n",
              "      <td>0</td>\n",
              "      <td>0</td>\n",
              "      <td>0</td>\n",
              "      <td>0</td>\n",
              "      <td>0</td>\n",
              "      <td>0</td>\n",
              "      <td>0</td>\n",
              "      <td>0</td>\n",
              "      <td>0</td>\n",
              "      <td>0</td>\n",
              "      <td>0</td>\n",
              "      <td>0</td>\n",
              "      <td>0</td>\n",
              "      <td>0</td>\n",
              "      <td>0</td>\n",
              "      <td>0</td>\n",
              "      <td>0</td>\n",
              "      <td>0</td>\n",
              "      <td>0</td>\n",
              "      <td>0</td>\n",
              "      <td>0</td>\n",
              "      <td>0</td>\n",
              "      <td>0</td>\n",
              "      <td>1</td>\n",
              "      <td>0</td>\n",
              "      <td>UDP</td>\n",
              "    </tr>\n",
              "    <tr>\n",
              "      <th>2931232</th>\n",
              "      <td>0.000</td>\n",
              "      <td>46755</td>\n",
              "      <td>4129.0</td>\n",
              "      <td>1</td>\n",
              "      <td>58</td>\n",
              "      <td>1</td>\n",
              "      <td>0</td>\n",
              "      <td>0</td>\n",
              "      <td>0</td>\n",
              "      <td>1</td>\n",
              "      <td>0</td>\n",
              "      <td>0</td>\n",
              "      <td>0</td>\n",
              "      <td>0</td>\n",
              "      <td>0</td>\n",
              "      <td>0</td>\n",
              "      <td>0</td>\n",
              "      <td>0</td>\n",
              "      <td>0</td>\n",
              "      <td>0</td>\n",
              "      <td>0</td>\n",
              "      <td>0</td>\n",
              "      <td>0</td>\n",
              "      <td>0</td>\n",
              "      <td>0</td>\n",
              "      <td>0</td>\n",
              "      <td>0</td>\n",
              "      <td>0</td>\n",
              "      <td>0</td>\n",
              "      <td>1</td>\n",
              "      <td>0</td>\n",
              "      <td>0</td>\n",
              "      <td>1</td>\n",
              "      <td>TCP</td>\n",
              "    </tr>\n",
              "    <tr>\n",
              "      <th>608357</th>\n",
              "      <td>0.000</td>\n",
              "      <td>33411</td>\n",
              "      <td>443.0</td>\n",
              "      <td>1</td>\n",
              "      <td>66</td>\n",
              "      <td>1</td>\n",
              "      <td>0</td>\n",
              "      <td>0</td>\n",
              "      <td>0</td>\n",
              "      <td>0</td>\n",
              "      <td>0</td>\n",
              "      <td>0</td>\n",
              "      <td>1</td>\n",
              "      <td>0</td>\n",
              "      <td>0</td>\n",
              "      <td>0</td>\n",
              "      <td>0</td>\n",
              "      <td>0</td>\n",
              "      <td>0</td>\n",
              "      <td>0</td>\n",
              "      <td>0</td>\n",
              "      <td>0</td>\n",
              "      <td>0</td>\n",
              "      <td>0</td>\n",
              "      <td>0</td>\n",
              "      <td>0</td>\n",
              "      <td>0</td>\n",
              "      <td>0</td>\n",
              "      <td>0</td>\n",
              "      <td>0</td>\n",
              "      <td>0</td>\n",
              "      <td>1</td>\n",
              "      <td>0</td>\n",
              "      <td>TCP</td>\n",
              "    </tr>\n",
              "  </tbody>\n",
              "</table>\n",
              "<p>1182542 rows × 34 columns</p>\n",
              "</div>\n",
              "    <div class=\"colab-df-buttons\">\n",
              "\n",
              "  <div class=\"colab-df-container\">\n",
              "    <button class=\"colab-df-convert\" onclick=\"convertToInteractive('df-479e37b4-0986-45cb-b354-d45d343c84e4')\"\n",
              "            title=\"Convert this dataframe to an interactive table.\"\n",
              "            style=\"display:none;\">\n",
              "\n",
              "  <svg xmlns=\"http://www.w3.org/2000/svg\" height=\"24px\" viewBox=\"0 -960 960 960\">\n",
              "    <path d=\"M120-120v-720h720v720H120Zm60-500h600v-160H180v160Zm220 220h160v-160H400v160Zm0 220h160v-160H400v160ZM180-400h160v-160H180v160Zm440 0h160v-160H620v160ZM180-180h160v-160H180v160Zm440 0h160v-160H620v160Z\"/>\n",
              "  </svg>\n",
              "    </button>\n",
              "\n",
              "  <style>\n",
              "    .colab-df-container {\n",
              "      display:flex;\n",
              "      gap: 12px;\n",
              "    }\n",
              "\n",
              "    .colab-df-convert {\n",
              "      background-color: #E8F0FE;\n",
              "      border: none;\n",
              "      border-radius: 50%;\n",
              "      cursor: pointer;\n",
              "      display: none;\n",
              "      fill: #1967D2;\n",
              "      height: 32px;\n",
              "      padding: 0 0 0 0;\n",
              "      width: 32px;\n",
              "    }\n",
              "\n",
              "    .colab-df-convert:hover {\n",
              "      background-color: #E2EBFA;\n",
              "      box-shadow: 0px 1px 2px rgba(60, 64, 67, 0.3), 0px 1px 3px 1px rgba(60, 64, 67, 0.15);\n",
              "      fill: #174EA6;\n",
              "    }\n",
              "\n",
              "    .colab-df-buttons div {\n",
              "      margin-bottom: 4px;\n",
              "    }\n",
              "\n",
              "    [theme=dark] .colab-df-convert {\n",
              "      background-color: #3B4455;\n",
              "      fill: #D2E3FC;\n",
              "    }\n",
              "\n",
              "    [theme=dark] .colab-df-convert:hover {\n",
              "      background-color: #434B5C;\n",
              "      box-shadow: 0px 1px 3px 1px rgba(0, 0, 0, 0.15);\n",
              "      filter: drop-shadow(0px 1px 2px rgba(0, 0, 0, 0.3));\n",
              "      fill: #FFFFFF;\n",
              "    }\n",
              "  </style>\n",
              "\n",
              "    <script>\n",
              "      const buttonEl =\n",
              "        document.querySelector('#df-479e37b4-0986-45cb-b354-d45d343c84e4 button.colab-df-convert');\n",
              "      buttonEl.style.display =\n",
              "        google.colab.kernel.accessAllowed ? 'block' : 'none';\n",
              "\n",
              "      async function convertToInteractive(key) {\n",
              "        const element = document.querySelector('#df-479e37b4-0986-45cb-b354-d45d343c84e4');\n",
              "        const dataTable =\n",
              "          await google.colab.kernel.invokeFunction('convertToInteractive',\n",
              "                                                    [key], {});\n",
              "        if (!dataTable) return;\n",
              "\n",
              "        const docLinkHtml = 'Like what you see? Visit the ' +\n",
              "          '<a target=\"_blank\" href=https://colab.research.google.com/notebooks/data_table.ipynb>data table notebook</a>'\n",
              "          + ' to learn more about interactive tables.';\n",
              "        element.innerHTML = '';\n",
              "        dataTable['output_type'] = 'display_data';\n",
              "        await google.colab.output.renderOutput(dataTable, element);\n",
              "        const docLink = document.createElement('div');\n",
              "        docLink.innerHTML = docLinkHtml;\n",
              "        element.appendChild(docLink);\n",
              "      }\n",
              "    </script>\n",
              "  </div>\n",
              "\n",
              "\n",
              "<div id=\"df-91db0053-53ad-4541-8e4a-a9fa5ddaf0c0\">\n",
              "  <button class=\"colab-df-quickchart\" onclick=\"quickchart('df-91db0053-53ad-4541-8e4a-a9fa5ddaf0c0')\"\n",
              "            title=\"Suggest charts.\"\n",
              "            style=\"display:none;\">\n",
              "\n",
              "<svg xmlns=\"http://www.w3.org/2000/svg\" height=\"24px\"viewBox=\"0 0 24 24\"\n",
              "     width=\"24px\">\n",
              "    <g>\n",
              "        <path d=\"M19 3H5c-1.1 0-2 .9-2 2v14c0 1.1.9 2 2 2h14c1.1 0 2-.9 2-2V5c0-1.1-.9-2-2-2zM9 17H7v-7h2v7zm4 0h-2V7h2v10zm4 0h-2v-4h2v4z\"/>\n",
              "    </g>\n",
              "</svg>\n",
              "  </button>\n",
              "\n",
              "<style>\n",
              "  .colab-df-quickchart {\n",
              "      --bg-color: #E8F0FE;\n",
              "      --fill-color: #1967D2;\n",
              "      --hover-bg-color: #E2EBFA;\n",
              "      --hover-fill-color: #174EA6;\n",
              "      --disabled-fill-color: #AAA;\n",
              "      --disabled-bg-color: #DDD;\n",
              "  }\n",
              "\n",
              "  [theme=dark] .colab-df-quickchart {\n",
              "      --bg-color: #3B4455;\n",
              "      --fill-color: #D2E3FC;\n",
              "      --hover-bg-color: #434B5C;\n",
              "      --hover-fill-color: #FFFFFF;\n",
              "      --disabled-bg-color: #3B4455;\n",
              "      --disabled-fill-color: #666;\n",
              "  }\n",
              "\n",
              "  .colab-df-quickchart {\n",
              "    background-color: var(--bg-color);\n",
              "    border: none;\n",
              "    border-radius: 50%;\n",
              "    cursor: pointer;\n",
              "    display: none;\n",
              "    fill: var(--fill-color);\n",
              "    height: 32px;\n",
              "    padding: 0;\n",
              "    width: 32px;\n",
              "  }\n",
              "\n",
              "  .colab-df-quickchart:hover {\n",
              "    background-color: var(--hover-bg-color);\n",
              "    box-shadow: 0 1px 2px rgba(60, 64, 67, 0.3), 0 1px 3px 1px rgba(60, 64, 67, 0.15);\n",
              "    fill: var(--button-hover-fill-color);\n",
              "  }\n",
              "\n",
              "  .colab-df-quickchart-complete:disabled,\n",
              "  .colab-df-quickchart-complete:disabled:hover {\n",
              "    background-color: var(--disabled-bg-color);\n",
              "    fill: var(--disabled-fill-color);\n",
              "    box-shadow: none;\n",
              "  }\n",
              "\n",
              "  .colab-df-spinner {\n",
              "    border: 2px solid var(--fill-color);\n",
              "    border-color: transparent;\n",
              "    border-bottom-color: var(--fill-color);\n",
              "    animation:\n",
              "      spin 1s steps(1) infinite;\n",
              "  }\n",
              "\n",
              "  @keyframes spin {\n",
              "    0% {\n",
              "      border-color: transparent;\n",
              "      border-bottom-color: var(--fill-color);\n",
              "      border-left-color: var(--fill-color);\n",
              "    }\n",
              "    20% {\n",
              "      border-color: transparent;\n",
              "      border-left-color: var(--fill-color);\n",
              "      border-top-color: var(--fill-color);\n",
              "    }\n",
              "    30% {\n",
              "      border-color: transparent;\n",
              "      border-left-color: var(--fill-color);\n",
              "      border-top-color: var(--fill-color);\n",
              "      border-right-color: var(--fill-color);\n",
              "    }\n",
              "    40% {\n",
              "      border-color: transparent;\n",
              "      border-right-color: var(--fill-color);\n",
              "      border-top-color: var(--fill-color);\n",
              "    }\n",
              "    60% {\n",
              "      border-color: transparent;\n",
              "      border-right-color: var(--fill-color);\n",
              "    }\n",
              "    80% {\n",
              "      border-color: transparent;\n",
              "      border-right-color: var(--fill-color);\n",
              "      border-bottom-color: var(--fill-color);\n",
              "    }\n",
              "    90% {\n",
              "      border-color: transparent;\n",
              "      border-bottom-color: var(--fill-color);\n",
              "    }\n",
              "  }\n",
              "</style>\n",
              "\n",
              "  <script>\n",
              "    async function quickchart(key) {\n",
              "      const quickchartButtonEl =\n",
              "        document.querySelector('#' + key + ' button');\n",
              "      quickchartButtonEl.disabled = true;  // To prevent multiple clicks.\n",
              "      quickchartButtonEl.classList.add('colab-df-spinner');\n",
              "      try {\n",
              "        const charts = await google.colab.kernel.invokeFunction(\n",
              "            'suggestCharts', [key], {});\n",
              "      } catch (error) {\n",
              "        console.error('Error during call to suggestCharts:', error);\n",
              "      }\n",
              "      quickchartButtonEl.classList.remove('colab-df-spinner');\n",
              "      quickchartButtonEl.classList.add('colab-df-quickchart-complete');\n",
              "    }\n",
              "    (() => {\n",
              "      let quickchartButtonEl =\n",
              "        document.querySelector('#df-91db0053-53ad-4541-8e4a-a9fa5ddaf0c0 button');\n",
              "      quickchartButtonEl.style.display =\n",
              "        google.colab.kernel.accessAllowed ? 'block' : 'none';\n",
              "    })();\n",
              "  </script>\n",
              "</div>\n",
              "    </div>\n",
              "  </div>\n"
            ]
          },
          "metadata": {},
          "execution_count": 32
        }
      ],
      "source": [
        "train, test = train_test_split(final_df, test_size=0.3, random_state=42)\n",
        "train"
      ]
    },
    {
      "cell_type": "code",
      "execution_count": 33,
      "metadata": {
        "colab": {
          "base_uri": "https://localhost:8080/"
        },
        "id": "CSRFhttRX2YB",
        "outputId": "808491f3-9905-4102-cb7e-6ae3f405b783"
      },
      "outputs": [
        {
          "output_type": "execute_result",
          "data": {
            "text/plain": [
              "(716847, 34)"
            ]
          },
          "metadata": {},
          "execution_count": 33
        }
      ],
      "source": [
        "# @title drop tcp and udp of train\n",
        "\n",
        "train = train[(train['attackDescription_TCP'] != 1)]\n",
        "train.shape"
      ]
    },
    {
      "cell_type": "code",
      "execution_count": 34,
      "metadata": {
        "colab": {
          "base_uri": "https://localhost:8080/"
        },
        "id": "9fgUDIZ4OUJ_",
        "outputId": "36bed2e9-20cb-4bcb-e4e1-b83d81603777"
      },
      "outputs": [
        {
          "output_type": "execute_result",
          "data": {
            "text/plain": [
              "(619591, 34)"
            ]
          },
          "metadata": {},
          "execution_count": 34
        }
      ],
      "source": [
        "train = train[(train['attackDescription_UDP'] != 1)]\n",
        "train.shape"
      ]
    },
    {
      "cell_type": "code",
      "execution_count": 35,
      "metadata": {
        "colab": {
          "base_uri": "https://localhost:8080/"
        },
        "id": "mkK9WWRBcJod",
        "outputId": "f67a80d8-9480-4e6b-ab27-457621c4da7d"
      },
      "outputs": [
        {
          "output_type": "execute_result",
          "data": {
            "text/plain": [
              "array(['TCP  ', 'UDP  ', 'ICMP ', 'IGMP '], dtype=object)"
            ]
          },
          "metadata": {},
          "execution_count": 35
        }
      ],
      "source": [
        "train[\"Proto\"].unique()"
      ]
    },
    {
      "cell_type": "code",
      "execution_count": 36,
      "metadata": {
        "colab": {
          "base_uri": "https://localhost:8080/"
        },
        "id": "YNNsVrprX8ea",
        "outputId": "b361669a-fe2f-44c5-8175-ad67a9896441"
      },
      "outputs": [
        {
          "output_type": "execute_result",
          "data": {
            "text/plain": [
              "(618814, 34)"
            ]
          },
          "metadata": {},
          "execution_count": 36
        }
      ],
      "source": [
        "# @title drop tcp and udp protocol\n",
        "\n",
        "train = train.loc[~((train[\"Proto\"] == 'TCP  ') & (train[\"label\"] == 1))]\n",
        "train.shape"
      ]
    },
    {
      "cell_type": "code",
      "execution_count": 37,
      "metadata": {
        "colab": {
          "base_uri": "https://localhost:8080/"
        },
        "id": "ATB7IjhOOabr",
        "outputId": "ae9651b0-a562-4564-9b98-25a09971bb14"
      },
      "outputs": [
        {
          "output_type": "execute_result",
          "data": {
            "text/plain": [
              "(618742, 34)"
            ]
          },
          "metadata": {},
          "execution_count": 37
        }
      ],
      "source": [
        "train = train.loc[~((train[\"Proto\"] == 'UDP  ') & (train[\"label\"] == 1))]\n",
        "train.shape"
      ]
    },
    {
      "cell_type": "code",
      "execution_count": 38,
      "metadata": {
        "colab": {
          "base_uri": "https://localhost:8080/",
          "height": 461
        },
        "id": "OI4jhcIxX_9F",
        "outputId": "e06f7b29-c8ab-4bcc-e1e9-4531a8808884"
      },
      "outputs": [
        {
          "output_type": "execute_result",
          "data": {
            "text/plain": [
              "        Duration  Src Pt   Dst Pt  Packets  Bytes  Flows  Tos  Flags_......  \\\n",
              "0          0.000     443  60382.0        1     66      1   32             0   \n",
              "1          0.000      80  55252.0        1     66      1    0             0   \n",
              "2          0.021     443  54397.0        3    193      1    0             0   \n",
              "3          0.045      53  36795.0        2    380      1    0             1   \n",
              "4          0.000   52253     80.0        1     66      1    0             0   \n",
              "...          ...     ...      ...      ...    ...    ...  ...           ...   \n",
              "618737     0.000     445  59534.0        1    108      1    0             0   \n",
              "618738     0.000      80  59642.0        1     66      1   32             0   \n",
              "618739     0.026   62375    443.0        4    568      1    0             0   \n",
              "618740     0.000      53  57615.0        1     91      1    0             1   \n",
              "618741     0.000   33411    443.0        1     66      1    0             0   \n",
              "\n",
              "        Flags_.....F  Flags_....S.  Flags_...R..  Flags_...RS.  Flags_.A....  \\\n",
              "0                  0             0             0             0             0   \n",
              "1                  0             0             0             0             1   \n",
              "2                  0             0             0             0             0   \n",
              "3                  0             0             0             0             0   \n",
              "4                  0             1             0             0             0   \n",
              "...              ...           ...           ...           ...           ...   \n",
              "618737             0             0             0             0             0   \n",
              "618738             0             0             0             0             1   \n",
              "618739             0             0             0             0             0   \n",
              "618740             0             0             0             0             0   \n",
              "618741             0             0             0             0             1   \n",
              "\n",
              "        Flags_.A...F  Flags_.A..S.  Flags_.A..SF  Flags_.A.R..  Flags_.A.R.F  \\\n",
              "0                  1             0             0             0             0   \n",
              "1                  0             0             0             0             0   \n",
              "2                  0             0             0             0             0   \n",
              "3                  0             0             0             0             0   \n",
              "4                  0             0             0             0             0   \n",
              "...              ...           ...           ...           ...           ...   \n",
              "618737             0             0             0             0             0   \n",
              "618738             0             0             0             0             0   \n",
              "618739             0             0             0             0             0   \n",
              "618740             0             0             0             0             0   \n",
              "618741             0             0             0             0             0   \n",
              "\n",
              "        Flags_.A.RS.  Flags_.A.RSF  Flags_.AP...  Flags_.AP..F  Flags_.AP.S.  \\\n",
              "0                  0             0             0             0             0   \n",
              "1                  0             0             0             0             0   \n",
              "2                  0             0             0             1             0   \n",
              "3                  0             0             0             0             0   \n",
              "4                  0             0             0             0             0   \n",
              "...              ...           ...           ...           ...           ...   \n",
              "618737             0             0             1             0             0   \n",
              "618738             0             0             0             0             0   \n",
              "618739             0             0             1             0             0   \n",
              "618740             0             0             0             0             0   \n",
              "618741             0             0             0             0             0   \n",
              "\n",
              "        Flags_.AP.SF  Flags_.APR..  Flags_.APR.F  Flags_.APRS.  Flags_.APRSF  \\\n",
              "0                  0             0             0             0             0   \n",
              "1                  0             0             0             0             0   \n",
              "2                  0             0             0             0             0   \n",
              "3                  0             0             0             0             0   \n",
              "4                  0             0             0             0             0   \n",
              "...              ...           ...           ...           ...           ...   \n",
              "618737             0             0             0             0             0   \n",
              "618738             0             0             0             0             0   \n",
              "618739             0             0             0             0             0   \n",
              "618740             0             0             0             0             0   \n",
              "618741             0             0             0             0             0   \n",
              "\n",
              "        attackDescription_ICMP  attackDescription_TCP  attackDescription_UDP  \\\n",
              "0                            0                      0                      0   \n",
              "1                            0                      0                      0   \n",
              "2                            0                      0                      0   \n",
              "3                            0                      0                      0   \n",
              "4                            0                      0                      0   \n",
              "...                        ...                    ...                    ...   \n",
              "618737                       0                      0                      0   \n",
              "618738                       0                      0                      0   \n",
              "618739                       0                      0                      0   \n",
              "618740                       0                      0                      0   \n",
              "618741                       0                      0                      0   \n",
              "\n",
              "        attackDescription_normal  label  Proto  \n",
              "0                              1      0  TCP    \n",
              "1                              1      0  TCP    \n",
              "2                              1      0  TCP    \n",
              "3                              1      0  UDP    \n",
              "4                              1      0  TCP    \n",
              "...                          ...    ...    ...  \n",
              "618737                         1      0  TCP    \n",
              "618738                         1      0  TCP    \n",
              "618739                         1      0  TCP    \n",
              "618740                         1      0  UDP    \n",
              "618741                         1      0  TCP    \n",
              "\n",
              "[618742 rows x 34 columns]"
            ],
            "text/html": [
              "\n",
              "  <div id=\"df-2095389a-0ff7-40bb-8b2e-8cb30f4daddc\" class=\"colab-df-container\">\n",
              "    <div>\n",
              "<style scoped>\n",
              "    .dataframe tbody tr th:only-of-type {\n",
              "        vertical-align: middle;\n",
              "    }\n",
              "\n",
              "    .dataframe tbody tr th {\n",
              "        vertical-align: top;\n",
              "    }\n",
              "\n",
              "    .dataframe thead th {\n",
              "        text-align: right;\n",
              "    }\n",
              "</style>\n",
              "<table border=\"1\" class=\"dataframe\">\n",
              "  <thead>\n",
              "    <tr style=\"text-align: right;\">\n",
              "      <th></th>\n",
              "      <th>Duration</th>\n",
              "      <th>Src Pt</th>\n",
              "      <th>Dst Pt</th>\n",
              "      <th>Packets</th>\n",
              "      <th>Bytes</th>\n",
              "      <th>Flows</th>\n",
              "      <th>Tos</th>\n",
              "      <th>Flags_......</th>\n",
              "      <th>Flags_.....F</th>\n",
              "      <th>Flags_....S.</th>\n",
              "      <th>Flags_...R..</th>\n",
              "      <th>Flags_...RS.</th>\n",
              "      <th>Flags_.A....</th>\n",
              "      <th>Flags_.A...F</th>\n",
              "      <th>Flags_.A..S.</th>\n",
              "      <th>Flags_.A..SF</th>\n",
              "      <th>Flags_.A.R..</th>\n",
              "      <th>Flags_.A.R.F</th>\n",
              "      <th>Flags_.A.RS.</th>\n",
              "      <th>Flags_.A.RSF</th>\n",
              "      <th>Flags_.AP...</th>\n",
              "      <th>Flags_.AP..F</th>\n",
              "      <th>Flags_.AP.S.</th>\n",
              "      <th>Flags_.AP.SF</th>\n",
              "      <th>Flags_.APR..</th>\n",
              "      <th>Flags_.APR.F</th>\n",
              "      <th>Flags_.APRS.</th>\n",
              "      <th>Flags_.APRSF</th>\n",
              "      <th>attackDescription_ICMP</th>\n",
              "      <th>attackDescription_TCP</th>\n",
              "      <th>attackDescription_UDP</th>\n",
              "      <th>attackDescription_normal</th>\n",
              "      <th>label</th>\n",
              "      <th>Proto</th>\n",
              "    </tr>\n",
              "  </thead>\n",
              "  <tbody>\n",
              "    <tr>\n",
              "      <th>0</th>\n",
              "      <td>0.000</td>\n",
              "      <td>443</td>\n",
              "      <td>60382.0</td>\n",
              "      <td>1</td>\n",
              "      <td>66</td>\n",
              "      <td>1</td>\n",
              "      <td>32</td>\n",
              "      <td>0</td>\n",
              "      <td>0</td>\n",
              "      <td>0</td>\n",
              "      <td>0</td>\n",
              "      <td>0</td>\n",
              "      <td>0</td>\n",
              "      <td>1</td>\n",
              "      <td>0</td>\n",
              "      <td>0</td>\n",
              "      <td>0</td>\n",
              "      <td>0</td>\n",
              "      <td>0</td>\n",
              "      <td>0</td>\n",
              "      <td>0</td>\n",
              "      <td>0</td>\n",
              "      <td>0</td>\n",
              "      <td>0</td>\n",
              "      <td>0</td>\n",
              "      <td>0</td>\n",
              "      <td>0</td>\n",
              "      <td>0</td>\n",
              "      <td>0</td>\n",
              "      <td>0</td>\n",
              "      <td>0</td>\n",
              "      <td>1</td>\n",
              "      <td>0</td>\n",
              "      <td>TCP</td>\n",
              "    </tr>\n",
              "    <tr>\n",
              "      <th>1</th>\n",
              "      <td>0.000</td>\n",
              "      <td>80</td>\n",
              "      <td>55252.0</td>\n",
              "      <td>1</td>\n",
              "      <td>66</td>\n",
              "      <td>1</td>\n",
              "      <td>0</td>\n",
              "      <td>0</td>\n",
              "      <td>0</td>\n",
              "      <td>0</td>\n",
              "      <td>0</td>\n",
              "      <td>0</td>\n",
              "      <td>1</td>\n",
              "      <td>0</td>\n",
              "      <td>0</td>\n",
              "      <td>0</td>\n",
              "      <td>0</td>\n",
              "      <td>0</td>\n",
              "      <td>0</td>\n",
              "      <td>0</td>\n",
              "      <td>0</td>\n",
              "      <td>0</td>\n",
              "      <td>0</td>\n",
              "      <td>0</td>\n",
              "      <td>0</td>\n",
              "      <td>0</td>\n",
              "      <td>0</td>\n",
              "      <td>0</td>\n",
              "      <td>0</td>\n",
              "      <td>0</td>\n",
              "      <td>0</td>\n",
              "      <td>1</td>\n",
              "      <td>0</td>\n",
              "      <td>TCP</td>\n",
              "    </tr>\n",
              "    <tr>\n",
              "      <th>2</th>\n",
              "      <td>0.021</td>\n",
              "      <td>443</td>\n",
              "      <td>54397.0</td>\n",
              "      <td>3</td>\n",
              "      <td>193</td>\n",
              "      <td>1</td>\n",
              "      <td>0</td>\n",
              "      <td>0</td>\n",
              "      <td>0</td>\n",
              "      <td>0</td>\n",
              "      <td>0</td>\n",
              "      <td>0</td>\n",
              "      <td>0</td>\n",
              "      <td>0</td>\n",
              "      <td>0</td>\n",
              "      <td>0</td>\n",
              "      <td>0</td>\n",
              "      <td>0</td>\n",
              "      <td>0</td>\n",
              "      <td>0</td>\n",
              "      <td>0</td>\n",
              "      <td>1</td>\n",
              "      <td>0</td>\n",
              "      <td>0</td>\n",
              "      <td>0</td>\n",
              "      <td>0</td>\n",
              "      <td>0</td>\n",
              "      <td>0</td>\n",
              "      <td>0</td>\n",
              "      <td>0</td>\n",
              "      <td>0</td>\n",
              "      <td>1</td>\n",
              "      <td>0</td>\n",
              "      <td>TCP</td>\n",
              "    </tr>\n",
              "    <tr>\n",
              "      <th>3</th>\n",
              "      <td>0.045</td>\n",
              "      <td>53</td>\n",
              "      <td>36795.0</td>\n",
              "      <td>2</td>\n",
              "      <td>380</td>\n",
              "      <td>1</td>\n",
              "      <td>0</td>\n",
              "      <td>1</td>\n",
              "      <td>0</td>\n",
              "      <td>0</td>\n",
              "      <td>0</td>\n",
              "      <td>0</td>\n",
              "      <td>0</td>\n",
              "      <td>0</td>\n",
              "      <td>0</td>\n",
              "      <td>0</td>\n",
              "      <td>0</td>\n",
              "      <td>0</td>\n",
              "      <td>0</td>\n",
              "      <td>0</td>\n",
              "      <td>0</td>\n",
              "      <td>0</td>\n",
              "      <td>0</td>\n",
              "      <td>0</td>\n",
              "      <td>0</td>\n",
              "      <td>0</td>\n",
              "      <td>0</td>\n",
              "      <td>0</td>\n",
              "      <td>0</td>\n",
              "      <td>0</td>\n",
              "      <td>0</td>\n",
              "      <td>1</td>\n",
              "      <td>0</td>\n",
              "      <td>UDP</td>\n",
              "    </tr>\n",
              "    <tr>\n",
              "      <th>4</th>\n",
              "      <td>0.000</td>\n",
              "      <td>52253</td>\n",
              "      <td>80.0</td>\n",
              "      <td>1</td>\n",
              "      <td>66</td>\n",
              "      <td>1</td>\n",
              "      <td>0</td>\n",
              "      <td>0</td>\n",
              "      <td>0</td>\n",
              "      <td>1</td>\n",
              "      <td>0</td>\n",
              "      <td>0</td>\n",
              "      <td>0</td>\n",
              "      <td>0</td>\n",
              "      <td>0</td>\n",
              "      <td>0</td>\n",
              "      <td>0</td>\n",
              "      <td>0</td>\n",
              "      <td>0</td>\n",
              "      <td>0</td>\n",
              "      <td>0</td>\n",
              "      <td>0</td>\n",
              "      <td>0</td>\n",
              "      <td>0</td>\n",
              "      <td>0</td>\n",
              "      <td>0</td>\n",
              "      <td>0</td>\n",
              "      <td>0</td>\n",
              "      <td>0</td>\n",
              "      <td>0</td>\n",
              "      <td>0</td>\n",
              "      <td>1</td>\n",
              "      <td>0</td>\n",
              "      <td>TCP</td>\n",
              "    </tr>\n",
              "    <tr>\n",
              "      <th>...</th>\n",
              "      <td>...</td>\n",
              "      <td>...</td>\n",
              "      <td>...</td>\n",
              "      <td>...</td>\n",
              "      <td>...</td>\n",
              "      <td>...</td>\n",
              "      <td>...</td>\n",
              "      <td>...</td>\n",
              "      <td>...</td>\n",
              "      <td>...</td>\n",
              "      <td>...</td>\n",
              "      <td>...</td>\n",
              "      <td>...</td>\n",
              "      <td>...</td>\n",
              "      <td>...</td>\n",
              "      <td>...</td>\n",
              "      <td>...</td>\n",
              "      <td>...</td>\n",
              "      <td>...</td>\n",
              "      <td>...</td>\n",
              "      <td>...</td>\n",
              "      <td>...</td>\n",
              "      <td>...</td>\n",
              "      <td>...</td>\n",
              "      <td>...</td>\n",
              "      <td>...</td>\n",
              "      <td>...</td>\n",
              "      <td>...</td>\n",
              "      <td>...</td>\n",
              "      <td>...</td>\n",
              "      <td>...</td>\n",
              "      <td>...</td>\n",
              "      <td>...</td>\n",
              "      <td>...</td>\n",
              "    </tr>\n",
              "    <tr>\n",
              "      <th>618737</th>\n",
              "      <td>0.000</td>\n",
              "      <td>445</td>\n",
              "      <td>59534.0</td>\n",
              "      <td>1</td>\n",
              "      <td>108</td>\n",
              "      <td>1</td>\n",
              "      <td>0</td>\n",
              "      <td>0</td>\n",
              "      <td>0</td>\n",
              "      <td>0</td>\n",
              "      <td>0</td>\n",
              "      <td>0</td>\n",
              "      <td>0</td>\n",
              "      <td>0</td>\n",
              "      <td>0</td>\n",
              "      <td>0</td>\n",
              "      <td>0</td>\n",
              "      <td>0</td>\n",
              "      <td>0</td>\n",
              "      <td>0</td>\n",
              "      <td>1</td>\n",
              "      <td>0</td>\n",
              "      <td>0</td>\n",
              "      <td>0</td>\n",
              "      <td>0</td>\n",
              "      <td>0</td>\n",
              "      <td>0</td>\n",
              "      <td>0</td>\n",
              "      <td>0</td>\n",
              "      <td>0</td>\n",
              "      <td>0</td>\n",
              "      <td>1</td>\n",
              "      <td>0</td>\n",
              "      <td>TCP</td>\n",
              "    </tr>\n",
              "    <tr>\n",
              "      <th>618738</th>\n",
              "      <td>0.000</td>\n",
              "      <td>80</td>\n",
              "      <td>59642.0</td>\n",
              "      <td>1</td>\n",
              "      <td>66</td>\n",
              "      <td>1</td>\n",
              "      <td>32</td>\n",
              "      <td>0</td>\n",
              "      <td>0</td>\n",
              "      <td>0</td>\n",
              "      <td>0</td>\n",
              "      <td>0</td>\n",
              "      <td>1</td>\n",
              "      <td>0</td>\n",
              "      <td>0</td>\n",
              "      <td>0</td>\n",
              "      <td>0</td>\n",
              "      <td>0</td>\n",
              "      <td>0</td>\n",
              "      <td>0</td>\n",
              "      <td>0</td>\n",
              "      <td>0</td>\n",
              "      <td>0</td>\n",
              "      <td>0</td>\n",
              "      <td>0</td>\n",
              "      <td>0</td>\n",
              "      <td>0</td>\n",
              "      <td>0</td>\n",
              "      <td>0</td>\n",
              "      <td>0</td>\n",
              "      <td>0</td>\n",
              "      <td>1</td>\n",
              "      <td>0</td>\n",
              "      <td>TCP</td>\n",
              "    </tr>\n",
              "    <tr>\n",
              "      <th>618739</th>\n",
              "      <td>0.026</td>\n",
              "      <td>62375</td>\n",
              "      <td>443.0</td>\n",
              "      <td>4</td>\n",
              "      <td>568</td>\n",
              "      <td>1</td>\n",
              "      <td>0</td>\n",
              "      <td>0</td>\n",
              "      <td>0</td>\n",
              "      <td>0</td>\n",
              "      <td>0</td>\n",
              "      <td>0</td>\n",
              "      <td>0</td>\n",
              "      <td>0</td>\n",
              "      <td>0</td>\n",
              "      <td>0</td>\n",
              "      <td>0</td>\n",
              "      <td>0</td>\n",
              "      <td>0</td>\n",
              "      <td>0</td>\n",
              "      <td>1</td>\n",
              "      <td>0</td>\n",
              "      <td>0</td>\n",
              "      <td>0</td>\n",
              "      <td>0</td>\n",
              "      <td>0</td>\n",
              "      <td>0</td>\n",
              "      <td>0</td>\n",
              "      <td>0</td>\n",
              "      <td>0</td>\n",
              "      <td>0</td>\n",
              "      <td>1</td>\n",
              "      <td>0</td>\n",
              "      <td>TCP</td>\n",
              "    </tr>\n",
              "    <tr>\n",
              "      <th>618740</th>\n",
              "      <td>0.000</td>\n",
              "      <td>53</td>\n",
              "      <td>57615.0</td>\n",
              "      <td>1</td>\n",
              "      <td>91</td>\n",
              "      <td>1</td>\n",
              "      <td>0</td>\n",
              "      <td>1</td>\n",
              "      <td>0</td>\n",
              "      <td>0</td>\n",
              "      <td>0</td>\n",
              "      <td>0</td>\n",
              "      <td>0</td>\n",
              "      <td>0</td>\n",
              "      <td>0</td>\n",
              "      <td>0</td>\n",
              "      <td>0</td>\n",
              "      <td>0</td>\n",
              "      <td>0</td>\n",
              "      <td>0</td>\n",
              "      <td>0</td>\n",
              "      <td>0</td>\n",
              "      <td>0</td>\n",
              "      <td>0</td>\n",
              "      <td>0</td>\n",
              "      <td>0</td>\n",
              "      <td>0</td>\n",
              "      <td>0</td>\n",
              "      <td>0</td>\n",
              "      <td>0</td>\n",
              "      <td>0</td>\n",
              "      <td>1</td>\n",
              "      <td>0</td>\n",
              "      <td>UDP</td>\n",
              "    </tr>\n",
              "    <tr>\n",
              "      <th>618741</th>\n",
              "      <td>0.000</td>\n",
              "      <td>33411</td>\n",
              "      <td>443.0</td>\n",
              "      <td>1</td>\n",
              "      <td>66</td>\n",
              "      <td>1</td>\n",
              "      <td>0</td>\n",
              "      <td>0</td>\n",
              "      <td>0</td>\n",
              "      <td>0</td>\n",
              "      <td>0</td>\n",
              "      <td>0</td>\n",
              "      <td>1</td>\n",
              "      <td>0</td>\n",
              "      <td>0</td>\n",
              "      <td>0</td>\n",
              "      <td>0</td>\n",
              "      <td>0</td>\n",
              "      <td>0</td>\n",
              "      <td>0</td>\n",
              "      <td>0</td>\n",
              "      <td>0</td>\n",
              "      <td>0</td>\n",
              "      <td>0</td>\n",
              "      <td>0</td>\n",
              "      <td>0</td>\n",
              "      <td>0</td>\n",
              "      <td>0</td>\n",
              "      <td>0</td>\n",
              "      <td>0</td>\n",
              "      <td>0</td>\n",
              "      <td>1</td>\n",
              "      <td>0</td>\n",
              "      <td>TCP</td>\n",
              "    </tr>\n",
              "  </tbody>\n",
              "</table>\n",
              "<p>618742 rows × 34 columns</p>\n",
              "</div>\n",
              "    <div class=\"colab-df-buttons\">\n",
              "\n",
              "  <div class=\"colab-df-container\">\n",
              "    <button class=\"colab-df-convert\" onclick=\"convertToInteractive('df-2095389a-0ff7-40bb-8b2e-8cb30f4daddc')\"\n",
              "            title=\"Convert this dataframe to an interactive table.\"\n",
              "            style=\"display:none;\">\n",
              "\n",
              "  <svg xmlns=\"http://www.w3.org/2000/svg\" height=\"24px\" viewBox=\"0 -960 960 960\">\n",
              "    <path d=\"M120-120v-720h720v720H120Zm60-500h600v-160H180v160Zm220 220h160v-160H400v160Zm0 220h160v-160H400v160ZM180-400h160v-160H180v160Zm440 0h160v-160H620v160ZM180-180h160v-160H180v160Zm440 0h160v-160H620v160Z\"/>\n",
              "  </svg>\n",
              "    </button>\n",
              "\n",
              "  <style>\n",
              "    .colab-df-container {\n",
              "      display:flex;\n",
              "      gap: 12px;\n",
              "    }\n",
              "\n",
              "    .colab-df-convert {\n",
              "      background-color: #E8F0FE;\n",
              "      border: none;\n",
              "      border-radius: 50%;\n",
              "      cursor: pointer;\n",
              "      display: none;\n",
              "      fill: #1967D2;\n",
              "      height: 32px;\n",
              "      padding: 0 0 0 0;\n",
              "      width: 32px;\n",
              "    }\n",
              "\n",
              "    .colab-df-convert:hover {\n",
              "      background-color: #E2EBFA;\n",
              "      box-shadow: 0px 1px 2px rgba(60, 64, 67, 0.3), 0px 1px 3px 1px rgba(60, 64, 67, 0.15);\n",
              "      fill: #174EA6;\n",
              "    }\n",
              "\n",
              "    .colab-df-buttons div {\n",
              "      margin-bottom: 4px;\n",
              "    }\n",
              "\n",
              "    [theme=dark] .colab-df-convert {\n",
              "      background-color: #3B4455;\n",
              "      fill: #D2E3FC;\n",
              "    }\n",
              "\n",
              "    [theme=dark] .colab-df-convert:hover {\n",
              "      background-color: #434B5C;\n",
              "      box-shadow: 0px 1px 3px 1px rgba(0, 0, 0, 0.15);\n",
              "      filter: drop-shadow(0px 1px 2px rgba(0, 0, 0, 0.3));\n",
              "      fill: #FFFFFF;\n",
              "    }\n",
              "  </style>\n",
              "\n",
              "    <script>\n",
              "      const buttonEl =\n",
              "        document.querySelector('#df-2095389a-0ff7-40bb-8b2e-8cb30f4daddc button.colab-df-convert');\n",
              "      buttonEl.style.display =\n",
              "        google.colab.kernel.accessAllowed ? 'block' : 'none';\n",
              "\n",
              "      async function convertToInteractive(key) {\n",
              "        const element = document.querySelector('#df-2095389a-0ff7-40bb-8b2e-8cb30f4daddc');\n",
              "        const dataTable =\n",
              "          await google.colab.kernel.invokeFunction('convertToInteractive',\n",
              "                                                    [key], {});\n",
              "        if (!dataTable) return;\n",
              "\n",
              "        const docLinkHtml = 'Like what you see? Visit the ' +\n",
              "          '<a target=\"_blank\" href=https://colab.research.google.com/notebooks/data_table.ipynb>data table notebook</a>'\n",
              "          + ' to learn more about interactive tables.';\n",
              "        element.innerHTML = '';\n",
              "        dataTable['output_type'] = 'display_data';\n",
              "        await google.colab.output.renderOutput(dataTable, element);\n",
              "        const docLink = document.createElement('div');\n",
              "        docLink.innerHTML = docLinkHtml;\n",
              "        element.appendChild(docLink);\n",
              "      }\n",
              "    </script>\n",
              "  </div>\n",
              "\n",
              "\n",
              "<div id=\"df-79fe2d86-a358-4fa1-8829-691732f54507\">\n",
              "  <button class=\"colab-df-quickchart\" onclick=\"quickchart('df-79fe2d86-a358-4fa1-8829-691732f54507')\"\n",
              "            title=\"Suggest charts.\"\n",
              "            style=\"display:none;\">\n",
              "\n",
              "<svg xmlns=\"http://www.w3.org/2000/svg\" height=\"24px\"viewBox=\"0 0 24 24\"\n",
              "     width=\"24px\">\n",
              "    <g>\n",
              "        <path d=\"M19 3H5c-1.1 0-2 .9-2 2v14c0 1.1.9 2 2 2h14c1.1 0 2-.9 2-2V5c0-1.1-.9-2-2-2zM9 17H7v-7h2v7zm4 0h-2V7h2v10zm4 0h-2v-4h2v4z\"/>\n",
              "    </g>\n",
              "</svg>\n",
              "  </button>\n",
              "\n",
              "<style>\n",
              "  .colab-df-quickchart {\n",
              "      --bg-color: #E8F0FE;\n",
              "      --fill-color: #1967D2;\n",
              "      --hover-bg-color: #E2EBFA;\n",
              "      --hover-fill-color: #174EA6;\n",
              "      --disabled-fill-color: #AAA;\n",
              "      --disabled-bg-color: #DDD;\n",
              "  }\n",
              "\n",
              "  [theme=dark] .colab-df-quickchart {\n",
              "      --bg-color: #3B4455;\n",
              "      --fill-color: #D2E3FC;\n",
              "      --hover-bg-color: #434B5C;\n",
              "      --hover-fill-color: #FFFFFF;\n",
              "      --disabled-bg-color: #3B4455;\n",
              "      --disabled-fill-color: #666;\n",
              "  }\n",
              "\n",
              "  .colab-df-quickchart {\n",
              "    background-color: var(--bg-color);\n",
              "    border: none;\n",
              "    border-radius: 50%;\n",
              "    cursor: pointer;\n",
              "    display: none;\n",
              "    fill: var(--fill-color);\n",
              "    height: 32px;\n",
              "    padding: 0;\n",
              "    width: 32px;\n",
              "  }\n",
              "\n",
              "  .colab-df-quickchart:hover {\n",
              "    background-color: var(--hover-bg-color);\n",
              "    box-shadow: 0 1px 2px rgba(60, 64, 67, 0.3), 0 1px 3px 1px rgba(60, 64, 67, 0.15);\n",
              "    fill: var(--button-hover-fill-color);\n",
              "  }\n",
              "\n",
              "  .colab-df-quickchart-complete:disabled,\n",
              "  .colab-df-quickchart-complete:disabled:hover {\n",
              "    background-color: var(--disabled-bg-color);\n",
              "    fill: var(--disabled-fill-color);\n",
              "    box-shadow: none;\n",
              "  }\n",
              "\n",
              "  .colab-df-spinner {\n",
              "    border: 2px solid var(--fill-color);\n",
              "    border-color: transparent;\n",
              "    border-bottom-color: var(--fill-color);\n",
              "    animation:\n",
              "      spin 1s steps(1) infinite;\n",
              "  }\n",
              "\n",
              "  @keyframes spin {\n",
              "    0% {\n",
              "      border-color: transparent;\n",
              "      border-bottom-color: var(--fill-color);\n",
              "      border-left-color: var(--fill-color);\n",
              "    }\n",
              "    20% {\n",
              "      border-color: transparent;\n",
              "      border-left-color: var(--fill-color);\n",
              "      border-top-color: var(--fill-color);\n",
              "    }\n",
              "    30% {\n",
              "      border-color: transparent;\n",
              "      border-left-color: var(--fill-color);\n",
              "      border-top-color: var(--fill-color);\n",
              "      border-right-color: var(--fill-color);\n",
              "    }\n",
              "    40% {\n",
              "      border-color: transparent;\n",
              "      border-right-color: var(--fill-color);\n",
              "      border-top-color: var(--fill-color);\n",
              "    }\n",
              "    60% {\n",
              "      border-color: transparent;\n",
              "      border-right-color: var(--fill-color);\n",
              "    }\n",
              "    80% {\n",
              "      border-color: transparent;\n",
              "      border-right-color: var(--fill-color);\n",
              "      border-bottom-color: var(--fill-color);\n",
              "    }\n",
              "    90% {\n",
              "      border-color: transparent;\n",
              "      border-bottom-color: var(--fill-color);\n",
              "    }\n",
              "  }\n",
              "</style>\n",
              "\n",
              "  <script>\n",
              "    async function quickchart(key) {\n",
              "      const quickchartButtonEl =\n",
              "        document.querySelector('#' + key + ' button');\n",
              "      quickchartButtonEl.disabled = true;  // To prevent multiple clicks.\n",
              "      quickchartButtonEl.classList.add('colab-df-spinner');\n",
              "      try {\n",
              "        const charts = await google.colab.kernel.invokeFunction(\n",
              "            'suggestCharts', [key], {});\n",
              "      } catch (error) {\n",
              "        console.error('Error during call to suggestCharts:', error);\n",
              "      }\n",
              "      quickchartButtonEl.classList.remove('colab-df-spinner');\n",
              "      quickchartButtonEl.classList.add('colab-df-quickchart-complete');\n",
              "    }\n",
              "    (() => {\n",
              "      let quickchartButtonEl =\n",
              "        document.querySelector('#df-79fe2d86-a358-4fa1-8829-691732f54507 button');\n",
              "      quickchartButtonEl.style.display =\n",
              "        google.colab.kernel.accessAllowed ? 'block' : 'none';\n",
              "    })();\n",
              "  </script>\n",
              "</div>\n",
              "    </div>\n",
              "  </div>\n"
            ]
          },
          "metadata": {},
          "execution_count": 38
        }
      ],
      "source": [
        "train = train.reset_index(drop=True)\n",
        "train"
      ]
    },
    {
      "cell_type": "code",
      "execution_count": 39,
      "metadata": {
        "id": "NB1HG443YCWi"
      },
      "outputs": [],
      "source": [
        "test = test.reset_index(drop=True)"
      ]
    },
    {
      "cell_type": "code",
      "execution_count": 40,
      "metadata": {
        "id": "5lmyemlsYdn_"
      },
      "outputs": [],
      "source": [
        "train = train.drop(\"Proto\", axis=1)\n",
        "test = test.drop(\"Proto\", axis=1)"
      ]
    },
    {
      "cell_type": "markdown",
      "metadata": {
        "id": "1SgLm1FSatah"
      },
      "source": [
        "# **MODEL**"
      ]
    },
    {
      "cell_type": "markdown",
      "metadata": {
        "id": "cpTV1Q_-1SJw"
      },
      "source": [
        "## **STEP 1**"
      ]
    },
    {
      "cell_type": "code",
      "execution_count": 41,
      "metadata": {
        "colab": {
          "base_uri": "https://localhost:8080/"
        },
        "id": "GZYWXF9amtq3",
        "outputId": "a661e4c5-be42-4494-a30c-5c6657d49721"
      },
      "outputs": [
        {
          "output_type": "stream",
          "name": "stdout",
          "text": [
            "<class 'pandas.core.frame.DataFrame'>\n",
            "RangeIndex: 618742 entries, 0 to 618741\n",
            "Data columns (total 28 columns):\n",
            " #   Column        Non-Null Count   Dtype  \n",
            "---  ------        --------------   -----  \n",
            " 0   Duration      618742 non-null  float64\n",
            " 1   Src Pt        618742 non-null  int64  \n",
            " 2   Dst Pt        618742 non-null  float64\n",
            " 3   Packets       618742 non-null  int64  \n",
            " 4   Bytes         618742 non-null  int64  \n",
            " 5   Flows         618742 non-null  int64  \n",
            " 6   Tos           618742 non-null  int64  \n",
            " 7   Flags_......  618742 non-null  uint8  \n",
            " 8   Flags_.....F  618742 non-null  uint8  \n",
            " 9   Flags_....S.  618742 non-null  uint8  \n",
            " 10  Flags_...R..  618742 non-null  uint8  \n",
            " 11  Flags_...RS.  618742 non-null  uint8  \n",
            " 12  Flags_.A....  618742 non-null  uint8  \n",
            " 13  Flags_.A...F  618742 non-null  uint8  \n",
            " 14  Flags_.A..S.  618742 non-null  uint8  \n",
            " 15  Flags_.A..SF  618742 non-null  uint8  \n",
            " 16  Flags_.A.R..  618742 non-null  uint8  \n",
            " 17  Flags_.A.R.F  618742 non-null  uint8  \n",
            " 18  Flags_.A.RS.  618742 non-null  uint8  \n",
            " 19  Flags_.A.RSF  618742 non-null  uint8  \n",
            " 20  Flags_.AP...  618742 non-null  uint8  \n",
            " 21  Flags_.AP..F  618742 non-null  uint8  \n",
            " 22  Flags_.AP.S.  618742 non-null  uint8  \n",
            " 23  Flags_.AP.SF  618742 non-null  uint8  \n",
            " 24  Flags_.APR..  618742 non-null  uint8  \n",
            " 25  Flags_.APR.F  618742 non-null  uint8  \n",
            " 26  Flags_.APRS.  618742 non-null  uint8  \n",
            " 27  Flags_.APRSF  618742 non-null  uint8  \n",
            "dtypes: float64(2), int64(5), uint8(21)\n",
            "memory usage: 45.4 MB\n"
          ]
        }
      ],
      "source": [
        "X_train = train.iloc[:, :-5]\n",
        "X_test = test.iloc[:, :-5]\n",
        "\n",
        "X_train.info()"
      ]
    },
    {
      "cell_type": "markdown",
      "metadata": {
        "id": "2qbZPUMK2bcp"
      },
      "source": [
        "### Round 1"
      ]
    },
    {
      "cell_type": "code",
      "execution_count": 42,
      "metadata": {
        "id": "JuQU4ARrYzCI"
      },
      "outputs": [],
      "source": [
        "#Detect icmp\n",
        "\n",
        "rf = RandomForestClassifier()\n",
        "clf_1 = rf.fit(X_train, train['attackDescription_ICMP'])"
      ]
    },
    {
      "cell_type": "code",
      "execution_count": 43,
      "metadata": {
        "id": "VusGiqiZrMl1"
      },
      "outputs": [],
      "source": [
        "start_time = time.time()\n",
        "y_pred_1 = clf_1.predict(X_test)\n",
        "end_time = time.time()\n",
        "execution_time_r1 = end_time - start_time"
      ]
    },
    {
      "cell_type": "code",
      "execution_count": 44,
      "metadata": {
        "colab": {
          "base_uri": "https://localhost:8080/"
        },
        "id": "ZTJN97hlD-Of",
        "outputId": "41c96502-0584-4cc2-fd0c-f7c3c5950be0"
      },
      "outputs": [
        {
          "output_type": "stream",
          "name": "stdout",
          "text": [
            "Scores of round 1:\n",
            "\tACC: 0.9675831287835139\n",
            "\tPPV: 0.5605891599820855\n",
            "\tTPR: 0.9543935084583512\n",
            "\tF1 : 0.5993062156939336\n",
            "\tAUC: 0.9543935084583511\n",
            "\tMCC: 0.33185129789593504\n",
            "\tFPR: 0.032291127671680436\n"
          ]
        }
      ],
      "source": [
        "cm = confusion_matrix(test['attackDescription_ICMP'], y_pred_1)\n",
        "\n",
        "acc = accuracy_score(test['attackDescription_ICMP'], y_pred_1)\n",
        "ppv = precision_score(test['attackDescription_ICMP'], y_pred_1, average='macro')\n",
        "f1 = f1_score(test['attackDescription_ICMP'], y_pred_1, average='macro')\n",
        "tpr = recall_score(test['attackDescription_ICMP'], y_pred_1, average='macro')\n",
        "fpr = cm[0, 1] / (cm[0, 0] + cm[0, 1])\n",
        "auc = roc_auc_score(test['attackDescription_ICMP'], y_pred_1)\n",
        "mcc = matthews_corrcoef(test['attackDescription_ICMP'], y_pred_1)\n",
        "# udr = sum(y_pred_1[Service_Scan_test_index] == test['attackDescription_TCP'][Service_Scan_test_index]) / len(Service_Scan_test_index)\n",
        "\n",
        "# model_pred['Tabnet'] = y_pred_1\n",
        "# model_acc['Tabnet'] = acc\n",
        "# model_ppv['Tabnet'] = ppv\n",
        "# model_f1['Tabnet'] = f1\n",
        "# model_tpr['Tabnet'] = tpr\n",
        "# model_fpr['Tabnet'] = fpr\n",
        "# model_auc['Tabnet'] = auc\n",
        "# model_mcc['Tabnet'] = mcc\n",
        "# model_udr['Tabnet'] = udr\n",
        "\n",
        "print('Scores of round 1:')\n",
        "# print(f'\\tUDR: {udr} ({sum(y_pred_1[Service_Scan_test_index] == test['attackDescription_TCP'][Service_Scan_test_index])} / {len(Service_Scan_test_index)})')\n",
        "print(f'\\tACC: {acc}')\n",
        "print(f'\\tPPV: {ppv}')\n",
        "print(f'\\tTPR: {tpr}')\n",
        "print(f'\\tF1 : {f1}')\n",
        "print(f'\\tAUC: {auc}')\n",
        "print(f'\\tMCC: {mcc}')\n",
        "print(f'\\tFPR: {fpr}')"
      ]
    },
    {
      "cell_type": "code",
      "execution_count": 45,
      "metadata": {
        "colab": {
          "base_uri": "https://localhost:8080/"
        },
        "id": "cEoXDn9HFs_F",
        "outputId": "8d131f59-ac27-4727-d82a-25b35b46cea7"
      },
      "outputs": [
        {
          "output_type": "stream",
          "name": "stdout",
          "text": [
            "[[488123  16288]\n",
            " [   141   2252]]\n"
          ]
        }
      ],
      "source": [
        "print(confusion_matrix(test['attackDescription_ICMP'], y_pred_1))"
      ]
    },
    {
      "cell_type": "code",
      "execution_count": 46,
      "metadata": {
        "colab": {
          "base_uri": "https://localhost:8080/"
        },
        "id": "63VbAYWxF2do",
        "outputId": "f7bab73f-82da-4297-a69a-7d4fdcb2e54b"
      },
      "outputs": [
        {
          "output_type": "stream",
          "name": "stdout",
          "text": [
            "              precision    recall  f1-score   support\n",
            "\n",
            "           0       1.00      0.97      0.98    504411\n",
            "           1       0.12      0.94      0.22      2393\n",
            "\n",
            "    accuracy                           0.97    506804\n",
            "   macro avg       0.56      0.95      0.60    506804\n",
            "weighted avg       1.00      0.97      0.98    506804\n",
            "\n"
          ]
        }
      ],
      "source": [
        "print(classification_report(test['attackDescription_ICMP'], y_pred_1))"
      ]
    },
    {
      "cell_type": "code",
      "execution_count": 47,
      "metadata": {
        "colab": {
          "base_uri": "https://localhost:8080/"
        },
        "id": "3-fUpbVogjsb",
        "outputId": "b271dd23-3f40-4e44-f801-17b2d6c80897"
      },
      "outputs": [
        {
          "output_type": "stream",
          "name": "stdout",
          "text": [
            "Int64Index([     0,      1,      2,      3,      4,      5,      6,      7,\n",
            "                 8,      9,\n",
            "            ...\n",
            "            506793, 506794, 506795, 506796, 506797, 506798, 506799, 506800,\n",
            "            506802, 506803],\n",
            "           dtype='int64', length=488264)\n"
          ]
        }
      ],
      "source": [
        "remain_indices_1 = test.index[np.where(y_pred_1 == 0)[0]]\n",
        "print(remain_indices_1)"
      ]
    },
    {
      "cell_type": "code",
      "execution_count": 48,
      "metadata": {
        "colab": {
          "base_uri": "https://localhost:8080/"
        },
        "id": "N4ApsJKFj9fl",
        "outputId": "aee94e1c-2d81-41a2-8c2c-e7243e5d27af"
      },
      "outputs": [
        {
          "output_type": "stream",
          "name": "stdout",
          "text": [
            "Int64Index([    45,    122,    123,    133,    135,    148,    158,    195,\n",
            "               211,    213,\n",
            "            ...\n",
            "            506570, 506571, 506620, 506657, 506661, 506706, 506757, 506770,\n",
            "            506777, 506801],\n",
            "           dtype='int64', length=18540)\n"
          ]
        }
      ],
      "source": [
        "icmp_pred = test.index[np.where(y_pred_1 == 1)[0]]\n",
        "print(icmp_pred)"
      ]
    },
    {
      "cell_type": "markdown",
      "metadata": {
        "id": "HVFpvHYuX6IL"
      },
      "source": [
        "## **STEP 2**"
      ]
    },
    {
      "cell_type": "markdown",
      "metadata": {
        "id": "SJ3RgdABzbL2"
      },
      "source": [
        "## Outlier"
      ]
    },
    {
      "cell_type": "code",
      "execution_count": 49,
      "metadata": {
        "colab": {
          "base_uri": "https://localhost:8080/"
        },
        "id": "USODERe5ThMR",
        "outputId": "5414a0e1-8c16-41d8-df73-c58a9f9820a9"
      },
      "outputs": [
        {
          "output_type": "stream",
          "name": "stdout",
          "text": [
            "Collecting pyod\n",
            "  Downloading pyod-1.1.0.tar.gz (153 kB)\n",
            "\u001b[2K     \u001b[90m━━━━━━━━━━━━━━━━━━━━━━━━━━━━━━━━━━━━━━━\u001b[0m \u001b[32m153.4/153.4 kB\u001b[0m \u001b[31m2.7 MB/s\u001b[0m eta \u001b[36m0:00:00\u001b[0m\n",
            "\u001b[?25h  Preparing metadata (setup.py) ... \u001b[?25l\u001b[?25hdone\n",
            "Requirement already satisfied: joblib in /usr/local/lib/python3.10/dist-packages (from pyod) (1.3.2)\n",
            "Requirement already satisfied: matplotlib in /usr/local/lib/python3.10/dist-packages (from pyod) (3.7.1)\n",
            "Requirement already satisfied: numpy>=1.19 in /usr/local/lib/python3.10/dist-packages (from pyod) (1.23.5)\n",
            "Requirement already satisfied: numba>=0.51 in /usr/local/lib/python3.10/dist-packages (from pyod) (0.56.4)\n",
            "Requirement already satisfied: scipy>=1.5.1 in /usr/local/lib/python3.10/dist-packages (from pyod) (1.11.2)\n",
            "Requirement already satisfied: scikit_learn>=0.20.0 in /usr/local/lib/python3.10/dist-packages (from pyod) (1.2.2)\n",
            "Requirement already satisfied: six in /usr/local/lib/python3.10/dist-packages (from pyod) (1.16.0)\n",
            "Requirement already satisfied: llvmlite<0.40,>=0.39.0dev0 in /usr/local/lib/python3.10/dist-packages (from numba>=0.51->pyod) (0.39.1)\n",
            "Requirement already satisfied: setuptools in /usr/local/lib/python3.10/dist-packages (from numba>=0.51->pyod) (67.7.2)\n",
            "Requirement already satisfied: threadpoolctl>=2.0.0 in /usr/local/lib/python3.10/dist-packages (from scikit_learn>=0.20.0->pyod) (3.2.0)\n",
            "Requirement already satisfied: contourpy>=1.0.1 in /usr/local/lib/python3.10/dist-packages (from matplotlib->pyod) (1.1.0)\n",
            "Requirement already satisfied: cycler>=0.10 in /usr/local/lib/python3.10/dist-packages (from matplotlib->pyod) (0.11.0)\n",
            "Requirement already satisfied: fonttools>=4.22.0 in /usr/local/lib/python3.10/dist-packages (from matplotlib->pyod) (4.42.1)\n",
            "Requirement already satisfied: kiwisolver>=1.0.1 in /usr/local/lib/python3.10/dist-packages (from matplotlib->pyod) (1.4.5)\n",
            "Requirement already satisfied: packaging>=20.0 in /usr/local/lib/python3.10/dist-packages (from matplotlib->pyod) (23.1)\n",
            "Requirement already satisfied: pillow>=6.2.0 in /usr/local/lib/python3.10/dist-packages (from matplotlib->pyod) (9.4.0)\n",
            "Requirement already satisfied: pyparsing>=2.3.1 in /usr/local/lib/python3.10/dist-packages (from matplotlib->pyod) (3.1.1)\n",
            "Requirement already satisfied: python-dateutil>=2.7 in /usr/local/lib/python3.10/dist-packages (from matplotlib->pyod) (2.8.2)\n",
            "Building wheels for collected packages: pyod\n",
            "  Building wheel for pyod (setup.py) ... \u001b[?25l\u001b[?25hdone\n",
            "  Created wheel for pyod: filename=pyod-1.1.0-py3-none-any.whl size=185329 sha256=1f48983f887b43289f6efa2228c072890ac4d83a978926b8049d6568f4bf0af3\n",
            "  Stored in directory: /root/.cache/pip/wheels/36/8e/e2/e932956b10b843eb6be9eefa70b5c1bee7b561be14c423b136\n",
            "Successfully built pyod\n",
            "Installing collected packages: pyod\n",
            "Successfully installed pyod-1.1.0\n"
          ]
        }
      ],
      "source": [
        "%pip install pyod"
      ]
    },
    {
      "cell_type": "markdown",
      "metadata": {
        "id": "xtOSM0ej5DuD"
      },
      "source": [
        "### LOF"
      ]
    },
    {
      "cell_type": "code",
      "execution_count": 50,
      "metadata": {
        "id": "pIWik-5IkYuK"
      },
      "outputs": [],
      "source": [
        "train_lof = train[(train['label'] == 0)]\n",
        "X_train_lof = train_lof.iloc[:, :-5]"
      ]
    },
    {
      "cell_type": "code",
      "execution_count": 51,
      "metadata": {
        "id": "nc58J62zkZPb"
      },
      "outputs": [],
      "source": [
        "X_test_2 = X_test.loc[remain_indices_1]\n",
        "test_2 = test.loc[remain_indices_1]"
      ]
    },
    {
      "cell_type": "code",
      "execution_count": 52,
      "metadata": {
        "id": "MK1mAr6M5emo"
      },
      "outputs": [],
      "source": [
        "# # train an LOF detector\n",
        "# from pyod.models.ecod import ECOD\n",
        "# from pyod.models.abod import ABOD\n",
        "# from pyod.models.alad import ALAD\n",
        "# from pyod.models.anogan import AnoGAN\n",
        "# from pyod.models.rod import ROD\n",
        "# from pyod.models.lof import LOF\n",
        "# from pyod.models.lscp import LSCP\n",
        "# from pyod.models.ocsvm import OCSVM\n",
        "# from pyod.models.cblof import CBLOF\n",
        "# from pyod.models.knn import KNN\n",
        "# from pyod.models.lunar import LUNAR\n",
        "# from pyod.models.inne import INNE\n",
        "# from pyod.models.auto_encoder import AutoEncoder\n",
        "# from pyod.models.iforest import IForest\n",
        "\n",
        "# # model_1 = OCSVM()\n",
        "# # model_2 = CBLOF()\n",
        "# # model_3 = KNN()\n",
        "\n",
        "# clf = LOF( contamination=0.05)\n",
        "# clf.fit(X_train_lof)\n",
        "\n",
        "# # get outlier scores\n",
        "# y_train_scores = clf.decision_scores_  # raw outlier scores on the train data\n",
        "# y_test_scores = clf.decision_function(X_test_2)  # predict raw outlier scores on test\n",
        "# print(f\"Train_score: {y_train_scores.mean()}\")\n",
        "# print(f\"Test_score: {y_test_scores.mean()}\")"
      ]
    },
    {
      "cell_type": "code",
      "execution_count": 53,
      "metadata": {
        "id": "iPK9NyyWGvYf"
      },
      "outputs": [],
      "source": [
        "from joblib import dump, load\n",
        "\n",
        "# save the model\n",
        "# dump(clf_lof, 'clf_lof_tcp_icmp.joblib')\n",
        "# load the model\n",
        "clf_lof = load('/content/drive/MyDrive/Colab Notebooks/data/CIDDS Data/clf_lof_tcp.joblib')"
      ]
    },
    {
      "cell_type": "code",
      "execution_count": 54,
      "metadata": {
        "colab": {
          "base_uri": "https://localhost:8080/"
        },
        "id": "Q5Cp878b5khb",
        "outputId": "4a1c0d38-fe5d-4f1f-d0a8-f932eb812eec"
      },
      "outputs": [
        {
          "output_type": "execute_result",
          "data": {
            "text/plain": [
              "0    269270\n",
              "1    218994\n",
              "dtype: int64"
            ]
          },
          "metadata": {},
          "execution_count": 54
        }
      ],
      "source": [
        "start_time = time.time()\n",
        "\n",
        "y_pred_lof = clf_lof.predict(X_test_2)\n",
        "\n",
        "end_time = time.time()\n",
        "execution_time_lof = end_time - start_time\n",
        "\n",
        "pd.DataFrame(y_pred_lof).value_counts()"
      ]
    },
    {
      "cell_type": "code",
      "execution_count": 55,
      "metadata": {
        "colab": {
          "base_uri": "https://localhost:8080/"
        },
        "id": "eIq3hppI5ruR",
        "outputId": "1d4f9bb0-6163-4c56-89dd-273d92566b1f"
      },
      "outputs": [
        {
          "output_type": "execute_result",
          "data": {
            "text/plain": [
              "1    262502\n",
              "0    225762\n",
              "Name: attackDescription_normal, dtype: int64"
            ]
          },
          "metadata": {},
          "execution_count": 55
        }
      ],
      "source": [
        "test_2['attackDescription_normal'].value_counts()"
      ]
    },
    {
      "cell_type": "code",
      "execution_count": 56,
      "metadata": {
        "colab": {
          "base_uri": "https://localhost:8080/"
        },
        "id": "tdIRrEWo5vA9",
        "outputId": "925c0018-ecfd-45ee-f1f3-a930722558c5"
      },
      "outputs": [
        {
          "output_type": "execute_result",
          "data": {
            "text/plain": [
              "0    262502\n",
              "1    225762\n",
              "Name: attackDescription_normal, dtype: int64"
            ]
          },
          "metadata": {},
          "execution_count": 56
        }
      ],
      "source": [
        "true_abnormal_1 = test_2['attackDescription_normal'].copy()\n",
        "true_abnormal_1 = true_abnormal_1.replace({0: 1, 1: 0})\n",
        "true_abnormal_1.value_counts()"
      ]
    },
    {
      "cell_type": "code",
      "execution_count": 57,
      "metadata": {
        "colab": {
          "base_uri": "https://localhost:8080/"
        },
        "id": "udBGO-6F5v83",
        "outputId": "3fb14ad9-13cf-493f-ee65-2482cdf3f174"
      },
      "outputs": [
        {
          "output_type": "stream",
          "name": "stdout",
          "text": [
            "Scores of outlier:\n",
            "\tACC: 0.9326102272541085\n",
            "\tPPV: 0.9333306474932428\n",
            "\tTPR: 0.9311775414731613\n",
            "\tF1 : 0.9320708595361035\n",
            "\tAUC: 0.9311775414731615\n",
            "\tMCC: 0.864505507746734\n",
            "\tFPR: 0.049782477847787825\n"
          ]
        }
      ],
      "source": [
        "cm = confusion_matrix(true_abnormal_1, y_pred_lof)\n",
        "\n",
        "acc = accuracy_score(true_abnormal_1, y_pred_lof)\n",
        "ppv = precision_score(true_abnormal_1, y_pred_lof, average='macro')\n",
        "f1 = f1_score(true_abnormal_1, y_pred_lof, average='macro')\n",
        "tpr = recall_score(true_abnormal_1, y_pred_lof, average='macro')\n",
        "fpr = cm[0, 1] / (cm[0, 0] + cm[0, 1])\n",
        "auc = roc_auc_score(true_abnormal_1, y_pred_lof)\n",
        "mcc = matthews_corrcoef(true_abnormal_1, y_pred_lof)\n",
        "\n",
        "print('Scores of outlier:')\n",
        "print(f'\\tACC: {acc}')\n",
        "print(f'\\tPPV: {ppv}')\n",
        "print(f'\\tTPR: {tpr}')\n",
        "print(f'\\tF1 : {f1}')\n",
        "print(f'\\tAUC: {auc}')\n",
        "print(f'\\tMCC: {mcc}')\n",
        "print(f'\\tFPR: {fpr}')"
      ]
    },
    {
      "cell_type": "code",
      "execution_count": 58,
      "metadata": {
        "colab": {
          "base_uri": "https://localhost:8080/"
        },
        "id": "PCvusg-150ke",
        "outputId": "f863be5b-b052-46f9-d813-e947d380637f"
      },
      "outputs": [
        {
          "output_type": "stream",
          "name": "stdout",
          "text": [
            "[[249434  13068]\n",
            " [ 19836 205926]]\n"
          ]
        }
      ],
      "source": [
        "print(confusion_matrix(true_abnormal_1, y_pred_lof))"
      ]
    },
    {
      "cell_type": "code",
      "execution_count": 59,
      "metadata": {
        "colab": {
          "base_uri": "https://localhost:8080/"
        },
        "id": "HZEJpuEf53Bv",
        "outputId": "429d4253-5676-4898-957e-09da4e6f3e6e"
      },
      "outputs": [
        {
          "output_type": "stream",
          "name": "stdout",
          "text": [
            "              precision    recall  f1-score   support\n",
            "\n",
            "           0       0.93      0.95      0.94    262502\n",
            "           1       0.94      0.91      0.93    225762\n",
            "\n",
            "    accuracy                           0.93    488264\n",
            "   macro avg       0.93      0.93      0.93    488264\n",
            "weighted avg       0.93      0.93      0.93    488264\n",
            "\n"
          ]
        }
      ],
      "source": [
        "print(classification_report(true_abnormal_1, y_pred_lof))"
      ]
    },
    {
      "cell_type": "code",
      "execution_count": 60,
      "metadata": {
        "colab": {
          "base_uri": "https://localhost:8080/"
        },
        "id": "YDppQNWC6wYa",
        "outputId": "3e3e978f-8ca6-43da-9419-eb334385ca6a"
      },
      "outputs": [
        {
          "output_type": "stream",
          "name": "stdout",
          "text": [
            "Int64Index([     4,      5,      6,      7,      8,     11,     12,     13,\n",
            "                18,     19,\n",
            "            ...\n",
            "            506784, 506786, 506788, 506789, 506790, 506792, 506793, 506795,\n",
            "            506796, 506800],\n",
            "           dtype='int64', length=269270)\n"
          ]
        }
      ],
      "source": [
        "remain_indices_2 = test_2.index[np.where(y_pred_lof == 0)[0]]\n",
        "print(remain_indices_2)"
      ]
    },
    {
      "cell_type": "code",
      "execution_count": 61,
      "metadata": {
        "id": "zOSwxtip55N_"
      },
      "outputs": [],
      "source": [
        "novelty_pred_lof = true_abnormal_1.index[np.where(y_pred_lof == 1)[0]]"
      ]
    },
    {
      "cell_type": "code",
      "execution_count": 62,
      "metadata": {
        "colab": {
          "base_uri": "https://localhost:8080/"
        },
        "id": "udtJCN4xillj",
        "outputId": "bfb7659b-74aa-4154-9fae-cbade59114ab"
      },
      "outputs": [
        {
          "output_type": "stream",
          "name": "stdout",
          "text": [
            "Int64Index([     0,      1,      2,      3,      9,     10,     14,     15,\n",
            "                16,     17,\n",
            "            ...\n",
            "            506783, 506785, 506787, 506791, 506794, 506797, 506798, 506799,\n",
            "            506802, 506803],\n",
            "           dtype='int64', length=218994)\n"
          ]
        }
      ],
      "source": [
        "print(novelty_pred_lof)"
      ]
    },
    {
      "cell_type": "markdown",
      "metadata": {
        "id": "xdcYyKC-5JU7"
      },
      "source": [
        "### INNE"
      ]
    },
    {
      "cell_type": "code",
      "execution_count": 63,
      "metadata": {
        "id": "3AL1uLOW6WB8"
      },
      "outputs": [],
      "source": [
        "train_inne = train[(train['label'] == 0)]\n",
        "X_train_inne = train_inne.iloc[:, :-5]"
      ]
    },
    {
      "cell_type": "code",
      "execution_count": 64,
      "metadata": {
        "id": "ej8bLAOm6YaF"
      },
      "outputs": [],
      "source": [
        "X_test_3 = X_test.loc[remain_indices_2]\n",
        "test_3 = test.loc[remain_indices_2]"
      ]
    },
    {
      "cell_type": "code",
      "execution_count": 65,
      "metadata": {
        "id": "fGzOicfokbBU"
      },
      "outputs": [],
      "source": [
        "# # train with INNE detector\n",
        "# from pyod.models.ecod import ECOD\n",
        "# from pyod.models.abod import ABOD\n",
        "# from pyod.models.alad import ALAD\n",
        "# from pyod.models.anogan import AnoGAN\n",
        "# from pyod.models.rod import ROD\n",
        "# from pyod.models.lof import LOF\n",
        "# from pyod.models.lscp import LSCP\n",
        "# from pyod.models.ocsvm import OCSVM\n",
        "# from pyod.models.cblof import CBLOF\n",
        "# from pyod.models.knn import KNN\n",
        "# from pyod.models.lunar import LUNAR\n",
        "# from pyod.models.inne import INNE\n",
        "# from pyod.models.auto_encoder import AutoEncoder\n",
        "# from pyod.models.iforest import IForest\n",
        "\n",
        "# # model_1 = OCSVM()\n",
        "# # model_2 = CBLOF()\n",
        "# # model_3 = KNN()\n",
        "\n",
        "# clf = INNE( contamination=0.05)\n",
        "# clf.fit(X_train_inne)\n",
        "\n",
        "# # get outlier scores\n",
        "# y_train_scores = clf.decision_scores_  # raw outlier scores on the train data\n",
        "# y_test_scores = clf.decision_function(X_test_3)  # predict raw outlier scores on test\n",
        "# print(f\"Train_score: {y_train_scores.mean()}\")\n",
        "# print(f\"Test_score: {y_test_scores.mean()}\")"
      ]
    },
    {
      "cell_type": "code",
      "execution_count": 66,
      "metadata": {
        "id": "Mn5G6IZtG9U9"
      },
      "outputs": [],
      "source": [
        "from joblib import dump, load\n",
        "\n",
        "# save the model\n",
        "# dump(clf_inne, 'clf_inne_tcp_icmp.joblib')\n",
        "# load the model\n",
        "clf_inne = load('/content/drive/MyDrive/Colab Notebooks/data/CIDDS Data/clf_inne_tcp.joblib')"
      ]
    },
    {
      "cell_type": "code",
      "execution_count": 67,
      "metadata": {
        "colab": {
          "base_uri": "https://localhost:8080/"
        },
        "id": "T1IagO16kdMT",
        "outputId": "cd52f061-68ee-4b8c-f6ae-84804d3e5fea"
      },
      "outputs": [
        {
          "output_type": "execute_result",
          "data": {
            "text/plain": [
              "0    254565\n",
              "1     14705\n",
              "dtype: int64"
            ]
          },
          "metadata": {},
          "execution_count": 67
        }
      ],
      "source": [
        "start_time = time.time()\n",
        "\n",
        "y_pred_inne = clf_inne.predict(X_test_3)\n",
        "\n",
        "end_time = time.time()\n",
        "execution_time_inne = end_time - start_time\n",
        "\n",
        "pd.DataFrame(y_pred_inne).value_counts()"
      ]
    },
    {
      "cell_type": "code",
      "execution_count": 68,
      "metadata": {
        "colab": {
          "base_uri": "https://localhost:8080/"
        },
        "id": "sC1mJSOwkfZx",
        "outputId": "8aa11ed8-6849-431d-a002-9c4f0c20f705"
      },
      "outputs": [
        {
          "output_type": "execute_result",
          "data": {
            "text/plain": [
              "1    249434\n",
              "0     19836\n",
              "Name: attackDescription_normal, dtype: int64"
            ]
          },
          "metadata": {},
          "execution_count": 68
        }
      ],
      "source": [
        "test_3['attackDescription_normal'].value_counts()"
      ]
    },
    {
      "cell_type": "code",
      "execution_count": 69,
      "metadata": {
        "colab": {
          "base_uri": "https://localhost:8080/"
        },
        "id": "zpXPgzhikhk9",
        "outputId": "22bb0f8e-24ee-454e-8315-5c47b93ee402"
      },
      "outputs": [
        {
          "output_type": "execute_result",
          "data": {
            "text/plain": [
              "0    249434\n",
              "1     19836\n",
              "Name: attackDescription_normal, dtype: int64"
            ]
          },
          "metadata": {},
          "execution_count": 69
        }
      ],
      "source": [
        "true_abnormal_2 = test_3['attackDescription_normal'].copy()\n",
        "true_abnormal_2 = true_abnormal_2.replace({0: 1, 1: 0})\n",
        "true_abnormal_2.value_counts()\n"
      ]
    },
    {
      "cell_type": "code",
      "execution_count": 70,
      "metadata": {
        "colab": {
          "base_uri": "https://localhost:8080/"
        },
        "id": "TfxXDwvlkwd8",
        "outputId": "c16c250f-3a81-4735-ada1-6c97e146a96a"
      },
      "outputs": [
        {
          "output_type": "stream",
          "name": "stdout",
          "text": [
            "Scores of outlier:\n",
            "\tACC: 0.8873806959557322\n",
            "\tPPV: 0.8723841011590512\n",
            "\tTPR: 0.8873806959557322\n",
            "\tF1 : 0.8795892686873434\n",
            "\tAUC: 0.5278845441995176\n",
            "\tMCC: 0.0641160206835615\n",
            "\tFPR: 0.050502337291628244\n"
          ]
        }
      ],
      "source": [
        "cm = confusion_matrix(true_abnormal_2, y_pred_inne)\n",
        "\n",
        "acc = accuracy_score(true_abnormal_2, y_pred_inne)\n",
        "ppv = precision_score(true_abnormal_2, y_pred_inne, average='weighted')\n",
        "f1 = f1_score(true_abnormal_2, y_pred_inne, average='weighted')\n",
        "tpr = recall_score(true_abnormal_2, y_pred_inne, average='weighted')\n",
        "fpr = cm[0, 1] / (cm[0, 0] + cm[0, 1])\n",
        "auc = roc_auc_score(true_abnormal_2, y_pred_inne)\n",
        "mcc = matthews_corrcoef(true_abnormal_2, y_pred_inne)\n",
        "\n",
        "print('Scores of outlier:')\n",
        "print(f'\\tACC: {acc}')\n",
        "print(f'\\tPPV: {ppv}')\n",
        "print(f'\\tTPR: {tpr}')\n",
        "print(f'\\tF1 : {f1}')\n",
        "print(f'\\tAUC: {auc}')\n",
        "print(f'\\tMCC: {mcc}')\n",
        "print(f'\\tFPR: {fpr}')"
      ]
    },
    {
      "cell_type": "code",
      "execution_count": 71,
      "metadata": {
        "colab": {
          "base_uri": "https://localhost:8080/"
        },
        "id": "wyIRcfEQkxGe",
        "outputId": "6483257a-7e3d-4828-d7e5-4d95138a0dd6"
      },
      "outputs": [
        {
          "output_type": "stream",
          "name": "stdout",
          "text": [
            "[[236837  12597]\n",
            " [ 17728   2108]]\n"
          ]
        }
      ],
      "source": [
        "print(confusion_matrix(true_abnormal_2, y_pred_inne))"
      ]
    },
    {
      "cell_type": "code",
      "execution_count": 72,
      "metadata": {
        "colab": {
          "base_uri": "https://localhost:8080/"
        },
        "id": "Ay4hJt8ik0Xb",
        "outputId": "900536a4-95c0-487e-f841-f5df3a85cc0c"
      },
      "outputs": [
        {
          "output_type": "stream",
          "name": "stdout",
          "text": [
            "              precision    recall  f1-score   support\n",
            "\n",
            "           0       0.93      0.95      0.94    249434\n",
            "           1       0.14      0.11      0.12     19836\n",
            "\n",
            "    accuracy                           0.89    269270\n",
            "   macro avg       0.54      0.53      0.53    269270\n",
            "weighted avg       0.87      0.89      0.88    269270\n",
            "\n"
          ]
        }
      ],
      "source": [
        "print(classification_report(true_abnormal_2, y_pred_inne))"
      ]
    },
    {
      "cell_type": "code",
      "execution_count": 73,
      "metadata": {
        "colab": {
          "base_uri": "https://localhost:8080/"
        },
        "id": "YPKCvoxek3LU",
        "outputId": "46491e2d-8323-42c9-d85b-c636e828c3b2"
      },
      "outputs": [
        {
          "output_type": "stream",
          "name": "stdout",
          "text": [
            "Int64Index([    26,     31,     33,     64,    257,    265,    299,    324,\n",
            "               370,    427,\n",
            "            ...\n",
            "            506295, 506358, 506410, 506580, 506674, 506684, 506724, 506730,\n",
            "            506775, 506784],\n",
            "           dtype='int64', length=14705)\n"
          ]
        }
      ],
      "source": [
        "novelty_pred_inne = true_abnormal_2.index[np.where(y_pred_inne == 1)[0]]\n",
        "print(novelty_pred_inne)"
      ]
    },
    {
      "cell_type": "code",
      "execution_count": 74,
      "metadata": {
        "colab": {
          "base_uri": "https://localhost:8080/"
        },
        "id": "m7UFjn_d_0TA",
        "outputId": "98a7078b-1719-4b24-b6a8-f2b79ecdf2f9"
      },
      "outputs": [
        {
          "output_type": "execute_result",
          "data": {
            "text/plain": [
              "Int64Index([     0,      1,      2,      3,      9,     10,     14,     15,\n",
              "                16,     17,\n",
              "            ...\n",
              "            506295, 506358, 506410, 506580, 506674, 506684, 506724, 506730,\n",
              "            506775, 506784],\n",
              "           dtype='int64', length=233699)"
            ]
          },
          "metadata": {},
          "execution_count": 74
        }
      ],
      "source": [
        "novelty_pred = novelty_pred_lof.append(novelty_pred_inne)\n",
        "novelty_pred"
      ]
    },
    {
      "cell_type": "markdown",
      "metadata": {
        "id": "fG-RWKfHk5FS"
      },
      "source": [
        "# **RESULT**"
      ]
    },
    {
      "cell_type": "markdown",
      "source": [
        "### Binary"
      ],
      "metadata": {
        "id": "qXszwWoQna2G"
      }
    },
    {
      "cell_type": "code",
      "execution_count": 75,
      "metadata": {
        "id": "II-HYAxUk6ee"
      },
      "outputs": [],
      "source": [
        "y_pred = np.zeros_like(y_pred_1)"
      ]
    },
    {
      "cell_type": "code",
      "execution_count": 76,
      "metadata": {
        "colab": {
          "base_uri": "https://localhost:8080/"
        },
        "id": "AI0qbkFbk9Mo",
        "outputId": "0e0d36e1-2810-482f-aae2-87dfdae539d3"
      },
      "outputs": [
        {
          "output_type": "execute_result",
          "data": {
            "text/plain": [
              "0    254565\n",
              "1    252239\n",
              "dtype: int64"
            ]
          },
          "metadata": {},
          "execution_count": 76
        }
      ],
      "source": [
        "y_pred[novelty_pred]=1\n",
        "y_pred[icmp_pred]=1\n",
        "\n",
        "pd.DataFrame(y_pred).value_counts()"
      ]
    },
    {
      "cell_type": "code",
      "execution_count": 77,
      "metadata": {
        "colab": {
          "base_uri": "https://localhost:8080/"
        },
        "id": "yJ5KErnG_5xY",
        "outputId": "b1e256ef-6370-4b10-9abe-e6ff5872f49a"
      },
      "outputs": [
        {
          "output_type": "execute_result",
          "data": {
            "text/plain": [
              "0         0\n",
              "1         1\n",
              "2         1\n",
              "3         1\n",
              "4         0\n",
              "         ..\n",
              "506799    1\n",
              "506800    0\n",
              "506801    0\n",
              "506802    0\n",
              "506803    0\n",
              "Name: attackDescription_TCP, Length: 506804, dtype: uint8"
            ]
          },
          "metadata": {},
          "execution_count": 77
        }
      ],
      "source": [
        "test_series_1 = pd.Series(test['attackDescription_TCP'])\n",
        "test_series_1"
      ]
    },
    {
      "cell_type": "code",
      "execution_count": 78,
      "metadata": {
        "id": "yBN8FtHi_5xY"
      },
      "outputs": [],
      "source": [
        "tcp_indices = np.where(test_series_1 == 1)[0]"
      ]
    },
    {
      "cell_type": "code",
      "execution_count": 79,
      "metadata": {
        "colab": {
          "base_uri": "https://localhost:8080/"
        },
        "id": "X9u8pWXyP24L",
        "outputId": "87798535-a331-495c-ebc9-f768e2ce9443"
      },
      "outputs": [
        {
          "output_type": "execute_result",
          "data": {
            "text/plain": [
              "0         1\n",
              "1         0\n",
              "2         0\n",
              "3         0\n",
              "4         0\n",
              "         ..\n",
              "506799    0\n",
              "506800    0\n",
              "506801    1\n",
              "506802    1\n",
              "506803    0\n",
              "Name: attackDescription_UDP, Length: 506804, dtype: uint8"
            ]
          },
          "metadata": {},
          "execution_count": 79
        }
      ],
      "source": [
        "test_series_2 = pd.Series(test['attackDescription_UDP'])\n",
        "test_series_2"
      ]
    },
    {
      "cell_type": "code",
      "execution_count": 80,
      "metadata": {
        "id": "Oa3u0W9-P3_b"
      },
      "outputs": [],
      "source": [
        "udp_indices = np.where(test_series_2 == 1)[0]"
      ]
    },
    {
      "cell_type": "code",
      "execution_count": 81,
      "metadata": {
        "colab": {
          "base_uri": "https://localhost:8080/"
        },
        "id": "u29RVKEXk_dZ",
        "outputId": "2e488617-958d-4de0-e0b5-799648459628"
      },
      "outputs": [
        {
          "output_type": "stream",
          "name": "stdout",
          "text": [
            "Scores of hybrid_model:\n",
            "\tUDR_TCP: 0.9162323045370416 (183164 / 199910)\n",
            "\tUDR_UDP: 0.9787841988713479 (41106 / 41997)\n",
            "\tACC: 0.9148112485300037\n",
            "\tPPV: 0.9147397225009023\n",
            "\tTPR: 0.9152389581500656\n",
            "\tF1 : 0.9147778960921005\n",
            "\tAUC: 0.9152389581500656\n",
            "\tMCC: 0.8299785305047883\n",
            "\tFPR: 0.09698968600461365\n"
          ]
        }
      ],
      "source": [
        "cm = confusion_matrix(test['label'], y_pred)\n",
        "\n",
        "acc = accuracy_score(test['label'], y_pred)\n",
        "ppv = precision_score(test['label'], y_pred, average='macro')\n",
        "f1 = f1_score(test['label'], y_pred, average='macro')\n",
        "tpr = recall_score(test['label'], y_pred, average='macro')\n",
        "fpr = cm[0, 1] / (cm[0, 0] + cm[0, 1])\n",
        "auc = roc_auc_score(test['label'], y_pred)\n",
        "mcc = matthews_corrcoef(test['label'], y_pred)\n",
        "\n",
        "num_detec_tcp = sum(y_pred[tcp_indices] == 1)\n",
        "num_TCP = sum(test['attackDescription_TCP'])\n",
        "udr_tcp = num_detec_tcp / num_TCP\n",
        "\n",
        "num_detec_udp = sum(y_pred[udp_indices] == 1)\n",
        "num_UDP = sum(test['attackDescription_UDP'])\n",
        "udr_udp = num_detec_udp / num_UDP\n",
        "\n",
        "# model_pred['Tabnet'] = y_pred\n",
        "# model_acc['Tabnet'] = acc\n",
        "# model_ppv['Tabnet'] = ppv\n",
        "# model_f1['Tabnet'] = f1\n",
        "# model_tpr['Tabnet'] = tpr\n",
        "# model_fpr['Tabnet'] = fpr\n",
        "# model_auc['Tabnet'] = auc\n",
        "# model_mcc['Tabnet'] = mcc\n",
        "# model_udr['Tabnet'] = udr\n",
        "\n",
        "print('Scores of hybrid_model:')\n",
        "print(f'\\tUDR_TCP: {udr_tcp} ({num_detec_tcp} / {num_TCP})')\n",
        "print(f'\\tUDR_UDP: {udr_udp} ({num_detec_udp} / {num_UDP})')\n",
        "print(f'\\tACC: {acc}')\n",
        "print(f'\\tPPV: {ppv}')\n",
        "print(f'\\tTPR: {tpr}')\n",
        "print(f'\\tF1 : {f1}')\n",
        "print(f'\\tAUC: {auc}')\n",
        "print(f'\\tMCC: {mcc}')\n",
        "print(f'\\tFPR: {fpr}')"
      ]
    },
    {
      "cell_type": "code",
      "execution_count": 82,
      "metadata": {
        "colab": {
          "base_uri": "https://localhost:8080/"
        },
        "id": "ZdSwK4tulNyw",
        "outputId": "8c772ba2-02ff-42a0-e798-32f1ace3126c"
      },
      "outputs": [
        {
          "output_type": "stream",
          "name": "stdout",
          "text": [
            "[[236828  25437]\n",
            " [ 17737 226802]]\n"
          ]
        }
      ],
      "source": [
        "print(confusion_matrix(test['label'], y_pred))"
      ]
    },
    {
      "cell_type": "code",
      "execution_count": 83,
      "metadata": {
        "colab": {
          "base_uri": "https://localhost:8080/"
        },
        "id": "arUu9wxWlOFo",
        "outputId": "83fb0380-d2e2-4eb6-e3b5-b16784028e7c"
      },
      "outputs": [
        {
          "output_type": "stream",
          "name": "stdout",
          "text": [
            "              precision    recall  f1-score   support\n",
            "\n",
            "           0       0.93      0.90      0.92    262265\n",
            "           1       0.90      0.93      0.91    244539\n",
            "\n",
            "    accuracy                           0.91    506804\n",
            "   macro avg       0.91      0.92      0.91    506804\n",
            "weighted avg       0.92      0.91      0.91    506804\n",
            "\n"
          ]
        }
      ],
      "source": [
        "print(classification_report(test['label'], y_pred))"
      ]
    },
    {
      "cell_type": "markdown",
      "source": [
        "### Multiclass"
      ],
      "metadata": {
        "id": "JoX2Ys2qnfJq"
      }
    },
    {
      "cell_type": "code",
      "source": [
        "y_pred_multi = np.zeros_like(y_pred_1)"
      ],
      "metadata": {
        "id": "0L06_xA8nii6"
      },
      "execution_count": 84,
      "outputs": []
    },
    {
      "cell_type": "code",
      "source": [
        "y_pred_multi[novelty_pred]=1\n",
        "y_pred_multi[icmp_pred]=2\n",
        "\n",
        "pd.DataFrame(y_pred_multi).value_counts()"
      ],
      "metadata": {
        "colab": {
          "base_uri": "https://localhost:8080/"
        },
        "id": "-gXAiNKpnp3h",
        "outputId": "c76842d2-fca9-404e-ba1f-ae222f37ba9d"
      },
      "execution_count": 85,
      "outputs": [
        {
          "output_type": "execute_result",
          "data": {
            "text/plain": [
              "0    254565\n",
              "1    233699\n",
              "2     18540\n",
              "dtype: int64"
            ]
          },
          "metadata": {},
          "execution_count": 85
        }
      ]
    },
    {
      "cell_type": "code",
      "source": [
        "label_multi = test['label'].copy()\n",
        "label_multi[test['attackDescription_ICMP'] == 1] = 2"
      ],
      "metadata": {
        "id": "iTIbaS-3nz7F"
      },
      "execution_count": 86,
      "outputs": []
    },
    {
      "cell_type": "code",
      "source": [
        "print(confusion_matrix(label_multi, y_pred_multi))"
      ],
      "metadata": {
        "colab": {
          "base_uri": "https://localhost:8080/"
        },
        "id": "IIj1UG4l9Frh",
        "outputId": "dfcf6a50-ca10-4137-8639-a0a8f8caa184"
      },
      "execution_count": 87,
      "outputs": [
        {
          "output_type": "stream",
          "name": "stdout",
          "text": [
            "[[236828  25436      1]\n",
            " [ 17646 208213  16287]\n",
            " [    91     50   2252]]\n"
          ]
        }
      ]
    },
    {
      "cell_type": "code",
      "source": [
        "print(classification_report(label_multi, y_pred_multi))"
      ],
      "metadata": {
        "id": "eXtAJ-z2DMml",
        "outputId": "4b0aa696-eacf-4f36-a5dc-8c239360a485",
        "colab": {
          "base_uri": "https://localhost:8080/"
        }
      },
      "execution_count": 88,
      "outputs": [
        {
          "output_type": "stream",
          "name": "stdout",
          "text": [
            "              precision    recall  f1-score   support\n",
            "\n",
            "           0       0.93      0.90      0.92    262265\n",
            "           1       0.89      0.86      0.88    242146\n",
            "           2       0.12      0.94      0.22      2393\n",
            "\n",
            "    accuracy                           0.88    506804\n",
            "   macro avg       0.65      0.90      0.67    506804\n",
            "weighted avg       0.91      0.88      0.89    506804\n",
            "\n"
          ]
        }
      ]
    },
    {
      "cell_type": "markdown",
      "source": [
        "### Time"
      ],
      "metadata": {
        "id": "J5aneJliniFi"
      }
    },
    {
      "cell_type": "code",
      "source": [
        "print(f'{len(X_test)/(execution_time_r1)} ({len(X_test)} / {execution_time_r1})')"
      ],
      "metadata": {
        "colab": {
          "base_uri": "https://localhost:8080/"
        },
        "id": "gRrxZdj29fKb",
        "outputId": "406ca2c0-663c-4084-d65f-70ef587a6a07"
      },
      "execution_count": 89,
      "outputs": [
        {
          "output_type": "stream",
          "name": "stdout",
          "text": [
            "187834.6718799125 (506804 / 2.69813871383667)\n"
          ]
        }
      ]
    },
    {
      "cell_type": "code",
      "source": [
        "print(f'{len(X_test_2)/(execution_time_lof)} ({len(X_test_2)} / {execution_time_lof})')"
      ],
      "metadata": {
        "colab": {
          "base_uri": "https://localhost:8080/"
        },
        "id": "sKNAfCBj9e5I",
        "outputId": "703a8e6d-016a-4102-f574-d687d3d8291f"
      },
      "execution_count": 90,
      "outputs": [
        {
          "output_type": "stream",
          "name": "stdout",
          "text": [
            "244.09507325711067 (488264 / 2000.3025603294373)\n"
          ]
        }
      ]
    },
    {
      "cell_type": "code",
      "source": [
        "print(f'{len(X_test_3)/(execution_time_inne)} ({len(X_test_3)} / {execution_time_inne})')"
      ],
      "metadata": {
        "colab": {
          "base_uri": "https://localhost:8080/"
        },
        "id": "1cdcm4dF9eYd",
        "outputId": "e89e6391-ac82-4659-ec5b-202ed59d61e8"
      },
      "execution_count": 91,
      "outputs": [
        {
          "output_type": "stream",
          "name": "stdout",
          "text": [
            "7990.856422226746 (269270 / 33.697264194488525)\n"
          ]
        }
      ]
    },
    {
      "cell_type": "code",
      "source": [
        "total_time = execution_time_r1+execution_time_lof+execution_time_inne"
      ],
      "metadata": {
        "id": "HegIQSBfoobE"
      },
      "execution_count": 92,
      "outputs": []
    },
    {
      "cell_type": "code",
      "source": [
        "print(f'{len(test)/(total_time)} ({len(test)} / {total_time})')"
      ],
      "metadata": {
        "colab": {
          "base_uri": "https://localhost:8080/"
        },
        "id": "a09X-ijVmMMs",
        "outputId": "ed489364-51ec-4f0a-8190-52776b6f74c6"
      },
      "execution_count": 93,
      "outputs": [
        {
          "output_type": "stream",
          "name": "stdout",
          "text": [
            "248.83611077723464 (506804 / 2036.6979632377625)\n"
          ]
        }
      ]
    }
  ],
  "metadata": {
    "colab": {
      "toc_visible": true,
      "provenance": []
    },
    "kernelspec": {
      "display_name": "Python 3",
      "name": "python3"
    },
    "language_info": {
      "name": "python"
    }
  },
  "nbformat": 4,
  "nbformat_minor": 0
}